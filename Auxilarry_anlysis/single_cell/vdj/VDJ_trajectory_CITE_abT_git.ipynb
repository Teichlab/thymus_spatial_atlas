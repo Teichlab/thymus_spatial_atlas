{
 "cells": [
  {
   "cell_type": "markdown",
   "id": "certain-mumbai",
   "metadata": {},
   "source": [
    "# Build neighbourhood VDJ feature space"
   ]
  },
  {
   "cell_type": "code",
   "execution_count": null,
   "id": "australian-bennett",
   "metadata": {
    "tags": []
   },
   "outputs": [],
   "source": [
    "import palantir"
   ]
  },
  {
   "cell_type": "code",
   "execution_count": null,
   "id": "living-banks",
   "metadata": {
    "tags": []
   },
   "outputs": [],
   "source": [
    "import dandelion as ddl"
   ]
  },
  {
   "cell_type": "code",
   "execution_count": null,
   "id": "specified-gates",
   "metadata": {
    "tags": []
   },
   "outputs": [],
   "source": [
    "# import gspread as gs\n",
    "import numpy as np\n",
    "import seaborn as sns\n",
    "import os\n",
    "import pandas as pd"
   ]
  },
  {
   "cell_type": "code",
   "execution_count": null,
   "id": "closing-impossible",
   "metadata": {
    "tags": []
   },
   "outputs": [],
   "source": [
    "import scanpy as sc"
   ]
  },
  {
   "cell_type": "code",
   "execution_count": null,
   "id": "utility-contemporary",
   "metadata": {
    "tags": []
   },
   "outputs": [],
   "source": [
    "from collections import Counter\n",
    "import matplotlib.pyplot as plt"
   ]
  },
  {
   "cell_type": "code",
   "execution_count": null,
   "id": "circular-waterproof",
   "metadata": {
    "tags": []
   },
   "outputs": [],
   "source": [
    "os.chdir('/nfs/team205/ny1/milopy/milopy/')\n",
    "# import milopy\n",
    "import core as milo\n",
    "ddl.logging.print_header()\n",
    "sc.logging.print_header()"
   ]
  },
  {
   "cell_type": "code",
   "execution_count": null,
   "id": "original-uniform",
   "metadata": {},
   "outputs": [],
   "source": [
    "# set working directory\n"
   ]
  },
  {
   "cell_type": "code",
   "execution_count": null,
   "id": "boolean-winning",
   "metadata": {},
   "outputs": [],
   "source": [
    "sc.settings.set_figure_params(dpi = 160, color_map = 'RdYlBu_r', dpi_save = 300, format = 'pdf')\n",
    "plt.rcParams[\"figure.figsize\"] = [6,6]\n",
    "sns.set_palette('colorblind')"
   ]
  },
  {
   "cell_type": "code",
   "execution_count": null,
   "id": "infrared-western",
   "metadata": {},
   "outputs": [],
   "source": [
    "#### need to add this line to restore plotting function of scanpy in the presence of palantir\n",
    "%matplotlib inline"
   ]
  },
  {
   "cell_type": "markdown",
   "id": "chicken-gossip",
   "metadata": {},
   "source": [
    "# Load data"
   ]
  },
  {
   "cell_type": "code",
   "execution_count": null,
   "id": "medical-facial",
   "metadata": {},
   "outputs": [],
   "source": [
    "# object loaded with abTCR, gdTCR, BCR data in 02_panfetal_load_VDJ\n"
   ]
  },
  {
   "cell_type": "code",
   "execution_count": null,
   "id": "sticky-robertson",
   "metadata": {},
   "outputs": [],
   "source": [
    "adata.obs_names"
   ]
  },
  {
   "cell_type": "code",
   "execution_count": null,
   "id": "ranking-stream",
   "metadata": {},
   "outputs": [],
   "source": [
    "adata.obs['anno_CITE_4v3'].value_counts().keys()"
   ]
  },
  {
   "cell_type": "code",
   "execution_count": null,
   "id": "portable-enforcement",
   "metadata": {},
   "outputs": [],
   "source": [
    "adata"
   ]
  },
  {
   "cell_type": "code",
   "execution_count": null,
   "id": "steady-maria",
   "metadata": {},
   "outputs": [],
   "source": [
    "# remove old VDJ annotations\n",
    "adata.obs = adata.obs[adata.obs.columns.drop(\n",
    "    list(adata.obs.filter(regex='VDJ')) + list(adata.obs.filter(regex='VJ'))+ list(adata.obs.filter(regex='vj')) \n",
    "    + list(adata.obs.filter(regex='vdj')) + list(adata.obs.filter(regex='clone')) + list(adata.obs.filter(regex='contig'))\n",
    "    + list(adata.obs.filter(regex='isotype')) + list(adata.obs.filter(regex='chain')) + list(adata.obs.filter(regex='locus'))\n",
    ")]\n",
    "adata"
   ]
  },
  {
   "cell_type": "code",
   "execution_count": null,
   "id": "introductory-foster",
   "metadata": {},
   "outputs": [],
   "source": [
    "# set up subsets and colors\n",
    "\n",
    "ct_all_order = ['uncommitted', 'committed_CD4neg','committed_CD4neg(P)','committed_CD4pos','committed_CD4pos(P)',\n",
    "                'DP(P)_early', 'DP(P)_late','DP(Q)_early','DP(Q)_rearr','DP(Q)_CD99_CD31lo','DP_early_CD31',\n",
    "                'DP_4hi8lo','DP(Q)_CD199','DP(Q)_HSPH1','DP_pos_sel','DP(Q)_CD99_CD31hi','DP(Q)_Th2',\n",
    "                'SP_CD4_immature', 'SP_CD8_immature','SP_CD4_semimature', 'SP_CD8_semimature','CD8aaI_immature',\n",
    "                'CD8aaII_immature','gdT_immature','gdT_semimature',\n",
    "                'CD8aaI_mature','CD8aaII_mature','SP_CD4_mature', \n",
    "                'SP_Treg_immature','SP_Treg_mature','SP_CD8_mature','SP_Treg_PD1', 'SP_Treg_CD8',\n",
    "                'NK_tr_itg_hi','SP_CD8_NKlike', 'gdT_mature','NK_circ_56hi16lo', 'gdT_Vd2', 'NK_tr_itg_lo',\n",
    "                'NK_circ_56lo16hi','iNKT','SP_Treg_recirc'\n",
    "                  ]\n",
    "                   \n",
    "ct_color_map = dict(zip(ct_all_order, np.array(sns.color_palette(\"husl\", len(ct_all_order)))[range(len(ct_all_order))]))"
   ]
  },
  {
   "cell_type": "markdown",
   "id": "charitable-superior",
   "metadata": {},
   "source": [
    "# Load abTCR"
   ]
  },
  {
   "cell_type": "code",
   "execution_count": null,
   "id": "defined-banana",
   "metadata": {},
   "outputs": [],
   "source": [
    "url_1 = sheet_url.replace('/edit#gid=', '/export?format=csv&gid=')\n",
    "meta = pd.read_csv(url_1)       \n",
    "meta"
   ]
  },
  {
   "cell_type": "code",
   "execution_count": null,
   "id": "deadly-vintage",
   "metadata": {},
   "outputs": [],
   "source": [
    "# clean out non relevant libraries \n",
    "meta = meta[~(meta['path_TCRab'].isna())]\n",
    "meta = meta[meta['cite']]\n",
    "meta"
   ]
  },
  {
   "cell_type": "code",
   "execution_count": null,
   "id": "extra-fishing",
   "metadata": {
    "tags": []
   },
   "outputs": [],
   "source": [
    "# creacte dandelion object  \n",
    "import os.path\n",
    "import warnings\n",
    "warnings.filterwarnings(\"ignore\")\n",
    "from os import path\n",
    "from tqdm import tqdm\n",
    "tcrab = {}\n",
    "for x, y in tqdm(zip(meta['path_TCRab'], meta['sample'])):\n",
    "    file1 = '/'+x+'/all_contig_annotations.json'\n",
    "    file2 = '/'+x+'/outs/all_contig_annotations.json'\n",
    "    \n",
    "    if path.exists(file1):\n",
    "        tmp = ddl.read_10x_vdj(file1)\n",
    "    else: \n",
    "        tmp = ddl.read_10x_vdj(file2)\n",
    "    \n",
    "    # update cell_id to librarry-barcode\n",
    "    tmp.data['cell_id']= [y + '-' + z.split('-1')[0] for z in tmp.data['cell_id']]\n",
    "    ddl.utl.update_metadata(tmp) # update the metadata_names\n",
    "    # only leave contigs with cell_id in adata\n",
    "    tmp = tmp[tmp.data['cell_id'].isin(adata.obs_names)].copy()\n",
    "    \n",
    "    tcrab[x] = tmp\n",
    "len(tcrab)"
   ]
  },
  {
   "cell_type": "code",
   "execution_count": null,
   "id": "temporal-little",
   "metadata": {},
   "outputs": [],
   "source": [
    "# concatenate object \n",
    "tcrab = ddl.concat([tcrab[x] for x in tcrab], prefixes = list(tcrab.keys()))\n",
    "tcrab"
   ]
  },
  {
   "cell_type": "code",
   "execution_count": null,
   "id": "hairy-sense",
   "metadata": {},
   "outputs": [],
   "source": [
    "ddl.tl.transfer(adata, tcrab)"
   ]
  },
  {
   "cell_type": "code",
   "execution_count": null,
   "id": "acknowledged-discipline",
   "metadata": {},
   "outputs": [],
   "source": [
    "tcrab.data"
   ]
  },
  {
   "cell_type": "code",
   "execution_count": null,
   "id": "marked-improvement",
   "metadata": {
    "tags": []
   },
   "outputs": [],
   "source": [
    "# library_type is set to filter out genes that are not TRA/TRB (in 'locus' column) as this library is abTCR\n",
    "tcrab.data['sequence_alignment'] = tcrab.data['sequence']\n",
    "tcrab_checked, trab_adata = ddl.pp.check_contigs(tcrab, adata, productive_only = False, library_type = 'tr-ab')\n",
    "tcrab_checked"
   ]
  },
  {
   "cell_type": "code",
   "execution_count": null,
   "id": "metric-springer",
   "metadata": {},
   "outputs": [],
   "source": [
    "trab_adata"
   ]
  },
  {
   "cell_type": "code",
   "execution_count": null,
   "id": "split-evans",
   "metadata": {},
   "outputs": [],
   "source": [
    "adata_abtcr = trab_adata.copy()"
   ]
  },
  {
   "cell_type": "code",
   "execution_count": null,
   "id": "wooden-donor",
   "metadata": {},
   "outputs": [],
   "source": []
  },
  {
   "cell_type": "markdown",
   "id": "caring-render",
   "metadata": {},
   "source": [
    "# Filter cells"
   ]
  },
  {
   "cell_type": "code",
   "execution_count": null,
   "id": "proprietary-louis",
   "metadata": {},
   "outputs": [],
   "source": []
  },
  {
   "cell_type": "code",
   "execution_count": null,
   "id": "intimate-sauce",
   "metadata": {
    "tags": []
   },
   "outputs": [],
   "source": [
    "plt.rcParams[\"figure.figsize\"] = [20,20]\n",
    "plt.rcParams['font.family'] = 'sans-serif'\n",
    "\n",
    "sc.set_figure_params(fontsize=4,dpi=200)\n",
    "adata_abtcr"
   ]
  },
  {
   "cell_type": "markdown",
   "id": "compressed-nutrition",
   "metadata": {},
   "source": [
    "## Subset cells to dp onwards, and cells with paired TCRab"
   ]
  },
  {
   "cell_type": "code",
   "execution_count": null,
   "id": "loaded-berlin",
   "metadata": {},
   "outputs": [],
   "source": [
    "# set up subsets and colors\n",
    "\n",
    "ct_all_order = ['uncommitted', 'committed_CD4neg','committed_CD4neg(P)','committed_CD4pos','committed_CD4pos(P)',\n",
    "                'DP(P)_early', 'DP(P)_late','DP(Q)_early','DP(Q)_rearr','DP(Q)_CD99_CD31lo','DP_early_CD31',\n",
    "                'DP_4hi8lo','DP(Q)_CD199','DP(Q)_HSPH1','DP_pos_sel','DP(Q)_CD99_CD31hi','DP(Q)_Th2',\n",
    "                'SP_CD4_immature', 'SP_CD8_immature','SP_CD4_semimature', 'SP_CD8_semimature','CD8aaI_immature',\n",
    "                'CD8aaII_immature','gdT_immature','gdT_semimature',\n",
    "                'CD8aaI_mature','CD8aaII_mature','SP_CD4_mature', \n",
    "                'SP_Treg_immature','SP_Treg_mature','SP_CD8_mature','SP_Treg_PD1', 'SP_Treg_CD8',\n",
    "                'NK_tr_itg_hi','SP_CD8_NKlike', 'gdT_mature','NK_circ_56hi16lo', 'gdT_Vd2', 'NK_tr_itg_lo',\n",
    "                'NK_circ_56lo16hi','iNKT','SP_Treg_recirc'\n",
    "                  ]\n",
    "\n",
    "ct_color_map_all = dict(zip(ct_all_order, np.array(sns.color_palette(\"husl\", len(ct_all_order)))[range(len(ct_all_order))]))\n",
    "\n",
    "ct_order = ['DP(P)_early','DP(Q)_early','DP(Q)_rearr',\n",
    "                'DP_4hi8lo','DP(Q)_CD199','DP(Q)_HSPH1','DP(Q)_CD99_CD31lo','DP(Q)_CD99_CD31hi','DP_pos_sel',\n",
    "                'SP_CD4_immature', 'SP_CD8_immature','SP_CD4_semimature', 'SP_CD8_semimature','SP_CD4_mature','SP_CD8_mature',\n",
    "                  ]\n",
    "\n",
    "ct_color_map = dict(zip(ct_all_order, np.array(sns.color_palette(\"husl\", len(ct_order)))[range(len(ct_order))]))\n",
    "\n",
    "# subset cells to celltypes within ct_order\n",
    "bdata = adata_abtcr[adata_abtcr.obs['anno_CITE_4v3'].isin(ct_order)]\n",
    "# filter out cells without any contig\n",
    "for chain in ['v_call_abT_VDJ_main', 'j_call_abT_VDJ_main','v_call_abT_VJ_main', 'j_call_abT_VJ_main']:\n",
    "    bdata.obs[chain] = bdata.obs[chain].astype('str')\n",
    "# change all entries with ',' (inconfident mappings) to 'None'\n",
    "for cell in bdata.obs_names:\n",
    "    for chain in ['v_call_abT_VDJ_main', 'j_call_abT_VDJ_main','v_call_abT_VJ_main', 'j_call_abT_VJ_main']:\n",
    "        gene = bdata.obs.loc[cell, chain]\n",
    "        if ',' in gene or gene =='None' or gene =='' or gene=='No_contig':\n",
    "            bdata.obs.loc[cell, chain] = chain+'_None'"
   ]
  },
  {
   "cell_type": "code",
   "execution_count": null,
   "id": "crazy-rachel",
   "metadata": {},
   "outputs": [],
   "source": [
    "# option for DP onwards - only leave cells with all 4 chains\n",
    "bdata = bdata[~(np.array(bdata.obs['v_call_abT_VDJ_main'].str.endswith('None')) | np.array(bdata.obs['j_call_abT_VDJ_main'].str.endswith('None')) |\n",
    "np.array(bdata.obs['v_call_abT_VJ_main'].str.endswith('None')) | np.array(bdata.obs['j_call_abT_VJ_main'].str.endswith('None')))]"
   ]
  },
  {
   "cell_type": "code",
   "execution_count": null,
   "id": "requested-syndrome",
   "metadata": {},
   "outputs": [],
   "source": [
    "bdata"
   ]
  },
  {
   "cell_type": "markdown",
   "id": "moral-gross",
   "metadata": {},
   "source": [
    "# Select neighbourhoods "
   ]
  },
  {
   "cell_type": "code",
   "execution_count": null,
   "id": "burning-knock",
   "metadata": {
    "tags": []
   },
   "outputs": [],
   "source": [
    "## need to redo neighborhood graph after subsetting cells before milo\n",
    "# n_neighbors decides the minimum neighbourhood size \n",
    "# here use_rep = 'X_scvi' as data integration was done using scVI\n",
    "sc.pp.neighbors(bdata, use_rep = \"X_scVI\", n_neighbors = 50)\n",
    "sc.tl.umap(bdata, random_state = 1712)"
   ]
  },
  {
   "cell_type": "code",
   "execution_count": null,
   "id": "distinguished-correction",
   "metadata": {
    "tags": []
   },
   "outputs": [],
   "source": [
    "# take a look at the UMAP to make sure it looks reasonable i.e. different cell types are clustered separately\n",
    "import matplotlib.pyplot as plt\n",
    "plt.rcParams[\"figure.figsize\"] = [5.5,5]\n",
    "sc.pl.umap(bdata, color=['anno_CITE_4v3'], legend_fontsize=5,palette='tab20',legend_loc='on data')"
   ]
  },
  {
   "cell_type": "code",
   "execution_count": null,
   "id": "divine-rogers",
   "metadata": {
    "tags": []
   },
   "outputs": [],
   "source": [
    "import milopy\n",
    "import milopy.core as milo\n",
    "\n",
    "# use milo to sample neighbourhood\n",
    "milo.make_nhoods(bdata)\n",
    "# build neighbourhood adata in bdata.uns['nhood_adata']\n",
    "milo.count_nhoods(bdata, sample_col='sample') # this step is needed to build bdata.uns['nhood_adata'] and sample_col can be anything\n",
    "# this step is needed for plotting below\n",
    "milopy.utils.build_nhood_graph(bdata)\n",
    "# assign neighbourhood celltype by majority voting\n",
    "# results are in bdata.uns['nhood_adata'].obs['nhood_annotation'] & bdata.uns['nhood_adata'].obs['nhood_annotation_frac'] \n",
    "milopy.utils.annotate_nhoods(bdata, anno_col='anno_CITE_4v3')\n",
    "bdata"
   ]
  },
  {
   "cell_type": "code",
   "execution_count": null,
   "id": "distinguished-kitty",
   "metadata": {},
   "outputs": [],
   "source": [
    "bdata.uns['nhood_adata'].uns['annotation_labels'] = np.nan\n",
    "\n",
    "bdata.write_h5ad('bdata.h5ad')"
   ]
  },
  {
   "cell_type": "markdown",
   "id": "undefined-provider",
   "metadata": {},
   "source": [
    "Now neighbourhood adata is stored in bdata.uns['nhood_adata']"
   ]
  },
  {
   "cell_type": "markdown",
   "id": "quarterly-harris",
   "metadata": {},
   "source": [
    "# Create neighbourhood VDJ feature space"
   ]
  },
  {
   "cell_type": "code",
   "execution_count": null,
   "id": "established-blogger",
   "metadata": {},
   "outputs": [],
   "source": [
    "#### this option for DP\n",
    "# function for making neighbourhood vdj feature space\n",
    "nhood_adata = ddl.tl.vdj_pseudobulk(bdata, pbs = bdata.obsm['nhoods'], obs_to_take = 'anno_CITE_4v3', extract_cols=['v_call_abT_VDJ_main', 'j_call_abT_VDJ_main','v_call_abT_VJ_main', 'j_call_abT_VJ_main'])\n",
    "nhood_adata"
   ]
  },
  {
   "cell_type": "markdown",
   "id": "intended-fisher",
   "metadata": {},
   "source": [
    "     nhood_adata is the new neighbourhood VDJ feature space, whereby each observation is a cell neighbourhood\n",
    "     VDJ usage frequency stored in nhood_adata.X\n",
    "     VDJ genes stored in nhood_adata.var\n",
    "     neighbourhood metadata stored in nhood_adata.obs\n",
    "     can visualise the data using PCA or UMAP (see below)"
   ]
  },
  {
   "cell_type": "code",
   "execution_count": null,
   "id": "corporate-lodge",
   "metadata": {
    "tags": []
   },
   "outputs": [],
   "source": [
    "# # sort out the annotation colour order\n",
    "nhood_adata.obs['anno_CITE_4v3'] = nhood_adata.obs['anno_CITE_4v3'].astype('category')\n",
    "nhood_adata.obs['anno_CITE_4v3'] = nhood_adata.obs['anno_CITE_4v3'].cat.reorder_categories(ct_order)"
   ]
  },
  {
   "cell_type": "code",
   "execution_count": null,
   "id": "compliant-ownership",
   "metadata": {
    "tags": []
   },
   "outputs": [],
   "source": [
    "sc.pp.pca(nhood_adata, random_state = 1712)\n",
    "sc.pl.pca(nhood_adata, color=['anno_CITE_4v3'])"
   ]
  },
  {
   "cell_type": "code",
   "execution_count": null,
   "id": "imposed-ebony",
   "metadata": {
    "tags": []
   },
   "outputs": [],
   "source": [
    "sc.pp.neighbors(nhood_adata, random_state = 1712)\n",
    "sc.tl.umap(nhood_adata, random_state = 1712)"
   ]
  },
  {
   "cell_type": "code",
   "execution_count": null,
   "id": "announced-oliver",
   "metadata": {
    "tags": []
   },
   "outputs": [],
   "source": [
    "sc.pl.umap(nhood_adata, color=['anno_CITE_4v3'],groups=['DP(Q)_CD99_CD31lo','DP(Q)_CD99_CD31hi','DP_pos_sel'],s=20)\n",
    "sc.pl.umap(nhood_adata, color=['anno_CITE_4v3'],s=20)"
   ]
  },
  {
   "cell_type": "markdown",
   "id": "governmental-uncertainty",
   "metadata": {},
   "source": [
    "## Run Pseudotime on VDJ feature space"
   ]
  },
  {
   "cell_type": "code",
   "execution_count": null,
   "id": "smooth-reception",
   "metadata": {},
   "outputs": [],
   "source": [
    "# make sure you install palantir if you don't already have it\n",
    "\n",
    "# Run diffusion maps\n",
    "pca_projections = pd.DataFrame(nhood_adata.obsm['X_pca'], index=nhood_adata.obs_names)\n",
    "dm_res = palantir.utils.run_diffusion_maps(pca_projections, n_components=10)\n",
    "dm_res"
   ]
  },
  {
   "cell_type": "code",
   "execution_count": null,
   "id": "interesting-chorus",
   "metadata": {},
   "outputs": [],
   "source": [
    "plt.scatter(np.arange(10), dm_res['EigenValues'])"
   ]
  },
  {
   "cell_type": "code",
   "execution_count": null,
   "id": "radical-joshua",
   "metadata": {},
   "outputs": [],
   "source": [
    "# based on plot above, choose n_eigs\n",
    "ms_data = palantir.utils.determine_multiscale_space(dm_res, n_eigs=5)"
   ]
  },
  {
   "cell_type": "code",
   "execution_count": null,
   "id": "flush-clinic",
   "metadata": {},
   "outputs": [],
   "source": [
    "# select the start and end points\n",
    "# start\n",
    "tmp = nhood_adata[nhood_adata.obs['anno_CITE_4v3'] == 'DP(P)_early']\n",
    "rootcell = np.argmax(tmp.obsm['X_umap'][:,0])\n",
    "rootcell = tmp.obs_names[rootcell]\n",
    "nhood_adata.obs['rootcell'] = 0\n",
    "nhood_adata.obs.loc[rootcell,'rootcell'] = 1"
   ]
  },
  {
   "cell_type": "code",
   "execution_count": null,
   "id": "gorgeous-pantyhose",
   "metadata": {},
   "outputs": [],
   "source": [
    "# ends\n",
    "tmp1 = nhood_adata[nhood_adata.obs['anno_CITE_4v3'] == 'SP_CD8_mature']\n",
    "tmp2 = nhood_adata[nhood_adata.obs['anno_CITE_4v3'] == 'SP_CD4_mature']\n",
    "endcell1 = np.argmax(tmp1.obsm['X_umap'][:,1])\n",
    "endcell1 = tmp1.obs_names[endcell1]\n",
    "endcell2 = np.argmax(tmp2.obsm['X_umap'][:,0])\n",
    "endcell2 = tmp2.obs_names[endcell2]\n",
    "\n",
    "terminal_states = pd.Series(['SP_CD8_mature', 'SP_CD4_mature'], \n",
    "                           index=[endcell1,endcell2])"
   ]
  },
  {
   "cell_type": "code",
   "execution_count": null,
   "id": "serious-compound",
   "metadata": {},
   "outputs": [],
   "source": [
    "# plot rootcell and terminal states\n",
    "nhood_adata.obs['terminal_states'] = 0\n",
    "nhood_adata.obs.loc[terminal_states.index, 'terminal_states'] = 1\n",
    "plt.rcParams[\"figure.figsize\"] = [4,4]\n",
    "sc.pl.umap(nhood_adata,color=['rootcell','terminal_states','anno_CITE_4v3'],\n",
    "           title=['root cell','terminal states','nhood annotation'],color_map='OrRd',s=10)"
   ]
  },
  {
   "cell_type": "code",
   "execution_count": null,
   "id": "capital-bruce",
   "metadata": {},
   "outputs": [],
   "source": [
    "pr_res = palantir.core.run_palantir(ms_data,  rootcell, num_waypoints=500, \n",
    "                                    terminal_states = terminal_states.index)"
   ]
  },
  {
   "cell_type": "code",
   "execution_count": null,
   "id": "front-carroll",
   "metadata": {},
   "outputs": [],
   "source": [
    "pr_res.branch_probs.columns = terminal_states[pr_res.branch_probs.columns]"
   ]
  },
  {
   "cell_type": "markdown",
   "id": "packed-recall",
   "metadata": {},
   "source": [
    "## Visualise the data"
   ]
  },
  {
   "cell_type": "code",
   "execution_count": null,
   "id": "alike-affiliation",
   "metadata": {},
   "outputs": [],
   "source": [
    "ddl.tl.pseudotime_transfer(adata = nhood_adata, pr_res = pr_res, suffix = '_nhood_vdj')"
   ]
  },
  {
   "cell_type": "code",
   "execution_count": null,
   "id": "professional-gasoline",
   "metadata": {},
   "outputs": [],
   "source": [
    "plt.rcParams[\"figure.figsize\"] = [4,4]\n",
    "plot = ['pseudotime', 'prob_SP_CD8_mature', 'prob_SP_CD4_mature']\n",
    "sc.pl.umap(nhood_adata,color=[term + '_nhood_vdj' for term in plot],\n",
    "           title=['pseudotime','branch probability to CD8',\n",
    "                  'branch probability to CD4'],\n",
    "           frameon=False,wspace=0.1,\n",
    "           color_map = 'RdYlBu_r'\n",
    "          )"
   ]
  },
  {
   "cell_type": "code",
   "execution_count": null,
   "id": "continued-delhi",
   "metadata": {},
   "outputs": [],
   "source": [
    "# save nhood object\n",
    "# nhood_adata.write_h5ad('nhood_adata.h5ad')\n",
    "nhood_adata = sc.read_h5ad('nhood_adata.h5ad')"
   ]
  },
  {
   "cell_type": "markdown",
   "id": "stainless-failing",
   "metadata": {},
   "source": [
    "# end of testing \n"
   ]
  },
  {
   "cell_type": "markdown",
   "id": "detected-spell",
   "metadata": {},
   "source": [
    "## Project pseudotime and branch probabilities back to cells"
   ]
  },
  {
   "cell_type": "code",
   "execution_count": null,
   "id": "extensive-square",
   "metadata": {},
   "outputs": [],
   "source": [
    "\n",
    "# adata.obs['norm_'+anno] = s_normalized\n",
    "# # project the nhood level pseudotime to cell level pseudotime.\n",
    "# cdata = ddl.tl.project_pseudotime_to_cell(adata = bdata, \n",
    "#                                pb_adata = nhood_adata, \n",
    "#                                term_states=['SP_CD8_mature','SP_CD4_mature'], \n",
    "#                                suffix = '_nhood_vdj')"
   ]
  },
  {
   "cell_type": "code",
   "execution_count": null,
   "id": "optimum-contact",
   "metadata": {
    "tags": []
   },
   "outputs": [],
   "source": [
    "sns.set_theme(style='white')\n",
    "fig, ax = plt.subplots(figsize=(15,5))\n",
    "cdata.obs['anno_CITE_4v3'] = cdata.obs['anno_CITE_4v3'].cat.reorder_categories(ct_order)\n",
    "df = cdata.obs.copy()\n",
    "sigma = 0.05\n",
    "df['prob_SP_CD8_mature_nhood_vdj'] = df['prob_SP_CD8_mature_nhood_vdj'] + (np.random.rand(len(df['prob_SP_CD8_mature_nhood_vdj'])))*sigma\n",
    "ax= sns.scatterplot(data=df, \n",
    "                    x ='pseudotime_nhood_vdj',\n",
    "                    y='prob_SP_CD8_mature_nhood_vdj',\n",
    "                    s=4,\n",
    "                    hue='anno_CITE_4v3',\n",
    "                   )\n",
    "ax.set_ylabel('probability to CD8')    \n",
    "ax.set_xlabel('pseudotime')\n",
    "ax.set_title('')\n",
    "h,l = ax.get_legend_handles_labels()\n",
    "l1 = ax.legend(h[:20],l[:20], loc='upper right',bbox_to_anchor=(1.2, 1),frameon=False, fontsize='small')\n",
    "# plt.savefig(fig_path+'/pseudotime_scatterplot_nhood_vdj.pdf',bbox_inches='tight')"
   ]
  },
  {
   "cell_type": "markdown",
   "id": "naughty-windows",
   "metadata": {},
   "source": [
    "# look at the TRAV/J expression in DP(Q) that are beyond the bifurcation point"
   ]
  },
  {
   "cell_type": "code",
   "execution_count": null,
   "id": "technological-northeast",
   "metadata": {},
   "outputs": [],
   "source": [
    "# # look at TRAV/TRAJ expression \n",
    "bulk_adata = ddl.tl.vdj_pseudobulk(adata = cdata, obs_to_bulk = ['anno_CITE_4v3_pseudotime_bin'], obs_to_take = ['anno_CITE_4v3_pseudotime_bin'],\n",
    "                                   extract_cols= ['v_call_abT_VDJ_main', 'j_call_abT_VDJ_main','v_call_abT_VJ_main', 'j_call_abT_VJ_main'])"
   ]
  },
  {
   "cell_type": "code",
   "execution_count": null,
   "id": "atomic-debut",
   "metadata": {},
   "outputs": [],
   "source": [
    "# load TCR list by location - lists in github folder metadata/TCR_genes\n",
    "TCR_list_by_loc_dict = {}\n",
    "for chain in ['TRAV','TRAJ']:\n",
    "    path = '/lustre/scratch126/cellgen/team205/cs42/VDJ_collab_manuscript/gene_list/'+chain+'_list_by_location.csv'\n",
    "    TCR_list_by_loc_dict[chain] = list(pd.read_csv(path, header=None)[0])"
   ]
  },
  {
   "cell_type": "code",
   "execution_count": null,
   "id": "cathedral-shopping",
   "metadata": {},
   "outputs": [],
   "source": [
    "gene_intersection = [gene for gene in TCR_list_by_loc_dict['TRAV'] if gene in bulk_adata.var_names] +[gene for gene in TCR_list_by_loc_dict['TRAJ'] if gene in bulk_adata.var_names] \n",
    "trav = pd.DataFrame(index = bulk_adata.obs['anno_CITE_4v3_pseudotime_bin'], columns = gene_intersection,\n",
    "                    data = bulk_adata[:,gene_intersection].X)\n",
    "trav = trav"
   ]
  },
  {
   "cell_type": "code",
   "execution_count": null,
   "id": "breathing-profit",
   "metadata": {},
   "outputs": [],
   "source": [
    "\n",
    "ct_order = ['DP(P)_early','DP(Q)_rearr_bin_1','DP(Q)_rearr_bin_2','DP(Q)_rearr_bin_3','DP(Q)_rearr_bin_4','DP(Q)_rearr_bin_5','DP_pos_sel',\n",
    "                'SP_CD4_immature','SP_CD4_semimature','SP_CD4_mature', 'SP_CD8_immature', 'SP_CD8_semimature','SP_CD8_mature']\n",
    "trav = trav.reindex(ct_order)\n"
   ]
  },
  {
   "cell_type": "code",
   "execution_count": null,
   "id": "going-observer",
   "metadata": {},
   "outputs": [],
   "source": [
    "plt.rcParams[\"figure.figsize\"] = [30,10]\n",
    "svm = sns.heatmap(trav)\n",
    "figure = svm.get_figure()    \n",
    "figure.savefig(fig_path+'/vdj_usage.pdf', dpi=200)\n",
    "# pseudotime_scatterplot_nhood_vdj.pdf',bbox_inches='tight'\n",
    "# DP_late is using the end of TRAV/TRAJv\n"
   ]
  },
  {
   "cell_type": "code",
   "execution_count": null,
   "id": "architectural-roller",
   "metadata": {},
   "outputs": [],
   "source": [
    "# return annotations to original object \n",
    "adata_abtcr"
   ]
  },
  {
   "cell_type": "code",
   "execution_count": null,
   "id": "expected-romantic",
   "metadata": {},
   "outputs": [],
   "source": [
    "cdata"
   ]
  },
  {
   "cell_type": "code",
   "execution_count": null,
   "id": "reliable-patrol",
   "metadata": {},
   "outputs": [],
   "source": [
    "\n",
    "adata_abtcr.obs['pseudotime_nhood_vdj'] = cdata.obs['pseudotime_nhood_vdj']\n",
    "adata_abtcr.obs['prob_SP_CD8_mature_nhood_vdj'] = cdata.obs['prob_SP_CD8_mature_nhood_vdj']\n",
    "adata_abtcr.obs['prob_SP_CD4_mature_nhood_vdj'] = cdata.obs['prob_SP_CD4_mature_nhood_vdj']"
   ]
  },
  {
   "cell_type": "code",
   "execution_count": null,
   "id": "impaired-endorsement",
   "metadata": {},
   "outputs": [],
   "source": [
    "plt.rcParams[\"figure.figsize\"] = [10,10]\n",
    "\n",
    "sc.pl.umap(adata_abtcr, color=['anno_CITE_4v3','pseudotime_nhood_vdj','prob_SP_CD8_mature_nhood_vdj','prob_SP_CD4_mature_nhood_vdj'],cmap='jet', legend_fontsize=1,palette='tab20',legend_loc='on data')"
   ]
  },
  {
   "cell_type": "code",
   "execution_count": null,
   "id": "homeless-restaurant",
   "metadata": {},
   "outputs": [],
   "source": [
    "adata_abtcr.write()"
   ]
  },
  {
   "cell_type": "code",
   "execution_count": null,
   "id": "large-contamination",
   "metadata": {},
   "outputs": [],
   "source": [
    "adata_abtcr = sc.read()"
   ]
  },
  {
   "cell_type": "code",
   "execution_count": null,
   "id": "approved-cookbook",
   "metadata": {},
   "outputs": [],
   "source": [
    "adata_abtcr.obs.to_csv()"
   ]
  },
  {
   "cell_type": "code",
   "execution_count": null,
   "id": "joint-princeton",
   "metadata": {},
   "outputs": [],
   "source": []
  }
 ],
 "metadata": {
  "kernelspec": {
   "display_name": "Python 3",
   "language": "python",
   "name": "python3"
  },
  "language_info": {
   "codemirror_mode": {
    "name": "ipython",
    "version": 3
   },
   "file_extension": ".py",
   "mimetype": "text/x-python",
   "name": "python",
   "nbconvert_exporter": "python",
   "pygments_lexer": "ipython3",
   "version": "3.8.8"
  }
 },
 "nbformat": 4,
 "nbformat_minor": 5
}
