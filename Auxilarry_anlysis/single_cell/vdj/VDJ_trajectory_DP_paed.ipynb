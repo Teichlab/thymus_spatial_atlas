{
 "cells": [
  {
   "cell_type": "markdown",
   "id": "technical-tattoo",
   "metadata": {},
   "source": [
    "# Build neighbourhood VDJ feature space"
   ]
  },
  {
   "cell_type": "code",
   "execution_count": null,
   "id": "legendary-pledge",
   "metadata": {
    "tags": []
   },
   "outputs": [],
   "source": [
    "import palantir\n",
    "import dandelion as ddl\n",
    "\n",
    "import numpy as np\n",
    "import seaborn as sns\n",
    "import os\n",
    "import pandas as pd\n",
    "import scanpy as sc\n",
    "from collections import Counter\n",
    "ddl.logging.print_header()"
   ]
  },
  {
   "cell_type": "code",
   "execution_count": null,
   "id": "acquired-fault",
   "metadata": {},
   "outputs": [],
   "source": [
    "import matplotlib.pyplot as plt"
   ]
  },
  {
   "cell_type": "code",
   "execution_count": null,
   "id": "finite-haiti",
   "metadata": {},
   "outputs": [],
   "source": [
    "# set working directory\n",
    "os.chdir('/nfs/team205/ny1/ThymusSpatialAtlas/Figure5/VDJ/')\n",
    "fig_path = '/nfs/team205/ny1/ThymusSpatialAtlas/Figure5/VDJ/figures'"
   ]
  },
  {
   "cell_type": "code",
   "execution_count": null,
   "id": "graduate-commerce",
   "metadata": {},
   "outputs": [],
   "source": [
    "sc.logging.print_header()"
   ]
  },
  {
   "cell_type": "code",
   "execution_count": null,
   "id": "official-hygiene",
   "metadata": {},
   "outputs": [],
   "source": [
    "sc.settings.set_figure_params(dpi = 160, color_map = 'RdYlBu_r', dpi_save = 300, format = 'pdf')\n",
    "plt.rcParams[\"figure.figsize\"] = [6,6]\n",
    "sns.set_palette('colorblind')"
   ]
  },
  {
   "cell_type": "code",
   "execution_count": null,
   "id": "express-ceremony",
   "metadata": {},
   "outputs": [],
   "source": [
    "#### need to add this line to restore plotting function of scanpy in the presence of palantir\n",
    "%matplotlib inline"
   ]
  },
  {
   "cell_type": "markdown",
   "id": "infrared-sullivan",
   "metadata": {},
   "source": [
    "# Load data"
   ]
  },
  {
   "cell_type": "code",
   "execution_count": null,
   "id": "wireless-accent",
   "metadata": {},
   "outputs": [],
   "source": [
    "adata = sc.read('/nfs/team205/ny1/ThymusSpatialAtlas/Figure5/Latest_version/Thymus_Atlas_v17_cite_Tv4_T_lin.h5ad')\n",
    "adata"
   ]
  },
  {
   "cell_type": "code",
   "execution_count": null,
   "id": "animal-philip",
   "metadata": {},
   "outputs": [],
   "source": [
    "adata.obs['annotation_level_3'].value_counts().keys()"
   ]
  },
  {
   "cell_type": "code",
   "execution_count": null,
   "id": "northern-jefferson",
   "metadata": {},
   "outputs": [],
   "source": [
    "# set up subsets and colors\n",
    "\n",
    "ct_all_order = ['ETP','T_DN(early)','T_DN(P)','T_DN(Q)-early','T_DN(Q)','T_DN(Q)-CD99','T_DN(CD4)','T_DN(CD4)-CD99',\n",
    "                'T_DP(P)','T_DP(Q)-early','T_DP(Q)','T_DP(Q)-HSPH1', 'T_DP(Q)-CD99',\n",
    "                'T_αβT(entry)','T_SP-HSP', 'T_CD4', 'T_CD8', 'T_CD8-Prolif', \n",
    "                'T_reg(agonist)', 'T_reg(diff)-FOXP3hi', 'T_reg(diff)-FOXP3Lo','T_reg','T_NK']\n",
    "                   \n",
    "ct_color_map = dict(zip(ct_all_order, np.array(sns.color_palette(\"husl\", len(ct_all_order)))[range(len(ct_all_order))]))"
   ]
  },
  {
   "cell_type": "markdown",
   "id": "otherwise-forum",
   "metadata": {},
   "source": [
    "# Load abTCR"
   ]
  },
  {
   "cell_type": "code",
   "execution_count": null,
   "id": "talented-bosnia",
   "metadata": {},
   "outputs": [],
   "source": [
    "sheet_url = 'https://docs.google.com/spreadsheets/d/1A9FAZ3_hNgBfsgf4aiZ38Wae4zXyk1y1AgmIp3lFw0o/edit?usp=sharing'\n",
    "url_1 = sheet_url.replace(‘/edit#gid=’, ‘/export?format=csv&gid=’)\n",
    "meta = pd.read_csv(url_1)                   \n",
    "# meta = pd.read_csv('/nfs/team205/ny1/ThymusSpatialAtlas/Figure1/Thymus_SingleCell_data_15122022.csv')"
   ]
  },
  {
   "cell_type": "code",
   "execution_count": null,
   "id": "failing-income",
   "metadata": {},
   "outputs": [],
   "source": [
    "meta = meta[~(meta['path_TCRab'].isna())]\n",
    "meta"
   ]
  },
  {
   "cell_type": "code",
   "execution_count": null,
   "id": "behavioral-lexington",
   "metadata": {
    "tags": []
   },
   "outputs": [],
   "source": [
    "import os.path\n",
    "from os import path\n",
    "from tqdm import tqdm\n",
    "tcrab = {}\n",
    "for x, y in tqdm(zip(meta['path_TCRab'], meta['library '])):\n",
    "    file1 = '/'+x+'/all_contig_annotations.json'\n",
    "    file2 = '/'+x+'/outs/all_contig_annotations.json'\n",
    "    \n",
    "    if path.exists(file1):\n",
    "        tmp = ddl.read_10x_vdj(file1)\n",
    "    else: \n",
    "        tmp = ddl.read_10x_vdj(file2)\n",
    "    \n",
    "    # update cell_id to librarry-barcode\n",
    "    tmp.data['cell_id']= [y + '-' + z.split('-1')[0] for z in tmp.data['cell_id']]\n",
    "    ddl.utl.update_metadata(tmp) # update the metadata_names\n",
    "    # only leave contigs with cell_id in adata\n",
    "    tmp = tmp[tmp.data['cell_id'].isin(adata.obs_names)].copy()\n",
    "    \n",
    "    tcrab[x] = tmp\n",
    "len(tcrab)"
   ]
  },
  {
   "cell_type": "code",
   "execution_count": null,
   "id": "naughty-independence",
   "metadata": {},
   "outputs": [],
   "source": [
    "# concatenate\n",
    "tcrab = ddl.concat([tcrab[x] for x in tcrab], prefixes = list(tcrab.keys()))\n",
    "tcrab"
   ]
  },
  {
   "cell_type": "code",
   "execution_count": null,
   "id": "sweet-transfer",
   "metadata": {},
   "outputs": [],
   "source": [
    "ddl.tl.transfer(adata, tcrab)"
   ]
  },
  {
   "cell_type": "code",
   "execution_count": null,
   "id": "heard-geometry",
   "metadata": {},
   "outputs": [],
   "source": [
    "tcrab.data"
   ]
  },
  {
   "cell_type": "code",
   "execution_count": null,
   "id": "fitting-uzbekistan",
   "metadata": {
    "tags": []
   },
   "outputs": [],
   "source": [
    "# library_type is set to filter out genes that are not TRA/TRB (in 'locus' column) as this library is abTCR\n",
    "tcrab.data['sequence_alignment'] = tcrab.data['sequence']\n",
    "tcrab_checked, trab_adata = ddl.pp.check_contigs(tcrab, adata, productive_only = False, library_type = 'tr-ab')\n",
    "tcrab_checked"
   ]
  },
  {
   "cell_type": "markdown",
   "id": "continent-shark",
   "metadata": {},
   "source": [
    "# Filter cells"
   ]
  },
  {
   "cell_type": "code",
   "execution_count": null,
   "id": "heavy-utility",
   "metadata": {},
   "outputs": [],
   "source": [
    "# only take samples that had TCR sequencing done\n",
    "adata_abtcr = trab_adata[~(trab_adata.obs['path_TCRab'].isna())].copy()\n",
    "adata_abtcr"
   ]
  },
  {
   "cell_type": "code",
   "execution_count": null,
   "id": "engaging-sandwich",
   "metadata": {},
   "outputs": [],
   "source": [
    "adata"
   ]
  },
  {
   "cell_type": "code",
   "execution_count": null,
   "id": "incoming-edward",
   "metadata": {},
   "outputs": [],
   "source": [
    "adata_abtcr.write('/nfs/team205/ny1/ThymusSpatialAtlas/Figure1/Thymus_Atlas_v15_abTCR.h5ad')"
   ]
  },
  {
   "cell_type": "code",
   "execution_count": null,
   "id": "sophisticated-virus",
   "metadata": {},
   "outputs": [],
   "source": [
    "adata_abtcr = sc.read('/nfs/team205/ny1/ThymusSpatialAtlas/Figure3/VDJ/Thymus_Atlas_v15_abTCR.h5ad')"
   ]
  },
  {
   "cell_type": "code",
   "execution_count": null,
   "id": "illegal-synthesis",
   "metadata": {
    "tags": []
   },
   "outputs": [],
   "source": [
    "plt.rcParams[\"figure.figsize\"] = [20,20]\n",
    "plt.rcParams['font.family'] = 'sans-serif'"
   ]
  },
  {
   "cell_type": "markdown",
   "id": "vulnerable-california",
   "metadata": {},
   "source": [
    "## Subset cells to dp onwards, and cells with paired TCRab"
   ]
  },
  {
   "cell_type": "code",
   "execution_count": null,
   "id": "interior-belle",
   "metadata": {},
   "outputs": [],
   "source": [
    "ct_order = ['T_DP(P)','T_DP(Q)-early','T_DP(Q)','T_DP(Q)-HSPH1', 'T_DP(Q)-CD99',\n",
    "                'T_αβT(entry)', 'T_CD4', 'T_CD8']\n",
    "                   \n",
    "ct_color_map = dict(zip(ct_order, np.array(sns.color_palette(\"husl\", len(ct_order)))[range(len(ct_order))]))\n",
    "\n",
    "\n",
    "# subset cells to celltypes within ct_order\n",
    "bdata = adata_abtcr[adata_abtcr.obs['annotation_level_3'].isin(ct_order)]\n",
    "# filter out cells without any contig\n",
    "for chain in ['v_call_abT_VDJ_main', 'j_call_abT_VDJ_main','v_call_abT_VJ_main', 'j_call_abT_VJ_main']:\n",
    "    bdata.obs[chain] = bdata.obs[chain].astype('str')\n",
    "# change all entries with ',' (inconfident mappings) to 'None'\n",
    "for cell in bdata.obs_names:\n",
    "    for chain in ['v_call_abT_VDJ_main', 'j_call_abT_VDJ_main','v_call_abT_VJ_main', 'j_call_abT_VJ_main']:\n",
    "        gene = bdata.obs.loc[cell, chain]\n",
    "        if ',' in gene or gene =='None' or gene =='' or gene=='No_contig':\n",
    "            bdata.obs.loc[cell, chain] = chain+'_None'"
   ]
  },
  {
   "cell_type": "code",
   "execution_count": null,
   "id": "every-singer",
   "metadata": {},
   "outputs": [],
   "source": [
    "# option for DP onwards - only leave cells with all 4 chains\n",
    "bdata = bdata[~(np.array(bdata.obs['v_call_abT_VDJ_main'].str.endswith('None')) | np.array(bdata.obs['j_call_abT_VDJ_main'].str.endswith('None')) |\n",
    "np.array(bdata.obs['v_call_abT_VJ_main'].str.endswith('None')) | np.array(bdata.obs['j_call_abT_VJ_main'].str.endswith('None')))]"
   ]
  },
  {
   "cell_type": "code",
   "execution_count": null,
   "id": "minute-curtis",
   "metadata": {},
   "outputs": [],
   "source": [
    "bdata"
   ]
  },
  {
   "cell_type": "markdown",
   "id": "caring-jewel",
   "metadata": {},
   "source": [
    "# Select neighbourhoods "
   ]
  },
  {
   "cell_type": "code",
   "execution_count": null,
   "id": "empty-geography",
   "metadata": {
    "tags": []
   },
   "outputs": [],
   "source": [
    "## need to redo neighborhood graph after subsetting cells before milo\n",
    "# n_neighbors decides the minimum neighbourhood size \n",
    "# here use_rep = 'X_scvi' as data integration was done using scVI\n",
    "sc.pp.neighbors(bdata, use_rep = \"X_scVI\", n_neighbors = 100)\n",
    "sc.tl.umap(bdata, random_state = 1712)"
   ]
  },
  {
   "cell_type": "code",
   "execution_count": null,
   "id": "parliamentary-threshold",
   "metadata": {
    "tags": []
   },
   "outputs": [],
   "source": [
    "# take a look at the UMAP to make sure it looks reasonable i.e. different cell types are clustered separately\n",
    "import matplotlib.pyplot as plt\n",
    "plt.rcParams[\"figure.figsize\"] = [5.5,5]\n",
    "sc.pl.umap(bdata, color=['annotation_level_3'], palette = ct_color_map, legend_loc = 'right margin', legend_fontsize=10)"
   ]
  },
  {
   "cell_type": "code",
   "execution_count": null,
   "id": "soviet-width",
   "metadata": {
    "tags": []
   },
   "outputs": [],
   "source": [
    "import milopy\n",
    "import milopy.core as milo\n",
    "\n",
    "# use milo to sample neighbourhood\n",
    "milo.make_nhoods(bdata)\n",
    "# build neighbourhood adata in bdata.uns['nhood_adata']\n",
    "milo.count_nhoods(bdata, sample_col='Sample') # this step is needed to build bdata.uns['nhood_adata'] and sample_col can be anything\n",
    "# this step is needed for plotting below\n",
    "milopy.utils.build_nhood_graph(bdata)\n",
    "# assign neighbourhood celltype by majority voting\n",
    "# results are in bdata.uns['nhood_adata'].obs['nhood_annotation'] & bdata.uns['nhood_adata'].obs['nhood_annotation_frac'] \n",
    "milopy.utils.annotate_nhoods(bdata, anno_col='annotation_level_3')\n",
    "bdata"
   ]
  },
  {
   "cell_type": "markdown",
   "id": "variable-congo",
   "metadata": {},
   "source": [
    "Now neighbourhood adata is stored in bdata.uns['nhood_adata']"
   ]
  },
  {
   "cell_type": "markdown",
   "id": "olive-heading",
   "metadata": {},
   "source": [
    "# Create neighbourhood VDJ feature space"
   ]
  },
  {
   "cell_type": "code",
   "execution_count": null,
   "id": "awful-israeli",
   "metadata": {},
   "outputs": [],
   "source": [
    "#### this option for DP\n",
    "# function for making neighbourhood vdj feature space\n",
    "nhood_adata = ddl.tl.vdj_pseudobulk(bdata, pbs = bdata.obsm['nhoods'], obs_to_take = 'annotation_level_3', extract_cols=['v_call_abT_VDJ_main', 'j_call_abT_VDJ_main','v_call_abT_VJ_main', 'j_call_abT_VJ_main'])\n",
    "nhood_adata"
   ]
  },
  {
   "cell_type": "markdown",
   "id": "polish-tampa",
   "metadata": {},
   "source": [
    "     nhood_adata is the new neighbourhood VDJ feature space, whereby each observation is a cell neighbourhood\n",
    "     VDJ usage frequency stored in nhood_adata.X\n",
    "     VDJ genes stored in nhood_adata.var\n",
    "     neighbourhood metadata stored in nhood_adata.obs\n",
    "     can visualise the data using PCA or UMAP (see below)"
   ]
  },
  {
   "cell_type": "code",
   "execution_count": null,
   "id": "healthy-promise",
   "metadata": {
    "tags": []
   },
   "outputs": [],
   "source": [
    "# # sort out the annotation colour order\n",
    "nhood_adata.obs['annotation_level_3'] = nhood_adata.obs['annotation_level_3'].astype('category')\n",
    "nhood_adata.obs['annotation_level_3'] = nhood_adata.obs['annotation_level_3'].cat.reorder_categories(ct_order)"
   ]
  },
  {
   "cell_type": "markdown",
   "id": "fourth-catholic",
   "metadata": {},
   "source": [
    "## Run Pseudotime on VDJ feature space"
   ]
  },
  {
   "cell_type": "code",
   "execution_count": null,
   "id": "descending-appeal",
   "metadata": {},
   "outputs": [],
   "source": [
    "# make sure you install palantir if you don't already have it\n",
    "\n",
    "# Run diffusion maps\n",
    "pca_projections = pd.DataFrame(nhood_adata.obsm['X_pca'], index=nhood_adata.obs_names)\n",
    "dm_res = palantir.utils.run_diffusion_maps(pca_projections, n_components=10)\n",
    "dm_res"
   ]
  },
  {
   "cell_type": "code",
   "execution_count": null,
   "id": "swedish-function",
   "metadata": {},
   "outputs": [],
   "source": [
    "# based on plot above, choose n_eigs\n",
    "ms_data = palantir.utils.determine_multiscale_space(dm_res, n_eigs=5)"
   ]
  },
  {
   "cell_type": "code",
   "execution_count": null,
   "id": "spread-cross",
   "metadata": {
    "tags": []
   },
   "outputs": [],
   "source": [
    "# for DN only\n",
    "#plt.rcParams[\"figure.figsize\"] = [4,4]\n",
    "#sc.pl.umap(nhood_adata, color=[col + '_None' for col in cols],color_map = 'RdYlBu_r')"
   ]
  },
  {
   "cell_type": "code",
   "execution_count": null,
   "id": "blocked-french",
   "metadata": {},
   "outputs": [],
   "source": [
    "# select the start and end points\n",
    "# start\n",
    "tmp = nhood_adata[nhood_adata.obs['annotation_level_3'] == 'T_DP(P)']\n",
    "#tmp = nhood_adata[nhood_adata.obs['mapping_anno_v3'] == 'DN(early)']\n",
    "rootcell = np.argmax(tmp.obsm['X_umap'][:,1])\n",
    "rootcell = tmp.obs_names[rootcell]\n",
    "nhood_adata.obs['rootcell'] = 0\n",
    "nhood_adata.obs.loc[rootcell,'rootcell'] = 1"
   ]
  },
  {
   "cell_type": "code",
   "execution_count": null,
   "id": "limiting-crash",
   "metadata": {},
   "outputs": [],
   "source": [
    "# ends\n",
    "tmp1 = nhood_adata[nhood_adata.obs['annotation_level_3'] == 'T_CD8']\n",
    "tmp2 = nhood_adata[nhood_adata.obs['annotation_level_3'] == 'T_CD4']\n",
    "endcell1 = np.argmax(tmp1.obsm['X_umap'][:,0])\n",
    "endcell1 = tmp1.obs_names[endcell1]\n",
    "endcell2 = np.argmax(tmp2.obsm['X_umap'][0,:])\n",
    "endcell2 = tmp2.obs_names[endcell2]\n",
    "\n",
    "terminal_states = pd.Series(['T_CD8', 'T_CD4'], \n",
    "                           index=[endcell1,endcell2])"
   ]
  },
  {
   "cell_type": "code",
   "execution_count": null,
   "id": "computational-locking",
   "metadata": {},
   "outputs": [],
   "source": [
    "# plot rootcell and terminal states\n",
    "nhood_adata.obs['terminal_states'] = 0\n",
    "nhood_adata.obs.loc[terminal_states.index, 'terminal_states'] = 1\n",
    "plt.rcParams[\"figure.figsize\"] = [4,4]\n",
    "sc.pl.umap(nhood_adata,color=['rootcell','terminal_states','annotation_level_3'],\n",
    "           title=['root cell','terminal states','nhood annotation'],color_map='OrRd')"
   ]
  },
  {
   "cell_type": "code",
   "execution_count": null,
   "id": "compact-consideration",
   "metadata": {},
   "outputs": [],
   "source": [
    "pr_res = palantir.core.run_palantir(ms_data,  rootcell, num_waypoints=500, \n",
    "                                    terminal_states = terminal_states.index)"
   ]
  },
  {
   "cell_type": "code",
   "execution_count": null,
   "id": "tested-chick",
   "metadata": {},
   "outputs": [],
   "source": [
    "pr_res.branch_probs.columns = terminal_states[pr_res.branch_probs.columns]"
   ]
  },
  {
   "cell_type": "markdown",
   "id": "laughing-patio",
   "metadata": {},
   "source": [
    "## Visualise the data"
   ]
  },
  {
   "cell_type": "code",
   "execution_count": null,
   "id": "conservative-while",
   "metadata": {},
   "outputs": [],
   "source": [
    "ddl.tl.pseudotime_transfer(adata = nhood_adata, pr_res = pr_res, suffix = '_nhood_vdj')"
   ]
  },
  {
   "cell_type": "code",
   "execution_count": null,
   "id": "spanish-vector",
   "metadata": {},
   "outputs": [],
   "source": [
    "plt.rcParams[\"figure.figsize\"] = [4,4]\n",
    "plot = ['pseudotime', 'prob_T_CD8', 'prob_T_CD4']\n",
    "sc.pl.umap(nhood_adata,color=[term + '_nhood_vdj' for term in plot],\n",
    "           title=['pseudotime','branch probability to T_CD8',\n",
    "                  'branch probability to T_CD4'],\n",
    "           frameon=False,wspace=0.1,\n",
    "           color_map = 'RdYlBu_r'\n",
    "          )"
   ]
  },
  {
   "cell_type": "markdown",
   "id": "banned-collaboration",
   "metadata": {},
   "source": [
    "## Project pseudotime and branch probabilities back to cells"
   ]
  },
  {
   "cell_type": "code",
   "execution_count": null,
   "id": "correct-prompt",
   "metadata": {},
   "outputs": [],
   "source": [
    "# project the nhood level pseudotime to cell level pseudotime.\n",
    "cdata = ddl.tl.project_pseudotime_to_cell(adata = bdata, \n",
    "                               pb_adata = nhood_adata, \n",
    "                               term_states=['T_CD8','T_CD4'], \n",
    "                               suffix = '_nhood_vdj')"
   ]
  },
  {
   "cell_type": "code",
   "execution_count": null,
   "id": "third-julian",
   "metadata": {},
   "outputs": [],
   "source": [
    "sc.pl.umap(cdata, \n",
    "           color=[term + '_nhood_vdj' for term in plot]+['annotation_level_3'],\n",
    "           color_map = 'RdYlBu_r')"
   ]
  },
  {
   "cell_type": "code",
   "execution_count": null,
   "id": "cutting-abuse",
   "metadata": {},
   "outputs": [],
   "source": [
    "sns.set_theme(style='white')\n",
    "fig, ax = plt.subplots(figsize=(15,5))\n",
    "cdata.obs['annotation_level_3'] = cdata.obs['annotation_level_3'].cat.reorder_categories(ct_order)\n",
    "df = cdata.obs.copy()\n",
    "sigma = 0.01\n",
    "df['prob_T_CD8_nhood_vdj'] = df['prob_T_CD8_nhood_vdj'] + (np.random.rand(len(df['prob_T_CD8_nhood_vdj']))-0.5)*sigma\n",
    "ax= sns.scatterplot(data=df, \n",
    "                    x ='pseudotime_nhood_vdj',\n",
    "                    y='prob_T_CD8_nhood_vdj',\n",
    "                    s=4,\n",
    "                    hue='annotation_level_3',\n",
    "                    palette = ct_color_map)\n",
    "ax.set_ylabel('probability to T_CD8')    \n",
    "ax.set_xlabel('pseudotime')\n",
    "ax.set_title('')\n",
    "h,l = ax.get_legend_handles_labels()\n",
    "l1 = ax.legend(h[:10],l[:10], loc='upper right',bbox_to_anchor=(1.2, 1),frameon=False, fontsize='small')\n",
    "plt.savefig(fig_path+'/pseudotime_scatterplot_nhood_vdj.pdf',bbox_inches='tight')"
   ]
  },
  {
   "cell_type": "code",
   "execution_count": null,
   "id": "permanent-strip",
   "metadata": {},
   "outputs": [],
   "source": [
    "cdata.obs['annotation_level_3']"
   ]
  },
  {
   "cell_type": "code",
   "execution_count": null,
   "id": "southeast-arkansas",
   "metadata": {},
   "outputs": [],
   "source": [
    "bins = np.linspace(start=0, stop=1, num=21)[1:]\n",
    "cdata.obs[\"prob_T_CD8_nhood_vdj_bin\"]=np.digitize(cdata.obs[\"prob_T_CD8_nhood_vdj\"], bins, right=True)\n",
    "\n",
    "fig, ax = plt.subplots(figsize=(18,5))\n",
    "\n",
    "# plot color bar\n",
    "norm = plt.Normalize(0, 1)\n",
    "sm = plt.cm.ScalarMappable(cmap=\"rocket_r\", norm=norm)\n",
    "sm.set_array([])\n",
    "\n",
    "ax=sns.stripplot(data=cdata.obs, x=\"pseudotime_nhood_vdj\", y=\"annotation_level_3\", hue=\"prob_T_CD8_nhood_vdj_bin\",\n",
    "                   palette='rocket_r',dodge=True, size=1)\n",
    "ax.set_ylabel('')    \n",
    "ax.set_xlabel('pseudotime')\n",
    "ax.set_title('')\n",
    "ax.get_legend().remove()\n",
    "ax.figure.colorbar(sm)\n",
    "\n",
    "#plt.savefig(fig_path+'vdj_pseudotime_stripplot.pdf',bbox_inches='tight')"
   ]
  },
  {
   "cell_type": "code",
   "execution_count": null,
   "id": "neutral-filter",
   "metadata": {},
   "outputs": [],
   "source": [
    "# DP to SPT, combined option\n",
    "cdata.uns['nhood_adata'].uns['annotation_labels'] = np.nan\n",
    "cdata.write('/nfs/team205/ny1/ThymusSpatialAtlas/Figure3/VDJ/DP_combined_pseudotime.h5ad')\n",
    "cdata"
   ]
  },
  {
   "cell_type": "markdown",
   "id": "acute-ivory",
   "metadata": {},
   "source": [
    "# look at the TRAV/J expression in DP(Q) that are beyond the bifurcation point"
   ]
  },
  {
   "cell_type": "code",
   "execution_count": null,
   "id": "selected-values",
   "metadata": {},
   "outputs": [],
   "source": [
    "# look at TRAV/TRAJ expression \n",
    "bulk_adata = ddl.tl.vdj_pseudobulk(adata = cdata, obs_to_bulk = ['annotation_level_3'], obs_to_take = ['annotation_level_3'],\n",
    "                                   extract_cols= ['v_call_abT_VDJ_main', 'j_call_abT_VDJ_main','v_call_abT_VJ_main', 'j_call_abT_VJ_main'])"
   ]
  },
  {
   "cell_type": "code",
   "execution_count": null,
   "id": "clean-product",
   "metadata": {},
   "outputs": [],
   "source": [
    "# load TCR list by location - lists in github folder metadata/TCR_genes\n",
    "TCR_list_by_loc_dict = {}\n",
    "for chain in ['TRAV','TRAJ']:\n",
    "    path = '/lustre/scratch117/cellgen/team205/cs42/VDJ_collab_manuscript/gene_list/'+chain+'_list_by_location.csv'\n",
    "    TCR_list_by_loc_dict[chain] = list(pd.read_csv(path, header=None)[0])"
   ]
  },
  {
   "cell_type": "code",
   "execution_count": null,
   "id": "random-custody",
   "metadata": {},
   "outputs": [],
   "source": [
    "gene_intersection = [gene for gene in TCR_list_by_loc_dict['TRAV'] if gene in bulk_adata.var_names] +[gene for gene in TCR_list_by_loc_dict['TRAJ'] if gene in bulk_adata.var_names] \n",
    "trav = pd.DataFrame(index = bulk_adata.obs['annotation_level_3'], columns = gene_intersection,\n",
    "                    data = bulk_adata[:,gene_intersection].X)\n",
    "trav = trav"
   ]
  },
  {
   "cell_type": "code",
   "execution_count": null,
   "id": "realistic-failing",
   "metadata": {},
   "outputs": [],
   "source": [
    "trav = trav.reindex(['T_DP(P)','T_DP(Q)-early','T_alpha_vj_init','T_alpha_vj_inter','T_alpha_vj_adv','T_alpha_vj_late','T_DP(Q)-HSPH1','T_DP(Q)-CD99','T_αβT(entry)','T_αβT(entry)_CD4','T_αβT(entry)_CD8', 'T_CD4','T_CD8'])\n",
    "# trav = trav.reindex(['T_DP(P)','T_DP(Q)-early', 'T_DP(Q)', 'T_DP(Q)-HSPH1','T_DP(Q)-CD99','T_DP_late','T_αβT(entry)','T_αβT(entry)_CD4', 'T_CD4','T_αβT(entry)_CD8','T_CD8'])"
   ]
  },
  {
   "cell_type": "code",
   "execution_count": null,
   "id": "mechanical-appearance",
   "metadata": {},
   "outputs": [],
   "source": [
    "fig_path"
   ]
  },
  {
   "cell_type": "code",
   "execution_count": null,
   "id": "scheduled-proof",
   "metadata": {},
   "outputs": [],
   "source": [
    "plt.rcParams[\"figure.figsize\"] = [15,8]\n",
    "sns.heatmap(trav)\n",
    "# DP_late is using the end of TRAV/TRAJ"
   ]
  },
  {
   "cell_type": "code",
   "execution_count": null,
   "id": "thorough-thailand",
   "metadata": {},
   "outputs": [],
   "source": [
    "# generate some vdj plots "
   ]
  },
  {
   "cell_type": "code",
   "execution_count": null,
   "id": "dense-campaign",
   "metadata": {},
   "outputs": [],
   "source": [
    "adata = adata[adata.obs['annotation_level_3'].isin(ct_order)]"
   ]
  },
  {
   "cell_type": "code",
   "execution_count": null,
   "id": "auburn-pillow",
   "metadata": {},
   "outputs": [],
   "source": [
    "sc.settings.set_figure_params(dpi = 160, color_map = 'RdYlBu_r', dpi_save = 300, format = 'pdf')\n",
    "sc.pl.umap(adata, color=['pseudotime_nhood_vdj','prob_T_CD4_nhood_vdj','prob_T_CD8_nhood_vdj'],legend_loc='on data',frameon=False)"
   ]
  }
 ],
 "metadata": {
  "kernelspec": {
   "display_name": "imagespot",
   "language": "python",
   "name": "imagespot"
  },
  "language_info": {
   "codemirror_mode": {
    "name": "ipython",
    "version": 3
   },
   "file_extension": ".py",
   "mimetype": "text/x-python",
   "name": "python",
   "nbconvert_exporter": "python",
   "pygments_lexer": "ipython3",
   "version": "3.9.13"
  }
 },
 "nbformat": 4,
 "nbformat_minor": 5
}
