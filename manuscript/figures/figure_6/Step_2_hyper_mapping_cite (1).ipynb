{
 "cells": [
  {
   "cell_type": "code",
   "execution_count": null,
   "id": "compatible-queensland",
   "metadata": {},
   "outputs": [],
   "source": [
    " # "
   ]
  },
  {
   "cell_type": "code",
   "execution_count": 1,
   "id": "accepted-strength",
   "metadata": {},
   "outputs": [],
   "source": [
    "# fine annotate lineage \n",
    "import scanpy as sc\n",
    "import numpy as np\n",
    "import pandas as pd\n",
    "import seaborn as sns\n",
    "import os,sys\n",
    "import anndata\n",
    "import warnings \n",
    "warnings.filterwarnings('ignore')\n",
    "\n"
   ]
  },
  {
   "cell_type": "code",
   "execution_count": 2,
   "id": "extended-berkeley",
   "metadata": {},
   "outputs": [
    {
     "name": "stdout",
     "output_type": "stream",
     "text": [
      "scanpy==1.9.1 anndata==0.8.0 umap==0.5.3 numpy==1.23.3 scipy==1.9.1 pandas==1.4.4 scikit-learn==1.1.2 statsmodels==0.13.2 python-igraph==0.9.11 pynndescent==0.5.7\n"
     ]
    }
   ],
   "source": [
    "sc.logging.print_header()\n",
    "import matplotlib.pyplot as plt\n",
    "sc.settings.set_figure_params(dpi = 200, color_map = 'RdYlBu_r', dpi_save = 300, format = 'pdf',fontsize=5)\n",
    "plt.rcParams[\"figure.figsize\"] = [6,6]\n",
    "# sns.set_palette('colorblind')"
   ]
  },
  {
   "cell_type": "markdown",
   "id": "advisory-philippines",
   "metadata": {},
   "source": [
    "# integrate spatial object "
   ]
  },
  {
   "cell_type": "code",
   "execution_count": 3,
   "id": "expected-september",
   "metadata": {},
   "outputs": [],
   "source": [
    "adata_paed = sc.read_h5ad('/nfs/team205/vk8/projects/thymus_atlas/results/thymus_atlas_v2_anno_hyper2_paed_CITE_v11_v2/cell2location_map/sp.h5ad')"
   ]
  },
  {
   "cell_type": "code",
   "execution_count": 4,
   "id": "chicken-oliver",
   "metadata": {},
   "outputs": [],
   "source": [
    "# add 5% quantile, representing confident cell abundance, 'at least this amount is present', \n",
    "# to adata.obs with nice names for plotting\n",
    "adata_paed.obs[adata_paed.uns['mod']['factor_names']] = adata_paed.obsm['q05_cell_abundance_w_sf']"
   ]
  },
  {
   "cell_type": "code",
   "execution_count": 5,
   "id": "sought-dining",
   "metadata": {},
   "outputs": [],
   "source": [
    "# adata_paed.obs['tot_cell_abundance'] = adata_paed.uns[\"mod\"][\"post_sample_means\"][\"w_sf\"].sum(1).flatten()\n",
    "adata_paed.obs['detection_sensit']  = adata_paed.uns[\"mod\"][\"post_sample_q05\"][\"detection_y_s\"]"
   ]
  },
  {
   "cell_type": "code",
   "execution_count": 6,
   "id": "therapeutic-culture",
   "metadata": {},
   "outputs": [
    {
     "data": {
      "text/plain": [
       "AnnData object with n_obs × n_vars = 29946 × 14786\n",
       "    obs: 'Sample', 'Sample_hr', 'SampleID', 'SlideID', 'Position', 'in_tissue', 'array_row', 'array_col', 'x', 'y', 'n_genes_by_counts', 'log1p_n_genes_by_counts', 'total_counts', 'log1p_total_counts', 'percent_mito', 'annotations_level_0', 'annotations_level_0_number', 'annotations_level_1', 'annotations_level_1_number', 'annotations_lobules_0', 'annotations_lobules_0_number', 'L2_dist_annotations_level_0_Artifacts', 'L2_dist_annotations_level_0_Cortex', 'L2_dist_annotations_level_0_Edge', 'L2_dist_annotations_level_0_Medulla', 'L2_dist_annotations_level_1_HS', 'L2_dist_annotations_level_1_PVS', 'L2_dist_annotations_level_1_fat', 'L2_dist_annotations_level_1_vessels', 'L2_dist_annotations_level_0_lymph', 'L2_dist_annotations_level_1_unassigned', 'cm', 'cc', 'cma_v2', 'manual_bin_cma_v2', 'manual_bin_cma_v2_int', 'Image_name', 'Image_jpg', 'section_thickness (um)', 'permebialisation(min)', 'RIN/DV200', 'Visium_type', 'Funding', 'Sequencer', 'DonorID', 'Donor_type', 'Age_group', 'Age(misc)', 'Age(numeric)', 'Source', 'Study', 'Study name ', 'Study ID', 'Research_no', 'Deposited before ', 'Sex', 'QC', 'Batch', 'Spaceranger', 'old_sample_name', 'annotation version', 'path', 'updated pipeline', 'L1_knn1', 'L0_KNN10', 'for mapping ', 'batch', 'cma_v1', '_indices', '_scvi_batch', '_scvi_labels', '0', '1', '2', '3', '4', '5', '6', '7', '8', '9', '10', '11', '12', '13', '14', '15', '16', '17', '18', '19', '20', '21', '22', '23', '24', '25', '26', '27', '28', '29', '30', '31', '32', '33', '34', '35', '36', '37', '38', '39', '40', '41', '42', '43', '44', '45', '46', '47', '48', '49', '50', '51', '52', '53', '54', '55', '56', '57', '58', '59', '60', '61', '62', '63', '64', '65', '66', '67', '68', '69', '70', '71', '72', '73', '74', '75', '76', '77', '78', '79', '80', '81', '82', '83', '84', '85', '86', '87', '88', '89', '90', '91', '92', '93', '94', '95', '96', '97', '98', '99', '100', '101', '102', '103', '104', '105', '106', '107', '108', '109', '110', '111', '112', '113', '114', '115', '116', '117', '118', '119', '120', '121', '122', '123', '124', '125', '126', '127', '128', '129', '130', '131', '132', '133', '134', '135', '136', '137', '138', '139', '140', '141', '142', '143', '144', '145', '146', '147', '148', '149', '150', '151', '152', '153', '154', '155', '156', '157', '158', '159', '160', '161', '162', '163', '164', '165', '166', '167', '168', '169', '170', '171', '172', '173', '174', '175', '176', '177', '178', '179', '180', '181', '182', '183', '184', '185', '186', '187', '188', '189', '190', '191', '192', '193', '194', '195', '196', '197', '198', '199', '200', '201', '202', '203', '204', '205', '206', '207', '208', '209', '210', '211', '212', '213', '214', '215', '216', '217', '218', '219', '220', '221', '222', '223', '224', '225', '226', '227', '228', '229', '230', '231', '232', '233', '234', '235', '236', '237', '238', '239', '240', '241', '242', '243', '244', '245', '246', '247', '248', '249', '250', '251', '252', '253', '254', '255', '256', '257', '258', '259', '260', '261', '262', '263', '264', '265', '266', '267', '268', '269', '270', '271', '272', '273', '274', '275', '276', '277', '278', '279', '280', '281', '282', '283', '284', '285', '286', '287', '288', '289', '290', '291', '292', '293', '294', '295', '296', '297', '298', '299', '300', '301', '302', '303', '304', '305', '306', '307', '308', '309', '310', '311', '312', '313', '314', '315', '316', '317', '318', '319', '320', '321', '322', '323', '324', '325', '326', '327', '328', '329', '330', '331', '332', '333', '334', '335', '336', '337', '338', '339', '340', '341', '342', '343', '344', '345', '346', '347', '348', '349', '350', '351', '352', '353', '354', '355', '356', '357', '358', '359', '360', '361', '362', '363', '364', '365', '366', '367', '368', '369', '370', '371', '372', '373', '374', '375', '376', '377', '378', '379', '380', '381', '382', '383', '384', '385', '386', '387', '388', '389', '390', '391', '392', '393', '394', '395', '396', '397', '398', '399', '400', '401', '402', '403', '404', '405', '406', '407', '408', '409', '410', '411', '412', '413', '414', '415', '416', '417', '418', '419', '420', '421', '422', '423', '424', '425', '426', '427', '428', '429', '430', '431', '432', '433', '434', '435', '436', '437', '438', '439', '440', '441', '442', '443', '444', '445', '446', '447', '448', '449', '450', '451', '452', '453', '454', '455', '456', '457', '458', '459', '460', '461', '462', '463', '464', '465', '466', '467', '468', '469', '470', '471', '472', '473', '474', '475', '476', '477', '478', '479', '480', '481', '482', '483', '484', '485', '486', '487', '488', '489', '490', '491', '492', '493', '494', '495', '496', '497', '498', '499', '500', '501', '502', '503', '504', '505', '506', '507', '508', '509', '510', '511', '512', '513', '514', '515', '516', '517', '518', '519', '520', '521', '522', '523', '524', '525', '526', '527', '528', '529', '530', '531', '532', '533', '534', '535', '536', '537', '538', '539', '540', '541', '542', '543', '544', '545', '546', '547', '548', '549', '550', '551', '552', '553', '554', '555', '556', '557', '558', '559', '560', '561', '562', '563', '564', '565', '566', '567', '568', '569', '570', '571', '572', '573', '574', '575', '576', '577', '578', '579', '580', '581', '582', '583', '584', '585', '586', '587', '588', '589', '590', '591', '592', '593', '594', '595', '596', '597', '598', '599', '600', '601', '602', '603', '604', '605', '606', '607', '608', '609', '610', '611', '612', '613', '614', '615', '616', '617', '618', '619', '620', '621', '622', '623', '624', 'detection_sensit'\n",
       "    var: 'ENSEMBL', 'feature_types', 'genome', 'SYMBOL', 'mt', 'MT_gene'\n",
       "    uns: '_scvi_manager_uuid', '_scvi_uuid', 'hires_grid', 'hires_grid_diam', 'hires_grid_ppm', 'mod', 'spatial', 'visium_ppm'\n",
       "    obsm: 'MT', '_scvi_extra_categorical_covs', '_scvi_extra_continuous_covs', 'q05_cell_abundance_w_sf', 'q50_cell_abundance_w_sf', 'q95_cell_abundance_w_sf', 'spatial'"
      ]
     },
     "execution_count": 6,
     "metadata": {},
     "output_type": "execute_result"
    }
   ],
   "source": [
    "# adata_paed_filt = adata_paed[adata_paed.obs['tot_cell_abundance']>30,:].copy()\n",
    "adata_paed_filt = adata_paed[adata_paed.obs['n_genes_by_counts']>1000,:].copy()\n",
    "\n",
    "adata_paed_filt"
   ]
  },
  {
   "cell_type": "code",
   "execution_count": 7,
   "id": "conventional-trout",
   "metadata": {},
   "outputs": [
    {
     "data": {
      "text/plain": [
       "AnnData object with n_obs × n_vars = 24779 × 14786\n",
       "    obs: 'Sample', 'Sample_hr', 'SampleID', 'SlideID', 'Position', 'in_tissue', 'array_row', 'array_col', 'x', 'y', 'n_genes_by_counts', 'log1p_n_genes_by_counts', 'total_counts', 'log1p_total_counts', 'percent_mito', 'annotations_level_0', 'annotations_level_0_number', 'annotations_level_1', 'annotations_level_1_number', 'annotations_lobules_0', 'annotations_lobules_0_number', 'L2_dist_annotations_level_0_Artifacts', 'L2_dist_annotations_level_0_Cortex', 'L2_dist_annotations_level_0_Edge', 'L2_dist_annotations_level_0_Medulla', 'L2_dist_annotations_level_1_HS', 'L2_dist_annotations_level_1_PVS', 'L2_dist_annotations_level_1_fat', 'L2_dist_annotations_level_1_vessels', 'L2_dist_annotations_level_0_lymph', 'L2_dist_annotations_level_1_unassigned', 'cm', 'cc', 'cma_v2', 'manual_bin_cma_v2', 'manual_bin_cma_v2_int', 'Image_name', 'Image_jpg', 'section_thickness (um)', 'permebialisation(min)', 'RIN/DV200', 'Visium_type', 'Funding', 'Sequencer', 'DonorID', 'Donor_type', 'Age_group', 'Age(misc)', 'Age(numeric)', 'Source', 'Study', 'Study name ', 'Study ID', 'Research_no', 'Deposited before ', 'Sex', 'QC', 'Batch', 'Spaceranger', 'old_sample_name', 'annotation version', 'path', 'updated pipeline', 'L1_knn1', 'L0_KNN10', 'for mapping ', 'batch', 'cma_v1', '_indices', '_scvi_batch', '_scvi_labels', '0', '1', '2', '3', '4', '5', '6', '7', '8', '9', '10', '11', '12', '13', '14', '15', '16', '17', '18', '19', '20', '21', '22', '23', '24', '25', '26', '27', '28', '29', '30', '31', '32', '33', '34', '35', '36', '37', '38', '39', '40', '41', '42', '43', '44', '45', '46', '47', '48', '49', '50', '51', '52', '53', '54', '55', '56', '57', '58', '59', '60', '61', '62', '63', '64', '65', '66', '67', '68', '69', '70', '71', '72', '73', '74', '75', '76', '77', '78', '79', '80', '81', '82', '83', '84', '85', '86', '87', '88', '89', '90', '91', '92', '93', '94', '95', '96', '97', '98', '99', '100', '101', '102', '103', '104', '105', '106', '107', '108', '109', '110', '111', '112', '113', '114', '115', '116', '117', '118', '119', '120', '121', '122', '123', '124', '125', '126', '127', '128', '129', '130', '131', '132', '133', '134', '135', '136', '137', '138', '139', '140', '141', '142', '143', '144', '145', '146', '147', '148', '149', '150', '151', '152', '153', '154', '155', '156', '157', '158', '159', '160', '161', '162', '163', '164', '165', '166', '167', '168', '169', '170', '171', '172', '173', '174', '175', '176', '177', '178', '179', '180', '181', '182', '183', '184', '185', '186', '187', '188', '189', '190', '191', '192', '193', '194', '195', '196', '197', '198', '199', '200', '201', '202', '203', '204', '205', '206', '207', '208', '209', '210', '211', '212', '213', '214', '215', '216', '217', '218', '219', '220', '221', '222', '223', '224', '225', '226', '227', '228', '229', '230', '231', '232', '233', '234', '235', '236', '237', '238', '239', '240', '241', '242', '243', '244', '245', '246', '247', '248', '249', '250', '251', '252', '253', '254', '255', '256', '257', '258', '259', '260', '261', '262', '263', '264', '265', '266', '267', '268', '269', '270', '271', '272', '273', '274', '275', '276', '277', '278', '279', '280', '281', '282', '283', '284', '285', '286', '287', '288', '289', '290', '291', '292', '293', '294', '295', '296', '297', '298', '299', '300', '301', '302', '303', '304', '305', '306', '307', '308', '309', '310', '311', '312', '313', '314', '315', '316', '317', '318', '319', '320', '321', '322', '323', '324', '325', '326', '327', '328', '329', '330', '331', '332', '333', '334', '335', '336', '337', '338', '339', '340', '341', '342', '343', '344', '345', '346', '347', '348', '349', '350', '351', '352', '353', '354', '355', '356', '357', '358', '359', '360', '361', '362', '363', '364', '365', '366', '367', '368', '369', '370', '371', '372', '373', '374', '375', '376', '377', '378', '379', '380', '381', '382', '383', '384', '385', '386', '387', '388', '389', '390', '391', '392', '393', '394', '395', '396', '397', '398', '399', '400', '401', '402', '403', '404', '405', '406', '407', '408', '409', '410', '411', '412', '413', '414', '415', '416', '417', '418', '419', '420', '421', '422', '423', '424', '425', '426', '427', '428', '429', '430', '431', '432', '433', '434', '435', '436', '437', '438', '439', '440', '441', '442', '443', '444', '445', '446', '447', '448', '449', '450', '451', '452', '453', '454', '455', '456', '457', '458', '459', '460', '461', '462', '463', '464', '465', '466', '467', '468', '469', '470', '471', '472', '473', '474', '475', '476', '477', '478', '479', '480', '481', '482', '483', '484', '485', '486', '487', '488', '489', '490', '491', '492', '493', '494', '495', '496', '497', '498', '499', '500', '501', '502', '503', '504', '505', '506', '507', '508', '509', '510', '511', '512', '513', '514', '515', '516', '517', '518', '519', '520', '521', '522', '523', '524', '525', '526', '527', '528', '529', '530', '531', '532', '533', '534', '535', '536', '537', '538', '539', '540', '541', '542', '543', '544', '545', '546', '547', '548', '549', '550', '551', '552', '553', '554', '555', '556', '557', '558', '559', '560', '561', '562', '563', '564', '565', '566', '567', '568', '569', '570', '571', '572', '573', '574', '575', '576', '577', '578', '579', '580', '581', '582', '583', '584', '585', '586', '587', '588', '589', '590', '591', '592', '593', '594', '595', '596', '597', '598', '599', '600', '601', '602', '603', '604', '605', '606', '607', '608', '609', '610', '611', '612', '613', '614', '615', '616', '617', '618', '619', '620', '621', '622', '623', '624', 'detection_sensit', 'full_lobule'\n",
       "    var: 'ENSEMBL', 'feature_types', 'genome', 'SYMBOL', 'mt', 'MT_gene'\n",
       "    uns: '_scvi_manager_uuid', '_scvi_uuid', 'hires_grid', 'hires_grid_diam', 'hires_grid_ppm', 'mod', 'spatial', 'visium_ppm'\n",
       "    obsm: 'MT', '_scvi_extra_categorical_covs', '_scvi_extra_continuous_covs', 'q05_cell_abundance_w_sf', 'q50_cell_abundance_w_sf', 'q95_cell_abundance_w_sf', 'spatial'"
      ]
     },
     "execution_count": 7,
     "metadata": {},
     "output_type": "execute_result"
    }
   ],
   "source": [
    "\n",
    "## remove meduala less lobules \n",
    "adata_paed_filt.obs['full_lobule'] = 0\n",
    "for s in adata_paed_filt.obs['SampleID'].cat.categories.tolist():\n",
    "    sample = adata_paed_filt[adata_paed_filt.obs['SampleID'].isin([s])]\n",
    "    for l in sample.obs['annotations_lobules_0'].cat.categories:\n",
    "        lobule = sample.obs['annotations_lobules_0'] == l\n",
    "        med = np.where(sample.obs['annotations_level_0'][lobule] == 'Medulla')[0]\n",
    "        cortex = np.where(sample.obs['annotations_level_0'][lobule] == 'Cortex')[0]\n",
    "        if (cortex.size>=5) & (med.size>=5):\n",
    "            adata_paed_filt.obs['full_lobule'][lobule.iloc[np.where(lobule)].index] = 1\n",
    "adata_paed_filt.obs['full_lobule'] = adata_paed_filt.obs['full_lobule'].astype('category')\n",
    "adata_paed_filt.obs['full_lobule'].value_counts()\n",
    "adata_paed_filt = adata_paed_filt[adata_paed_filt.obs['full_lobule']==1].copy()\n",
    "\n",
    "adata_paed_filt\n"
   ]
  },
  {
   "cell_type": "code",
   "execution_count": 8,
   "id": "excited-capital",
   "metadata": {},
   "outputs": [
    {
     "data": {
      "text/plain": [
       "Index(['0', '1', '2', '3', '4', '5', '6', '7', '8', '9',\n",
       "       ...\n",
       "       '615', '616', '617', '618', '619', '620', '621', '622', '623', '624'],\n",
       "      dtype='object', length=625)"
      ]
     },
     "execution_count": 8,
     "metadata": {},
     "output_type": "execute_result"
    }
   ],
   "source": [
    "celltypes = adata_paed_filt.uns['mod']['factor_names']\n",
    "cellab_paed = sc.AnnData(adata_paed_filt.obs[celltypes], \n",
    "                         obs = adata_paed_filt.obs.drop(celltypes, axis = 1),obsm = adata_paed_filt.obsm)\n",
    "sc.pp.normalize_total(cellab_paed,target_sum=100)\n",
    "cellab_paed.var_names"
   ]
  },
  {
   "cell_type": "code",
   "execution_count": 35,
   "id": "nuclear-block",
   "metadata": {},
   "outputs": [],
   "source": [
    "# version 3 hybrid\n",
    "import scipy \n",
    "\n",
    "cma_cluster = {}\n",
    "for c in cellab_paed.var_names:\n",
    "    # find the spots that have the highest expression of that cell\n",
    "    quantile = np.quantile(cellab_paed.X[:,np.where(cellab_paed.var_names==c)],0.95)\n",
    "    cells_above = np.where(cellab_paed.X[:,np.where(cellab_paed.var_names==c)]>quantile)[0]\n",
    "    obs_ind = np.where(cellab_paed.obs.columns == 'cma_v2')[0]\n",
    "    cell_abn = np.squeeze(cellab_paed.X[cells_above,np.where(cellab_paed.var_names==c)])                      \n",
    "    # get the cma value for these \n",
    "    cma_value =  np.squeeze(np.array(cellab_paed.obs.iloc[cells_above,obs_ind]))\n",
    "    cma_cluster[c] = np.dot(cell_abn,(np.exp2(cma_value-0.16)-1))/np.sum(cell_abn)\n",
    "\n",
    "\n",
    "\n",
    "# space_map\n",
    "# cma_cluster\n",
    "# print(len(cells_above))\n",
    "# cma_cluster"
   ]
  },
  {
   "cell_type": "code",
   "execution_count": 10,
   "id": "industrial-peninsula",
   "metadata": {},
   "outputs": [
    {
     "data": {
      "text/plain": [
       "AnnData object with n_obs × n_vars = 123873 × 14786\n",
       "    obs: 'n_genes', 'sample_barcode', 'batch', 'chemistry', 'age_group', 'age_numeric', 'sampleID_TCRab', 'path_TCRab', 'type', 'study', 'sample', 'enrichment', 'doublet_score', 'predicted_doublet', 'n_genes_by_counts', 'total_counts', 'total_counts_mt', 'pct_counts_mt', 'total_counts_ribo', 'pct_counts_ribo', 'total_counts_hb', 'pct_counts_hb', 'percent_mt2', 'n_counts', 'barcode_sequence', 'log1p_n_genes_by_counts', 'log1p_total_counts', 'log1p_total_counts_mt', 'status', 'assignment', 'log_prob_singleton', 'log_prob_doublet', 'louvian_1', 'louvian_05', 'latent_cell_probability', 'latent_RT_efficiency', 'log1p_n_counts', 'log1p_n_genes', 'percent_mito', 'n_counts_mito', 'percent_ribo', 'n_counts_ribo', 'percent_hb', 'n_counts_hb', 'percent_top50', 'n_counts_raw', 'log1p_n_counts_raw', 'n_genes_raw', 'log1p_n_genes_raw', 'percent_mito_raw', 'n_counts_mito_raw', 'percent_ribo_raw', 'n_counts_ribo_raw', 'percent_hb_raw', 'n_counts_hb_raw', 'percent_top50_raw', 'n_counts_spliced', 'log1p_n_counts_spliced', 'n_genes_spliced', 'log1p_n_genes_spliced', 'percent_mito_spliced', 'n_counts_mito_spliced', 'percent_ribo_spliced', 'n_counts_ribo_spliced', 'percent_hb_spliced', 'n_counts_hb_spliced', 'percent_top50_spliced', 'n_counts_unspliced', 'log1p_n_counts_unspliced', 'n_genes_unspliced', 'log1p_n_genes_unspliced', 'percent_mito_unspliced', 'n_counts_mito_unspliced', 'percent_ribo_unspliced', 'n_counts_ribo_unspliced', 'percent_hb_unspliced', 'n_counts_hb_unspliced', 'percent_top50_unspliced', 'percent_soup', 'percent_spliced', 'scrublet_score', 'scrublet_score_z', 'cluster_scrublet_score', 'bh_pval', 'scrublet_done', 'ctp_pred', 'ctp_pred_prob', 'ctp_pred_uncertain', 'qc_cluster', 'pass_auto_filter_mito20', 'good_qc_cluster_mito20', 'pass_default', 'mapping_anno_v2', 'Enzyme', 'Med_nFeature', 'Sample', 'SampleID_BCR', 'SampleID_TCRab', 'SampleID_TCRgd', 'sub_clusters', 'mapping_anno_v3', 'mapping_anno_v4', 'annotation_level_0', 'chemistry_simple', 'level_CD25', 'level_CD45RA', 'level_FOXP3', 'level_CD39', 'level_CD69', 'CITE_anno_v1', 'louvain_6', 'louvain_10', 'pct_counts_ribo-1', 'mapping_anno_v3_clean', 'louvain_20', 'Study_group', 'louvain_1', 'louvain_03', 'keep_0', 'has_contig', 'clone_id', 'clone_id_by_size', 'locus_VDJ', 'locus_VJ', 'productive_VDJ', 'productive_VJ', 'v_call_VDJ', 'd_call_VDJ', 'j_call_VDJ', 'v_call_VJ', 'j_call_VJ', 'c_call_VDJ', 'c_call_VJ', 'junction_VDJ', 'junction_VJ', 'junction_aa_VDJ', 'junction_aa_VJ', 'v_call_abT_VDJ', 'd_call_abT_VDJ', 'j_call_abT_VDJ', 'v_call_abT_VJ', 'j_call_abT_VJ', 'c_call_abT_VDJ', 'c_call_abT_VJ', 'productive_abT_VDJ', 'productive_abT_VJ', 'duplicate_count_abT_VDJ', 'duplicate_count_abT_VJ', 'v_call_VDJ_main', 'v_call_VJ_main', 'd_call_VDJ_main', 'j_call_VDJ_main', 'j_call_VJ_main', 'c_call_VDJ_main', 'c_call_VJ_main', 'v_call_abT_VDJ_main', 'd_call_abT_VDJ_main', 'j_call_abT_VDJ_main', 'v_call_abT_VJ_main', 'j_call_abT_VJ_main', 'isotype', 'isotype_status', 'locus_status', 'chain_status', 'rearrangement_status_VDJ', 'rearrangement_status_VJ', 'nhood_ixs_random', 'nhood_ixs_refined', 'nhood_kth_distance', 'pseudotime_nhood_vdj', 'prob_CD8+T_nhood_vdj', 'prob_CD4+T_nhood_vdj', 'backup_barcode', 'nCount_ADT', 'nFeature_ADT', 'orig.ident', 'nCount_RNA', 'nFeature_RNA', 'samples', 'ID', 'DOB', 'age_days', 'age_months', 'sex', 'percent.mt', 'percent.rb', 'T_Lineage_level_1', 'donor', 'validated_doublet', 'annotation_level_4', 'annotation_level_1', 'annotation_level_2', 'annotation_level_3', 'pred_pseudotime_nhood_vdj', 'pred_prob_T_CD4_nhood_vdj', 'pred_prob_T_CD8_nhood_vdj', 'park_2020_cell_type', 'panfetal_2022_cell_type', 'anno_CITE_4v5', 'cell_type_level_4', 'cell_type_level_3', 'cell_type_level_2', 'cell_type_level_1', 'cell_type_level_0', 'anno_CITE_4v6', 'hyper_leiden', '_indices', '_scvi_batch', '_scvi_labels'\n",
       "    var: 'cite', 'highly_variable', 'highly_variable_rank', 'means', 'variances', 'variances_norm', 'highly_variable_nbatches'\n",
       "    uns: '_scvi_manager_uuid', '_scvi_uuid', 'anno_CITE_4v6_colors', 'cell_type_level_2_colors', 'hvg', 'leiden', 'mod', 'neighbors'\n",
       "    obsm: 'X_scVI', 'X_umap', '_scvi_extra_categorical_covs', '_scvi_extra_continuous_covs'\n",
       "    varm: 'means_per_cluster_mu_fg', 'q05_per_cluster_mu_fg', 'q95_per_cluster_mu_fg', 'stds_per_cluster_mu_fg'\n",
       "    obsp: 'connectivities', 'distances'"
      ]
     },
     "execution_count": 10,
     "metadata": {},
     "output_type": "execute_result"
    }
   ],
   "source": [
    "adata_paed_cells = sc.read_h5ad('/nfs/team205/vk8/projects/thymus_atlas/results/thymus_atlas_v2_anno_hyper2_paed_CITE_v11_v2/reference_signatures/sc.h5ad')\n",
    "adata_paed_cells"
   ]
  },
  {
   "cell_type": "code",
   "execution_count": 36,
   "id": "endangered-tiffany",
   "metadata": {},
   "outputs": [],
   "source": [
    "adata_paed_cells.obs['mean_hyper_cma_exp'] = adata_paed_cells.obs['hyper_leiden'].map(cma_cluster)\n",
    "adata_paed_cells.obs['mean_hyper_cma_exp'] = adata_paed_cells.obs['mean_hyper_cma_exp'].astype('float32')\n"
   ]
  },
  {
   "cell_type": "code",
   "execution_count": 42,
   "id": "noted-husband",
   "metadata": {},
   "outputs": [],
   "source": [
    "adata_paed_cells.obs.to_csv('/nfs/team205/ny1/ThymusSpatialAtlas/new_Figure6/cite_paed_hyper_mapping.csv')"
   ]
  },
  {
   "cell_type": "code",
   "execution_count": 493,
   "id": "alive-introduction",
   "metadata": {},
   "outputs": [],
   "source": [
    "# adata_paed_cells.obs.to_csv('HSTA_paed_v21_anno.csv')\n",
    "adata_paed_cells.write_h5ad('/nfs/team205/ny1/ThymusSpatialAtlas/Figure5/Latest_version/HSTA_paed_v21_anno_hybrid.h5ad')"
   ]
  }
 ],
 "metadata": {
  "kernelspec": {
   "display_name": "imagespot",
   "language": "python",
   "name": "imagespot"
  },
  "language_info": {
   "codemirror_mode": {
    "name": "ipython",
    "version": 3
   },
   "file_extension": ".py",
   "mimetype": "text/x-python",
   "name": "python",
   "nbconvert_exporter": "python",
   "pygments_lexer": "ipython3",
   "version": "3.9.13"
  }
 },
 "nbformat": 4,
 "nbformat_minor": 5
}
