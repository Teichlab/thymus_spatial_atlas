{
 "cells": [
  {
   "cell_type": "markdown",
   "id": "4e900623",
   "metadata": {},
   "source": [
    "# CITEseq data analysis\n",
    "\n",
    "*Author: Lena Boehme, Taghon lab, 2023*\n",
    "\n",
    "## Comparing differentiation pseudotime with spatial mapping\n",
    "\n",
    "We have derived pseudotimes for developing CD4 and CD8 lineage cells. Furthermore, the dataset has been hyperclustered and then used for deconvolution of paediatric Visium data. By mapping the CMA values back to the CITE-seq data, we can now compare differentiation progress with thymic localisation\n",
    "\n",
    "### Setup"
   ]
  },
  {
   "cell_type": "code",
   "execution_count": null,
   "id": "91354b58",
   "metadata": {},
   "outputs": [],
   "source": [
    "setwd(\"/home/lenab/Documents/scSeq_analyses/B_TotalThymus_CITEseq/2022_TotalThymus_CITEseq_HTA/objects\")"
   ]
  },
  {
   "cell_type": "code",
   "execution_count": null,
   "id": "520964f1",
   "metadata": {},
   "outputs": [],
   "source": [
    "#default plotting settings\n",
    "\n",
    "options(repr.plot.width=12, repr.plot.height=6)\n",
    "\n",
    "options(scipen=100) #avoid scientific notation of numbers"
   ]
  },
  {
   "cell_type": "code",
   "execution_count": null,
   "id": "9b66a66e",
   "metadata": {},
   "outputs": [],
   "source": [
    "library(SeuratDisk)\n",
    "library(Seurat)\n",
    "library(matrixStats)\n",
    "library(ggplot2)\n",
    "library(pheatmap)\n",
    "library(reshape2)\n",
    "library(dplyr)\n",
    "library(tidyr)\n",
    "library(viridis)\n",
    "library(RColorBrewer)\n",
    "library(stringr)\n",
    "library(batchelor)\n",
    "library(BiocParallel)\n",
    "library(BiocNeighbors)\n",
    "library(slingshot)\n",
    "library(tradeSeq)\n",
    "library(SingleCellExperiment)\n",
    "library(scater)\n",
    "library(destiny)\n",
    "library(pals)\n",
    "library(ggrastr)\n",
    "library(scales)"
   ]
  },
  {
   "cell_type": "code",
   "execution_count": null,
   "id": "6c0f66a1",
   "metadata": {},
   "outputs": [],
   "source": [
    "sessionInfo()"
   ]
  },
  {
   "cell_type": "code",
   "execution_count": null,
   "id": "8d822dfa",
   "metadata": {},
   "outputs": [],
   "source": [
    "pal8 <- brewer.paired(8)\n",
    "pal12 <- brewer.paired(12)\n",
    "pal10 <- brewer.paired(10)\n",
    "pal16 <- brewer.paired(16)\n",
    "pal10v2 <- pal10[c(1:5,7,9,6,8,10)]"
   ]
  },
  {
   "cell_type": "code",
   "execution_count": null,
   "id": "9a29b542",
   "metadata": {},
   "outputs": [],
   "source": [
    "load('HTAv2_figure5.RData')"
   ]
  },
  {
   "cell_type": "markdown",
   "id": "cbe9bfe7",
   "metadata": {},
   "source": [
    "#### Marker expression along pseudotime"
   ]
  },
  {
   "cell_type": "code",
   "execution_count": null,
   "id": "ee0d4427",
   "metadata": {},
   "outputs": [],
   "source": [
    "seurObj_CITE_4vs8$anno_CITE_4v5 <- seurObj_CITE_abconv$anno_CITE_4v5[match(seurObj_CITE_4vs8$sample_barcode, seurObj_CITE_abconv$sample_barcode)]"
   ]
  },
  {
   "cell_type": "code",
   "execution_count": null,
   "id": "ac434589",
   "metadata": {},
   "outputs": [],
   "source": [
    "options(repr.plot.width=9, repr.plot.height=7)\n",
    "\n",
    "DimPlot(seurObj_CITE_4vs8, reduction = 'umap_wnn_4vs8', group.by = 'anno_CITE_4v5', shuffle=T, pt.size = 0.5, cols=pal12)"
   ]
  },
  {
   "cell_type": "code",
   "execution_count": null,
   "id": "c252a881",
   "metadata": {},
   "outputs": [],
   "source": [
    "max_CD4spt <- seurObj_CITE_4vs8$spt_spca_SP_CD4 %>% as.numeric %>% .[!is.na(.)] %>% max\n",
    "max_CD8spt <- seurObj_CITE_4vs8$spt_spca_SP_CD8 %>% as.numeric %>% .[!is.na(.)] %>% max\n",
    "max_CD4spt\n",
    "max_CD8spt"
   ]
  },
  {
   "cell_type": "code",
   "execution_count": null,
   "id": "3550a735",
   "metadata": {},
   "outputs": [],
   "source": [
    "options(repr.plot.width=5, repr.plot.height=4.5)\n",
    "\n",
    "pseudotimes_CD4 <- FeaturePlot(seurObj_CITE_4vs8, reduction = 'umap_wnn_4vs8', features = c('spt_spca_SP_CD4'),pt.size = 1, cols= rev(colorRampPalette(brewer.pal(11,'RdYlBu'))(max_CD4spt)), raster = T, raster.dpi = c(600,600))&theme_void()& labs(title = 'CD4 lineage pseudotime')\n",
    "\n",
    "pseudotimes_CD4"
   ]
  },
  {
   "cell_type": "code",
   "execution_count": null,
   "id": "6b4126e0",
   "metadata": {},
   "outputs": [],
   "source": [
    "options(repr.plot.width=5, repr.plot.height=4.5)\n",
    "\n",
    "pseudotimes_CD8 <- FeaturePlot(seurObj_CITE_4vs8, reduction = 'umap_wnn_4vs8', features = c('spt_spca_SP_CD8'),pt.size = 1, cols= rev(colorRampPalette(brewer.pal(11,'RdYlBu'))(max_CD8spt)), raster = T, raster.dpi = c(600,600))&theme_void()& labs(title = 'CD8 lineage pseudotime')\n",
    "\n",
    "pseudotimes_CD8"
   ]
  },
  {
   "cell_type": "code",
   "execution_count": null,
   "id": "7d325f9a",
   "metadata": {},
   "outputs": [],
   "source": [
    "ADT2.df <- seurObj_CITE_4vs8_clean@assays$ADTdsb@data %>% t %>% data.frame\n",
    "ADT2.df$spt_spca_SP_CD4 <- seurObj_CITE_4vs8_clean$spt_spca_SP_CD4\n",
    "ADT2.df$spt_spca_SP_CD8 <- seurObj_CITE_4vs8_clean$spt_spca_SP_CD8\n",
    "ADT2.df$anno_CITE_4v4 <- seurObj_CITE_4vs8_clean$anno_CITE_4v4\n",
    "ADT2.df$anno_CITE_4v5 <- seurObj_CITE_4vs8_clean$anno_CITE_4v5\n",
    "ADT2.df$dpt_rna_DP <- seurObj_CITE_4vs8_clean$dpt_rna_DP\n",
    "ADT2.df$dpt_rank_rna_DP <- seurObj_CITE_4vs8_clean$dpt_rank_rna_DP\n",
    "ADT2.df$pred_pseudotime_nhood_vdj <- seurObj_CITE_4vs8_clean$pred_pseudotime_nhood_vdj\n",
    "ADT2.df$spt_spca_SP_Treg <- seurObj_CITE_4vs8_clean$spt_spca_SP_Treg\n",
    "ADT2.df$spt_spca_SP_CD8aa <- seurObj_CITE_4vs8_clean$spt_spca_SP_CD8aa"
   ]
  },
  {
   "cell_type": "code",
   "execution_count": null,
   "id": "3a739bf0",
   "metadata": {},
   "outputs": [],
   "source": [
    "options(repr.plot.width=6, repr.plot.height=3)\n",
    "\n",
    "ggplot(ADT2.df, aes(y= anno_CITE_4v5, x=spt_spca_SP_CD4, color=anno_CITE_4v5))+\n",
    "geom_jitter(size=0.5, alpha=0.3)+\n",
    "scale_color_manual(values = pal10[3:10])+\n",
    "theme_bw()+\n",
    "labs(title='', y='', x='CD4 lineage sling pseudotime')&NoLegend()\n",
    "\n",
    "ggplot(ADT2.df, aes(y= anno_CITE_4v5, x=spt_spca_SP_CD8, color=anno_CITE_4v5))+\n",
    "geom_jitter(size=0.5, alpha=0.3)+\n",
    "theme_bw()+\n",
    "scale_color_manual(values = pal10[3:10])+\n",
    "labs(title='', y='', x='CD8 lineage sling pseudotime')&NoLegend()"
   ]
  },
  {
   "cell_type": "code",
   "execution_count": null,
   "id": "b62d8e55",
   "metadata": {},
   "outputs": [],
   "source": [
    "genes_plotting2 <- c(\"TOX2\", \"ITM2A\",\"EVL\",'IL7R', 'PDE3B', 'RGS1',\"MT2A\", 'CD4', 'ZBTB7B', 'CLDN1',  'STAT5A','CD40LG', \"TC2N\", 'ANXA1', 'GPR183', \"CD8A\", \"CD8B\", 'RUNX3','FTL', 'STAG3', 'AOAH', 'PLAC8', 'LITAF', 'KLRK1')"
   ]
  },
  {
   "cell_type": "code",
   "execution_count": null,
   "id": "c8ce5f0b",
   "metadata": {},
   "outputs": [],
   "source": [
    "options(repr.plot.width=7, repr.plot.height=8)\n",
    "DefaultAssay(seurObj_CITE_DPtoSP) <- 'RNA'\n",
    "\n",
    "dotplot_markers <- DotPlot(seurObj_CITE_DPtoSP, group.by = 'anno_CITE_4v5', features=genes_plotting2)+\n",
    "theme(axis.text.x = element_text(angle=45, hjust=1))+\n",
    "geom_point(aes(size=pct.exp), shape = 21, colour=\"black\", stroke=0.5) +\n",
    "scale_color_distiller(palette = 'Spectral', direction = -1)+\n",
    "labs(title = 'Selected markers')+\n",
    "coord_flip()\n",
    "\n",
    "dotplot_markers"
   ]
  },
  {
   "cell_type": "code",
   "execution_count": null,
   "id": "1bf810ab",
   "metadata": {},
   "outputs": [],
   "source": [
    "RNA.df <- seurObj_CITE_4vs8_clean@assays$RNA@data[rownames(seurObj_CITE_4vs8_clean@assays$RNA@data) %in% c(genes_plotting, 'CXCR3', 'CXCR4','CCR4', 'CCR6', 'CCR7', 'CCR8', 'CCR9', 'CCR10', 'CXCR5', 'CX3CR1'),] %>% t %>% data.frame\n",
    "RNA.df$spt_spca_SP_CD4 <- seurObj_CITE_4vs8_clean$spt_spca_SP_CD4\n",
    "RNA.df$spt_spca_SP_CD8 <- seurObj_CITE_4vs8_clean$spt_spca_SP_CD8\n",
    "RNA.df$anno_CITE_4v5 <- seurObj_CITE_4vs8_clean$anno_CITE_4v5"
   ]
  },
  {
   "cell_type": "code",
   "execution_count": null,
   "id": "33fcd750",
   "metadata": {},
   "outputs": [],
   "source": [
    "colors_rna <- c(\"CD4\" = \"red\", \"CD8A\" = \"blue\", \"CD8B\" = \"green3\")\n",
    "colors_protein <- c(\"CD4\" = \"red\", \"CD8\" = \"blue\")"
   ]
  },
  {
   "cell_type": "code",
   "execution_count": null,
   "id": "4e17dbe2",
   "metadata": {},
   "outputs": [],
   "source": [
    "options(repr.plot.width=6, repr.plot.height=4)\n",
    "\n",
    "lineage4_prot <- ggplot(ADT2.df)+\n",
    "geom_smooth(aes(y=CD4, x=spt_spca_SP_CD4, color='CD4'), se=TRUE, method = 'gam')+\n",
    "geom_smooth(aes(y=CD8, x=spt_spca_SP_CD4, color='CD8'), se=TRUE, method = 'gam')+\n",
    "theme_bw()+\n",
    "theme(axis.text.x = element_text(size=12), axis.text.y = element_text(size = 12),\n",
    "           panel.border = element_blank(), axis.line.x = element_line(size = 0.5, linetype = \"solid\", colour = \"black\"),\n",
    "axis.line.y = element_line(size = 0.5, linetype = \"solid\", colour = \"black\"))+\n",
    "scale_color_manual(values = colors_protein)+\n",
    "coord_cartesian(ylim = c(0,15))+\n",
    "labs(title='', y='smoothed mean', x='')\n",
    "\n",
    "lineage4_RNA <- ggplot(RNA.df)+\n",
    "geom_smooth(aes(y=CD4, x=spt_spca_SP_CD4, color='CD4'), se=TRUE, method = 'gam')+\n",
    "geom_smooth(aes(y=CD8A, x=spt_spca_SP_CD4, color='CD8A'), se=TRUE, method = 'gam')+\n",
    "geom_smooth(aes(y=CD8B, x=spt_spca_SP_CD4, color='CD8B'), se=TRUE, method = 'gam')+\n",
    "scale_color_manual(values = colors_rna)+\n",
    "theme_bw()+\n",
    "theme(axis.text.x = element_text(size=12), axis.text.y = element_text(size = 12),\n",
    "           panel.border = element_blank(), axis.line.x = element_line(size = 0.5, linetype = \"solid\", colour = \"black\"),\n",
    "axis.line.y = element_line(size = 0.5, linetype = \"solid\", colour = \"black\"))+\n",
    "labs(title='RNA expression', y='smoothed mean', x='')\n",
    "\n",
    "lineage4_cells <- ggplot(RNA.df, aes(y= anno_CITE_4v5, x=spt_spca_SP_CD4, color=anno_CITE_4v5))+\n",
    "geom_jitter_rast(size=0.5, alpha=0.5)+\n",
    "theme_bw()+\n",
    "theme(axis.text.x = element_text(size=12), axis.text.y = element_text(size = 12), panel.grid = element_blank(),\n",
    "           panel.border = element_blank(), axis.line.x = element_line(size = 0.5, linetype = \"solid\", colour = \"black\"),\n",
    "axis.line.y = element_line(size = 0.5, linetype = \"solid\", colour = \"black\"))+scale_color_manual(values = pal10[3:10])+\n",
    "labs(title='Cell types', y='', x='CD4 lineage sling pseudotime')&NoLegend()\n",
    "\n",
    "options(repr.plot.width=5, repr.plot.height=3)\n",
    "lineage4_RNA\n",
    "lineage4_prot\n",
    "options(repr.plot.width=6, repr.plot.height=3)\n",
    "lineage4_cells"
   ]
  },
  {
   "cell_type": "code",
   "execution_count": null,
   "id": "afbf7bc2",
   "metadata": {},
   "outputs": [],
   "source": [
    "options(repr.plot.width=6, repr.plot.height=4)\n",
    "\n",
    "lineage8_prot <- ggplot(ADT2.df)+\n",
    "geom_smooth(aes(y=CD4, x=spt_spca_SP_CD8, color='CD4'), se=TRUE, method = 'gam')+\n",
    "geom_smooth(aes(y=CD8, x=spt_spca_SP_CD8, color='CD8'), se=TRUE, method = 'gam')+\n",
    "theme_bw()+\n",
    "theme(axis.text.x = element_text(size=12), axis.text.y = element_text(size = 12),\n",
    "           panel.border = element_blank(), axis.line.x = element_line(size = 0.5, linetype = \"solid\", colour = \"black\"),\n",
    "axis.line.y = element_line(size = 0.5, linetype = \"solid\", colour = \"black\"))+\n",
    "scale_color_manual(values = colors_protein)+\n",
    "coord_cartesian(ylim = c(0,15))+\n",
    "labs(title='Surface expression', y='smoothed mean', x='')\n",
    "\n",
    "lineage8_RNA <- ggplot(RNA.df)+\n",
    "geom_smooth(aes(y=CD4, x=spt_spca_SP_CD8, color='CD4'), se=TRUE, method = 'gam')+\n",
    "geom_smooth(aes(y=CD8A, x=spt_spca_SP_CD8, color='CD8A'), se=TRUE, method = 'gam')+\n",
    "geom_smooth(aes(y=CD8B, x=spt_spca_SP_CD8, color='CD8B'), se=TRUE, method = 'gam')+\n",
    "scale_color_manual(values = colors_rna)+\n",
    "theme_bw()+\n",
    "theme(axis.text.x = element_text(size=12), axis.text.y = element_text(size = 12),\n",
    "           panel.border = element_blank(), axis.line.x = element_line(size = 0.5, linetype = \"solid\", colour = \"black\"),\n",
    "axis.line.y = element_line(size = 0.5, linetype = \"solid\", colour = \"black\"))+\n",
    "labs(title='RNA expression', y='smoothed mean', x='')\n",
    "\n",
    "lineage8_cells <- ggplot(RNA.df, aes(y= anno_CITE_4v5, x=spt_spca_SP_CD8, color=anno_CITE_4v5))+\n",
    "geom_jitter_rast(size=0.5, alpha=0.5)+\n",
    "theme_bw()+\n",
    "theme(axis.text.x = element_text(size=12), axis.text.y = element_text(size = 12), panel.grid = element_blank(),\n",
    "           panel.border = element_blank(), axis.line.x = element_line(size = 0.5, linetype = \"solid\", colour = \"black\"),\n",
    "axis.line.y = element_line(size = 0.5, linetype = \"solid\", colour = \"black\"))+\n",
    "scale_color_manual(values = pal10[3:10])+\n",
    "labs(title='Cell types', y='', x='CD8 lineage sling pseudotime')&NoLegend()\n",
    "\n",
    "options(repr.plot.width=5, repr.plot.height=3)\n",
    "lineage8_RNA\n",
    "lineage8_prot\n",
    "options(repr.plot.width=6, repr.plot.height=3)\n",
    "lineage8_cells"
   ]
  },
  {
   "cell_type": "code",
   "execution_count": null,
   "id": "b1c646ca",
   "metadata": {},
   "outputs": [],
   "source": [
    "colors_receptors_prot <- c('CD183' ='red',\n",
    "                           'CD194'='black',\n",
    "                           'CD197'='green3',\n",
    "                           'CD199'='dodgerblue')\n",
    "\n",
    "colors_receptors_rna <- c('CXCR3' ='red',\n",
    "                           'CCR4'='black',\n",
    "                           'CCR7'='green3',\n",
    "                           'CCR9'='dodgerblue',\n",
    "                           'CXCR4'='purple')"
   ]
  },
  {
   "cell_type": "code",
   "execution_count": null,
   "id": "784fa225",
   "metadata": {},
   "outputs": [],
   "source": [
    "options(repr.plot.width=6, repr.plot.height=4)\n",
    "\n",
    "receptors_lineage4_prot <- ggplot(ADT2.df)+\n",
    "geom_smooth(aes(y=CD183, x=spt_spca_SP_CD4, color='CD183'), se=TRUE, method = 'gam')+\n",
    "geom_smooth(aes(y=CD194, x=spt_spca_SP_CD4, color='CD194'), se=TRUE, method = 'gam')+\n",
    "geom_smooth(aes(y=CD197, x=spt_spca_SP_CD4, color='CD197'), se=TRUE, method = 'gam')+\n",
    "geom_smooth(aes(y=CD199, x=spt_spca_SP_CD4, color='CD199'), se=TRUE, method = 'gam')+\n",
    "theme_bw()+\n",
    "theme(axis.text.x = element_text(size=12), axis.text.y = element_text(size = 12),\n",
    "           panel.border = element_blank(), axis.line.x = element_line(size = 0.5, linetype = \"solid\", colour = \"black\"),\n",
    "axis.line.y = element_line(size = 0.5, linetype = \"solid\", colour = \"black\"))+\n",
    "scale_color_manual(values = colors_receptors_prot)+\n",
    "coord_cartesian(ylim = c(0,12))+\n",
    "theme(legend.key = element_rect(fill = \"white\"))+\n",
    "labs(title='Surface expression', y='smoothed mean', x='', color='Receptor')\n",
    "\n",
    "receptors_lineage4_rna <- ggplot(RNA.df)+\n",
    "geom_smooth(aes(y=CXCR3, x=spt_spca_SP_CD4, color='CXCR3'), se=TRUE, method = 'gam')+\n",
    "geom_smooth(aes(y=CCR4, x=spt_spca_SP_CD4, color='CCR4'), se=TRUE, method = 'gam')+\n",
    "geom_smooth(aes(y=CCR7, x=spt_spca_SP_CD4, color='CCR7'), se=TRUE, method = 'gam')+\n",
    "geom_smooth(aes(y=CCR9, x=spt_spca_SP_CD4, color='CCR9'), se=TRUE, method = 'gam')+\n",
    "geom_smooth(aes(y=CXCR4, x=spt_spca_SP_CD4, color='CXCR4'), se=TRUE, method = 'gam')+\n",
    "theme_bw()+\n",
    "coord_cartesian(ylim = c(0,2.5))+\n",
    "theme(axis.text.x = element_text(size=12), axis.text.y = element_text(size = 12),\n",
    "           panel.border = element_blank(), axis.line.x = element_line(size = 0.5, linetype = \"solid\", colour = \"black\"),\n",
    "axis.line.y = element_line(size = 0.5, linetype = \"solid\", colour = \"black\"))+\n",
    "scale_color_manual(values = colors_receptors_rna)+\n",
    "theme(legend.key = element_rect(fill = \"white\"))+\n",
    "labs(title='RNA expression', y='smoothed mean', x='', color='Receptor')\n",
    "\n",
    "\n",
    "options(repr.plot.width=5, repr.plot.height=3)\n",
    "receptors_lineage4_rna\n",
    "receptors_lineage4_prot"
   ]
  },
  {
   "cell_type": "code",
   "execution_count": null,
   "id": "4ff27565",
   "metadata": {},
   "outputs": [],
   "source": [
    "options(repr.plot.width=6, repr.plot.height=4)\n",
    "\n",
    "receptors_lineage8_prot <- ggplot(ADT2.df)+\n",
    "geom_smooth(aes(y=CD183, x=spt_spca_SP_CD8, color='CD183'), se=TRUE, method = 'gam')+\n",
    "geom_smooth(aes(y=CD194, x=spt_spca_SP_CD8, color='CD194'), se=TRUE, method = 'gam')+\n",
    "geom_smooth(aes(y=CD197, x=spt_spca_SP_CD8, color='CD197'), se=TRUE, method = 'gam')+\n",
    "geom_smooth(aes(y=CD199, x=spt_spca_SP_CD8, color='CD199'), se=TRUE, method = 'gam')+\n",
    "theme_bw()+\n",
    "theme(axis.text.x = element_text(size=12), axis.text.y = element_text(size = 12),\n",
    "           panel.border = element_blank(), axis.line.x = element_line(size = 0.5, linetype = \"solid\", colour = \"black\"),\n",
    "axis.line.y = element_line(size = 0.5, linetype = \"solid\", colour = \"black\"))+\n",
    "scale_color_manual(values = colors_receptors_prot)+\n",
    "coord_cartesian(ylim = c(0,12))+\n",
    "theme(legend.key = element_rect(fill = \"white\"))+\n",
    "labs(title='Surface expression', y='smoothed mean', x='', color='Receptor')\n",
    "\n",
    "receptors_lineage8_rna <- ggplot(RNA.df)+\n",
    "geom_smooth(aes(y=CXCR3, x=spt_spca_SP_CD8, color='CXCR3'), se=TRUE, method = 'gam')+\n",
    "geom_smooth(aes(y=CCR4, x=spt_spca_SP_CD8, color='CCR4'), se=TRUE, method = 'gam')+\n",
    "geom_smooth(aes(y=CCR7, x=spt_spca_SP_CD8, color='CCR7'), se=TRUE, method = 'gam')+\n",
    "geom_smooth(aes(y=CCR9, x=spt_spca_SP_CD8, color='CCR9'), se=TRUE, method = 'gam')+\n",
    "geom_smooth(aes(y=CXCR4, x=spt_spca_SP_CD8, color='CXCR4'), se=TRUE, method = 'gam')+\n",
    "theme_bw()+\n",
    "coord_cartesian(ylim = c(0,2.5))+\n",
    "theme(axis.text.x = element_text(size=12), axis.text.y = element_text(size = 12),\n",
    "           panel.border = element_blank(), axis.line.x = element_line(size = 0.5, linetype = \"solid\", colour = \"black\"),\n",
    "axis.line.y = element_line(size = 0.5, linetype = \"solid\", colour = \"black\"))+\n",
    "scale_color_manual(values = colors_receptors_rna)+\n",
    "theme(legend.key = element_rect(fill = \"white\"))+\n",
    "labs(title='RNA expression', y='smoothed mean', x='', color='Receptor')\n",
    "\n",
    "\n",
    "options(repr.plot.width=5, repr.plot.height=3)\n",
    "receptors_lineage8_rna\n",
    "receptors_lineage8_prot"
   ]
  },
  {
   "cell_type": "code",
   "execution_count": null,
   "id": "08ad1dab",
   "metadata": {},
   "outputs": [],
   "source": [
    "colors_protein2 <- c('CD1a'='red',\n",
    "                    'CD44'='blue',\n",
    "                    'CD45RA'='green3',\n",
    "                    'CD45RO'='orange',\n",
    "                    'CD27'='black',\n",
    "                    'CD69'='purple',\n",
    "                    'TCRab'='blue')"
   ]
  },
  {
   "cell_type": "code",
   "execution_count": null,
   "id": "9b5590fa",
   "metadata": {},
   "outputs": [],
   "source": [
    "markers_lineage4 <- ggplot(ADT2.df)+\n",
    "geom_smooth(aes(y=CD1a, x=spt_spca_SP_CD4, color='CD1a'), se=TRUE, method = 'gam')+\n",
    "geom_smooth(aes(y=CD44, x=spt_spca_SP_CD4, color='CD44'), se=TRUE, method = 'gam')+\n",
    "geom_smooth(aes(y=CD45RA, x=spt_spca_SP_CD4, color='CD45RA'), se=TRUE, method = 'gam')+\n",
    "geom_smooth(aes(y=CD45RO, x=spt_spca_SP_CD4, color='CD45RO'), se=TRUE, method = 'gam')+\n",
    "geom_smooth(aes(y=CD27, x=spt_spca_SP_CD4, color='CD27'), se=TRUE, method = 'gam')+\n",
    "geom_smooth(aes(y=CD69, x=spt_spca_SP_CD4, color='CD69'), se=TRUE, method = 'gam')+\n",
    "theme_bw()+\n",
    "coord_cartesian(ylim = c(0,40))+\n",
    "theme(axis.text.x = element_text(size=12), axis.text.y = element_text(size = 12),\n",
    "           panel.border = element_blank(), axis.line.x = element_line(size = 0.5, linetype = \"solid\", colour = \"black\"),\n",
    "axis.line.y = element_line(size = 0.5, linetype = \"solid\", colour = \"black\"))+\n",
    "scale_color_manual(values = colors_protein2)+\n",
    "theme(legend.key = element_rect(fill = \"white\"))+\n",
    "labs(title='Surface expression on CD4 lineage', y='smoothed mean', x='', color='Receptor')\n",
    "\n",
    "options(repr.plot.width=5, repr.plot.height=3)\n",
    "\n",
    "markers_lineage4"
   ]
  },
  {
   "cell_type": "code",
   "execution_count": null,
   "id": "dd407086",
   "metadata": {},
   "outputs": [],
   "source": [
    "options(repr.plot.width=6, repr.plot.height=4)\n",
    "\n",
    "markers_lineage8 <- ggplot(ADT2.df)+\n",
    "geom_smooth(aes(y=CD1a, x=spt_spca_SP_CD8, color='CD1a'), se=TRUE, method = 'gam')+\n",
    "geom_smooth(aes(y=CD44, x=spt_spca_SP_CD8, color='CD44'), se=TRUE, method = 'gam')+\n",
    "geom_smooth(aes(y=CD45RA, x=spt_spca_SP_CD8, color='CD45RA'), se=TRUE, method = 'gam')+\n",
    "geom_smooth(aes(y=CD45RO, x=spt_spca_SP_CD8, color='CD45RO'), se=TRUE, method = 'gam')+\n",
    "geom_smooth(aes(y=CD27, x=spt_spca_SP_CD8, color='CD27'), se=TRUE, method = 'gam')+\n",
    "geom_smooth(aes(y=CD69, x=spt_spca_SP_CD8, color='CD69'), se=TRUE, method = 'gam')+\n",
    "theme_bw()+\n",
    "coord_cartesian(ylim = c(0,40))+\n",
    "theme(axis.text.x = element_text(size=12), axis.text.y = element_text(size = 12),\n",
    "           panel.border = element_blank(), axis.line.x = element_line(size = 0.5, linetype = \"solid\", colour = \"black\"),\n",
    "axis.line.y = element_line(size = 0.5, linetype = \"solid\", colour = \"black\"))+\n",
    "scale_color_manual(values = colors_protein2)+\n",
    "theme(legend.key = element_rect(fill = \"white\"))+\n",
    "labs(title='Surface expression on CD8 lineage', y='smoothed mean', x='', color='Receptor')\n",
    "\n",
    "options(repr.plot.width=5, repr.plot.height=3)\n",
    "\n",
    "markers_lineage8"
   ]
  },
  {
   "cell_type": "markdown",
   "id": "4a2ddbe8",
   "metadata": {},
   "source": [
    "#### Visium-derived CMA"
   ]
  },
  {
   "cell_type": "code",
   "execution_count": null,
   "id": "132965e0",
   "metadata": {},
   "outputs": [],
   "source": [
    "meta_cma <- read.csv('../data/cite_paed_hyper_mapping_v4.csv')"
   ]
  },
  {
   "cell_type": "code",
   "execution_count": null,
   "id": "50f386fb",
   "metadata": {},
   "outputs": [],
   "source": [
    "#need to adjust barcodes to match CITEseq data\n",
    "meta_cma$sample_barcode <- gsub(\"-[0-9]+\", \"\", meta_cma$sample_barcode)"
   ]
  },
  {
   "cell_type": "code",
   "execution_count": null,
   "id": "caa0dd60",
   "metadata": {},
   "outputs": [],
   "source": [
    "table(seurObj_CITE_DPtoSP$sample_barcode %in% meta_cma$sample_barcode)"
   ]
  },
  {
   "cell_type": "code",
   "execution_count": null,
   "id": "d8e8fffa",
   "metadata": {},
   "outputs": [],
   "source": [
    "meta_cma_subs <- subset(meta_cma, sample_barcode %in% seurObj_CITE_DPtoSP$sample_barcode)"
   ]
  },
  {
   "cell_type": "code",
   "execution_count": null,
   "id": "e4dbaa92",
   "metadata": {},
   "outputs": [],
   "source": [
    "seurObj_CITE_DPtoSP_subs <- subset(seurObj_CITE_DPtoSP, sample_barcode %in% meta_cma_subs$sample_barcode)"
   ]
  },
  {
   "cell_type": "code",
   "execution_count": null,
   "id": "018e4876",
   "metadata": {},
   "outputs": [],
   "source": [
    "matching <- match(seurObj_CITE_DPtoSP_subs$sample_barcode, meta_cma_subs$sample_barcode)"
   ]
  },
  {
   "cell_type": "code",
   "execution_count": null,
   "id": "32ef0596",
   "metadata": {},
   "outputs": [],
   "source": [
    "seurObj_CITE_DPtoSP_subs$mean_hyper_cma_exp <- as.numeric(meta_cma_subs$mean_hyper_cma_exp[matching])"
   ]
  },
  {
   "cell_type": "code",
   "execution_count": null,
   "id": "2995af4b",
   "metadata": {
    "scrolled": false
   },
   "outputs": [],
   "source": [
    "options(repr.plot.width=5, repr.plot.height=3.5)\n",
    "\n",
    "ggplot(seurObj_CITE_DPtoSP_subs@meta.data, aes(x=anno_CITE_4v5, y=mean_hyper_cma_exp, fill=anno_CITE_4v5))+\n",
    "geom_boxplot(outlier.shape = NA)+\n",
    "geom_jitter_rast(alpha=0.2, size=0.1, width=0.1, color='grey30')+\n",
    "theme_bw()+\n",
    "scale_y_reverse()+\n",
    "theme(axis.text.x = element_text(angle=45, hjust=1), axis.text.y = element_text(size = 12), panel.grid = element_blank(),\n",
    "           panel.border = element_blank(), axis.line.x = element_line(size = 0.5, linetype = \"solid\", colour = \"black\"),\n",
    "axis.line.y = element_line(size = 0.5, linetype = \"solid\", colour = \"black\"))+scale_fill_manual(values = pal10v2)+\n",
    "NoLegend()+\n",
    "labs(x='')"
   ]
  },
  {
   "cell_type": "code",
   "execution_count": null,
   "id": "9d6b09ed",
   "metadata": {},
   "outputs": [],
   "source": [
    "matching2 <- match(seurObj_CITE_4vs8_clean$sample_barcode, meta_cma$sample_barcode)"
   ]
  },
  {
   "cell_type": "code",
   "execution_count": null,
   "id": "10c3c28d",
   "metadata": {},
   "outputs": [],
   "source": [
    "seurObj_CITE_4vs8_clean$mean_hyper_cma_exp <- as.numeric(meta_cma$mean_hyper_cma_exp[matching2])"
   ]
  },
  {
   "cell_type": "code",
   "execution_count": null,
   "id": "1a4374b6",
   "metadata": {},
   "outputs": [],
   "source": [
    "genes_plotting <- c(\"TOP2A\", 'MKI67', \"RAG1\", \"RAG2\", \"DNTT\", 'LIG4', 'RORC', 'BCL2L1', 'NR4A1','SATB1',\"TOX2\", \"ITM2A\",\"EVL\",'IL7R', 'STAT1', 'PDE3B', 'RGS1',\"MT2A\", \"IFI44L\", 'CD4', 'ZBTB7B','CLDN1', 'HPGD',  'STAT5A','CD40LG', \"ICOS\", \"TC2N\", 'ANXA1', 'GIMAP5', 'GPR183', \"CD8A\", \"CD8B\", 'RUNX3','FTL', 'STAG3', 'AOAH', 'CLIC3', 'PLAC8', 'LITAF', 'KLRK1')"
   ]
  },
  {
   "cell_type": "code",
   "execution_count": null,
   "id": "9fa990d3",
   "metadata": {},
   "outputs": [],
   "source": [
    "# add mapping info to data frame\n",
    "RNA.df$mean_hyper_cma_exp <- seurObj_CITE_4vs8_clean$mean_hyper_cma_exp"
   ]
  },
  {
   "cell_type": "code",
   "execution_count": null,
   "id": "6a928db2",
   "metadata": {
    "scrolled": false
   },
   "outputs": [],
   "source": [
    "options(repr.plot.width=4.5, repr.plot.height=3)\n",
    "\n",
    "cma_lineage4 <- ggplot(RNA.df, aes(y=mean_hyper_cma_exp, x=spt_spca_SP_CD4))+\n",
    "geom_jitter_rast(aes(color=anno_CITE_4v5), size=0.1, alpha=0.1)+\n",
    "geom_smooth(se=T, method = 'gam', color='black', size=0.5)+\n",
    "theme_bw()+\n",
    "geom_hline(yintercept = 0, linetype=2, color='grey50')+\n",
    "scale_y_reverse()+\n",
    "coord_cartesian(ylim = c(0.65,-0.55))+\n",
    "theme(axis.text.x = element_text(size=12), axis.text.y = element_text(size = 14),\n",
    "           panel.border = element_blank(), axis.line.x = element_line(size = 0.5, linetype = \"solid\", colour = \"black\"),\n",
    "axis.line.y = element_line(size = 0.5, linetype = \"solid\", colour = \"black\"))+theme(legend.key = element_rect(fill = \"white\"))+\n",
    "labs(title='Visium-predicted CMA for CD4 lineage', y='mean cluster exp(CMA)', x='CD4 lineage pseudotime')+\n",
    "scale_color_manual(values = pal10[3:10])+\n",
    "scale_x_continuous(breaks=seq(0,10.5,1.5))&NoLegend()\n",
    "\n",
    "cma_lineage4"
   ]
  },
  {
   "cell_type": "code",
   "execution_count": null,
   "id": "42a789e4",
   "metadata": {
    "scrolled": false
   },
   "outputs": [],
   "source": [
    "options(repr.plot.width=4.5, repr.plot.height=3)\n",
    "\n",
    "cma_lineage8 <- ggplot(RNA.df, aes(y=mean_hyper_cma_exp, x=spt_spca_SP_CD8))+\n",
    "geom_jitter_rast(aes(color=anno_CITE_4v5), size=0.1, alpha=0.1)+\n",
    "geom_smooth(se=T, method = 'gam', color='black',  size=0.5)+\n",
    "geom_hline(yintercept = 0, linetype=2, color='grey50')+\n",
    "theme_bw()+\n",
    "scale_y_reverse()+\n",
    "coord_cartesian(ylim = c(0.65,-0.55))+\n",
    "theme(axis.text.x = element_text(size=12), axis.text.y = element_text(size = 14),\n",
    "           panel.border = element_blank(), axis.line.x = element_line(size = 0.5, linetype = \"solid\", colour = \"black\"),\n",
    "axis.line.y = element_line(size = 0.5, linetype = \"solid\", colour = \"black\"))+theme(legend.key = element_rect(fill = \"white\"))+\n",
    "labs(title='Visium-predicted CMA for CD8 lineage', y='mean cluster exp(CMA)', x='CD8 lineage pseudotime')+\n",
    "scale_color_manual(values = pal10[3:10])+\n",
    "scale_x_continuous(breaks=seq(0,12.5,2.5))&NoLegend()\n",
    "\n",
    "cma_lineage8"
   ]
  },
  {
   "cell_type": "markdown",
   "id": "46053b1a",
   "metadata": {},
   "source": [
    "For better visualisation of distribution we can calculate and plot medians + quantiles per annotation."
   ]
  },
  {
   "cell_type": "code",
   "execution_count": null,
   "id": "34c507fc",
   "metadata": {},
   "outputs": [],
   "source": [
    "DPtoSP_cells2 <-c('DP_pos_sel','DP_4hi8lo', 'SP_CD4_immature', 'SP_CD4_semimature','SP_CD4_mature','SP_CD8_immature','SP_CD8_semimature', 'SP_CD8_mature')"
   ]
  },
  {
   "cell_type": "code",
   "execution_count": null,
   "id": "f9d3c110",
   "metadata": {},
   "outputs": [],
   "source": [
    "meta_visium_summary <- RNA.df %>%\n",
    "    subset(anno_CITE_4v5 %in% DPtoSP_cells2) %>% \n",
    "    group_by(anno_CITE_4v5) %>% summarise(\n",
    "    visium_spt_CD4_median = median(spt_spca_SP_CD4, na.rm = T),                  \n",
    "    visium_spt_CD4_q05 = quantile(spt_spca_SP_CD4, probs = 0.05, na.rm = T),\n",
    "    visium_spt_CD4_q95 = quantile(spt_spca_SP_CD4, probs = 0.95, na.rm = T),\n",
    "    visium_spt_CD8_median = median(spt_spca_SP_CD8, na.rm = T),                  \n",
    "    visium_spt_CD8_q05 = quantile(spt_spca_SP_CD8, probs = 0.05, na.rm = T),\n",
    "    visium_spt_CD8_q95 = quantile(spt_spca_SP_CD8, probs = 0.95, na.rm = T))\n",
    "\n",
    "#need to calculate CMA means for lineages separately because for the hilo cells not all will be included in the pseudotime of both lineages\n",
    "\n",
    "meta_visium_summary <- RNA.df %>%\n",
    "    subset(anno_CITE_4v5 %in% DPtoSP_cells2 & !is.na(spt_spca_SP_CD8)) %>% \n",
    "    group_by(anno_CITE_4v5) %>% summarise(\n",
    "    visium_cma_median_CD8 = median(mean_hyper_cma_exp, na.rm = T),                  \n",
    "    visium_cma_q05_CD8 = quantile(mean_hyper_cma_exp, probs = 0.05, na.rm = T),\n",
    "    visium_cma_q95_CD8 = quantile(mean_hyper_cma_exp, probs = 0.95, na.rm = T)) %>%\n",
    "    left_join(meta_visium_summary, .)\n",
    "\n",
    "meta_visium_summary <- RNA.df %>%\n",
    "    subset(anno_CITE_4v5 %in% DPtoSP_cells2 & !is.na(spt_spca_SP_CD4)) %>% \n",
    "    group_by(anno_CITE_4v5) %>% summarise(\n",
    "    visium_cma_median_CD4 = median(mean_hyper_cma_exp, na.rm = T),                  \n",
    "    visium_cma_q05_CD4 = quantile(mean_hyper_cma_exp, probs = 0.05, na.rm = T),\n",
    "    visium_cma_q95_CD4 = quantile(mean_hyper_cma_exp, probs = 0.95, na.rm = T)) %>%\n",
    "    left_join(meta_visium_summary, .)\n",
    "\n",
    "meta_visium_summary$anno_CITE_4v5 <- factor(meta_visium_summary$anno_CITE_4v5, levels=DPtoSP_cells2)\n",
    "meta_visium_summary"
   ]
  },
  {
   "cell_type": "code",
   "execution_count": null,
   "id": "0f1b4a5c",
   "metadata": {
    "scrolled": false
   },
   "outputs": [],
   "source": [
    "options(repr.plot.width=4.5, repr.plot.height=3)\n",
    "\n",
    "cma_lineage4_v2 <- ggplot()+\n",
    "geom_jitter_rast(data=RNA.df, aes(y=mean_hyper_cma_exp, x=spt_spca_SP_CD4,color=anno_CITE_4v5), size=0.1, alpha=0.4)+\n",
    "geom_errorbarh(data = meta_visium_summary,aes(xmin = visium_spt_CD4_q05,xmax = visium_spt_CD4_q95,y = visium_cma_median_CD4), height=0.03, size=0.2, color='black') + \n",
    "geom_errorbar(data = meta_visium_summary,aes(ymin = visium_cma_q05_CD4,ymax = visium_cma_q95_CD4,x = visium_spt_CD4_median), width=0.2, size=0.2, color='black')+\n",
    "geom_point(data = meta_visium_summary,aes(x=visium_spt_CD4_median, y=visium_cma_median_CD4, fill = anno_CITE_4v5), size=3, shape=21, color='black') +\n",
    "theme_bw()+\n",
    "scale_y_reverse()+\n",
    "geom_hline(yintercept = 0, linetype=2, color='grey50')+\n",
    "coord_cartesian(ylim = c(0.65,-0.55))+\n",
    "theme(axis.text.x = element_text(size=12), axis.text.y = element_text(size = 14),\n",
    "           panel.border = element_blank(), axis.line.x = element_line(size = 0.5, linetype = \"solid\", colour = \"black\"),\n",
    "axis.line.y = element_line(size = 0.5, linetype = \"solid\", colour = \"black\"))+theme(legend.key = element_rect(fill = \"white\"))+\n",
    "labs(title='Visium-predicted CMA for CD4 lineage', y='mean cluster exp(CMA)', x='CD4 lineage pseudotime')+\n",
    "scale_color_manual(values = pal10[3:10])+\n",
    "scale_fill_manual(values = pal10v2[3:10])+\n",
    "scale_x_continuous(breaks=seq(0,10.5,1.5))&NoLegend()\n",
    "\n",
    "cma_lineage4_v2"
   ]
  },
  {
   "cell_type": "code",
   "execution_count": null,
   "id": "79a79360",
   "metadata": {
    "scrolled": false
   },
   "outputs": [],
   "source": [
    "options(repr.plot.width=4.5, repr.plot.height=3)\n",
    "\n",
    "cma_lineage8_v2 <- ggplot()+\n",
    "geom_jitter_rast(data=RNA.df, aes(y=mean_hyper_cma_exp, x=spt_spca_SP_CD8,color=anno_CITE_4v5), size=0.1, alpha=0.4)+\n",
    "geom_errorbarh(data = meta_visium_summary,aes(xmin = visium_spt_CD8_q05,xmax = visium_spt_CD8_q95,y = visium_cma_median_CD8), height=0.03, size=0.2, color='black') + \n",
    "geom_errorbar(data = meta_visium_summary,aes(ymin = visium_cma_q05_CD8,ymax = visium_cma_q95_CD8,x = visium_spt_CD8_median), width=0.2, size=0.2, color='black')+\n",
    "geom_point(data = meta_visium_summary,aes(x=visium_spt_CD8_median, y=visium_cma_median_CD8, fill = anno_CITE_4v5), size=3, shape=21, color='black') +\n",
    "theme_bw()+\n",
    "scale_y_reverse()+\n",
    "geom_hline(yintercept = 0, linetype=2, color='grey50')+\n",
    "coord_cartesian(ylim = c(0.65,-0.55))+\n",
    "theme(axis.text.x = element_text(size=12), axis.text.y = element_text(size = 14),\n",
    "           panel.border = element_blank(), axis.line.x = element_line(size = 0.5, linetype = \"solid\", colour = \"black\"),\n",
    "axis.line.y = element_line(size = 0.5, linetype = \"solid\", colour = \"black\"))+theme(legend.key = element_rect(fill = \"white\"))+\n",
    "labs(title='Visium-predicted CMA for CD8 lineage', y='mean cluster exp(CMA)', x='CD8 lineage pseudotime')+\n",
    "scale_color_manual(values = pal10[3:10])+\n",
    "scale_fill_manual(values = pal10v2[3:10])+\n",
    "scale_x_continuous(breaks=seq(0,12.5,2.5))&NoLegend()\n",
    "\n",
    "cma_lineage8_v2"
   ]
  },
  {
   "cell_type": "markdown",
   "id": "fdb75338",
   "metadata": {},
   "source": [
    "#### IBEX mapping\n",
    "\n",
    "CITE-seq annotations and pseudotime have been transferred to segmented cells from IBEX using KNN matching. We can plot these cells in the same way as the CITE-seq cells that have been Visium-mapped."
   ]
  },
  {
   "cell_type": "code",
   "execution_count": null,
   "id": "80e4dbf7",
   "metadata": {},
   "outputs": [],
   "source": [
    "meta_IBEX_hybrid <- read.csv('../data/out_cite_ibex_cite_T_only_th_5_KNN5_peudo.csv')"
   ]
  },
  {
   "cell_type": "code",
   "execution_count": null,
   "id": "cac9ce04",
   "metadata": {},
   "outputs": [],
   "source": [
    "meta_IBEX_comb <- meta_IBEX_hybrid[,c(1,20,21,38,25:28,33:37)]\n",
    "colnames(meta_IBEX_comb)[5:13] <- paste0('hybrid_',colnames(meta_IBEX_comb)[5:13])"
   ]
  },
  {
   "cell_type": "code",
   "execution_count": null,
   "id": "c44afe17",
   "metadata": {},
   "outputs": [],
   "source": [
    "DPtoSP_cells <- names(table(meta_IBEX_comb$hybrid_anno_CITE_4v6))[c(12,14:16, 20, 22, 32:36,38)]"
   ]
  },
  {
   "cell_type": "code",
   "execution_count": null,
   "id": "9be1ae17",
   "metadata": {},
   "outputs": [],
   "source": [
    "meta_IBEX_comb_T <- subset(meta_IBEX_comb, hybrid_anno_CITE_4v6 %in% DPtoSP_cells | rna_anno_CITE_4v6 %in% DPtoSP_cells)\n",
    "meta_IBEX_comb_T$hybrid_anno_CITE_4v6 <- factor(meta_IBEX_comb_T$hybrid_anno_CITE_4v6, levels=DPtoSP_cells)"
   ]
  },
  {
   "cell_type": "code",
   "execution_count": null,
   "id": "904e5e8c",
   "metadata": {},
   "outputs": [],
   "source": [
    "meta_IBEX_comb_T2_hybrid <- subset(meta_IBEX_comb_T, hybrid_anno_CITE_4v6 %in% DPtoSP_cells2)\n",
    "meta_IBEX_comb_T2_hybrid$hybrid_anno_CITE_4v6 <- factor(meta_IBEX_comb_T2_hybrid$hybrid_anno_CITE_4v6, levels=DPtoSP_cells2)"
   ]
  },
  {
   "cell_type": "code",
   "execution_count": null,
   "id": "711554d0",
   "metadata": {
    "scrolled": false
   },
   "outputs": [],
   "source": [
    "options(repr.plot.width=5.8, repr.plot.height=4)\n",
    "\n",
    "scatter_pseudtimesCD4_hybrid <- ggplot(meta_IBEX_comb_T2_hybrid, aes(x=hybrid_spt_spca_SP_CD4, y=rna_spt_spca_SP_CD4, color=hybrid_anno_CITE_4v6))+\n",
    "geom_point_rast(size=0.2, alpha=0.7)+\n",
    "geom_abline(linetype=2, color='grey50')+\n",
    "scale_color_manual(values = pal10v2[3:10])+\n",
    "theme_bw()+\n",
    "scale_x_continuous(breaks=seq(0,10.5,1.5))+\n",
    "scale_y_continuous(breaks=seq(0,10.5,1.5))+\n",
    "theme(axis.text.x = element_text(size=12), axis.text.y = element_text(size = 12),\n",
    "           panel.border = element_blank(), axis.line.x = element_line(size = 0.5, linetype = \"solid\", colour = \"black\"),\n",
    "            axis.line.y = element_line(size = 0.5, linetype = \"solid\", colour = \"black\"))+theme(legend.key = element_rect(fill = \"white\"))+\n",
    "guides(colour = guide_legend(override.aes = list(size=3)))+\n",
    "labs(title='CD4 lineage pseudotime predicted from CITE-seq data', y= 'Pseudotime predicted based on RNA', x='Pseudotime predicted based on RNA/protein', color='Cell annotation\\npredicted from CITE-seq\\nRNA/protein data')\n",
    "\n",
    "scatter_pseudtimesCD4_hybrid"
   ]
  },
  {
   "cell_type": "code",
   "execution_count": null,
   "id": "6523da72",
   "metadata": {
    "scrolled": false
   },
   "outputs": [],
   "source": [
    "options(repr.plot.width=5.8, repr.plot.height=4)\n",
    "\n",
    "scatter_pseudtimesCD8_hybrid <- ggplot(meta_IBEX_comb_T2_hybrid, aes(x=hybrid_spt_spca_SP_CD8, y=rna_spt_spca_SP_CD8, color=hybrid_anno_CITE_4v6))+\n",
    "geom_point_rast(size=0.2, alpha=0.9)+\n",
    "geom_abline(linetype=2, color='grey50')+\n",
    "scale_color_manual(values = pal10v2[3:10])+\n",
    "theme_bw()+\n",
    "scale_x_continuous(breaks=seq(0,12.5,2.5))+\n",
    "scale_y_continuous(breaks=seq(0,12.5,2.5))+\n",
    "theme(axis.text.x = element_text(size=12), axis.text.y = element_text(size = 12),\n",
    "           panel.border = element_blank(), axis.line.x = element_line(size = 0.5, linetype = \"solid\", colour = \"black\"),\n",
    "            axis.line.y = element_line(size = 0.5, linetype = \"solid\", colour = \"black\"))+theme(legend.key = element_rect(fill = \"white\"))+\n",
    "guides(colour = guide_legend(override.aes = list(size=3)))+\n",
    "labs(title='CD8 lineage pseudotime predicted from CITE-seq data', y= 'Pseudotime predicted based on RNA', x='Pseudotime predicted based on RNA/protein', color='Cell annotation\\npredicted from CITE-seq\\nRNA/protein data')\n",
    "\n",
    "scatter_pseudtimesCD8_hybrid"
   ]
  },
  {
   "cell_type": "code",
   "execution_count": null,
   "id": "367eb623",
   "metadata": {},
   "outputs": [],
   "source": [
    "fraction_cuttoff <- 0.5 #use this to exclude cells with low annotation certainty\n",
    "\n",
    "meta_IBEX_comb_T_summary <- meta_IBEX_comb_T %>%\n",
    "    subset(hybrid_anno_CITE_4v6 %in% DPtoSP_cells2 & hybrid_anno_CITE_4v6_fraction >= fraction_cuttoff) %>% \n",
    "    group_by(hybrid_anno_CITE_4v6) %>% summarise(\n",
    "    hybrid_spt_CD4_median = median(hybrid_spt_spca_SP_CD4, na.rm = T),                  \n",
    "    hybrid_spt_CD4_q05 = quantile(hybrid_spt_spca_SP_CD4, probs = 0.05, na.rm = T),\n",
    "    hybrid_spt_CD4_q95 = quantile(hybrid_spt_spca_SP_CD4, probs = 0.95, na.rm = T),\n",
    "    hybrid_spt_CD8_median = median(hybrid_spt_spca_SP_CD8, na.rm = T),                  \n",
    "    hybrid_spt_CD8_q05 = quantile(hybrid_spt_spca_SP_CD8, probs = 0.05, na.rm = T),\n",
    "    hybrid_spt_CD8_q95 = quantile(hybrid_spt_spca_SP_CD8, probs = 0.95, na.rm = T))\n",
    "\n",
    "#need to calculate CMA means for lineages separately because for the hilo cells not all will be included in the pseudotime of both lineages\n",
    "\n",
    "meta_IBEX_comb_T_summary <- meta_IBEX_comb_T %>%\n",
    "    subset(hybrid_anno_CITE_4v6 %in% DPtoSP_cells2 & hybrid_anno_CITE_4v6_fraction >= fraction_cuttoff & !is.na(hybrid_spt_spca_SP_CD4)) %>% \n",
    "    group_by(hybrid_anno_CITE_4v6) %>% summarise(\n",
    "    hybrid_cma_median_CD4 = median(cma_v2_exp2, na.rm = T),                  \n",
    "    hybrid_cma_q05_CD4 = quantile(cma_v2_exp2, probs = 0.05, na.rm = T),\n",
    "    hybrid_cma_q95_CD4 = quantile(cma_v2_exp2, probs = 0.95, na.rm = T)) %>%\n",
    "    left_join(meta_IBEX_comb_T_summary_hybrid, .)\n",
    "\n",
    "meta_IBEX_comb_T_summary <- meta_IBEX_comb_T %>%\n",
    "    subset(hybrid_anno_CITE_4v6 %in% DPtoSP_cells2 & hybrid_anno_CITE_4v6_fraction >= fraction_cuttoff & !is.na(hybrid_spt_spca_SP_CD8)) %>% \n",
    "    group_by(hybrid_anno_CITE_4v6) %>% summarise(\n",
    "    hybrid_cma_median_CD8 = median(cma_v2_exp2, na.rm = T),                  \n",
    "    hybrid_cma_q05_CD8 = quantile(cma_v2_exp2, probs = 0.05, na.rm = T),\n",
    "    hybrid_cma_q95_CD8 = quantile(cma_v2_exp2, probs = 0.95, na.rm = T)) %>%\n",
    "    left_join(meta_IBEX_comb_T_summary_hybrid, .)\n",
    "\n",
    "        \n",
    "meta_IBEX_comb_T_summary$hybrid_anno_CITE_4v6 <- factor(meta_IBEX_comb_T_summary$hybrid_anno_CITE_4v6, levels=DPtoSP_cells2)\n"
   ]
  },
  {
   "cell_type": "code",
   "execution_count": null,
   "id": "1d69665b",
   "metadata": {
    "scrolled": false
   },
   "outputs": [],
   "source": [
    "options(repr.plot.width=4.5, repr.plot.height=3)\n",
    "\n",
    "IBEX_CD4_pseu2 <- ggplot() + \n",
    "    geom_point(data=meta_IBEX_comb_T2_hybrid, aes(x=hybrid_spt_spca_SP_CD4, y=cma_v2_exp2, color=hybrid_anno_CITE_4v6), size=0.1, alpha=0.2) + \n",
    "    geom_errorbarh(data = meta_IBEX_comb_T_summary,aes(xmin = hybrid_spt_CD4_q05,xmax = hybrid_spt_CD4_q95,y = hybrid_cma_median_CD4), color='black', height=0.03, size=0.2) + \n",
    "    geom_errorbar(data = meta_IBEX_comb_T_summary,aes(ymin = hybrid_cma_q05_CD4,ymax = hybrid_cma_q95_CD4,x = hybrid_spt_CD4_median), color='black', width=0.2, size=0.2)+\n",
    "    geom_point(data = meta_IBEX_comb_T_summary,aes(x=hybrid_spt_CD4_median, y=hybrid_cma_median_CD4, fill = hybrid_anno_CITE_4v6), size=3, shape=23, color='black') +\n",
    "    scale_fill_manual(values = pal10v2[3:10])+\n",
    "    scale_y_reverse()+\n",
    "    coord_cartesian(ylim = c(0.65,-0.55), xlim = c(0,11.2))+\n",
    "    scale_colour_manual(values = pal10v2[3:10])+\n",
    "    theme_bw()+\n",
    "    theme(axis.text.x = element_text(size=12), axis.text.y = element_text(size = 14),\n",
    "           panel.border = element_blank(), axis.line.x = element_line(size = 0.5, linetype = \"solid\", colour = \"black\"),\n",
    "            axis.line.y = element_line(size = 0.5, linetype = \"solid\", colour = \"black\"))+theme(legend.key = element_rect(fill = \"white\"))+\n",
    "    theme(legend.key = element_rect(fill = \"white\"))+\n",
    "    labs(title='IBEX (RNA/protein) CMA for CD4 lineage', y='mean exp(CMA)', x='CD4 lineage pseudotime')+\n",
    "    geom_hline(yintercept = 0, linetype=2, color='grey50')+\n",
    "    scale_x_continuous(breaks=seq(0,10.5,1.5))&NoLegend()\n",
    "\n",
    "\n",
    "IBEX_CD4_pseu2"
   ]
  },
  {
   "cell_type": "code",
   "execution_count": null,
   "id": "54321c8d",
   "metadata": {},
   "outputs": [],
   "source": [
    "options(repr.plot.width=4.5, repr.plot.height=3)\n",
    "\n",
    "IBEX_CD8_pseu2 <- ggplot() + \n",
    "    geom_point(data=meta_IBEX_comb_T2_hybrid, aes(x=hybrid_spt_spca_SP_CD8, y=cma_v2_exp2, color=hybrid_anno_CITE_4v6), size=0.1, alpha=0.2) + \n",
    "    geom_errorbarh(data = meta_IBEX_comb_T_summary,aes(xmin = hybrid_spt_CD8_q05,xmax = hybrid_spt_CD8_q95,y = hybrid_cma_median_CD8), colour = \"black\", height=0.03, size=0.2) + \n",
    "    geom_errorbar(data = meta_IBEX_comb_T_summary,aes(ymin = hybrid_cma_q05_CD8,ymax = hybrid_cma_q95_CD8,x = hybrid_spt_CD8_median), colour = \"black\", width=0.2, size=0.2)+\n",
    "    geom_point(data = meta_IBEX_comb_T_summary,aes(x=hybrid_spt_CD8_median, y=hybrid_cma_median_CD8, fill = hybrid_anno_CITE_4v6), size=3, shape=23, color='black') +\n",
    "    scale_fill_manual(values = pal10v2[3:10])+\n",
    "    scale_y_reverse()+\n",
    "    coord_cartesian(ylim = c(0.65,-0.55))+\n",
    "    scale_colour_manual(values = pal10v2[3:10])+\n",
    "    theme_bw()+\n",
    "    theme(axis.text.x = element_text(size=12), axis.text.y = element_text(size = 14),\n",
    "           panel.border = element_blank(), axis.line.x = element_line(size = 0.5, linetype = \"solid\", colour = \"black\"),\n",
    "            axis.line.y = element_line(size = 0.5, linetype = \"solid\", colour = \"black\"))+theme(legend.key = element_rect(fill = \"white\"))+\n",
    "    theme(legend.key = element_rect(fill = \"white\"))+\n",
    "    labs(title='IBEX (RNA/protein) CMA for CD8 lineage', y='mean exp(CMA)', x='CD8 lineage pseudotime')+\n",
    "    geom_hline(yintercept = 0, linetype=2, color='grey50')+\n",
    "    scale_x_continuous(breaks=seq(0,12.5,2.5))&NoLegend()\n",
    "\n",
    "IBEX_CD8_pseu2"
   ]
  },
  {
   "cell_type": "markdown",
   "id": "be50c6b6",
   "metadata": {},
   "source": [
    "#### Comparison of Visium and IBEX"
   ]
  },
  {
   "cell_type": "code",
   "execution_count": null,
   "id": "ba120e35",
   "metadata": {},
   "outputs": [],
   "source": [
    "meta_spatial_summary <- left_join(meta_IBEX_comb_T_summary, meta_visium_summary, join_by(hybrid_anno_CITE_4v6==anno_CITE_4v5))\n",
    "meta_spatial_summary"
   ]
  },
  {
   "cell_type": "code",
   "execution_count": null,
   "id": "012d9850",
   "metadata": {
    "scrolled": false
   },
   "outputs": [],
   "source": [
    "options(repr.plot.width=4.5, repr.plot.height=3)\n",
    "\n",
    "comp_pseu_CD4 <- ggplot() + \n",
    "   geom_errorbarh(data = meta_spatial_summary,aes(xmin = visium_spt_CD4_q05,xmax = visium_spt_CD4_q95,y = visium_cma_median_CD4,colour = hybrid_anno_CITE_4v6), height=0.03) + \n",
    "   geom_errorbar(data = meta_spatial_summary,aes(ymin = visium_cma_q05_CD4,ymax = visium_cma_q95_CD4,x = visium_spt_CD4_median,colour = hybrid_anno_CITE_4v6), width=0.2)+\n",
    "   geom_errorbarh(data = meta_spatial_summary,aes(xmin = hybrid_spt_CD4_q05,xmax = rna_spt_CD4_q95,y = hybrid_cma_median_CD4,colour = hybrid_anno_CITE_4v6), height=0.03, linetype=2) + \n",
    "    geom_errorbar(data = meta_spatial_summary,aes(ymin = hybrid_cma_q05_CD4,ymax = hybrid_cma_q95_CD4,x = hybrid_spt_CD4_median,colour = hybrid_anno_CITE_4v6), width=0.2, linetype=2)+\n",
    "    geom_point(data = meta_spatial_summary,aes(x=visium_spt_CD4_median, y=visium_cma_median_CD4, fill = hybrid_anno_CITE_4v6), size=5, shape=21, color='black') +\n",
    "   geom_point(data = meta_spatial_summary,aes(x=hybrid_spt_CD4_median, y=hybrid_cma_median_CD4, fill = hybrid_anno_CITE_4v6), size=5, shape=23, color='black') +\n",
    "    scale_fill_manual(values = pal10v2[3:10])+\n",
    "    scale_colour_manual(values = pal10v2[3:10])+\n",
    "    scale_y_reverse()+\n",
    "    coord_cartesian(ylim = c(0.65,-0.55))+\n",
    "    theme_bw()+\n",
    "    theme(axis.text.x = element_text(size=12), axis.text.y = element_text(size = 14),\n",
    "           panel.border = element_blank(), axis.line.x = element_line(size = 0.5, linetype = \"solid\", colour = \"black\"),\n",
    "            axis.line.y = element_line(size = 0.5, linetype = \"solid\", colour = \"black\"))+theme(legend.key = element_rect(fill = \"white\"))+\n",
    "    theme(legend.key = element_rect(fill = \"white\"))+\n",
    "    labs(title='CMA for CD4 lineage', y='mean exp(CMA)', x='CD4 lineage pseudotime')+\n",
    "    geom_hline(yintercept = 0, linetype=2, color='grey50')+\n",
    "    scale_x_continuous(breaks=seq(0,10.5,1.5))&NoLegend()\n",
    "\n",
    "comp_pseu_CD4"
   ]
  },
  {
   "cell_type": "code",
   "execution_count": null,
   "id": "6cd3cc4c",
   "metadata": {
    "scrolled": false
   },
   "outputs": [],
   "source": [
    "options(repr.plot.width=4.5, repr.plot.height=3)\n",
    "\n",
    "comp_pseu_CD8 <- ggplot() + \n",
    "   geom_errorbarh(data = meta_spatial_summary,aes(xmin = visium_spt_CD8_q05,xmax = visium_spt_CD8_q95,y = visium_cma_median_CD8,colour = hybrid_anno_CITE_4v6), height=0.03) + \n",
    "   geom_errorbar(data = meta_spatial_summary,aes(ymin = visium_cma_q05_CD8,ymax = visium_cma_q95_CD8,x = visium_spt_CD8_median,colour = hybrid_anno_CITE_4v6), width=0.2)+\n",
    "   geom_errorbarh(data = meta_spatial_summary,aes(xmin = hybrid_spt_CD8_q05,xmax = rna_spt_CD8_q95,y = hybrid_cma_median_CD8,colour = hybrid_anno_CITE_4v6), height=0.03, linetype=2) + \n",
    "    geom_errorbar(data = meta_spatial_summary,aes(ymin = hybrid_cma_q05_CD8,ymax = hybrid_cma_q95_CD8,x = hybrid_spt_CD8_median,colour = hybrid_anno_CITE_4v6), width=0.2, linetype=2)+\n",
    "    geom_point(data = meta_spatial_summary,aes(x=visium_spt_CD8_median, y=visium_cma_median_CD8, fill = hybrid_anno_CITE_4v6), size=5, shape=21, color='black') +\n",
    "   geom_point(data = meta_spatial_summary,aes(x=hybrid_spt_CD8_median, y=hybrid_cma_median_CD8, fill = hybrid_anno_CITE_4v6), size=5, shape=23, color='black') +\n",
    "     scale_fill_manual(values = pal10v2[3:10])+\n",
    "    scale_colour_manual(values = pal10v2[3:10])+\n",
    "    scale_y_reverse()+\n",
    "    coord_cartesian(ylim = c(0.65,-0.55))+\n",
    "    theme_bw()+\n",
    "    theme(axis.text.x = element_text(size=12), axis.text.y = element_text(size = 14),\n",
    "           panel.border = element_blank(), axis.line.x = element_line(size = 0.5, linetype = \"solid\", colour = \"black\"),\n",
    "            axis.line.y = element_line(size = 0.5, linetype = \"solid\", colour = \"black\"))+theme(legend.key = element_rect(fill = \"white\"))+\n",
    "    theme(legend.key = element_rect(fill = \"white\"))+\n",
    "    labs(title='CMA for CD8 lineage', y='mean exp(CMA)', x='CD8 lineage pseudotime')+\n",
    "    geom_hline(yintercept = 0, linetype=2, color='grey50')+\n",
    "    scale_x_continuous(breaks=seq(0,12.5,2.5))&NoLegend()\n",
    "\n",
    "comp_pseu_CD8"
   ]
  }
 ],
 "metadata": {
  "kernelspec": {
   "display_name": "R",
   "language": "R",
   "name": "ir"
  },
  "language_info": {
   "codemirror_mode": "r",
   "file_extension": ".r",
   "mimetype": "text/x-r-source",
   "name": "R",
   "pygments_lexer": "r",
   "version": "4.2.3"
  }
 },
 "nbformat": 4,
 "nbformat_minor": 5
}
