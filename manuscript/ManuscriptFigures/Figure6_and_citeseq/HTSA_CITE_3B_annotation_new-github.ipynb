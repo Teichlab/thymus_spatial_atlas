{
 "cells": [
  {
   "cell_type": "markdown",
   "id": "8fea8888",
   "metadata": {},
   "source": [
    "# CITEseq data analysis\n",
    "*Author: Lena Boehme, Taghon lab, 2023*\n",
    "\n",
    "## Annotation - new\n",
    "\n",
    "This script documents the second round of annotation of the CITE-seq data. The entire dataset went through a prior round of annotation and marker discovery (see script 3A_annotation_old), which has provided a reference for the new annotation in terms of individual cell labels and gene/protein expression signatures associated with specific stages.\n",
    "\n",
    "The annotations defined in this script are the ones used in the HTSA manuscript, old annotations represent those in the bioRxiv preprint."
   ]
  },
  {
   "cell_type": "markdown",
   "id": "230f61bf",
   "metadata": {},
   "source": [
    "### Setup"
   ]
  },
  {
   "cell_type": "code",
   "execution_count": null,
   "id": "3d30a558",
   "metadata": {
    "scrolled": true,
    "vscode": {
     "languageId": "r"
    }
   },
   "outputs": [],
   "source": [
    "options(repr.plot.width=12, repr.plot.height=6)\n",
    "\n",
    "options(scipen=100) #avoid scientific notation of numbers\n",
    "\n",
    "library(SeuratDisk)\n",
    "library(Seurat)\n",
    "library(matrixStats)\n",
    "library(ggplot2)\n",
    "library(pheatmap)\n",
    "library(reshape2)\n",
    "library(dplyr)\n",
    "library(tidyr)\n",
    "library(viridis)\n",
    "library(RColorBrewer)\n",
    "library(stringr)\n",
    "library(ggalluvial)\n",
    "\n",
    "library(batchelor)\n",
    "library(BiocParallel)\n",
    "library(BiocNeighbors)\n",
    "\n",
    "library(singleCellHaystack)\n",
    "\n",
    "library(slingshot)\n",
    "library(SingleCellExperiment)"
   ]
  },
  {
   "cell_type": "code",
   "execution_count": null,
   "id": "41303a23",
   "metadata": {
    "scrolled": true,
    "vscode": {
     "languageId": "r"
    }
   },
   "outputs": [],
   "source": [
    "sessionInfo()"
   ]
  },
  {
   "cell_type": "code",
   "execution_count": null,
   "id": "d2583583",
   "metadata": {
    "vscode": {
     "languageId": "r"
    }
   },
   "outputs": [],
   "source": [
    "pal24 <- colorRampPalette(brewer.pal(12, \"Paired\"))(24)\n",
    "pal36 <- colorRampPalette(brewer.pal(12, \"Paired\"))(36)\n",
    "pal12 <- colorRampPalette(brewer.pal(12, \"Paired\"))(12)\n",
    "pal60 <- colorRampPalette(brewer.pal(12, \"Paired\"))(60)\n",
    "pal40 <- colorRampPalette(brewer.pal(12, \"Paired\"))(40)"
   ]
  },
  {
   "cell_type": "code",
   "execution_count": null,
   "id": "ce6e609e",
   "metadata": {
    "vscode": {
     "languageId": "r"
    }
   },
   "outputs": [],
   "source": [
    "#PC cutoff function\n",
    "PCcutoff <- function(pca, diff){\n",
    "    var_pc <- pca@stdev/sum(pca@stdev)*100 #calculate % variation associated with each PC\n",
    "    diffvar_pc <- var_pc[1:length(var_pc)-1] - var_pc[2:length(var_pc)] #calculate difference in variation between subsequent PC\n",
    "    sort(which(diffvar_pc >diff), decreasing=TRUE)[1]+1 #determine which PC is the last one where the variation is more that x% higher compared to the next PC\n",
    "}\n",
    "#pca: the pca slot in the seurat object\n",
    "#diff: the % difference in variation between two subsequent PCs to be used as cutoff"
   ]
  },
  {
   "cell_type": "markdown",
   "id": "3692650a",
   "metadata": {},
   "source": [
    "We load the newly processed data that has been QC-ed, denoised and integration. We still have old annotations from RNA-based annotation and the previous iteration of CITE-seq annotation, which we can utilise as reference if needed."
   ]
  },
  {
   "cell_type": "code",
   "execution_count": null,
   "id": "276441b0",
   "metadata": {
    "vscode": {
     "languageId": "r"
    }
   },
   "outputs": [],
   "source": [
    "seurObj <- LoadH5Seurat('./HTSA_CITE_WNN_corr.h5seurat')"
   ]
  },
  {
   "cell_type": "code",
   "execution_count": null,
   "id": "7e7f3d31",
   "metadata": {
    "vscode": {
     "languageId": "r"
    }
   },
   "outputs": [],
   "source": [
    "DefaultAssay(seurObj) <- 'ADTdsb'"
   ]
  },
  {
   "cell_type": "code",
   "execution_count": null,
   "id": "2645deed",
   "metadata": {
    "vscode": {
     "languageId": "r"
    }
   },
   "outputs": [],
   "source": [
    "ABs <- rownames(seurObj@assays$ADTdsb@data)[c(1:130, 138:150)]"
   ]
  },
  {
   "cell_type": "markdown",
   "id": "78e77af2",
   "metadata": {},
   "source": [
    "We have retained RNA- and CITE-based cell annotations for cells that had been included in the previous annotation workflow. We can use these as a rough guideline.\n",
    "\n",
    "Of note, we had previously observed technical artefacts during annotation, namely antibody aggregates for certain markers that resulted in false-positive staining on a handful of cells. Based on this knowledge the affected cells have already been filtered from this new version of the data set."
   ]
  },
  {
   "cell_type": "code",
   "execution_count": null,
   "id": "016a20b1",
   "metadata": {
    "vscode": {
     "languageId": "r"
    }
   },
   "outputs": [],
   "source": [
    "options(repr.plot.width=12, repr.plot.height=6)\n",
    "\n",
    "DimPlot(seurObj, reduction = 'umap_wnn_mnn', group.by = 'pred_cell_type_level_4', cols = sample(pal60))+labs(title=\"WNN UMAP - broad RNA annotations\")\n",
    "DimPlot(seurObj, reduction = 'umap_wnn_mnn', group.by = 'anno_CITE_4v5', cols = sample(pal60))+labs(title=\"WNN UMAP - previous CITE annotations\")"
   ]
  },
  {
   "cell_type": "code",
   "execution_count": null,
   "id": "a3cd44f2",
   "metadata": {
    "vscode": {
     "languageId": "r"
    }
   },
   "outputs": [],
   "source": [
    "seurObj$anno_CITE_4v5 %>% table\n",
    "seurObj$anno_CITE_old <- seurObj$anno_CITE_4v5"
   ]
  },
  {
   "cell_type": "markdown",
   "id": "7ac555be",
   "metadata": {},
   "source": [
    "The CITE annotations still contain several outdated labels that originated in RNA clustering but do no represent true CITE-seq derived cell categorisation. For better old-new comparisons, we replace these labels with the appropriate overarching CITE-seq annotation."
   ]
  },
  {
   "cell_type": "code",
   "execution_count": null,
   "id": "09add5ce",
   "metadata": {
    "vscode": {
     "languageId": "r"
    }
   },
   "outputs": [],
   "source": [
    "Idents(seurObj) <- seurObj$anno_CITE_old\n",
    "seurObj@meta.data[WhichCells(seurObj, idents = c('', 'nan')),'anno_CITE_old'] <- 'unknown'\n",
    "seurObj@meta.data[WhichCells(seurObj, idents = c('DP(Q)_Th2', 'DP(Q)_HSPH1', 'DP(Q)_CD199', 'DP(Q)_CD99_CD31lo', 'DP(Q)_CD99_CD31hi')),'anno_CITE_old'] <- 'DP(Q)_rearr'"
   ]
  },
  {
   "cell_type": "code",
   "execution_count": null,
   "id": "f6e57cc1",
   "metadata": {
    "vscode": {
     "languageId": "r"
    }
   },
   "outputs": [],
   "source": [
    "celltypes <- names(table(seurObj$anno_CITE_old))\n",
    "names(celltypes) <- seq_along(celltypes)\n",
    "celltypes"
   ]
  },
  {
   "cell_type": "code",
   "execution_count": null,
   "id": "342740d9",
   "metadata": {
    "vscode": {
     "languageId": "r"
    }
   },
   "outputs": [],
   "source": [
    "celltypes_ordered <- celltypes[c(39, 6:9, 12, 14, 16, 15, 17, 13, 11, 27, 29, 28, 30, 33, 31, 32, 35:37, 34, 38,2:5, 18, 20, 19, 21, 26, 24, 25, 22, 23, 1, 10, 40)]"
   ]
  },
  {
   "cell_type": "code",
   "execution_count": null,
   "id": "8afb3d0f",
   "metadata": {
    "vscode": {
     "languageId": "r"
    }
   },
   "outputs": [],
   "source": [
    "seurObj$anno_CITE_old <- factor(seurObj$anno_CITE_old, levels=celltypes_ordered)"
   ]
  },
  {
   "cell_type": "code",
   "execution_count": null,
   "id": "d645941e",
   "metadata": {
    "vscode": {
     "languageId": "r"
    }
   },
   "outputs": [],
   "source": [
    "seurObj$anno_CITE_old %>% table"
   ]
  },
  {
   "cell_type": "markdown",
   "id": "eef6f90b",
   "metadata": {},
   "source": [
    "### Cell cycle scoring\n",
    "\n",
    "Cell cycle scoring was not retained and the updated RNA processing may have shifted the detection of certain genes. We therefore repeat the scoring on the new data to determine cell cycle stages for each cells."
   ]
  },
  {
   "cell_type": "code",
   "execution_count": null,
   "id": "5b530775",
   "metadata": {
    "vscode": {
     "languageId": "r"
    }
   },
   "outputs": [],
   "source": [
    "DefaultAssay(seurObj) <- 'RNA'\n",
    "\n",
    "seurObj <- CellCycleScoring(seurObj, s.features = cc.genes.updated.2019$s.genes, g2m.features = cc.genes.updated.2019$g2m.genes, set.ident = FALSE)\n",
    "\n",
    "DefaultAssay(seurObj) <- 'ADTdsb'"
   ]
  },
  {
   "cell_type": "code",
   "execution_count": null,
   "id": "344dba05",
   "metadata": {
    "vscode": {
     "languageId": "r"
    }
   },
   "outputs": [],
   "source": [
    "options(repr.plot.width=8, repr.plot.height=6)\n",
    "\n",
    "DimPlot(seurObj, reduction = 'umap_wnn_mnn', group.by = 'Phase')+labs(title=\"WNN UMAP - Cell cycle phase\")"
   ]
  },
  {
   "cell_type": "markdown",
   "id": "e43fb666",
   "metadata": {},
   "source": [
    "### Rough clustering\n",
    "\n",
    "To obtain rough subpopulations that can serve as a starting point for annotation, we cluster on the sPCA (previously calculated on the batch corrected WNN UMAP) with low resolution."
   ]
  },
  {
   "cell_type": "code",
   "execution_count": null,
   "id": "0acb048d",
   "metadata": {
    "vscode": {
     "languageId": "r"
    }
   },
   "outputs": [],
   "source": [
    "ptm <- proc.time()\n",
    "\n",
    "seurObj <- FindNeighbors(seurObj,reduction= 'spca', dims=1:15)\n",
    "\n",
    "proc.time() - ptm"
   ]
  },
  {
   "cell_type": "code",
   "execution_count": null,
   "id": "8dbe6c1c",
   "metadata": {
    "vscode": {
     "languageId": "r"
    }
   },
   "outputs": [],
   "source": [
    "ptm <- proc.time()\n",
    "\n",
    "seurObj <- FindClusters(seurObj, graph.name = 'RNA_snn', algorithm = 4,\n",
    "                        resolution = 0.5, random.seed = 123, method = 'igraph',\n",
    "                       cluster.name='clusters_rough')\n",
    "\n",
    "proc.time() - ptm"
   ]
  },
  {
   "cell_type": "code",
   "execution_count": null,
   "id": "726cd4fa",
   "metadata": {
    "vscode": {
     "languageId": "r"
    }
   },
   "outputs": [],
   "source": [
    "table(seurObj$clusters_rough)"
   ]
  },
  {
   "cell_type": "code",
   "execution_count": null,
   "id": "a789e4db",
   "metadata": {
    "vscode": {
     "languageId": "r"
    }
   },
   "outputs": [],
   "source": [
    "options(repr.plot.width=8, repr.plot.height=7)\n",
    "\n",
    "DimPlot(seurObj, reduction = 'umap_wnn_mnn', group.by = 'clusters_rough', cols=pal12)+labs(title=\"WNN UMAP - ADT rough clustering\")\n",
    "DimPlot(seurObj, reduction = 'umap_adt_mnn', group.by = 'clusters_rough', cols=pal12)+labs(title=\"ADT UMAP - ADT rough clustering\")\n",
    "DimPlot(seurObj, reduction = 'umap_rna_mnn', group.by = 'clusters_rough', cols=pal12)+labs(title=\"RNA UMAP - ADT rough clustering\")"
   ]
  },
  {
   "cell_type": "code",
   "execution_count": null,
   "id": "2aefd7fd",
   "metadata": {
    "vscode": {
     "languageId": "r"
    }
   },
   "outputs": [],
   "source": [
    "options(repr.plot.width=16, repr.plot.height=10)\n",
    "\n",
    "VlnPlot(seurObj, features=c('CD34', 'CD8', 'CD4', 'CD3', 'TCRab', 'TCRgd', 'CD1a', 'CD27', 'CD69'), pt.size = 0, group.by = 'clusters_rough', assay = 'ADTdsb', cols=pal12)"
   ]
  },
  {
   "cell_type": "markdown",
   "id": "74951e3a",
   "metadata": {},
   "source": [
    "We can derive broad cluster annotations based on the expression of a few markers and the composition of the UMAP:\n",
    "\n",
    "- 7+11: DNs\n",
    "- 12: B/DC\n",
    "- 5+8: DP(P)\n",
    "- 1+3+6: DP(Q)\n",
    "- 9: Treg\n",
    "- 2: ab lineage\n",
    "- 4: SP\n",
    "- 10: CD8aa/NK/gdT"
   ]
  },
  {
   "cell_type": "markdown",
   "id": "02d2b1d6",
   "metadata": {},
   "source": [
    "### DN annotation\n",
    "\n",
    "We start the annotation process at the most immature T cell precursors (cluster7/11)."
   ]
  },
  {
   "cell_type": "code",
   "execution_count": null,
   "id": "86c7f7ee",
   "metadata": {
    "vscode": {
     "languageId": "r"
    }
   },
   "outputs": [],
   "source": [
    "seurObj_DN <- subset(seurObj, subset=clusters_rough %in% c(7,11))"
   ]
  },
  {
   "cell_type": "code",
   "execution_count": null,
   "id": "b7eacc8a",
   "metadata": {
    "vscode": {
     "languageId": "r"
    }
   },
   "outputs": [],
   "source": [
    "options(repr.plot.width=8, repr.plot.height=7)\n",
    "\n",
    "DimPlot(seurObj_DN, reduction = 'umap_wnn_mnn', group.by = 'clusters_rough', cols=pal12)+labs(title=\"WNN UMAP - ADT rough clustering\")"
   ]
  },
  {
   "cell_type": "code",
   "execution_count": null,
   "id": "cd44217f",
   "metadata": {
    "scrolled": true,
    "vscode": {
     "languageId": "r"
    }
   },
   "outputs": [],
   "source": [
    "seurObj_DN <- seurObj_DN  %>%\n",
    "            FindVariableFeatures(assay='ADTdsb') %>%\n",
    "            ScaleData(assay = 'ADTdsb') %>%\n",
    "            RunPCA(assay = 'ADTdsb', npcs = 50, reduction.name = 'pca_adt_DN')"
   ]
  },
  {
   "cell_type": "code",
   "execution_count": null,
   "id": "e5ac90b0",
   "metadata": {
    "scrolled": true,
    "vscode": {
     "languageId": "r"
    }
   },
   "outputs": [],
   "source": [
    "MNN <- reducedMNN(seurObj_DN@reductions$pca_adt_DN@cell.embeddings,\n",
    "                 batch=seurObj_DN$sample,\n",
    "                 BPPARAM=MulticoreParam(workers=12), #parallelisation\n",
    "                 BNPARAM=HnswParam())\n",
    "\n",
    "seurObj_DN[[\"mnn_adt_DN\"]] <- CreateDimReducObject(embeddings=MNN$corrected,\n",
    "                                                 assay=\"ADTdsb\",\n",
    "                                                    key=\"mnn_\")"
   ]
  },
  {
   "cell_type": "code",
   "execution_count": null,
   "id": "11900032",
   "metadata": {
    "vscode": {
     "languageId": "r"
    }
   },
   "outputs": [],
   "source": [
    "seurObj_DN <- seurObj_DN  %>%\n",
    "            FindVariableFeatures(assay='RNA') %>%\n",
    "            ScaleData(assay = 'RNA') %>%\n",
    "            RunPCA(assay = 'RNA', npcs = 50, reduction.name = 'pca_rna_DN')"
   ]
  },
  {
   "cell_type": "code",
   "execution_count": null,
   "id": "aec70ef6",
   "metadata": {
    "scrolled": true,
    "vscode": {
     "languageId": "r"
    }
   },
   "outputs": [],
   "source": [
    "MNN <- reducedMNN(seurObj_DN@reductions$pca_rna_DN@cell.embeddings,\n",
    "                 batch=seurObj_DN$sample,\n",
    "                 BPPARAM=MulticoreParam(workers=12), #parallelisation\n",
    "                 BNPARAM=HnswParam())\n",
    "\n",
    "seurObj_DN[[\"mnn_rna_DN\"]] <- CreateDimReducObject(embeddings=MNN$corrected,\n",
    "                                                 assay=\"RNA\",\n",
    "                                                    key=\"mnn_\")"
   ]
  },
  {
   "cell_type": "code",
   "execution_count": null,
   "id": "0e385e83",
   "metadata": {
    "vscode": {
     "languageId": "r"
    }
   },
   "outputs": [],
   "source": [
    "dim_adt <- PCcutoff(seurObj_DN@reductions$pca_adt_DN, 0.1)\n",
    "dim_adt\n",
    "\n",
    "dim_rna <- PCcutoff(seurObj_DN@reductions$pca_rna_DN, 0.1)\n",
    "dim_rna\n",
    "\n",
    "seurObj_DN <- FindMultiModalNeighbors(seurObj_DN,\n",
    "                                  reduction.list=list('mnn_adt_DN', 'mnn_rna_DN'),\n",
    "                                   dims.list=list(1:dim_adt,1:dim_rna))"
   ]
  },
  {
   "cell_type": "code",
   "execution_count": null,
   "id": "923af9ae",
   "metadata": {
    "vscode": {
     "languageId": "r"
    }
   },
   "outputs": [],
   "source": [
    "seurObj_DN <- RunUMAP(seurObj_DN, nn.name = \"weighted.nn\", reduction.name = \"umap_wnn_DN\",\n",
    "                        reduction.key = \"wnnUMAP_\")"
   ]
  },
  {
   "cell_type": "code",
   "execution_count": null,
   "id": "77b71f10",
   "metadata": {
    "scrolled": false,
    "vscode": {
     "languageId": "r"
    }
   },
   "outputs": [],
   "source": [
    "options(repr.plot.width=8, repr.plot.height=7)\n",
    "\n",
    "DimPlot(seurObj_DN, reduction = 'umap_wnn_DN', group.by = 'clusters_rough')"
   ]
  },
  {
   "cell_type": "code",
   "execution_count": null,
   "id": "5b33a47a",
   "metadata": {
    "vscode": {
     "languageId": "r"
    }
   },
   "outputs": [],
   "source": [
    "options(repr.plot.width=12, repr.plot.height=10)\n",
    "\n",
    "DefaultAssay(seurObj_DN) <- 'ADTdsb'\n",
    "\n",
    "FeaturePlot(seurObj_DN, features=c('CD34', 'CD8', 'CD4', 'CD44', 'TCRab', 'TCRgd', 'CD1a', 'rna_RAG2', 'rna_PTCRA'), order=T,reduction='umap_wnn_DN')&scale_color_viridis()"
   ]
  },
  {
   "cell_type": "markdown",
   "id": "89ba680d",
   "metadata": {},
   "source": [
    "As seen previously, clustering on this cell subset is not useful for distinguishing biologically different populations since, the clusters don't really align with the cell types we know to be present during early T cell development. Instead we can use manual cut-offs for expression of marker combinations to identify pre-/post-committment cells."
   ]
  },
  {
   "cell_type": "code",
   "execution_count": null,
   "id": "48ad0ad1",
   "metadata": {
    "scrolled": false,
    "vscode": {
     "languageId": "r"
    }
   },
   "outputs": [],
   "source": [
    "options(repr.plot.width=7, repr.plot.height=6)\n",
    "\n",
    "FeatureScatter(seurObj_DN, feature1 = 'CD34', feature2 = 'CD44', group.by = 'clusters_DN', cols=pal24)\n",
    "FeatureScatter(seurObj_DN, feature1 = 'CD34', feature2 = 'CD1a', group.by = 'clusters_DN', cols=pal24)\n",
    "FeatureScatter(seurObj_DN, feature1 = 'CD1a', feature2 = 'CD44', group.by = 'clusters_DN', cols=pal24)\n",
    "FeatureScatter(seurObj_DN, feature1 = 'CD4', feature2 = 'CD8', group.by = 'clusters_DN', cols=pal24)\n",
    "FeatureScatter(seurObj_DN, feature1 = 'CD34', feature2 = 'CD4', group.by = 'clusters_DN', cols=pal24)\n"
   ]
  },
  {
   "cell_type": "markdown",
   "id": "19f34caf",
   "metadata": {},
   "source": [
    "High CD8 levels indicate DP stage, uncommitted cells have high CD44 and low CD1a as well as low CD4."
   ]
  },
  {
   "cell_type": "code",
   "execution_count": null,
   "id": "4bd05e15",
   "metadata": {
    "vscode": {
     "languageId": "r"
    }
   },
   "outputs": [],
   "source": [
    "seurObj_DN$anno_new <- 'unknown_DN'\n",
    "seurObj_DN$anno_new <- ifelse(colnames(seurObj_DN) %in% WhichCells(seurObj_DN, expression = CD8 > 7 & CD4 > 7 & CD34 < 50), \"unknown_DP\", seurObj_DN$anno_new)\n",
    "seurObj_DN$anno_new <- ifelse(colnames(seurObj_DN) %in% WhichCells(seurObj_DN, expression = CD8 < 7 & CD4 < 7), \"committed_CD4neg\", seurObj_DN$anno_new)\n",
    "seurObj_DN$anno_new <- ifelse(colnames(seurObj_DN) %in% WhichCells(seurObj_DN, expression = CD8 < 7 & CD4 > 7), \"committed_CD4pos\", seurObj_DN$anno_new)\n",
    "seurObj_DN$anno_new <- ifelse(colnames(seurObj_DN) %in% WhichCells(seurObj_DN, expression = CD34 > 50 & CD44 > 10 & CD1a < 8 & CD4 < 7), \"uncommitted\", seurObj_DN$anno_new)"
   ]
  },
  {
   "cell_type": "code",
   "execution_count": null,
   "id": "b5f64a01",
   "metadata": {
    "scrolled": false,
    "vscode": {
     "languageId": "r"
    }
   },
   "outputs": [],
   "source": [
    "options(repr.plot.width=7, repr.plot.height=6)\n",
    "\n",
    "FeatureScatter(seurObj_DN, feature1 = 'CD34', feature2 = 'CD44', group.by = 'anno_new', cols=pal12)\n",
    "FeatureScatter(seurObj_DN, feature1 = 'CD34', feature2 = 'CD1a', group.by = 'anno_new', cols=pal12)\n",
    "FeatureScatter(seurObj_DN, feature1 = 'CD1a', feature2 = 'CD44', group.by = 'anno_new', cols=pal12)\n",
    "FeatureScatter(seurObj_DN, feature1 = 'CD4', feature2 = 'CD8', group.by = 'anno_new', cols=pal12)\n",
    "FeatureScatter(seurObj_DN, feature1 = 'CD34', feature2 = 'CD4', group.by = 'anno_new', cols=pal12)\n"
   ]
  },
  {
   "cell_type": "code",
   "execution_count": null,
   "id": "8c052ae8",
   "metadata": {
    "vscode": {
     "languageId": "r"
    }
   },
   "outputs": [],
   "source": [
    "options(repr.plot.width=8, repr.plot.height=7)\n",
    "\n",
    "DimPlot(seurObj_DN, reduction = 'umap_wnn_DN', group.by = 'anno_new', cols=pal12)"
   ]
  },
  {
   "cell_type": "markdown",
   "id": "09eccffb",
   "metadata": {},
   "source": [
    "Using this strategy we can label cells with clear expression combos of known markers. There are cells that do not fit with classic marker categorisation e.g. cells with high CD44 and CD1a (schould be mutually exclusive at this stage) and CD44hi CD34lo cells. We label these as unknown, since for these the Totalseq staining may not be reliable enough.\n",
    "\n",
    "There also seems to be a non-negligible subset of DP thymocytes despite the subsetting for an early cluster.\n",
    "\n",
    "Since there will be some proliferating cells at this stage, we should distinguish these from quiescent ones in the annotation."
   ]
  },
  {
   "cell_type": "code",
   "execution_count": null,
   "id": "faac0daa",
   "metadata": {
    "vscode": {
     "languageId": "r"
    }
   },
   "outputs": [],
   "source": [
    "table(seurObj_DN$anno_new, seurObj_DN$Phase)"
   ]
  },
  {
   "cell_type": "code",
   "execution_count": null,
   "id": "7a649f95",
   "metadata": {
    "vscode": {
     "languageId": "r"
    }
   },
   "outputs": [],
   "source": [
    "options(repr.plot.width=8, repr.plot.height=7)\n",
    "\n",
    "DimPlot(seurObj_DN, reduction = 'umap_wnn_DN', group.by = 'Phase')"
   ]
  },
  {
   "cell_type": "code",
   "execution_count": null,
   "id": "a4183f25",
   "metadata": {
    "vscode": {
     "languageId": "r"
    }
   },
   "outputs": [],
   "source": [
    "seurObj_DN$anno_new <- ifelse(seurObj_DN$Phase %in% c('G2M', 'S') & seurObj_DN$anno_new == 'committed_CD4neg', \"committed_CD4neg(P)\", seurObj_DN$anno_new)\n",
    "seurObj_DN$anno_new <- ifelse(seurObj_DN$Phase %in% c('G2M', 'S') & seurObj_DN$anno_new == 'committed_CD4pos', \"committed_CD4pos(P)\", seurObj_DN$anno_new)"
   ]
  },
  {
   "cell_type": "code",
   "execution_count": null,
   "id": "35dce1f1",
   "metadata": {
    "vscode": {
     "languageId": "r"
    }
   },
   "outputs": [],
   "source": [
    "table(seurObj_DN$anno_new, seurObj_DN$Phase)"
   ]
  },
  {
   "cell_type": "code",
   "execution_count": null,
   "id": "4d583854",
   "metadata": {
    "vscode": {
     "languageId": "r"
    }
   },
   "outputs": [],
   "source": [
    "options(repr.plot.width=8, repr.plot.height=6)\n",
    "\n",
    "DimPlot(seurObj_DN, reduction = 'umap_wnn_DN', group.by = 'anno_new', cols=pal12)"
   ]
  },
  {
   "cell_type": "code",
   "execution_count": null,
   "id": "2e4c72d5",
   "metadata": {
    "vscode": {
     "languageId": "r"
    }
   },
   "outputs": [],
   "source": [
    "options(repr.plot.width=16, repr.plot.height=14)\n",
    "\n",
    "VlnPlot(seurObj_DN, features=c('CD34', 'CD8', 'CD4', 'CD44','TCRgd', 'CD1a', 'CD3', 'rna_PTCRA', 'rna_TRDC', 'rna_TRGC1', 'rna_RAG2', 'rna_DNTT'), cols=pal12, group.by = 'anno_new', pt.size = 0, ncol=4)"
   ]
  },
  {
   "cell_type": "code",
   "execution_count": null,
   "id": "db8ebfb7",
   "metadata": {
    "vscode": {
     "languageId": "r"
    }
   },
   "outputs": [],
   "source": [
    "options(repr.plot.width=6, repr.plot.height=5)\n",
    "\n",
    "FeatureScatter(seurObj_DN, feature1 = 'CD199', feature2 = 'TCRgd', group.by = 'clusters_DN')\n",
    "FeatureScatter(seurObj_DN, feature1 = 'XCR1', feature2 = 'TCRgd', group.by = 'clusters_DN')\n",
    "FeatureScatter(seurObj_DN, feature1 = 'XCR1', feature2 = 'CD199', group.by = 'clusters_DN')\n",
    "FeatureScatter(seurObj_DN, feature1 = 'CD370', feature2 = 'CD199', group.by = 'clusters_DN')\n",
    "FeatureScatter(seurObj_DN, feature1 = 'CD370', feature2 = 'TCRgd', group.by = 'clusters_DN')"
   ]
  },
  {
   "cell_type": "markdown",
   "id": "73fa5f0d",
   "metadata": {},
   "source": [
    "Despite previous efforts to remove cells with antibody aggregates, a small subset of CD199+ TCRgd+ CD370+ cells can be seen. Since these represent a potentially misleading technical artefact, we label these cells accordingly."
   ]
  },
  {
   "cell_type": "code",
   "execution_count": null,
   "id": "cdae3472",
   "metadata": {
    "vscode": {
     "languageId": "r"
    }
   },
   "outputs": [],
   "source": [
    "cells_artefact <- WhichCells(seurObj_DN, expression = TCRgd > 20 | CD199 > 20 | CD370 > 20)"
   ]
  },
  {
   "cell_type": "code",
   "execution_count": null,
   "id": "6e13a709",
   "metadata": {
    "vscode": {
     "languageId": "r"
    }
   },
   "outputs": [],
   "source": [
    "options(repr.plot.width=8, repr.plot.height=6)\n",
    "\n",
    "DimPlot(seurObj_DN, reduction = 'umap_wnn_DN', cells.highlight = cells_artefact)"
   ]
  },
  {
   "cell_type": "code",
   "execution_count": null,
   "id": "c6915cc1",
   "metadata": {
    "vscode": {
     "languageId": "r"
    }
   },
   "outputs": [],
   "source": [
    "table(seurObj_DN$anno_new, seurObj_DN$barcode %in% cells_artefact)"
   ]
  },
  {
   "cell_type": "code",
   "execution_count": null,
   "id": "c139d12d",
   "metadata": {
    "vscode": {
     "languageId": "r"
    }
   },
   "outputs": [],
   "source": [
    "seurObj_DN$anno_new <- ifelse(colnames(seurObj_DN) %in% cells_artefact, \"unknown_techn\", seurObj_DN$anno_new)"
   ]
  },
  {
   "cell_type": "code",
   "execution_count": null,
   "id": "5b95e9d6",
   "metadata": {
    "vscode": {
     "languageId": "r"
    }
   },
   "outputs": [],
   "source": [
    "table(seurObj_DN$anno_new)"
   ]
  },
  {
   "cell_type": "markdown",
   "id": "dd7b9b0a",
   "metadata": {},
   "source": [
    "We add the new cell annotations to the full object."
   ]
  },
  {
   "cell_type": "code",
   "execution_count": null,
   "id": "265fd4d5",
   "metadata": {
    "vscode": {
     "languageId": "r"
    }
   },
   "outputs": [],
   "source": [
    "seurObj$anno_new <- 'unknown'\n",
    "seurObj$anno_new[match(colnames(seurObj_DN), colnames(seurObj))] <- seurObj_DN$anno_new"
   ]
  },
  {
   "cell_type": "code",
   "execution_count": null,
   "id": "28c4b86a",
   "metadata": {
    "vscode": {
     "languageId": "r"
    }
   },
   "outputs": [],
   "source": [
    "table(seurObj$anno_new)"
   ]
  },
  {
   "cell_type": "code",
   "execution_count": null,
   "id": "8893041f",
   "metadata": {
    "vscode": {
     "languageId": "r"
    }
   },
   "outputs": [],
   "source": [
    "options(repr.plot.width=8, repr.plot.height=6)\n",
    "\n",
    "DimPlot(seurObj, reduction = 'umap_wnn_mnn', group.by = 'anno_new', cols=pal12)"
   ]
  },
  {
   "cell_type": "code",
   "execution_count": null,
   "id": "bcb39040",
   "metadata": {
    "vscode": {
     "languageId": "r"
    }
   },
   "outputs": [],
   "source": [
    "options(repr.plot.width=7, repr.plot.height=6)\n",
    "\n",
    "DimPlot(seurObj, reduction = 'umap_wnn_mnn', group.by = 'clusters_rough', cols=pal12)"
   ]
  },
  {
   "cell_type": "markdown",
   "id": "facf0885",
   "metadata": {},
   "source": [
    "### DP annotation\n",
    "\n",
    "We carry over the 'DP_unknown' fraction labelled in the DN annotation step and combine it with the clusters containing DPs for annotation of these stages."
   ]
  },
  {
   "cell_type": "code",
   "execution_count": null,
   "id": "1c4839b5",
   "metadata": {
    "vscode": {
     "languageId": "r"
    }
   },
   "outputs": [],
   "source": [
    "seurObj_DP <- subset(seurObj, subset=clusters_rough %in% c(1,3,5,6,8) | anno_new=='unknown_DP')"
   ]
  },
  {
   "cell_type": "code",
   "execution_count": null,
   "id": "5560e13f",
   "metadata": {
    "vscode": {
     "languageId": "r"
    }
   },
   "outputs": [],
   "source": [
    "options(repr.plot.width=8, repr.plot.height=7)\n",
    "\n",
    "DimPlot(seurObj, reduction = 'umap_wnn_mnn', cells.highlight = colnames(seurObj)[colnames(seurObj) %in% colnames(seurObj_DP)], shuffle = T, sizes.highlight = 2)"
   ]
  },
  {
   "cell_type": "code",
   "execution_count": null,
   "id": "af970cc4",
   "metadata": {
    "vscode": {
     "languageId": "r"
    }
   },
   "outputs": [],
   "source": [
    "table(seurObj_DP$clusters_rough)\n",
    "table(seurObj_DP$anno_new)"
   ]
  },
  {
   "cell_type": "code",
   "execution_count": null,
   "id": "6e6988c5",
   "metadata": {
    "scrolled": true,
    "vscode": {
     "languageId": "r"
    }
   },
   "outputs": [],
   "source": [
    "seurObj_DP <- seurObj_DP  %>%\n",
    "            FindVariableFeatures(assay='ADTdsb') %>%\n",
    "            ScaleData(assay = 'ADTdsb') %>%\n",
    "            RunPCA(assay = 'ADTdsb', npcs = 50, reduction.name = 'pca_adt_DP')"
   ]
  },
  {
   "cell_type": "code",
   "execution_count": null,
   "id": "8b114d0f",
   "metadata": {
    "vscode": {
     "languageId": "r"
    }
   },
   "outputs": [],
   "source": [
    "MNN <- reducedMNN(seurObj_DP@reductions$pca_adt_DP@cell.embeddings,\n",
    "                 batch=seurObj_DP$sample,\n",
    "                 BPPARAM=MulticoreParam(workers=12), #parallelisation\n",
    "                 BNPARAM=HnswParam())\n",
    "seurObj_DP[[\"mnn_adt_DP\"]] <- CreateDimReducObject(embeddings=MNN$corrected,\n",
    "                                        assay=\"ADTdsb\",\n",
    "                                        key=\"mnn_\")"
   ]
  },
  {
   "cell_type": "code",
   "execution_count": null,
   "id": "c7eb715e",
   "metadata": {
    "scrolled": true,
    "vscode": {
     "languageId": "r"
    }
   },
   "outputs": [],
   "source": [
    "seurObj_DP <- seurObj_DP  %>%\n",
    "            FindVariableFeatures(assay='RNA') %>%\n",
    "            ScaleData(assay = 'RNA') %>%\n",
    "            RunPCA(assay = 'RNA', npcs = 50, reduction.name = 'pca_rna_DP')"
   ]
  },
  {
   "cell_type": "code",
   "execution_count": null,
   "id": "93b9c5aa",
   "metadata": {
    "vscode": {
     "languageId": "r"
    }
   },
   "outputs": [],
   "source": [
    "MNN <- reducedMNN(seurObj_DP@reductions$pca_rna_DP@cell.embeddings,\n",
    "                 batch=seurObj_DP$sample,\n",
    "                 BPPARAM=MulticoreParam(workers=12), #parallelisation\n",
    "                 BNPARAM=HnswParam())\n",
    "seurObj_DP[[\"mnn_rna_DP\"]] <- CreateDimReducObject(embeddings=MNN$corrected,\n",
    "                                        assay=\"RNA\",\n",
    "                                        key=\"mnn_\")"
   ]
  },
  {
   "cell_type": "code",
   "execution_count": null,
   "id": "50a50aa0",
   "metadata": {
    "vscode": {
     "languageId": "r"
    }
   },
   "outputs": [],
   "source": [
    "dim_adt <- PCcutoff(seurObj_DP@reductions$pca_adt_DP, 0.1)\n",
    "dim_adt\n",
    "\n",
    "dim_rna <- PCcutoff(seurObj_DP@reductions$pca_rna_DP, 0.1)\n",
    "dim_rna\n",
    "\n",
    "seurObj_DP <- FindMultiModalNeighbors(seurObj_DP,\n",
    "                                  reduction.list=list('mnn_adt_DP', 'mnn_rna_DP'),\n",
    "                                   dims.list=list(1:dim_adt,1:dim_rna))"
   ]
  },
  {
   "cell_type": "code",
   "execution_count": null,
   "id": "4f5773d2",
   "metadata": {
    "scrolled": true,
    "vscode": {
     "languageId": "r"
    }
   },
   "outputs": [],
   "source": [
    "seurObj_DP <- RunUMAP(seurObj_DP, nn.name = \"weighted.nn\", reduction.name = \"umap_wnn_DP\",\n",
    "                        reduction.key = \"wnnUMAP_\")"
   ]
  },
  {
   "cell_type": "code",
   "execution_count": null,
   "id": "493794e3",
   "metadata": {
    "scrolled": false,
    "vscode": {
     "languageId": "r"
    }
   },
   "outputs": [],
   "source": [
    "options(repr.plot.width=8, repr.plot.height=7)\n",
    "\n",
    "DimPlot(seurObj_DP, reduction = 'umap_wnn_DP', group.by = 'clusters_rough')\n",
    "\n",
    "DimPlot(seurObj_DP, reduction = 'umap_wnn_DP', group.by = 'anno_new')\n",
    "\n",
    "DimPlot(seurObj_DP, reduction = 'umap_wnn_DP', group.by = 'Phase')"
   ]
  },
  {
   "cell_type": "code",
   "execution_count": null,
   "id": "4dca0aac",
   "metadata": {
    "vscode": {
     "languageId": "r"
    }
   },
   "outputs": [],
   "source": [
    "options(repr.plot.width=16, repr.plot.height=16)\n",
    "\n",
    "FeaturePlot(seurObj_DP, features=c('CD34', 'CD8', 'CD4', 'CD44', 'TCRab', 'TCRgd', 'CD1a', 'CD197', 'CD199', 'CD3', 'CD71', 'CD69', 'CD5', \"rna_RAG2\", \"rna_DNTT\", \"rna_PTCRA\"), order=T, ncol=4, reduction='umap_wnn_DP')&scale_color_viridis()"
   ]
  },
  {
   "cell_type": "markdown",
   "id": "821f0651",
   "metadata": {},
   "source": [
    "The cells previously grouped with the DNs still separate a lot from the remaining DPs and show higher levels of CD34 but low CD3/TCR. This indicates that they might represent the very earliest DPs."
   ]
  },
  {
   "cell_type": "code",
   "execution_count": null,
   "id": "6885158b",
   "metadata": {
    "vscode": {
     "languageId": "r"
    }
   },
   "outputs": [],
   "source": [
    "seurObj_DP <- RunSPCA(seurObj_DP, assay='RNA', graph='wsnn')"
   ]
  },
  {
   "cell_type": "code",
   "execution_count": null,
   "id": "df912ee2",
   "metadata": {
    "vscode": {
     "languageId": "r"
    }
   },
   "outputs": [],
   "source": [
    "ptm <- proc.time()\n",
    "\n",
    "seurObj_DP <- FindNeighbors(seurObj_DP, graph.name = 'wsnn',reduction= 'spca', dims = 1:max(c(dim_adt, dim_rna)), assay='ADTdsb')\n",
    "seurObj_DP <- FindClusters(seurObj_DP, graph.name = 'wsnn', algorithm = 4, resolution = 1, random.seed = 123, method = 'igraph', cluster.name = 'clusters_DP')\n",
    "\n",
    "proc.time() - ptm"
   ]
  },
  {
   "cell_type": "code",
   "execution_count": null,
   "id": "c2b3ff00",
   "metadata": {
    "vscode": {
     "languageId": "r"
    }
   },
   "outputs": [],
   "source": [
    "options(repr.plot.width=8, repr.plot.height=7)\n",
    "\n",
    "DimPlot(seurObj_DP, reduction = 'umap_wnn_DP', group.by = 'clusters_DP', cols=pal24, label=TRUE)"
   ]
  },
  {
   "cell_type": "code",
   "execution_count": null,
   "id": "acc36ce5",
   "metadata": {
    "vscode": {
     "languageId": "r"
    }
   },
   "outputs": [],
   "source": [
    "options(repr.plot.width=16, repr.plot.height=14)\n",
    "\n",
    "VlnPlot(seurObj_DP, features=c('CD34', 'CD8', 'CD4', 'CD44', 'TCRab', 'CD1a', 'CD3', 'CD71',  'CD47', 'CD2', 'CD69', \"CD31\", 'rna_PTCRA', 'rna_RAG2', 'GPR56', 'CD21'), ncol=4, group.by = 'clusters_DP', pt.size = 0.001, cols=pal24)"
   ]
  },
  {
   "cell_type": "markdown",
   "id": "cbb72a09",
   "metadata": {},
   "source": [
    "Cluster 16 is still CD34+ and CD8lo. It also expresses high levels of CD31, PTCRA and doesn't proliferate. Interestingly, CD31 was previously observed to be expressed in immature thymocytes up until the early DP stage and downregulated after beta-selection as cells transition from CD8a+b- to CD8a+b+ DP stage https://www.ncbi.nlm.nih.gov/pmc/articles/PMC5340597/"
   ]
  },
  {
   "cell_type": "code",
   "execution_count": null,
   "id": "beed69da",
   "metadata": {
    "vscode": {
     "languageId": "r"
    }
   },
   "outputs": [],
   "source": [
    "seurObj_DP$CD8ab_ratio <- (seurObj_DP@assays$RNA@data['CD8A',])/(seurObj_DP@assays$RNA@data['CD8B',])"
   ]
  },
  {
   "cell_type": "code",
   "execution_count": null,
   "id": "09e49ce1",
   "metadata": {
    "vscode": {
     "languageId": "r"
    }
   },
   "outputs": [],
   "source": [
    "CD8ab_ratio <- table(seurObj_DP$CD8ab_ratio >1, seurObj_DP$seurat_clusters) %>% t %>% as.data.frame.matrix %>% data.frame\n",
    "CD8ab_ratio$prop_ratio_o1 <- (CD8ab_ratio$TRUE.)/rowSums(CD8ab_ratio)\n",
    "CD8ab_ratio$cluster <- factor(rownames(CD8ab_ratio), levels=1:17)\n",
    "CD8a_expr <- table(seurObj_DP$seurat_clusters, seurObj_DP@assays$RNA@data['CD8A',]>0) %>% as.data.frame.matrix %>% data.frame\n",
    "CD8ab_ratio$prop_CD8a_expr <- (CD8a_expr$TRUE.)/rowSums(CD8a_expr)\n",
    "CD8b_expr <- table(seurObj_DP$seurat_clusters, seurObj_DP@assays$RNA@data['CD8B',]>0) %>% as.data.frame.matrix %>% data.frame\n",
    "CD8ab_ratio$prop_CD8b_expr <- (CD8b_expr$TRUE.)/rowSums(CD8b_expr)\n",
    "\n",
    "CD8ab_expr <- pivot_longer(CD8ab_ratio[,4:6], cols=2:3, names_to = 'CD8', values_to = 'prop_expr')\n",
    "CD8ab_expr$CD8 <- ifelse(CD8ab_expr$CD8 == 'prop_CD8a_expr', 'CD8a', 'CD8b')"
   ]
  },
  {
   "cell_type": "code",
   "execution_count": null,
   "id": "392bdc4d",
   "metadata": {
    "vscode": {
     "languageId": "r"
    }
   },
   "outputs": [],
   "source": [
    "options(repr.plot.width=7, repr.plot.height=5)\n",
    "\n",
    "ggplot(CD8ab_ratio, aes(x=cluster, y=prop_ratio_o1, fill=cluster))+\n",
    "geom_bar(stat = 'identity')+\n",
    "theme_bw()+\n",
    "geom_hline(yintercept = 0.5)+\n",
    "scale_fill_manual(values=pal24)+\n",
    "labs(y = 'Proportion of cells with CD8A:B transcript ratio > 1', title='Proportion of cells with higher CD8A than CD8B transcripts per cluster')+\n",
    "theme(legend.position = 'none')"
   ]
  },
  {
   "cell_type": "markdown",
   "id": "f1d33162",
   "metadata": {},
   "source": [
    "Looking at the CD8a to CD8b transcript ratio in the clusters indeed confirms that in the majority of cells in the CD31+ cluster 16 has a CD8a:b ratio of >1, whereas in the other clusters most cells express more CD8b than a."
   ]
  },
  {
   "cell_type": "code",
   "execution_count": null,
   "id": "1d8c2ac4",
   "metadata": {
    "vscode": {
     "languageId": "r"
    }
   },
   "outputs": [],
   "source": [
    "options(repr.plot.width=7, repr.plot.height=5)\n",
    "\n",
    "ggplot(CD8ab_expr, aes(x=cluster, y=prop_expr, colour=CD8))+\n",
    "geom_point()+\n",
    "theme_bw()+\n",
    "geom_hline(yintercept = 0.5)+\n",
    "ylim(c(0,1))+\n",
    "labs(y = 'Percentage of cells within a cluster expressing CD8A/B', title='CD8A and CD8B expression per cluster', colour='CD8 expression')"
   ]
  },
  {
   "cell_type": "markdown",
   "id": "58a10632",
   "metadata": {},
   "source": [
    "Notably, while the proportion of CD8a expressing cells is also lower in cluster 16, the proportion is substantially lower for CD8b with only 20% of cluster 16 cell expressing CD8b, whereas in all other clusters it is detected in at least 80% of cells. This suggests that cluster 16 (or the majority of cells in this cluster) represents early CD8a+b- DPs, that are characterised by CD31 expression."
   ]
  },
  {
   "cell_type": "code",
   "execution_count": null,
   "id": "465be34c",
   "metadata": {
    "vscode": {
     "languageId": "r"
    }
   },
   "outputs": [],
   "source": [
    "options(repr.plot.width=6, repr.plot.height=6)\n",
    "\n",
    "FeatureScatter(seurObj_DP, feature1 = 'CD34', feature2 = 'CD8ab_ratio', plot.cor = FALSE, cols=pal24, group.by = 'clusters_DP')\n",
    "FeatureScatter(seurObj_DP, feature1 = 'CD34', feature2 = 'CD4', plot.cor = FALSE, cols=pal24, group.by = 'clusters_DP')\n",
    "FeatureScatter(seurObj_DP, feature1 = 'CD34', feature2 = 'CD31', plot.cor = FALSE, cols=pal24, group.by = 'clusters_DP')\n",
    "FeatureScatter(seurObj_DP, feature1 = 'CD26', feature2 = 'CD31', plot.cor = FALSE, cols=pal24, group.by = 'clusters_DP')"
   ]
  },
  {
   "cell_type": "markdown",
   "id": "4533dd29",
   "metadata": {},
   "source": [
    "We annotate the entire cluster 16 as DP_CD31 cells."
   ]
  },
  {
   "cell_type": "code",
   "execution_count": null,
   "id": "5ae8ef49",
   "metadata": {
    "vscode": {
     "languageId": "r"
    }
   },
   "outputs": [],
   "source": [
    "Idents(seurObj_DP) <- seurObj_DP$clusters_DP\n",
    "seurObj_DP$anno_new <- ifelse(colnames(seurObj_DP) %in% WhichCells(seurObj_DP, idents = '16'), \"DP_early_CD31\", seurObj_DP$anno_new)"
   ]
  },
  {
   "cell_type": "code",
   "execution_count": null,
   "id": "2670d0b8",
   "metadata": {
    "scrolled": false,
    "vscode": {
     "languageId": "r"
    }
   },
   "outputs": [],
   "source": [
    "options(repr.plot.width=8, repr.plot.height=7)\n",
    "\n",
    "DimPlot(seurObj_DP, reduction = 'umap_wnn_DP', group.by = 'anno_new')"
   ]
  },
  {
   "cell_type": "markdown",
   "id": "76eb4054",
   "metadata": {},
   "source": [
    "The remaining DPs go through another round of integration and clustering."
   ]
  },
  {
   "cell_type": "code",
   "execution_count": null,
   "id": "e4283d6a",
   "metadata": {
    "vscode": {
     "languageId": "r"
    }
   },
   "outputs": [],
   "source": [
    "seurObj_DP2 <- subset(seurObj_DP, subset=anno_new %in% c('unknown', 'unknown_DP'))\n",
    "table(seurObj_DP2$anno_new)"
   ]
  },
  {
   "cell_type": "code",
   "execution_count": null,
   "id": "8284e21a",
   "metadata": {
    "scrolled": true,
    "vscode": {
     "languageId": "r"
    }
   },
   "outputs": [],
   "source": [
    "seurObj_DP2 <- seurObj_DP2  %>%\n",
    "            FindVariableFeatures(assay='ADTdsb') %>%\n",
    "            ScaleData(assay = 'ADTdsb') %>%\n",
    "            RunPCA(assay = 'ADTdsb', npcs = 50, reduction.name = 'pca_adt_DP2')"
   ]
  },
  {
   "cell_type": "code",
   "execution_count": null,
   "id": "eaf20ad4",
   "metadata": {
    "scrolled": true,
    "vscode": {
     "languageId": "r"
    }
   },
   "outputs": [],
   "source": [
    "MNN <- reducedMNN(seurObj_DP2@reductions$pca_adt_DP2@cell.embeddings,\n",
    "                 batch=seurObj_DP2$sample,\n",
    "                 BPPARAM=MulticoreParam(workers=12), #parallelisation\n",
    "                 BNPARAM=HnswParam())\n",
    "seurObj_DP2[[\"mnn_adt_DP2\"]] <- CreateDimReducObject(embeddings=MNN$corrected,\n",
    "                                        assay=\"ADTdsb\",\n",
    "                                        key=\"mnn_\")"
   ]
  },
  {
   "cell_type": "code",
   "execution_count": null,
   "id": "3a8ead5b",
   "metadata": {
    "scrolled": true,
    "vscode": {
     "languageId": "r"
    }
   },
   "outputs": [],
   "source": [
    "seurObj_DP2 <- seurObj_DP2  %>%\n",
    "            FindVariableFeatures(assay='RNA') %>%\n",
    "            ScaleData(assay = 'RNA') %>%\n",
    "            RunPCA(assay = 'RNA', npcs = 50, reduction.name = 'pca_rna_DP2')"
   ]
  },
  {
   "cell_type": "code",
   "execution_count": null,
   "id": "b55951d3",
   "metadata": {
    "scrolled": true,
    "vscode": {
     "languageId": "r"
    }
   },
   "outputs": [],
   "source": [
    "MNN <- reducedMNN(seurObj_DP2@reductions$pca_rna_DP2@cell.embeddings,\n",
    "                 batch=seurObj_DP2$sample,\n",
    "                 BPPARAM=MulticoreParam(workers=12), #parallelisation\n",
    "                 BNPARAM=HnswParam())\n",
    "seurObj_DP2[[\"mnn_rna_DP2\"]] <- CreateDimReducObject(embeddings=MNN$corrected,\n",
    "                                        assay=\"RNA\",\n",
    "                                        key=\"mnn_\")"
   ]
  },
  {
   "cell_type": "code",
   "execution_count": null,
   "id": "d8da2806",
   "metadata": {
    "vscode": {
     "languageId": "r"
    }
   },
   "outputs": [],
   "source": [
    "dim_adt <- PCcutoff(seurObj_DP2@reductions$pca_adt_DP2, 0.1)\n",
    "dim_adt\n",
    "\n",
    "dim_rna <- PCcutoff(seurObj_DP2@reductions$pca_rna_DP2, 0.1)\n",
    "dim_rna\n",
    "\n",
    "seurObj_DP2 <- FindMultiModalNeighbors(seurObj_DP2,\n",
    "                                  reduction.list=list('mnn_adt_DP2', 'mnn_rna_DP2'),\n",
    "                                   dims.list=list(1:dim_adt,1:dim_rna))"
   ]
  },
  {
   "cell_type": "code",
   "execution_count": null,
   "id": "66b476a9",
   "metadata": {
    "vscode": {
     "languageId": "r"
    }
   },
   "outputs": [],
   "source": [
    "seurObj_DP2 <- RunUMAP(seurObj_DP2, nn.name = \"weighted.nn\", reduction.name = \"umap_wnn_DP2\",\n",
    "                        reduction.key = \"wnnUMAP_\")"
   ]
  },
  {
   "cell_type": "code",
   "execution_count": null,
   "id": "69ce58fb",
   "metadata": {
    "vscode": {
     "languageId": "r"
    }
   },
   "outputs": [],
   "source": [
    "seurObj_DP2 <- RunSPCA(seurObj_DP2, assay='RNA', graph='wsnn')"
   ]
  },
  {
   "cell_type": "code",
   "execution_count": null,
   "id": "73aae356",
   "metadata": {
    "vscode": {
     "languageId": "r"
    }
   },
   "outputs": [],
   "source": [
    "ptm <- proc.time()\n",
    "\n",
    "seurObj_DP2 <- FindNeighbors(seurObj_DP2, graph.name = 'wsnn',reduction= 'spca', dims = 1:max(c(dim_adt, dim_rna)), assay='ADTdsb')\n",
    "seurObj_DP2 <- FindClusters(seurObj_DP2, graph.name = 'wsnn', algorithm = 4, resolution = 1, random.seed = 123, method = 'igraph', cluster.name='clusters_DP2')\n",
    "\n",
    "proc.time() - ptm"
   ]
  },
  {
   "cell_type": "code",
   "execution_count": null,
   "id": "72a14b79",
   "metadata": {
    "scrolled": false,
    "vscode": {
     "languageId": "r"
    }
   },
   "outputs": [],
   "source": [
    "options(repr.plot.width=8, repr.plot.height=7)\n",
    "\n",
    "DimPlot(seurObj_DP2, reduction = 'umap_wnn_DP2', group.by = 'clusters_DP', cols=pal24, label=TRUE)\n",
    "\n",
    "DimPlot(seurObj_DP2, reduction = 'umap_wnn_DP2', group.by = 'clusters_DP2', cols=pal24, label=TRUE)\n",
    "\n",
    "DimPlot(seurObj_DP2, reduction = 'umap_wnn_DP2', group.by = 'Phase')\n",
    "\n",
    "FeaturePlot(seurObj_DP2, features='CD71', order=T,reduction='umap_wnn_DP2')+scale_color_viridis()"
   ]
  },
  {
   "cell_type": "code",
   "execution_count": null,
   "id": "931ac808",
   "metadata": {
    "vscode": {
     "languageId": "r"
    }
   },
   "outputs": [],
   "source": [
    "table(seurObj_DP2$clusters_DP2, seurObj_DP2$Phase)"
   ]
  },
  {
   "cell_type": "code",
   "execution_count": null,
   "id": "e19b8b39",
   "metadata": {
    "vscode": {
     "languageId": "r"
    }
   },
   "outputs": [],
   "source": [
    "options(repr.plot.width=16, repr.plot.height=8)\n",
    "\n",
    "VlnPlot(seurObj_DP2, features = c('CD3', 'TCRab','rna_RAG2', 'rna_DNTT', 'CD71', 'rna_CD8A', 'rna_CD8B'), group.by = 'clusters_DP2', pt.size = 0.001, ncol=4)"
   ]
  },
  {
   "cell_type": "markdown",
   "id": "9121ecd6",
   "metadata": {},
   "source": [
    "Cluster 2, 6, 8, 14, 15 are proliferating cells (CD71hi), while the rest is quiescent. The proliferating clusters also show lower levels of CD3, TCRab, CD8, RAG2 and DNTT. Cluster 11 seems to be an intermediate cluster where cells are not really proliferating anymore but rearrangement markers are only slowly increasing."
   ]
  },
  {
   "cell_type": "code",
   "execution_count": null,
   "id": "02f32000",
   "metadata": {
    "vscode": {
     "languageId": "r"
    }
   },
   "outputs": [],
   "source": [
    "Idents(seurObj_DP2) <- seurObj_DP2$clusters_DP2\n",
    "seurObj_DP2$anno_new <- ifelse(colnames(seurObj_DP2) %in% WhichCells(seurObj_DP2, idents = c(\"2\", \"6\", \"8\", \"14\", \"15\")), \"DP(P)\", seurObj_DP2$anno_new)\n",
    "seurObj_DP2$anno_new <- ifelse(colnames(seurObj_DP2) %in% WhichCells(seurObj_DP2, idents = c(\"11\")), \"DP(Q)\", seurObj_DP2$anno_new)\n",
    "seurObj_DP2$anno_new <- ifelse(colnames(seurObj_DP2) %in% WhichCells(seurObj_DP2, idents = c(\"1\",\"3\", \"4\",\"5\",\"7\",\"9\",\"10\",\"12\",\"13\")), \"DP(Q)_rearr\", seurObj_DP2$anno_new)"
   ]
  },
  {
   "cell_type": "code",
   "execution_count": null,
   "id": "8bcd776d",
   "metadata": {
    "vscode": {
     "languageId": "r"
    }
   },
   "outputs": [],
   "source": [
    "options(repr.plot.width=8, repr.plot.height=7)\n",
    "\n",
    "DimPlot(seurObj_DP2, reduction = 'umap_wnn_DP2', group.by = 'anno_new', label=TRUE)"
   ]
  },
  {
   "cell_type": "code",
   "execution_count": null,
   "id": "0e2c8b87",
   "metadata": {
    "vscode": {
     "languageId": "r"
    }
   },
   "outputs": [],
   "source": [
    "seurObj$anno_new[colnames(seurObj) %in% colnames(seurObj_DP)] <- seurObj_DP$anno_new\n",
    "seurObj$anno_new[colnames(seurObj) %in% colnames(seurObj_DP2)] <- seurObj_DP2$anno_new"
   ]
  },
  {
   "cell_type": "code",
   "execution_count": null,
   "id": "36fba9fe",
   "metadata": {
    "vscode": {
     "languageId": "r"
    }
   },
   "outputs": [],
   "source": [
    "table(seurObj$anno_new)"
   ]
  },
  {
   "cell_type": "code",
   "execution_count": null,
   "id": "4fe436e8",
   "metadata": {
    "vscode": {
     "languageId": "r"
    }
   },
   "outputs": [],
   "source": [
    "options(repr.plot.width=8, repr.plot.height=7)\n",
    "\n",
    "DimPlot(seurObj, reduction = 'umap_wnn_mnn', group.by = 'anno_new', cols=pal12)"
   ]
  },
  {
   "cell_type": "markdown",
   "id": "670945f3",
   "metadata": {},
   "source": [
    "### SP annotation\n",
    "\n",
    "The remaining cells represent (relatively) mature thymocytes and cells of several non-T lineages. The transition window from DP(Q)_rearr through positive selection to CD4 vs. CD8 lineage is difficult to annotate and may require several iterations of adapting cell annotations."
   ]
  },
  {
   "cell_type": "code",
   "execution_count": null,
   "id": "0fc59edc",
   "metadata": {
    "vscode": {
     "languageId": "r"
    }
   },
   "outputs": [],
   "source": [
    "options(repr.plot.width=8, repr.plot.height=7)\n",
    "\n",
    "DimPlot(seurObj, reduction = 'umap_wnn_mnn', group.by = 'clusters_rough', cols=pal12)"
   ]
  },
  {
   "cell_type": "markdown",
   "id": "00582511",
   "metadata": {},
   "source": [
    "The transition from cluster 6 to 2 represents the positive selection step and cluster 2 cells mark the lineage bifurcation. CD4 and CD8 lineage cells cluster together (4). Cluster 9 represents Tregs but contains a small separate subset that appears to be CD8+.\n",
    "\n",
    "To annotate positive selection and bifurcating properly, we include the late DP(Q) cells in the SP analysis for finetuning and as expression level reference."
   ]
  },
  {
   "cell_type": "code",
   "execution_count": null,
   "id": "49ed5f34",
   "metadata": {
    "vscode": {
     "languageId": "r"
    }
   },
   "outputs": [],
   "source": [
    "seurObj_SP <- subset(seurObj, subset=clusters_rough %in% c('6', '2', '4', '9') & anno_new %in% c('unknown', 'DP(Q)_rearr'))"
   ]
  },
  {
   "cell_type": "code",
   "execution_count": null,
   "id": "c4eabec4",
   "metadata": {
    "vscode": {
     "languageId": "r"
    }
   },
   "outputs": [],
   "source": [
    "table(seurObj_SP$clusters_rough, seurObj_SP$anno_new)"
   ]
  },
  {
   "cell_type": "code",
   "execution_count": null,
   "id": "3a7bf707",
   "metadata": {
    "vscode": {
     "languageId": "r"
    }
   },
   "outputs": [],
   "source": [
    "options(repr.plot.width=16, repr.plot.height=12)\n",
    "\n",
    "FeatureScatter(seurObj_SP, feature1 = 'CD8', feature2 = 'CD4', group.by = 'clusters_rough', cols=pal24)+\n",
    "    facet_wrap(~seurObj_SP$clusters_rough)+\n",
    "    theme_bw()"
   ]
  },
  {
   "cell_type": "code",
   "execution_count": null,
   "id": "a7d0cacb",
   "metadata": {
    "scrolled": true,
    "vscode": {
     "languageId": "r"
    }
   },
   "outputs": [],
   "source": [
    "seurObj_SP <- seurObj_SP  %>%\n",
    "            FindVariableFeatures(assay='ADTdsb') %>%\n",
    "            ScaleData(assay = 'ADTdsb') %>%\n",
    "            RunPCA(assay = 'ADTdsb', npcs = 50, reduction.name = 'pca_adt_SP')"
   ]
  },
  {
   "cell_type": "code",
   "execution_count": null,
   "id": "7e5766ea",
   "metadata": {
    "scrolled": true,
    "vscode": {
     "languageId": "r"
    }
   },
   "outputs": [],
   "source": [
    "MNN <- reducedMNN(seurObj_SP@reductions$pca_adt_SP@cell.embeddings,\n",
    "                 batch=seurObj_SP$sample,\n",
    "                 BPPARAM=MulticoreParam(workers=12), #parallelisation\n",
    "                 BNPARAM=HnswParam())\n",
    "seurObj_SP[[\"mnn_adt_SP\"]] <- CreateDimReducObject(embeddings=MNN$corrected,\n",
    "                                        assay=\"ADTdsb\",\n",
    "                                        key=\"mnn_\")"
   ]
  },
  {
   "cell_type": "code",
   "execution_count": null,
   "id": "add02776",
   "metadata": {
    "scrolled": true,
    "vscode": {
     "languageId": "r"
    }
   },
   "outputs": [],
   "source": [
    "seurObj_SP <- seurObj_SP  %>%\n",
    "            FindVariableFeatures(assay='RNA') %>%\n",
    "            ScaleData(assay = 'RNA') %>%\n",
    "            RunPCA(assay = 'RNA', npcs = 50, reduction.name = 'pca_rna_SP')"
   ]
  },
  {
   "cell_type": "code",
   "execution_count": null,
   "id": "c1d91544",
   "metadata": {
    "scrolled": true,
    "vscode": {
     "languageId": "r"
    }
   },
   "outputs": [],
   "source": [
    "MNN <- reducedMNN(seurObj_SP@reductions$pca_rna_SP@cell.embeddings,\n",
    "                 batch=seurObj_SP$sample,\n",
    "                 BPPARAM=MulticoreParam(workers=12), #parallelisation\n",
    "                 BNPARAM=HnswParam())\n",
    "seurObj_SP[[\"mnn_rna_SP\"]] <- CreateDimReducObject(embeddings=MNN$corrected,\n",
    "                                        assay=\"RNA\",\n",
    "                                        key=\"mnn_\")"
   ]
  },
  {
   "cell_type": "code",
   "execution_count": null,
   "id": "0348ce8b",
   "metadata": {
    "vscode": {
     "languageId": "r"
    }
   },
   "outputs": [],
   "source": [
    "dim_adt <- PCcutoff(seurObj_SP@reductions$pca_adt_SP, 0.1)\n",
    "dim_adt\n",
    "\n",
    "dim_rna <- PCcutoff(seurObj_SP@reductions$pca_rna_SP, 0.1)\n",
    "dim_rna\n",
    "\n",
    "seurObj_SP <- FindMultiModalNeighbors(seurObj_SP,\n",
    "                                  reduction.list=list('mnn_adt_SP', 'mnn_rna_SP'),\n",
    "                                   dims.list=list(1:dim_adt,1:dim_rna))"
   ]
  },
  {
   "cell_type": "code",
   "execution_count": null,
   "id": "5fa96463",
   "metadata": {
    "vscode": {
     "languageId": "r"
    }
   },
   "outputs": [],
   "source": [
    "seurObj_SP <- RunUMAP(seurObj_SP, nn.name = \"weighted.nn\", reduction.name = \"umap_wnn_SP\",\n",
    "                        reduction.key = \"wnnUMAP_\")"
   ]
  },
  {
   "cell_type": "code",
   "execution_count": null,
   "id": "a5cc1987",
   "metadata": {
    "vscode": {
     "languageId": "r"
    }
   },
   "outputs": [],
   "source": [
    "seurObj_SP <- RunSPCA(seurObj_SP, assay='RNA', graph='wsnn')"
   ]
  },
  {
   "cell_type": "code",
   "execution_count": null,
   "id": "ef73bc5a",
   "metadata": {
    "scrolled": false,
    "vscode": {
     "languageId": "r"
    }
   },
   "outputs": [],
   "source": [
    "ptm <- proc.time()\n",
    "\n",
    "seurObj_SP <- FindNeighbors(seurObj_SP, graph.name = 'wsnn',reduction= 'spca', dims = 1:max(c(dim_adt, dim_rna)), assay='ADTdsb')\n",
    "seurObj_SP <- FindClusters(seurObj_SP, graph.name = 'wsnn', algorithm = 4, resolution = 1, random.seed = 123, method = 'igraph', cluster.name='clusters_SP')\n",
    "\n",
    "proc.time() - ptm"
   ]
  },
  {
   "cell_type": "code",
   "execution_count": null,
   "id": "e2e1360c",
   "metadata": {
    "scrolled": false,
    "vscode": {
     "languageId": "r"
    }
   },
   "outputs": [],
   "source": [
    "options(repr.plot.width=8, repr.plot.height=7)\n",
    "\n",
    "DimPlot(seurObj_SP, reduction = 'umap_wnn_SP', group.by = 'clusters_rough', cols=pal12)\n",
    "\n",
    "DimPlot(seurObj_SP, reduction = 'umap_wnn_SP', group.by = 'clusters_SP', cols=pal24, label=T)\n",
    "\n",
    "options(repr.plot.width=12, repr.plot.height=7)\n",
    "\n",
    "DimPlot(seurObj_SP, reduction = 'umap_wnn_SP', group.by = 'anno_CITE_old', cols=pal36)\n",
    "\n",
    "DimPlot(seurObj_SP, reduction = 'umap_wnn_SP', group.by = 'annotation_level_4', cols=pal36)"
   ]
  },
  {
   "cell_type": "code",
   "execution_count": null,
   "id": "0af57a3a",
   "metadata": {
    "scrolled": false,
    "vscode": {
     "languageId": "r"
    }
   },
   "outputs": [],
   "source": [
    "options(repr.plot.width=20, repr.plot.height=17)\n",
    "\n",
    "RidgePlot(seurObj_SP, cols=pal24, group.by = 'clusters_SP', features =  c('CD3', 'TCRab', 'CD4', 'CD8','CD69', 'CD5', 'CD45RA', 'CD45RO', 'CD127', 'CD29', 'CD155', 'CD226', 'CD44', 'CD47', 'CD25'), ncol=5)\n",
    "\n",
    "options(repr.plot.width=16, repr.plot.height=8)\n",
    "\n",
    "VlnPlot(seurObj_SP, cols=pal24, pt.size=0, features =  c('rna_RAG2', 'rna_DNTT', 'rna_NR4A1', 'rna_ID3','rna_FOXP3', 'rna_CD8A', 'rna_CD8B'), ncol=4, group.by = 'clusters_SP')"
   ]
  },
  {
   "cell_type": "markdown",
   "id": "134f37c6",
   "metadata": {},
   "source": [
    "The annotation of these clusters is relatively difficult. We remove Tregs (cluster 9) and the few outlier cells to obtain more clarity about the lineage bifurcation."
   ]
  },
  {
   "cell_type": "code",
   "execution_count": null,
   "id": "3960f1ba",
   "metadata": {
    "vscode": {
     "languageId": "r"
    }
   },
   "outputs": [],
   "source": [
    "seurObj_Treg <- subset(seurObj_SP, subset=clusters_rough == '9' | clusters_SP %in% c('9','11'))"
   ]
  },
  {
   "cell_type": "code",
   "execution_count": null,
   "id": "05dcac38",
   "metadata": {
    "scrolled": false,
    "vscode": {
     "languageId": "r"
    }
   },
   "outputs": [],
   "source": [
    "options(repr.plot.width=8, repr.plot.height=7)\n",
    "\n",
    "cells <- Embeddings(seurObj_SP, reduction = \"umap_wnn_SP\") %>% data.frame %>% subset(., umapwnnsp_1 < (-6.3) & umapwnnsp_2 < 0) %>% rownames\n",
    "\n",
    "DimPlot(seurObj_SP, reduction = 'umap_wnn_SP', cells.highlight = cells)"
   ]
  },
  {
   "cell_type": "code",
   "execution_count": null,
   "id": "5342d1a9",
   "metadata": {
    "vscode": {
     "languageId": "r"
    }
   },
   "outputs": [],
   "source": [
    "seurObj_SP2 <- subset(seurObj_SP, subset=barcode %in% cells | clusters_rough == '9' | clusters_SP %in% c('9','11'), invert=T)"
   ]
  },
  {
   "cell_type": "code",
   "execution_count": null,
   "id": "fb295c36",
   "metadata": {
    "scrolled": true,
    "vscode": {
     "languageId": "r"
    }
   },
   "outputs": [],
   "source": [
    "seurObj_SP2 <- seurObj_SP2  %>%\n",
    "            FindVariableFeatures(assay='ADTdsb') %>%\n",
    "            ScaleData(assay = 'ADTdsb') %>%\n",
    "            RunPCA(assay = 'ADTdsb', npcs = 50, reduction.name = 'pca_adt_SP2')"
   ]
  },
  {
   "cell_type": "code",
   "execution_count": null,
   "id": "5f3ddd05",
   "metadata": {
    "scrolled": true,
    "vscode": {
     "languageId": "r"
    }
   },
   "outputs": [],
   "source": [
    "MNN <- reducedMNN(seurObj_SP2@reductions$pca_adt_SP2@cell.embeddings,\n",
    "                 batch=seurObj_SP2$sample,\n",
    "                 BPPARAM=MulticoreParam(workers=12), #parallelisation\n",
    "                 BNPARAM=HnswParam())\n",
    "seurObj_SP2[[\"mnn_adt_SP2\"]] <- CreateDimReducObject(embeddings=MNN$corrected,\n",
    "                                        assay=\"ADTdsb\",\n",
    "                                        key=\"mnn_\")"
   ]
  },
  {
   "cell_type": "code",
   "execution_count": null,
   "id": "8424f7cf",
   "metadata": {
    "scrolled": true,
    "vscode": {
     "languageId": "r"
    }
   },
   "outputs": [],
   "source": [
    "seurObj_SP2 <- seurObj_SP2  %>%\n",
    "            FindVariableFeatures(assay='RNA') %>%\n",
    "            ScaleData(assay = 'RNA') %>%\n",
    "            RunPCA(assay = 'RNA', npcs = 50, reduction.name = 'pca_rna_SP2')"
   ]
  },
  {
   "cell_type": "code",
   "execution_count": null,
   "id": "de1ed330",
   "metadata": {
    "scrolled": true,
    "vscode": {
     "languageId": "r"
    }
   },
   "outputs": [],
   "source": [
    "MNN <- reducedMNN(seurObj_SP2@reductions$pca_rna_SP2@cell.embeddings,\n",
    "                 batch=seurObj_SP2$sample,\n",
    "                 BPPARAM=MulticoreParam(workers=12), #parallelisation\n",
    "                 BNPARAM=HnswParam())\n",
    "seurObj_SP2[[\"mnn_rna_SP2\"]] <- CreateDimReducObject(embeddings=MNN$corrected,\n",
    "                                        assay=\"RNA\",\n",
    "                                        key=\"mnn_\")"
   ]
  },
  {
   "cell_type": "code",
   "execution_count": null,
   "id": "61422cc9",
   "metadata": {
    "vscode": {
     "languageId": "r"
    }
   },
   "outputs": [],
   "source": [
    "dim_adt <- PCcutoff(seurObj_SP2@reductions$pca_adt_SP2, 0.1)\n",
    "dim_adt\n",
    "\n",
    "dim_rna <- PCcutoff(seurObj_SP2@reductions$pca_rna_SP2, 0.1)\n",
    "dim_rna\n",
    "\n",
    "seurObj_SP2 <- FindMultiModalNeighbors(seurObj_SP2,\n",
    "                                  reduction.list=list('mnn_adt_SP2', 'mnn_rna_SP2'),\n",
    "                                   dims.list=list(1:dim_adt,1:dim_rna))"
   ]
  },
  {
   "cell_type": "code",
   "execution_count": null,
   "id": "bf2d613a",
   "metadata": {
    "vscode": {
     "languageId": "r"
    }
   },
   "outputs": [],
   "source": [
    "seurObj_SP2 <- RunUMAP(seurObj_SP2, nn.name = \"weighted.nn\", reduction.name = \"umap_wnn_SP2\",\n",
    "                        reduction.key = \"wnnUMAP_\")"
   ]
  },
  {
   "cell_type": "code",
   "execution_count": null,
   "id": "2a54d2cb",
   "metadata": {
    "vscode": {
     "languageId": "r"
    }
   },
   "outputs": [],
   "source": [
    "seurObj_SP2 <- RunSPCA(seurObj_SP2, assay='RNA', graph='wsnn')"
   ]
  },
  {
   "cell_type": "code",
   "execution_count": null,
   "id": "04565a37",
   "metadata": {
    "scrolled": true,
    "vscode": {
     "languageId": "r"
    }
   },
   "outputs": [],
   "source": [
    "ptm <- proc.time()\n",
    "\n",
    "seurObj_SP2 <- FindNeighbors(seurObj_SP2, graph.name = 'wsnn',reduction= 'spca', dims = 1:max(c(dim_adt, dim_rna)), assay='ADTdsb')\n",
    "seurObj_SP2 <- FindClusters(seurObj_SP2, graph.name = 'wsnn', algorithm = 4, resolution = 1.2, random.seed = 123, method = 'igraph', cluster.name='clusters_SP2')\n",
    "\n",
    "proc.time() - ptm"
   ]
  },
  {
   "cell_type": "code",
   "execution_count": null,
   "id": "c49ff9bf",
   "metadata": {
    "scrolled": false,
    "vscode": {
     "languageId": "r"
    }
   },
   "outputs": [],
   "source": [
    "options(repr.plot.width=8, repr.plot.height=7)\n",
    "\n",
    "DimPlot(seurObj_SP2, reduction = 'umap_wnn_SP2', group.by = 'clusters_rough', cols=pal12)\n",
    "\n",
    "DimPlot(seurObj_SP2, reduction = 'umap_wnn_SP2', group.by = 'clusters_SP', cols=pal24, label=T)\n",
    "\n",
    "DimPlot(seurObj_SP2, reduction = 'umap_wnn_SP2', group.by = 'clusters_SP2', cols=pal24, label=T)\n",
    "\n",
    "options(repr.plot.width=12, repr.plot.height=7)\n",
    "\n",
    "DimPlot(seurObj_SP2, reduction = 'umap_wnn_SP2', group.by = 'anno_CITE_old', cols=pal36)\n",
    "\n",
    "DimPlot(seurObj_SP2, reduction = 'umap_wnn_SP2', group.by = 'annotation_level_4', cols=pal36)"
   ]
  },
  {
   "cell_type": "markdown",
   "id": "be29071f",
   "metadata": {},
   "source": [
    "The bifurcation is now more clear but clustering does not really result in discreate subsets that are associated with bi- or unipotent stages."
   ]
  },
  {
   "cell_type": "code",
   "execution_count": null,
   "id": "2bd5a19c",
   "metadata": {
    "scrolled": false,
    "vscode": {
     "languageId": "r"
    }
   },
   "outputs": [],
   "source": [
    "options(repr.plot.width=20, repr.plot.height=17)\n",
    "\n",
    "RidgePlot(seurObj_SP2, cols=pal24, group.by = 'clusters_SP2', features =  c('CD3', 'TCRab', 'CD4', 'CD8','CD69', 'CD5', 'CD45RA', 'CD45RO', 'CD127', 'CD29', 'CD155', 'CD226', 'CD44', 'CD27', 'CD1a'), ncol=5)\n",
    "\n",
    "options(repr.plot.width=16, repr.plot.height=8)\n",
    "\n",
    "VlnPlot(seurObj_SP2, cols=pal24, pt.size=0, features =  c('rna_RAG2', 'rna_DNTT', 'rna_NR4A1', 'rna_ID3','rna_FOXP3', 'rna_CD8A', 'rna_CD8B'), ncol=4, group.by = 'clusters_SP2')"
   ]
  },
  {
   "cell_type": "code",
   "execution_count": null,
   "id": "98daf428",
   "metadata": {
    "scrolled": false,
    "vscode": {
     "languageId": "r"
    }
   },
   "outputs": [],
   "source": [
    "options(repr.plot.width=16, repr.plot.height=10)\n",
    "\n",
    "DimPlot(seurObj_SP2, reduction = 'umap_wnn_SP2', group.by = 'clusters_SP2', cols=pal24, split.by = 'clusters_SP2', ncol=5)+theme_bw()"
   ]
  },
  {
   "cell_type": "code",
   "execution_count": null,
   "id": "15f6b8ba",
   "metadata": {
    "vscode": {
     "languageId": "r"
    }
   },
   "outputs": [],
   "source": [
    "options(repr.plot.width=16, repr.plot.height=16)\n",
    "\n",
    "FeatureScatter(seurObj_SP2, feature1 = 'CD8', feature2 = 'CD4', group.by = 'anno_CITE_old', cols=pal36)+\n",
    "    facet_wrap(~seurObj_SP2$clusters_SP2, ncol = 4)+\n",
    "    theme_bw()"
   ]
  },
  {
   "cell_type": "code",
   "execution_count": null,
   "id": "d8e939c7",
   "metadata": {
    "vscode": {
     "languageId": "r"
    }
   },
   "outputs": [],
   "source": [
    "options(repr.plot.width=16, repr.plot.height=16)\n",
    "\n",
    "FeatureScatter(seurObj_SP2, feature1 = 'CD44', feature2 = 'CD226', group.by = 'anno_CITE_old', cols=pal36)+\n",
    "    facet_wrap(~seurObj_SP2$clusters_SP2, ncol = 4)+\n",
    "    theme_bw()"
   ]
  },
  {
   "cell_type": "code",
   "execution_count": null,
   "id": "75519c97",
   "metadata": {
    "vscode": {
     "languageId": "r"
    }
   },
   "outputs": [],
   "source": [
    "options(repr.plot.width=16, repr.plot.height=16)\n",
    "\n",
    "FeatureScatter(seurObj_SP2, feature1 = 'CD69', feature2 = 'CD45RA', group.by = 'anno_CITE_old', cols=pal36)+\n",
    "    facet_wrap(~seurObj_SP2$clusters_SP2, ncol = 4)+\n",
    "    theme_bw()"
   ]
  },
  {
   "cell_type": "code",
   "execution_count": null,
   "id": "8094227a",
   "metadata": {
    "vscode": {
     "languageId": "r"
    }
   },
   "outputs": [],
   "source": [
    "table(seurObj_SP2$anno_CITE_old, seurObj_SP2$clusters_SP2)"
   ]
  },
  {
   "cell_type": "markdown",
   "id": "d86607b0",
   "metadata": {},
   "source": [
    "Broad assignment of populations:\n",
    "- 4,7,11,14: DP(Q)_rearr\n",
    "- 1: pos sel\n",
    "- 5: pos sel/hilo\n",
    "- 6+8+12: hilo (8 also contains some CD4/8 lineage cells)\n",
    "- 10+16: also hilo (16 is very heterogeneous)\n",
    "- 3,13,17: CD8SP (3+13 partially mixed with hilo and CD4)\n",
    "- 2+9+15: CD4SP\n",
    "\n",
    "Filtering on CD4/8 levels necessary for most clusters\n",
    "\n",
    "6,8,10,12 should be subclustered"
   ]
  },
  {
   "cell_type": "code",
   "execution_count": null,
   "id": "ef85f73d",
   "metadata": {
    "vscode": {
     "languageId": "r"
    }
   },
   "outputs": [],
   "source": [
    "Idents(seurObj_SP2) <- seurObj_SP2$clusters_SP2\n",
    "seurObj_SP2$anno_new2 <- 'unknown'\n",
    "seurObj_SP2$anno_new2 <- ifelse(colnames(seurObj_SP2) %in% WhichCells(seurObj_SP2, expression = CD4 > 5 & CD8 > 8, idents = c('4','7','11', '14')), \"DP(Q)_rearr\", seurObj_SP2$anno_new2)\n",
    "seurObj_SP2$anno_new2 <- ifelse(colnames(seurObj_SP2) %in% WhichCells(seurObj_SP2, expression = CD4 > 5, idents = c('1')), \"DP_pos_sel\", seurObj_SP2$anno_new2)\n",
    "seurObj_SP2$anno_new2 <- ifelse(colnames(seurObj_SP2) %in% WhichCells(seurObj_SP2, expression = CD4 > 5 & CD8 < 15, idents = c('5', '6','8','10', '12', '16')), \"DP_4hi8lo\", seurObj_SP2$anno_new2)\n",
    "seurObj_SP2$anno_new2 <- ifelse(colnames(seurObj_SP2) %in% WhichCells(seurObj_SP2, expression = CD4 > 5 & CD8 > 5, idents = c('6','10', '12', '16')), \"DP_4hi8lo\", seurObj_SP2$anno_new2)\n",
    "seurObj_SP2$anno_new2 <- ifelse(colnames(seurObj_SP2) %in% WhichCells(seurObj_SP2, expression = CD4 < 5 & CD8 > 5, idents = c('8')), \"SP_CD8\", seurObj_SP2$anno_new2)\n",
    "seurObj_SP2$anno_new2 <- ifelse(colnames(seurObj_SP2) %in% WhichCells(seurObj_SP2, expression = CD8 > 8, idents = c('13','3','17')), \"SP_CD8\", seurObj_SP2$anno_new2)\n",
    "seurObj_SP2$anno_new2 <- ifelse(colnames(seurObj_SP2) %in% WhichCells(seurObj_SP2, expression = CD8 < 8 & CD4 > 5, idents = c('15','2','9')), \"SP_CD4\", seurObj_SP2$anno_new2)"
   ]
  },
  {
   "cell_type": "code",
   "execution_count": null,
   "id": "4441482d",
   "metadata": {
    "vscode": {
     "languageId": "r"
    }
   },
   "outputs": [],
   "source": [
    "options(repr.plot.width=16, repr.plot.height=16)\n",
    "\n",
    "FeatureScatter(seurObj_SP2, feature1 = 'CD8', feature2 = 'CD4', group.by = 'anno_new2', cols=pal12)+\n",
    "    facet_wrap(~seurObj_SP2$clusters_SP2, ncol = 4)+\n",
    "    theme_bw()"
   ]
  },
  {
   "cell_type": "code",
   "execution_count": null,
   "id": "e45ca563",
   "metadata": {
    "vscode": {
     "languageId": "r"
    }
   },
   "outputs": [],
   "source": [
    "options(repr.plot.width=8, repr.plot.height=7)\n",
    "\n",
    "DimPlot(seurObj_SP2, reduction = 'umap_wnn_SP2', group.by = 'anno_new2', cols=pal12)"
   ]
  },
  {
   "cell_type": "code",
   "execution_count": null,
   "id": "825fbcd7",
   "metadata": {
    "vscode": {
     "languageId": "r"
    }
   },
   "outputs": [],
   "source": [
    "options(repr.plot.width=16, repr.plot.height=10)\n",
    "\n",
    "DimPlot(seurObj_SP2, reduction = 'umap_wnn_SP2', group.by = 'clusters_SP2', cols=pal24, split.by = 'anno_new2', ncol=3)+theme_bw()"
   ]
  },
  {
   "cell_type": "markdown",
   "id": "7f300af0",
   "metadata": {},
   "source": [
    "Comparison with previous annotations:"
   ]
  },
  {
   "cell_type": "code",
   "execution_count": null,
   "id": "38eee1ed",
   "metadata": {
    "vscode": {
     "languageId": "r"
    }
   },
   "outputs": [],
   "source": [
    "options(repr.plot.width=12, repr.plot.height=8)\n",
    "\n",
    "df <- count(seurObj_SP2@meta.data, barcode, anno_CITE_old, anno_new2) %>%\n",
    "        mutate(id = row_number())%>%\n",
    "        pivot_longer(cols=2:3, names_to = 'version', values_to = 'celltype')\n",
    "\n",
    "ggplot(df, aes(x = version, y = n, \n",
    "                          stratum = celltype, fill = celltype,\n",
    "                          alluvium = id)) +\n",
    "  geom_stratum(alpha = .5) +\n",
    "  geom_flow()+\n",
    "  theme_minimal()+\n",
    "  scale_fill_manual(values = c(pal36, 'grey30'))"
   ]
  },
  {
   "cell_type": "markdown",
   "id": "274e1dd5",
   "metadata": {
    "scrolled": false
   },
   "source": [
    "#### The CD4hi8lo subset\n",
    "\n",
    "The transition window from positive selection to a clear lineage phenotype through the CD4hiCD8lo stage is very vague. We can try to refine it by zooming in on this stage."
   ]
  },
  {
   "cell_type": "code",
   "execution_count": null,
   "id": "1cb9e5b3",
   "metadata": {
    "vscode": {
     "languageId": "r"
    }
   },
   "outputs": [],
   "source": [
    "seurObj_hilo <- subset(seurObj_SP2, subset=(anno_new2=='DP_4hi8lo'))"
   ]
  },
  {
   "cell_type": "code",
   "execution_count": null,
   "id": "1134b1b9",
   "metadata": {
    "scrolled": true,
    "vscode": {
     "languageId": "r"
    }
   },
   "outputs": [],
   "source": [
    "seurObj_hilo <- seurObj_hilo  %>%\n",
    "            FindVariableFeatures(assay='ADTdsb') %>%\n",
    "            ScaleData(assay = 'ADTdsb') %>%\n",
    "            RunPCA(assay = 'ADTdsb', npcs = 50, reduction.name = 'pca_adt_hilo')"
   ]
  },
  {
   "cell_type": "code",
   "execution_count": null,
   "id": "16bd46db",
   "metadata": {
    "scrolled": true,
    "vscode": {
     "languageId": "r"
    }
   },
   "outputs": [],
   "source": [
    "MNN <- reducedMNN(seurObj_hilo@reductions$pca_adt_hilo@cell.embeddings,\n",
    "                 batch=seurObj_hilo$sample,\n",
    "                 BPPARAM=MulticoreParam(workers=12), #parallelisation\n",
    "                 BNPARAM=HnswParam())\n",
    "seurObj_hilo[[\"mnn_adt_hilo\"]] <- CreateDimReducObject(embeddings=MNN$corrected,\n",
    "                                        assay=\"ADTdsb\",\n",
    "                                        key=\"mnn_\")"
   ]
  },
  {
   "cell_type": "code",
   "execution_count": null,
   "id": "ea7dd240",
   "metadata": {
    "vscode": {
     "languageId": "r"
    }
   },
   "outputs": [],
   "source": [
    "seurObj_hilo <- seurObj_hilo  %>%\n",
    "            FindVariableFeatures(assay='RNA') %>%\n",
    "            ScaleData(assay = 'RNA') %>%\n",
    "            RunPCA(assay = 'RNA', npcs = 50, reduction.name = 'pca_rna_hilo')"
   ]
  },
  {
   "cell_type": "code",
   "execution_count": null,
   "id": "973c9080",
   "metadata": {
    "scrolled": true,
    "vscode": {
     "languageId": "r"
    }
   },
   "outputs": [],
   "source": [
    "MNN <- reducedMNN(seurObj_hilo@reductions$pca_rna_hilo@cell.embeddings,\n",
    "                 batch=seurObj_hilo$sample,\n",
    "                 BPPARAM=MulticoreParam(workers=12), #parallelisation\n",
    "                 BNPARAM=HnswParam())\n",
    "seurObj_hilo[[\"mnn_rna_hilo\"]] <- CreateDimReducObject(embeddings=MNN$corrected,\n",
    "                                        assay=\"RNA\",\n",
    "                                        key=\"mnn_\")"
   ]
  },
  {
   "cell_type": "code",
   "execution_count": null,
   "id": "e2c48cf3",
   "metadata": {
    "vscode": {
     "languageId": "r"
    }
   },
   "outputs": [],
   "source": [
    "dim_adt <- PCcutoff(seurObj_hilo@reductions$pca_adt_hilo, 0.1)\n",
    "dim_adt\n",
    "\n",
    "dim_rna <- PCcutoff(seurObj_hilo@reductions$pca_rna_hilo, 0.1)\n",
    "dim_rna\n",
    "\n",
    "seurObj_hilo <- FindMultiModalNeighbors(seurObj_hilo,\n",
    "                                  reduction.list=list('mnn_adt_hilo', 'mnn_rna_hilo'),\n",
    "                                   dims.list=list(1:dim_adt,1:dim_rna))"
   ]
  },
  {
   "cell_type": "code",
   "execution_count": null,
   "id": "ee8189f5",
   "metadata": {
    "scrolled": false,
    "vscode": {
     "languageId": "r"
    }
   },
   "outputs": [],
   "source": [
    "seurObj_hilo <- RunUMAP(seurObj_hilo, nn.name = \"weighted.nn\", reduction.name = \"umap_wnn_hilo\",\n",
    "                        reduction.key = \"wnnUMAP_\")"
   ]
  },
  {
   "cell_type": "code",
   "execution_count": null,
   "id": "37703ae7",
   "metadata": {
    "vscode": {
     "languageId": "r"
    }
   },
   "outputs": [],
   "source": [
    "options(repr.plot.width=8, repr.plot.height=7)\n",
    "\n",
    "DimPlot(seurObj_hilo, reduction = 'umap_wnn_hilo', group.by = 'clusters_SP2', cols=pal12)"
   ]
  },
  {
   "cell_type": "code",
   "execution_count": null,
   "id": "1ad33ef1",
   "metadata": {
    "scrolled": true,
    "vscode": {
     "languageId": "r"
    }
   },
   "outputs": [],
   "source": [
    "seurObj_hilo <- RunUMAP(seurObj_hilo, assay = 'ADTdsb', dims = 1:dim_adt, reduction = 'mnn_adt_hilo', reduction.name = \"umap_adt_hilo\",\n",
    "                        reduction.key = \"wnnUMAP_\")"
   ]
  },
  {
   "cell_type": "code",
   "execution_count": null,
   "id": "fbe894a4",
   "metadata": {
    "scrolled": true,
    "vscode": {
     "languageId": "r"
    }
   },
   "outputs": [],
   "source": [
    "ptm <- proc.time()\n",
    "\n",
    "seurObj_hilo <- FindNeighbors(seurObj_hilo, reduction= 'mnn_adt_hilo', dims=1:dim_adt, assay='ADTdsb')\n",
    "seurObj_hilo <- FindClusters(seurObj_hilo, algorithm = 4, resolution = 1, random.seed = 123, method = 'igraph', cluster.name='clusters_adt_hilo')\n",
    "\n",
    "proc.time() - ptm"
   ]
  },
  {
   "cell_type": "code",
   "execution_count": null,
   "id": "03c3dbd8",
   "metadata": {
    "vscode": {
     "languageId": "r"
    }
   },
   "outputs": [],
   "source": [
    "options(repr.plot.width=8, repr.plot.height=7)\n",
    "\n",
    "DimPlot(seurObj_hilo, reduction = 'umap_wnn_hilo', group.by = 'clusters_adt_hilo', cols=pal24)\n",
    "DimPlot(seurObj_hilo, reduction = 'umap_adt_hilo', group.by = 'clusters_adt_hilo', cols=pal24)"
   ]
  },
  {
   "cell_type": "code",
   "execution_count": null,
   "id": "0d1a0685",
   "metadata": {
    "vscode": {
     "languageId": "r"
    }
   },
   "outputs": [],
   "source": [
    "options(repr.plot.width=16, repr.plot.height=16)\n",
    "\n",
    "FeatureScatter(seurObj_hilo, feature1 = 'CD8', feature2 = 'CD4', group.by = 'clusters_SP2', cols=pal12)+\n",
    "    facet_wrap(~seurObj_hilo$clusters_adt_hilo, ncol = 4)+\n",
    "    theme_bw()"
   ]
  },
  {
   "cell_type": "code",
   "execution_count": null,
   "id": "e74c0f6c",
   "metadata": {
    "vscode": {
     "languageId": "r"
    }
   },
   "outputs": [],
   "source": [
    "options(repr.plot.width=16, repr.plot.height=10)\n",
    "\n",
    "FeatureScatter(seurObj_hilo, feature1 = 'CD8', feature2 = 'CD4', group.by = 'anno_CITE_old', cols=pal24)+\n",
    "    facet_wrap(~seurObj_hilo$clusters_adt_hilo, ncol = 4)+\n",
    "    theme_bw()"
   ]
  },
  {
   "cell_type": "code",
   "execution_count": null,
   "id": "82fb0c8b",
   "metadata": {
    "scrolled": true,
    "vscode": {
     "languageId": "r"
    }
   },
   "outputs": [],
   "source": [
    "table(seurObj_hilo$anno_CITE_old, seurObj_hilo$clusters_adt_hilo)"
   ]
  },
  {
   "cell_type": "code",
   "execution_count": null,
   "id": "50d30fb4",
   "metadata": {
    "vscode": {
     "languageId": "r"
    }
   },
   "outputs": [],
   "source": [
    "\n",
    "options(repr.plot.width=8, repr.plot.height=7)\n",
    "\n",
    "DimPlot(seurObj_SP2, reduction = 'umap_wnn_SP2', cells.highlight = WhichCells(seurObj_hilo, idents = c('7','10'), expression= CD8 <8))"
   ]
  },
  {
   "cell_type": "markdown",
   "id": "99859e37",
   "metadata": {},
   "source": [
    "This analysis clearly indicates that a subset of cells labeled 4hi8lo actually seems to belong to the CD4 lineage. We adjust the annotation accordingly."
   ]
  },
  {
   "cell_type": "code",
   "execution_count": null,
   "id": "d9b3295b",
   "metadata": {
    "vscode": {
     "languageId": "r"
    }
   },
   "outputs": [],
   "source": [
    "seurObj_SP2$anno_new2 <- ifelse(colnames(seurObj_SP2) %in% WhichCells(seurObj_hilo, idents = c('7','10'), expression= CD8 <8), \"SP_CD4\", seurObj_SP2$anno_new2)"
   ]
  },
  {
   "cell_type": "code",
   "execution_count": null,
   "id": "e42ca006",
   "metadata": {
    "vscode": {
     "languageId": "r"
    }
   },
   "outputs": [],
   "source": [
    "options(repr.plot.width=8, repr.plot.height=7)\n",
    "\n",
    "DimPlot(seurObj_SP2, reduction = 'umap_wnn_SP2', group.by = 'anno_new2', cols=pal12)"
   ]
  },
  {
   "cell_type": "markdown",
   "id": "b5ceafe9",
   "metadata": {},
   "source": [
    "#### CD4SP"
   ]
  },
  {
   "cell_type": "code",
   "execution_count": null,
   "id": "8c8652b5",
   "metadata": {
    "vscode": {
     "languageId": "r"
    }
   },
   "outputs": [],
   "source": [
    "seurObj_SPCD4 <- subset(seurObj_SP2, subset=(anno_new2=='SP_CD4'))"
   ]
  },
  {
   "cell_type": "code",
   "execution_count": null,
   "id": "e3ef07e2",
   "metadata": {
    "scrolled": true,
    "vscode": {
     "languageId": "r"
    }
   },
   "outputs": [],
   "source": [
    "seurObj_SPCD4 <- seurObj_SPCD4  %>%\n",
    "            FindVariableFeatures(assay='ADTdsb') %>%\n",
    "            ScaleData(assay = 'ADTdsb') %>%\n",
    "            RunPCA(assay = 'ADTdsb', npcs = 50, reduction.name = 'pca_adt_SPCD4')"
   ]
  },
  {
   "cell_type": "code",
   "execution_count": null,
   "id": "53100d08",
   "metadata": {
    "scrolled": true,
    "vscode": {
     "languageId": "r"
    }
   },
   "outputs": [],
   "source": [
    "MNN <- reducedMNN(seurObj_SPCD4@reductions$pca_adt_SPCD4@cell.embeddings,\n",
    "                 batch=seurObj_SPCD4$sample,\n",
    "                 BPPARAM=MulticoreParam(workers=12), #parallelisation\n",
    "                 BNPARAM=HnswParam())\n",
    "seurObj_SPCD4[[\"mnn_adt_SPCD4\"]] <- CreateDimReducObject(embeddings=MNN$corrected,\n",
    "                                        assay=\"ADTdsb\",\n",
    "                                        key=\"mnn_\")"
   ]
  },
  {
   "cell_type": "code",
   "execution_count": null,
   "id": "bf1cd2fb",
   "metadata": {
    "vscode": {
     "languageId": "r"
    }
   },
   "outputs": [],
   "source": [
    "seurObj_SPCD4 <- seurObj_SPCD4  %>%\n",
    "            FindVariableFeatures(assay='RNA') %>%\n",
    "            ScaleData(assay = 'RNA') %>%\n",
    "            RunPCA(assay = 'RNA', npcs = 50, reduction.name = 'pca_rna_SPCD4')"
   ]
  },
  {
   "cell_type": "code",
   "execution_count": null,
   "id": "1ed35590",
   "metadata": {
    "scrolled": true,
    "vscode": {
     "languageId": "r"
    }
   },
   "outputs": [],
   "source": [
    "MNN <- reducedMNN(seurObj_SPCD4@reductions$pca_rna_SPCD4@cell.embeddings,\n",
    "                 batch=seurObj_SPCD4$sample,\n",
    "                 BPPARAM=MulticoreParam(workers=12), #parallelisation\n",
    "                 BNPARAM=HnswParam())\n",
    "seurObj_SPCD4[[\"mnn_rna_SPCD4\"]] <- CreateDimReducObject(embeddings=MNN$corrected,\n",
    "                                        assay=\"RNA\",\n",
    "                                        key=\"mnn_\")"
   ]
  },
  {
   "cell_type": "code",
   "execution_count": null,
   "id": "8f7726b0",
   "metadata": {
    "vscode": {
     "languageId": "r"
    }
   },
   "outputs": [],
   "source": [
    "dim_adt <- PCcutoff(seurObj_SPCD4@reductions$pca_adt_SPCD4, 0.1)\n",
    "dim_adt\n",
    "\n",
    "dim_rna <- PCcutoff(seurObj_SPCD4@reductions$pca_rna_SPCD4, 0.1)\n",
    "dim_rna\n",
    "\n",
    "seurObj_SPCD4 <- FindMultiModalNeighbors(seurObj_SPCD4,\n",
    "                                  reduction.list=list('mnn_adt_SPCD4', 'mnn_rna_SPCD4'),\n",
    "                                   dims.list=list(1:dim_adt,1:dim_rna))"
   ]
  },
  {
   "cell_type": "code",
   "execution_count": null,
   "id": "b80c52f2",
   "metadata": {
    "scrolled": false,
    "vscode": {
     "languageId": "r"
    }
   },
   "outputs": [],
   "source": [
    "seurObj_SPCD4 <- RunUMAP(seurObj_SPCD4, nn.name = \"weighted.nn\", reduction.name = \"umap_wnn_SPCD4\",\n",
    "                        reduction.key = \"wnnUMAP_\")"
   ]
  },
  {
   "cell_type": "code",
   "execution_count": null,
   "id": "17b56967",
   "metadata": {
    "scrolled": true,
    "vscode": {
     "languageId": "r"
    }
   },
   "outputs": [],
   "source": [
    "seurObj_SPCD4 <- RunUMAP(seurObj_SPCD4, assay = 'ADTdsb', dims = 1:dim_adt, reduction = 'mnn_adt_SPCD4', reduction.name = \"umap_adt_SPCD4\",\n",
    "                        reduction.key = \"wnnUMAP_\")"
   ]
  },
  {
   "cell_type": "code",
   "execution_count": null,
   "id": "8b6b9753",
   "metadata": {
    "scrolled": false,
    "vscode": {
     "languageId": "r"
    }
   },
   "outputs": [],
   "source": [
    "ptm <- proc.time()\n",
    "\n",
    "seurObj_SPCD4 <- FindNeighbors(seurObj_SPCD4, reduction= 'mnn_adt_SPCD4', dims=1:dim_adt, assay='ADTdsb')\n",
    "seurObj_SPCD4 <- FindClusters(seurObj_SPCD4, algorithm = 4, resolution = 1, random.seed = 123, method = 'igraph', cluster.name='clusters_SPCD4_adt')\n",
    "\n",
    "proc.time() - ptm"
   ]
  },
  {
   "cell_type": "code",
   "execution_count": null,
   "id": "3955dab8",
   "metadata": {
    "scrolled": false,
    "vscode": {
     "languageId": "r"
    }
   },
   "outputs": [],
   "source": [
    "options(repr.plot.width=8, repr.plot.height=7)\n",
    "\n",
    "DimPlot(seurObj_SPCD4, reduction = 'umap_adt_SPCD4', group.by = 'anno_CITE_old', cols=pal24)\n",
    "\n",
    "DimPlot(seurObj_SPCD4, reduction = 'umap_adt_SPCD4', group.by = 'clusters_SPCD4_adt', cols=pal12)\n"
   ]
  },
  {
   "cell_type": "code",
   "execution_count": null,
   "id": "4dbf12b6",
   "metadata": {
    "vscode": {
     "languageId": "r"
    }
   },
   "outputs": [],
   "source": [
    "table(seurObj_SPCD4$anno_CITE_old, seurObj_SPCD4$clusters_SPCD4_adt)"
   ]
  },
  {
   "cell_type": "markdown",
   "id": "67ae84d2",
   "metadata": {},
   "source": [
    "#### CD8SP"
   ]
  },
  {
   "cell_type": "code",
   "execution_count": null,
   "id": "2b07dcb4",
   "metadata": {
    "vscode": {
     "languageId": "r"
    }
   },
   "outputs": [],
   "source": [
    "seurObj_SPCD8 <- subset(seurObj_SP2, subset=(anno_new2=='SP_CD8'))"
   ]
  },
  {
   "cell_type": "code",
   "execution_count": null,
   "id": "2258056c",
   "metadata": {
    "scrolled": true,
    "vscode": {
     "languageId": "r"
    }
   },
   "outputs": [],
   "source": [
    "seurObj_SPCD8 <- seurObj_SPCD8  %>%\n",
    "            FindVariableFeatures(assay='ADTdsb') %>%\n",
    "            ScaleData(assay = 'ADTdsb') %>%\n",
    "            RunPCA(assay = 'ADTdsb', npcs = 50, reduction.name = 'pca_adt_SPCD8')"
   ]
  },
  {
   "cell_type": "code",
   "execution_count": null,
   "id": "af47ebf3",
   "metadata": {
    "vscode": {
     "languageId": "r"
    }
   },
   "outputs": [],
   "source": [
    "table(seurObj_SP$clusters_SP, seurObj_SP$clusters_rough)"
   ]
  },
  {
   "cell_type": "code",
   "execution_count": null,
   "id": "95b8e201",
   "metadata": {
    "scrolled": true,
    "vscode": {
     "languageId": "r"
    }
   },
   "outputs": [],
   "source": [
    "MNN <- reducedMNN(seurObj_SPCD8@reductions$pca_adt_SPCD8@cell.embeddings,\n",
    "                 batch=seurObj_SPCD8$sample,\n",
    "                 BPPARAM=MulticoreParam(workers=12), #parallelisation\n",
    "                 BNPARAM=HnswParam())\n",
    "seurObj_SPCD8[[\"mnn_adt_SPCD8\"]] <- CreateDimReducObject(embeddings=MNN$corrected,\n",
    "                                        assay=\"ADTdsb\",\n",
    "                                        key=\"mnn_\")"
   ]
  },
  {
   "cell_type": "code",
   "execution_count": null,
   "id": "df26667e",
   "metadata": {
    "vscode": {
     "languageId": "r"
    }
   },
   "outputs": [],
   "source": [
    "seurObj_SPCD8 <- seurObj_SPCD8  %>%\n",
    "            FindVariableFeatures(assay='RNA') %>%\n",
    "            ScaleData(assay = 'RNA') %>%\n",
    "            RunPCA(assay = 'RNA', npcs = 50, reduction.name = 'pca_rna_SPCD8')"
   ]
  },
  {
   "cell_type": "code",
   "execution_count": null,
   "id": "47d989cb",
   "metadata": {
    "vscode": {
     "languageId": "r"
    }
   },
   "outputs": [],
   "source": [
    "table(seurObj_DN$anno_new, seurObj_DN$anno_CITE_old)"
   ]
  },
  {
   "cell_type": "code",
   "execution_count": null,
   "id": "8ec690d4",
   "metadata": {
    "scrolled": true,
    "vscode": {
     "languageId": "r"
    }
   },
   "outputs": [],
   "source": [
    "MNN <- reducedMNN(seurObj_SPCD8@reductions$pca_rna_SPCD8@cell.embeddings,\n",
    "                 batch=seurObj_SPCD8$sample,\n",
    "                 BPPARAM=MulticoreParam(workers=12), #parallelisation\n",
    "                 BNPARAM=HnswParam())\n",
    "seurObj_SPCD8[[\"mnn_rna_SPCD8\"]] <- CreateDimReducObject(embeddings=MNN$corrected,\n",
    "                                        assay=\"RNA\",\n",
    "                                        key=\"mnn_\")"
   ]
  },
  {
   "cell_type": "code",
   "execution_count": null,
   "id": "f1a111e8",
   "metadata": {
    "vscode": {
     "languageId": "r"
    }
   },
   "outputs": [],
   "source": [
    "table(seurObj_DN$anno_new)\n",
    "      \n",
    "table(seurObj_DN$anno_CITE_old)"
   ]
  },
  {
   "cell_type": "code",
   "execution_count": null,
   "id": "c7d498fb",
   "metadata": {
    "scrolled": false,
    "vscode": {
     "languageId": "r"
    }
   },
   "outputs": [],
   "source": [
    "options(repr.plot.width=9, repr.plot.height=7)\n",
    "\n",
    "\n",
    "DimPlot(seurObj_SP2, reduction = 'umap_wnn_SP2', group.by = 'anno_new2', cols=pal12)\n"
   ]
  },
  {
   "cell_type": "code",
   "execution_count": null,
   "id": "13ba6dc3",
   "metadata": {
    "vscode": {
     "languageId": "r"
    }
   },
   "outputs": [],
   "source": [
    "dim_adt <- PCcutoff(seurObj_SPCD8@reductions$pca_adt_SPCD8, 0.1)\n",
    "dim_adt\n",
    "\n",
    "dim_rna <- PCcutoff(seurObj_SPCD8@reductions$pca_rna_SPCD8, 0.1)\n",
    "dim_rna\n",
    "\n",
    "seurObj_SPCD8 <- FindMultiModalNeighbors(seurObj_SPCD8,\n",
    "                                  reduction.list=list('mnn_adt_SPCD8', 'mnn_rna_SPCD8'),\n",
    "                                   dims.list=list(1:dim_adt,1:dim_rna))"
   ]
  },
  {
   "cell_type": "code",
   "execution_count": null,
   "id": "51d72a4d",
   "metadata": {
    "vscode": {
     "languageId": "r"
    }
   },
   "outputs": [],
   "source": [
    "seurObj_SPCD8 <- RunUMAP(seurObj_SPCD8, nn.name = \"weighted.nn\", reduction.name = \"umap_wnn_SPCD8\",\n",
    "                        reduction.key = \"wnnUMAP_\")"
   ]
  },
  {
   "cell_type": "code",
   "execution_count": null,
   "id": "0cafb7db",
   "metadata": {
    "scrolled": true,
    "vscode": {
     "languageId": "r"
    }
   },
   "outputs": [],
   "source": [
    "seurObj_SPCD8 <- RunUMAP(seurObj_SPCD8, assay = 'ADTdsb', dims = 1:dim_adt, reduction = 'mnn_adt_SPCD8', reduction.name = \"umap_adt_SPCD8\",\n",
    "                        reduction.key = \"wnnUMAP_\")"
   ]
  },
  {
   "cell_type": "code",
   "execution_count": null,
   "id": "e2b4a3ab",
   "metadata": {
    "scrolled": true,
    "vscode": {
     "languageId": "r"
    }
   },
   "outputs": [],
   "source": [
    "ptm <- proc.time()\n",
    "\n",
    "seurObj_SPCD8 <- FindNeighbors(seurObj_SPCD8, reduction= 'mnn_adt_SPCD8', dims=1:dim_adt, assay='ADTdsb')\n",
    "seurObj_SPCD8 <- FindClusters(seurObj_SPCD8, algorithm = 4, resolution = 1, random.seed = 123, method = 'igraph', cluster.name='clusters_SPCD8_adt')\n",
    "\n",
    "proc.time() - ptm"
   ]
  },
  {
   "cell_type": "code",
   "execution_count": null,
   "id": "72308ee9",
   "metadata": {
    "scrolled": false,
    "vscode": {
     "languageId": "r"
    }
   },
   "outputs": [],
   "source": [
    "options(repr.plot.width=8, repr.plot.height=7)\n",
    "\n",
    "DimPlot(seurObj_SPCD8, reduction = 'umap_adt_SPCD8', group.by = 'anno_CITE_old', cols=pal24)\n",
    "\n",
    "DimPlot(seurObj_SPCD8, reduction = 'umap_adt_SPCD8', group.by = 'clusters_SPCD8_adt', cols=pal12)\n"
   ]
  },
  {
   "cell_type": "markdown",
   "id": "46d42759",
   "metadata": {},
   "source": [
    "#### SP substages\n",
    "\n",
    "We have subset and reintegrated the two T lineages separately to permit a better annotation of subsequent maturation stages."
   ]
  },
  {
   "cell_type": "code",
   "execution_count": null,
   "id": "96597f2e",
   "metadata": {
    "scrolled": false,
    "vscode": {
     "languageId": "r"
    }
   },
   "outputs": [],
   "source": [
    "options(repr.plot.width=8, repr.plot.height=7)\n",
    "\n",
    "DimPlot(seurObj_SPCD4, reduction = 'umap_adt_SPCD4', group.by = 'clusters_SPCD4_adt', cols=pal12)\n",
    "\n",
    "DimPlot(seurObj_SPCD8, reduction = 'umap_adt_SPCD8', group.by = 'clusters_SPCD8_adt', cols=pal12)\n"
   ]
  },
  {
   "cell_type": "code",
   "execution_count": null,
   "id": "a7000848",
   "metadata": {
    "scrolled": false,
    "vscode": {
     "languageId": "r"
    }
   },
   "outputs": [],
   "source": [
    "options(repr.plot.width=16, repr.plot.height=8)\n",
    "\n",
    "VlnPlot(seurObj_SPCD4, group.by = 'clusters_SPCD4_adt', features = c('CD1a', 'CD45RA', 'CD4', 'CD8', 'CD69', 'CD226', 'CD44', 'CD27'),ncol=4, pt.size = 0, cols=pal12)\n",
    "VlnPlot(seurObj_SPCD8, group.by = 'clusters_SPCD8_adt', features = c('CD1a', 'CD45RA', 'CD4', 'CD8', 'CD69', 'CD226', 'CD44', 'CD27'), ncol=4, pt.size = 0, cols=pal12)\n"
   ]
  },
  {
   "cell_type": "code",
   "execution_count": null,
   "id": "3d947565",
   "metadata": {
    "vscode": {
     "languageId": "r"
    }
   },
   "outputs": [],
   "source": [
    "options(repr.plot.width=16, repr.plot.height=12)\n",
    "\n",
    "FeatureScatter(seurObj_SPCD4, feature1 = 'CD45RA', feature2 = 'CD1a', cols=pal12)+facet_wrap(~seurObj_SPCD4$clusters_SPCD4_adt, ncol=4)+theme_bw()\n",
    "\n",
    "FeatureScatter(seurObj_SPCD8, feature1 = 'CD45RA', feature2 = 'CD1a', cols=pal12)+facet_wrap(~seurObj_SPCD8$clusters_SPCD8_adt, ncol=4)+theme_bw()"
   ]
  },
  {
   "cell_type": "markdown",
   "id": "a65d127a",
   "metadata": {},
   "source": [
    "Cluster analysis and comparison between the two lineages indicates that the same expression cutoffs for CD1a and CD45RA and informed cluster selection should allow the annotation of matching maturation stages. The mature cells for both lineages clearly form a separate cluster and are thus annotated based on the cluster only without taking into account marker expression."
   ]
  },
  {
   "cell_type": "code",
   "execution_count": null,
   "id": "7b8bec1d",
   "metadata": {
    "vscode": {
     "languageId": "r"
    }
   },
   "outputs": [],
   "source": [
    "Idents(seurObj_SPCD4) <- seurObj_SPCD4$clusters_SPCD4_adt\n",
    "seurObj_SPCD4$anno_new3 <- 'unknown'\n",
    "seurObj_SPCD4$anno_new3 <- ifelse(colnames(seurObj_SPCD4) %in% WhichCells(seurObj_SPCD4, expression = CD45RA < 20, idents = c('1', '4', '8', '5')), \"SP_CD4_immature\", seurObj_SPCD4$anno_new3)\n",
    "seurObj_SPCD4$anno_new3 <- ifelse(colnames(seurObj_SPCD4) %in% WhichCells(seurObj_SPCD4, expression = CD1a < 6, idents = c('2', '3', '6', '7')), \"SP_CD4_semimature\", seurObj_SPCD4$anno_new3)\n",
    "seurObj_SPCD4$anno_new3 <- ifelse(colnames(seurObj_SPCD4) %in% WhichCells(seurObj_SPCD4, idents = '9'), \"SP_CD4_mature\", seurObj_SPCD4$anno_new3)\n"
   ]
  },
  {
   "cell_type": "code",
   "execution_count": null,
   "id": "91cc6f28",
   "metadata": {
    "scrolled": false,
    "vscode": {
     "languageId": "r"
    }
   },
   "outputs": [],
   "source": [
    "options(repr.plot.width=8, repr.plot.height=7)\n",
    "\n",
    "\n",
    "DimPlot(seurObj_SPCD4, reduction = 'umap_adt_SPCD4', group.by = 'anno_new3', cols=pal12)\n"
   ]
  },
  {
   "cell_type": "code",
   "execution_count": null,
   "id": "9c12134c",
   "metadata": {
    "vscode": {
     "languageId": "r"
    }
   },
   "outputs": [],
   "source": [
    "Idents(seurObj_SPCD8) <- seurObj_SPCD8$clusters_SPCD8_adt\n",
    "seurObj_SPCD8$anno_new3 <- 'unknown'\n",
    "seurObj_SPCD8$anno_new3 <- ifelse(colnames(seurObj_SPCD8) %in% WhichCells(seurObj_SPCD8, expression = CD45RA < 20 & CD4 < 5, idents = c('4', '3', '7')), \"SP_CD8_immature\", seurObj_SPCD8$anno_new3)\n",
    "seurObj_SPCD8$anno_new3 <- ifelse(colnames(seurObj_SPCD8) %in% WhichCells(seurObj_SPCD8, expression = CD1a < 6, idents = c('1', '2', '5','6', '8')), \"SP_CD8_semimature\", seurObj_SPCD8$anno_new3)\n",
    "seurObj_SPCD8$anno_new3 <- ifelse(colnames(seurObj_SPCD8) %in% WhichCells(seurObj_SPCD8, idents = '9'), \"SP_CD8_mature\", seurObj_SPCD8$anno_new3)\n"
   ]
  },
  {
   "cell_type": "code",
   "execution_count": null,
   "id": "94c83d9b",
   "metadata": {
    "scrolled": false,
    "vscode": {
     "languageId": "r"
    }
   },
   "outputs": [],
   "source": [
    "options(repr.plot.width=8, repr.plot.height=7)\n",
    "\n",
    "\n",
    "DimPlot(seurObj_SPCD8, reduction = 'umap_adt_SPCD8', group.by = 'anno_new3', cols=pal12)\n"
   ]
  },
  {
   "cell_type": "markdown",
   "id": "f2197bea",
   "metadata": {},
   "source": [
    "We can transfer these annotations back to the SP object."
   ]
  },
  {
   "cell_type": "code",
   "execution_count": null,
   "id": "7b52d157",
   "metadata": {
    "vscode": {
     "languageId": "r"
    }
   },
   "outputs": [],
   "source": [
    "seurObj_SP2$anno_new2[colnames(seurObj_SP2) %in% colnames(seurObj_SPCD8)] <- seurObj_SPCD8$anno_new3\n",
    "seurObj_SP2$anno_new2[colnames(seurObj_SP2) %in% colnames(seurObj_SPCD4)] <- seurObj_SPCD4$anno_new3"
   ]
  },
  {
   "cell_type": "code",
   "execution_count": null,
   "id": "de5280ba",
   "metadata": {
    "vscode": {
     "languageId": "r"
    }
   },
   "outputs": [],
   "source": [
    "seurObj_SP$anno_new[colnames(seurObj_SP) %in% colnames(seurObj_SP2)] <- seurObj_SP2$anno_new2\n",
    "seurObj_SP$anno_new[colnames(seurObj_SP) %in% colnames(seurObj_SP2)] <- seurObj_SP2$anno_new2"
   ]
  },
  {
   "cell_type": "code",
   "execution_count": null,
   "id": "c8a8d154",
   "metadata": {
    "scrolled": false,
    "vscode": {
     "languageId": "r"
    }
   },
   "outputs": [],
   "source": [
    "options(repr.plot.width=9, repr.plot.height=7)\n",
    "\n",
    "\n",
    "DimPlot(seurObj_SP2, reduction = 'umap_wnn_SP2', group.by = 'anno_new2', cols=pal12)\n",
    "\n",
    "DimPlot(seurObj_SP, reduction = 'umap_wnn_SP', group.by = 'anno_new', cols=pal12)\n"
   ]
  },
  {
   "cell_type": "code",
   "execution_count": null,
   "id": "d827d4b2",
   "metadata": {
    "scrolled": false,
    "vscode": {
     "languageId": "r"
    }
   },
   "outputs": [],
   "source": [
    "options(repr.plot.width=16, repr.plot.height=4)\n",
    "\n",
    "VlnPlot(seurObj_SP2, group.by = 'anno_new2', features = c('CD1a', 'CD45RA', 'CD4', 'CD8'),ncol=4, pt.size = 0.001, cols=pal12)"
   ]
  },
  {
   "cell_type": "markdown",
   "id": "853358db",
   "metadata": {},
   "source": [
    "Some CD8-annotated cells express medium levels of CD4. We label these cells as unknown to avoid crosscontamination between lineages."
   ]
  },
  {
   "cell_type": "code",
   "execution_count": null,
   "id": "6685bd91",
   "metadata": {
    "vscode": {
     "languageId": "r"
    }
   },
   "outputs": [],
   "source": [
    "Idents(seurObj_SP2) <- seurObj_SP2$anno_new2\n",
    "\n",
    "seurObj_SP2$anno_new2 <- ifelse(colnames(seurObj_SP2) %in% WhichCells(seurObj_SP2, expression = CD4 > 5, idents = c(\"SP_CD8_immature\", \"SP_CD8_semimature\", \"SP_CD8_mature\")), \"unknown\", seurObj_SP2$anno_new2)"
   ]
  },
  {
   "cell_type": "code",
   "execution_count": null,
   "id": "87be11a4",
   "metadata": {
    "scrolled": false,
    "vscode": {
     "languageId": "r"
    }
   },
   "outputs": [],
   "source": [
    "options(repr.plot.width=16, repr.plot.height=4)\n",
    "\n",
    "VlnPlot(seurObj_SP2, group.by = 'anno_new2', features = c('CD1a', 'CD45RA', 'CD4', 'CD8'),ncol=4, pt.size = 0.001, cols=pal12)"
   ]
  },
  {
   "cell_type": "code",
   "execution_count": null,
   "id": "80fe9304",
   "metadata": {
    "scrolled": false,
    "vscode": {
     "languageId": "r"
    }
   },
   "outputs": [],
   "source": [
    "options(repr.plot.width=20, repr.plot.height=8)\n",
    "\n",
    "\n",
    "DimPlot(seurObj_SP2, reduction = 'umap_wnn_SP2', group.by = 'anno_new2', cols=pal12, split.by = 'anno_new2', ncol=5)\n"
   ]
  },
  {
   "cell_type": "markdown",
   "id": "ef5e1906",
   "metadata": {},
   "source": [
    "Comparison between new and old annotations:"
   ]
  },
  {
   "cell_type": "code",
   "execution_count": null,
   "id": "5963ab91",
   "metadata": {
    "vscode": {
     "languageId": "r"
    }
   },
   "outputs": [],
   "source": [
    "options(repr.plot.width=12, repr.plot.height=8)\n",
    "\n",
    "df <- count(seurObj_SP2@meta.data, barcode, anno_CITE_old, anno_new2) %>%\n",
    "        mutate(id = row_number())%>%\n",
    "        pivot_longer(cols=2:3, names_to = 'version', values_to = 'celltype')\n",
    "\n",
    "\n",
    "ggplot(df, aes(x = version, y = n, \n",
    "                          stratum = celltype, fill = celltype,\n",
    "                          alluvium = id)) +\n",
    "  geom_stratum(alpha = .5) +\n",
    "  geom_flow()+\n",
    "  theme_minimal()+\n",
    "  scale_fill_manual(values = c(pal36, 'grey30'))"
   ]
  },
  {
   "cell_type": "code",
   "execution_count": null,
   "id": "293c42bb",
   "metadata": {
    "vscode": {
     "languageId": "r"
    }
   },
   "outputs": [],
   "source": [
    "table(seurObj_SP2$anno_new2)"
   ]
  },
  {
   "cell_type": "markdown",
   "id": "987007fb",
   "metadata": {},
   "source": [
    "#### Pseudotime-based annotation refinement\n",
    "\n",
    "By determining lineage pseudotimes, we can assess the sturdiness of the annotations and - if needed - remove cells associated with the wrong lineage."
   ]
  },
  {
   "cell_type": "code",
   "execution_count": null,
   "id": "d5e51393",
   "metadata": {
    "vscode": {
     "languageId": "r"
    }
   },
   "outputs": [],
   "source": [
    "seurObj_SP3 <- subset(seurObj_SP2, subset=anno_new2 %in% c('DP(Q)_rearr', 'unknown'), invert=T)"
   ]
  },
  {
   "cell_type": "code",
   "execution_count": null,
   "id": "d642779b",
   "metadata": {
    "scrolled": true,
    "vscode": {
     "languageId": "r"
    }
   },
   "outputs": [],
   "source": [
    "seurObj_SP3 <- seurObj_SP3  %>%\n",
    "            FindVariableFeatures(assay='ADTdsb') %>%\n",
    "            ScaleData(assay = 'ADTdsb') %>%\n",
    "            RunPCA(assay = 'ADTdsb', npcs = 50, reduction.name = 'pca_adt_SP3')"
   ]
  },
  {
   "cell_type": "code",
   "execution_count": null,
   "id": "a0ce99a6",
   "metadata": {
    "scrolled": true,
    "vscode": {
     "languageId": "r"
    }
   },
   "outputs": [],
   "source": [
    "MNN <- reducedMNN(seurObj_SP3@reductions$pca_adt_SP3@cell.embeddings,\n",
    "                 batch=seurObj_SP3$sample,\n",
    "                 BPPARAM=MulticoreParam(workers=12), #parallelisation\n",
    "                 BNPARAM=HnswParam())\n",
    "seurObj_SP3[[\"mnn_adt_SP3\"]] <- CreateDimReducObject(embeddings=MNN$corrected,\n",
    "                                        assay=\"ADTdsb\",\n",
    "                                        key=\"mnn_\")"
   ]
  },
  {
   "cell_type": "code",
   "execution_count": null,
   "id": "5cc61d7b",
   "metadata": {
    "scrolled": true,
    "vscode": {
     "languageId": "r"
    }
   },
   "outputs": [],
   "source": [
    "seurObj_SP3 <- seurObj_SP3  %>%\n",
    "            FindVariableFeatures(assay='RNA') %>%\n",
    "            ScaleData(assay = 'RNA') %>%\n",
    "            RunPCA(assay = 'RNA', npcs = 50, reduction.name = 'pca_rna_SP3')"
   ]
  },
  {
   "cell_type": "code",
   "execution_count": null,
   "id": "543b7d57",
   "metadata": {
    "scrolled": true,
    "vscode": {
     "languageId": "r"
    }
   },
   "outputs": [],
   "source": [
    "MNN <- reducedMNN(seurObj_SP3@reductions$pca_rna_SP3@cell.embeddings,\n",
    "                 batch=seurObj_SP3$sample,\n",
    "                 BPPARAM=MulticoreParam(workers=12), #parallelisation\n",
    "                 BNPARAM=HnswParam())\n",
    "seurObj_SP3[[\"mnn_rna_SP3\"]] <- CreateDimReducObject(embeddings=MNN$corrected,\n",
    "                                        assay=\"RNA\",\n",
    "                                        key=\"mnn_\")"
   ]
  },
  {
   "cell_type": "code",
   "execution_count": null,
   "id": "66c98dcc",
   "metadata": {
    "vscode": {
     "languageId": "r"
    }
   },
   "outputs": [],
   "source": [
    "dim_adt <- PCcutoff(seurObj_SP3@reductions$pca_adt_SP3, 0.1)\n",
    "dim_adt\n",
    "\n",
    "dim_rna <- PCcutoff(seurObj_SP3@reductions$pca_rna_SP3, 0.1)\n",
    "dim_rna\n",
    "\n",
    "seurObj_SP3 <- FindMultiModalNeighbors(seurObj_SP3,\n",
    "                                  reduction.list=list('mnn_adt_SP3', 'mnn_rna_SP3'),\n",
    "                                   dims.list=list(1:dim_adt,1:dim_rna))"
   ]
  },
  {
   "cell_type": "code",
   "execution_count": null,
   "id": "ab13a1d6",
   "metadata": {
    "vscode": {
     "languageId": "r"
    }
   },
   "outputs": [],
   "source": [
    "seurObj_SP3 <- RunUMAP(seurObj_SP3, nn.name = \"weighted.nn\", reduction.name = \"umap_wnn_SP3\",\n",
    "                        reduction.key = \"wnnUMAP_\")"
   ]
  },
  {
   "cell_type": "code",
   "execution_count": null,
   "id": "52e311ae",
   "metadata": {
    "scrolled": true,
    "vscode": {
     "languageId": "r"
    }
   },
   "outputs": [],
   "source": [
    "seurObj_SP3 <- RunSPCA(seurObj_SP3, assay='RNA', graph='wsnn')"
   ]
  },
  {
   "cell_type": "code",
   "execution_count": null,
   "id": "055af0d0",
   "metadata": {
    "vscode": {
     "languageId": "r"
    }
   },
   "outputs": [],
   "source": [
    "library(slingshot)\n",
    "library(SingleCellExperiment)"
   ]
  },
  {
   "cell_type": "code",
   "execution_count": null,
   "id": "90923d3b",
   "metadata": {
    "vscode": {
     "languageId": "r"
    }
   },
   "outputs": [],
   "source": [
    "SCE_SP <- seurObj_SP3 %>% as.SingleCellExperiment"
   ]
  },
  {
   "cell_type": "code",
   "execution_count": null,
   "id": "2997f24c",
   "metadata": {
    "vscode": {
     "languageId": "r"
    }
   },
   "outputs": [],
   "source": [
    "reducedDim(SCE_SP, type='UMAP_WNN_SP') <- seurObj_SP3@reductions$umap_wnn_SP3@cell.embeddings"
   ]
  },
  {
   "cell_type": "code",
   "execution_count": null,
   "id": "89fbd260",
   "metadata": {
    "vscode": {
     "languageId": "r"
    }
   },
   "outputs": [],
   "source": [
    "lineages <- getLineages(reducedDims(SCE_SP)$UMAP_WNN_SP, dist.method='mnn', clusterLabels=seurObj_SP3$anno_new2, start.clus='DP_pos_sel', end.clus=c('SP_CD4_mature', 'SP_CD8_mature'))"
   ]
  },
  {
   "cell_type": "code",
   "execution_count": null,
   "id": "5440a40c",
   "metadata": {
    "vscode": {
     "languageId": "r"
    }
   },
   "outputs": [],
   "source": [
    "ptm <- proc.time()\n",
    "\n",
    "curves <-getCurves(lineages, extend=\"n\", stretch=0)\n",
    "\n",
    "proc.time() - ptm"
   ]
  },
  {
   "cell_type": "code",
   "execution_count": null,
   "id": "41011d19",
   "metadata": {
    "vscode": {
     "languageId": "r"
    }
   },
   "outputs": [],
   "source": [
    "clusters_SP <- 1:length(table(as.character(seurObj_SP3$anno_new2)))\n",
    "names(clusters_SP) <- names(table(as.character(seurObj_SP3$anno_new2)))"
   ]
  },
  {
   "cell_type": "code",
   "execution_count": null,
   "id": "7a6cdc71",
   "metadata": {
    "vscode": {
     "languageId": "r"
    }
   },
   "outputs": [],
   "source": [
    "options(repr.plot.width=8, repr.plot.height=8)\n",
    "\n",
    "plot(reducedDims(SCE_SP)$UMAP_WNN_SP, col = pal12[as.numeric(clusters_SP[as.character(seurObj_SP3$anno_new2)])],\n",
    "    pch = 16, cex=0.5, main=\"Start + Ends - mnn\")\n",
    "lines(SlingshotDataSet(lineages), col = 'black', show.constraints = TRUE)\n",
    "lines(SlingshotDataSet(curves), col = 'blue', show.constraints = TRUE)"
   ]
  },
  {
   "cell_type": "code",
   "execution_count": null,
   "id": "eae9928e",
   "metadata": {
    "scrolled": false,
    "vscode": {
     "languageId": "r"
    }
   },
   "outputs": [],
   "source": [
    "slingLineages(curves)"
   ]
  },
  {
   "cell_type": "code",
   "execution_count": null,
   "id": "86614a74",
   "metadata": {
    "vscode": {
     "languageId": "r"
    }
   },
   "outputs": [],
   "source": [
    "pseudotime_SP.df <- data.frame(slingPseudotime(curves))\n",
    "pseudotime_SP.df$anno <- seurObj_SP3$anno_new2[rownames(pseudotime_SP.df)]\n",
    "\n",
    "pseudotime_SP.df %>% head"
   ]
  },
  {
   "cell_type": "code",
   "execution_count": null,
   "id": "55beee88",
   "metadata": {
    "scrolled": false,
    "vscode": {
     "languageId": "r"
    }
   },
   "outputs": [],
   "source": [
    "options(repr.plot.width=10, repr.plot.height=6)\n",
    "\n",
    "ggplot(pseudotime_SP.df, aes(x = Lineage1, y = anno, colour = anno)) +\n",
    "    geom_jitter(size=1) +\n",
    "    theme_classic() +\n",
    "    xlab(\"Pseudotime\") + ylab(\"Celltype\") +\n",
    "    scale_color_manual(values = pal12)+\n",
    "    ggtitle(paste(\"CD4 lineage cells ordered by pseudotime\"))&NoLegend()\n",
    "\n",
    "ggplot(pseudotime_SP.df, aes(x = Lineage2, y = anno, colour = anno)) +\n",
    "    geom_jitter(size=1) +\n",
    "    theme_classic() +\n",
    "    xlab(\"Pseudotime\") + ylab(\"Celltype\") +\n",
    "    scale_color_manual(values = pal12)+\n",
    "    ggtitle(paste(\"CD8 lineage cells ordered by pseudotime\"))&NoLegend()    "
   ]
  },
  {
   "cell_type": "markdown",
   "id": "cce56fed",
   "metadata": {},
   "source": [
    "Pseudotimes constructed on the newly generated UMAP do not make much sense due to the kincks in the curves. Instead we calculate pseudotimes based on the previous UMAP after removal of DP(Q) and unknown cells."
   ]
  },
  {
   "cell_type": "code",
   "execution_count": null,
   "id": "7b04e14a",
   "metadata": {
    "vscode": {
     "languageId": "r"
    }
   },
   "outputs": [],
   "source": [
    "lineages2 <- getLineages(reducedDims(SCE_SP)$UMAP_WNN_SP2, dist.method='mnn', clusterLabels=seurObj_SP3$anno_new2, start.clus='DP_pos_sel', end.clus=c('SP_CD4_mature', 'SP_CD8_mature'))"
   ]
  },
  {
   "cell_type": "code",
   "execution_count": null,
   "id": "4b64b430",
   "metadata": {
    "vscode": {
     "languageId": "r"
    }
   },
   "outputs": [],
   "source": [
    "ptm <- proc.time()\n",
    "\n",
    "curves2 <-getCurves(lineages2, extend=\"n\", stretch=0)\n",
    "\n",
    "proc.time() - ptm"
   ]
  },
  {
   "cell_type": "code",
   "execution_count": null,
   "id": "7b17ab15",
   "metadata": {
    "vscode": {
     "languageId": "r"
    }
   },
   "outputs": [],
   "source": [
    "options(repr.plot.width=8, repr.plot.height=8)\n",
    "\n",
    "plot(reducedDims(SCE_SP)$UMAP_WNN_SP2, col = pal12[as.numeric(clusters_SP[as.character(seurObj_SP3$anno_new2)])],\n",
    "    pch = 16, cex=0.5, main=\"Start + Ends - mnn\")\n",
    "lines(SlingshotDataSet(lineages2), col = 'black', show.constraints = TRUE)\n",
    "lines(SlingshotDataSet(curves2), col = 'blue', show.constraints = TRUE)"
   ]
  },
  {
   "cell_type": "code",
   "execution_count": null,
   "id": "481fa2bc",
   "metadata": {
    "scrolled": true,
    "vscode": {
     "languageId": "r"
    }
   },
   "outputs": [],
   "source": [
    "slingLineages(curves)"
   ]
  },
  {
   "cell_type": "code",
   "execution_count": null,
   "id": "a86a3d0f",
   "metadata": {
    "vscode": {
     "languageId": "r"
    }
   },
   "outputs": [],
   "source": [
    "pseudotime_SP.df2 <- data.frame(slingPseudotime(curves2))\n",
    "pseudotime_SP.df2$anno <- seurObj_SP3$anno_new2[rownames(pseudotime_SP.df)]\n",
    "\n",
    "pseudotime_SP.df2 %>% head"
   ]
  },
  {
   "cell_type": "code",
   "execution_count": null,
   "id": "5c519a9a",
   "metadata": {
    "vscode": {
     "languageId": "r"
    }
   },
   "outputs": [],
   "source": [
    "options(repr.plot.width=10, repr.plot.height=6)\n",
    "\n",
    "ggplot(pseudotime_SP.df2, aes(x = Lineage1, y = anno, colour = anno)) +\n",
    "    geom_jitter(size=1) +\n",
    "    theme_classic() +\n",
    "    xlab(\"Pseudotime\") + ylab(\"Celltype\") +\n",
    "    scale_color_manual(values = pal12)+\n",
    "    ggtitle(paste(\"CD4 lineage cells ordered by pseudotime\"))&NoLegend()\n",
    "\n",
    "ggplot(pseudotime_SP.df2, aes(x = Lineage2, y = anno, colour = anno)) +\n",
    "    geom_jitter(size=1) +\n",
    "    theme_classic() +\n",
    "    xlab(\"Pseudotime\") + ylab(\"Celltype\") +\n",
    "    scale_color_manual(values = pal12)+\n",
    "    ggtitle(paste(\"CD8 lineage cells ordered by pseudotime\"))&NoLegend()    "
   ]
  },
  {
   "cell_type": "markdown",
   "id": "c6b6d350",
   "metadata": {},
   "source": [
    "Both lineage pseudotimes contain some immature cells of the other lineage."
   ]
  },
  {
   "cell_type": "code",
   "execution_count": null,
   "id": "4f4f5b83",
   "metadata": {
    "vscode": {
     "languageId": "r"
    }
   },
   "outputs": [],
   "source": [
    "seurObj_SP2$spt_CD4 <- NA\n",
    "seurObj_SP2$spt_CD8 <- NA\n",
    "seurObj_SP2@meta.data[rownames(pseudotime_SP.df2),'spt_CD4'] <- pseudotime_SP.df2$Lineage1\n",
    "seurObj_SP2@meta.data[rownames(pseudotime_SP.df2),'spt_CD8'] <- pseudotime_SP.df2$Lineage2"
   ]
  },
  {
   "cell_type": "code",
   "execution_count": null,
   "id": "57135758",
   "metadata": {
    "vscode": {
     "languageId": "r"
    }
   },
   "outputs": [],
   "source": [
    "seurObj_SP3$spt_CD4 <- NA\n",
    "seurObj_SP3$spt_CD8 <- NA\n",
    "seurObj_SP3@meta.data[rownames(pseudotime_SP.df2),'spt_CD4'] <- pseudotime_SP.df2$Lineage1\n",
    "seurObj_SP3@meta.data[rownames(pseudotime_SP.df2),'spt_CD8'] <- pseudotime_SP.df2$Lineage2"
   ]
  },
  {
   "cell_type": "code",
   "execution_count": null,
   "id": "6f937be5",
   "metadata": {
    "vscode": {
     "languageId": "r"
    }
   },
   "outputs": [],
   "source": [
    "options(repr.plot.width=13, repr.plot.height=6)\n",
    "\n",
    "FeaturePlot(seurObj_SP2, features = c('spt_CD4', 'spt_CD8'), reduction = 'umap_wnn_SP2')\n",
    "FeaturePlot(seurObj_SP3, features = c('spt_CD4', 'spt_CD8'), reduction = 'umap_wnn_SP2')\n",
    "FeaturePlot(seurObj_SP3, features = c('spt_CD4', 'spt_CD8'), reduction = 'umap_wnn_SP3')"
   ]
  },
  {
   "cell_type": "markdown",
   "id": "05358d8d",
   "metadata": {},
   "source": [
    "We remove these ambiguous cells that are associated with the pseudotime of the opposite lineage."
   ]
  },
  {
   "cell_type": "code",
   "execution_count": null,
   "id": "7f5078f7",
   "metadata": {
    "vscode": {
     "languageId": "r"
    }
   },
   "outputs": [],
   "source": [
    "cells_ambig <- c(rownames(subset(seurObj_SP2@meta.data, anno_new2 %in% c(\"SP_CD8_immature\", \"SP_CD8_semimature\", \"SP_CD8_mature\") & ! is.na(seurObj_SP2$spt_CD4))),\n",
    "                 rownames(subset(seurObj_SP2@meta.data, anno_new2 %in% c(\"SP_CD4_immature\", \"SP_CD4_semimature\", \"SP_CD4_mature\") & ! is.na(seurObj_SP2$spt_CD8))))"
   ]
  },
  {
   "cell_type": "code",
   "execution_count": null,
   "id": "36cf5b87",
   "metadata": {
    "vscode": {
     "languageId": "r"
    }
   },
   "outputs": [],
   "source": [
    "seurObj_SP2@meta.data[cells_ambig, 'anno_new2'] <- 'unknown'"
   ]
  },
  {
   "cell_type": "code",
   "execution_count": null,
   "id": "b4fc537c",
   "metadata": {
    "vscode": {
     "languageId": "r"
    }
   },
   "outputs": [],
   "source": [
    "options(repr.plot.width=10, repr.plot.height=6)\n",
    "\n",
    "ggplot(seurObj_SP2@meta.data, aes(x = spt_CD4, y = anno_new2, colour = anno_new2)) +\n",
    "    geom_jitter(size=1) +\n",
    "    theme_classic() +\n",
    "    xlab(\"Pseudotime\") + ylab(\"Celltype\") +\n",
    "    scale_color_manual(values = pal12)+\n",
    "    ggtitle(paste(\"CD4 lineage cells ordered by pseudotime\"))&NoLegend()\n",
    "\n",
    "ggplot(seurObj_SP2@meta.data, aes(x = spt_CD8, y = anno_new2, colour = anno_new2)) +\n",
    "    geom_jitter(size=1) +\n",
    "    theme_classic() +\n",
    "    xlab(\"Pseudotime\") + ylab(\"Celltype\") +\n",
    "    scale_color_manual(values = pal12)+\n",
    "    ggtitle(paste(\"CD8 lineage cells ordered by pseudotime\"))&NoLegend()    "
   ]
  },
  {
   "cell_type": "code",
   "execution_count": null,
   "id": "c2753b4a",
   "metadata": {
    "scrolled": false,
    "vscode": {
     "languageId": "r"
    }
   },
   "outputs": [],
   "source": [
    "options(repr.plot.width=10, repr.plot.height=6)\n",
    "\n",
    "ggplot(seurObj_SP2@meta.data, aes(x = spt_CD4, y = anno_CITE_old, colour = anno_CITE_old)) +\n",
    "    geom_jitter(size=1) +\n",
    "    theme_classic() +\n",
    "    xlab(\"Pseudotime\") + ylab(\"Celltype\") +\n",
    "    scale_color_manual(values = pal36)+\n",
    "    ggtitle(paste(\"CD4 lineage cells ordered by pseudotime\"))&NoLegend()\n",
    "\n",
    "ggplot(seurObj_SP2@meta.data, aes(x = spt_CD8, y = anno_CITE_old, colour = anno_CITE_old)) +\n",
    "    geom_jitter(size=1) +\n",
    "    theme_classic() +\n",
    "    xlab(\"Pseudotime\") + ylab(\"Celltype\") +\n",
    "    scale_color_manual(values = pal36)+\n",
    "    ggtitle(paste(\"CD8 lineage cells ordered by pseudotime\"))&NoLegend()    "
   ]
  },
  {
   "cell_type": "markdown",
   "id": "3c3fe83f",
   "metadata": {},
   "source": [
    "We can transfer the SP annotation to the full object."
   ]
  },
  {
   "cell_type": "code",
   "execution_count": null,
   "id": "8f6a2def",
   "metadata": {
    "vscode": {
     "languageId": "r"
    }
   },
   "outputs": [],
   "source": [
    "seurObj$anno_new[colnames(seurObj) %in% colnames(seurObj_SP2)] <- seurObj_SP2$anno_new2"
   ]
  },
  {
   "cell_type": "code",
   "execution_count": null,
   "id": "2af6c04e",
   "metadata": {
    "scrolled": true,
    "vscode": {
     "languageId": "r"
    }
   },
   "outputs": [],
   "source": [
    "table(seurObj$anno_new)"
   ]
  },
  {
   "cell_type": "code",
   "execution_count": null,
   "id": "0de52c96",
   "metadata": {
    "scrolled": false,
    "vscode": {
     "languageId": "r"
    }
   },
   "outputs": [],
   "source": [
    "options(repr.plot.width=15, repr.plot.height=10)\n",
    "\n",
    "\n",
    "DimPlot(seurObj, reduction = 'umap_wnn_mnn', group.by = 'anno_new', cols=(pal24), shuffle=T, raster=F)"
   ]
  },
  {
   "cell_type": "markdown",
   "id": "d832b16d",
   "metadata": {},
   "source": [
    "#### Tregs\n",
    "\n",
    "The Treg cluster clearly stands out and was alredy assigned previously. We reintegrate these cells and determine the subtypes."
   ]
  },
  {
   "cell_type": "code",
   "execution_count": null,
   "id": "dfb48b7d",
   "metadata": {
    "scrolled": true,
    "vscode": {
     "languageId": "r"
    }
   },
   "outputs": [],
   "source": [
    "seurObj_Treg <- seurObj_Treg  %>%\n",
    "            FindVariableFeatures(assay='ADTdsb') %>%\n",
    "            ScaleData(assay = 'ADTdsb') %>%\n",
    "            RunPCA(assay = 'ADTdsb', npcs = 50, reduction.name = 'pca_adt_Treg')"
   ]
  },
  {
   "cell_type": "code",
   "execution_count": null,
   "id": "5bda1c8e",
   "metadata": {
    "scrolled": true,
    "vscode": {
     "languageId": "r"
    }
   },
   "outputs": [],
   "source": [
    "MNN <- reducedMNN(seurObj_Treg@reductions$pca_adt_Treg@cell.embeddings,\n",
    "                 batch=seurObj_Treg$sample,\n",
    "                 BPPARAM=MulticoreParam(workers=12), #parallelisation\n",
    "                 BNPARAM=HnswParam())\n",
    "seurObj_Treg[[\"mnn_adt_Treg\"]] <- CreateDimReducObject(embeddings=MNN$corrected,\n",
    "                                        assay=\"ADTdsb\",\n",
    "                                        key=\"mnn_\")"
   ]
  },
  {
   "cell_type": "code",
   "execution_count": null,
   "id": "ca681201",
   "metadata": {
    "vscode": {
     "languageId": "r"
    }
   },
   "outputs": [],
   "source": [
    "seurObj_Treg <- seurObj_Treg  %>%\n",
    "            FindVariableFeatures(assay='RNA') %>%\n",
    "            ScaleData(assay = 'RNA') %>%\n",
    "            RunPCA(assay = 'RNA', npcs = 50, reduction.name = 'pca_rna_Treg')"
   ]
  },
  {
   "cell_type": "code",
   "execution_count": null,
   "id": "91b5f9eb",
   "metadata": {
    "scrolled": true,
    "vscode": {
     "languageId": "r"
    }
   },
   "outputs": [],
   "source": [
    "MNN <- reducedMNN(seurObj_Treg@reductions$pca_rna_Treg@cell.embeddings,\n",
    "                 batch=seurObj_Treg$sample,\n",
    "                 BPPARAM=MulticoreParam(workers=12), #parallelisation\n",
    "                 BNPARAM=HnswParam())\n",
    "seurObj_Treg[[\"mnn_rna_Treg\"]] <- CreateDimReducObject(embeddings=MNN$corrected,\n",
    "                                        assay=\"RNA\",\n",
    "                                        key=\"mnn_\")"
   ]
  },
  {
   "cell_type": "code",
   "execution_count": null,
   "id": "49a5eb42",
   "metadata": {
    "vscode": {
     "languageId": "r"
    }
   },
   "outputs": [],
   "source": [
    "dim_adt <- PCcutoff(seurObj_Treg@reductions$pca_adt_Treg, 0.1)\n",
    "dim_adt\n",
    "\n",
    "dim_rna <- PCcutoff(seurObj_Treg@reductions$pca_rna_Treg, 0.1)\n",
    "dim_rna\n",
    "\n",
    "seurObj_Treg <- FindMultiModalNeighbors(seurObj_Treg,\n",
    "                                  reduction.list=list('mnn_adt_Treg', 'mnn_rna_Treg'),\n",
    "                                   dims.list=list(1:dim_adt,1:dim_rna))"
   ]
  },
  {
   "cell_type": "code",
   "execution_count": null,
   "id": "73a54874",
   "metadata": {
    "vscode": {
     "languageId": "r"
    }
   },
   "outputs": [],
   "source": [
    "seurObj_Treg <- RunUMAP(seurObj_Treg, nn.name = \"weighted.nn\", reduction.name = \"umap_wnn_Treg\",\n",
    "                        reduction.key = \"wnnUMAP_\")"
   ]
  },
  {
   "cell_type": "code",
   "execution_count": null,
   "id": "7ef56a3f",
   "metadata": {
    "vscode": {
     "languageId": "r"
    }
   },
   "outputs": [],
   "source": [
    "seurObj_Treg <- RunSPCA(seurObj_Treg, assay='RNA', graph='wsnn')"
   ]
  },
  {
   "cell_type": "code",
   "execution_count": null,
   "id": "492592f3",
   "metadata": {
    "vscode": {
     "languageId": "r"
    }
   },
   "outputs": [],
   "source": [
    "ptm <- proc.time()\n",
    "\n",
    "seurObj_Treg <- FindNeighbors(seurObj_Treg, graph.name = 'wsnn',reduction= 'spca', dims = 1:max(c(dim_adt, dim_rna)), assay='ADTdsb')\n",
    "seurObj_Treg <- FindClusters(seurObj_Treg, graph.name = 'wsnn', algorithm = 4, resolution = 1, random.seed = 123, method = 'igraph', cluster.name='clusters_Treg')\n",
    "\n",
    "proc.time() - ptm"
   ]
  },
  {
   "cell_type": "code",
   "execution_count": null,
   "id": "165aa9dc",
   "metadata": {
    "scrolled": true,
    "vscode": {
     "languageId": "r"
    }
   },
   "outputs": [],
   "source": [
    "seurObj_Treg <- RunUMAP(seurObj_Treg, assay = 'ADTdsb', dims = 1:dim_adt, reduction = 'mnn_adt_Treg',\n",
    "                        reduction.name = \"umap_adt_Treg\", reduction.key = \"wnnUMAP_\")"
   ]
  },
  {
   "cell_type": "code",
   "execution_count": null,
   "id": "e215edfc",
   "metadata": {
    "scrolled": true,
    "vscode": {
     "languageId": "r"
    }
   },
   "outputs": [],
   "source": [
    "ptm <- proc.time()\n",
    "\n",
    "seurObj_Treg <- FindNeighbors(seurObj_Treg, reduction= 'mnn_adt_Treg', dims=1:dim_adt, assay='ADTdsb')\n",
    "seurObj_Treg <- FindClusters(seurObj_Treg, algorithm = 4, resolution = 1.2, random.seed = 123,\n",
    "                             method = 'igraph', cluster.name='clusters_Treg_adt')\n",
    "\n",
    "proc.time() - ptm"
   ]
  },
  {
   "cell_type": "code",
   "execution_count": null,
   "id": "f03c671c",
   "metadata": {
    "scrolled": false,
    "vscode": {
     "languageId": "r"
    }
   },
   "outputs": [],
   "source": [
    "options(repr.plot.width=12, repr.plot.height=7)\n",
    "\n",
    "DimPlot(seurObj_Treg, reduction = 'umap_adt_Treg', group.by = 'anno_CITE_old', cols=pal24)\n",
    "\n",
    "options(repr.plot.width=8, repr.plot.height=7)\n",
    "\n",
    "DimPlot(seurObj_Treg, reduction = 'umap_adt_Treg', group.by = 'clusters_Treg_adt', cols=pal12)\n"
   ]
  },
  {
   "cell_type": "code",
   "execution_count": null,
   "id": "a46f871a",
   "metadata": {
    "scrolled": false,
    "vscode": {
     "languageId": "r"
    }
   },
   "outputs": [],
   "source": [
    "options(repr.plot.width=12, repr.plot.height=7)\n",
    "\n",
    "DimPlot(seurObj_Treg, reduction = 'umap_wnn_Treg', group.by = 'anno_CITE_old', cols=pal24)\n",
    "\n",
    "options(repr.plot.width=8, repr.plot.height=7)\n",
    "\n",
    "DimPlot(seurObj_Treg, reduction = 'umap_wnn_Treg', group.by = 'clusters_Treg_adt', cols=pal12)\n",
    "\n",
    "DimPlot(seurObj_Treg, reduction = 'umap_wnn_Treg', group.by = 'clusters_Treg', cols=c(pal12,'grey30'), label=T)\n"
   ]
  },
  {
   "cell_type": "markdown",
   "id": "648d75aa",
   "metadata": {},
   "source": [
    "Recirculating Tregs clearly cluster separately, for the remaining subsets the identity is not so clear."
   ]
  },
  {
   "cell_type": "code",
   "execution_count": null,
   "id": "3db777da",
   "metadata": {
    "vscode": {
     "languageId": "r"
    }
   },
   "outputs": [],
   "source": [
    "markers_Treg <- c('CD137', 'CD146', 'CD18','CD183','CD194', 'CD195', 'CD1a', 'CD1c', 'CD2', 'CD224', 'CD226', 'CD25', 'CD278', 'CD279', 'CD29', 'CD3', 'CD31', 'CD352', 'CD38', 'CD39', 'CD45RA', 'CD47', 'CD48', 'CD49a', 'CD49d', 'CD49f', 'CD54', 'CD62L', 'CD7', 'CD71', 'CD73', 'CD8', 'CD4', 'CD95', 'Integrin-B7', 'TIGIT', 'CD357', 'CD122', 'CD45RO', 'CD196','CD146', 'CD134', 'CD103', 'CD152','TCRab', 'CD27')\n",
    "markers_Treg_rna <- c('FOXP3', 'CD8A', 'CD8B', 'CD40LG', 'NR4A1', 'ITM2A', 'KLF2', 'FOXO1', 'RAG2')"
   ]
  },
  {
   "cell_type": "code",
   "execution_count": null,
   "id": "a6784a3e",
   "metadata": {
    "scrolled": false,
    "vscode": {
     "languageId": "r"
    }
   },
   "outputs": [],
   "source": [
    "options(repr.plot.width=16, repr.plot.height=30)\n",
    "\n",
    "RidgePlot(seurObj_Treg, group.by = 'clusters_Treg_adt', features = sort(markers_Treg), ncol=6, cols=c(pal12,'grey30'))"
   ]
  },
  {
   "cell_type": "code",
   "execution_count": null,
   "id": "77464e14",
   "metadata": {
    "vscode": {
     "languageId": "r"
    }
   },
   "outputs": [],
   "source": [
    "options(repr.plot.width=16, repr.plot.height=8)\n",
    "\n",
    "VlnPlot(seurObj_Treg, assay = 'RNA', group.by = 'clusters_Treg_adt', features = sort(markers_Treg_rna), ncol=5, cols=c(pal12,'grey30'), pt.size = 0)"
   ]
  },
  {
   "cell_type": "code",
   "execution_count": null,
   "id": "1bdcbb06",
   "metadata": {
    "vscode": {
     "languageId": "r"
    }
   },
   "outputs": [],
   "source": [
    "table(seurObj_Treg$anno_CITE_old, seurObj_Treg$clusters_Treg_adt)"
   ]
  },
  {
   "cell_type": "code",
   "execution_count": null,
   "id": "1804aef0",
   "metadata": {
    "scrolled": false,
    "vscode": {
     "languageId": "r"
    }
   },
   "outputs": [],
   "source": [
    "options(repr.plot.width=16, repr.plot.height=8)\n",
    "FeatureScatter(seurObj_Treg, feature1 = 'CD4', feature2 = 'CD8', cols=pal24, group.by = 'anno_CITE_old')+facet_wrap(~seurObj_Treg$clusters_Treg_adt, ncol=4)+theme_bw()\n",
    "FeatureScatter(seurObj_Treg, feature1 = 'CD45RA', feature2 = 'CD1a', cols=pal24, group.by = 'anno_CITE_old')+facet_wrap(~seurObj_Treg$clusters_Treg_adt, ncol=4)+theme_bw()\n",
    "FeatureScatter(seurObj_Treg, feature1 = 'CD45RO', feature2 = 'CD1a', cols=pal24, group.by = 'anno_CITE_old')+facet_wrap(~seurObj_Treg$clusters_Treg_adt, ncol=4)+theme_bw()\n",
    "FeatureScatter(seurObj_Treg, feature1 = 'CD27', feature2 = 'CD101', cols=pal24, group.by = 'anno_CITE_old')+facet_wrap(~seurObj_Treg$clusters_Treg_adt, ncol=4)+theme_bw()\n",
    "FeatureScatter(seurObj_Treg, feature1 = 'CD25', feature2 = 'CD279', cols=pal24, group.by = 'anno_CITE_old')+facet_wrap(~seurObj_Treg$clusters_Treg_adt, ncol=4)+theme_bw()\n",
    "FeatureScatter(seurObj_Treg, feature1 = 'CD39', feature2 = 'CD224', cols=pal24, group.by = 'anno_CITE_old')+facet_wrap(~seurObj_Treg$clusters_Treg_adt, ncol=4)+theme_bw()\n",
    "FeatureScatter(seurObj_Treg, feature1 = 'CD4', feature2 = 'CD45RA', cols=pal24, group.by = 'anno_CITE_old')+facet_wrap(~seurObj_Treg$clusters_Treg_adt, ncol=4)+theme_bw()\n"
   ]
  },
  {
   "cell_type": "markdown",
   "id": "6d537360",
   "metadata": {},
   "source": [
    "Based on cluster analysis and comparison with previous marker finding efforts we can annotate several stages/subsets:"
   ]
  },
  {
   "cell_type": "code",
   "execution_count": null,
   "id": "769fb9b3",
   "metadata": {
    "vscode": {
     "languageId": "r"
    }
   },
   "outputs": [],
   "source": [
    "seurObj_Treg$anno_new4 <- 'unknown'\n",
    "seurObj_Treg$anno_new4 <- ifelse(colnames(seurObj_Treg) %in% WhichCells(seurObj_Treg, expression = CD45RA <20 & CD4 > 5 & CD8 <10, idents=c('3', '5', '6', '7')), \"SP_Treg_immature\", seurObj_Treg$anno_new4)\n",
    "seurObj_Treg$anno_new4 <- ifelse(colnames(seurObj_Treg) %in% WhichCells(seurObj_Treg, expression = CD1a <6 & CD4 > 5 & CD8 <10, idents=c('1','2', '4', '8')), \"SP_Treg_mature\", seurObj_Treg$anno_new4)\n",
    "seurObj_Treg$anno_new4 <- ifelse(colnames(seurObj_Treg) %in% WhichCells(seurObj_Treg, idents=c('9')), \"SP_Treg_CD8\", seurObj_Treg$anno_new4)\n",
    "seurObj_Treg$anno_new4 <- ifelse(colnames(seurObj_Treg) %in% WhichCells(seurObj_Treg, expression = CD1a <6 & CD8 <10 & CD279 > 15 & CD224 > 25, idents='1'), \"SP_Treg_PD1\", seurObj_Treg$anno_new4)\n",
    "seurObj_Treg$anno_new4 <- ifelse(colnames(seurObj_Treg) %in% WhichCells(seurObj_Treg, idents=c('10')), \"SP_Treg_recirc\", seurObj_Treg$anno_new4)"
   ]
  },
  {
   "cell_type": "code",
   "execution_count": null,
   "id": "66e9b8a6",
   "metadata": {
    "scrolled": false,
    "vscode": {
     "languageId": "r"
    }
   },
   "outputs": [],
   "source": [
    "options(repr.plot.width=16, repr.plot.height=8)\n",
    "FeatureScatter(seurObj_Treg, feature1 = 'CD4', feature2 = 'CD8', cols=pal12, group.by = 'anno_new4')+facet_wrap(~seurObj_Treg$clusters_Treg_adt, ncol=4)+theme_bw()\n",
    "FeatureScatter(seurObj_Treg, feature1 = 'CD45RA', feature2 = 'CD1a', cols=pal12, group.by = 'anno_new4')+facet_wrap(~seurObj_Treg$clusters_Treg_adt, ncol=4)+theme_bw()\n",
    "FeatureScatter(seurObj_Treg, feature1 = 'CD45RO', feature2 = 'CD1a', cols=pal12, group.by = 'anno_new4')+facet_wrap(~seurObj_Treg$clusters_Treg_adt, ncol=4)+theme_bw()\n",
    "FeatureScatter(seurObj_Treg, feature1 = 'CD27', feature2 = 'CD101', cols=pal12, group.by = 'anno_new4')+facet_wrap(~seurObj_Treg$clusters_Treg_adt, ncol=4)+theme_bw()\n",
    "FeatureScatter(seurObj_Treg, feature1 = 'CD25', feature2 = 'CD134', cols=pal12, group.by = 'anno_new4')+facet_wrap(~seurObj_Treg$clusters_Treg_adt, ncol=4)+theme_bw()\n",
    "FeatureScatter(seurObj_Treg, feature1 = 'CD4', feature2 = 'CD45RA', cols=pal12, group.by = 'anno_new4')+facet_wrap(~seurObj_Treg$clusters_Treg_adt, ncol=4)+theme_bw()\n"
   ]
  },
  {
   "cell_type": "code",
   "execution_count": null,
   "id": "708f7681",
   "metadata": {
    "scrolled": false,
    "vscode": {
     "languageId": "r"
    }
   },
   "outputs": [],
   "source": [
    "\n",
    "options(repr.plot.width=9, repr.plot.height=7)\n",
    "\n",
    "DimPlot(seurObj_Treg, reduction = 'umap_adt_Treg', group.by = 'anno_new4', cols=pal12)\n",
    "\n",
    "DimPlot(seurObj_Treg, reduction = 'umap_wnn_Treg', group.by = 'anno_new4', cols=pal12)\n",
    "\n",
    "DimPlot(seurObj_Treg, reduction = 'umap_wnn_Treg', group.by = 'anno_CITE_old', cols=pal24)\n"
   ]
  },
  {
   "cell_type": "code",
   "execution_count": null,
   "id": "c26456e4",
   "metadata": {
    "vscode": {
     "languageId": "r"
    }
   },
   "outputs": [],
   "source": [
    "options(repr.plot.width=12, repr.plot.height=8)\n",
    "\n",
    "df <- count(seurObj_Treg@meta.data, barcode, anno_CITE_old, anno_new4) %>%\n",
    "        mutate(id = row_number())%>%\n",
    "        pivot_longer(cols=2:3, names_to = 'version', values_to = 'celltype')\n",
    "\n",
    "df$version <- factor(df$version, level=c(\"anno_new4\", \"anno_CITE_old\"))\n",
    "\n",
    "ggplot(df, aes(x = version, y = n, \n",
    "                          stratum = celltype, fill = celltype,\n",
    "                          alluvium = id)) +\n",
    "  geom_stratum(alpha = .5) +\n",
    "  geom_flow()+\n",
    "  theme_minimal()+\n",
    "  scale_fill_manual(values = c(pal24))"
   ]
  },
  {
   "cell_type": "code",
   "execution_count": null,
   "id": "0341e541",
   "metadata": {
    "vscode": {
     "languageId": "r"
    }
   },
   "outputs": [],
   "source": [
    "seurObj_SP$anno_new[colnames(seurObj_SP) %in% colnames(seurObj_Treg)] <- seurObj_Treg$anno_new4"
   ]
  },
  {
   "cell_type": "code",
   "execution_count": null,
   "id": "859ab820",
   "metadata": {
    "scrolled": false,
    "vscode": {
     "languageId": "r"
    }
   },
   "outputs": [],
   "source": [
    "options(repr.plot.width=9, repr.plot.height=7)\n",
    "\n",
    "\n",
    "DimPlot(seurObj_SP, reduction = 'umap_wnn_SP', group.by = 'anno_new', cols=sample(pal24))\n"
   ]
  },
  {
   "cell_type": "code",
   "execution_count": null,
   "id": "fce31186",
   "metadata": {
    "vscode": {
     "languageId": "r"
    }
   },
   "outputs": [],
   "source": [
    "seurObj$anno_new[colnames(seurObj) %in% colnames(seurObj_Treg)] <- seurObj_Treg$anno_new4"
   ]
  },
  {
   "cell_type": "code",
   "execution_count": null,
   "id": "8b67f8e1",
   "metadata": {
    "vscode": {
     "languageId": "r"
    }
   },
   "outputs": [],
   "source": [
    "table(seurObj$anno_new)"
   ]
  },
  {
   "cell_type": "code",
   "execution_count": null,
   "id": "0ff0137d",
   "metadata": {
    "scrolled": false,
    "vscode": {
     "languageId": "r"
    }
   },
   "outputs": [],
   "source": [
    "options(repr.plot.width=12, repr.plot.height=8)\n",
    "\n",
    "DimPlot(seurObj, reduction = 'umap_wnn_mnn', group.by = 'anno_new', cols=sample(c(pal24, 'grey50')), shuffle=T, raster=F)"
   ]
  },
  {
   "cell_type": "markdown",
   "id": "60bd5695",
   "metadata": {},
   "source": [
    "### B/DCs\n",
    "\n",
    "These two cell types form a clearly distinct cluster. We can annotate DCs and B cells as a whole but due to the low coverage of these cell types we do not attempt to profile any subtypes."
   ]
  },
  {
   "cell_type": "code",
   "execution_count": null,
   "id": "842458fd",
   "metadata": {
    "scrolled": false,
    "vscode": {
     "languageId": "r"
    }
   },
   "outputs": [],
   "source": [
    "options(repr.plot.width=9, repr.plot.height=8)\n",
    "\n",
    "DimPlot(seurObj, reduction = 'umap_wnn_mnn', group.by = 'clusters_rough', cols=pal12, shuffle=T, raster=F)"
   ]
  },
  {
   "cell_type": "code",
   "execution_count": null,
   "id": "104e390d",
   "metadata": {
    "vscode": {
     "languageId": "r"
    }
   },
   "outputs": [],
   "source": [
    "options(repr.plot.width=9, repr.plot.height=8)\n",
    "FeatureScatter(subset(seurObj, subset=clusters_rough=='12'), feature1 = 'CD19', feature2 = 'CD4', group.by = 'anno_CITE_old')"
   ]
  },
  {
   "cell_type": "code",
   "execution_count": null,
   "id": "756002a3",
   "metadata": {
    "vscode": {
     "languageId": "r"
    }
   },
   "outputs": [],
   "source": [
    "Idents(seurObj) <- seurObj$clusters_rough"
   ]
  },
  {
   "cell_type": "code",
   "execution_count": null,
   "id": "7b827ccb",
   "metadata": {
    "vscode": {
     "languageId": "r"
    }
   },
   "outputs": [],
   "source": [
    "seurObj$anno_new <- ifelse(colnames(seurObj) %in% WhichCells(seurObj, expression = CD19 >20, idents=c('12')), \"B\", seurObj$anno_new)\n",
    "seurObj$anno_new <- ifelse(colnames(seurObj) %in% WhichCells(seurObj, expression = CD19 <15, idents=c('12')), \"DC\", seurObj$anno_new)\n"
   ]
  },
  {
   "cell_type": "code",
   "execution_count": null,
   "id": "d360bc4a",
   "metadata": {
    "scrolled": false,
    "vscode": {
     "languageId": "r"
    }
   },
   "outputs": [],
   "source": [
    "options(repr.plot.width=12, repr.plot.height=8)\n",
    "\n",
    "DimPlot(seurObj, reduction = 'umap_wnn_mnn', group.by = 'anno_new', cols=pal36, shuffle=T, raster=F)"
   ]
  },
  {
   "cell_type": "markdown",
   "id": "17ca0f21",
   "metadata": {},
   "source": [
    "### Innate(-like)\n",
    "\n",
    "The final cluster contains NK(T) cells, gd T cells and CD8aa IELs."
   ]
  },
  {
   "cell_type": "code",
   "execution_count": null,
   "id": "f86df10d",
   "metadata": {
    "vscode": {
     "languageId": "r"
    }
   },
   "outputs": [],
   "source": [
    "seurObj_innate <- subset(seurObj, subset=clusters_rough %in% c('10'))"
   ]
  },
  {
   "cell_type": "code",
   "execution_count": null,
   "id": "7d4c8414",
   "metadata": {
    "scrolled": true,
    "vscode": {
     "languageId": "r"
    }
   },
   "outputs": [],
   "source": [
    "seurObj_innate <- seurObj_innate  %>%\n",
    "            FindVariableFeatures(assay='ADTdsb') %>%\n",
    "            ScaleData(assay = 'ADTdsb') %>%\n",
    "            RunPCA(assay = 'ADTdsb', npcs = 50, reduction.name = 'pca_adt_innate')"
   ]
  },
  {
   "cell_type": "code",
   "execution_count": null,
   "id": "0afd839c",
   "metadata": {
    "scrolled": true,
    "vscode": {
     "languageId": "r"
    }
   },
   "outputs": [],
   "source": [
    "MNN <- reducedMNN(seurObj_innate@reductions$pca_adt_innate@cell.embeddings,\n",
    "                 batch=seurObj_innate$sample,\n",
    "                 BPPARAM=MulticoreParam(workers=12), #parallelisation\n",
    "                 BNPARAM=HnswParam())\n",
    "seurObj_innate[[\"mnn_adt_innate\"]] <- CreateDimReducObject(embeddings=MNN$corrected,\n",
    "                                        assay=\"ADTdsb\",\n",
    "                                        key=\"mnn_\")"
   ]
  },
  {
   "cell_type": "code",
   "execution_count": null,
   "id": "8bd14cdd",
   "metadata": {
    "scrolled": true,
    "vscode": {
     "languageId": "r"
    }
   },
   "outputs": [],
   "source": [
    "seurObj_innate <- seurObj_innate  %>%\n",
    "            FindVariableFeatures(assay='RNA') %>%\n",
    "            ScaleData(assay = 'RNA') %>%\n",
    "            RunPCA(assay = 'RNA', npcs = 50, reduction.name = 'pca_rna_innate')"
   ]
  },
  {
   "cell_type": "code",
   "execution_count": null,
   "id": "ce9448f3",
   "metadata": {
    "scrolled": true,
    "vscode": {
     "languageId": "r"
    }
   },
   "outputs": [],
   "source": [
    "MNN <- reducedMNN(seurObj_innate@reductions$pca_rna_innate@cell.embeddings,\n",
    "                 batch=seurObj_innate$sample,\n",
    "                 BPPARAM=MulticoreParam(workers=12), #parallelisation\n",
    "                 BNPARAM=HnswParam())\n",
    "seurObj_innate[[\"mnn_rna_innate\"]] <- CreateDimReducObject(embeddings=MNN$corrected,\n",
    "                                        assay=\"RNA\",\n",
    "                                        key=\"mnn_\")"
   ]
  },
  {
   "cell_type": "code",
   "execution_count": null,
   "id": "74ba9c4e",
   "metadata": {
    "vscode": {
     "languageId": "r"
    }
   },
   "outputs": [],
   "source": [
    "dim_adt <- PCcutoff(seurObj_innate@reductions$pca_adt_innate, 0.1)\n",
    "dim_adt\n",
    "\n",
    "dim_rna <- PCcutoff(seurObj_innate@reductions$pca_rna_innate, 0.1)\n",
    "dim_rna\n",
    "\n",
    "seurObj_innate <- FindMultiModalNeighbors(seurObj_innate,\n",
    "                                  reduction.list=list('mnn_adt_innate', 'mnn_rna_innate'),\n",
    "                                   dims.list=list(1:dim_adt,1:dim_rna))"
   ]
  },
  {
   "cell_type": "code",
   "execution_count": null,
   "id": "e9412576",
   "metadata": {
    "vscode": {
     "languageId": "r"
    }
   },
   "outputs": [],
   "source": [
    "seurObj_innate <- RunUMAP(seurObj_innate, nn.name = \"weighted.nn\", reduction.name = \"umap_wnn_innate\",\n",
    "                        reduction.key = \"wnnUMAP_\")"
   ]
  },
  {
   "cell_type": "code",
   "execution_count": null,
   "id": "d917153a",
   "metadata": {
    "vscode": {
     "languageId": "r"
    }
   },
   "outputs": [],
   "source": [
    "seurObj_SP <- RunSPCA(seurObj_SP, assay='RNA', graph='wsnn')"
   ]
  },
  {
   "cell_type": "code",
   "execution_count": null,
   "id": "4a886576",
   "metadata": {
    "scrolled": false,
    "vscode": {
     "languageId": "r"
    }
   },
   "outputs": [],
   "source": [
    "ptm <- proc.time()\n",
    "\n",
    "seurObj_innate <- FindNeighbors(seurObj_innate, graph.name = 'wsnn',reduction= 'spca', dims = 1:max(c(dim_adt, dim_rna)), assay='ADTdsb')\n",
    "seurObj_innate <- FindClusters(seurObj_innate, graph.name = 'wsnn', algorithm = 4, resolution = 1, random.seed = 123,\n",
    "                               method = 'igraph', cluster.name='clusters_innate')\n",
    "\n",
    "proc.time() - ptm"
   ]
  },
  {
   "cell_type": "code",
   "execution_count": null,
   "id": "fa946bfd",
   "metadata": {
    "scrolled": true,
    "vscode": {
     "languageId": "r"
    }
   },
   "outputs": [],
   "source": [
    "seurObj_innate <- RunUMAP(seurObj_innate, reduction = 'mnn_adt_innate', dims = 1:dim_adt, reduction.name = \"umap_adt_innate\",\n",
    "                        reduction.key = \"adtUMAP_\")"
   ]
  },
  {
   "cell_type": "code",
   "execution_count": null,
   "id": "602420ed",
   "metadata": {
    "scrolled": true,
    "vscode": {
     "languageId": "r"
    }
   },
   "outputs": [],
   "source": [
    "ptm <- proc.time()\n",
    "\n",
    "seurObj_innate <- FindNeighbors(seurObj_innate, reduction= 'mnn_adt_innate', dims=1:dim_adt, assay='ADTdsb')\n",
    "seurObj_innate <- FindClusters(seurObj_innate, algorithm = 4, resolution = 1, random.seed = 123,\n",
    "                             method = 'igraph', cluster.name='clusters_innate_adt')\n",
    "\n",
    "proc.time() - ptm"
   ]
  },
  {
   "cell_type": "code",
   "execution_count": null,
   "id": "0d95ca2f",
   "metadata": {
    "scrolled": false,
    "vscode": {
     "languageId": "r"
    }
   },
   "outputs": [],
   "source": [
    "options(repr.plot.width=8, repr.plot.height=7)\n",
    "\n",
    "DimPlot(seurObj_innate, reduction = 'umap_wnn_innate', group.by = 'clusters_innate', cols=pal12)\n",
    "\n",
    "DimPlot(seurObj_innate, reduction = 'umap_wnn_innate', group.by = 'clusters_innate_adt', cols=pal12)\n",
    "\n",
    "options(repr.plot.width=12, repr.plot.height=7)\n",
    "\n",
    "DimPlot(seurObj_innate, reduction = 'umap_wnn_innate', group.by = 'anno_CITE_old', cols=sample(pal36))\n"
   ]
  },
  {
   "cell_type": "markdown",
   "id": "5ebb6801",
   "metadata": {},
   "source": [
    "Remarkably, the separation of T/NK cells is much worse in the newly integrated UMAP. Nevertheless, there are some distinct markers that can be used to break apart the subset into distinct lineages."
   ]
  },
  {
   "cell_type": "code",
   "execution_count": null,
   "id": "6590ed85",
   "metadata": {
    "vscode": {
     "languageId": "r"
    }
   },
   "outputs": [],
   "source": [
    "table(seurObj_innate$anno_CITE_old, seurObj_innate$clusters_innate)"
   ]
  },
  {
   "cell_type": "code",
   "execution_count": null,
   "id": "f8a46d8f",
   "metadata": {
    "vscode": {
     "languageId": "r"
    }
   },
   "outputs": [],
   "source": [
    "table(seurObj_innate$anno_CITE_old, seurObj_innate$clusters_innate_adt)"
   ]
  },
  {
   "cell_type": "code",
   "execution_count": null,
   "id": "1f780fd4",
   "metadata": {
    "vscode": {
     "languageId": "r"
    }
   },
   "outputs": [],
   "source": [
    "options(repr.plot.width=20, repr.plot.height=8)\n",
    "\n",
    "FeatureScatter(seurObj_innate, feature1 = 'CD56', feature2 = 'CD3', group.by = \"anno_CITE_old\", cols=sample(pal36))+facet_wrap(~seurObj_innate$clusters_innate_adt, ncol=5)+theme_bw()\n",
    "FeatureScatter(seurObj_innate, feature1 = 'CD56', feature2 = 'CD16', group.by = \"anno_CITE_old\", cols=sample(pal36))+facet_wrap(~seurObj_innate$clusters_innate_adt, ncol=5)+theme_bw()\n",
    "FeatureScatter(seurObj_innate, feature1 = 'CD161', feature2 = 'CD3', group.by = \"anno_CITE_old\", cols=sample(pal36))+facet_wrap(~seurObj_innate$clusters_innate_adt, ncol=5)+theme_bw()"
   ]
  },
  {
   "cell_type": "markdown",
   "id": "1353f64c",
   "metadata": {},
   "source": [
    "Nk cells express CD56/CD16/CD161 but not CD3. All remaining cells are most likely CD8aa/gdT cells."
   ]
  },
  {
   "cell_type": "code",
   "execution_count": null,
   "id": "f97622b5",
   "metadata": {
    "vscode": {
     "languageId": "r"
    }
   },
   "outputs": [],
   "source": [
    "seurObj_NK <- subset(seurObj_innate, subset=clusters_innate_adt %in% c('1', '4', '6', '10') & CD3 <8 & (CD56 >35 | CD16 >20 | CD161 > 15))\n",
    "seurObj_aagd <- subset(seurObj_innate, cells = colnames(seurObj_NK), invert=T)"
   ]
  },
  {
   "cell_type": "code",
   "execution_count": null,
   "id": "5ccd5741",
   "metadata": {
    "scrolled": false,
    "vscode": {
     "languageId": "r"
    }
   },
   "outputs": [],
   "source": [
    "options(repr.plot.width=8, repr.plot.height=7)\n",
    "\n",
    "DimPlot(seurObj_innate, reduction = 'umap_wnn_innate', cells.highlight = colnames(seurObj_NK))\n",
    "\n",
    "DimPlot(seurObj, reduction = 'umap_wnn_mnn', cells.highlight = colnames(seurObj_NK))\n",
    "DimPlot(seurObj, reduction = 'umap_wnn_mnn', cells.highlight = colnames(seurObj_aagd))"
   ]
  },
  {
   "cell_type": "markdown",
   "id": "16ba4a4a",
   "metadata": {},
   "source": [
    "While the selection in the integrated UMAP is quite scattered, it clearly identifies the NK protrusion in the full UMAP."
   ]
  },
  {
   "cell_type": "markdown",
   "id": "deed7c4f",
   "metadata": {},
   "source": [
    "#### NK"
   ]
  },
  {
   "cell_type": "code",
   "execution_count": null,
   "id": "d7673c97",
   "metadata": {
    "scrolled": true,
    "vscode": {
     "languageId": "r"
    }
   },
   "outputs": [],
   "source": [
    "seurObj_NK <- seurObj_NK  %>%\n",
    "            FindVariableFeatures(assay='ADTdsb') %>%\n",
    "            ScaleData(assay = 'ADTdsb') %>%\n",
    "            RunPCA(assay = 'ADTdsb', npcs = 50, reduction.name = 'pca_adt_NK')"
   ]
  },
  {
   "cell_type": "code",
   "execution_count": null,
   "id": "edb10012",
   "metadata": {
    "scrolled": true,
    "vscode": {
     "languageId": "r"
    }
   },
   "outputs": [],
   "source": [
    "MNN <- reducedMNN(seurObj_NK@reductions$pca_adt_NK@cell.embeddings,\n",
    "                 batch=seurObj_NK$sample,\n",
    "                 BPPARAM=MulticoreParam(workers=12), #parallelisation\n",
    "                 BNPARAM=HnswParam())\n",
    "seurObj_NK[[\"mnn_adt_NK\"]] <- CreateDimReducObject(embeddings=MNN$corrected,\n",
    "                                        assay=\"ADTdsb\",\n",
    "                                        key=\"mnn_\")"
   ]
  },
  {
   "cell_type": "code",
   "execution_count": null,
   "id": "550a1a6a",
   "metadata": {
    "scrolled": true,
    "vscode": {
     "languageId": "r"
    }
   },
   "outputs": [],
   "source": [
    "seurObj_NK <- seurObj_NK  %>%\n",
    "            FindVariableFeatures(assay='RNA') %>%\n",
    "            ScaleData(assay = 'RNA') %>%\n",
    "            RunPCA(assay = 'RNA', npcs = 50, reduction.name = 'pca_rna_NK')"
   ]
  },
  {
   "cell_type": "code",
   "execution_count": null,
   "id": "7eaccad3",
   "metadata": {
    "scrolled": true,
    "vscode": {
     "languageId": "r"
    }
   },
   "outputs": [],
   "source": [
    "MNN <- reducedMNN(seurObj_NK@reductions$pca_rna_NK@cell.embeddings,\n",
    "                 batch=seurObj_NK$sample,\n",
    "                 BPPARAM=MulticoreParam(workers=12), #parallelisation\n",
    "                 BNPARAM=HnswParam())\n",
    "seurObj_NK[[\"mnn_rna_NK\"]] <- CreateDimReducObject(embeddings=MNN$corrected,\n",
    "                                        assay=\"RNA\",\n",
    "                                        key=\"mnn_\")"
   ]
  },
  {
   "cell_type": "code",
   "execution_count": null,
   "id": "9a33eb0a",
   "metadata": {
    "vscode": {
     "languageId": "r"
    }
   },
   "outputs": [],
   "source": [
    "dim_adt <- PCcutoff(seurObj_NK@reductions$pca_adt_NK, 0.1)\n",
    "dim_adt\n",
    "\n",
    "dim_rna <- PCcutoff(seurObj_NK@reductions$pca_rna_NK, 0.1)\n",
    "dim_rna\n",
    "\n",
    "seurObj_NK <- FindMultiModalNeighbors(seurObj_NK,\n",
    "                                  reduction.list=list('mnn_adt_NK', 'mnn_rna_NK'),\n",
    "                                   dims.list=list(1:dim_adt,1:dim_rna))"
   ]
  },
  {
   "cell_type": "code",
   "execution_count": null,
   "id": "61d09174",
   "metadata": {
    "vscode": {
     "languageId": "r"
    }
   },
   "outputs": [],
   "source": [
    "seurObj_NK <- RunUMAP(seurObj_NK, nn.name = \"weighted.nn\", reduction.name = \"umap_wnn_NK\",\n",
    "                        reduction.key = \"wnnUMAP_\")"
   ]
  },
  {
   "cell_type": "code",
   "execution_count": null,
   "id": "fbe7a238",
   "metadata": {
    "vscode": {
     "languageId": "r"
    }
   },
   "outputs": [],
   "source": [
    "seurObj_NK <- RunSPCA(seurObj_NK, assay='RNA', graph='wsnn')"
   ]
  },
  {
   "cell_type": "code",
   "execution_count": null,
   "id": "280431a0",
   "metadata": {
    "scrolled": false,
    "vscode": {
     "languageId": "r"
    }
   },
   "outputs": [],
   "source": [
    "ptm <- proc.time()\n",
    "\n",
    "seurObj_NK <- FindNeighbors(seurObj_NK, graph.name = 'wsnn',reduction= 'spca', dims = 1:max(c(dim_adt, dim_rna)), assay='ADTdsb')\n",
    "seurObj_NK <- FindClusters(seurObj_NK, graph.name = 'wsnn', algorithm = 4, resolution = 1, random.seed = 123,\n",
    "                               method = 'igraph', cluster.name='clusters_NK')\n",
    "\n",
    "proc.time() - ptm"
   ]
  },
  {
   "cell_type": "code",
   "execution_count": null,
   "id": "43ba22e9",
   "metadata": {
    "scrolled": true,
    "vscode": {
     "languageId": "r"
    }
   },
   "outputs": [],
   "source": [
    "seurObj_NK <- RunUMAP(seurObj_NK, reduction = 'mnn_adt_NK', dims = 1:dim_adt, reduction.name = \"umap_adt_NK\",\n",
    "                        reduction.key = \"adtUMAP_\")"
   ]
  },
  {
   "cell_type": "code",
   "execution_count": null,
   "id": "9d0fca8a",
   "metadata": {
    "scrolled": true,
    "vscode": {
     "languageId": "r"
    }
   },
   "outputs": [],
   "source": [
    "ptm <- proc.time()\n",
    "\n",
    "seurObj_NK <- FindNeighbors(seurObj_NK, reduction= 'mnn_adt_NK', dims=1:dim_adt, assay='ADTdsb')\n",
    "seurObj_NK <- FindClusters(seurObj_NK, algorithm = 4, resolution = 1, random.seed = 123,\n",
    "                             method = 'igraph', cluster.name='clusters_NK_adt')\n",
    "\n",
    "proc.time() - ptm"
   ]
  },
  {
   "cell_type": "code",
   "execution_count": null,
   "id": "7d5ebb6e",
   "metadata": {
    "scrolled": false,
    "vscode": {
     "languageId": "r"
    }
   },
   "outputs": [],
   "source": [
    "options(repr.plot.width=8, repr.plot.height=7)\n",
    "\n",
    "DimPlot(seurObj_NK, reduction = 'umap_wnn_NK', group.by = 'clusters_NK', cols=pal12)\n",
    "\n",
    "DimPlot(seurObj_NK, reduction = 'umap_adt_NK', group.by = 'clusters_NK_adt', cols=pal12)\n",
    "\n",
    "options(repr.plot.width=10, repr.plot.height=7)\n",
    "\n",
    "DimPlot(seurObj_NK, reduction = 'umap_wnn_NK', group.by = 'anno_CITE_old', cols=pal12)\n",
    "DimPlot(seurObj_NK, reduction = 'umap_adt_NK', group.by = 'anno_CITE_old', cols=pal12)\n"
   ]
  },
  {
   "cell_type": "code",
   "execution_count": null,
   "id": "512a41db",
   "metadata": {
    "vscode": {
     "languageId": "r"
    }
   },
   "outputs": [],
   "source": [
    "options(repr.plot.width=18, repr.plot.height=4)\n",
    "VlnPlot(seurObj_NK, features=c('CD3', 'TCRab', 'TCR-Vd2', 'CD28', 'CD4', 'CD8'), cols=pal12, group.by = 'clusters_NK', ncol=6)\n",
    "VlnPlot(seurObj_NK, features=c('CD3', 'TCRab', 'TCR-Vd2', 'CD28', 'CD4', 'CD8'), cols=pal12, group.by = 'clusters_NK_adt', ncol=6)"
   ]
  },
  {
   "cell_type": "code",
   "execution_count": null,
   "id": "69014a67",
   "metadata": {
    "vscode": {
     "languageId": "r"
    }
   },
   "outputs": [],
   "source": [
    "table(seurObj_NK$anno_CITE_old, seurObj_NK$clusters_NK_adt)"
   ]
  },
  {
   "cell_type": "markdown",
   "id": "45016ca6",
   "metadata": {},
   "source": [
    "adt cluster 4 are NKTdev, cl5 are 56lo16hi, cl3 are 56hi16lo, 1+2 are tissue resident."
   ]
  },
  {
   "cell_type": "code",
   "execution_count": null,
   "id": "4db1ff92",
   "metadata": {
    "vscode": {
     "languageId": "r"
    }
   },
   "outputs": [],
   "source": [
    "markers_NK <- c('CD11b', 'CD11c','CD122', 'CD158b', 'CD16', 'CD103', 'CD161','CD172a', 'CD195','CD224', 'CD226', 'CD244', 'CD26', 'CD27','CD314', 'CD328', 'CD335', 'CD352', 'CD38', 'CD39', 'CD49a', 'CD56', 'CD62L', 'CD71', 'CD94', 'CX3CR1', 'GPR56', 'Integrin-B7', 'KLRG1', 'TIGIT', 'CD183', 'CD69', 'CD85j', 'CD2', 'CD57')"
   ]
  },
  {
   "cell_type": "code",
   "execution_count": null,
   "id": "33a3c3aa",
   "metadata": {
    "vscode": {
     "languageId": "r"
    }
   },
   "outputs": [],
   "source": [
    "options(repr.plot.width=18, repr.plot.height=20)\n",
    "\n",
    "VlnPlot(seurObj_NK, features=sort(markers_NK), group.by = 'clusters_NK_adt', ncol=6, cols=pal12)"
   ]
  },
  {
   "cell_type": "code",
   "execution_count": null,
   "id": "ea3f97e5",
   "metadata": {
    "vscode": {
     "languageId": "r"
    }
   },
   "outputs": [],
   "source": [
    "options(repr.plot.width=20, repr.plot.height=4)\n",
    "\n",
    "FeatureScatter(seurObj_NK, feature1 = 'CD56', feature2 = 'CD16', group.by = 'anno_CITE_old', cols=pal12)+facet_wrap(~seurObj_NK$clusters_NK_adt, ncol=5)+theme_bw()\n",
    "FeatureScatter(seurObj_NK, feature1 = 'Integrin-B7', feature2 = 'CD103', group.by = 'anno_CITE_old', cols=pal12)+facet_wrap(~seurObj_NK$clusters_NK_adt, ncol=5)+theme_bw()\n",
    "FeatureScatter(seurObj_NK, feature1 = 'CD49a', feature2 = 'CD103', group.by = 'anno_CITE_old', cols=pal12)+facet_wrap(~seurObj_NK$clusters_NK_adt, ncol=5)+theme_bw()"
   ]
  },
  {
   "cell_type": "markdown",
   "id": "0c0f337f",
   "metadata": {},
   "source": [
    "In the previous marker-search analysis we had identified clear subsets of CD56hi16lo and CD56loCD16hi circulating NK cells as well as integrin hi/lo tissue resident NK cells and developing NKT cells. The new analysis reproduces these findings and allows us to annotate the cells accordingly."
   ]
  },
  {
   "cell_type": "code",
   "execution_count": null,
   "id": "653a821f",
   "metadata": {
    "vscode": {
     "languageId": "r"
    }
   },
   "outputs": [],
   "source": [
    "seurObj_NK$anno_new4 <- 'unknown'\n",
    "seurObj_NK$anno_new4 <- ifelse(colnames(seurObj_NK) %in% WhichCells(seurObj_NK, expression = (CD103 < 30 | `Integrin-B7` <15) & CD3 <4, idents = c('1', '2')), \"NK_tr_itg_lo\", seurObj_NK$anno_new4)\n",
    "seurObj_NK$anno_new4 <- ifelse(colnames(seurObj_NK) %in% WhichCells(seurObj_NK, expression = CD103 > 30 & `Integrin-B7` >15 & CD3 <4, idents = c('1', '2')), \"NK_tr_itg_hi\", seurObj_NK$anno_new4)\n",
    "seurObj_NK$anno_new4 <- ifelse(colnames(seurObj_NK) %in% WhichCells(seurObj_NK, expression = CD56 > 30 & CD16 < 40, idents = c('3')), \"NK_circ_56hi16lo\", seurObj_NK$anno_new4)\n",
    "seurObj_NK$anno_new4 <- ifelse(colnames(seurObj_NK) %in% WhichCells(seurObj_NK, expression = CD16 >40 , idents = c('5')), \"NK_circ_56lo16hi\", seurObj_NK$anno_new4)\n",
    "seurObj_NK$anno_new4 <- ifelse(colnames(seurObj_NK) %in% WhichCells(seurObj_NK, idents = c('4')), \"NKT_dev\", seurObj_NK$anno_new4)"
   ]
  },
  {
   "cell_type": "code",
   "execution_count": null,
   "id": "8d3256e2",
   "metadata": {
    "vscode": {
     "languageId": "r"
    }
   },
   "outputs": [],
   "source": [
    "options(repr.plot.width=8, repr.plot.height=7)\n",
    "\n",
    "\n",
    "DimPlot(seurObj_NK, reduction = 'umap_adt_NK', group.by = 'anno_new4', cols=pal12)"
   ]
  },
  {
   "cell_type": "code",
   "execution_count": null,
   "id": "78a2c5bc",
   "metadata": {
    "vscode": {
     "languageId": "r"
    }
   },
   "outputs": [],
   "source": [
    "table(seurObj_NK$anno_CITE_old, seurObj_NK$anno_new4)"
   ]
  },
  {
   "cell_type": "code",
   "execution_count": null,
   "id": "6d88bbe4",
   "metadata": {
    "vscode": {
     "languageId": "r"
    }
   },
   "outputs": [],
   "source": [
    "options(repr.plot.width=12, repr.plot.height=8)\n",
    "\n",
    "df <- count(seurObj_NK@meta.data, barcode, anno_CITE_old, anno_new4) %>%\n",
    "        mutate(id = row_number())%>%\n",
    "        pivot_longer(cols=2:3, names_to = 'version', values_to = 'celltype')\n",
    "\n",
    "ggplot(df, aes(x = version, y = n, \n",
    "                          stratum = celltype, fill = celltype,\n",
    "                          alluvium = id)) +\n",
    "  geom_stratum(alpha = .5) +\n",
    "  geom_flow()+\n",
    "  theme_minimal()+\n",
    "  scale_fill_manual(values = c(pal12, 'grey30'))"
   ]
  },
  {
   "cell_type": "code",
   "execution_count": null,
   "id": "598ef29a",
   "metadata": {
    "vscode": {
     "languageId": "r"
    }
   },
   "outputs": [],
   "source": [
    "seurObj$anno_new[colnames(seurObj) %in% colnames(seurObj_NK)] <- seurObj_NK$anno_new4"
   ]
  },
  {
   "cell_type": "markdown",
   "id": "addf3c39",
   "metadata": {},
   "source": [
    "#### CD8aa/gdT\n",
    "\n",
    "CD8aa and gdT cells are relatively similar both on RNA an surface marker level and since the gdTCR antibody does not work reliably, it is difficult to separate the subsets just based on surface marker thresholds."
   ]
  },
  {
   "cell_type": "code",
   "execution_count": null,
   "id": "f9d89e83",
   "metadata": {
    "scrolled": true,
    "vscode": {
     "languageId": "r"
    }
   },
   "outputs": [],
   "source": [
    "seurObj_aagd <- seurObj_aagd  %>%\n",
    "            FindVariableFeatures(assay='ADTdsb') %>%\n",
    "            ScaleData(assay = 'ADTdsb') %>%\n",
    "            RunPCA(assay = 'ADTdsb', npcs = 50, reduction.name = 'pca_adt_aagd')"
   ]
  },
  {
   "cell_type": "code",
   "execution_count": null,
   "id": "f729a55d",
   "metadata": {
    "scrolled": true,
    "vscode": {
     "languageId": "r"
    }
   },
   "outputs": [],
   "source": [
    "MNN <- reducedMNN(seurObj_aagd@reductions$pca_adt_aagd@cell.embeddings,\n",
    "                 batch=seurObj_aagd$sample,\n",
    "                 BPPARAM=MulticoreParam(workers=12), #parallelisation\n",
    "                 BNPARAM=HnswParam())\n",
    "seurObj_aagd[[\"mnn_adt_aagd\"]] <- CreateDimReducObject(embeddings=MNN$corrected,\n",
    "                                        assay=\"ADTdsb\",\n",
    "                                        key=\"mnn_\")"
   ]
  },
  {
   "cell_type": "code",
   "execution_count": null,
   "id": "196954d7",
   "metadata": {
    "scrolled": true,
    "vscode": {
     "languageId": "r"
    }
   },
   "outputs": [],
   "source": [
    "seurObj_aagd <- seurObj_aagd  %>%\n",
    "            FindVariableFeatures(assay='RNA') %>%\n",
    "            ScaleData(assay = 'RNA') %>%\n",
    "            RunPCA(assay = 'RNA', npcs = 50, reduction.name = 'pca_rna_aagd')"
   ]
  },
  {
   "cell_type": "code",
   "execution_count": null,
   "id": "19e58139",
   "metadata": {
    "scrolled": true,
    "vscode": {
     "languageId": "r"
    }
   },
   "outputs": [],
   "source": [
    "MNN <- reducedMNN(seurObj_aagd@reductions$pca_rna_aagd@cell.embeddings,\n",
    "                 batch=seurObj_aagd$sample,\n",
    "                 BPPARAM=MulticoreParam(workers=12), #parallelisation\n",
    "                 BNPARAM=HnswParam())\n",
    "seurObj_aagd[[\"mnn_rna_aagd\"]] <- CreateDimReducObject(embeddings=MNN$corrected,\n",
    "                                        assay=\"RNA\",\n",
    "                                        key=\"mnn_\")"
   ]
  },
  {
   "cell_type": "code",
   "execution_count": null,
   "id": "eaa64cc1",
   "metadata": {
    "vscode": {
     "languageId": "r"
    }
   },
   "outputs": [],
   "source": [
    "dim_adt <- PCcutoff(seurObj_aagd@reductions$pca_adt_aagd, 0.1)\n",
    "dim_adt\n",
    "\n",
    "dim_rna <- PCcutoff(seurObj_aagd@reductions$pca_rna_aagd, 0.1)\n",
    "dim_rna\n",
    "\n",
    "seurObj_aagd <- FindMultiModalNeighbors(seurObj_aagd,\n",
    "                                  reduction.list=list('mnn_adt_aagd', 'mnn_rna_aagd'),\n",
    "                                   dims.list=list(1:dim_adt,1:dim_rna))"
   ]
  },
  {
   "cell_type": "code",
   "execution_count": null,
   "id": "2bd16c4a",
   "metadata": {
    "vscode": {
     "languageId": "r"
    }
   },
   "outputs": [],
   "source": [
    "seurObj_aagd <- RunUMAP(seurObj_aagd, nn.name = \"weighted.nn\", reduction.name = \"umap_wnn_aagd\",\n",
    "                        reduction.key = \"wnnUMAP_\")"
   ]
  },
  {
   "cell_type": "code",
   "execution_count": null,
   "id": "99e5a271",
   "metadata": {
    "vscode": {
     "languageId": "r"
    }
   },
   "outputs": [],
   "source": [
    "seurObj_aagd <- RunSPCA(seurObj_aagd, assay='RNA', graph='wsnn')"
   ]
  },
  {
   "cell_type": "code",
   "execution_count": null,
   "id": "eb04ea03",
   "metadata": {
    "scrolled": false,
    "vscode": {
     "languageId": "r"
    }
   },
   "outputs": [],
   "source": [
    "ptm <- proc.time()\n",
    "\n",
    "seurObj_aagd <- FindNeighbors(seurObj_aagd, graph.name = 'wsnn',reduction= 'spca', dims = 1:max(c(dim_adt, dim_rna)), assay='ADTdsb')\n",
    "seurObj_aagd <- FindClusters(seurObj_aagd, graph.name = 'wsnn', algorithm = 4, resolution = 1, random.seed = 123,\n",
    "                               method = 'igraph', cluster.name='clusters_aagd')\n",
    "\n",
    "proc.time() - ptm"
   ]
  },
  {
   "cell_type": "code",
   "execution_count": null,
   "id": "1f01734c",
   "metadata": {
    "scrolled": true,
    "vscode": {
     "languageId": "r"
    }
   },
   "outputs": [],
   "source": [
    "seurObj_aagd <- RunUMAP(seurObj_aagd, reduction = 'mnn_adt_aagd', dims = 1:dim_adt, reduction.name = \"umap_adt_aagd\",\n",
    "                        reduction.key = \"adtUMAP_\")"
   ]
  },
  {
   "cell_type": "code",
   "execution_count": null,
   "id": "dca0a6fd",
   "metadata": {
    "scrolled": true,
    "vscode": {
     "languageId": "r"
    }
   },
   "outputs": [],
   "source": [
    "ptm <- proc.time()\n",
    "\n",
    "seurObj_aagd <- FindNeighbors(seurObj_aagd, reduction= 'mnn_adt_aagd', dims=1:dim_adt, assay='ADTdsb')\n",
    "seurObj_aagd <- FindClusters(seurObj_aagd, algorithm = 4, resolution = 1, random.seed = 123,\n",
    "                             method = 'igraph', cluster.name='clusters_aagd_adt')\n",
    "\n",
    "proc.time() - ptm"
   ]
  },
  {
   "cell_type": "code",
   "execution_count": null,
   "id": "5daf3919",
   "metadata": {
    "scrolled": false,
    "vscode": {
     "languageId": "r"
    }
   },
   "outputs": [],
   "source": [
    "options(repr.plot.width=8, repr.plot.height=7)\n",
    "\n",
    "DimPlot(seurObj_aagd, reduction = 'umap_wnn_aagd', group.by = 'clusters_aagd', cols=pal24)\n",
    "\n",
    "DimPlot(seurObj_aagd, reduction = 'umap_adt_aagd', group.by = 'clusters_aagd_adt', cols=pal24)\n",
    "\n",
    "options(repr.plot.width=12, repr.plot.height=7)\n",
    "\n",
    "DimPlot(seurObj_aagd, reduction = 'umap_wnn_aagd', group.by = 'anno_CITE_old', cols=pal36)\n",
    "DimPlot(seurObj_aagd, reduction = 'umap_adt_aagd', group.by = 'anno_CITE_old', cols=pal36)\n"
   ]
  },
  {
   "cell_type": "code",
   "execution_count": null,
   "id": "f3cfeb0a",
   "metadata": {
    "vscode": {
     "languageId": "r"
    }
   },
   "outputs": [],
   "source": [
    "table(seurObj_aagd$anno_CITE_old, seurObj_aagd$clusters_aagd)"
   ]
  },
  {
   "cell_type": "code",
   "execution_count": null,
   "id": "4deec50a",
   "metadata": {
    "scrolled": false,
    "vscode": {
     "languageId": "r"
    }
   },
   "outputs": [],
   "source": [
    "options(repr.plot.width=20, repr.plot.height=20)\n",
    "\n",
    "VlnPlot(seurObj_aagd, group.by = 'clusters_aagd', features = c('TCRgd', 'TCR-Vd2', 'CD62L', 'CD21', 'CD226', 'CD146', 'CD3', 'CD224', 'CD1a', 'CD1c', 'CD73', 'CD244', 'CD54', 'CD44', 'CD31','CD122', 'CD56','Integrin-B7', 'CD27', 'CD10', 'CD49f', 'CD11c', 'CD103', 'CD172a', 'CD4','CD8', 'CD34', 'CD24', 'TCRab'), pt.size = 0.001, ncol=5, cols=pal24)\n",
    "\n",
    "options(repr.plot.width=16, repr.plot.height=8)\n",
    "\n",
    "VlnPlot(seurObj_aagd, group.by = 'clusters_aagd', features = c('KLF2', 'S1PR1','TRDC', 'TRBC2', 'TRAC', 'TRGC1', 'TRGC2', 'RAG2', 'CD8A', 'CD8B'), pt.size = 0.001, ncol=5, cols=pal24, assay='RNA')"
   ]
  },
  {
   "cell_type": "code",
   "execution_count": null,
   "id": "1111a135",
   "metadata": {
    "vscode": {
     "languageId": "r"
    }
   },
   "outputs": [],
   "source": [
    "options(repr.plot.width=20, repr.plot.height=10)\n",
    "\n",
    "FeatureScatter(seurObj_aagd, feature1 = 'TCRab', feature2 = 'CD3', group.by = 'anno_CITE_old', cols=pal36)+facet_wrap(~seurObj_aagd$clusters_aagd, ncol=5)+theme_bw()\n",
    "FeatureScatter(seurObj_aagd, feature1 = 'TCRgd', feature2 = 'CD8', group.by = 'anno_CITE_old', cols=pal36)+facet_wrap(~seurObj_aagd$clusters_aagd, ncol=5)+theme_bw()\n",
    "FeatureScatter(seurObj_aagd, feature1 = 'TCR-Vd2', feature2 = 'CD8', group.by = 'anno_CITE_old', cols=pal36)+facet_wrap(~seurObj_aagd$clusters_aagd, ncol=5)+theme_bw()"
   ]
  },
  {
   "cell_type": "markdown",
   "id": "2d1a88db",
   "metadata": {},
   "source": [
    "Based on the expression of CD8 and TCR we can identify clusters associated with CD8aas, gdT cells, and a Vd2/CD8memory mixed cluster."
   ]
  },
  {
   "cell_type": "code",
   "execution_count": null,
   "id": "aa058ca4",
   "metadata": {
    "vscode": {
     "languageId": "r"
    }
   },
   "outputs": [],
   "source": [
    "seurObj_gdT <- subset(seurObj_aagd, subset= TCRab <7 & clusters_aagd %in% c('6', '9', '10'))\n",
    "seurObj_8aa <- subset(seurObj_aagd, subset= TCRgd <10 & CD8 > 5 & clusters_aagd %in% c('1', '2', '3', '4', '5', '8', '11', '12', '13'))\n",
    "                      "
   ]
  },
  {
   "cell_type": "code",
   "execution_count": null,
   "id": "c7db5fc0",
   "metadata": {
    "scrolled": true,
    "vscode": {
     "languageId": "r"
    }
   },
   "outputs": [],
   "source": [
    "seurObj_gdT <- seurObj_gdT  %>%\n",
    "            FindVariableFeatures(assay='ADTdsb') %>%\n",
    "            ScaleData(assay = 'ADTdsb') %>%\n",
    "            RunPCA(assay = 'ADTdsb', npcs = 50, reduction.name = 'pca_adt_gdT')"
   ]
  },
  {
   "cell_type": "code",
   "execution_count": null,
   "id": "85669752",
   "metadata": {
    "scrolled": true,
    "vscode": {
     "languageId": "r"
    }
   },
   "outputs": [],
   "source": [
    "MNN <- reducedMNN(seurObj_gdT@reductions$pca_adt_gdT@cell.embeddings,\n",
    "                 batch=seurObj_gdT$sample,\n",
    "                 BPPARAM=MulticoreParam(workers=12), #parallelisation\n",
    "                 BNPARAM=HnswParam())\n",
    "seurObj_gdT[[\"mnn_adt_gdT\"]] <- CreateDimReducObject(embeddings=MNN$corrected,\n",
    "                                        assay=\"ADTdsb\",\n",
    "                                        key=\"mnn_\")"
   ]
  },
  {
   "cell_type": "code",
   "execution_count": null,
   "id": "cb809cc9",
   "metadata": {
    "scrolled": true,
    "vscode": {
     "languageId": "r"
    }
   },
   "outputs": [],
   "source": [
    "seurObj_gdT <- seurObj_gdT  %>%\n",
    "            FindVariableFeatures(assay='RNA') %>%\n",
    "            ScaleData(assay = 'RNA') %>%\n",
    "            RunPCA(assay = 'RNA', npcs = 50, reduction.name = 'pca_rna_gdT')"
   ]
  },
  {
   "cell_type": "code",
   "execution_count": null,
   "id": "ee2a7f0e",
   "metadata": {
    "scrolled": true,
    "vscode": {
     "languageId": "r"
    }
   },
   "outputs": [],
   "source": [
    "MNN <- reducedMNN(seurObj_gdT@reductions$pca_rna_gdT@cell.embeddings,\n",
    "                 batch=seurObj_gdT$sample,\n",
    "                 BPPARAM=MulticoreParam(workers=12), #parallelisation\n",
    "                 BNPARAM=HnswParam())\n",
    "seurObj_gdT[[\"mnn_rna_gdT\"]] <- CreateDimReducObject(embeddings=MNN$corrected,\n",
    "                                        assay=\"RNA\",\n",
    "                                        key=\"mnn_\")"
   ]
  },
  {
   "cell_type": "code",
   "execution_count": null,
   "id": "ddd2d665",
   "metadata": {
    "vscode": {
     "languageId": "r"
    }
   },
   "outputs": [],
   "source": [
    "dim_adt <- PCcutoff(seurObj_gdT@reductions$pca_adt_gdT, 0.1)\n",
    "dim_adt\n",
    "\n",
    "dim_rna <- PCcutoff(seurObj_gdT@reductions$pca_rna_gdT, 0.1)\n",
    "dim_rna\n",
    "\n",
    "seurObj_gdT <- FindMultiModalNeighbors(seurObj_gdT,\n",
    "                                  reduction.list=list('mnn_adt_gdT', 'mnn_rna_gdT'),\n",
    "                                   dims.list=list(1:dim_adt,1:dim_rna))"
   ]
  },
  {
   "cell_type": "code",
   "execution_count": null,
   "id": "2b8daf3b",
   "metadata": {
    "vscode": {
     "languageId": "r"
    }
   },
   "outputs": [],
   "source": [
    "seurObj_gdT <- RunUMAP(seurObj_gdT, nn.name = \"weighted.nn\", reduction.name = \"umap_wnn_gdT\",\n",
    "                        reduction.key = \"wnnUMAP_\")"
   ]
  },
  {
   "cell_type": "code",
   "execution_count": null,
   "id": "d1e5afc2",
   "metadata": {
    "vscode": {
     "languageId": "r"
    }
   },
   "outputs": [],
   "source": [
    "seurObj_gdT <- RunSPCA(seurObj_gdT, assay='RNA', graph='wsnn')"
   ]
  },
  {
   "cell_type": "code",
   "execution_count": null,
   "id": "f6b320de",
   "metadata": {
    "scrolled": false,
    "vscode": {
     "languageId": "r"
    }
   },
   "outputs": [],
   "source": [
    "ptm <- proc.time()\n",
    "\n",
    "seurObj_gdT <- FindNeighbors(seurObj_gdT, graph.name = 'wsnn',reduction= 'spca', dims = 1:max(c(dim_adt, dim_rna)), assay='ADTdsb')\n",
    "seurObj_gdT <- FindClusters(seurObj_gdT, graph.name = 'wsnn', algorithm = 4, resolution = 1, random.seed = 123,\n",
    "                               method = 'igraph', cluster.name='clusters_gdT')\n",
    "\n",
    "proc.time() - ptm"
   ]
  },
  {
   "cell_type": "code",
   "execution_count": null,
   "id": "def13163",
   "metadata": {
    "scrolled": true,
    "vscode": {
     "languageId": "r"
    }
   },
   "outputs": [],
   "source": [
    "seurObj_gdT <- RunUMAP(seurObj_gdT, reduction = 'mnn_adt_gdT', dims = 1:dim_adt, reduction.name = \"umap_adt_gdT\",\n",
    "                        reduction.key = \"adtUMAP_\")"
   ]
  },
  {
   "cell_type": "code",
   "execution_count": null,
   "id": "d75ca551",
   "metadata": {
    "scrolled": true,
    "vscode": {
     "languageId": "r"
    }
   },
   "outputs": [],
   "source": [
    "ptm <- proc.time()\n",
    "\n",
    "seurObj_gdT <- FindNeighbors(seurObj_gdT, reduction= 'mnn_adt_gdT', dims=1:dim_adt, assay='ADTdsb')\n",
    "seurObj_gdT <- FindClusters(seurObj_gdT, algorithm = 4, resolution = 1.5, random.seed = 123,\n",
    "                             method = 'igraph', cluster.name='clusters_gdT_adt')\n",
    "\n",
    "proc.time() - ptm"
   ]
  },
  {
   "cell_type": "code",
   "execution_count": null,
   "id": "b029bf1c",
   "metadata": {
    "scrolled": false,
    "vscode": {
     "languageId": "r"
    }
   },
   "outputs": [],
   "source": [
    "options(repr.plot.width=8, repr.plot.height=7)\n",
    "\n",
    "DimPlot(seurObj_gdT, reduction = 'umap_wnn_gdT', group.by = 'clusters_gdT', cols=pal12)\n",
    "\n",
    "DimPlot(seurObj_gdT, reduction = 'umap_adt_gdT', group.by = 'clusters_gdT_adt', cols=pal12)\n",
    "\n",
    "options(repr.plot.width=10, repr.plot.height=7)\n",
    "\n",
    "DimPlot(seurObj_gdT, reduction = 'umap_wnn_gdT', group.by = 'anno_CITE_old', cols=pal24)\n",
    "DimPlot(seurObj_gdT, reduction = 'umap_adt_gdT', group.by = 'anno_CITE_old', cols=pal24)\n"
   ]
  },
  {
   "cell_type": "code",
   "execution_count": null,
   "id": "3ad6c520",
   "metadata": {
    "vscode": {
     "languageId": "r"
    }
   },
   "outputs": [],
   "source": [
    "options(repr.plot.width=16, repr.plot.height=8)\n",
    "\n",
    "FeatureScatter(seurObj_gdT, feature1 = 'CD1a', feature2 = 'CD27', cols=pal24, group.by = 'anno_CITE_old')+facet_wrap(~seurObj_gdT$clusters_gdT_adt, ncol=4)+theme_bw()"
   ]
  },
  {
   "cell_type": "code",
   "execution_count": null,
   "id": "9ee85d06",
   "metadata": {
    "vscode": {
     "languageId": "r"
    }
   },
   "outputs": [],
   "source": [
    "options(repr.plot.width=16, repr.plot.height=20)\n",
    "markers_gd <- c('CD1a','CD45RA', 'CD45RO', 'CD73', 'CD3', 'CD7', 'CD44', 'CD24', 'CD27', 'rna_GNG4', 'rna_ZNF683', 'CD279', 'CD10', 'CD137', 'CD62L','TCRgd', 'CD21', 'CD226', 'CD146', 'CD224', 'CD1c', 'CD244', 'CD54', 'CD31','CD122', 'CD56', 'CD194','CD94','CD278', 'CD5', 'CD314', 'CD26', 'CD161', 'CD196', 'rna_TRGC1', 'rna_TRGC2','rna_NCR3')\n",
    "VlnPlot(seurObj_gdT, group.by = 'clusters_gdT_adt', features = sort(markers_gd), pt.size = 0.001, ncol=5, cols=pal12)"
   ]
  },
  {
   "cell_type": "code",
   "execution_count": null,
   "id": "b3b67b12",
   "metadata": {
    "vscode": {
     "languageId": "r"
    }
   },
   "outputs": [],
   "source": [
    "table(seurObj_gdT$anno_CITE_old, seurObj_gdT$clusters_aagd)"
   ]
  },
  {
   "cell_type": "code",
   "execution_count": null,
   "id": "09f0376d",
   "metadata": {
    "vscode": {
     "languageId": "r"
    }
   },
   "outputs": [],
   "source": [
    "options(repr.plot.width=16, repr.plot.height=4)\n",
    "\n",
    "FeatureScatter(seurObj_gdT, feature1 = 'CD1a', feature2 = 'CD27', cols=pal24, group.by = 'anno_CITE_old')+facet_wrap(~seurObj_gdT$clusters_aagd, ncol=4)+theme_bw()"
   ]
  },
  {
   "cell_type": "markdown",
   "id": "17b6f8e9",
   "metadata": {},
   "source": [
    "Despite testing different resolutions, the gdT clustering does not yield distinct immature/mature clusters. We attempt an approximation based on CD1a levels, although this does not reproduce initial annotations very well. Marker analysis of maturing gdT cells would be needed especially to compare CD1a/CD62L/CD27/CD44 along the maturation trajectory since CD45RA cannot serve as a marker in this subset."
   ]
  },
  {
   "cell_type": "code",
   "execution_count": null,
   "id": "64c81131",
   "metadata": {
    "vscode": {
     "languageId": "r"
    }
   },
   "outputs": [],
   "source": [
    "Idents(seurObj_gdT) <- seurObj_gdT$clusters_aagd\n",
    "seurObj_gdT$anno_new4 <- 'unknown'\n",
    "seurObj_gdT$anno_new4 <- ifelse(colnames(seurObj_gdT) %in% WhichCells(seurObj_gdT, expression = CD1a >5, idents = c('10')), \"gdT_immature\", seurObj_gdT$anno_new4)\n",
    "seurObj_gdT$anno_new4 <- ifelse(colnames(seurObj_gdT) %in% WhichCells(seurObj_gdT, idents = c('6')), \"gdT_semimature\", seurObj_gdT$anno_new4)\n",
    "seurObj_gdT$anno_new4 <- ifelse(colnames(seurObj_gdT) %in% WhichCells(seurObj_gdT, expression = CD1a <5, idents = c('9')), \"gdT_mature\", seurObj_gdT$anno_new4)"
   ]
  },
  {
   "cell_type": "code",
   "execution_count": null,
   "id": "27600516",
   "metadata": {
    "vscode": {
     "languageId": "r"
    }
   },
   "outputs": [],
   "source": [
    "seurObj$anno_new[colnames(seurObj) %in% colnames(seurObj_gdT)] <- seurObj_gdT$anno_new4"
   ]
  },
  {
   "cell_type": "markdown",
   "id": "a5685b08",
   "metadata": {},
   "source": [
    "#### CD8aa"
   ]
  },
  {
   "cell_type": "code",
   "execution_count": null,
   "id": "869a7920",
   "metadata": {
    "scrolled": true,
    "vscode": {
     "languageId": "r"
    }
   },
   "outputs": [],
   "source": [
    "seurObj_8aa <- seurObj_8aa  %>%\n",
    "            FindVariableFeatures(assay='ADTdsb') %>%\n",
    "            ScaleData(assay = 'ADTdsb') %>%\n",
    "            RunPCA(assay = 'ADTdsb', npcs = 50, reduction.name = 'pca_adt_8aa')"
   ]
  },
  {
   "cell_type": "code",
   "execution_count": null,
   "id": "c4a40a8b",
   "metadata": {
    "scrolled": true,
    "vscode": {
     "languageId": "r"
    }
   },
   "outputs": [],
   "source": [
    "MNN <- reducedMNN(seurObj_8aa@reductions$pca_adt_8aa@cell.embeddings,\n",
    "                 batch=seurObj_8aa$sample,\n",
    "                 BPPARAM=MulticoreParam(workers=12), #parallelisation\n",
    "                 BNPARAM=HnswParam())\n",
    "seurObj_8aa[[\"mnn_adt_8aa\"]] <- CreateDimReducObject(embeddings=MNN$corrected,\n",
    "                                        assay=\"ADTdsb\",\n",
    "                                        key=\"mnn_\")"
   ]
  },
  {
   "cell_type": "code",
   "execution_count": null,
   "id": "b32303fe",
   "metadata": {
    "scrolled": true,
    "vscode": {
     "languageId": "r"
    }
   },
   "outputs": [],
   "source": [
    "seurObj_8aa <- seurObj_8aa %>%\n",
    "            FindVariableFeatures(assay='RNA') %>%\n",
    "            ScaleData(assay = 'RNA') %>%\n",
    "            RunPCA(assay = 'RNA', npcs = 50, reduction.name = 'pca_rna_8aa')"
   ]
  },
  {
   "cell_type": "code",
   "execution_count": null,
   "id": "63a1e604",
   "metadata": {
    "scrolled": true,
    "vscode": {
     "languageId": "r"
    }
   },
   "outputs": [],
   "source": [
    "MNN <- reducedMNN(seurObj_8aa@reductions$pca_rna_8aa@cell.embeddings,\n",
    "                 batch=seurObj_8aa$sample,\n",
    "                 BPPARAM=MulticoreParam(workers=12), #parallelisation\n",
    "                 BNPARAM=HnswParam())\n",
    "seurObj_8aa[[\"mnn_rna_8aa\"]] <- CreateDimReducObject(embeddings=MNN$corrected,\n",
    "                                        assay=\"RNA\",\n",
    "                                        key=\"mnn_\")"
   ]
  },
  {
   "cell_type": "code",
   "execution_count": null,
   "id": "693b128b",
   "metadata": {
    "vscode": {
     "languageId": "r"
    }
   },
   "outputs": [],
   "source": [
    "dim_adt <- PCcutoff(seurObj_8aa@reductions$pca_adt_8aa, 0.1)\n",
    "dim_adt\n",
    "\n",
    "dim_rna <- PCcutoff(seurObj_8aa@reductions$pca_rna_8aa, 0.1)\n",
    "dim_rna\n",
    "\n",
    "seurObj_8aa <- FindMultiModalNeighbors(seurObj_8aa,\n",
    "                                  reduction.list=list('mnn_adt_8aa', 'mnn_rna_8aa'),\n",
    "                                   dims.list=list(1:dim_adt,1:dim_rna))"
   ]
  },
  {
   "cell_type": "code",
   "execution_count": null,
   "id": "d38bbeb6",
   "metadata": {
    "vscode": {
     "languageId": "r"
    }
   },
   "outputs": [],
   "source": [
    "seurObj_8aa <- RunUMAP(seurObj_8aa, nn.name = \"weighted.nn\", reduction.name = \"umap_wnn_8aa\",\n",
    "                        reduction.key = \"wnnUMAP_\")"
   ]
  },
  {
   "cell_type": "code",
   "execution_count": null,
   "id": "a61b33fa",
   "metadata": {
    "vscode": {
     "languageId": "r"
    }
   },
   "outputs": [],
   "source": [
    "seurObj_8aa <- RunSPCA(seurObj_8aa, assay='RNA', graph='wsnn')"
   ]
  },
  {
   "cell_type": "code",
   "execution_count": null,
   "id": "0bea99ba",
   "metadata": {
    "scrolled": false,
    "vscode": {
     "languageId": "r"
    }
   },
   "outputs": [],
   "source": [
    "ptm <- proc.time()\n",
    "\n",
    "seurObj_8aa <- FindNeighbors(seurObj_8aa, graph.name = 'wsnn',reduction= 'spca', dims = 1:max(c(dim_adt, dim_rna)), assay='ADTdsb')\n",
    "seurObj_8aa <- FindClusters(seurObj_8aa, graph.name = 'wsnn', algorithm = 4, resolution = 1, random.seed = 123,\n",
    "                               method = 'igraph', cluster.name='clusters_8aa')\n",
    "\n",
    "proc.time() - ptm"
   ]
  },
  {
   "cell_type": "code",
   "execution_count": null,
   "id": "f0670954",
   "metadata": {
    "scrolled": true,
    "vscode": {
     "languageId": "r"
    }
   },
   "outputs": [],
   "source": [
    "seurObj_8aa <- RunUMAP(seurObj_8aa, reduction = 'mnn_adt_8aa', dims = 1:dim_adt, reduction.name = \"umap_adt_8aa\",\n",
    "                        reduction.key = \"adtUMAP_\")"
   ]
  },
  {
   "cell_type": "code",
   "execution_count": null,
   "id": "8cf2fca5",
   "metadata": {
    "scrolled": true,
    "vscode": {
     "languageId": "r"
    }
   },
   "outputs": [],
   "source": [
    "ptm <- proc.time()\n",
    "\n",
    "seurObj_8aa <- FindNeighbors(seurObj_8aa, reduction= 'mnn_adt_8aa', dims=1:dim_adt, assay='ADTdsb')\n",
    "seurObj_8aa <- FindClusters(seurObj_8aa, algorithm = 4, resolution = 1.5, random.seed = 123,\n",
    "                             method = 'igraph', cluster.name='clusters_8aa_adt')\n",
    "\n",
    "proc.time() - ptm"
   ]
  },
  {
   "cell_type": "code",
   "execution_count": null,
   "id": "c1149cff",
   "metadata": {
    "scrolled": false,
    "vscode": {
     "languageId": "r"
    }
   },
   "outputs": [],
   "source": [
    "options(repr.plot.width=8, repr.plot.height=7)\n",
    "\n",
    "DimPlot(seurObj_8aa, reduction = 'umap_wnn_8aa', group.by = 'clusters_8aa', cols=pal12)\n",
    "\n",
    "DimPlot(seurObj_8aa, reduction = 'umap_adt_8aa', group.by = 'clusters_8aa_adt', cols=pal12)\n",
    "\n",
    "options(repr.plot.width=10, repr.plot.height=7)\n",
    "\n",
    "DimPlot(seurObj_8aa, reduction = 'umap_wnn_8aa', group.by = 'anno_CITE_old', cols=sample(pal36))\n",
    "DimPlot(seurObj_8aa, reduction = 'umap_adt_8aa', group.by = 'anno_CITE_old', cols=sample(pal36))\n"
   ]
  },
  {
   "cell_type": "code",
   "execution_count": null,
   "id": "52c55e97",
   "metadata": {
    "vscode": {
     "languageId": "r"
    }
   },
   "outputs": [],
   "source": [
    "table(seurObj_8aa$anno_CITE_old, seurObj_8aa$clusters_8aa_adt)"
   ]
  },
  {
   "cell_type": "code",
   "execution_count": null,
   "id": "ae2fa8bc",
   "metadata": {
    "vscode": {
     "languageId": "r"
    }
   },
   "outputs": [],
   "source": [
    "options(repr.plot.width=16, repr.plot.height=20)\n",
    "VlnPlot(seurObj_8aa, group.by = 'clusters_8aa_adt', features = sort(markers_gd), pt.size = 0, ncol=5, cols=pal12)"
   ]
  },
  {
   "cell_type": "markdown",
   "id": "a7d2b876",
   "metadata": {},
   "source": [
    "CD8aaI and II separate quite clearly. Within these, immature and mature clusters can be identified."
   ]
  },
  {
   "cell_type": "code",
   "execution_count": null,
   "id": "cfbb9f6f",
   "metadata": {
    "vscode": {
     "languageId": "r"
    }
   },
   "outputs": [],
   "source": [
    "Idents(seurObj_8aa) <- seurObj_8aa$clusters_8aa_adt\n",
    "seurObj_8aa$anno_new4 <- 'unknown'\n",
    "seurObj_8aa$anno_new4 <- ifelse(colnames(seurObj_8aa) %in% WhichCells(seurObj_8aa, idents = c('2', '4', '11')), \"CD8aaI_immature\", seurObj_8aa$anno_new4)\n",
    "seurObj_8aa$anno_new4 <- ifelse(colnames(seurObj_8aa) %in% WhichCells(seurObj_8aa, idents = c('3', '10', '1')), \"CD8aaI_mature\", seurObj_8aa$anno_new4)\n",
    "seurObj_8aa$anno_new4 <- ifelse(colnames(seurObj_8aa) %in% WhichCells(seurObj_8aa, idents = c('5', '7', '8')), \"CD8aaII_immature\", seurObj_8aa$anno_new4)\n",
    "seurObj_8aa$anno_new4 <- ifelse(colnames(seurObj_8aa) %in% WhichCells(seurObj_8aa, idents = c('6', '12', '9')), \"CD8aaII_mature\", seurObj_8aa$anno_new4)"
   ]
  },
  {
   "cell_type": "code",
   "execution_count": null,
   "id": "19b375cf",
   "metadata": {
    "vscode": {
     "languageId": "r"
    }
   },
   "outputs": [],
   "source": [
    "seurObj$anno_new[colnames(seurObj) %in% colnames(seurObj_8aa)] <- seurObj_8aa$anno_new4"
   ]
  },
  {
   "cell_type": "code",
   "execution_count": null,
   "id": "f27ec435",
   "metadata": {
    "vscode": {
     "languageId": "r"
    }
   },
   "outputs": [],
   "source": [
    "Idents(seurObj_aagd) <-seurObj_aagd$clusters_aagd"
   ]
  },
  {
   "cell_type": "code",
   "execution_count": null,
   "id": "b67bb2d5",
   "metadata": {
    "vscode": {
     "languageId": "r"
    }
   },
   "outputs": [],
   "source": [
    "seurObj$anno_new[colnames(seurObj) %in% WhichCells(seurObj_aagd, idents = '7', expression = `TCR-Vd2`>20)] <- 'gdT_Vd2'"
   ]
  },
  {
   "cell_type": "code",
   "execution_count": null,
   "id": "6a9a2613",
   "metadata": {
    "vscode": {
     "languageId": "r"
    }
   },
   "outputs": [],
   "source": [
    "seurObj$anno_new[colnames(seurObj) %in% WhichCells(seurObj_aagd, idents = '7', expression = `TCR-Vd2`<20 & CD8 > 5)] <- 'SP_CD8_memory'"
   ]
  },
  {
   "cell_type": "code",
   "execution_count": null,
   "id": "f0cf9702",
   "metadata": {
    "vscode": {
     "languageId": "r"
    }
   },
   "outputs": [],
   "source": [
    "seurObj$anno_new <- gsub('unknown_DN', 'unknown', seurObj$anno_new)\n",
    "seurObj$anno_new <- gsub('unknown_techn', 'unknown', seurObj$anno_new)"
   ]
  },
  {
   "cell_type": "markdown",
   "id": "caa6ed07",
   "metadata": {},
   "source": [
    "With this the annotation is complete. Some annotations have changed but the majority of cells has robust labels."
   ]
  },
  {
   "cell_type": "code",
   "execution_count": null,
   "id": "5f911fa5",
   "metadata": {
    "vscode": {
     "languageId": "r"
    }
   },
   "outputs": [],
   "source": [
    "options(repr.plot.width=12, repr.plot.height=8)\n",
    "\n",
    "df <- count(seurObj@meta.data, barcode, anno_CITE_old, anno_new) %>%\n",
    "        mutate(id = row_number())%>%\n",
    "        pivot_longer(cols=2:3, names_to = 'version', values_to = 'celltype')\n",
    "\n",
    "\n",
    "ggplot(df, aes(x = version, y = n, \n",
    "                          stratum = celltype, fill = celltype,\n",
    "                          alluvium = id)) +\n",
    "  geom_stratum(alpha = .5) +\n",
    "  geom_flow()+\n",
    "  theme_minimal()+\n",
    "  scale_fill_manual(values = c(pal60))"
   ]
  },
  {
   "cell_type": "code",
   "execution_count": null,
   "id": "c2655151",
   "metadata": {
    "vscode": {
     "languageId": "r"
    }
   },
   "outputs": [],
   "source": [
    "celltypes2 <- names(table(seurObj$anno_new))\n",
    "names(celltypes2) <- seq_along(celltypes2)\n",
    "celltypes2"
   ]
  },
  {
   "cell_type": "code",
   "execution_count": null,
   "id": "f641f8b7",
   "metadata": {
    "vscode": {
     "languageId": "r"
    }
   },
   "outputs": [],
   "source": [
    "celltypes_ordered2 <- celltypes2[c(38, 6:9, 12, 14:16, 13, 11, 26, 28, 27, 29, 32, 30, 31, 34, 35, 36, 33, 37, 2:5, 17, 19, 18, 20, 25, 23, 24, 21, 22, 1, 10, 39)]\n",
    "celltypes_ordered2"
   ]
  },
  {
   "cell_type": "code",
   "execution_count": null,
   "id": "06af518e",
   "metadata": {
    "vscode": {
     "languageId": "r"
    }
   },
   "outputs": [],
   "source": [
    "names(celltypes_ordered2) <- seq_along(celltypes_ordered2)"
   ]
  },
  {
   "cell_type": "code",
   "execution_count": null,
   "id": "39563356",
   "metadata": {
    "vscode": {
     "languageId": "r"
    }
   },
   "outputs": [],
   "source": [
    "seurObj$anno_CITE_new <- factor(seurObj$anno_new, levels=celltypes_ordered2)\n",
    "seurObj$anno_new <- NULL"
   ]
  },
  {
   "cell_type": "code",
   "execution_count": null,
   "id": "e9648714",
   "metadata": {
    "scrolled": false,
    "vscode": {
     "languageId": "r"
    }
   },
   "outputs": [],
   "source": [
    "options(repr.plot.width=12, repr.plot.height=8)\n",
    "\n",
    "DimPlot(seurObj, reduction = 'umap_wnn_mnn', group.by = 'anno_CITE_new', cols=pal40, shuffle=T, raster=F)"
   ]
  },
  {
   "cell_type": "code",
   "execution_count": null,
   "id": "d7f095a2",
   "metadata": {
    "scrolled": false,
    "vscode": {
     "languageId": "r"
    }
   },
   "outputs": [],
   "source": [
    "options(repr.plot.width=12, repr.plot.height=8)\n",
    "\n",
    "DimPlot(seurObj, reduction = 'umap_wnn_mnn', group.by = 'anno_CITE_old', cols=pal40, shuffle=T, raster=F)"
   ]
  },
  {
   "cell_type": "code",
   "execution_count": null,
   "id": "94ccaac4",
   "metadata": {
    "vscode": {
     "languageId": "r"
    }
   },
   "outputs": [],
   "source": [
    "write.csv(seurObj@meta.data, './HTSA_CITE_anno.csv')"
   ]
  },
  {
   "cell_type": "code",
   "execution_count": null,
   "id": "325c38a8",
   "metadata": {
    "vscode": {
     "languageId": "r"
    }
   },
   "outputs": [],
   "source": [
    "SaveH5Seurat(seurObj, './HTSA_CITE_anno.h5seurat', overwrite = TRUE)"
   ]
  },
  {
   "cell_type": "code",
   "execution_count": null,
   "id": "1bd8037a",
   "metadata": {
    "vscode": {
     "languageId": "r"
    }
   },
   "outputs": [],
   "source": [
    "#seurObj <- LoadH5Seurat('./HTSA_CITE_anno.h5seurat')"
   ]
  },
  {
   "cell_type": "code",
   "execution_count": null,
   "id": "41a50246",
   "metadata": {
    "vscode": {
     "languageId": "r"
    }
   },
   "outputs": [],
   "source": [
    "#Convert(\"HTSA_CITE_anno_test.h5seurat\", dest = \"h5ad\", assay = 'ADTdsb', overwrite = TRUE)\n",
    "#CAVE: exports scale.data slot, no way to change it"
   ]
  },
  {
   "cell_type": "code",
   "execution_count": null,
   "id": "cb12b8fa",
   "metadata": {
    "vscode": {
     "languageId": "r"
    }
   },
   "outputs": [],
   "source": [
    "write.csv(seurObj@assays$ADTdsb@data, file='ADTdsb.csv')"
   ]
  }
 ],
 "metadata": {
  "kernelspec": {
   "display_name": "R",
   "language": "R",
   "name": "ir"
  },
  "language_info": {
   "codemirror_mode": "r",
   "file_extension": ".r",
   "mimetype": "text/x-r-source",
   "name": "R",
   "pygments_lexer": "r",
   "version": "4.3.2"
  }
 },
 "nbformat": 4,
 "nbformat_minor": 5
}
