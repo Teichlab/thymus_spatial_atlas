{
 "cells": [
  {
   "cell_type": "markdown",
   "id": "suspended-chamber",
   "metadata": {},
   "source": [
    "# CITEseq data analysis\n",
    "*Author: Lena Boehme, Taghon lab, 2023*\n",
    "\n",
    "## Integrated RNA/protein analysis\n",
    "\n",
    "In order to best distinguish developing thymocyte stages and subtypes, we ideally use both RNA and ADT information. We therefore build an integrated UMAP and supervised PCA, which takes both modalities into account. This is based on the seurat [Weighted Nearest Neighbour approach](https://www.sciencedirect.com/science/article/pii/S0092867421005833?via%3Dihub)."
   ]
  },
  {
   "cell_type": "markdown",
   "id": "efficient-identification",
   "metadata": {},
   "source": [
    "### Setup"
   ]
  },
  {
   "cell_type": "code",
   "execution_count": null,
   "id": "right-trigger",
   "metadata": {
    "scrolled": true,
    "vscode": {
     "languageId": "r"
    }
   },
   "outputs": [],
   "source": [
    "options(repr.plot.width=12, repr.plot.height=6)\n",
    "\n",
    "options(scipen=100) #avoid scientific notation of numbers\n",
    "\n",
    "library(SeuratDisk)\n",
    "library(Seurat)\n",
    "library(matrixStats)\n",
    "library(ggplot2)\n",
    "library(pheatmap)\n",
    "library(reshape2)\n",
    "library(dplyr)\n",
    "library(tidyr)\n",
    "library(viridis)\n",
    "library(RColorBrewer)\n",
    "library(stringr)\n",
    "\n",
    "library(batchelor)\n",
    "library(BiocParallel)\n",
    "library(BiocNeighbors)"
   ]
  },
  {
   "cell_type": "code",
   "execution_count": null,
   "id": "modular-young",
   "metadata": {
    "scrolled": true,
    "vscode": {
     "languageId": "r"
    }
   },
   "outputs": [],
   "source": [
    "sessionInfo()"
   ]
  },
  {
   "cell_type": "code",
   "execution_count": null,
   "id": "sized-herald",
   "metadata": {
    "vscode": {
     "languageId": "r"
    }
   },
   "outputs": [],
   "source": [
    "pal12 <- colorRampPalette(brewer.pal(12, \"Paired\"))(12)\n",
    "pal24 <- colorRampPalette(brewer.pal(12, \"Paired\"))(24)\n",
    "pal36 <- colorRampPalette(brewer.pal(12, \"Paired\"))(36)\n",
    "pal52 <- colorRampPalette(brewer.pal(12, \"Paired\"))(52)"
   ]
  },
  {
   "cell_type": "markdown",
   "id": "equivalent-harmony",
   "metadata": {},
   "source": [
    "Import of denoised seurat object:"
   ]
  },
  {
   "cell_type": "code",
   "execution_count": null,
   "id": "unavailable-teacher",
   "metadata": {
    "scrolled": true,
    "vscode": {
     "languageId": "r"
    }
   },
   "outputs": [],
   "source": [
    "seurObj <- LoadH5Seurat('./HTSA_CITE_DSBdenoised.h5seurat')"
   ]
  },
  {
   "cell_type": "code",
   "execution_count": null,
   "id": "built-polyester",
   "metadata": {
    "vscode": {
     "languageId": "r"
    }
   },
   "outputs": [],
   "source": [
    "seurObj"
   ]
  },
  {
   "cell_type": "markdown",
   "id": "cordless-mailing",
   "metadata": {},
   "source": [
    "### Integrated analysis\n",
    "#### DimRed and batch correction for RNA\n",
    "\n",
    "Data was previously integrated with scVI, so no PCA for the RNA is available. We first normalise and scale the data, then run a PCA."
   ]
  },
  {
   "cell_type": "code",
   "execution_count": null,
   "id": "enclosed-intellectual",
   "metadata": {
    "vscode": {
     "languageId": "r"
    }
   },
   "outputs": [],
   "source": [
    "seurObj <- seurObj  %>%\n",
    "            NormalizeData(assay = 'RNA') %>%\n",
    "            FindVariableFeatures(assay = 'RNA') %>%\n",
    "            ScaleData(assay = 'RNA') %>% #regressing out library size might have a negative effect\n",
    "            RunPCA(assay = 'RNA', npcs = 50, reduction.name = 'pca_rna')"
   ]
  },
  {
   "cell_type": "code",
   "execution_count": null,
   "id": "liquid-reliance",
   "metadata": {
    "vscode": {
     "languageId": "r"
    }
   },
   "outputs": [],
   "source": [
    "options(repr.plot.width=8, repr.plot.height=6)\n",
    "ElbowPlot(seurObj, reduction = 'pca_rna', ndims = 50)+labs(title = 'Elbowplot for RNA PCA')"
   ]
  },
  {
   "cell_type": "markdown",
   "id": "positive-essence",
   "metadata": {},
   "source": [
    "Mathematical PC cutoff calculation based on [this](https://hbctraining.github.io/scRNA-seq_online/lessons/elbow_plot_metric.html)."
   ]
  },
  {
   "cell_type": "code",
   "execution_count": null,
   "id": "comparable-forge",
   "metadata": {
    "vscode": {
     "languageId": "r"
    }
   },
   "outputs": [],
   "source": [
    "#Determine where the % change in variation between 2 subsequent PCs is less than a certain value e.g. 0.1%\n",
    "PCcutoff <- function(pca, diff){\n",
    "    var_pc <- pca@stdev/sum(pca@stdev)*100 #calculate % variation associated with each PC\n",
    "    diffvar_pc <- var_pc[1:length(var_pc)-1] - var_pc[2:length(var_pc)] #calculate difference in variation between subsequent PC\n",
    "    sort(which(diffvar_pc >diff), decreasing=TRUE)[1]+1 #determine which PC is the last one where the variation is more that x% higher compared to the next PC\n",
    "}\n",
    "#pca: the pca slot in the seurat object\n",
    "#diff: the % difference in variation between two subsequent PCs to be used as cutoff\n",
    "\n",
    "#Example: determine the last PC where change of % of variation is more than 0.1%:"
   ]
  },
  {
   "cell_type": "code",
   "execution_count": null,
   "id": "middle-donor",
   "metadata": {
    "vscode": {
     "languageId": "r"
    }
   },
   "outputs": [],
   "source": [
    "dims_rna <- PCcutoff(seurObj@reductions$pca_rna, 0.1)\n",
    "dims_rna"
   ]
  },
  {
   "cell_type": "code",
   "execution_count": null,
   "id": "limiting-aaron",
   "metadata": {
    "scrolled": true,
    "vscode": {
     "languageId": "r"
    }
   },
   "outputs": [],
   "source": [
    "seurObj <- RunUMAP(seurObj, reduction = 'pca_rna', assay='RNA', reduction.name = 'umap_rna', dims = 1:dims_rna)"
   ]
  },
  {
   "cell_type": "markdown",
   "id": "retained-plate",
   "metadata": {},
   "source": [
    "Batch/donor effects are not very strong, but some additional correction may still be beneficial."
   ]
  },
  {
   "cell_type": "code",
   "execution_count": null,
   "id": "christian-state",
   "metadata": {
    "vscode": {
     "languageId": "r"
    }
   },
   "outputs": [],
   "source": [
    "options(repr.plot.width=8, repr.plot.height=6)\n",
    "DimPlot(seurObj, reduction = 'umap_rna', group.by = 'sample', cols=pal12)+labs(title='RNA UMAP')"
   ]
  },
  {
   "cell_type": "markdown",
   "id": "brown-disclosure",
   "metadata": {},
   "source": [
    "The data set contains data from several donors and experimental batches, so batch correction is required for the RNA. We use [fastMNN](https://rdrr.io/github/LTLA/batchelor/man/reducedMNN.html) from the batchelor package for this purpose, which works on the previously generated PCA. We specify indicidual libraries as batches, but don't specify the merging order.\n",
    "\n",
    "Of note, several other batch correction tools, e.g. Harmony, have been tested on this data and were found to  result in overcorrection (reduced separation of different mature T lineages etc.). We have made this observation previously on other thymocyte scRNA-seq data sets, suggesting that not all batch correction approaches are equally suitable for this type of developmental data."
   ]
  },
  {
   "cell_type": "code",
   "execution_count": null,
   "id": "electrical-papua",
   "metadata": {
    "vscode": {
     "languageId": "r"
    }
   },
   "outputs": [],
   "source": [
    "ptm <- proc.time()\n",
    "\n",
    "MNN_rna <- reducedMNN(seurObj@reductions$pca_rna@cell.embeddings,\n",
    "                 batch=seurObj$batch, #specify batches\n",
    "                 #merge.order= unique(seurObj$batch),\n",
    "                 BPPARAM=MulticoreParam(workers=12), #parallelisation\n",
    "                 BNPARAM=HnswParam())\n",
    "\n",
    "proc.time() - ptm"
   ]
  },
  {
   "cell_type": "markdown",
   "id": "surrounded-apache",
   "metadata": {},
   "source": [
    "Add batch-corrected PCA as dim reduction."
   ]
  },
  {
   "cell_type": "code",
   "execution_count": null,
   "id": "restricted-hundred",
   "metadata": {
    "vscode": {
     "languageId": "r"
    }
   },
   "outputs": [],
   "source": [
    "seurObj[[\"mnn_rna\"]] <- CreateDimReducObject(embeddings=MNN_rna$corrected,\n",
    "                                        assay=\"RNA\",\n",
    "                                        key=\"mnnrna_\")"
   ]
  },
  {
   "cell_type": "code",
   "execution_count": null,
   "id": "vocational-confusion",
   "metadata": {
    "scrolled": true,
    "vscode": {
     "languageId": "r"
    }
   },
   "outputs": [],
   "source": [
    "seurObj <- RunUMAP(seurObj, reduction = 'mnn_rna', assay='RNA', reduction.name = 'umap_rna_mnn', dims = 1:dims_rna)"
   ]
  },
  {
   "cell_type": "code",
   "execution_count": null,
   "id": "complex-asbestos",
   "metadata": {
    "vscode": {
     "languageId": "r"
    }
   },
   "outputs": [],
   "source": [
    "options(repr.plot.width=8, repr.plot.height=6)\n",
    "DimPlot(seurObj, reduction = 'umap_rna', group.by = 'sample', cols=pal12)+labs(title='RNA UMAP')\n",
    "DimPlot(seurObj, reduction = 'umap_rna_mnn', group.by = 'sample', cols = pal12)+labs(title='RNA MNN UMAP')"
   ]
  },
  {
   "cell_type": "markdown",
   "id": "civilian-content",
   "metadata": {},
   "source": [
    "Donor effects are adjusted in the MNN UMAP but the overall structure is well conserved. Note that even and odd samples correspond to different cell subsets and are thus separate in the UMAP."
   ]
  },
  {
   "cell_type": "markdown",
   "id": "efficient-holly",
   "metadata": {},
   "source": [
    "#### DimRed and batch correction for ADT\n",
    "\n",
    "We also carry out scaling and PCA for the ADT data. Note that normalisation was already carried out with dsb and should not be performed again. We use all markers as HVGs (excluding isotype controls)."
   ]
  },
  {
   "cell_type": "code",
   "execution_count": null,
   "id": "collected-skating",
   "metadata": {
    "vscode": {
     "languageId": "r"
    }
   },
   "outputs": [],
   "source": [
    "VariableFeatures(seurObj, assay = 'ADTdsb') <- rownames(seurObj@assays$ADTdsb@data)[c(1:130,138:150)] #rows 131-137 are isotype controls"
   ]
  },
  {
   "cell_type": "code",
   "execution_count": null,
   "id": "exact-intranet",
   "metadata": {
    "vscode": {
     "languageId": "r"
    }
   },
   "outputs": [],
   "source": [
    "seurObj <- seurObj  %>%\n",
    "            ScaleData(assay = 'ADTdsb') %>%\n",
    "            RunPCA(assay = 'ADTdsb', npcs = 50, reduction.name = 'pca_adt')"
   ]
  },
  {
   "cell_type": "code",
   "execution_count": null,
   "id": "planned-premium",
   "metadata": {
    "vscode": {
     "languageId": "r"
    }
   },
   "outputs": [],
   "source": [
    "options(repr.plot.width=8, repr.plot.height=6)\n",
    "\n",
    "ElbowPlot(seurObj, reduction = 'pca_adt', ndims = 50)+labs(title = 'Elbowplot for ADT PCA')"
   ]
  },
  {
   "cell_type": "code",
   "execution_count": null,
   "id": "electoral-payroll",
   "metadata": {
    "vscode": {
     "languageId": "r"
    }
   },
   "outputs": [],
   "source": [
    "dims_adt <- PCcutoff(seurObj@reductions$pca_adt, 0.1) \n",
    "dims_adt"
   ]
  },
  {
   "cell_type": "code",
   "execution_count": null,
   "id": "fallen-puppy",
   "metadata": {
    "scrolled": true,
    "vscode": {
     "languageId": "r"
    }
   },
   "outputs": [],
   "source": [
    "seurObj <- RunUMAP(seurObj, reduction = 'pca_adt', assay='ADTdsb', reduction.name = 'umap_adt', dims = 1:dims_adt)"
   ]
  },
  {
   "cell_type": "code",
   "execution_count": null,
   "id": "powered-buffalo",
   "metadata": {
    "vscode": {
     "languageId": "r"
    }
   },
   "outputs": [],
   "source": [
    "options(repr.plot.width=8, repr.plot.height=6)\n",
    "DimPlot(seurObj, reduction = 'umap_adt', group.by = 'sample', cols=pal12)+labs(title='ADT UMAP')"
   ]
  },
  {
   "cell_type": "markdown",
   "id": "occupational-pickup",
   "metadata": {},
   "source": [
    "Minor donor effects can be observed for ADT data, so batch correction will be applied for this as well."
   ]
  },
  {
   "cell_type": "code",
   "execution_count": null,
   "id": "earlier-majority",
   "metadata": {
    "vscode": {
     "languageId": "r"
    }
   },
   "outputs": [],
   "source": [
    "ptm <- proc.time()\n",
    "\n",
    "MNN_adt <- reducedMNN(seurObj@reductions$pca_adt@cell.embeddings,\n",
    "                 batch=seurObj$batch, #specify batches\n",
    "                 #merge.order= unique(seurObj$batch),\n",
    "                 BPPARAM=MulticoreParam(workers=12), #parallelisation\n",
    "                 BNPARAM=HnswParam())\n",
    "\n",
    "proc.time() - ptm"
   ]
  },
  {
   "cell_type": "code",
   "execution_count": null,
   "id": "touched-communist",
   "metadata": {
    "vscode": {
     "languageId": "r"
    }
   },
   "outputs": [],
   "source": [
    "seurObj[[\"mnn_adt\"]] <- CreateDimReducObject(embeddings=MNN_adt$corrected,\n",
    "                                        assay=\"ADTdsb\",\n",
    "                                        key=\"mnnadt_\")"
   ]
  },
  {
   "cell_type": "code",
   "execution_count": null,
   "id": "generous-fluid",
   "metadata": {
    "scrolled": true,
    "vscode": {
     "languageId": "r"
    }
   },
   "outputs": [],
   "source": [
    "seurObj <- RunUMAP(seurObj, reduction = 'mnn_adt', assay='ADTdsb', reduction.name = 'umap_adt_mnn', dims = 1:dims_adt)"
   ]
  },
  {
   "cell_type": "code",
   "execution_count": null,
   "id": "conventional-plaza",
   "metadata": {
    "vscode": {
     "languageId": "r"
    }
   },
   "outputs": [],
   "source": [
    "options(repr.plot.width=8, repr.plot.height=6)\n",
    "DimPlot(seurObj, reduction = 'umap_adt', group.by = 'sample', cols=pal12)+labs(title='ADT UMAP')\n",
    "DimPlot(seurObj, reduction = 'umap_adt_mnn', group.by = 'sample', cols = pal12)+labs(title='ADT MNN UMAP')"
   ]
  },
  {
   "cell_type": "markdown",
   "id": "enclosed-satellite",
   "metadata": {},
   "source": [
    "#### DimRed WNN"
   ]
  },
  {
   "cell_type": "markdown",
   "id": "selective-figure",
   "metadata": {},
   "source": [
    "To get a sense of the UMAP shape and the extend of combined batch effects, we first integrate based on the uncorrected PCAs."
   ]
  },
  {
   "cell_type": "code",
   "execution_count": null,
   "id": "occupational-vacuum",
   "metadata": {
    "scrolled": true,
    "vscode": {
     "languageId": "r"
    }
   },
   "outputs": [],
   "source": [
    "ptm <- proc.time()\n",
    "\n",
    "seurObj <- FindMultiModalNeighbors(seurObj, knn.graph.name = 'wknn_pca',\n",
    "                                   snn.graph.name = 'wsnn_pca',\n",
    "                                   weighted.nn.name = 'weighted.nn_pca',\n",
    "                                   reduction.list=list('pca_rna', 'pca_adt'),\n",
    "                                   dims.list=list(1:dims_rna,1:dims_adt))\n",
    "\n",
    "proc.time() - ptm"
   ]
  },
  {
   "cell_type": "code",
   "execution_count": null,
   "id": "diagnostic-miller",
   "metadata": {
    "scrolled": true,
    "vscode": {
     "languageId": "r"
    }
   },
   "outputs": [],
   "source": [
    "seurObj <- RunUMAP(seurObj, nn.name = \"weighted.nn_pca\", reduction.name = \"umap_wnn\",\n",
    "                        reduction.key = \"wnnUMAP_\")"
   ]
  },
  {
   "cell_type": "code",
   "execution_count": null,
   "id": "measured-tension",
   "metadata": {
    "vscode": {
     "languageId": "r"
    }
   },
   "outputs": [],
   "source": [
    "options(repr.plot.width=8, repr.plot.height=6)\n",
    "DimPlot(seurObj, reduction = 'umap_wnn', group.by = 'sample', cols=pal12)+labs(title='WNN UMAP')"
   ]
  },
  {
   "cell_type": "code",
   "execution_count": null,
   "id": "sustained-gilbert",
   "metadata": {
    "vscode": {
     "languageId": "r"
    }
   },
   "outputs": [],
   "source": [
    "options(repr.plot.width=16, repr.plot.height=6)\n",
    "\n",
    "FeaturePlot(seurObj, features = c('RNA.weight','ADTdsb.weight'), reduction = 'umap_wnn', order=T)&scale_color_viridis()"
   ]
  },
  {
   "cell_type": "markdown",
   "id": "younger-cholesterol",
   "metadata": {},
   "source": [
    "Batches are clearly visible, so repeat integration with batch-corrected PCA instead."
   ]
  },
  {
   "cell_type": "code",
   "execution_count": null,
   "id": "compressed-moscow",
   "metadata": {
    "scrolled": true,
    "vscode": {
     "languageId": "r"
    }
   },
   "outputs": [],
   "source": [
    "ptm <- proc.time()\n",
    "\n",
    "seurObj <- FindMultiModalNeighbors(seurObj, knn.graph.name = 'wknn_mnn',\n",
    "                                   snn.graph.name = 'wsnn_mnn',\n",
    "                                   weighted.nn.name = 'weighted.nn_mnn',\n",
    "                                   reduction.list=list('mnn_rna', 'mnn_adt'),\n",
    "                                   dims.list=list(1:dims_rna,1:dims_adt))\n",
    "\n",
    "proc.time() - ptm"
   ]
  },
  {
   "cell_type": "code",
   "execution_count": null,
   "id": "given-phone",
   "metadata": {
    "vscode": {
     "languageId": "r"
    }
   },
   "outputs": [],
   "source": [
    "seurObj <- RunUMAP(seurObj, nn.name = \"weighted.nn_mnn\", reduction.name = \"umap_wnn_mnn\",\n",
    "                        reduction.key = \"wnnmnnUMAP_\")"
   ]
  },
  {
   "cell_type": "code",
   "execution_count": null,
   "id": "infinite-accounting",
   "metadata": {
    "vscode": {
     "languageId": "r"
    }
   },
   "outputs": [],
   "source": [
    "options(repr.plot.width=8, repr.plot.height=6)\n",
    "DimPlot(seurObj, reduction = 'umap_wnn_mnn', group.by = 'sample', cols=pal12)+labs(title='WNN MNN UMAP')"
   ]
  },
  {
   "cell_type": "code",
   "execution_count": null,
   "id": "drawn-apple",
   "metadata": {
    "vscode": {
     "languageId": "r"
    }
   },
   "outputs": [],
   "source": [
    "options(repr.plot.width=16, repr.plot.height=6)\n",
    "\n",
    "FeaturePlot(seurObj, features = c('RNA.weight','ADTdsb.weight'), reduction = 'umap_wnn_mnn', order=T)&scale_color_viridis()"
   ]
  },
  {
   "cell_type": "markdown",
   "id": "visible-maldives",
   "metadata": {},
   "source": [
    "Reduced batch effects but conserved UMAP structure."
   ]
  },
  {
   "cell_type": "markdown",
   "id": "exceptional-marks",
   "metadata": {},
   "source": [
    "### Additional QC\n",
    "\n",
    "DN and DP(P) cluster are a little misshapen, potentially some low-quality cells are impacting the structure."
   ]
  },
  {
   "cell_type": "code",
   "execution_count": null,
   "id": "graphic-formula",
   "metadata": {
    "vscode": {
     "languageId": "r"
    }
   },
   "outputs": [],
   "source": [
    "options(repr.plot.width=20, repr.plot.height=15)\n",
    "\n",
    "FeaturePlot(seurObj, features = c('doublet_score', \"nFeature_RNA\", \"nFeature_ADT\", \"pct_counts_ribo\", \"pct_counts_mt\", \"cellwise_background_mean\", \"dsb_technical_component\", \"dsb_technical_component\", \"ADTdsb.weight\", \"RNA.weight\"), reduction = 'umap_wnn_mnn', order=T)&scale_color_viridis()\n"
   ]
  },
  {
   "cell_type": "code",
   "execution_count": null,
   "id": "improved-december",
   "metadata": {
    "vscode": {
     "languageId": "r"
    }
   },
   "outputs": [],
   "source": [
    "options(repr.plot.width=20, repr.plot.height=8)\n",
    "\n",
    "FeaturePlot(seurObj, features = rownames(seurObj@assays$ADT@counts)[131:137], reduction = 'umap_wnn_mnn', order=T, ncol = 4)&scale_color_viridis()"
   ]
  },
  {
   "cell_type": "markdown",
   "id": "cloudy-explosion",
   "metadata": {},
   "source": [
    "The affected cells have a normal doublet score, mitochondrial percentage etc. explaining why they weren't flagged during the RNA QC. They do however exhibit an exceptionally low number of ADT features but at the same time carry a high weight in the WNN UMAP.\n",
    "\n",
    "We can try to remove cells with less than 100 detected antibodies (out of 150 total)."
   ]
  },
  {
   "cell_type": "code",
   "execution_count": null,
   "id": "covered-literature",
   "metadata": {
    "vscode": {
     "languageId": "r"
    }
   },
   "outputs": [],
   "source": [
    "options(repr.plot.width=6, repr.plot.height=6)\n",
    "VlnPlot(seurObj, features = 'nFeature_ADT', group.by = 'sample')&NoLegend()&geom_hline(yintercept = 100)"
   ]
  },
  {
   "cell_type": "code",
   "execution_count": null,
   "id": "applied-prize",
   "metadata": {
    "vscode": {
     "languageId": "r"
    }
   },
   "outputs": [],
   "source": [
    "seurObj$low_ADT <- (seurObj$nFeature_ADT < 100)"
   ]
  },
  {
   "cell_type": "code",
   "execution_count": null,
   "id": "alert-retention",
   "metadata": {
    "vscode": {
     "languageId": "r"
    }
   },
   "outputs": [],
   "source": [
    "table(seurObj$low_ADT)"
   ]
  },
  {
   "cell_type": "code",
   "execution_count": null,
   "id": "copyrighted-still",
   "metadata": {
    "vscode": {
     "languageId": "r"
    }
   },
   "outputs": [],
   "source": [
    "options(repr.plot.width=6, repr.plot.height=6)\n",
    "\n",
    "DimPlot(seurObj, group.by = 'low_ADT', reduction = 'umap_wnn_mnn', order=T)"
   ]
  },
  {
   "cell_type": "markdown",
   "id": "increased-tracy",
   "metadata": {},
   "source": [
    "Regressing out the number of detected ABs and similar correction approaches seem to distort the data. Therefore. we remove all cells with ADT < 100 and repeat the integration from scratch."
   ]
  },
  {
   "cell_type": "markdown",
   "id": "injured-registrar",
   "metadata": {},
   "source": [
    "### Repeat of integration"
   ]
  },
  {
   "cell_type": "code",
   "execution_count": null,
   "id": "roman-settle",
   "metadata": {
    "vscode": {
     "languageId": "r"
    }
   },
   "outputs": [],
   "source": [
    "seurObj3 <- subset(seurObj, subset=low_ADT==FALSE)"
   ]
  },
  {
   "cell_type": "markdown",
   "id": "cleared-spine",
   "metadata": {},
   "source": [
    "Comparison after/before removal:"
   ]
  },
  {
   "cell_type": "code",
   "execution_count": null,
   "id": "moderate-field",
   "metadata": {
    "vscode": {
     "languageId": "r"
    }
   },
   "outputs": [],
   "source": [
    "options(repr.plot.width=8, repr.plot.height=6)\n",
    "DimPlot(seurObj3, reduction = 'umap_wnn_mnn', group.by = 'sample', cols=pal12)+labs(title='WNN MNN UMAP')\n",
    "DimPlot(seurObj, reduction = 'umap_wnn_mnn', group.by = 'sample', cols=pal12)+labs(title='WNN MNN UMAP')"
   ]
  },
  {
   "cell_type": "code",
   "execution_count": null,
   "id": "cloudy-recording",
   "metadata": {
    "vscode": {
     "languageId": "r"
    }
   },
   "outputs": [],
   "source": [
    "options(repr.plot.width=6, repr.plot.height=6)\n",
    "\n",
    "FeaturePlot(seurObj3, features = 'nFeature_ADT', reduction = 'umap_wnn_mnn', order=T)+scale_color_viridis()"
   ]
  },
  {
   "cell_type": "code",
   "execution_count": null,
   "id": "consistent-andorra",
   "metadata": {
    "vscode": {
     "languageId": "r"
    }
   },
   "outputs": [],
   "source": [
    "seurObj3 <- seurObj3  %>%\n",
    "            NormalizeData(assay = 'RNA') %>%\n",
    "            FindVariableFeatures(assay = 'RNA') %>%\n",
    "            ScaleData(assay = 'RNA') %>%\n",
    "            RunPCA(assay = 'RNA', npcs = 50, reduction.name = 'pca_rna')"
   ]
  },
  {
   "cell_type": "code",
   "execution_count": null,
   "id": "coupled-nursery",
   "metadata": {
    "vscode": {
     "languageId": "r"
    }
   },
   "outputs": [],
   "source": [
    "dims_rna3 <- PCcutoff(seurObj3@reductions$pca_rna, 0.1)\n",
    "dims_rna3"
   ]
  },
  {
   "cell_type": "code",
   "execution_count": null,
   "id": "express-cowboy",
   "metadata": {
    "vscode": {
     "languageId": "r"
    }
   },
   "outputs": [],
   "source": [
    "ptm <- proc.time()\n",
    "\n",
    "MNN_rna <- reducedMNN(seurObj3@reductions$pca_rna@cell.embeddings,\n",
    "                 batch=seurObj3$batch, #specify batches\n",
    "                 #merge.order= unique(seurObj$batch),\n",
    "                 BPPARAM=MulticoreParam(workers=12), #parallelisation\n",
    "                 BNPARAM=HnswParam())\n",
    "\n",
    "proc.time() - ptm"
   ]
  },
  {
   "cell_type": "code",
   "execution_count": null,
   "id": "million-canada",
   "metadata": {
    "vscode": {
     "languageId": "r"
    }
   },
   "outputs": [],
   "source": [
    "seurObj3[[\"mnn_rna\"]] <- CreateDimReducObject(embeddings=MNN_rna$corrected,\n",
    "                                        assay=\"RNA\",\n",
    "                                        key=\"mnnrna_\")"
   ]
  },
  {
   "cell_type": "code",
   "execution_count": null,
   "id": "convinced-pharmacy",
   "metadata": {
    "vscode": {
     "languageId": "r"
    }
   },
   "outputs": [],
   "source": [
    "seurObj3 <- seurObj3  %>%\n",
    "            ScaleData(assay = 'ADTdsb') %>%\n",
    "            RunPCA(assay = 'ADTdsb', npcs = 50, reduction.name = 'pca_adt')"
   ]
  },
  {
   "cell_type": "code",
   "execution_count": null,
   "id": "floppy-eleven",
   "metadata": {
    "vscode": {
     "languageId": "r"
    }
   },
   "outputs": [],
   "source": [
    "dims_adt3 <- PCcutoff(seurObj3@reductions$pca_adt, 0.1) \n",
    "dims_adt3"
   ]
  },
  {
   "cell_type": "code",
   "execution_count": null,
   "id": "eleven-polymer",
   "metadata": {
    "vscode": {
     "languageId": "r"
    }
   },
   "outputs": [],
   "source": [
    "ptm <- proc.time()\n",
    "\n",
    "MNN_adt <- reducedMNN(seurObj3@reductions$pca_adt@cell.embeddings,\n",
    "                 batch=seurObj3$batch, #specify batches\n",
    "                 #merge.order= unique(seurObj$batch),\n",
    "                 BPPARAM=MulticoreParam(workers=12), #parallelisation\n",
    "                 BNPARAM=HnswParam())\n",
    "\n",
    "proc.time() - ptm"
   ]
  },
  {
   "cell_type": "code",
   "execution_count": null,
   "id": "white-triangle",
   "metadata": {
    "vscode": {
     "languageId": "r"
    }
   },
   "outputs": [],
   "source": [
    "seurObj3[[\"mnn_adt\"]] <- CreateDimReducObject(embeddings=MNN_adt$corrected,\n",
    "                                        assay=\"ADTdsb\",\n",
    "                                        key=\"mnnadt_\")"
   ]
  },
  {
   "cell_type": "code",
   "execution_count": null,
   "id": "documented-productivity",
   "metadata": {
    "scrolled": true,
    "vscode": {
     "languageId": "r"
    }
   },
   "outputs": [],
   "source": [
    "ptm <- proc.time()\n",
    "\n",
    "seurObj3 <- FindMultiModalNeighbors(seurObj3, knn.graph.name = 'wknn_mnn',\n",
    "                                   snn.graph.name = 'wsnn_mnn',\n",
    "                                   weighted.nn.name = 'weighted.nn_mnn',\n",
    "                                   reduction.list=list('mnn_rna', 'mnn_adt'),\n",
    "                                   dims.list=list(1:dims_rna3,1:dims_adt3))\n",
    "\n",
    "proc.time() - ptm"
   ]
  },
  {
   "cell_type": "code",
   "execution_count": null,
   "id": "mysterious-injury",
   "metadata": {
    "vscode": {
     "languageId": "r"
    }
   },
   "outputs": [],
   "source": [
    "seurObj3 <- RunUMAP(seurObj3, nn.name = \"weighted.nn_mnn\", reduction.name = \"umap_wnn_mnn\",n.neighbors = 50,\n",
    "                        reduction.key = \"wnnmnnUMAP_\")"
   ]
  },
  {
   "cell_type": "code",
   "execution_count": null,
   "id": "specified-inspiration",
   "metadata": {
    "vscode": {
     "languageId": "r"
    }
   },
   "outputs": [],
   "source": [
    "options(repr.plot.width=8, repr.plot.height=6)\n",
    "DimPlot(seurObj3, reduction = 'umap_wnn_mnn', group.by = 'sample', cols=pal12)+labs(title='WNN MNN UMAP (post-QC)')\n",
    "DimPlot(seurObj, reduction = 'umap_wnn_mnn', group.by = 'sample', cols=pal12)+labs(title='WNN MNN UMAP (pre-QC)')"
   ]
  },
  {
   "cell_type": "code",
   "execution_count": null,
   "id": "identified-eleven",
   "metadata": {
    "vscode": {
     "languageId": "r"
    }
   },
   "outputs": [],
   "source": [
    "options(repr.plot.width=7, repr.plot.height=6)\n",
    "\n",
    "FeaturePlot(seurObj3, features = 'nFeature_ADT', reduction = 'umap_wnn_mnn', order=T)+scale_color_viridis()"
   ]
  },
  {
   "cell_type": "code",
   "execution_count": null,
   "id": "accessible-distributor",
   "metadata": {
    "vscode": {
     "languageId": "r"
    }
   },
   "outputs": [],
   "source": [
    "options(repr.plot.width=14, repr.plot.height=6)\n",
    "\n",
    "FeaturePlot(seurObj3, features = c('ADTdsb.weight', 'RNA.weight'), reduction = 'umap_wnn_mnn', order=T)&scale_color_viridis()"
   ]
  },
  {
   "cell_type": "code",
   "execution_count": null,
   "id": "accompanied-knowing",
   "metadata": {
    "vscode": {
     "languageId": "r"
    }
   },
   "outputs": [],
   "source": [
    "options(repr.plot.width=16, repr.plot.height=5)\n",
    "\n",
    "FeaturePlot(seurObj3, features = c('adtdsb_CD4', 'adtdsb_CD8', 'adtdsb_CD34'), ncol=3, reduction = 'umap_wnn_mnn', order=T)&scale_color_viridis()"
   ]
  },
  {
   "cell_type": "code",
   "execution_count": null,
   "id": "maritime-plate",
   "metadata": {
    "vscode": {
     "languageId": "r"
    }
   },
   "outputs": [],
   "source": [
    "SaveH5Seurat(seurObj3, './HTSA_CITE_WNN.h5seurat', overwrite = TRUE)"
   ]
  },
  {
   "cell_type": "code",
   "execution_count": null,
   "id": "mounted-transition",
   "metadata": {
    "vscode": {
     "languageId": "r"
    }
   },
   "outputs": [],
   "source": [
    "seurObj3 <- LoadH5Seurat('./HTSA_CITE_WNN.h5seurat')"
   ]
  },
  {
   "cell_type": "markdown",
   "id": "regulation-sarah",
   "metadata": {},
   "source": [
    "## ADT technical artefacts\n",
    "\n",
    "We had previously noted a subset of cells co-staining for several antibodies, despite not being biologically related or expected to express these markers. This involved only antibodies that had been individually titrated and added to the panel; antibodies in the Human Universal Cocktail were not affected. An in depth investigation revealed this to be most likely caused by antibody aggregation prior to cell staining, resulting in a technical artefact with false-positive cells. To reduce the impact of this artefact on the UMAP structure, it is best to remove the affected cells wherever possible.\n",
    "\n",
    "Affected markers: CD357, CD370, TCRgd, XCR1, CD199, TCRVa24-Ja18"
   ]
  },
  {
   "cell_type": "code",
   "execution_count": null,
   "id": "frozen-clone",
   "metadata": {
    "vscode": {
     "languageId": "r"
    }
   },
   "outputs": [],
   "source": [
    "options(repr.plot.width=14, repr.plot.height=10)\n",
    "\n",
    "FeaturePlot(seurObj3, features = c('adtdsb_CD357', 'adtdsb_TCRgd', 'adtdsb_XCR1', 'adtdsb_CD370', 'adtdsb_CD199', \"adtdsb_TCRVa24-Ja18\"), min.cutoff = 'q05', max.cutoff = 'q95', ncol=3, reduction = 'umap_wnn_mnn', order=T)&scale_color_viridis()"
   ]
  },
  {
   "cell_type": "code",
   "execution_count": null,
   "id": "secret-cedar",
   "metadata": {
    "vscode": {
     "languageId": "r"
    }
   },
   "outputs": [],
   "source": [
    "options(repr.plot.width=12, repr.plot.height=5)\n",
    "\n",
    "FeatureScatter(seurObj3, feature1 = \"adtdsb_CD370\", feature2 =  'adtdsb_CD357', group.by = 'anno_CITE_4v5', pt.size = 2)\n",
    "FeatureScatter(seurObj3, feature1 = \"adtdsb_TCRgd\", feature2 =  'adtdsb_CD357', group.by = 'anno_CITE_4v5', pt.size = 2)\n",
    "FeatureScatter(seurObj3, feature1 = \"adtdsb_TCRgd\", feature2 =  'adtdsb_XCR1', group.by = 'anno_CITE_4v5', pt.size = 2)\n",
    "FeatureScatter(seurObj3, feature1 = \"adtdsb_TCRVa24-Ja18\", feature2 = 'adtdsb_TCRgd', group.by = 'anno_CITE_4v5', pt.size = 2)"
   ]
  },
  {
   "cell_type": "markdown",
   "id": "institutional-stocks",
   "metadata": {},
   "source": [
    "We can set specific thresholds to tag cells affected by the artefact."
   ]
  },
  {
   "cell_type": "code",
   "execution_count": null,
   "id": "coated-poster",
   "metadata": {
    "vscode": {
     "languageId": "r"
    }
   },
   "outputs": [],
   "source": [
    "cells_artefact <- WhichCells(seurObj3, expression = (adtdsb_TCRgd > 30 & (adtdsb_CD370 > 30 | adtdsb_CD357 > 30 | adtdsb_XCR1 >50 | `adtdsb_TCRVa24-Ja18` >50)))"
   ]
  },
  {
   "cell_type": "code",
   "execution_count": null,
   "id": "bright-fashion",
   "metadata": {
    "vscode": {
     "languageId": "r"
    }
   },
   "outputs": [],
   "source": [
    "options(repr.plot.width=8, repr.plot.height=6)\n",
    "DimPlot(seurObj3, reduction = 'umap_wnn_mnn', cells.highlight = cells_artefact, order=T,sizes.highlight = 1.5, raster = FALSE)"
   ]
  },
  {
   "cell_type": "code",
   "execution_count": null,
   "id": "posted-reaction",
   "metadata": {
    "vscode": {
     "languageId": "r"
    }
   },
   "outputs": [],
   "source": [
    "options(repr.plot.width=8, repr.plot.height=6)\n",
    "DimPlot(seurObj3, reduction = 'umap_adt_mnn', cells.highlight = cells_artefact, order=T,sizes.highlight = 1.5, raster = FALSE)"
   ]
  },
  {
   "cell_type": "code",
   "execution_count": null,
   "id": "accessory-ribbon",
   "metadata": {
    "vscode": {
     "languageId": "r"
    }
   },
   "outputs": [],
   "source": [
    "options(repr.plot.width=8, repr.plot.height=6)\n",
    "DimPlot(seurObj3, reduction = 'umap_rna_mnn', cells.highlight = cells_artefact, order=T, sizes.highlight = 1.5, raster = FALSE)"
   ]
  },
  {
   "cell_type": "markdown",
   "id": "mathematical-grammar",
   "metadata": {},
   "source": [
    "Note that the cells cluster together in the ADT and partially in the WNN UMAP but not in the RNA UMAP, confirming that these are 'similar' in their surface profile but completley distinct in their gene expression/identity.\n",
    "\n",
    "We therefore remove these cells from the data set. This affects 466 cells in total."
   ]
  },
  {
   "cell_type": "code",
   "execution_count": null,
   "id": "worldwide-mineral",
   "metadata": {
    "vscode": {
     "languageId": "r"
    }
   },
   "outputs": [],
   "source": [
    "seurObj4 <- subset(seurObj3, cells = WhichCells(seurObj3, expression = (adtdsb_TCRgd > 30 & (adtdsb_CD370 > 30 | adtdsb_CD357 > 30 | adtdsb_CD199 > 25)) | adtdsb_XCR1 >50 | adtdsb_CD370 >50 | adtdsb_CD357 > 100), invert=TRUE)"
   ]
  },
  {
   "cell_type": "code",
   "execution_count": null,
   "id": "rapid-chance",
   "metadata": {
    "vscode": {
     "languageId": "r"
    }
   },
   "outputs": [],
   "source": [
    "length(colnames(seurObj3))-length(colnames(seurObj4))"
   ]
  },
  {
   "cell_type": "markdown",
   "id": "improving-lighting",
   "metadata": {},
   "source": [
    "We then repeat the full batch-correction/integration procedure once more."
   ]
  },
  {
   "cell_type": "code",
   "execution_count": null,
   "id": "american-coverage",
   "metadata": {
    "vscode": {
     "languageId": "r"
    }
   },
   "outputs": [],
   "source": [
    "seurObj4 <- seurObj4  %>%\n",
    "            NormalizeData(assay = 'RNA') %>%\n",
    "            FindVariableFeatures(assay = 'RNA') %>%\n",
    "            ScaleData(assay = 'RNA') %>%\n",
    "            RunPCA(assay = 'RNA', npcs = 50, reduction.name = 'pca_rna')"
   ]
  },
  {
   "cell_type": "code",
   "execution_count": null,
   "id": "integral-republic",
   "metadata": {
    "vscode": {
     "languageId": "r"
    }
   },
   "outputs": [],
   "source": [
    "dims_rna4 <- PCcutoff(seurObj4@reductions$pca_rna, 0.1)\n",
    "dims_rna4"
   ]
  },
  {
   "cell_type": "code",
   "execution_count": null,
   "id": "driving-vertical",
   "metadata": {
    "vscode": {
     "languageId": "r"
    }
   },
   "outputs": [],
   "source": [
    "ptm <- proc.time()\n",
    "\n",
    "MNN_rna <- reducedMNN(seurObj4@reductions$pca_rna@cell.embeddings,\n",
    "                 batch=seurObj4$batch, #specify batches\n",
    "                 #merge.order= unique(seurObj$batch),\n",
    "                 BPPARAM=MulticoreParam(workers=12), #parallelisation\n",
    "                 BNPARAM=HnswParam())\n",
    "\n",
    "proc.time() - ptm"
   ]
  },
  {
   "cell_type": "code",
   "execution_count": null,
   "id": "stone-proposition",
   "metadata": {
    "vscode": {
     "languageId": "r"
    }
   },
   "outputs": [],
   "source": [
    "seurObj4[[\"mnn_rna\"]] <- CreateDimReducObject(embeddings=MNN_rna$corrected,\n",
    "                                        assay=\"RNA\",\n",
    "                                        key=\"mnnrna_\")"
   ]
  },
  {
   "cell_type": "code",
   "execution_count": null,
   "id": "secure-vertical",
   "metadata": {
    "vscode": {
     "languageId": "r"
    }
   },
   "outputs": [],
   "source": [
    "seurObj4 <- seurObj4  %>%\n",
    "            ScaleData(assay = 'ADTdsb') %>%\n",
    "            RunPCA(assay = 'ADTdsb', npcs = 50, reduction.name = 'pca_adt')"
   ]
  },
  {
   "cell_type": "code",
   "execution_count": null,
   "id": "brilliant-inspection",
   "metadata": {
    "vscode": {
     "languageId": "r"
    }
   },
   "outputs": [],
   "source": [
    "dims_adt4 <- PCcutoff(seurObj4@reductions$pca_adt, 0.1) \n",
    "dims_adt4"
   ]
  },
  {
   "cell_type": "code",
   "execution_count": null,
   "id": "certified-grain",
   "metadata": {
    "vscode": {
     "languageId": "r"
    }
   },
   "outputs": [],
   "source": [
    "ptm <- proc.time()\n",
    "\n",
    "MNN_adt <- reducedMNN(seurObj4@reductions$pca_adt@cell.embeddings,\n",
    "                 batch=seurObj4$batch, #specify batches\n",
    "                 #merge.order= unique(seurObj$batch),\n",
    "                 BPPARAM=MulticoreParam(workers=12), #parallelisation\n",
    "                 BNPARAM=HnswParam())\n",
    "\n",
    "proc.time() - ptm"
   ]
  },
  {
   "cell_type": "code",
   "execution_count": null,
   "id": "younger-standard",
   "metadata": {
    "vscode": {
     "languageId": "r"
    }
   },
   "outputs": [],
   "source": [
    "seurObj4[[\"mnn_adt\"]] <- CreateDimReducObject(embeddings=MNN_adt$corrected,\n",
    "                                        assay=\"ADTdsb\",\n",
    "                                        key=\"mnnadt_\")"
   ]
  },
  {
   "cell_type": "code",
   "execution_count": null,
   "id": "processed-madonna",
   "metadata": {
    "scrolled": true,
    "vscode": {
     "languageId": "r"
    }
   },
   "outputs": [],
   "source": [
    "ptm <- proc.time()\n",
    "\n",
    "seurObj4 <- FindMultiModalNeighbors(seurObj4, knn.graph.name = 'wknn_mnn',\n",
    "                                   snn.graph.name = 'wsnn_mnn',\n",
    "                                   weighted.nn.name = 'weighted.nn_mnn',\n",
    "                                   reduction.list=list('mnn_rna', 'mnn_adt'),\n",
    "                                   dims.list=list(1:dims_rna4,1:dims_adt4))\n",
    "\n",
    "proc.time() - ptm"
   ]
  },
  {
   "cell_type": "code",
   "execution_count": null,
   "id": "competitive-incentive",
   "metadata": {
    "vscode": {
     "languageId": "r"
    }
   },
   "outputs": [],
   "source": [
    "seurObj4 <- RunUMAP(seurObj4, nn.name = \"weighted.nn_mnn\", reduction.name = \"umap_wnn_mnn\",n.neighbors = 50,\n",
    "                        reduction.key = \"wnnmnnUMAP_\")"
   ]
  },
  {
   "cell_type": "code",
   "execution_count": null,
   "id": "female-trailer",
   "metadata": {
    "vscode": {
     "languageId": "r"
    }
   },
   "outputs": [],
   "source": [
    "options(repr.plot.width=8, repr.plot.height=6)\n",
    "DimPlot(seurObj3, reduction = 'umap_wnn_mnn', group.by = 'sample', cols=pal12)+labs(title='WNN MNN UMAP (post-QC1)')\n",
    "DimPlot(seurObj4, reduction = 'umap_wnn_mnn', group.by = 'sample', cols=pal12)+labs(title='WNN MNN UMAP (post-QC2)')"
   ]
  },
  {
   "cell_type": "code",
   "execution_count": null,
   "id": "thick-wednesday",
   "metadata": {
    "vscode": {
     "languageId": "r"
    }
   },
   "outputs": [],
   "source": [
    "options(repr.plot.width=14, repr.plot.height=6)\n",
    "\n",
    "FeaturePlot(seurObj4, features = c('ADTdsb.weight', 'RNA.weight'), reduction = 'umap_wnn_mnn', order=T)&scale_color_viridis()"
   ]
  },
  {
   "cell_type": "code",
   "execution_count": null,
   "id": "helpful-thunder",
   "metadata": {
    "vscode": {
     "languageId": "r"
    }
   },
   "outputs": [],
   "source": [
    "options(repr.plot.width=14, repr.plot.height=10)\n",
    "\n",
    "FeaturePlot(seurObj4, features = c('adtdsb_CD357', 'adtdsb_TCRgd', 'adtdsb_XCR1', 'adtdsb_CD370', 'adtdsb_CD199', \"adtdsb_TCRVa24-Ja18\"), min.cutoff = 'q05', max.cutoff = 'q95', ncol=3, reduction = 'umap_wnn_mnn', order=T)&scale_color_viridis()"
   ]
  },
  {
   "cell_type": "markdown",
   "id": "sunrise-shelter",
   "metadata": {},
   "source": [
    "Note that cells that are true-positive for the affected markers are still retained in the data set, e.g. CD357+ Tregs and gd T cells. This is because false-positive thresholding was done on a combination of markers, which are not normally co-expressed. "
   ]
  },
  {
   "cell_type": "code",
   "execution_count": null,
   "id": "flush-federation",
   "metadata": {
    "vscode": {
     "languageId": "r"
    }
   },
   "outputs": [],
   "source": [
    "options(repr.plot.width=16, repr.plot.height=5)\n",
    "\n",
    "FeaturePlot(seurObj4, features = c('adtdsb_CD34', 'adtdsb_CD4', 'adtdsb_CD31'), ncol=3, reduction = 'umap_wnn_mnn', order=T)&scale_color_viridis()"
   ]
  },
  {
   "cell_type": "code",
   "execution_count": null,
   "id": "russian-greece",
   "metadata": {
    "vscode": {
     "languageId": "r"
    }
   },
   "outputs": [],
   "source": [
    "seurObj4 <- RunSPCA(seurObj4, assay='RNA', graph='wsnn_mnn')"
   ]
  },
  {
   "cell_type": "code",
   "execution_count": null,
   "id": "sufficient-nothing",
   "metadata": {
    "vscode": {
     "languageId": "r"
    }
   },
   "outputs": [],
   "source": [
    "SaveH5Seurat(seurObj4, './HTSA_CITE_WNN_corr.h5seurat', overwrite = TRUE)"
   ]
  }
 ],
 "metadata": {
  "kernelspec": {
   "display_name": "R",
   "language": "R",
   "name": "ir"
  },
  "language_info": {
   "codemirror_mode": "r",
   "file_extension": ".r",
   "mimetype": "text/x-r-source",
   "name": "R",
   "pygments_lexer": "r",
   "version": "4.0.4"
  }
 },
 "nbformat": 4,
 "nbformat_minor": 5
}
