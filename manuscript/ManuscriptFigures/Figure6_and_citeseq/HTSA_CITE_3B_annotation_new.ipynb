{
 "cells": [
  {
   "cell_type": "markdown",
   "id": "aquatic-means",
   "metadata": {},
   "source": [
    "# CITEseq data analysis\n",
    "*Author: Lena Boehme, Taghon lab, 2023*\n",
    "\n",
    "## Annotation - new\n",
    "\n",
    "This script documents the second round of annotation of the CITE-seq data. The entire dataset went through a prior round of annotation and marker discovery (see script 3A_annotation_old), which has provided a reference for the new annotation in terms of individual cell labels and gene/protein expression signatures associated with specific stages.\n",
    "\n",
    "The annotations defined in this script are the ones used in the HTSA manuscript, old annotations represent those in the bioRxiv preprint."
   ]
  },
  {
   "cell_type": "markdown",
   "id": "laden-asset",
   "metadata": {},
   "source": [
    "### Setup"
   ]
  },
  {
   "cell_type": "code",
   "execution_count": null,
   "id": "outdoor-amsterdam",
   "metadata": {
    "scrolled": true,
    "vscode": {
     "languageId": "r"
    }
   },
   "outputs": [],
   "source": [
    "options(repr.plot.width=12, repr.plot.height=6)\n",
    "\n",
    "options(scipen=100) #avoid scientific notation of numbers\n",
    "\n",
    "library(SeuratDisk)\n",
    "library(Seurat)\n",
    "library(matrixStats)\n",
    "library(ggplot2)\n",
    "library(pheatmap)\n",
    "library(reshape2)\n",
    "library(dplyr)\n",
    "library(tidyr)\n",
    "library(viridis)\n",
    "library(RColorBrewer)\n",
    "library(stringr)\n",
    "library(ggalluvial)\n",
    "\n",
    "library(batchelor)\n",
    "library(BiocParallel)\n",
    "library(BiocNeighbors)\n",
    "\n",
    "library(singleCellHaystack)\n",
    "\n",
    "library(slingshot)\n",
    "library(SingleCellExperiment)"
   ]
  },
  {
   "cell_type": "code",
   "execution_count": null,
   "id": "damaged-feature",
   "metadata": {
    "scrolled": true,
    "vscode": {
     "languageId": "r"
    }
   },
   "outputs": [],
   "source": [
    "sessionInfo()"
   ]
  },
  {
   "cell_type": "code",
   "execution_count": null,
   "id": "naval-europe",
   "metadata": {
    "vscode": {
     "languageId": "r"
    }
   },
   "outputs": [],
   "source": [
    "pal24 <- colorRampPalette(brewer.pal(12, \"Paired\"))(24)\n",
    "pal36 <- colorRampPalette(brewer.pal(12, \"Paired\"))(36)\n",
    "pal12 <- colorRampPalette(brewer.pal(12, \"Paired\"))(12)\n",
    "pal60 <- colorRampPalette(brewer.pal(12, \"Paired\"))(60)\n",
    "pal40 <- colorRampPalette(brewer.pal(12, \"Paired\"))(40)"
   ]
  },
  {
   "cell_type": "code",
   "execution_count": null,
   "id": "essential-visitor",
   "metadata": {
    "vscode": {
     "languageId": "r"
    }
   },
   "outputs": [],
   "source": [
    "#PC cutoff function\n",
    "PCcutoff <- function(pca, diff){\n",
    "    var_pc <- pca@stdev/sum(pca@stdev)*100 #calculate % variation associated with each PC\n",
    "    diffvar_pc <- var_pc[1:length(var_pc)-1] - var_pc[2:length(var_pc)] #calculate difference in variation between subsequent PC\n",
    "    sort(which(diffvar_pc >diff), decreasing=TRUE)[1]+1 #determine which PC is the last one where the variation is more that x% higher compared to the next PC\n",
    "}\n",
    "#pca: the pca slot in the seurat object\n",
    "#diff: the % difference in variation between two subsequent PCs to be used as cutoff"
   ]
  },
  {
   "cell_type": "markdown",
   "id": "premier-label",
   "metadata": {},
   "source": [
    "We load the newly processed data that has been QC-ed, denoised and integration. We still have old annotations from RNA-based annotation and the previous iteration of CITE-seq annotation, which we can utilise as reference if needed."
   ]
  },
  {
   "cell_type": "code",
   "execution_count": null,
   "id": "removed-requirement",
   "metadata": {
    "vscode": {
     "languageId": "r"
    }
   },
   "outputs": [],
   "source": [
    "seurObj <- LoadH5Seurat('./HTSA_CITE_WNN_corr.h5seurat')"
   ]
  },
  {
   "cell_type": "code",
   "execution_count": null,
   "id": "excessive-finland",
   "metadata": {
    "vscode": {
     "languageId": "r"
    }
   },
   "outputs": [],
   "source": [
    "DefaultAssay(seurObj) <- 'ADTdsb'"
   ]
  },
  {
   "cell_type": "code",
   "execution_count": null,
   "id": "novel-conviction",
   "metadata": {
    "vscode": {
     "languageId": "r"
    }
   },
   "outputs": [],
   "source": [
    "ABs <- rownames(seurObj@assays$ADTdsb@data)[c(1:130, 138:150)]"
   ]
  },
  {
   "cell_type": "markdown",
   "id": "illegal-specialist",
   "metadata": {},
   "source": [
    "We have retained RNA- and CITE-based cell annotations for cells that had been included in the previous annotation workflow. We can use these as a rough guideline.\n",
    "\n",
    "Of note, we had previously observed technical artefacts during annotation, namely antibody aggregates for certain markers that resulted in false-positive staining on a handful of cells. Based on this knowledge the affected cells have already been filtered from this new version of the data set."
   ]
  },
  {
   "cell_type": "code",
   "execution_count": null,
   "id": "violent-reputation",
   "metadata": {
    "vscode": {
     "languageId": "r"
    }
   },
   "outputs": [],
   "source": [
    "options(repr.plot.width=12, repr.plot.height=6)\n",
    "\n",
    "DimPlot(seurObj, reduction = 'umap_wnn_mnn', group.by = 'pred_cell_type_level_4', cols = sample(pal60))+labs(title=\"WNN UMAP - broad RNA annotations\")\n",
    "DimPlot(seurObj, reduction = 'umap_wnn_mnn', group.by = 'anno_CITE_4v5', cols = sample(pal60))+labs(title=\"WNN UMAP - previous CITE annotations\")"
   ]
  },
  {
   "cell_type": "code",
   "execution_count": null,
   "id": "lovely-contamination",
   "metadata": {
    "vscode": {
     "languageId": "r"
    }
   },
   "outputs": [],
   "source": [
    "seurObj$anno_CITE_4v5 %>% table\n",
    "seurObj$anno_CITE_old <- seurObj$anno_CITE_4v5"
   ]
  },
  {
   "cell_type": "markdown",
   "id": "artistic-contractor",
   "metadata": {},
   "source": [
    "The CITE annotations still contain several outdated labels that originated in RNA clustering but do no represent true CITE-seq derived cell categorisation. For better old-new comparisons, we replace these labels with the appropriate overarching CITE-seq annotation."
   ]
  },
  {
   "cell_type": "code",
   "execution_count": null,
   "id": "announced-anniversary",
   "metadata": {
    "vscode": {
     "languageId": "r"
    }
   },
   "outputs": [],
   "source": [
    "Idents(seurObj) <- seurObj$anno_CITE_old\n",
    "seurObj@meta.data[WhichCells(seurObj, idents = c('', 'nan')),'anno_CITE_old'] <- 'unknown'\n",
    "seurObj@meta.data[WhichCells(seurObj, idents = c('DP(Q)_Th2', 'DP(Q)_HSPH1', 'DP(Q)_CD199', 'DP(Q)_CD99_CD31lo', 'DP(Q)_CD99_CD31hi')),'anno_CITE_old'] <- 'DP(Q)_rearr'"
   ]
  },
  {
   "cell_type": "code",
   "execution_count": null,
   "id": "concerned-crossing",
   "metadata": {
    "vscode": {
     "languageId": "r"
    }
   },
   "outputs": [],
   "source": [
    "celltypes <- names(table(seurObj$anno_CITE_old))\n",
    "names(celltypes) <- seq_along(celltypes)\n",
    "celltypes"
   ]
  },
  {
   "cell_type": "code",
   "execution_count": null,
   "id": "native-restaurant",
   "metadata": {
    "vscode": {
     "languageId": "r"
    }
   },
   "outputs": [],
   "source": [
    "celltypes_ordered <- celltypes[c(39, 6:9, 12, 14, 16, 15, 17, 13, 11, 27, 29, 28, 30, 33, 31, 32, 35:37, 34, 38,2:5, 18, 20, 19, 21, 26, 24, 25, 22, 23, 1, 10, 40)]"
   ]
  },
  {
   "cell_type": "code",
   "execution_count": null,
   "id": "civilian-fashion",
   "metadata": {
    "vscode": {
     "languageId": "r"
    }
   },
   "outputs": [],
   "source": [
    "seurObj$anno_CITE_old <- factor(seurObj$anno_CITE_old, levels=celltypes_ordered)"
   ]
  },
  {
   "cell_type": "code",
   "execution_count": null,
   "id": "amended-robinson",
   "metadata": {
    "vscode": {
     "languageId": "r"
    }
   },
   "outputs": [],
   "source": [
    "seurObj$anno_CITE_old %>% table"
   ]
  },
  {
   "cell_type": "markdown",
   "id": "directed-variety",
   "metadata": {},
   "source": [
    "### Cell cycle scoring\n",
    "\n",
    "Cell cycle scoring was not retained and the updated RNA processing may have shifted the detection of certain genes. We therefore repeat the scoring on the new data to determine cell cycle stages for each cells."
   ]
  },
  {
   "cell_type": "code",
   "execution_count": null,
   "id": "ready-gross",
   "metadata": {
    "vscode": {
     "languageId": "r"
    }
   },
   "outputs": [],
   "source": [
    "DefaultAssay(seurObj) <- 'RNA'\n",
    "\n",
    "seurObj <- CellCycleScoring(seurObj, s.features = cc.genes.updated.2019$s.genes, g2m.features = cc.genes.updated.2019$g2m.genes, set.ident = FALSE)\n",
    "\n",
    "DefaultAssay(seurObj) <- 'ADTdsb'"
   ]
  },
  {
   "cell_type": "code",
   "execution_count": null,
   "id": "color-halifax",
   "metadata": {
    "vscode": {
     "languageId": "r"
    }
   },
   "outputs": [],
   "source": [
    "options(repr.plot.width=8, repr.plot.height=6)\n",
    "\n",
    "DimPlot(seurObj, reduction = 'umap_wnn_mnn', group.by = 'Phase')+labs(title=\"WNN UMAP - Cell cycle phase\")"
   ]
  },
  {
   "cell_type": "markdown",
   "id": "basic-brief",
   "metadata": {},
   "source": [
    "### Rough clustering\n",
    "\n",
    "To obtain rough subpopulations that can serve as a starting point for annotation, we cluster on the sPCA (previously calculated on the batch corrected WNN UMAP) with low resolution."
   ]
  },
  {
   "cell_type": "code",
   "execution_count": null,
   "id": "comparable-meaning",
   "metadata": {
    "vscode": {
     "languageId": "r"
    }
   },
   "outputs": [],
   "source": [
    "ptm <- proc.time()\n",
    "\n",
    "seurObj <- FindNeighbors(seurObj,reduction= 'spca', dims=1:15)\n",
    "\n",
    "proc.time() - ptm"
   ]
  },
  {
   "cell_type": "code",
   "execution_count": null,
   "id": "falling-medicare",
   "metadata": {
    "vscode": {
     "languageId": "r"
    }
   },
   "outputs": [],
   "source": [
    "ptm <- proc.time()\n",
    "\n",
    "seurObj <- FindClusters(seurObj, graph.name = 'RNA_snn', algorithm = 4,\n",
    "                        resolution = 0.5, random.seed = 123, method = 'igraph',\n",
    "                       cluster.name='clusters_rough')\n",
    "\n",
    "proc.time() - ptm"
   ]
  },
  {
   "cell_type": "code",
   "execution_count": null,
   "id": "worthy-testimony",
   "metadata": {
    "vscode": {
     "languageId": "r"
    }
   },
   "outputs": [],
   "source": [
    "table(seurObj$clusters_rough)"
   ]
  },
  {
   "cell_type": "code",
   "execution_count": null,
   "id": "round-opportunity",
   "metadata": {
    "vscode": {
     "languageId": "r"
    }
   },
   "outputs": [],
   "source": [
    "options(repr.plot.width=8, repr.plot.height=7)\n",
    "\n",
    "DimPlot(seurObj, reduction = 'umap_wnn_mnn', group.by = 'clusters_rough', cols=pal12)+labs(title=\"WNN UMAP - ADT rough clustering\")\n",
    "DimPlot(seurObj, reduction = 'umap_adt_mnn', group.by = 'clusters_rough', cols=pal12)+labs(title=\"ADT UMAP - ADT rough clustering\")\n",
    "DimPlot(seurObj, reduction = 'umap_rna_mnn', group.by = 'clusters_rough', cols=pal12)+labs(title=\"RNA UMAP - ADT rough clustering\")"
   ]
  },
  {
   "cell_type": "code",
   "execution_count": null,
   "id": "boolean-tumor",
   "metadata": {
    "vscode": {
     "languageId": "r"
    }
   },
   "outputs": [],
   "source": [
    "options(repr.plot.width=16, repr.plot.height=10)\n",
    "\n",
    "VlnPlot(seurObj, features=c('CD34', 'CD8', 'CD4', 'CD3', 'TCRab', 'TCRgd', 'CD1a', 'CD27', 'CD69'), pt.size = 0, group.by = 'clusters_rough', assay = 'ADTdsb', cols=pal12)"
   ]
  },
  {
   "cell_type": "markdown",
   "id": "suffering-premises",
   "metadata": {},
   "source": [
    "We can derive broad cluster annotations based on the expression of a few markers and the composition of the UMAP:\n",
    "\n",
    "- 7+11: DNs\n",
    "- 12: B/DC\n",
    "- 5+8: DP(P)\n",
    "- 1+3+6: DP(Q)\n",
    "- 9: Treg\n",
    "- 2: ab lineage\n",
    "- 4: SP\n",
    "- 10: CD8aa/NK/gdT"
   ]
  },
  {
   "cell_type": "markdown",
   "id": "automotive-tobago",
   "metadata": {},
   "source": [
    "### DN annotation\n",
    "\n",
    "We start the annotation process at the most immature T cell precursors (cluster7/11)."
   ]
  },
  {
   "cell_type": "code",
   "execution_count": null,
   "id": "complicated-primary",
   "metadata": {
    "vscode": {
     "languageId": "r"
    }
   },
   "outputs": [],
   "source": [
    "seurObj_DN <- subset(seurObj, subset=clusters_rough %in% c(7,11))"
   ]
  },
  {
   "cell_type": "code",
   "execution_count": null,
   "id": "interesting-loading",
   "metadata": {
    "vscode": {
     "languageId": "r"
    }
   },
   "outputs": [],
   "source": [
    "options(repr.plot.width=8, repr.plot.height=7)\n",
    "\n",
    "DimPlot(seurObj_DN, reduction = 'umap_wnn_mnn', group.by = 'clusters_rough', cols=pal12)+labs(title=\"WNN UMAP - ADT rough clustering\")"
   ]
  },
  {
   "cell_type": "code",
   "execution_count": null,
   "id": "super-brisbane",
   "metadata": {
    "scrolled": true,
    "vscode": {
     "languageId": "r"
    }
   },
   "outputs": [],
   "source": [
    "seurObj_DN <- seurObj_DN  %>%\n",
    "            FindVariableFeatures(assay='ADTdsb') %>%\n",
    "            ScaleData(assay = 'ADTdsb') %>%\n",
    "            RunPCA(assay = 'ADTdsb', npcs = 50, reduction.name = 'pca_adt_DN')"
   ]
  },
  {
   "cell_type": "code",
   "execution_count": null,
   "id": "restricted-democrat",
   "metadata": {
    "scrolled": true,
    "vscode": {
     "languageId": "r"
    }
   },
   "outputs": [],
   "source": [
    "MNN <- reducedMNN(seurObj_DN@reductions$pca_adt_DN@cell.embeddings,\n",
    "                 batch=seurObj_DN$sample,\n",
    "                 BPPARAM=MulticoreParam(workers=12), #parallelisation\n",
    "                 BNPARAM=HnswParam())\n",
    "\n",
    "seurObj_DN[[\"mnn_adt_DN\"]] <- CreateDimReducObject(embeddings=MNN$corrected,\n",
    "                                                 assay=\"ADTdsb\",\n",
    "                                                    key=\"mnn_\")"
   ]
  },
  {
   "cell_type": "code",
   "execution_count": null,
   "id": "colored-johnston",
   "metadata": {
    "vscode": {
     "languageId": "r"
    }
   },
   "outputs": [],
   "source": [
    "seurObj_DN <- seurObj_DN  %>%\n",
    "            FindVariableFeatures(assay='RNA') %>%\n",
    "            ScaleData(assay = 'RNA') %>%\n",
    "            RunPCA(assay = 'RNA', npcs = 50, reduction.name = 'pca_rna_DN')"
   ]
  },
  {
   "cell_type": "code",
   "execution_count": null,
   "id": "ceramic-synthesis",
   "metadata": {
    "scrolled": true,
    "vscode": {
     "languageId": "r"
    }
   },
   "outputs": [],
   "source": [
    "MNN <- reducedMNN(seurObj_DN@reductions$pca_rna_DN@cell.embeddings,\n",
    "                 batch=seurObj_DN$sample,\n",
    "                 BPPARAM=MulticoreParam(workers=12), #parallelisation\n",
    "                 BNPARAM=HnswParam())\n",
    "\n",
    "seurObj_DN[[\"mnn_rna_DN\"]] <- CreateDimReducObject(embeddings=MNN$corrected,\n",
    "                                                 assay=\"RNA\",\n",
    "                                                    key=\"mnn_\")"
   ]
  },
  {
   "cell_type": "code",
   "execution_count": null,
   "id": "greatest-cholesterol",
   "metadata": {
    "vscode": {
     "languageId": "r"
    }
   },
   "outputs": [],
   "source": [
    "dim_adt <- PCcutoff(seurObj_DN@reductions$pca_adt_DN, 0.1)\n",
    "dim_adt\n",
    "\n",
    "dim_rna <- PCcutoff(seurObj_DN@reductions$pca_rna_DN, 0.1)\n",
    "dim_rna\n",
    "\n",
    "seurObj_DN <- FindMultiModalNeighbors(seurObj_DN,\n",
    "                                  reduction.list=list('mnn_adt_DN', 'mnn_rna_DN'),\n",
    "                                   dims.list=list(1:dim_adt,1:dim_rna))"
   ]
  },
  {
   "cell_type": "code",
   "execution_count": null,
   "id": "sticky-nickel",
   "metadata": {
    "vscode": {
     "languageId": "r"
    }
   },
   "outputs": [],
   "source": [
    "seurObj_DN <- RunUMAP(seurObj_DN, nn.name = \"weighted.nn\", reduction.name = \"umap_wnn_DN\",\n",
    "                        reduction.key = \"wnnUMAP_\")"
   ]
  },
  {
   "cell_type": "code",
   "execution_count": null,
   "id": "honey-anaheim",
   "metadata": {
    "vscode": {
     "languageId": "r"
    }
   },
   "outputs": [],
   "source": [
    "options(repr.plot.width=8, repr.plot.height=7)\n",
    "\n",
    "DimPlot(seurObj_DN, reduction = 'umap_wnn_DN', group.by = 'clusters_rough')"
   ]
  },
  {
   "cell_type": "code",
   "execution_count": null,
   "id": "close-charm",
   "metadata": {
    "vscode": {
     "languageId": "r"
    }
   },
   "outputs": [],
   "source": [
    "options(repr.plot.width=12, repr.plot.height=10)\n",
    "\n",
    "DefaultAssay(seurObj_DN) <- 'ADTdsb'\n",
    "\n",
    "FeaturePlot(seurObj_DN, features=c('CD34', 'CD8', 'CD4', 'CD44', 'TCRab', 'TCRgd', 'CD1a', 'rna_RAG2', 'rna_PTCRA'), order=T,reduction='umap_wnn_DN')&scale_color_viridis()"
   ]
  },
  {
   "cell_type": "markdown",
   "id": "cosmetic-talent",
   "metadata": {},
   "source": [
    "As seen previously, clustering on this cell subset is not useful for distinguishing biologically different populations since, the clusters don't really align with the cell types we know to be present during early T cell development. Instead we can use manual cut-offs for expression of marker combinations to identify pre-/post-committment cells."
   ]
  },
  {
   "cell_type": "code",
   "execution_count": null,
   "id": "excessive-smell",
   "metadata": {
    "vscode": {
     "languageId": "r"
    }
   },
   "outputs": [],
   "source": [
    "options(repr.plot.width=7, repr.plot.height=6)\n",
    "\n",
    "FeatureScatter(seurObj_DN, feature1 = 'CD34', feature2 = 'CD44', group.by = 'clusters_DN', cols=pal24)\n",
    "FeatureScatter(seurObj_DN, feature1 = 'CD34', feature2 = 'CD1a', group.by = 'clusters_DN', cols=pal24)\n",
    "FeatureScatter(seurObj_DN, feature1 = 'CD1a', feature2 = 'CD44', group.by = 'clusters_DN', cols=pal24)\n",
    "FeatureScatter(seurObj_DN, feature1 = 'CD4', feature2 = 'CD8', group.by = 'clusters_DN', cols=pal24)\n",
    "FeatureScatter(seurObj_DN, feature1 = 'CD34', feature2 = 'CD4', group.by = 'clusters_DN', cols=pal24)\n"
   ]
  },
  {
   "cell_type": "markdown",
   "id": "compound-profile",
   "metadata": {},
   "source": [
    "High CD8 levels indicate DP stage, uncommitted cells have high CD44 and low CD1a as well as low CD4."
   ]
  },
  {
   "cell_type": "code",
   "execution_count": null,
   "id": "political-mississippi",
   "metadata": {
    "vscode": {
     "languageId": "r"
    }
   },
   "outputs": [],
   "source": [
    "seurObj_DN$anno_new <- 'unknown_DN'\n",
    "seurObj_DN$anno_new <- ifelse(colnames(seurObj_DN) %in% WhichCells(seurObj_DN, expression = CD8 > 7 & CD4 > 7 & CD34 < 50), \"unknown_DP\", seurObj_DN$anno_new)\n",
    "seurObj_DN$anno_new <- ifelse(colnames(seurObj_DN) %in% WhichCells(seurObj_DN, expression = CD8 < 7 & CD4 < 7), \"committed_CD4neg\", seurObj_DN$anno_new)\n",
    "seurObj_DN$anno_new <- ifelse(colnames(seurObj_DN) %in% WhichCells(seurObj_DN, expression = CD8 < 7 & CD4 > 7), \"committed_CD4pos\", seurObj_DN$anno_new)\n",
    "seurObj_DN$anno_new <- ifelse(colnames(seurObj_DN) %in% WhichCells(seurObj_DN, expression = CD34 > 50 & CD44 > 10 & CD1a < 8 & CD4 < 7), \"uncommitted\", seurObj_DN$anno_new)"
   ]
  },
  {
   "cell_type": "code",
   "execution_count": null,
   "id": "amber-driver",
   "metadata": {
    "vscode": {
     "languageId": "r"
    }
   },
   "outputs": [],
   "source": [
    "options(repr.plot.width=7, repr.plot.height=6)\n",
    "\n",
    "FeatureScatter(seurObj_DN, feature1 = 'CD34', feature2 = 'CD44', group.by = 'anno_new', cols=pal12)\n",
    "FeatureScatter(seurObj_DN, feature1 = 'CD34', feature2 = 'CD1a', group.by = 'anno_new', cols=pal12)\n",
    "FeatureScatter(seurObj_DN, feature1 = 'CD1a', feature2 = 'CD44', group.by = 'anno_new', cols=pal12)\n",
    "FeatureScatter(seurObj_DN, feature1 = 'CD4', feature2 = 'CD8', group.by = 'anno_new', cols=pal12)\n",
    "FeatureScatter(seurObj_DN, feature1 = 'CD34', feature2 = 'CD4', group.by = 'anno_new', cols=pal12)\n"
   ]
  },
  {
   "cell_type": "code",
   "execution_count": null,
   "id": "related-sustainability",
   "metadata": {
    "vscode": {
     "languageId": "r"
    }
   },
   "outputs": [],
   "source": [
    "options(repr.plot.width=8, repr.plot.height=7)\n",
    "\n",
    "DimPlot(seurObj_DN, reduction = 'umap_wnn_DN', group.by = 'anno_new', cols=pal12)"
   ]
  },
  {
   "cell_type": "markdown",
   "id": "cloudy-recovery",
   "metadata": {},
   "source": [
    "Using this strategy we can label cells with clear expression combos of known markers. There are cells that do not fit with classic marker categorisation e.g. cells with high CD44 and CD1a (schould be mutually exclusive at this stage) and CD44hi CD34lo cells. We label these as unknown, since for these the Totalseq staining may not be reliable enough.\n",
    "\n",
    "There also seems to be a non-negligible subset of DP thymocytes despite the subsetting for an early cluster.\n",
    "\n",
    "Since there will be some proliferating cells at this stage, we should distinguish these from quiescent ones in the annotation."
   ]
  },
  {
   "cell_type": "code",
   "execution_count": null,
   "id": "located-railway",
   "metadata": {
    "vscode": {
     "languageId": "r"
    }
   },
   "outputs": [],
   "source": [
    "table(seurObj_DN$anno_new, seurObj_DN$Phase)"
   ]
  },
  {
   "cell_type": "code",
   "execution_count": null,
   "id": "nominated-provincial",
   "metadata": {
    "vscode": {
     "languageId": "r"
    }
   },
   "outputs": [],
   "source": [
    "options(repr.plot.width=8, repr.plot.height=7)\n",
    "\n",
    "DimPlot(seurObj_DN, reduction = 'umap_wnn_DN', group.by = 'Phase')"
   ]
  },
  {
   "cell_type": "code",
   "execution_count": null,
   "id": "working-gates",
   "metadata": {
    "vscode": {
     "languageId": "r"
    }
   },
   "outputs": [],
   "source": [
    "seurObj_DN$anno_new <- ifelse(seurObj_DN$Phase %in% c('G2M', 'S') & seurObj_DN$anno_new == 'committed_CD4neg', \"committed_CD4neg(P)\", seurObj_DN$anno_new)\n",
    "seurObj_DN$anno_new <- ifelse(seurObj_DN$Phase %in% c('G2M', 'S') & seurObj_DN$anno_new == 'committed_CD4pos', \"committed_CD4pos(P)\", seurObj_DN$anno_new)"
   ]
  },
  {
   "cell_type": "code",
   "execution_count": null,
   "id": "manufactured-laser",
   "metadata": {
    "vscode": {
     "languageId": "r"
    }
   },
   "outputs": [],
   "source": [
    "table(seurObj_DN$anno_new, seurObj_DN$Phase)"
   ]
  },
  {
   "cell_type": "code",
   "execution_count": null,
   "id": "worse-symposium",
   "metadata": {
    "vscode": {
     "languageId": "r"
    }
   },
   "outputs": [],
   "source": [
    "options(repr.plot.width=8, repr.plot.height=6)\n",
    "\n",
    "DimPlot(seurObj_DN, reduction = 'umap_wnn_DN', group.by = 'anno_new', cols=pal12)"
   ]
  },
  {
   "cell_type": "code",
   "execution_count": null,
   "id": "activated-bibliography",
   "metadata": {
    "vscode": {
     "languageId": "r"
    }
   },
   "outputs": [],
   "source": [
    "options(repr.plot.width=16, repr.plot.height=14)\n",
    "\n",
    "VlnPlot(seurObj_DN, features=c('CD34', 'CD8', 'CD4', 'CD44','TCRgd', 'CD1a', 'CD3', 'rna_PTCRA', 'rna_TRDC', 'rna_TRGC1', 'rna_RAG2', 'rna_DNTT'), cols=pal12, group.by = 'anno_new', pt.size = 0, ncol=4)"
   ]
  },
  {
   "cell_type": "code",
   "execution_count": null,
   "id": "lesbian-engine",
   "metadata": {
    "vscode": {
     "languageId": "r"
    }
   },
   "outputs": [],
   "source": [
    "options(repr.plot.width=6, repr.plot.height=5)\n",
    "\n",
    "FeatureScatter(seurObj_DN, feature1 = 'CD199', feature2 = 'TCRgd', group.by = 'clusters_DN')\n",
    "FeatureScatter(seurObj_DN, feature1 = 'XCR1', feature2 = 'TCRgd', group.by = 'clusters_DN')\n",
    "FeatureScatter(seurObj_DN, feature1 = 'XCR1', feature2 = 'CD199', group.by = 'clusters_DN')\n",
    "FeatureScatter(seurObj_DN, feature1 = 'CD370', feature2 = 'CD199', group.by = 'clusters_DN')\n",
    "FeatureScatter(seurObj_DN, feature1 = 'CD370', feature2 = 'TCRgd', group.by = 'clusters_DN')"
   ]
  },
  {
   "cell_type": "markdown",
   "id": "pregnant-palmer",
   "metadata": {},
   "source": [
    "Despite previous efforts to remove cells with antibody aggregates, a small subset of CD199+ TCRgd+ CD370+ cells can be seen. Since these represent a potentially misleading technical artefact, we label these cells accordingly."
   ]
  },
  {
   "cell_type": "code",
   "execution_count": null,
   "id": "awful-likelihood",
   "metadata": {
    "vscode": {
     "languageId": "r"
    }
   },
   "outputs": [],
   "source": [
    "cells_artefact <- WhichCells(seurObj_DN, expression = TCRgd > 20 | CD199 > 20 | CD370 > 20)"
   ]
  },
  {
   "cell_type": "code",
   "execution_count": null,
   "id": "exclusive-syndicate",
   "metadata": {
    "vscode": {
     "languageId": "r"
    }
   },
   "outputs": [],
   "source": [
    "options(repr.plot.width=8, repr.plot.height=6)\n",
    "\n",
    "DimPlot(seurObj_DN, reduction = 'umap_wnn_DN', cells.highlight = cells_artefact)"
   ]
  },
  {
   "cell_type": "code",
   "execution_count": null,
   "id": "clean-seeker",
   "metadata": {
    "vscode": {
     "languageId": "r"
    }
   },
   "outputs": [],
   "source": [
    "table(seurObj_DN$anno_new, seurObj_DN$barcode %in% cells_artefact)"
   ]
  },
  {
   "cell_type": "code",
   "execution_count": null,
   "id": "colored-division",
   "metadata": {
    "vscode": {
     "languageId": "r"
    }
   },
   "outputs": [],
   "source": [
    "seurObj_DN$anno_new <- ifelse(colnames(seurObj_DN) %in% cells_artefact, \"unknown_techn\", seurObj_DN$anno_new)"
   ]
  },
  {
   "cell_type": "code",
   "execution_count": null,
   "id": "sustained-holiday",
   "metadata": {
    "vscode": {
     "languageId": "r"
    }
   },
   "outputs": [],
   "source": [
    "table(seurObj_DN$anno_new)"
   ]
  },
  {
   "cell_type": "markdown",
   "id": "several-slave",
   "metadata": {},
   "source": [
    "We add the new cell annotations to the full object."
   ]
  },
  {
   "cell_type": "code",
   "execution_count": null,
   "id": "anticipated-portable",
   "metadata": {
    "vscode": {
     "languageId": "r"
    }
   },
   "outputs": [],
   "source": [
    "seurObj$anno_new <- 'unknown'\n",
    "seurObj$anno_new[match(colnames(seurObj_DN), colnames(seurObj))] <- seurObj_DN$anno_new"
   ]
  },
  {
   "cell_type": "code",
   "execution_count": null,
   "id": "universal-albuquerque",
   "metadata": {
    "vscode": {
     "languageId": "r"
    }
   },
   "outputs": [],
   "source": [
    "table(seurObj$anno_new)"
   ]
  },
  {
   "cell_type": "code",
   "execution_count": null,
   "id": "charming-panic",
   "metadata": {
    "vscode": {
     "languageId": "r"
    }
   },
   "outputs": [],
   "source": [
    "options(repr.plot.width=8, repr.plot.height=6)\n",
    "\n",
    "DimPlot(seurObj, reduction = 'umap_wnn_mnn', group.by = 'anno_new', cols=pal12)"
   ]
  },
  {
   "cell_type": "code",
   "execution_count": null,
   "id": "excellent-illustration",
   "metadata": {
    "vscode": {
     "languageId": "r"
    }
   },
   "outputs": [],
   "source": [
    "options(repr.plot.width=7, repr.plot.height=6)\n",
    "\n",
    "DimPlot(seurObj, reduction = 'umap_wnn_mnn', group.by = 'clusters_rough', cols=pal12)"
   ]
  },
  {
   "cell_type": "markdown",
   "id": "specialized-amateur",
   "metadata": {},
   "source": [
    "### DP annotation\n",
    "\n",
    "We carry over the 'DP_unknown' fraction labelled in the DN annotation step and combine it with the clusters containing DPs for annotation of these stages."
   ]
  },
  {
   "cell_type": "code",
   "execution_count": null,
   "id": "injured-royalty",
   "metadata": {
    "vscode": {
     "languageId": "r"
    }
   },
   "outputs": [],
   "source": [
    "seurObj_DP <- subset(seurObj, subset=clusters_rough %in% c(1,3,5,6,8) | anno_new=='unknown_DP')"
   ]
  },
  {
   "cell_type": "code",
   "execution_count": null,
   "id": "superior-stage",
   "metadata": {
    "vscode": {
     "languageId": "r"
    }
   },
   "outputs": [],
   "source": [
    "options(repr.plot.width=8, repr.plot.height=7)\n",
    "\n",
    "DimPlot(seurObj, reduction = 'umap_wnn_mnn', cells.highlight = colnames(seurObj)[colnames(seurObj) %in% colnames(seurObj_DP)], shuffle = T, sizes.highlight = 2)"
   ]
  },
  {
   "cell_type": "code",
   "execution_count": null,
   "id": "induced-potato",
   "metadata": {
    "vscode": {
     "languageId": "r"
    }
   },
   "outputs": [],
   "source": [
    "table(seurObj_DP$clusters_rough)\n",
    "table(seurObj_DP$anno_new)"
   ]
  },
  {
   "cell_type": "code",
   "execution_count": null,
   "id": "social-making",
   "metadata": {
    "scrolled": true,
    "vscode": {
     "languageId": "r"
    }
   },
   "outputs": [],
   "source": [
    "seurObj_DP <- seurObj_DP  %>%\n",
    "            FindVariableFeatures(assay='ADTdsb') %>%\n",
    "            ScaleData(assay = 'ADTdsb') %>%\n",
    "            RunPCA(assay = 'ADTdsb', npcs = 50, reduction.name = 'pca_adt_DP')"
   ]
  },
  {
   "cell_type": "code",
   "execution_count": null,
   "id": "unsigned-calendar",
   "metadata": {
    "vscode": {
     "languageId": "r"
    }
   },
   "outputs": [],
   "source": [
    "MNN <- reducedMNN(seurObj_DP@reductions$pca_adt_DP@cell.embeddings,\n",
    "                 batch=seurObj_DP$sample,\n",
    "                 BPPARAM=MulticoreParam(workers=12), #parallelisation\n",
    "                 BNPARAM=HnswParam())\n",
    "seurObj_DP[[\"mnn_adt_DP\"]] <- CreateDimReducObject(embeddings=MNN$corrected,\n",
    "                                        assay=\"ADTdsb\",\n",
    "                                        key=\"mnn_\")"
   ]
  },
  {
   "cell_type": "code",
   "execution_count": null,
   "id": "double-mercy",
   "metadata": {
    "scrolled": true,
    "vscode": {
     "languageId": "r"
    }
   },
   "outputs": [],
   "source": [
    "seurObj_DP <- seurObj_DP  %>%\n",
    "            FindVariableFeatures(assay='RNA') %>%\n",
    "            ScaleData(assay = 'RNA') %>%\n",
    "            RunPCA(assay = 'RNA', npcs = 50, reduction.name = 'pca_rna_DP')"
   ]
  },
  {
   "cell_type": "code",
   "execution_count": null,
   "id": "amino-volume",
   "metadata": {
    "vscode": {
     "languageId": "r"
    }
   },
   "outputs": [],
   "source": [
    "MNN <- reducedMNN(seurObj_DP@reductions$pca_rna_DP@cell.embeddings,\n",
    "                 batch=seurObj_DP$sample,\n",
    "                 BPPARAM=MulticoreParam(workers=12), #parallelisation\n",
    "                 BNPARAM=HnswParam())\n",
    "seurObj_DP[[\"mnn_rna_DP\"]] <- CreateDimReducObject(embeddings=MNN$corrected,\n",
    "                                        assay=\"RNA\",\n",
    "                                        key=\"mnn_\")"
   ]
  },
  {
   "cell_type": "code",
   "execution_count": null,
   "id": "alive-galaxy",
   "metadata": {
    "vscode": {
     "languageId": "r"
    }
   },
   "outputs": [],
   "source": [
    "dim_adt <- PCcutoff(seurObj_DP@reductions$pca_adt_DP, 0.1)\n",
    "dim_adt\n",
    "\n",
    "dim_rna <- PCcutoff(seurObj_DP@reductions$pca_rna_DP, 0.1)\n",
    "dim_rna\n",
    "\n",
    "seurObj_DP <- FindMultiModalNeighbors(seurObj_DP,\n",
    "                                  reduction.list=list('mnn_adt_DP', 'mnn_rna_DP'),\n",
    "                                   dims.list=list(1:dim_adt,1:dim_rna))"
   ]
  },
  {
   "cell_type": "code",
   "execution_count": null,
   "id": "quick-award",
   "metadata": {
    "scrolled": true,
    "vscode": {
     "languageId": "r"
    }
   },
   "outputs": [],
   "source": [
    "seurObj_DP <- RunUMAP(seurObj_DP, nn.name = \"weighted.nn\", reduction.name = \"umap_wnn_DP\",\n",
    "                        reduction.key = \"wnnUMAP_\")"
   ]
  },
  {
   "cell_type": "code",
   "execution_count": null,
   "id": "complete-mortgage",
   "metadata": {
    "vscode": {
     "languageId": "r"
    }
   },
   "outputs": [],
   "source": [
    "options(repr.plot.width=8, repr.plot.height=7)\n",
    "\n",
    "DimPlot(seurObj_DP, reduction = 'umap_wnn_DP', group.by = 'clusters_rough')\n",
    "\n",
    "DimPlot(seurObj_DP, reduction = 'umap_wnn_DP', group.by = 'anno_new')\n",
    "\n",
    "DimPlot(seurObj_DP, reduction = 'umap_wnn_DP', group.by = 'Phase')"
   ]
  },
  {
   "cell_type": "code",
   "execution_count": null,
   "id": "opposite-permit",
   "metadata": {
    "vscode": {
     "languageId": "r"
    }
   },
   "outputs": [],
   "source": [
    "options(repr.plot.width=16, repr.plot.height=16)\n",
    "\n",
    "FeaturePlot(seurObj_DP, features=c('CD34', 'CD8', 'CD4', 'CD44', 'TCRab', 'TCRgd', 'CD1a', 'CD197', 'CD199', 'CD3', 'CD71', 'CD69', 'CD5', \"rna_RAG2\", \"rna_DNTT\", \"rna_PTCRA\"), order=T, ncol=4, reduction='umap_wnn_DP')&scale_color_viridis()"
   ]
  },
  {
   "cell_type": "markdown",
   "id": "radical-violence",
   "metadata": {},
   "source": [
    "The cells previously grouped with the DNs still separate a lot from the remaining DPs and show higher levels of CD34 but low CD3/TCR. This indicates that they might represent the very earliest DPs."
   ]
  },
  {
   "cell_type": "code",
   "execution_count": null,
   "id": "metric-carroll",
   "metadata": {
    "vscode": {
     "languageId": "r"
    }
   },
   "outputs": [],
   "source": [
    "seurObj_DP <- RunSPCA(seurObj_DP, assay='RNA', graph='wsnn')"
   ]
  },
  {
   "cell_type": "code",
   "execution_count": null,
   "id": "simplified-elements",
   "metadata": {
    "vscode": {
     "languageId": "r"
    }
   },
   "outputs": [],
   "source": [
    "ptm <- proc.time()\n",
    "\n",
    "seurObj_DP <- FindNeighbors(seurObj_DP, graph.name = 'wsnn',reduction= 'spca', dims = 1:max(c(dim_adt, dim_rna)), assay='ADTdsb')\n",
    "seurObj_DP <- FindClusters(seurObj_DP, graph.name = 'wsnn', algorithm = 4, resolution = 1, random.seed = 123, method = 'igraph', cluster.name = 'clusters_DP')\n",
    "\n",
    "proc.time() - ptm"
   ]
  },
  {
   "cell_type": "code",
   "execution_count": null,
   "id": "criminal-campus",
   "metadata": {
    "vscode": {
     "languageId": "r"
    }
   },
   "outputs": [],
   "source": [
    "options(repr.plot.width=8, repr.plot.height=7)\n",
    "\n",
    "DimPlot(seurObj_DP, reduction = 'umap_wnn_DP', group.by = 'clusters_DP', cols=pal24, label=TRUE)"
   ]
  },
  {
   "cell_type": "code",
   "execution_count": null,
   "id": "exterior-graphics",
   "metadata": {
    "vscode": {
     "languageId": "r"
    }
   },
   "outputs": [],
   "source": [
    "options(repr.plot.width=16, repr.plot.height=14)\n",
    "\n",
    "VlnPlot(seurObj_DP, features=c('CD34', 'CD8', 'CD4', 'CD44', 'TCRab', 'CD1a', 'CD3', 'CD71',  'CD47', 'CD2', 'CD69', \"CD31\", 'rna_PTCRA', 'rna_RAG2', 'GPR56', 'CD21'), ncol=4, group.by = 'clusters_DP', pt.size = 0.001, cols=pal24)"
   ]
  },
  {
   "cell_type": "markdown",
   "id": "earned-russia",
   "metadata": {},
   "source": [
    "Cluster 16 is still CD34+ and CD8lo. It also expresses high levels of CD31, PTCRA and doesn't proliferate. Interestingly, CD31 was previously observed to be expressed in immature thymocytes up until the early DP stage and downregulated after beta-selection as cells transition from CD8a+b- to CD8a+b+ DP stage https://www.ncbi.nlm.nih.gov/pmc/articles/PMC5340597/"
   ]
  },
  {
   "cell_type": "code",
   "execution_count": null,
   "id": "controlling-homeless",
   "metadata": {
    "vscode": {
     "languageId": "r"
    }
   },
   "outputs": [],
   "source": [
    "seurObj_DP$CD8ab_ratio <- (seurObj_DP@assays$RNA@data['CD8A',])/(seurObj_DP@assays$RNA@data['CD8B',])"
   ]
  },
  {
   "cell_type": "code",
   "execution_count": null,
   "id": "breathing-photographer",
   "metadata": {
    "vscode": {
     "languageId": "r"
    }
   },
   "outputs": [],
   "source": [
    "CD8ab_ratio <- table(seurObj_DP$CD8ab_ratio >1, seurObj_DP$seurat_clusters) %>% t %>% as.data.frame.matrix %>% data.frame\n",
    "CD8ab_ratio$prop_ratio_o1 <- (CD8ab_ratio$TRUE.)/rowSums(CD8ab_ratio)\n",
    "CD8ab_ratio$cluster <- factor(rownames(CD8ab_ratio), levels=1:17)\n",
    "CD8a_expr <- table(seurObj_DP$seurat_clusters, seurObj_DP@assays$RNA@data['CD8A',]>0) %>% as.data.frame.matrix %>% data.frame\n",
    "CD8ab_ratio$prop_CD8a_expr <- (CD8a_expr$TRUE.)/rowSums(CD8a_expr)\n",
    "CD8b_expr <- table(seurObj_DP$seurat_clusters, seurObj_DP@assays$RNA@data['CD8B',]>0) %>% as.data.frame.matrix %>% data.frame\n",
    "CD8ab_ratio$prop_CD8b_expr <- (CD8b_expr$TRUE.)/rowSums(CD8b_expr)\n",
    "\n",
    "CD8ab_expr <- pivot_longer(CD8ab_ratio[,4:6], cols=2:3, names_to = 'CD8', values_to = 'prop_expr')\n",
    "CD8ab_expr$CD8 <- ifelse(CD8ab_expr$CD8 == 'prop_CD8a_expr', 'CD8a', 'CD8b')"
   ]
  },
  {
   "cell_type": "code",
   "execution_count": null,
   "id": "ranging-guess",
   "metadata": {
    "vscode": {
     "languageId": "r"
    }
   },
   "outputs": [],
   "source": [
    "options(repr.plot.width=7, repr.plot.height=5)\n",
    "\n",
    "ggplot(CD8ab_ratio, aes(x=cluster, y=prop_ratio_o1, fill=cluster))+\n",
    "geom_bar(stat = 'identity')+\n",
    "theme_bw()+\n",
    "geom_hline(yintercept = 0.5)+\n",
    "scale_fill_manual(values=pal24)+\n",
    "labs(y = 'Proportion of cells with CD8A:B transcript ratio > 1', title='Proportion of cells with higher CD8A than CD8B transcripts per cluster')+\n",
    "theme(legend.position = 'none')"
   ]
  },
  {
   "cell_type": "markdown",
   "id": "developmental-serve",
   "metadata": {},
   "source": [
    "Looking at the CD8a to CD8b transcript ratio in the clusters indeed confirms that in the majority of cells in the CD31+ cluster 16 has a CD8a:b ratio of >1, whereas in the other clusters most cells express more CD8b than a."
   ]
  },
  {
   "cell_type": "code",
   "execution_count": null,
   "id": "wanted-investigator",
   "metadata": {
    "vscode": {
     "languageId": "r"
    }
   },
   "outputs": [],
   "source": [
    "options(repr.plot.width=7, repr.plot.height=5)\n",
    "\n",
    "ggplot(CD8ab_expr, aes(x=cluster, y=prop_expr, colour=CD8))+\n",
    "geom_point()+\n",
    "theme_bw()+\n",
    "geom_hline(yintercept = 0.5)+\n",
    "ylim(c(0,1))+\n",
    "labs(y = 'Percentage of cells within a cluster expressing CD8A/B', title='CD8A and CD8B expression per cluster', colour='CD8 expression')"
   ]
  },
  {
   "cell_type": "markdown",
   "id": "multiple-commitment",
   "metadata": {},
   "source": [
    "Notably, while the proportion of CD8a expressing cells is also lower in cluster 16, the proportion is substantially lower for CD8b with only 20% of cluster 16 cell expressing CD8b, whereas in all other clusters it is detected in at least 80% of cells. This suggests that cluster 16 (or the majority of cells in this cluster) represents early CD8a+b- DPs, that are characterised by CD31 expression."
   ]
  },
  {
   "cell_type": "code",
   "execution_count": null,
   "id": "convertible-objective",
   "metadata": {
    "vscode": {
     "languageId": "r"
    }
   },
   "outputs": [],
   "source": [
    "options(repr.plot.width=6, repr.plot.height=6)\n",
    "\n",
    "FeatureScatter(seurObj_DP, feature1 = 'CD34', feature2 = 'CD8ab_ratio', plot.cor = FALSE, cols=pal24, group.by = 'clusters_DP')\n",
    "FeatureScatter(seurObj_DP, feature1 = 'CD34', feature2 = 'CD4', plot.cor = FALSE, cols=pal24, group.by = 'clusters_DP')\n",
    "FeatureScatter(seurObj_DP, feature1 = 'CD34', feature2 = 'CD31', plot.cor = FALSE, cols=pal24, group.by = 'clusters_DP')\n",
    "FeatureScatter(seurObj_DP, feature1 = 'CD26', feature2 = 'CD31', plot.cor = FALSE, cols=pal24, group.by = 'clusters_DP')"
   ]
  },
  {
   "cell_type": "markdown",
   "id": "recent-tumor",
   "metadata": {},
   "source": [
    "We annotate the entire cluster 16 as DP_CD31 cells."
   ]
  },
  {
   "cell_type": "code",
   "execution_count": null,
   "id": "defined-league",
   "metadata": {
    "vscode": {
     "languageId": "r"
    }
   },
   "outputs": [],
   "source": [
    "Idents(seurObj_DP) <- seurObj_DP$clusters_DP\n",
    "seurObj_DP$anno_new <- ifelse(colnames(seurObj_DP) %in% WhichCells(seurObj_DP, idents = '16'), \"DP_early_CD31\", seurObj_DP$anno_new)"
   ]
  },
  {
   "cell_type": "code",
   "execution_count": null,
   "id": "numerical-knife",
   "metadata": {
    "vscode": {
     "languageId": "r"
    }
   },
   "outputs": [],
   "source": [
    "options(repr.plot.width=8, repr.plot.height=7)\n",
    "\n",
    "DimPlot(seurObj_DP, reduction = 'umap_wnn_DP', group.by = 'anno_new')"
   ]
  },
  {
   "cell_type": "markdown",
   "id": "dramatic-reality",
   "metadata": {},
   "source": [
    "The remaining DPs go through another round of integration and clustering."
   ]
  },
  {
   "cell_type": "code",
   "execution_count": null,
   "id": "bottom-ireland",
   "metadata": {
    "vscode": {
     "languageId": "r"
    }
   },
   "outputs": [],
   "source": [
    "seurObj_DP2 <- subset(seurObj_DP, subset=anno_new %in% c('unknown', 'unknown_DP'))\n",
    "table(seurObj_DP2$anno_new)"
   ]
  },
  {
   "cell_type": "code",
   "execution_count": null,
   "id": "architectural-sweet",
   "metadata": {
    "scrolled": true,
    "vscode": {
     "languageId": "r"
    }
   },
   "outputs": [],
   "source": [
    "seurObj_DP2 <- seurObj_DP2  %>%\n",
    "            FindVariableFeatures(assay='ADTdsb') %>%\n",
    "            ScaleData(assay = 'ADTdsb') %>%\n",
    "            RunPCA(assay = 'ADTdsb', npcs = 50, reduction.name = 'pca_adt_DP2')"
   ]
  },
  {
   "cell_type": "code",
   "execution_count": null,
   "id": "compliant-affiliate",
   "metadata": {
    "scrolled": true,
    "vscode": {
     "languageId": "r"
    }
   },
   "outputs": [],
   "source": [
    "MNN <- reducedMNN(seurObj_DP2@reductions$pca_adt_DP2@cell.embeddings,\n",
    "                 batch=seurObj_DP2$sample,\n",
    "                 BPPARAM=MulticoreParam(workers=12), #parallelisation\n",
    "                 BNPARAM=HnswParam())\n",
    "seurObj_DP2[[\"mnn_adt_DP2\"]] <- CreateDimReducObject(embeddings=MNN$corrected,\n",
    "                                        assay=\"ADTdsb\",\n",
    "                                        key=\"mnn_\")"
   ]
  },
  {
   "cell_type": "code",
   "execution_count": null,
   "id": "isolated-helen",
   "metadata": {
    "scrolled": true,
    "vscode": {
     "languageId": "r"
    }
   },
   "outputs": [],
   "source": [
    "seurObj_DP2 <- seurObj_DP2  %>%\n",
    "            FindVariableFeatures(assay='RNA') %>%\n",
    "            ScaleData(assay = 'RNA') %>%\n",
    "            RunPCA(assay = 'RNA', npcs = 50, reduction.name = 'pca_rna_DP2')"
   ]
  },
  {
   "cell_type": "code",
   "execution_count": null,
   "id": "aerial-administrator",
   "metadata": {
    "scrolled": true,
    "vscode": {
     "languageId": "r"
    }
   },
   "outputs": [],
   "source": [
    "MNN <- reducedMNN(seurObj_DP2@reductions$pca_rna_DP2@cell.embeddings,\n",
    "                 batch=seurObj_DP2$sample,\n",
    "                 BPPARAM=MulticoreParam(workers=12), #parallelisation\n",
    "                 BNPARAM=HnswParam())\n",
    "seurObj_DP2[[\"mnn_rna_DP2\"]] <- CreateDimReducObject(embeddings=MNN$corrected,\n",
    "                                        assay=\"RNA\",\n",
    "                                        key=\"mnn_\")"
   ]
  },
  {
   "cell_type": "code",
   "execution_count": null,
   "id": "american-reserve",
   "metadata": {
    "vscode": {
     "languageId": "r"
    }
   },
   "outputs": [],
   "source": [
    "dim_adt <- PCcutoff(seurObj_DP2@reductions$pca_adt_DP2, 0.1)\n",
    "dim_adt\n",
    "\n",
    "dim_rna <- PCcutoff(seurObj_DP2@reductions$pca_rna_DP2, 0.1)\n",
    "dim_rna\n",
    "\n",
    "seurObj_DP2 <- FindMultiModalNeighbors(seurObj_DP2,\n",
    "                                  reduction.list=list('mnn_adt_DP2', 'mnn_rna_DP2'),\n",
    "                                   dims.list=list(1:dim_adt,1:dim_rna))"
   ]
  },
  {
   "cell_type": "code",
   "execution_count": null,
   "id": "attended-mayor",
   "metadata": {
    "vscode": {
     "languageId": "r"
    }
   },
   "outputs": [],
   "source": [
    "seurObj_DP2 <- RunUMAP(seurObj_DP2, nn.name = \"weighted.nn\", reduction.name = \"umap_wnn_DP2\",\n",
    "                        reduction.key = \"wnnUMAP_\")"
   ]
  },
  {
   "cell_type": "code",
   "execution_count": null,
   "id": "ancient-compound",
   "metadata": {
    "vscode": {
     "languageId": "r"
    }
   },
   "outputs": [],
   "source": [
    "seurObj_DP2 <- RunSPCA(seurObj_DP2, assay='RNA', graph='wsnn')"
   ]
  },
  {
   "cell_type": "code",
   "execution_count": null,
   "id": "useful-adelaide",
   "metadata": {
    "vscode": {
     "languageId": "r"
    }
   },
   "outputs": [],
   "source": [
    "ptm <- proc.time()\n",
    "\n",
    "seurObj_DP2 <- FindNeighbors(seurObj_DP2, graph.name = 'wsnn',reduction= 'spca', dims = 1:max(c(dim_adt, dim_rna)), assay='ADTdsb')\n",
    "seurObj_DP2 <- FindClusters(seurObj_DP2, graph.name = 'wsnn', algorithm = 4, resolution = 1, random.seed = 123, method = 'igraph', cluster.name='clusters_DP2')\n",
    "\n",
    "proc.time() - ptm"
   ]
  },
  {
   "cell_type": "code",
   "execution_count": null,
   "id": "under-cursor",
   "metadata": {
    "vscode": {
     "languageId": "r"
    }
   },
   "outputs": [],
   "source": [
    "options(repr.plot.width=8, repr.plot.height=7)\n",
    "\n",
    "DimPlot(seurObj_DP2, reduction = 'umap_wnn_DP2', group.by = 'clusters_DP', cols=pal24, label=TRUE)\n",
    "\n",
    "DimPlot(seurObj_DP2, reduction = 'umap_wnn_DP2', group.by = 'clusters_DP2', cols=pal24, label=TRUE)\n",
    "\n",
    "DimPlot(seurObj_DP2, reduction = 'umap_wnn_DP2', group.by = 'Phase')\n",
    "\n",
    "FeaturePlot(seurObj_DP2, features='CD71', order=T,reduction='umap_wnn_DP2')+scale_color_viridis()"
   ]
  },
  {
   "cell_type": "code",
   "execution_count": null,
   "id": "organic-projector",
   "metadata": {
    "vscode": {
     "languageId": "r"
    }
   },
   "outputs": [],
   "source": [
    "table(seurObj_DP2$clusters_DP2, seurObj_DP2$Phase)"
   ]
  },
  {
   "cell_type": "code",
   "execution_count": null,
   "id": "civilian-tsunami",
   "metadata": {
    "vscode": {
     "languageId": "r"
    }
   },
   "outputs": [],
   "source": [
    "options(repr.plot.width=16, repr.plot.height=8)\n",
    "\n",
    "VlnPlot(seurObj_DP2, features = c('CD3', 'TCRab','rna_RAG2', 'rna_DNTT', 'CD71', 'rna_CD8A', 'rna_CD8B'), group.by = 'clusters_DP2', pt.size = 0.001, ncol=4)"
   ]
  },
  {
   "cell_type": "markdown",
   "id": "distinct-gabriel",
   "metadata": {},
   "source": [
    "Cluster 2, 6, 8, 14, 15 are proliferating cells (CD71hi), while the rest is quiescent. The proliferating clusters also show lower levels of CD3, TCRab, CD8, RAG2 and DNTT. Cluster 11 seems to be an intermediate cluster where cells are not really proliferating anymore but rearrangement markers are only slowly increasing."
   ]
  },
  {
   "cell_type": "code",
   "execution_count": null,
   "id": "considerable-concentration",
   "metadata": {
    "vscode": {
     "languageId": "r"
    }
   },
   "outputs": [],
   "source": [
    "Idents(seurObj_DP2) <- seurObj_DP2$clusters_DP2\n",
    "seurObj_DP2$anno_new <- ifelse(colnames(seurObj_DP2) %in% WhichCells(seurObj_DP2, idents = c(\"2\", \"6\", \"8\", \"14\", \"15\")), \"DP(P)\", seurObj_DP2$anno_new)\n",
    "seurObj_DP2$anno_new <- ifelse(colnames(seurObj_DP2) %in% WhichCells(seurObj_DP2, idents = c(\"11\")), \"DP(Q)\", seurObj_DP2$anno_new)\n",
    "seurObj_DP2$anno_new <- ifelse(colnames(seurObj_DP2) %in% WhichCells(seurObj_DP2, idents = c(\"1\",\"3\", \"4\",\"5\",\"7\",\"9\",\"10\",\"12\",\"13\")), \"DP(Q)_rearr\", seurObj_DP2$anno_new)"
   ]
  },
  {
   "cell_type": "code",
   "execution_count": null,
   "id": "alpha-flight",
   "metadata": {
    "vscode": {
     "languageId": "r"
    }
   },
   "outputs": [],
   "source": [
    "options(repr.plot.width=8, repr.plot.height=7)\n",
    "\n",
    "DimPlot(seurObj_DP2, reduction = 'umap_wnn_DP2', group.by = 'anno_new', label=TRUE)"
   ]
  },
  {
   "cell_type": "code",
   "execution_count": null,
   "id": "verified-coverage",
   "metadata": {
    "vscode": {
     "languageId": "r"
    }
   },
   "outputs": [],
   "source": [
    "seurObj$anno_new[colnames(seurObj) %in% colnames(seurObj_DP)] <- seurObj_DP$anno_new\n",
    "seurObj$anno_new[colnames(seurObj) %in% colnames(seurObj_DP2)] <- seurObj_DP2$anno_new"
   ]
  },
  {
   "cell_type": "code",
   "execution_count": null,
   "id": "employed-virtue",
   "metadata": {
    "vscode": {
     "languageId": "r"
    }
   },
   "outputs": [],
   "source": [
    "table(seurObj$anno_new)"
   ]
  },
  {
   "cell_type": "code",
   "execution_count": null,
   "id": "liberal-humor",
   "metadata": {
    "vscode": {
     "languageId": "r"
    }
   },
   "outputs": [],
   "source": [
    "options(repr.plot.width=8, repr.plot.height=7)\n",
    "\n",
    "DimPlot(seurObj, reduction = 'umap_wnn_mnn', group.by = 'anno_new', cols=pal12)"
   ]
  },
  {
   "cell_type": "markdown",
   "id": "hairy-composition",
   "metadata": {},
   "source": [
    "### SP annotation\n",
    "\n",
    "The remaining cells represent (relatively) mature thymocytes and cells of several non-T lineages. The transition window from DP(Q)_rearr through positive selection to CD4 vs. CD8 lineage is difficult to annotate and may require several iterations of adapting cell annotations."
   ]
  },
  {
   "cell_type": "code",
   "execution_count": null,
   "id": "given-emperor",
   "metadata": {
    "vscode": {
     "languageId": "r"
    }
   },
   "outputs": [],
   "source": [
    "options(repr.plot.width=8, repr.plot.height=7)\n",
    "\n",
    "DimPlot(seurObj, reduction = 'umap_wnn_mnn', group.by = 'clusters_rough', cols=pal12)"
   ]
  },
  {
   "cell_type": "markdown",
   "id": "designing-thursday",
   "metadata": {},
   "source": [
    "The transition from cluster 6 to 2 represents the positive selection step and cluster 2 cells mark the lineage bifurcation. CD4 and CD8 lineage cells cluster together (4). Cluster 9 represents Tregs but contains a small separate subset that appears to be CD8+.\n",
    "\n",
    "To annotate positive selection and bifurcating properly, we include the late DP(Q) cells in the SP analysis for finetuning and as expression level reference."
   ]
  },
  {
   "cell_type": "code",
   "execution_count": null,
   "id": "published-official",
   "metadata": {
    "vscode": {
     "languageId": "r"
    }
   },
   "outputs": [],
   "source": [
    "seurObj_SP <- subset(seurObj, subset=clusters_rough %in% c('6', '2', '4', '9') & anno_new %in% c('unknown', 'DP(Q)_rearr'))"
   ]
  },
  {
   "cell_type": "code",
   "execution_count": null,
   "id": "digital-detector",
   "metadata": {
    "vscode": {
     "languageId": "r"
    }
   },
   "outputs": [],
   "source": [
    "table(seurObj_SP$clusters_rough, seurObj_SP$anno_new)"
   ]
  },
  {
   "cell_type": "code",
   "execution_count": null,
   "id": "distant-belgium",
   "metadata": {
    "vscode": {
     "languageId": "r"
    }
   },
   "outputs": [],
   "source": [
    "options(repr.plot.width=16, repr.plot.height=12)\n",
    "\n",
    "FeatureScatter(seurObj_SP, feature1 = 'CD8', feature2 = 'CD4', group.by = 'clusters_rough', cols=pal24)+\n",
    "    facet_wrap(~seurObj_SP$clusters_rough)+\n",
    "    theme_bw()"
   ]
  },
  {
   "cell_type": "code",
   "execution_count": null,
   "id": "regulation-devil",
   "metadata": {
    "scrolled": true,
    "vscode": {
     "languageId": "r"
    }
   },
   "outputs": [],
   "source": [
    "seurObj_SP <- seurObj_SP  %>%\n",
    "            FindVariableFeatures(assay='ADTdsb') %>%\n",
    "            ScaleData(assay = 'ADTdsb') %>%\n",
    "            RunPCA(assay = 'ADTdsb', npcs = 50, reduction.name = 'pca_adt_SP')"
   ]
  },
  {
   "cell_type": "code",
   "execution_count": null,
   "id": "intensive-universe",
   "metadata": {
    "scrolled": true,
    "vscode": {
     "languageId": "r"
    }
   },
   "outputs": [],
   "source": [
    "MNN <- reducedMNN(seurObj_SP@reductions$pca_adt_SP@cell.embeddings,\n",
    "                 batch=seurObj_SP$sample,\n",
    "                 BPPARAM=MulticoreParam(workers=12), #parallelisation\n",
    "                 BNPARAM=HnswParam())\n",
    "seurObj_SP[[\"mnn_adt_SP\"]] <- CreateDimReducObject(embeddings=MNN$corrected,\n",
    "                                        assay=\"ADTdsb\",\n",
    "                                        key=\"mnn_\")"
   ]
  },
  {
   "cell_type": "code",
   "execution_count": null,
   "id": "handed-coordinate",
   "metadata": {
    "scrolled": true,
    "vscode": {
     "languageId": "r"
    }
   },
   "outputs": [],
   "source": [
    "seurObj_SP <- seurObj_SP  %>%\n",
    "            FindVariableFeatures(assay='RNA') %>%\n",
    "            ScaleData(assay = 'RNA') %>%\n",
    "            RunPCA(assay = 'RNA', npcs = 50, reduction.name = 'pca_rna_SP')"
   ]
  },
  {
   "cell_type": "code",
   "execution_count": null,
   "id": "synthetic-disclaimer",
   "metadata": {
    "scrolled": true,
    "vscode": {
     "languageId": "r"
    }
   },
   "outputs": [],
   "source": [
    "MNN <- reducedMNN(seurObj_SP@reductions$pca_rna_SP@cell.embeddings,\n",
    "                 batch=seurObj_SP$sample,\n",
    "                 BPPARAM=MulticoreParam(workers=12), #parallelisation\n",
    "                 BNPARAM=HnswParam())\n",
    "seurObj_SP[[\"mnn_rna_SP\"]] <- CreateDimReducObject(embeddings=MNN$corrected,\n",
    "                                        assay=\"RNA\",\n",
    "                                        key=\"mnn_\")"
   ]
  },
  {
   "cell_type": "code",
   "execution_count": null,
   "id": "mediterranean-findings",
   "metadata": {
    "vscode": {
     "languageId": "r"
    }
   },
   "outputs": [],
   "source": [
    "dim_adt <- PCcutoff(seurObj_SP@reductions$pca_adt_SP, 0.1)\n",
    "dim_adt\n",
    "\n",
    "dim_rna <- PCcutoff(seurObj_SP@reductions$pca_rna_SP, 0.1)\n",
    "dim_rna\n",
    "\n",
    "seurObj_SP <- FindMultiModalNeighbors(seurObj_SP,\n",
    "                                  reduction.list=list('mnn_adt_SP', 'mnn_rna_SP'),\n",
    "                                   dims.list=list(1:dim_adt,1:dim_rna))"
   ]
  },
  {
   "cell_type": "code",
   "execution_count": null,
   "id": "electric-original",
   "metadata": {
    "vscode": {
     "languageId": "r"
    }
   },
   "outputs": [],
   "source": [
    "seurObj_SP <- RunUMAP(seurObj_SP, nn.name = \"weighted.nn\", reduction.name = \"umap_wnn_SP\",\n",
    "                        reduction.key = \"wnnUMAP_\")"
   ]
  },
  {
   "cell_type": "code",
   "execution_count": null,
   "id": "supported-raise",
   "metadata": {
    "vscode": {
     "languageId": "r"
    }
   },
   "outputs": [],
   "source": [
    "seurObj_SP <- RunSPCA(seurObj_SP, assay='RNA', graph='wsnn')"
   ]
  },
  {
   "cell_type": "code",
   "execution_count": null,
   "id": "increasing-suggestion",
   "metadata": {
    "vscode": {
     "languageId": "r"
    }
   },
   "outputs": [],
   "source": [
    "ptm <- proc.time()\n",
    "\n",
    "seurObj_SP <- FindNeighbors(seurObj_SP, graph.name = 'wsnn',reduction= 'spca', dims = 1:max(c(dim_adt, dim_rna)), assay='ADTdsb')\n",
    "seurObj_SP <- FindClusters(seurObj_SP, graph.name = 'wsnn', algorithm = 4, resolution = 1, random.seed = 123, method = 'igraph', cluster.name='clusters_SP')\n",
    "\n",
    "proc.time() - ptm"
   ]
  },
  {
   "cell_type": "code",
   "execution_count": null,
   "id": "driven-converter",
   "metadata": {
    "vscode": {
     "languageId": "r"
    }
   },
   "outputs": [],
   "source": [
    "options(repr.plot.width=8, repr.plot.height=7)\n",
    "\n",
    "DimPlot(seurObj_SP, reduction = 'umap_wnn_SP', group.by = 'clusters_rough', cols=pal12)\n",
    "\n",
    "DimPlot(seurObj_SP, reduction = 'umap_wnn_SP', group.by = 'clusters_SP', cols=pal24, label=T)\n",
    "\n",
    "options(repr.plot.width=12, repr.plot.height=7)\n",
    "\n",
    "DimPlot(seurObj_SP, reduction = 'umap_wnn_SP', group.by = 'anno_CITE_old', cols=pal36)\n",
    "\n",
    "DimPlot(seurObj_SP, reduction = 'umap_wnn_SP', group.by = 'annotation_level_4', cols=pal36)"
   ]
  },
  {
   "cell_type": "code",
   "execution_count": null,
   "id": "running-headquarters",
   "metadata": {
    "vscode": {
     "languageId": "r"
    }
   },
   "outputs": [],
   "source": [
    "options(repr.plot.width=20, repr.plot.height=17)\n",
    "\n",
    "RidgePlot(seurObj_SP, cols=pal24, group.by = 'clusters_SP', features =  c('CD3', 'TCRab', 'CD4', 'CD8','CD69', 'CD5', 'CD45RA', 'CD45RO', 'CD127', 'CD29', 'CD155', 'CD226', 'CD44', 'CD47', 'CD25'), ncol=5)\n",
    "\n",
    "options(repr.plot.width=16, repr.plot.height=8)\n",
    "\n",
    "VlnPlot(seurObj_SP, cols=pal24, pt.size=0, features =  c('rna_RAG2', 'rna_DNTT', 'rna_NR4A1', 'rna_ID3','rna_FOXP3', 'rna_CD8A', 'rna_CD8B'), ncol=4, group.by = 'clusters_SP')"
   ]
  },
  {
   "cell_type": "markdown",
   "id": "young-hours",
   "metadata": {},
   "source": [
    "The annotation of these clusters is relatively difficult. We remove Tregs (cluster 9) and the few outlier cells to obtain more clarity about the lineage bifurcation."
   ]
  },
  {
   "cell_type": "code",
   "execution_count": null,
   "id": "stupid-hierarchy",
   "metadata": {
    "vscode": {
     "languageId": "r"
    }
   },
   "outputs": [],
   "source": [
    "seurObj_Treg <- subset(seurObj_SP, subset=clusters_rough == '9' | clusters_SP %in% c('9','11'))"
   ]
  },
  {
   "cell_type": "code",
   "execution_count": null,
   "id": "static-announcement",
   "metadata": {
    "vscode": {
     "languageId": "r"
    }
   },
   "outputs": [],
   "source": [
    "options(repr.plot.width=8, repr.plot.height=7)\n",
    "\n",
    "cells <- Embeddings(seurObj_SP, reduction = \"umap_wnn_SP\") %>% data.frame %>% subset(., umapwnnsp_1 < (-6.3) & umapwnnsp_2 < 0) %>% rownames\n",
    "\n",
    "DimPlot(seurObj_SP, reduction = 'umap_wnn_SP', cells.highlight = cells)"
   ]
  },
  {
   "cell_type": "code",
   "execution_count": null,
   "id": "worldwide-polish",
   "metadata": {
    "vscode": {
     "languageId": "r"
    }
   },
   "outputs": [],
   "source": [
    "seurObj_SP2 <- subset(seurObj_SP, subset=barcode %in% cells | clusters_rough == '9' | clusters_SP %in% c('9','11'), invert=T)"
   ]
  },
  {
   "cell_type": "code",
   "execution_count": null,
   "id": "exact-cliff",
   "metadata": {
    "scrolled": true,
    "vscode": {
     "languageId": "r"
    }
   },
   "outputs": [],
   "source": [
    "seurObj_SP2 <- seurObj_SP2  %>%\n",
    "            FindVariableFeatures(assay='ADTdsb') %>%\n",
    "            ScaleData(assay = 'ADTdsb') %>%\n",
    "            RunPCA(assay = 'ADTdsb', npcs = 50, reduction.name = 'pca_adt_SP2')"
   ]
  },
  {
   "cell_type": "code",
   "execution_count": null,
   "id": "regional-tooth",
   "metadata": {
    "scrolled": true,
    "vscode": {
     "languageId": "r"
    }
   },
   "outputs": [],
   "source": [
    "MNN <- reducedMNN(seurObj_SP2@reductions$pca_adt_SP2@cell.embeddings,\n",
    "                 batch=seurObj_SP2$sample,\n",
    "                 BPPARAM=MulticoreParam(workers=12), #parallelisation\n",
    "                 BNPARAM=HnswParam())\n",
    "seurObj_SP2[[\"mnn_adt_SP2\"]] <- CreateDimReducObject(embeddings=MNN$corrected,\n",
    "                                        assay=\"ADTdsb\",\n",
    "                                        key=\"mnn_\")"
   ]
  },
  {
   "cell_type": "code",
   "execution_count": null,
   "id": "consolidated-software",
   "metadata": {
    "scrolled": true,
    "vscode": {
     "languageId": "r"
    }
   },
   "outputs": [],
   "source": [
    "seurObj_SP2 <- seurObj_SP2  %>%\n",
    "            FindVariableFeatures(assay='RNA') %>%\n",
    "            ScaleData(assay = 'RNA') %>%\n",
    "            RunPCA(assay = 'RNA', npcs = 50, reduction.name = 'pca_rna_SP2')"
   ]
  },
  {
   "cell_type": "code",
   "execution_count": null,
   "id": "wanted-charlotte",
   "metadata": {
    "scrolled": true,
    "vscode": {
     "languageId": "r"
    }
   },
   "outputs": [],
   "source": [
    "MNN <- reducedMNN(seurObj_SP2@reductions$pca_rna_SP2@cell.embeddings,\n",
    "                 batch=seurObj_SP2$sample,\n",
    "                 BPPARAM=MulticoreParam(workers=12), #parallelisation\n",
    "                 BNPARAM=HnswParam())\n",
    "seurObj_SP2[[\"mnn_rna_SP2\"]] <- CreateDimReducObject(embeddings=MNN$corrected,\n",
    "                                        assay=\"RNA\",\n",
    "                                        key=\"mnn_\")"
   ]
  },
  {
   "cell_type": "code",
   "execution_count": null,
   "id": "under-person",
   "metadata": {
    "vscode": {
     "languageId": "r"
    }
   },
   "outputs": [],
   "source": [
    "dim_adt <- PCcutoff(seurObj_SP2@reductions$pca_adt_SP2, 0.1)\n",
    "dim_adt\n",
    "\n",
    "dim_rna <- PCcutoff(seurObj_SP2@reductions$pca_rna_SP2, 0.1)\n",
    "dim_rna\n",
    "\n",
    "seurObj_SP2 <- FindMultiModalNeighbors(seurObj_SP2,\n",
    "                                  reduction.list=list('mnn_adt_SP2', 'mnn_rna_SP2'),\n",
    "                                   dims.list=list(1:dim_adt,1:dim_rna))"
   ]
  },
  {
   "cell_type": "code",
   "execution_count": null,
   "id": "resident-billy",
   "metadata": {
    "vscode": {
     "languageId": "r"
    }
   },
   "outputs": [],
   "source": [
    "seurObj_SP2 <- RunUMAP(seurObj_SP2, nn.name = \"weighted.nn\", reduction.name = \"umap_wnn_SP2\",\n",
    "                        reduction.key = \"wnnUMAP_\")"
   ]
  },
  {
   "cell_type": "code",
   "execution_count": null,
   "id": "presidential-visibility",
   "metadata": {
    "vscode": {
     "languageId": "r"
    }
   },
   "outputs": [],
   "source": [
    "seurObj_SP2 <- RunSPCA(seurObj_SP2, assay='RNA', graph='wsnn')"
   ]
  },
  {
   "cell_type": "code",
   "execution_count": null,
   "id": "double-grenada",
   "metadata": {
    "scrolled": true,
    "vscode": {
     "languageId": "r"
    }
   },
   "outputs": [],
   "source": [
    "ptm <- proc.time()\n",
    "\n",
    "seurObj_SP2 <- FindNeighbors(seurObj_SP2, graph.name = 'wsnn',reduction= 'spca', dims = 1:max(c(dim_adt, dim_rna)), assay='ADTdsb')\n",
    "seurObj_SP2 <- FindClusters(seurObj_SP2, graph.name = 'wsnn', algorithm = 4, resolution = 1.2, random.seed = 123, method = 'igraph', cluster.name='clusters_SP2')\n",
    "\n",
    "proc.time() - ptm"
   ]
  },
  {
   "cell_type": "code",
   "execution_count": null,
   "id": "focal-illness",
   "metadata": {
    "vscode": {
     "languageId": "r"
    }
   },
   "outputs": [],
   "source": [
    "options(repr.plot.width=8, repr.plot.height=7)\n",
    "\n",
    "DimPlot(seurObj_SP2, reduction = 'umap_wnn_SP2', group.by = 'clusters_rough', cols=pal12)\n",
    "\n",
    "DimPlot(seurObj_SP2, reduction = 'umap_wnn_SP2', group.by = 'clusters_SP', cols=pal24, label=T)\n",
    "\n",
    "DimPlot(seurObj_SP2, reduction = 'umap_wnn_SP2', group.by = 'clusters_SP2', cols=pal24, label=T)\n",
    "\n",
    "options(repr.plot.width=12, repr.plot.height=7)\n",
    "\n",
    "DimPlot(seurObj_SP2, reduction = 'umap_wnn_SP2', group.by = 'anno_CITE_old', cols=pal36)\n",
    "\n",
    "DimPlot(seurObj_SP2, reduction = 'umap_wnn_SP2', group.by = 'annotation_level_4', cols=pal36)"
   ]
  },
  {
   "cell_type": "markdown",
   "id": "refined-sunset",
   "metadata": {},
   "source": [
    "The bifurcation is now more clear but clustering does not really result in discreate subsets that are associated with bi- or unipotent stages."
   ]
  },
  {
   "cell_type": "code",
   "execution_count": null,
   "id": "occupational-justice",
   "metadata": {
    "vscode": {
     "languageId": "r"
    }
   },
   "outputs": [],
   "source": [
    "options(repr.plot.width=20, repr.plot.height=17)\n",
    "\n",
    "RidgePlot(seurObj_SP2, cols=pal24, group.by = 'clusters_SP2', features =  c('CD3', 'TCRab', 'CD4', 'CD8','CD69', 'CD5', 'CD45RA', 'CD45RO', 'CD127', 'CD29', 'CD155', 'CD226', 'CD44', 'CD27', 'CD1a'), ncol=5)\n",
    "\n",
    "options(repr.plot.width=16, repr.plot.height=8)\n",
    "\n",
    "VlnPlot(seurObj_SP2, cols=pal24, pt.size=0, features =  c('rna_RAG2', 'rna_DNTT', 'rna_NR4A1', 'rna_ID3','rna_FOXP3', 'rna_CD8A', 'rna_CD8B'), ncol=4, group.by = 'clusters_SP2')"
   ]
  },
  {
   "cell_type": "code",
   "execution_count": null,
   "id": "general-opposition",
   "metadata": {
    "vscode": {
     "languageId": "r"
    }
   },
   "outputs": [],
   "source": [
    "options(repr.plot.width=16, repr.plot.height=10)\n",
    "\n",
    "DimPlot(seurObj_SP2, reduction = 'umap_wnn_SP2', group.by = 'clusters_SP2', cols=pal24, split.by = 'clusters_SP2', ncol=5)+theme_bw()"
   ]
  },
  {
   "cell_type": "code",
   "execution_count": null,
   "id": "operating-expression",
   "metadata": {
    "vscode": {
     "languageId": "r"
    }
   },
   "outputs": [],
   "source": [
    "options(repr.plot.width=16, repr.plot.height=16)\n",
    "\n",
    "FeatureScatter(seurObj_SP2, feature1 = 'CD8', feature2 = 'CD4', group.by = 'anno_CITE_old', cols=pal36)+\n",
    "    facet_wrap(~seurObj_SP2$clusters_SP2, ncol = 4)+\n",
    "    theme_bw()"
   ]
  },
  {
   "cell_type": "code",
   "execution_count": null,
   "id": "verbal-satisfaction",
   "metadata": {
    "vscode": {
     "languageId": "r"
    }
   },
   "outputs": [],
   "source": [
    "options(repr.plot.width=16, repr.plot.height=16)\n",
    "\n",
    "FeatureScatter(seurObj_SP2, feature1 = 'CD44', feature2 = 'CD226', group.by = 'anno_CITE_old', cols=pal36)+\n",
    "    facet_wrap(~seurObj_SP2$clusters_SP2, ncol = 4)+\n",
    "    theme_bw()"
   ]
  },
  {
   "cell_type": "code",
   "execution_count": null,
   "id": "assumed-aaron",
   "metadata": {
    "vscode": {
     "languageId": "r"
    }
   },
   "outputs": [],
   "source": [
    "options(repr.plot.width=16, repr.plot.height=16)\n",
    "\n",
    "FeatureScatter(seurObj_SP2, feature1 = 'CD69', feature2 = 'CD45RA', group.by = 'anno_CITE_old', cols=pal36)+\n",
    "    facet_wrap(~seurObj_SP2$clusters_SP2, ncol = 4)+\n",
    "    theme_bw()"
   ]
  },
  {
   "cell_type": "code",
   "execution_count": null,
   "id": "novel-designation",
   "metadata": {
    "vscode": {
     "languageId": "r"
    }
   },
   "outputs": [],
   "source": [
    "table(seurObj_SP2$anno_CITE_old, seurObj_SP2$clusters_SP2)"
   ]
  },
  {
   "cell_type": "markdown",
   "id": "collected-discovery",
   "metadata": {},
   "source": [
    "Broad assignment of populations:\n",
    "- 4,7,11,14: DP(Q)_rearr\n",
    "- 1: pos sel\n",
    "- 5: pos sel/hilo\n",
    "- 6+8+12: hilo (8 also contains some CD4/8 lineage cells)\n",
    "- 10+16: also hilo (16 is very heterogeneous)\n",
    "- 3,13,17: CD8SP (3+13 partially mixed with hilo and CD4)\n",
    "- 2+9+15: CD4SP\n",
    "\n",
    "Filtering on CD4/8 levels necessary for most clusters\n",
    "\n",
    "6,8,10,12 should be subclustered"
   ]
  },
  {
   "cell_type": "code",
   "execution_count": null,
   "id": "official-heavy",
   "metadata": {
    "vscode": {
     "languageId": "r"
    }
   },
   "outputs": [],
   "source": [
    "Idents(seurObj_SP2) <- seurObj_SP2$clusters_SP2\n",
    "seurObj_SP2$anno_new2 <- 'unknown'\n",
    "seurObj_SP2$anno_new2 <- ifelse(colnames(seurObj_SP2) %in% WhichCells(seurObj_SP2, expression = CD4 > 5 & CD8 > 8, idents = c('4','7','11', '14')), \"DP(Q)_rearr\", seurObj_SP2$anno_new2)\n",
    "seurObj_SP2$anno_new2 <- ifelse(colnames(seurObj_SP2) %in% WhichCells(seurObj_SP2, expression = CD4 > 5, idents = c('1')), \"DP_pos_sel\", seurObj_SP2$anno_new2)\n",
    "seurObj_SP2$anno_new2 <- ifelse(colnames(seurObj_SP2) %in% WhichCells(seurObj_SP2, expression = CD4 > 5 & CD8 < 15, idents = c('5', '6','8','10', '12', '16')), \"DP_4hi8lo\", seurObj_SP2$anno_new2)\n",
    "seurObj_SP2$anno_new2 <- ifelse(colnames(seurObj_SP2) %in% WhichCells(seurObj_SP2, expression = CD4 > 5 & CD8 > 5, idents = c('6','10', '12', '16')), \"DP_4hi8lo\", seurObj_SP2$anno_new2)\n",
    "seurObj_SP2$anno_new2 <- ifelse(colnames(seurObj_SP2) %in% WhichCells(seurObj_SP2, expression = CD4 < 5 & CD8 > 5, idents = c('8')), \"SP_CD8\", seurObj_SP2$anno_new2)\n",
    "seurObj_SP2$anno_new2 <- ifelse(colnames(seurObj_SP2) %in% WhichCells(seurObj_SP2, expression = CD8 > 8, idents = c('13','3','17')), \"SP_CD8\", seurObj_SP2$anno_new2)\n",
    "seurObj_SP2$anno_new2 <- ifelse(colnames(seurObj_SP2) %in% WhichCells(seurObj_SP2, expression = CD8 < 8 & CD4 > 5, idents = c('15','2','9')), \"SP_CD4\", seurObj_SP2$anno_new2)"
   ]
  },
  {
   "cell_type": "code",
   "execution_count": null,
   "id": "built-friend",
   "metadata": {
    "vscode": {
     "languageId": "r"
    }
   },
   "outputs": [],
   "source": [
    "options(repr.plot.width=16, repr.plot.height=16)\n",
    "\n",
    "FeatureScatter(seurObj_SP2, feature1 = 'CD8', feature2 = 'CD4', group.by = 'anno_new2', cols=pal12)+\n",
    "    facet_wrap(~seurObj_SP2$clusters_SP2, ncol = 4)+\n",
    "    theme_bw()"
   ]
  },
  {
   "cell_type": "code",
   "execution_count": null,
   "id": "conventional-patrol",
   "metadata": {
    "vscode": {
     "languageId": "r"
    }
   },
   "outputs": [],
   "source": [
    "options(repr.plot.width=8, repr.plot.height=7)\n",
    "\n",
    "DimPlot(seurObj_SP2, reduction = 'umap_wnn_SP2', group.by = 'anno_new2', cols=pal12)"
   ]
  },
  {
   "cell_type": "code",
   "execution_count": null,
   "id": "pleased-deposit",
   "metadata": {
    "vscode": {
     "languageId": "r"
    }
   },
   "outputs": [],
   "source": [
    "options(repr.plot.width=16, repr.plot.height=10)\n",
    "\n",
    "DimPlot(seurObj_SP2, reduction = 'umap_wnn_SP2', group.by = 'clusters_SP2', cols=pal24, split.by = 'anno_new2', ncol=3)+theme_bw()"
   ]
  },
  {
   "cell_type": "markdown",
   "id": "similar-pharmaceutical",
   "metadata": {},
   "source": [
    "Comparison with previous annotations:"
   ]
  },
  {
   "cell_type": "code",
   "execution_count": null,
   "id": "enhanced-singles",
   "metadata": {
    "vscode": {
     "languageId": "r"
    }
   },
   "outputs": [],
   "source": [
    "options(repr.plot.width=12, repr.plot.height=8)\n",
    "\n",
    "df <- count(seurObj_SP2@meta.data, barcode, anno_CITE_old, anno_new2) %>%\n",
    "        mutate(id = row_number())%>%\n",
    "        pivot_longer(cols=2:3, names_to = 'version', values_to = 'celltype')\n",
    "\n",
    "ggplot(df, aes(x = version, y = n, \n",
    "                          stratum = celltype, fill = celltype,\n",
    "                          alluvium = id)) +\n",
    "  geom_stratum(alpha = .5) +\n",
    "  geom_flow()+\n",
    "  theme_minimal()+\n",
    "  scale_fill_manual(values = c(pal36, 'grey30'))"
   ]
  },
  {
   "cell_type": "markdown",
   "id": "attempted-astrology",
   "metadata": {},
   "source": [
    "#### The CD4hi8lo subset\n",
    "\n",
    "The transition window from positive selection to a clear lineage phenotype through the CD4hiCD8lo stage is very vague. We can try to refine it by zooming in on this stage."
   ]
  },
  {
   "cell_type": "code",
   "execution_count": null,
   "id": "blond-grocery",
   "metadata": {
    "vscode": {
     "languageId": "r"
    }
   },
   "outputs": [],
   "source": [
    "seurObj_hilo <- subset(seurObj_SP2, subset=(anno_new2=='DP_4hi8lo'))"
   ]
  },
  {
   "cell_type": "code",
   "execution_count": null,
   "id": "expected-klein",
   "metadata": {
    "scrolled": true,
    "vscode": {
     "languageId": "r"
    }
   },
   "outputs": [],
   "source": [
    "seurObj_hilo <- seurObj_hilo  %>%\n",
    "            FindVariableFeatures(assay='ADTdsb') %>%\n",
    "            ScaleData(assay = 'ADTdsb') %>%\n",
    "            RunPCA(assay = 'ADTdsb', npcs = 50, reduction.name = 'pca_adt_hilo')"
   ]
  },
  {
   "cell_type": "code",
   "execution_count": null,
   "id": "local-macedonia",
   "metadata": {
    "scrolled": true,
    "vscode": {
     "languageId": "r"
    }
   },
   "outputs": [],
   "source": [
    "MNN <- reducedMNN(seurObj_hilo@reductions$pca_adt_hilo@cell.embeddings,\n",
    "                 batch=seurObj_hilo$sample,\n",
    "                 BPPARAM=MulticoreParam(workers=12), #parallelisation\n",
    "                 BNPARAM=HnswParam())\n",
    "seurObj_hilo[[\"mnn_adt_hilo\"]] <- CreateDimReducObject(embeddings=MNN$corrected,\n",
    "                                        assay=\"ADTdsb\",\n",
    "                                        key=\"mnn_\")"
   ]
  },
  {
   "cell_type": "code",
   "execution_count": null,
   "id": "material-officer",
   "metadata": {
    "vscode": {
     "languageId": "r"
    }
   },
   "outputs": [],
   "source": [
    "seurObj_hilo <- seurObj_hilo  %>%\n",
    "            FindVariableFeatures(assay='RNA') %>%\n",
    "            ScaleData(assay = 'RNA') %>%\n",
    "            RunPCA(assay = 'RNA', npcs = 50, reduction.name = 'pca_rna_hilo')"
   ]
  },
  {
   "cell_type": "code",
   "execution_count": null,
   "id": "biblical-merchandise",
   "metadata": {
    "scrolled": true,
    "vscode": {
     "languageId": "r"
    }
   },
   "outputs": [],
   "source": [
    "MNN <- reducedMNN(seurObj_hilo@reductions$pca_rna_hilo@cell.embeddings,\n",
    "                 batch=seurObj_hilo$sample,\n",
    "                 BPPARAM=MulticoreParam(workers=12), #parallelisation\n",
    "                 BNPARAM=HnswParam())\n",
    "seurObj_hilo[[\"mnn_rna_hilo\"]] <- CreateDimReducObject(embeddings=MNN$corrected,\n",
    "                                        assay=\"RNA\",\n",
    "                                        key=\"mnn_\")"
   ]
  },
  {
   "cell_type": "code",
   "execution_count": null,
   "id": "faced-injury",
   "metadata": {
    "vscode": {
     "languageId": "r"
    }
   },
   "outputs": [],
   "source": [
    "dim_adt <- PCcutoff(seurObj_hilo@reductions$pca_adt_hilo, 0.1)\n",
    "dim_adt\n",
    "\n",
    "dim_rna <- PCcutoff(seurObj_hilo@reductions$pca_rna_hilo, 0.1)\n",
    "dim_rna\n",
    "\n",
    "seurObj_hilo <- FindMultiModalNeighbors(seurObj_hilo,\n",
    "                                  reduction.list=list('mnn_adt_hilo', 'mnn_rna_hilo'),\n",
    "                                   dims.list=list(1:dim_adt,1:dim_rna))"
   ]
  },
  {
   "cell_type": "code",
   "execution_count": null,
   "id": "hispanic-output",
   "metadata": {
    "vscode": {
     "languageId": "r"
    }
   },
   "outputs": [],
   "source": [
    "seurObj_hilo <- RunUMAP(seurObj_hilo, nn.name = \"weighted.nn\", reduction.name = \"umap_wnn_hilo\",\n",
    "                        reduction.key = \"wnnUMAP_\")"
   ]
  },
  {
   "cell_type": "code",
   "execution_count": null,
   "id": "finished-region",
   "metadata": {
    "vscode": {
     "languageId": "r"
    }
   },
   "outputs": [],
   "source": [
    "options(repr.plot.width=8, repr.plot.height=7)\n",
    "\n",
    "DimPlot(seurObj_hilo, reduction = 'umap_wnn_hilo', group.by = 'clusters_SP2', cols=pal12)"
   ]
  },
  {
   "cell_type": "code",
   "execution_count": null,
   "id": "proper-southwest",
   "metadata": {
    "scrolled": true,
    "vscode": {
     "languageId": "r"
    }
   },
   "outputs": [],
   "source": [
    "seurObj_hilo <- RunUMAP(seurObj_hilo, assay = 'ADTdsb', dims = 1:dim_adt, reduction = 'mnn_adt_hilo', reduction.name = \"umap_adt_hilo\",\n",
    "                        reduction.key = \"wnnUMAP_\")"
   ]
  },
  {
   "cell_type": "code",
   "execution_count": null,
   "id": "governing-identity",
   "metadata": {
    "scrolled": true,
    "vscode": {
     "languageId": "r"
    }
   },
   "outputs": [],
   "source": [
    "ptm <- proc.time()\n",
    "\n",
    "seurObj_hilo <- FindNeighbors(seurObj_hilo, reduction= 'mnn_adt_hilo', dims=1:dim_adt, assay='ADTdsb')\n",
    "seurObj_hilo <- FindClusters(seurObj_hilo, algorithm = 4, resolution = 1, random.seed = 123, method = 'igraph', cluster.name='clusters_adt_hilo')\n",
    "\n",
    "proc.time() - ptm"
   ]
  },
  {
   "cell_type": "code",
   "execution_count": null,
   "id": "representative-above",
   "metadata": {
    "vscode": {
     "languageId": "r"
    }
   },
   "outputs": [],
   "source": [
    "options(repr.plot.width=8, repr.plot.height=7)\n",
    "\n",
    "DimPlot(seurObj_hilo, reduction = 'umap_wnn_hilo', group.by = 'clusters_adt_hilo', cols=pal24)\n",
    "DimPlot(seurObj_hilo, reduction = 'umap_adt_hilo', group.by = 'clusters_adt_hilo', cols=pal24)"
   ]
  },
  {
   "cell_type": "code",
   "execution_count": null,
   "id": "statutory-electronics",
   "metadata": {
    "vscode": {
     "languageId": "r"
    }
   },
   "outputs": [],
   "source": [
    "options(repr.plot.width=16, repr.plot.height=16)\n",
    "\n",
    "FeatureScatter(seurObj_hilo, feature1 = 'CD8', feature2 = 'CD4', group.by = 'clusters_SP2', cols=pal12)+\n",
    "    facet_wrap(~seurObj_hilo$clusters_adt_hilo, ncol = 4)+\n",
    "    theme_bw()"
   ]
  },
  {
   "cell_type": "code",
   "execution_count": null,
   "id": "soviet-failure",
   "metadata": {
    "vscode": {
     "languageId": "r"
    }
   },
   "outputs": [],
   "source": [
    "options(repr.plot.width=16, repr.plot.height=10)\n",
    "\n",
    "FeatureScatter(seurObj_hilo, feature1 = 'CD8', feature2 = 'CD4', group.by = 'anno_CITE_old', cols=pal24)+\n",
    "    facet_wrap(~seurObj_hilo$clusters_adt_hilo, ncol = 4)+\n",
    "    theme_bw()"
   ]
  },
  {
   "cell_type": "code",
   "execution_count": null,
   "id": "primary-psychology",
   "metadata": {
    "scrolled": true,
    "vscode": {
     "languageId": "r"
    }
   },
   "outputs": [],
   "source": [
    "table(seurObj_hilo$anno_CITE_old, seurObj_hilo$clusters_adt_hilo)"
   ]
  },
  {
   "cell_type": "code",
   "execution_count": null,
   "id": "inner-gathering",
   "metadata": {
    "vscode": {
     "languageId": "r"
    }
   },
   "outputs": [],
   "source": [
    "\n",
    "options(repr.plot.width=8, repr.plot.height=7)\n",
    "\n",
    "DimPlot(seurObj_SP2, reduction = 'umap_wnn_SP2', cells.highlight = WhichCells(seurObj_hilo, idents = c('7','10'), expression= CD8 <8))"
   ]
  },
  {
   "cell_type": "markdown",
   "id": "initial-fabric",
   "metadata": {},
   "source": [
    "This analysis clearly indicates that a subset of cells labeled 4hi8lo actually seems to belong to the CD4 lineage. We adjust the annotation accordingly."
   ]
  },
  {
   "cell_type": "code",
   "execution_count": null,
   "id": "alpine-visiting",
   "metadata": {
    "vscode": {
     "languageId": "r"
    }
   },
   "outputs": [],
   "source": [
    "seurObj_SP2$anno_new2 <- ifelse(colnames(seurObj_SP2) %in% WhichCells(seurObj_hilo, idents = c('7','10'), expression= CD8 <8), \"SP_CD4\", seurObj_SP2$anno_new2)"
   ]
  },
  {
   "cell_type": "code",
   "execution_count": null,
   "id": "fatal-karma",
   "metadata": {
    "vscode": {
     "languageId": "r"
    }
   },
   "outputs": [],
   "source": [
    "options(repr.plot.width=8, repr.plot.height=7)\n",
    "\n",
    "DimPlot(seurObj_SP2, reduction = 'umap_wnn_SP2', group.by = 'anno_new2', cols=pal12)"
   ]
  },
  {
   "cell_type": "markdown",
   "id": "respiratory-genetics",
   "metadata": {},
   "source": [
    "#### CD4SP"
   ]
  },
  {
   "cell_type": "code",
   "execution_count": null,
   "id": "macro-vacuum",
   "metadata": {
    "vscode": {
     "languageId": "r"
    }
   },
   "outputs": [],
   "source": [
    "seurObj_SPCD4 <- subset(seurObj_SP2, subset=(anno_new2=='SP_CD4'))"
   ]
  },
  {
   "cell_type": "code",
   "execution_count": null,
   "id": "approved-pointer",
   "metadata": {
    "scrolled": true,
    "vscode": {
     "languageId": "r"
    }
   },
   "outputs": [],
   "source": [
    "seurObj_SPCD4 <- seurObj_SPCD4  %>%\n",
    "            FindVariableFeatures(assay='ADTdsb') %>%\n",
    "            ScaleData(assay = 'ADTdsb') %>%\n",
    "            RunPCA(assay = 'ADTdsb', npcs = 50, reduction.name = 'pca_adt_SPCD4')"
   ]
  },
  {
   "cell_type": "code",
   "execution_count": null,
   "id": "southern-designer",
   "metadata": {
    "scrolled": true,
    "vscode": {
     "languageId": "r"
    }
   },
   "outputs": [],
   "source": [
    "MNN <- reducedMNN(seurObj_SPCD4@reductions$pca_adt_SPCD4@cell.embeddings,\n",
    "                 batch=seurObj_SPCD4$sample,\n",
    "                 BPPARAM=MulticoreParam(workers=12), #parallelisation\n",
    "                 BNPARAM=HnswParam())\n",
    "seurObj_SPCD4[[\"mnn_adt_SPCD4\"]] <- CreateDimReducObject(embeddings=MNN$corrected,\n",
    "                                        assay=\"ADTdsb\",\n",
    "                                        key=\"mnn_\")"
   ]
  },
  {
   "cell_type": "code",
   "execution_count": null,
   "id": "resistant-rider",
   "metadata": {
    "vscode": {
     "languageId": "r"
    }
   },
   "outputs": [],
   "source": [
    "seurObj_SPCD4 <- seurObj_SPCD4  %>%\n",
    "            FindVariableFeatures(assay='RNA') %>%\n",
    "            ScaleData(assay = 'RNA') %>%\n",
    "            RunPCA(assay = 'RNA', npcs = 50, reduction.name = 'pca_rna_SPCD4')"
   ]
  },
  {
   "cell_type": "code",
   "execution_count": null,
   "id": "criminal-credits",
   "metadata": {
    "scrolled": true,
    "vscode": {
     "languageId": "r"
    }
   },
   "outputs": [],
   "source": [
    "MNN <- reducedMNN(seurObj_SPCD4@reductions$pca_rna_SPCD4@cell.embeddings,\n",
    "                 batch=seurObj_SPCD4$sample,\n",
    "                 BPPARAM=MulticoreParam(workers=12), #parallelisation\n",
    "                 BNPARAM=HnswParam())\n",
    "seurObj_SPCD4[[\"mnn_rna_SPCD4\"]] <- CreateDimReducObject(embeddings=MNN$corrected,\n",
    "                                        assay=\"RNA\",\n",
    "                                        key=\"mnn_\")"
   ]
  },
  {
   "cell_type": "code",
   "execution_count": null,
   "id": "hearing-console",
   "metadata": {
    "vscode": {
     "languageId": "r"
    }
   },
   "outputs": [],
   "source": [
    "dim_adt <- PCcutoff(seurObj_SPCD4@reductions$pca_adt_SPCD4, 0.1)\n",
    "dim_adt\n",
    "\n",
    "dim_rna <- PCcutoff(seurObj_SPCD4@reductions$pca_rna_SPCD4, 0.1)\n",
    "dim_rna\n",
    "\n",
    "seurObj_SPCD4 <- FindMultiModalNeighbors(seurObj_SPCD4,\n",
    "                                  reduction.list=list('mnn_adt_SPCD4', 'mnn_rna_SPCD4'),\n",
    "                                   dims.list=list(1:dim_adt,1:dim_rna))"
   ]
  },
  {
   "cell_type": "code",
   "execution_count": null,
   "id": "racial-province",
   "metadata": {
    "vscode": {
     "languageId": "r"
    }
   },
   "outputs": [],
   "source": [
    "seurObj_SPCD4 <- RunUMAP(seurObj_SPCD4, nn.name = \"weighted.nn\", reduction.name = \"umap_wnn_SPCD4\",\n",
    "                        reduction.key = \"wnnUMAP_\")"
   ]
  },
  {
   "cell_type": "code",
   "execution_count": null,
   "id": "macro-defeat",
   "metadata": {
    "scrolled": true,
    "vscode": {
     "languageId": "r"
    }
   },
   "outputs": [],
   "source": [
    "seurObj_SPCD4 <- RunUMAP(seurObj_SPCD4, assay = 'ADTdsb', dims = 1:dim_adt, reduction = 'mnn_adt_SPCD4', reduction.name = \"umap_adt_SPCD4\",\n",
    "                        reduction.key = \"wnnUMAP_\")"
   ]
  },
  {
   "cell_type": "code",
   "execution_count": null,
   "id": "automatic-possession",
   "metadata": {
    "vscode": {
     "languageId": "r"
    }
   },
   "outputs": [],
   "source": [
    "ptm <- proc.time()\n",
    "\n",
    "seurObj_SPCD4 <- FindNeighbors(seurObj_SPCD4, reduction= 'mnn_adt_SPCD4', dims=1:dim_adt, assay='ADTdsb')\n",
    "seurObj_SPCD4 <- FindClusters(seurObj_SPCD4, algorithm = 4, resolution = 1, random.seed = 123, method = 'igraph', cluster.name='clusters_SPCD4_adt')\n",
    "\n",
    "proc.time() - ptm"
   ]
  },
  {
   "cell_type": "code",
   "execution_count": null,
   "id": "ongoing-inflation",
   "metadata": {
    "vscode": {
     "languageId": "r"
    }
   },
   "outputs": [],
   "source": [
    "options(repr.plot.width=8, repr.plot.height=7)\n",
    "\n",
    "DimPlot(seurObj_SPCD4, reduction = 'umap_adt_SPCD4', group.by = 'anno_CITE_old', cols=pal24)\n",
    "\n",
    "DimPlot(seurObj_SPCD4, reduction = 'umap_adt_SPCD4', group.by = 'clusters_SPCD4_adt', cols=pal12)\n"
   ]
  },
  {
   "cell_type": "code",
   "execution_count": null,
   "id": "nutritional-template",
   "metadata": {
    "vscode": {
     "languageId": "r"
    }
   },
   "outputs": [],
   "source": [
    "table(seurObj_SPCD4$anno_CITE_old, seurObj_SPCD4$clusters_SPCD4_adt)"
   ]
  },
  {
   "cell_type": "markdown",
   "id": "emotional-michigan",
   "metadata": {},
   "source": [
    "#### CD8SP"
   ]
  },
  {
   "cell_type": "code",
   "execution_count": null,
   "id": "systematic-teacher",
   "metadata": {
    "vscode": {
     "languageId": "r"
    }
   },
   "outputs": [],
   "source": [
    "seurObj_SPCD8 <- subset(seurObj_SP2, subset=(anno_new2=='SP_CD8'))"
   ]
  },
  {
   "cell_type": "code",
   "execution_count": null,
   "id": "frank-principle",
   "metadata": {
    "scrolled": true,
    "vscode": {
     "languageId": "r"
    }
   },
   "outputs": [],
   "source": [
    "seurObj_SPCD8 <- seurObj_SPCD8  %>%\n",
    "            FindVariableFeatures(assay='ADTdsb') %>%\n",
    "            ScaleData(assay = 'ADTdsb') %>%\n",
    "            RunPCA(assay = 'ADTdsb', npcs = 50, reduction.name = 'pca_adt_SPCD8')"
   ]
  },
  {
   "cell_type": "code",
   "execution_count": null,
   "id": "prompt-novelty",
   "metadata": {
    "vscode": {
     "languageId": "r"
    }
   },
   "outputs": [],
   "source": [
    "table(seurObj_SP$clusters_SP, seurObj_SP$clusters_rough)"
   ]
  },
  {
   "cell_type": "code",
   "execution_count": null,
   "id": "large-trick",
   "metadata": {
    "scrolled": true,
    "vscode": {
     "languageId": "r"
    }
   },
   "outputs": [],
   "source": [
    "MNN <- reducedMNN(seurObj_SPCD8@reductions$pca_adt_SPCD8@cell.embeddings,\n",
    "                 batch=seurObj_SPCD8$sample,\n",
    "                 BPPARAM=MulticoreParam(workers=12), #parallelisation\n",
    "                 BNPARAM=HnswParam())\n",
    "seurObj_SPCD8[[\"mnn_adt_SPCD8\"]] <- CreateDimReducObject(embeddings=MNN$corrected,\n",
    "                                        assay=\"ADTdsb\",\n",
    "                                        key=\"mnn_\")"
   ]
  },
  {
   "cell_type": "code",
   "execution_count": null,
   "id": "nasty-diary",
   "metadata": {
    "vscode": {
     "languageId": "r"
    }
   },
   "outputs": [],
   "source": [
    "seurObj_SPCD8 <- seurObj_SPCD8  %>%\n",
    "            FindVariableFeatures(assay='RNA') %>%\n",
    "            ScaleData(assay = 'RNA') %>%\n",
    "            RunPCA(assay = 'RNA', npcs = 50, reduction.name = 'pca_rna_SPCD8')"
   ]
  },
  {
   "cell_type": "code",
   "execution_count": null,
   "id": "hispanic-birmingham",
   "metadata": {
    "vscode": {
     "languageId": "r"
    }
   },
   "outputs": [],
   "source": [
    "table(seurObj_DN$anno_new, seurObj_DN$anno_CITE_old)"
   ]
  },
  {
   "cell_type": "code",
   "execution_count": null,
   "id": "rapid-kentucky",
   "metadata": {
    "scrolled": true,
    "vscode": {
     "languageId": "r"
    }
   },
   "outputs": [],
   "source": [
    "MNN <- reducedMNN(seurObj_SPCD8@reductions$pca_rna_SPCD8@cell.embeddings,\n",
    "                 batch=seurObj_SPCD8$sample,\n",
    "                 BPPARAM=MulticoreParam(workers=12), #parallelisation\n",
    "                 BNPARAM=HnswParam())\n",
    "seurObj_SPCD8[[\"mnn_rna_SPCD8\"]] <- CreateDimReducObject(embeddings=MNN$corrected,\n",
    "                                        assay=\"RNA\",\n",
    "                                        key=\"mnn_\")"
   ]
  },
  {
   "cell_type": "code",
   "execution_count": null,
   "id": "surrounded-cooling",
   "metadata": {
    "vscode": {
     "languageId": "r"
    }
   },
   "outputs": [],
   "source": [
    "table(seurObj_DN$anno_new)\n",
    "      \n",
    "table(seurObj_DN$anno_CITE_old)"
   ]
  },
  {
   "cell_type": "code",
   "execution_count": null,
   "id": "vocational-douglas",
   "metadata": {
    "vscode": {
     "languageId": "r"
    }
   },
   "outputs": [],
   "source": [
    "options(repr.plot.width=9, repr.plot.height=7)\n",
    "\n",
    "\n",
    "DimPlot(seurObj_SP2, reduction = 'umap_wnn_SP2', group.by = 'anno_new2', cols=pal12)\n"
   ]
  },
  {
   "cell_type": "code",
   "execution_count": null,
   "id": "associate-kansas",
   "metadata": {
    "vscode": {
     "languageId": "r"
    }
   },
   "outputs": [],
   "source": [
    "dim_adt <- PCcutoff(seurObj_SPCD8@reductions$pca_adt_SPCD8, 0.1)\n",
    "dim_adt\n",
    "\n",
    "dim_rna <- PCcutoff(seurObj_SPCD8@reductions$pca_rna_SPCD8, 0.1)\n",
    "dim_rna\n",
    "\n",
    "seurObj_SPCD8 <- FindMultiModalNeighbors(seurObj_SPCD8,\n",
    "                                  reduction.list=list('mnn_adt_SPCD8', 'mnn_rna_SPCD8'),\n",
    "                                   dims.list=list(1:dim_adt,1:dim_rna))"
   ]
  },
  {
   "cell_type": "code",
   "execution_count": null,
   "id": "educational-compression",
   "metadata": {
    "vscode": {
     "languageId": "r"
    }
   },
   "outputs": [],
   "source": [
    "seurObj_SPCD8 <- RunUMAP(seurObj_SPCD8, nn.name = \"weighted.nn\", reduction.name = \"umap_wnn_SPCD8\",\n",
    "                        reduction.key = \"wnnUMAP_\")"
   ]
  },
  {
   "cell_type": "code",
   "execution_count": null,
   "id": "julian-snowboard",
   "metadata": {
    "scrolled": true,
    "vscode": {
     "languageId": "r"
    }
   },
   "outputs": [],
   "source": [
    "seurObj_SPCD8 <- RunUMAP(seurObj_SPCD8, assay = 'ADTdsb', dims = 1:dim_adt, reduction = 'mnn_adt_SPCD8', reduction.name = \"umap_adt_SPCD8\",\n",
    "                        reduction.key = \"wnnUMAP_\")"
   ]
  },
  {
   "cell_type": "code",
   "execution_count": null,
   "id": "relative-grill",
   "metadata": {
    "scrolled": true,
    "vscode": {
     "languageId": "r"
    }
   },
   "outputs": [],
   "source": [
    "ptm <- proc.time()\n",
    "\n",
    "seurObj_SPCD8 <- FindNeighbors(seurObj_SPCD8, reduction= 'mnn_adt_SPCD8', dims=1:dim_adt, assay='ADTdsb')\n",
    "seurObj_SPCD8 <- FindClusters(seurObj_SPCD8, algorithm = 4, resolution = 1, random.seed = 123, method = 'igraph', cluster.name='clusters_SPCD8_adt')\n",
    "\n",
    "proc.time() - ptm"
   ]
  },
  {
   "cell_type": "code",
   "execution_count": null,
   "id": "desperate-accreditation",
   "metadata": {
    "vscode": {
     "languageId": "r"
    }
   },
   "outputs": [],
   "source": [
    "options(repr.plot.width=8, repr.plot.height=7)\n",
    "\n",
    "DimPlot(seurObj_SPCD8, reduction = 'umap_adt_SPCD8', group.by = 'anno_CITE_old', cols=pal24)\n",
    "\n",
    "DimPlot(seurObj_SPCD8, reduction = 'umap_adt_SPCD8', group.by = 'clusters_SPCD8_adt', cols=pal12)\n"
   ]
  },
  {
   "cell_type": "markdown",
   "id": "divided-technology",
   "metadata": {},
   "source": [
    "#### SP substages\n",
    "\n",
    "We have subset and reintegrated the two T lineages separately to permit a better annotation of subsequent maturation stages."
   ]
  },
  {
   "cell_type": "code",
   "execution_count": null,
   "id": "polished-grade",
   "metadata": {
    "vscode": {
     "languageId": "r"
    }
   },
   "outputs": [],
   "source": [
    "options(repr.plot.width=8, repr.plot.height=7)\n",
    "\n",
    "DimPlot(seurObj_SPCD4, reduction = 'umap_adt_SPCD4', group.by = 'clusters_SPCD4_adt', cols=pal12)\n",
    "\n",
    "DimPlot(seurObj_SPCD8, reduction = 'umap_adt_SPCD8', group.by = 'clusters_SPCD8_adt', cols=pal12)\n"
   ]
  },
  {
   "cell_type": "code",
   "execution_count": null,
   "id": "european-alias",
   "metadata": {
    "vscode": {
     "languageId": "r"
    }
   },
   "outputs": [],
   "source": [
    "options(repr.plot.width=16, repr.plot.height=8)\n",
    "\n",
    "VlnPlot(seurObj_SPCD4, group.by = 'clusters_SPCD4_adt', features = c('CD1a', 'CD45RA', 'CD4', 'CD8', 'CD69', 'CD226', 'CD44', 'CD27'),ncol=4, pt.size = 0, cols=pal12)\n",
    "VlnPlot(seurObj_SPCD8, group.by = 'clusters_SPCD8_adt', features = c('CD1a', 'CD45RA', 'CD4', 'CD8', 'CD69', 'CD226', 'CD44', 'CD27'), ncol=4, pt.size = 0, cols=pal12)\n"
   ]
  },
  {
   "cell_type": "code",
   "execution_count": null,
   "id": "regulation-mainland",
   "metadata": {
    "vscode": {
     "languageId": "r"
    }
   },
   "outputs": [],
   "source": [
    "options(repr.plot.width=16, repr.plot.height=12)\n",
    "\n",
    "FeatureScatter(seurObj_SPCD4, feature1 = 'CD45RA', feature2 = 'CD1a', cols=pal12)+facet_wrap(~seurObj_SPCD4$clusters_SPCD4_adt, ncol=4)+theme_bw()\n",
    "\n",
    "FeatureScatter(seurObj_SPCD8, feature1 = 'CD45RA', feature2 = 'CD1a', cols=pal12)+facet_wrap(~seurObj_SPCD8$clusters_SPCD8_adt, ncol=4)+theme_bw()"
   ]
  },
  {
   "cell_type": "markdown",
   "id": "julian-blink",
   "metadata": {},
   "source": [
    "Cluster analysis and comparison between the two lineages indicates that the same expression cutoffs for CD1a and CD45RA and informed cluster selection should allow the annotation of matching maturation stages. The mature cells for both lineages clearly form a separate cluster and are thus annotated based on the cluster only without taking into account marker expression."
   ]
  },
  {
   "cell_type": "code",
   "execution_count": null,
   "id": "wooden-moral",
   "metadata": {
    "vscode": {
     "languageId": "r"
    }
   },
   "outputs": [],
   "source": [
    "Idents(seurObj_SPCD4) <- seurObj_SPCD4$clusters_SPCD4_adt\n",
    "seurObj_SPCD4$anno_new3 <- 'unknown'\n",
    "seurObj_SPCD4$anno_new3 <- ifelse(colnames(seurObj_SPCD4) %in% WhichCells(seurObj_SPCD4, expression = CD45RA < 20, idents = c('1', '4', '8', '5')), \"SP_CD4_immature\", seurObj_SPCD4$anno_new3)\n",
    "seurObj_SPCD4$anno_new3 <- ifelse(colnames(seurObj_SPCD4) %in% WhichCells(seurObj_SPCD4, expression = CD1a < 6, idents = c('2', '3', '6', '7')), \"SP_CD4_semimature\", seurObj_SPCD4$anno_new3)\n",
    "seurObj_SPCD4$anno_new3 <- ifelse(colnames(seurObj_SPCD4) %in% WhichCells(seurObj_SPCD4, idents = '9'), \"SP_CD4_mature\", seurObj_SPCD4$anno_new3)\n"
   ]
  },
  {
   "cell_type": "code",
   "execution_count": null,
   "id": "immediate-cisco",
   "metadata": {
    "vscode": {
     "languageId": "r"
    }
   },
   "outputs": [],
   "source": [
    "options(repr.plot.width=8, repr.plot.height=7)\n",
    "\n",
    "\n",
    "DimPlot(seurObj_SPCD4, reduction = 'umap_adt_SPCD4', group.by = 'anno_new3', cols=pal12)\n"
   ]
  },
  {
   "cell_type": "code",
   "execution_count": null,
   "id": "parallel-medicaid",
   "metadata": {
    "vscode": {
     "languageId": "r"
    }
   },
   "outputs": [],
   "source": [
    "Idents(seurObj_SPCD8) <- seurObj_SPCD8$clusters_SPCD8_adt\n",
    "seurObj_SPCD8$anno_new3 <- 'unknown'\n",
    "seurObj_SPCD8$anno_new3 <- ifelse(colnames(seurObj_SPCD8) %in% WhichCells(seurObj_SPCD8, expression = CD45RA < 20 & CD4 < 5, idents = c('4', '3', '7')), \"SP_CD8_immature\", seurObj_SPCD8$anno_new3)\n",
    "seurObj_SPCD8$anno_new3 <- ifelse(colnames(seurObj_SPCD8) %in% WhichCells(seurObj_SPCD8, expression = CD1a < 6, idents = c('1', '2', '5','6', '8')), \"SP_CD8_semimature\", seurObj_SPCD8$anno_new3)\n",
    "seurObj_SPCD8$anno_new3 <- ifelse(colnames(seurObj_SPCD8) %in% WhichCells(seurObj_SPCD8, idents = '9'), \"SP_CD8_mature\", seurObj_SPCD8$anno_new3)\n"
   ]
  },
  {
   "cell_type": "code",
   "execution_count": null,
   "id": "professional-voluntary",
   "metadata": {
    "vscode": {
     "languageId": "r"
    }
   },
   "outputs": [],
   "source": [
    "options(repr.plot.width=8, repr.plot.height=7)\n",
    "\n",
    "\n",
    "DimPlot(seurObj_SPCD8, reduction = 'umap_adt_SPCD8', group.by = 'anno_new3', cols=pal12)\n"
   ]
  },
  {
   "cell_type": "markdown",
   "id": "least-black",
   "metadata": {},
   "source": [
    "We can transfer these annotations back to the SP object."
   ]
  },
  {
   "cell_type": "code",
   "execution_count": null,
   "id": "assumed-persian",
   "metadata": {
    "vscode": {
     "languageId": "r"
    }
   },
   "outputs": [],
   "source": [
    "seurObj_SP2$anno_new2[colnames(seurObj_SP2) %in% colnames(seurObj_SPCD8)] <- seurObj_SPCD8$anno_new3\n",
    "seurObj_SP2$anno_new2[colnames(seurObj_SP2) %in% colnames(seurObj_SPCD4)] <- seurObj_SPCD4$anno_new3"
   ]
  },
  {
   "cell_type": "code",
   "execution_count": null,
   "id": "right-probability",
   "metadata": {
    "vscode": {
     "languageId": "r"
    }
   },
   "outputs": [],
   "source": [
    "seurObj_SP$anno_new[colnames(seurObj_SP) %in% colnames(seurObj_SP2)] <- seurObj_SP2$anno_new2\n",
    "seurObj_SP$anno_new[colnames(seurObj_SP) %in% colnames(seurObj_SP2)] <- seurObj_SP2$anno_new2"
   ]
  },
  {
   "cell_type": "code",
   "execution_count": null,
   "id": "international-neighborhood",
   "metadata": {
    "vscode": {
     "languageId": "r"
    }
   },
   "outputs": [],
   "source": [
    "options(repr.plot.width=9, repr.plot.height=7)\n",
    "\n",
    "\n",
    "DimPlot(seurObj_SP2, reduction = 'umap_wnn_SP2', group.by = 'anno_new2', cols=pal12)\n",
    "\n",
    "DimPlot(seurObj_SP, reduction = 'umap_wnn_SP', group.by = 'anno_new', cols=pal12)\n"
   ]
  },
  {
   "cell_type": "code",
   "execution_count": null,
   "id": "early-reservoir",
   "metadata": {
    "vscode": {
     "languageId": "r"
    }
   },
   "outputs": [],
   "source": [
    "options(repr.plot.width=16, repr.plot.height=4)\n",
    "\n",
    "VlnPlot(seurObj_SP2, group.by = 'anno_new2', features = c('CD1a', 'CD45RA', 'CD4', 'CD8'),ncol=4, pt.size = 0.001, cols=pal12)"
   ]
  },
  {
   "cell_type": "markdown",
   "id": "institutional-atmosphere",
   "metadata": {},
   "source": [
    "Some CD8-annotated cells express medium levels of CD4. We label these cells as unknown to avoid crosscontamination between lineages."
   ]
  },
  {
   "cell_type": "code",
   "execution_count": null,
   "id": "existing-acrobat",
   "metadata": {
    "vscode": {
     "languageId": "r"
    }
   },
   "outputs": [],
   "source": [
    "Idents(seurObj_SP2) <- seurObj_SP2$anno_new2\n",
    "\n",
    "seurObj_SP2$anno_new2 <- ifelse(colnames(seurObj_SP2) %in% WhichCells(seurObj_SP2, expression = CD4 > 5, idents = c(\"SP_CD8_immature\", \"SP_CD8_semimature\", \"SP_CD8_mature\")), \"unknown\", seurObj_SP2$anno_new2)"
   ]
  },
  {
   "cell_type": "code",
   "execution_count": null,
   "id": "harmful-philip",
   "metadata": {
    "vscode": {
     "languageId": "r"
    }
   },
   "outputs": [],
   "source": [
    "options(repr.plot.width=16, repr.plot.height=4)\n",
    "\n",
    "VlnPlot(seurObj_SP2, group.by = 'anno_new2', features = c('CD1a', 'CD45RA', 'CD4', 'CD8'),ncol=4, pt.size = 0.001, cols=pal12)"
   ]
  },
  {
   "cell_type": "code",
   "execution_count": null,
   "id": "gross-samoa",
   "metadata": {
    "vscode": {
     "languageId": "r"
    }
   },
   "outputs": [],
   "source": [
    "options(repr.plot.width=20, repr.plot.height=8)\n",
    "\n",
    "\n",
    "DimPlot(seurObj_SP2, reduction = 'umap_wnn_SP2', group.by = 'anno_new2', cols=pal12, split.by = 'anno_new2', ncol=5)\n"
   ]
  },
  {
   "cell_type": "markdown",
   "id": "armed-projector",
   "metadata": {},
   "source": [
    "Comparison between new and old annotations:"
   ]
  },
  {
   "cell_type": "code",
   "execution_count": null,
   "id": "mediterranean-allowance",
   "metadata": {
    "vscode": {
     "languageId": "r"
    }
   },
   "outputs": [],
   "source": [
    "options(repr.plot.width=12, repr.plot.height=8)\n",
    "\n",
    "df <- count(seurObj_SP2@meta.data, barcode, anno_CITE_old, anno_new2) %>%\n",
    "        mutate(id = row_number())%>%\n",
    "        pivot_longer(cols=2:3, names_to = 'version', values_to = 'celltype')\n",
    "\n",
    "\n",
    "ggplot(df, aes(x = version, y = n, \n",
    "                          stratum = celltype, fill = celltype,\n",
    "                          alluvium = id)) +\n",
    "  geom_stratum(alpha = .5) +\n",
    "  geom_flow()+\n",
    "  theme_minimal()+\n",
    "  scale_fill_manual(values = c(pal36, 'grey30'))"
   ]
  },
  {
   "cell_type": "code",
   "execution_count": null,
   "id": "broken-hospital",
   "metadata": {
    "vscode": {
     "languageId": "r"
    }
   },
   "outputs": [],
   "source": [
    "table(seurObj_SP2$anno_new2)"
   ]
  },
  {
   "cell_type": "markdown",
   "id": "available-belief",
   "metadata": {},
   "source": [
    "#### Pseudotime-based annotation refinement\n",
    "\n",
    "By determining lineage pseudotimes, we can assess the sturdiness of the annotations and - if needed - remove cells associated with the wrong lineage."
   ]
  },
  {
   "cell_type": "code",
   "execution_count": null,
   "id": "beneficial-suggestion",
   "metadata": {
    "vscode": {
     "languageId": "r"
    }
   },
   "outputs": [],
   "source": [
    "seurObj_SP3 <- subset(seurObj_SP2, subset=anno_new2 %in% c('DP(Q)_rearr', 'unknown'), invert=T)"
   ]
  },
  {
   "cell_type": "code",
   "execution_count": null,
   "id": "alternate-breach",
   "metadata": {
    "scrolled": true,
    "vscode": {
     "languageId": "r"
    }
   },
   "outputs": [],
   "source": [
    "seurObj_SP3 <- seurObj_SP3  %>%\n",
    "            FindVariableFeatures(assay='ADTdsb') %>%\n",
    "            ScaleData(assay = 'ADTdsb') %>%\n",
    "            RunPCA(assay = 'ADTdsb', npcs = 50, reduction.name = 'pca_adt_SP3')"
   ]
  },
  {
   "cell_type": "code",
   "execution_count": null,
   "id": "announced-whale",
   "metadata": {
    "scrolled": true,
    "vscode": {
     "languageId": "r"
    }
   },
   "outputs": [],
   "source": [
    "MNN <- reducedMNN(seurObj_SP3@reductions$pca_adt_SP3@cell.embeddings,\n",
    "                 batch=seurObj_SP3$sample,\n",
    "                 BPPARAM=MulticoreParam(workers=12), #parallelisation\n",
    "                 BNPARAM=HnswParam())\n",
    "seurObj_SP3[[\"mnn_adt_SP3\"]] <- CreateDimReducObject(embeddings=MNN$corrected,\n",
    "                                        assay=\"ADTdsb\",\n",
    "                                        key=\"mnn_\")"
   ]
  },
  {
   "cell_type": "code",
   "execution_count": null,
   "id": "purple-college",
   "metadata": {
    "scrolled": true,
    "vscode": {
     "languageId": "r"
    }
   },
   "outputs": [],
   "source": [
    "seurObj_SP3 <- seurObj_SP3  %>%\n",
    "            FindVariableFeatures(assay='RNA') %>%\n",
    "            ScaleData(assay = 'RNA') %>%\n",
    "            RunPCA(assay = 'RNA', npcs = 50, reduction.name = 'pca_rna_SP3')"
   ]
  },
  {
   "cell_type": "code",
   "execution_count": null,
   "id": "aggressive-witness",
   "metadata": {
    "scrolled": true,
    "vscode": {
     "languageId": "r"
    }
   },
   "outputs": [],
   "source": [
    "MNN <- reducedMNN(seurObj_SP3@reductions$pca_rna_SP3@cell.embeddings,\n",
    "                 batch=seurObj_SP3$sample,\n",
    "                 BPPARAM=MulticoreParam(workers=12), #parallelisation\n",
    "                 BNPARAM=HnswParam())\n",
    "seurObj_SP3[[\"mnn_rna_SP3\"]] <- CreateDimReducObject(embeddings=MNN$corrected,\n",
    "                                        assay=\"RNA\",\n",
    "                                        key=\"mnn_\")"
   ]
  },
  {
   "cell_type": "code",
   "execution_count": null,
   "id": "great-talent",
   "metadata": {
    "vscode": {
     "languageId": "r"
    }
   },
   "outputs": [],
   "source": [
    "dim_adt <- PCcutoff(seurObj_SP3@reductions$pca_adt_SP3, 0.1)\n",
    "dim_adt\n",
    "\n",
    "dim_rna <- PCcutoff(seurObj_SP3@reductions$pca_rna_SP3, 0.1)\n",
    "dim_rna\n",
    "\n",
    "seurObj_SP3 <- FindMultiModalNeighbors(seurObj_SP3,\n",
    "                                  reduction.list=list('mnn_adt_SP3', 'mnn_rna_SP3'),\n",
    "                                   dims.list=list(1:dim_adt,1:dim_rna))"
   ]
  },
  {
   "cell_type": "code",
   "execution_count": null,
   "id": "still-contest",
   "metadata": {
    "vscode": {
     "languageId": "r"
    }
   },
   "outputs": [],
   "source": [
    "seurObj_SP3 <- RunUMAP(seurObj_SP3, nn.name = \"weighted.nn\", reduction.name = \"umap_wnn_SP3\",\n",
    "                        reduction.key = \"wnnUMAP_\")"
   ]
  },
  {
   "cell_type": "code",
   "execution_count": null,
   "id": "stable-walnut",
   "metadata": {
    "scrolled": true,
    "vscode": {
     "languageId": "r"
    }
   },
   "outputs": [],
   "source": [
    "seurObj_SP3 <- RunSPCA(seurObj_SP3, assay='RNA', graph='wsnn')"
   ]
  },
  {
   "cell_type": "code",
   "execution_count": null,
   "id": "favorite-basket",
   "metadata": {
    "vscode": {
     "languageId": "r"
    }
   },
   "outputs": [],
   "source": [
    "library(slingshot)\n",
    "library(SingleCellExperiment)"
   ]
  },
  {
   "cell_type": "code",
   "execution_count": null,
   "id": "broken-welsh",
   "metadata": {
    "vscode": {
     "languageId": "r"
    }
   },
   "outputs": [],
   "source": [
    "SCE_SP <- seurObj_SP3 %>% as.SingleCellExperiment"
   ]
  },
  {
   "cell_type": "code",
   "execution_count": null,
   "id": "suffering-might",
   "metadata": {
    "vscode": {
     "languageId": "r"
    }
   },
   "outputs": [],
   "source": [
    "reducedDim(SCE_SP, type='UMAP_WNN_SP') <- seurObj_SP3@reductions$umap_wnn_SP3@cell.embeddings"
   ]
  },
  {
   "cell_type": "code",
   "execution_count": null,
   "id": "revised-investigator",
   "metadata": {
    "vscode": {
     "languageId": "r"
    }
   },
   "outputs": [],
   "source": [
    "lineages <- getLineages(reducedDims(SCE_SP)$UMAP_WNN_SP, dist.method='mnn', clusterLabels=seurObj_SP3$anno_new2, start.clus='DP_pos_sel', end.clus=c('SP_CD4_mature', 'SP_CD8_mature'))"
   ]
  },
  {
   "cell_type": "code",
   "execution_count": null,
   "id": "measured-symphony",
   "metadata": {
    "vscode": {
     "languageId": "r"
    }
   },
   "outputs": [],
   "source": [
    "ptm <- proc.time()\n",
    "\n",
    "curves <-getCurves(lineages, extend=\"n\", stretch=0)\n",
    "\n",
    "proc.time() - ptm"
   ]
  },
  {
   "cell_type": "code",
   "execution_count": null,
   "id": "obvious-beach",
   "metadata": {
    "vscode": {
     "languageId": "r"
    }
   },
   "outputs": [],
   "source": [
    "clusters_SP <- 1:length(table(as.character(seurObj_SP3$anno_new2)))\n",
    "names(clusters_SP) <- names(table(as.character(seurObj_SP3$anno_new2)))"
   ]
  },
  {
   "cell_type": "code",
   "execution_count": null,
   "id": "outdoor-hudson",
   "metadata": {
    "vscode": {
     "languageId": "r"
    }
   },
   "outputs": [],
   "source": [
    "options(repr.plot.width=8, repr.plot.height=8)\n",
    "\n",
    "plot(reducedDims(SCE_SP)$UMAP_WNN_SP, col = pal12[as.numeric(clusters_SP[as.character(seurObj_SP3$anno_new2)])],\n",
    "    pch = 16, cex=0.5, main=\"Start + Ends - mnn\")\n",
    "lines(SlingshotDataSet(lineages), col = 'black', show.constraints = TRUE)\n",
    "lines(SlingshotDataSet(curves), col = 'blue', show.constraints = TRUE)"
   ]
  },
  {
   "cell_type": "code",
   "execution_count": null,
   "id": "higher-klein",
   "metadata": {
    "vscode": {
     "languageId": "r"
    }
   },
   "outputs": [],
   "source": [
    "slingLineages(curves)"
   ]
  },
  {
   "cell_type": "code",
   "execution_count": null,
   "id": "suburban-lewis",
   "metadata": {
    "vscode": {
     "languageId": "r"
    }
   },
   "outputs": [],
   "source": [
    "pseudotime_SP.df <- data.frame(slingPseudotime(curves))\n",
    "pseudotime_SP.df$anno <- seurObj_SP3$anno_new2[rownames(pseudotime_SP.df)]\n",
    "\n",
    "pseudotime_SP.df %>% head"
   ]
  },
  {
   "cell_type": "code",
   "execution_count": null,
   "id": "protected-roulette",
   "metadata": {
    "vscode": {
     "languageId": "r"
    }
   },
   "outputs": [],
   "source": [
    "options(repr.plot.width=10, repr.plot.height=6)\n",
    "\n",
    "ggplot(pseudotime_SP.df, aes(x = Lineage1, y = anno, colour = anno)) +\n",
    "    geom_jitter(size=1) +\n",
    "    theme_classic() +\n",
    "    xlab(\"Pseudotime\") + ylab(\"Celltype\") +\n",
    "    scale_color_manual(values = pal12)+\n",
    "    ggtitle(paste(\"CD4 lineage cells ordered by pseudotime\"))&NoLegend()\n",
    "\n",
    "ggplot(pseudotime_SP.df, aes(x = Lineage2, y = anno, colour = anno)) +\n",
    "    geom_jitter(size=1) +\n",
    "    theme_classic() +\n",
    "    xlab(\"Pseudotime\") + ylab(\"Celltype\") +\n",
    "    scale_color_manual(values = pal12)+\n",
    "    ggtitle(paste(\"CD8 lineage cells ordered by pseudotime\"))&NoLegend()    "
   ]
  },
  {
   "cell_type": "markdown",
   "id": "progressive-connection",
   "metadata": {},
   "source": [
    "Pseudotimes constructed on the newly generated UMAP do not make much sense due to the kincks in the curves. Instead we calculate pseudotimes based on the previous UMAP after removal of DP(Q) and unknown cells."
   ]
  },
  {
   "cell_type": "code",
   "execution_count": null,
   "id": "crazy-harrison",
   "metadata": {
    "vscode": {
     "languageId": "r"
    }
   },
   "outputs": [],
   "source": [
    "lineages2 <- getLineages(reducedDims(SCE_SP)$UMAP_WNN_SP2, dist.method='mnn', clusterLabels=seurObj_SP3$anno_new2, start.clus='DP_pos_sel', end.clus=c('SP_CD4_mature', 'SP_CD8_mature'))"
   ]
  },
  {
   "cell_type": "code",
   "execution_count": null,
   "id": "fatty-ethernet",
   "metadata": {
    "vscode": {
     "languageId": "r"
    }
   },
   "outputs": [],
   "source": [
    "ptm <- proc.time()\n",
    "\n",
    "curves2 <-getCurves(lineages2, extend=\"n\", stretch=0)\n",
    "\n",
    "proc.time() - ptm"
   ]
  },
  {
   "cell_type": "code",
   "execution_count": null,
   "id": "mathematical-ontario",
   "metadata": {
    "vscode": {
     "languageId": "r"
    }
   },
   "outputs": [],
   "source": [
    "options(repr.plot.width=8, repr.plot.height=8)\n",
    "\n",
    "plot(reducedDims(SCE_SP)$UMAP_WNN_SP2, col = pal12[as.numeric(clusters_SP[as.character(seurObj_SP3$anno_new2)])],\n",
    "    pch = 16, cex=0.5, main=\"Start + Ends - mnn\")\n",
    "lines(SlingshotDataSet(lineages2), col = 'black', show.constraints = TRUE)\n",
    "lines(SlingshotDataSet(curves2), col = 'blue', show.constraints = TRUE)"
   ]
  },
  {
   "cell_type": "code",
   "execution_count": null,
   "id": "loose-study",
   "metadata": {
    "scrolled": true,
    "vscode": {
     "languageId": "r"
    }
   },
   "outputs": [],
   "source": [
    "slingLineages(curves)"
   ]
  },
  {
   "cell_type": "code",
   "execution_count": null,
   "id": "identical-stanford",
   "metadata": {
    "vscode": {
     "languageId": "r"
    }
   },
   "outputs": [],
   "source": [
    "pseudotime_SP.df2 <- data.frame(slingPseudotime(curves2))\n",
    "pseudotime_SP.df2$anno <- seurObj_SP3$anno_new2[rownames(pseudotime_SP.df)]\n",
    "\n",
    "pseudotime_SP.df2 %>% head"
   ]
  },
  {
   "cell_type": "code",
   "execution_count": null,
   "id": "patient-filter",
   "metadata": {
    "vscode": {
     "languageId": "r"
    }
   },
   "outputs": [],
   "source": [
    "options(repr.plot.width=10, repr.plot.height=6)\n",
    "\n",
    "ggplot(pseudotime_SP.df2, aes(x = Lineage1, y = anno, colour = anno)) +\n",
    "    geom_jitter(size=1) +\n",
    "    theme_classic() +\n",
    "    xlab(\"Pseudotime\") + ylab(\"Celltype\") +\n",
    "    scale_color_manual(values = pal12)+\n",
    "    ggtitle(paste(\"CD4 lineage cells ordered by pseudotime\"))&NoLegend()\n",
    "\n",
    "ggplot(pseudotime_SP.df2, aes(x = Lineage2, y = anno, colour = anno)) +\n",
    "    geom_jitter(size=1) +\n",
    "    theme_classic() +\n",
    "    xlab(\"Pseudotime\") + ylab(\"Celltype\") +\n",
    "    scale_color_manual(values = pal12)+\n",
    "    ggtitle(paste(\"CD8 lineage cells ordered by pseudotime\"))&NoLegend()    "
   ]
  },
  {
   "cell_type": "markdown",
   "id": "military-valentine",
   "metadata": {},
   "source": [
    "Both lineage pseudotimes contain some immature cells of the other lineage."
   ]
  },
  {
   "cell_type": "code",
   "execution_count": null,
   "id": "closed-jungle",
   "metadata": {
    "vscode": {
     "languageId": "r"
    }
   },
   "outputs": [],
   "source": [
    "seurObj_SP2$spt_CD4 <- NA\n",
    "seurObj_SP2$spt_CD8 <- NA\n",
    "seurObj_SP2@meta.data[rownames(pseudotime_SP.df2),'spt_CD4'] <- pseudotime_SP.df2$Lineage1\n",
    "seurObj_SP2@meta.data[rownames(pseudotime_SP.df2),'spt_CD8'] <- pseudotime_SP.df2$Lineage2"
   ]
  },
  {
   "cell_type": "code",
   "execution_count": null,
   "id": "funded-activation",
   "metadata": {
    "vscode": {
     "languageId": "r"
    }
   },
   "outputs": [],
   "source": [
    "seurObj_SP3$spt_CD4 <- NA\n",
    "seurObj_SP3$spt_CD8 <- NA\n",
    "seurObj_SP3@meta.data[rownames(pseudotime_SP.df2),'spt_CD4'] <- pseudotime_SP.df2$Lineage1\n",
    "seurObj_SP3@meta.data[rownames(pseudotime_SP.df2),'spt_CD8'] <- pseudotime_SP.df2$Lineage2"
   ]
  },
  {
   "cell_type": "code",
   "execution_count": null,
   "id": "prepared-grass",
   "metadata": {
    "vscode": {
     "languageId": "r"
    }
   },
   "outputs": [],
   "source": [
    "options(repr.plot.width=13, repr.plot.height=6)\n",
    "\n",
    "FeaturePlot(seurObj_SP2, features = c('spt_CD4', 'spt_CD8'), reduction = 'umap_wnn_SP2')\n",
    "FeaturePlot(seurObj_SP3, features = c('spt_CD4', 'spt_CD8'), reduction = 'umap_wnn_SP2')\n",
    "FeaturePlot(seurObj_SP3, features = c('spt_CD4', 'spt_CD8'), reduction = 'umap_wnn_SP3')"
   ]
  },
  {
   "cell_type": "markdown",
   "id": "isolated-amplifier",
   "metadata": {},
   "source": [
    "We remove these ambiguous cells that are associated with the pseudotime of the opposite lineage."
   ]
  },
  {
   "cell_type": "code",
   "execution_count": null,
   "id": "pointed-energy",
   "metadata": {
    "vscode": {
     "languageId": "r"
    }
   },
   "outputs": [],
   "source": [
    "cells_ambig <- c(rownames(subset(seurObj_SP2@meta.data, anno_new2 %in% c(\"SP_CD8_immature\", \"SP_CD8_semimature\", \"SP_CD8_mature\") & ! is.na(seurObj_SP2$spt_CD4))),\n",
    "                 rownames(subset(seurObj_SP2@meta.data, anno_new2 %in% c(\"SP_CD4_immature\", \"SP_CD4_semimature\", \"SP_CD4_mature\") & ! is.na(seurObj_SP2$spt_CD8))))"
   ]
  },
  {
   "cell_type": "code",
   "execution_count": null,
   "id": "ordinary-timothy",
   "metadata": {
    "vscode": {
     "languageId": "r"
    }
   },
   "outputs": [],
   "source": [
    "seurObj_SP2@meta.data[cells_ambig, 'anno_new2'] <- 'unknown'"
   ]
  },
  {
   "cell_type": "code",
   "execution_count": null,
   "id": "proved-seeking",
   "metadata": {
    "vscode": {
     "languageId": "r"
    }
   },
   "outputs": [],
   "source": [
    "options(repr.plot.width=10, repr.plot.height=6)\n",
    "\n",
    "ggplot(seurObj_SP2@meta.data, aes(x = spt_CD4, y = anno_new2, colour = anno_new2)) +\n",
    "    geom_jitter(size=1) +\n",
    "    theme_classic() +\n",
    "    xlab(\"Pseudotime\") + ylab(\"Celltype\") +\n",
    "    scale_color_manual(values = pal12)+\n",
    "    ggtitle(paste(\"CD4 lineage cells ordered by pseudotime\"))&NoLegend()\n",
    "\n",
    "ggplot(seurObj_SP2@meta.data, aes(x = spt_CD8, y = anno_new2, colour = anno_new2)) +\n",
    "    geom_jitter(size=1) +\n",
    "    theme_classic() +\n",
    "    xlab(\"Pseudotime\") + ylab(\"Celltype\") +\n",
    "    scale_color_manual(values = pal12)+\n",
    "    ggtitle(paste(\"CD8 lineage cells ordered by pseudotime\"))&NoLegend()    "
   ]
  },
  {
   "cell_type": "code",
   "execution_count": null,
   "id": "constitutional-earth",
   "metadata": {
    "vscode": {
     "languageId": "r"
    }
   },
   "outputs": [],
   "source": [
    "options(repr.plot.width=10, repr.plot.height=6)\n",
    "\n",
    "ggplot(seurObj_SP2@meta.data, aes(x = spt_CD4, y = anno_CITE_old, colour = anno_CITE_old)) +\n",
    "    geom_jitter(size=1) +\n",
    "    theme_classic() +\n",
    "    xlab(\"Pseudotime\") + ylab(\"Celltype\") +\n",
    "    scale_color_manual(values = pal36)+\n",
    "    ggtitle(paste(\"CD4 lineage cells ordered by pseudotime\"))&NoLegend()\n",
    "\n",
    "ggplot(seurObj_SP2@meta.data, aes(x = spt_CD8, y = anno_CITE_old, colour = anno_CITE_old)) +\n",
    "    geom_jitter(size=1) +\n",
    "    theme_classic() +\n",
    "    xlab(\"Pseudotime\") + ylab(\"Celltype\") +\n",
    "    scale_color_manual(values = pal36)+\n",
    "    ggtitle(paste(\"CD8 lineage cells ordered by pseudotime\"))&NoLegend()    "
   ]
  },
  {
   "cell_type": "markdown",
   "id": "active-medline",
   "metadata": {},
   "source": [
    "We can transfer the SP annotation to the full object."
   ]
  },
  {
   "cell_type": "code",
   "execution_count": null,
   "id": "disabled-correction",
   "metadata": {
    "vscode": {
     "languageId": "r"
    }
   },
   "outputs": [],
   "source": [
    "seurObj$anno_new[colnames(seurObj) %in% colnames(seurObj_SP2)] <- seurObj_SP2$anno_new2"
   ]
  },
  {
   "cell_type": "code",
   "execution_count": null,
   "id": "pressed-geometry",
   "metadata": {
    "scrolled": true,
    "vscode": {
     "languageId": "r"
    }
   },
   "outputs": [],
   "source": [
    "table(seurObj$anno_new)"
   ]
  },
  {
   "cell_type": "code",
   "execution_count": null,
   "id": "automatic-marathon",
   "metadata": {
    "vscode": {
     "languageId": "r"
    }
   },
   "outputs": [],
   "source": [
    "options(repr.plot.width=15, repr.plot.height=10)\n",
    "\n",
    "\n",
    "DimPlot(seurObj, reduction = 'umap_wnn_mnn', group.by = 'anno_new', cols=(pal24), shuffle=T, raster=F)"
   ]
  },
  {
   "cell_type": "markdown",
   "id": "offshore-pressing",
   "metadata": {},
   "source": [
    "#### Tregs\n",
    "\n",
    "The Treg cluster clearly stands out and was alredy assigned previously. We reintegrate these cells and determine the subtypes."
   ]
  },
  {
   "cell_type": "code",
   "execution_count": null,
   "id": "powered-creation",
   "metadata": {
    "scrolled": true,
    "vscode": {
     "languageId": "r"
    }
   },
   "outputs": [],
   "source": [
    "seurObj_Treg <- seurObj_Treg  %>%\n",
    "            FindVariableFeatures(assay='ADTdsb') %>%\n",
    "            ScaleData(assay = 'ADTdsb') %>%\n",
    "            RunPCA(assay = 'ADTdsb', npcs = 50, reduction.name = 'pca_adt_Treg')"
   ]
  },
  {
   "cell_type": "code",
   "execution_count": null,
   "id": "opening-vertical",
   "metadata": {
    "scrolled": true,
    "vscode": {
     "languageId": "r"
    }
   },
   "outputs": [],
   "source": [
    "MNN <- reducedMNN(seurObj_Treg@reductions$pca_adt_Treg@cell.embeddings,\n",
    "                 batch=seurObj_Treg$sample,\n",
    "                 BPPARAM=MulticoreParam(workers=12), #parallelisation\n",
    "                 BNPARAM=HnswParam())\n",
    "seurObj_Treg[[\"mnn_adt_Treg\"]] <- CreateDimReducObject(embeddings=MNN$corrected,\n",
    "                                        assay=\"ADTdsb\",\n",
    "                                        key=\"mnn_\")"
   ]
  },
  {
   "cell_type": "code",
   "execution_count": null,
   "id": "affected-function",
   "metadata": {
    "vscode": {
     "languageId": "r"
    }
   },
   "outputs": [],
   "source": [
    "seurObj_Treg <- seurObj_Treg  %>%\n",
    "            FindVariableFeatures(assay='RNA') %>%\n",
    "            ScaleData(assay = 'RNA') %>%\n",
    "            RunPCA(assay = 'RNA', npcs = 50, reduction.name = 'pca_rna_Treg')"
   ]
  },
  {
   "cell_type": "code",
   "execution_count": null,
   "id": "interior-exposure",
   "metadata": {
    "scrolled": true,
    "vscode": {
     "languageId": "r"
    }
   },
   "outputs": [],
   "source": [
    "MNN <- reducedMNN(seurObj_Treg@reductions$pca_rna_Treg@cell.embeddings,\n",
    "                 batch=seurObj_Treg$sample,\n",
    "                 BPPARAM=MulticoreParam(workers=12), #parallelisation\n",
    "                 BNPARAM=HnswParam())\n",
    "seurObj_Treg[[\"mnn_rna_Treg\"]] <- CreateDimReducObject(embeddings=MNN$corrected,\n",
    "                                        assay=\"RNA\",\n",
    "                                        key=\"mnn_\")"
   ]
  },
  {
   "cell_type": "code",
   "execution_count": null,
   "id": "critical-brooklyn",
   "metadata": {
    "vscode": {
     "languageId": "r"
    }
   },
   "outputs": [],
   "source": [
    "dim_adt <- PCcutoff(seurObj_Treg@reductions$pca_adt_Treg, 0.1)\n",
    "dim_adt\n",
    "\n",
    "dim_rna <- PCcutoff(seurObj_Treg@reductions$pca_rna_Treg, 0.1)\n",
    "dim_rna\n",
    "\n",
    "seurObj_Treg <- FindMultiModalNeighbors(seurObj_Treg,\n",
    "                                  reduction.list=list('mnn_adt_Treg', 'mnn_rna_Treg'),\n",
    "                                   dims.list=list(1:dim_adt,1:dim_rna))"
   ]
  },
  {
   "cell_type": "code",
   "execution_count": null,
   "id": "skilled-deputy",
   "metadata": {
    "vscode": {
     "languageId": "r"
    }
   },
   "outputs": [],
   "source": [
    "seurObj_Treg <- RunUMAP(seurObj_Treg, nn.name = \"weighted.nn\", reduction.name = \"umap_wnn_Treg\",\n",
    "                        reduction.key = \"wnnUMAP_\")"
   ]
  },
  {
   "cell_type": "code",
   "execution_count": null,
   "id": "limiting-departure",
   "metadata": {
    "vscode": {
     "languageId": "r"
    }
   },
   "outputs": [],
   "source": [
    "seurObj_Treg <- RunSPCA(seurObj_Treg, assay='RNA', graph='wsnn')"
   ]
  },
  {
   "cell_type": "code",
   "execution_count": null,
   "id": "tropical-mapping",
   "metadata": {
    "vscode": {
     "languageId": "r"
    }
   },
   "outputs": [],
   "source": [
    "ptm <- proc.time()\n",
    "\n",
    "seurObj_Treg <- FindNeighbors(seurObj_Treg, graph.name = 'wsnn',reduction= 'spca', dims = 1:max(c(dim_adt, dim_rna)), assay='ADTdsb')\n",
    "seurObj_Treg <- FindClusters(seurObj_Treg, graph.name = 'wsnn', algorithm = 4, resolution = 1, random.seed = 123, method = 'igraph', cluster.name='clusters_Treg')\n",
    "\n",
    "proc.time() - ptm"
   ]
  },
  {
   "cell_type": "code",
   "execution_count": null,
   "id": "cardiac-anxiety",
   "metadata": {
    "scrolled": true,
    "vscode": {
     "languageId": "r"
    }
   },
   "outputs": [],
   "source": [
    "seurObj_Treg <- RunUMAP(seurObj_Treg, assay = 'ADTdsb', dims = 1:dim_adt, reduction = 'mnn_adt_Treg',\n",
    "                        reduction.name = \"umap_adt_Treg\", reduction.key = \"wnnUMAP_\")"
   ]
  },
  {
   "cell_type": "code",
   "execution_count": null,
   "id": "regular-neighborhood",
   "metadata": {
    "scrolled": true,
    "vscode": {
     "languageId": "r"
    }
   },
   "outputs": [],
   "source": [
    "ptm <- proc.time()\n",
    "\n",
    "seurObj_Treg <- FindNeighbors(seurObj_Treg, reduction= 'mnn_adt_Treg', dims=1:dim_adt, assay='ADTdsb')\n",
    "seurObj_Treg <- FindClusters(seurObj_Treg, algorithm = 4, resolution = 1.2, random.seed = 123,\n",
    "                             method = 'igraph', cluster.name='clusters_Treg_adt')\n",
    "\n",
    "proc.time() - ptm"
   ]
  },
  {
   "cell_type": "code",
   "execution_count": null,
   "id": "pregnant-quantum",
   "metadata": {
    "vscode": {
     "languageId": "r"
    }
   },
   "outputs": [],
   "source": [
    "options(repr.plot.width=12, repr.plot.height=7)\n",
    "\n",
    "DimPlot(seurObj_Treg, reduction = 'umap_adt_Treg', group.by = 'anno_CITE_old', cols=pal24)\n",
    "\n",
    "options(repr.plot.width=8, repr.plot.height=7)\n",
    "\n",
    "DimPlot(seurObj_Treg, reduction = 'umap_adt_Treg', group.by = 'clusters_Treg_adt', cols=pal12)\n"
   ]
  },
  {
   "cell_type": "code",
   "execution_count": null,
   "id": "insured-boxing",
   "metadata": {
    "vscode": {
     "languageId": "r"
    }
   },
   "outputs": [],
   "source": [
    "options(repr.plot.width=12, repr.plot.height=7)\n",
    "\n",
    "DimPlot(seurObj_Treg, reduction = 'umap_wnn_Treg', group.by = 'anno_CITE_old', cols=pal24)\n",
    "\n",
    "options(repr.plot.width=8, repr.plot.height=7)\n",
    "\n",
    "DimPlot(seurObj_Treg, reduction = 'umap_wnn_Treg', group.by = 'clusters_Treg_adt', cols=pal12)\n",
    "\n",
    "DimPlot(seurObj_Treg, reduction = 'umap_wnn_Treg', group.by = 'clusters_Treg', cols=c(pal12,'grey30'), label=T)\n"
   ]
  },
  {
   "cell_type": "markdown",
   "id": "unavailable-eating",
   "metadata": {},
   "source": [
    "Recirculating Tregs clearly cluster separately, for the remaining subsets the identity is not so clear."
   ]
  },
  {
   "cell_type": "code",
   "execution_count": null,
   "id": "faced-emperor",
   "metadata": {
    "vscode": {
     "languageId": "r"
    }
   },
   "outputs": [],
   "source": [
    "markers_Treg <- c('CD137', 'CD146', 'CD18','CD183','CD194', 'CD195', 'CD1a', 'CD1c', 'CD2', 'CD224', 'CD226', 'CD25', 'CD278', 'CD279', 'CD29', 'CD3', 'CD31', 'CD352', 'CD38', 'CD39', 'CD45RA', 'CD47', 'CD48', 'CD49a', 'CD49d', 'CD49f', 'CD54', 'CD62L', 'CD7', 'CD71', 'CD73', 'CD8', 'CD4', 'CD95', 'Integrin-B7', 'TIGIT', 'CD357', 'CD122', 'CD45RO', 'CD196','CD146', 'CD134', 'CD103', 'CD152','TCRab', 'CD27')\n",
    "markers_Treg_rna <- c('FOXP3', 'CD8A', 'CD8B', 'CD40LG', 'NR4A1', 'ITM2A', 'KLF2', 'FOXO1', 'RAG2')"
   ]
  },
  {
   "cell_type": "code",
   "execution_count": null,
   "id": "extensive-devil",
   "metadata": {
    "vscode": {
     "languageId": "r"
    }
   },
   "outputs": [],
   "source": [
    "options(repr.plot.width=16, repr.plot.height=30)\n",
    "\n",
    "RidgePlot(seurObj_Treg, group.by = 'clusters_Treg_adt', features = sort(markers_Treg), ncol=6, cols=c(pal12,'grey30'))"
   ]
  },
  {
   "cell_type": "code",
   "execution_count": null,
   "id": "valued-poultry",
   "metadata": {
    "vscode": {
     "languageId": "r"
    }
   },
   "outputs": [],
   "source": [
    "options(repr.plot.width=16, repr.plot.height=8)\n",
    "\n",
    "VlnPlot(seurObj_Treg, assay = 'RNA', group.by = 'clusters_Treg_adt', features = sort(markers_Treg_rna), ncol=5, cols=c(pal12,'grey30'), pt.size = 0)"
   ]
  },
  {
   "cell_type": "code",
   "execution_count": null,
   "id": "spoken-conclusion",
   "metadata": {
    "vscode": {
     "languageId": "r"
    }
   },
   "outputs": [],
   "source": [
    "table(seurObj_Treg$anno_CITE_old, seurObj_Treg$clusters_Treg_adt)"
   ]
  },
  {
   "cell_type": "code",
   "execution_count": null,
   "id": "colonial-laser",
   "metadata": {
    "vscode": {
     "languageId": "r"
    }
   },
   "outputs": [],
   "source": [
    "options(repr.plot.width=16, repr.plot.height=8)\n",
    "FeatureScatter(seurObj_Treg, feature1 = 'CD4', feature2 = 'CD8', cols=pal24, group.by = 'anno_CITE_old')+facet_wrap(~seurObj_Treg$clusters_Treg_adt, ncol=4)+theme_bw()\n",
    "FeatureScatter(seurObj_Treg, feature1 = 'CD45RA', feature2 = 'CD1a', cols=pal24, group.by = 'anno_CITE_old')+facet_wrap(~seurObj_Treg$clusters_Treg_adt, ncol=4)+theme_bw()\n",
    "FeatureScatter(seurObj_Treg, feature1 = 'CD45RO', feature2 = 'CD1a', cols=pal24, group.by = 'anno_CITE_old')+facet_wrap(~seurObj_Treg$clusters_Treg_adt, ncol=4)+theme_bw()\n",
    "FeatureScatter(seurObj_Treg, feature1 = 'CD27', feature2 = 'CD101', cols=pal24, group.by = 'anno_CITE_old')+facet_wrap(~seurObj_Treg$clusters_Treg_adt, ncol=4)+theme_bw()\n",
    "FeatureScatter(seurObj_Treg, feature1 = 'CD25', feature2 = 'CD279', cols=pal24, group.by = 'anno_CITE_old')+facet_wrap(~seurObj_Treg$clusters_Treg_adt, ncol=4)+theme_bw()\n",
    "FeatureScatter(seurObj_Treg, feature1 = 'CD39', feature2 = 'CD224', cols=pal24, group.by = 'anno_CITE_old')+facet_wrap(~seurObj_Treg$clusters_Treg_adt, ncol=4)+theme_bw()\n",
    "FeatureScatter(seurObj_Treg, feature1 = 'CD4', feature2 = 'CD45RA', cols=pal24, group.by = 'anno_CITE_old')+facet_wrap(~seurObj_Treg$clusters_Treg_adt, ncol=4)+theme_bw()\n"
   ]
  },
  {
   "cell_type": "markdown",
   "id": "dirty-phase",
   "metadata": {},
   "source": [
    "Based on cluster analysis and comparison with previous marker finding efforts we can annotate several stages/subsets:"
   ]
  },
  {
   "cell_type": "code",
   "execution_count": null,
   "id": "wound-spare",
   "metadata": {
    "vscode": {
     "languageId": "r"
    }
   },
   "outputs": [],
   "source": [
    "seurObj_Treg$anno_new4 <- 'unknown'\n",
    "seurObj_Treg$anno_new4 <- ifelse(colnames(seurObj_Treg) %in% WhichCells(seurObj_Treg, expression = CD45RA <20 & CD4 > 5 & CD8 <10, idents=c('3', '5', '6', '7')), \"SP_Treg_immature\", seurObj_Treg$anno_new4)\n",
    "seurObj_Treg$anno_new4 <- ifelse(colnames(seurObj_Treg) %in% WhichCells(seurObj_Treg, expression = CD1a <6 & CD4 > 5 & CD8 <10, idents=c('1','2', '4', '8')), \"SP_Treg_mature\", seurObj_Treg$anno_new4)\n",
    "seurObj_Treg$anno_new4 <- ifelse(colnames(seurObj_Treg) %in% WhichCells(seurObj_Treg, idents=c('9')), \"SP_Treg_CD8\", seurObj_Treg$anno_new4)\n",
    "seurObj_Treg$anno_new4 <- ifelse(colnames(seurObj_Treg) %in% WhichCells(seurObj_Treg, expression = CD1a <6 & CD8 <10 & CD279 > 15 & CD224 > 25, idents='1'), \"SP_Treg_PD1\", seurObj_Treg$anno_new4)\n",
    "seurObj_Treg$anno_new4 <- ifelse(colnames(seurObj_Treg) %in% WhichCells(seurObj_Treg, idents=c('10')), \"SP_Treg_recirc\", seurObj_Treg$anno_new4)"
   ]
  },
  {
   "cell_type": "code",
   "execution_count": null,
   "id": "regional-filter",
   "metadata": {
    "vscode": {
     "languageId": "r"
    }
   },
   "outputs": [],
   "source": [
    "options(repr.plot.width=16, repr.plot.height=8)\n",
    "FeatureScatter(seurObj_Treg, feature1 = 'CD4', feature2 = 'CD8', cols=pal12, group.by = 'anno_new4')+facet_wrap(~seurObj_Treg$clusters_Treg_adt, ncol=4)+theme_bw()\n",
    "FeatureScatter(seurObj_Treg, feature1 = 'CD45RA', feature2 = 'CD1a', cols=pal12, group.by = 'anno_new4')+facet_wrap(~seurObj_Treg$clusters_Treg_adt, ncol=4)+theme_bw()\n",
    "FeatureScatter(seurObj_Treg, feature1 = 'CD45RO', feature2 = 'CD1a', cols=pal12, group.by = 'anno_new4')+facet_wrap(~seurObj_Treg$clusters_Treg_adt, ncol=4)+theme_bw()\n",
    "FeatureScatter(seurObj_Treg, feature1 = 'CD27', feature2 = 'CD101', cols=pal12, group.by = 'anno_new4')+facet_wrap(~seurObj_Treg$clusters_Treg_adt, ncol=4)+theme_bw()\n",
    "FeatureScatter(seurObj_Treg, feature1 = 'CD25', feature2 = 'CD134', cols=pal12, group.by = 'anno_new4')+facet_wrap(~seurObj_Treg$clusters_Treg_adt, ncol=4)+theme_bw()\n",
    "FeatureScatter(seurObj_Treg, feature1 = 'CD4', feature2 = 'CD45RA', cols=pal12, group.by = 'anno_new4')+facet_wrap(~seurObj_Treg$clusters_Treg_adt, ncol=4)+theme_bw()\n"
   ]
  },
  {
   "cell_type": "code",
   "execution_count": null,
   "id": "directed-dressing",
   "metadata": {
    "vscode": {
     "languageId": "r"
    }
   },
   "outputs": [],
   "source": [
    "\n",
    "options(repr.plot.width=9, repr.plot.height=7)\n",
    "\n",
    "DimPlot(seurObj_Treg, reduction = 'umap_adt_Treg', group.by = 'anno_new4', cols=pal12)\n",
    "\n",
    "DimPlot(seurObj_Treg, reduction = 'umap_wnn_Treg', group.by = 'anno_new4', cols=pal12)\n",
    "\n",
    "DimPlot(seurObj_Treg, reduction = 'umap_wnn_Treg', group.by = 'anno_CITE_old', cols=pal24)\n"
   ]
  },
  {
   "cell_type": "code",
   "execution_count": null,
   "id": "horizontal-things",
   "metadata": {
    "vscode": {
     "languageId": "r"
    }
   },
   "outputs": [],
   "source": [
    "options(repr.plot.width=12, repr.plot.height=8)\n",
    "\n",
    "df <- count(seurObj_Treg@meta.data, barcode, anno_CITE_old, anno_new4) %>%\n",
    "        mutate(id = row_number())%>%\n",
    "        pivot_longer(cols=2:3, names_to = 'version', values_to = 'celltype')\n",
    "\n",
    "df$version <- factor(df$version, level=c(\"anno_new4\", \"anno_CITE_old\"))\n",
    "\n",
    "ggplot(df, aes(x = version, y = n, \n",
    "                          stratum = celltype, fill = celltype,\n",
    "                          alluvium = id)) +\n",
    "  geom_stratum(alpha = .5) +\n",
    "  geom_flow()+\n",
    "  theme_minimal()+\n",
    "  scale_fill_manual(values = c(pal24))"
   ]
  },
  {
   "cell_type": "code",
   "execution_count": null,
   "id": "younger-charger",
   "metadata": {
    "vscode": {
     "languageId": "r"
    }
   },
   "outputs": [],
   "source": [
    "seurObj_SP$anno_new[colnames(seurObj_SP) %in% colnames(seurObj_Treg)] <- seurObj_Treg$anno_new4"
   ]
  },
  {
   "cell_type": "code",
   "execution_count": null,
   "id": "abandoned-spencer",
   "metadata": {
    "vscode": {
     "languageId": "r"
    }
   },
   "outputs": [],
   "source": [
    "options(repr.plot.width=9, repr.plot.height=7)\n",
    "\n",
    "\n",
    "DimPlot(seurObj_SP, reduction = 'umap_wnn_SP', group.by = 'anno_new', cols=sample(pal24))\n"
   ]
  },
  {
   "cell_type": "code",
   "execution_count": null,
   "id": "photographic-knife",
   "metadata": {
    "vscode": {
     "languageId": "r"
    }
   },
   "outputs": [],
   "source": [
    "seurObj$anno_new[colnames(seurObj) %in% colnames(seurObj_Treg)] <- seurObj_Treg$anno_new4"
   ]
  },
  {
   "cell_type": "code",
   "execution_count": null,
   "id": "smaller-welding",
   "metadata": {
    "vscode": {
     "languageId": "r"
    }
   },
   "outputs": [],
   "source": [
    "table(seurObj$anno_new)"
   ]
  },
  {
   "cell_type": "code",
   "execution_count": null,
   "id": "thorough-roads",
   "metadata": {
    "vscode": {
     "languageId": "r"
    }
   },
   "outputs": [],
   "source": [
    "options(repr.plot.width=12, repr.plot.height=8)\n",
    "\n",
    "DimPlot(seurObj, reduction = 'umap_wnn_mnn', group.by = 'anno_new', cols=sample(c(pal24, 'grey50')), shuffle=T, raster=F)"
   ]
  },
  {
   "cell_type": "markdown",
   "id": "skilled-engineering",
   "metadata": {},
   "source": [
    "### B/DCs\n",
    "\n",
    "These two cell types form a clearly distinct cluster. We can annotate DCs and B cells as a whole but due to the low coverage of these cell types we do not attempt to profile any subtypes."
   ]
  },
  {
   "cell_type": "code",
   "execution_count": null,
   "id": "behind-sperm",
   "metadata": {
    "vscode": {
     "languageId": "r"
    }
   },
   "outputs": [],
   "source": [
    "options(repr.plot.width=9, repr.plot.height=8)\n",
    "\n",
    "DimPlot(seurObj, reduction = 'umap_wnn_mnn', group.by = 'clusters_rough', cols=pal12, shuffle=T, raster=F)"
   ]
  },
  {
   "cell_type": "code",
   "execution_count": null,
   "id": "exposed-chicken",
   "metadata": {
    "vscode": {
     "languageId": "r"
    }
   },
   "outputs": [],
   "source": [
    "options(repr.plot.width=9, repr.plot.height=8)\n",
    "FeatureScatter(subset(seurObj, subset=clusters_rough=='12'), feature1 = 'CD19', feature2 = 'CD4', group.by = 'anno_CITE_old')"
   ]
  },
  {
   "cell_type": "code",
   "execution_count": null,
   "id": "eight-yeast",
   "metadata": {
    "vscode": {
     "languageId": "r"
    }
   },
   "outputs": [],
   "source": [
    "Idents(seurObj) <- seurObj$clusters_rough"
   ]
  },
  {
   "cell_type": "code",
   "execution_count": null,
   "id": "amino-trailer",
   "metadata": {
    "vscode": {
     "languageId": "r"
    }
   },
   "outputs": [],
   "source": [
    "seurObj$anno_new <- ifelse(colnames(seurObj) %in% WhichCells(seurObj, expression = CD19 >20, idents=c('12')), \"B\", seurObj$anno_new)\n",
    "seurObj$anno_new <- ifelse(colnames(seurObj) %in% WhichCells(seurObj, expression = CD19 <15, idents=c('12')), \"DC\", seurObj$anno_new)\n"
   ]
  },
  {
   "cell_type": "code",
   "execution_count": null,
   "id": "operational-haven",
   "metadata": {
    "vscode": {
     "languageId": "r"
    }
   },
   "outputs": [],
   "source": [
    "options(repr.plot.width=12, repr.plot.height=8)\n",
    "\n",
    "DimPlot(seurObj, reduction = 'umap_wnn_mnn', group.by = 'anno_new', cols=pal36, shuffle=T, raster=F)"
   ]
  },
  {
   "cell_type": "markdown",
   "id": "dominican-timber",
   "metadata": {},
   "source": [
    "### Innate(-like)\n",
    "\n",
    "The final cluster contains NK(T) cells, gd T cells and CD8aa IELs."
   ]
  },
  {
   "cell_type": "code",
   "execution_count": null,
   "id": "local-interstate",
   "metadata": {
    "vscode": {
     "languageId": "r"
    }
   },
   "outputs": [],
   "source": [
    "seurObj_innate <- subset(seurObj, subset=clusters_rough %in% c('10'))"
   ]
  },
  {
   "cell_type": "code",
   "execution_count": null,
   "id": "likely-plain",
   "metadata": {
    "scrolled": true,
    "vscode": {
     "languageId": "r"
    }
   },
   "outputs": [],
   "source": [
    "seurObj_innate <- seurObj_innate  %>%\n",
    "            FindVariableFeatures(assay='ADTdsb') %>%\n",
    "            ScaleData(assay = 'ADTdsb') %>%\n",
    "            RunPCA(assay = 'ADTdsb', npcs = 50, reduction.name = 'pca_adt_innate')"
   ]
  },
  {
   "cell_type": "code",
   "execution_count": null,
   "id": "civic-wiring",
   "metadata": {
    "scrolled": true,
    "vscode": {
     "languageId": "r"
    }
   },
   "outputs": [],
   "source": [
    "MNN <- reducedMNN(seurObj_innate@reductions$pca_adt_innate@cell.embeddings,\n",
    "                 batch=seurObj_innate$sample,\n",
    "                 BPPARAM=MulticoreParam(workers=12), #parallelisation\n",
    "                 BNPARAM=HnswParam())\n",
    "seurObj_innate[[\"mnn_adt_innate\"]] <- CreateDimReducObject(embeddings=MNN$corrected,\n",
    "                                        assay=\"ADTdsb\",\n",
    "                                        key=\"mnn_\")"
   ]
  },
  {
   "cell_type": "code",
   "execution_count": null,
   "id": "immediate-detective",
   "metadata": {
    "scrolled": true,
    "vscode": {
     "languageId": "r"
    }
   },
   "outputs": [],
   "source": [
    "seurObj_innate <- seurObj_innate  %>%\n",
    "            FindVariableFeatures(assay='RNA') %>%\n",
    "            ScaleData(assay = 'RNA') %>%\n",
    "            RunPCA(assay = 'RNA', npcs = 50, reduction.name = 'pca_rna_innate')"
   ]
  },
  {
   "cell_type": "code",
   "execution_count": null,
   "id": "spare-munich",
   "metadata": {
    "scrolled": true,
    "vscode": {
     "languageId": "r"
    }
   },
   "outputs": [],
   "source": [
    "MNN <- reducedMNN(seurObj_innate@reductions$pca_rna_innate@cell.embeddings,\n",
    "                 batch=seurObj_innate$sample,\n",
    "                 BPPARAM=MulticoreParam(workers=12), #parallelisation\n",
    "                 BNPARAM=HnswParam())\n",
    "seurObj_innate[[\"mnn_rna_innate\"]] <- CreateDimReducObject(embeddings=MNN$corrected,\n",
    "                                        assay=\"RNA\",\n",
    "                                        key=\"mnn_\")"
   ]
  },
  {
   "cell_type": "code",
   "execution_count": null,
   "id": "lesbian-marble",
   "metadata": {
    "vscode": {
     "languageId": "r"
    }
   },
   "outputs": [],
   "source": [
    "dim_adt <- PCcutoff(seurObj_innate@reductions$pca_adt_innate, 0.1)\n",
    "dim_adt\n",
    "\n",
    "dim_rna <- PCcutoff(seurObj_innate@reductions$pca_rna_innate, 0.1)\n",
    "dim_rna\n",
    "\n",
    "seurObj_innate <- FindMultiModalNeighbors(seurObj_innate,\n",
    "                                  reduction.list=list('mnn_adt_innate', 'mnn_rna_innate'),\n",
    "                                   dims.list=list(1:dim_adt,1:dim_rna))"
   ]
  },
  {
   "cell_type": "code",
   "execution_count": null,
   "id": "widespread-patient",
   "metadata": {
    "vscode": {
     "languageId": "r"
    }
   },
   "outputs": [],
   "source": [
    "seurObj_innate <- RunUMAP(seurObj_innate, nn.name = \"weighted.nn\", reduction.name = \"umap_wnn_innate\",\n",
    "                        reduction.key = \"wnnUMAP_\")"
   ]
  },
  {
   "cell_type": "code",
   "execution_count": null,
   "id": "local-strength",
   "metadata": {
    "vscode": {
     "languageId": "r"
    }
   },
   "outputs": [],
   "source": [
    "seurObj_SP <- RunSPCA(seurObj_SP, assay='RNA', graph='wsnn')"
   ]
  },
  {
   "cell_type": "code",
   "execution_count": null,
   "id": "electronic-muscle",
   "metadata": {
    "vscode": {
     "languageId": "r"
    }
   },
   "outputs": [],
   "source": [
    "ptm <- proc.time()\n",
    "\n",
    "seurObj_innate <- FindNeighbors(seurObj_innate, graph.name = 'wsnn',reduction= 'spca', dims = 1:max(c(dim_adt, dim_rna)), assay='ADTdsb')\n",
    "seurObj_innate <- FindClusters(seurObj_innate, graph.name = 'wsnn', algorithm = 4, resolution = 1, random.seed = 123,\n",
    "                               method = 'igraph', cluster.name='clusters_innate')\n",
    "\n",
    "proc.time() - ptm"
   ]
  },
  {
   "cell_type": "code",
   "execution_count": null,
   "id": "completed-antibody",
   "metadata": {
    "scrolled": true,
    "vscode": {
     "languageId": "r"
    }
   },
   "outputs": [],
   "source": [
    "seurObj_innate <- RunUMAP(seurObj_innate, reduction = 'mnn_adt_innate', dims = 1:dim_adt, reduction.name = \"umap_adt_innate\",\n",
    "                        reduction.key = \"adtUMAP_\")"
   ]
  },
  {
   "cell_type": "code",
   "execution_count": null,
   "id": "tutorial-people",
   "metadata": {
    "scrolled": true,
    "vscode": {
     "languageId": "r"
    }
   },
   "outputs": [],
   "source": [
    "ptm <- proc.time()\n",
    "\n",
    "seurObj_innate <- FindNeighbors(seurObj_innate, reduction= 'mnn_adt_innate', dims=1:dim_adt, assay='ADTdsb')\n",
    "seurObj_innate <- FindClusters(seurObj_innate, algorithm = 4, resolution = 1, random.seed = 123,\n",
    "                             method = 'igraph', cluster.name='clusters_innate_adt')\n",
    "\n",
    "proc.time() - ptm"
   ]
  },
  {
   "cell_type": "code",
   "execution_count": null,
   "id": "eastern-abraham",
   "metadata": {
    "vscode": {
     "languageId": "r"
    }
   },
   "outputs": [],
   "source": [
    "options(repr.plot.width=8, repr.plot.height=7)\n",
    "\n",
    "DimPlot(seurObj_innate, reduction = 'umap_wnn_innate', group.by = 'clusters_innate', cols=pal12)\n",
    "\n",
    "DimPlot(seurObj_innate, reduction = 'umap_wnn_innate', group.by = 'clusters_innate_adt', cols=pal12)\n",
    "\n",
    "options(repr.plot.width=12, repr.plot.height=7)\n",
    "\n",
    "DimPlot(seurObj_innate, reduction = 'umap_wnn_innate', group.by = 'anno_CITE_old', cols=sample(pal36))\n"
   ]
  },
  {
   "cell_type": "markdown",
   "id": "adolescent-intermediate",
   "metadata": {},
   "source": [
    "Remarkably, the separation of T/NK cells is much worse in the newly integrated UMAP. Nevertheless, there are some distinct markers that can be used to break apart the subset into distinct lineages."
   ]
  },
  {
   "cell_type": "code",
   "execution_count": null,
   "id": "polished-oxygen",
   "metadata": {
    "vscode": {
     "languageId": "r"
    }
   },
   "outputs": [],
   "source": [
    "table(seurObj_innate$anno_CITE_old, seurObj_innate$clusters_innate)"
   ]
  },
  {
   "cell_type": "code",
   "execution_count": null,
   "id": "differential-office",
   "metadata": {
    "vscode": {
     "languageId": "r"
    }
   },
   "outputs": [],
   "source": [
    "table(seurObj_innate$anno_CITE_old, seurObj_innate$clusters_innate_adt)"
   ]
  },
  {
   "cell_type": "code",
   "execution_count": null,
   "id": "extensive-grant",
   "metadata": {
    "vscode": {
     "languageId": "r"
    }
   },
   "outputs": [],
   "source": [
    "options(repr.plot.width=20, repr.plot.height=8)\n",
    "\n",
    "FeatureScatter(seurObj_innate, feature1 = 'CD56', feature2 = 'CD3', group.by = \"anno_CITE_old\", cols=sample(pal36))+facet_wrap(~seurObj_innate$clusters_innate_adt, ncol=5)+theme_bw()\n",
    "FeatureScatter(seurObj_innate, feature1 = 'CD56', feature2 = 'CD16', group.by = \"anno_CITE_old\", cols=sample(pal36))+facet_wrap(~seurObj_innate$clusters_innate_adt, ncol=5)+theme_bw()\n",
    "FeatureScatter(seurObj_innate, feature1 = 'CD161', feature2 = 'CD3', group.by = \"anno_CITE_old\", cols=sample(pal36))+facet_wrap(~seurObj_innate$clusters_innate_adt, ncol=5)+theme_bw()"
   ]
  },
  {
   "cell_type": "markdown",
   "id": "caroline-punch",
   "metadata": {},
   "source": [
    "Nk cells express CD56/CD16/CD161 but not CD3. All remaining cells are most likely CD8aa/gdT cells."
   ]
  },
  {
   "cell_type": "code",
   "execution_count": null,
   "id": "specific-bleeding",
   "metadata": {
    "vscode": {
     "languageId": "r"
    }
   },
   "outputs": [],
   "source": [
    "seurObj_NK <- subset(seurObj_innate, subset=clusters_innate_adt %in% c('1', '4', '6', '10') & CD3 <8 & (CD56 >35 | CD16 >20 | CD161 > 15))\n",
    "seurObj_aagd <- subset(seurObj_innate, cells = colnames(seurObj_NK), invert=T)"
   ]
  },
  {
   "cell_type": "code",
   "execution_count": null,
   "id": "certified-johnson",
   "metadata": {
    "vscode": {
     "languageId": "r"
    }
   },
   "outputs": [],
   "source": [
    "options(repr.plot.width=8, repr.plot.height=7)\n",
    "\n",
    "DimPlot(seurObj_innate, reduction = 'umap_wnn_innate', cells.highlight = colnames(seurObj_NK))\n",
    "\n",
    "DimPlot(seurObj, reduction = 'umap_wnn_mnn', cells.highlight = colnames(seurObj_NK))\n",
    "DimPlot(seurObj, reduction = 'umap_wnn_mnn', cells.highlight = colnames(seurObj_aagd))"
   ]
  },
  {
   "cell_type": "markdown",
   "id": "directed-logistics",
   "metadata": {},
   "source": [
    "While the selection in the integrated UMAP is quite scattered, it clearly identifies the NK protrusion in the full UMAP."
   ]
  },
  {
   "cell_type": "markdown",
   "id": "olympic-aruba",
   "metadata": {},
   "source": [
    "#### NK"
   ]
  },
  {
   "cell_type": "code",
   "execution_count": null,
   "id": "curious-prisoner",
   "metadata": {
    "scrolled": true,
    "vscode": {
     "languageId": "r"
    }
   },
   "outputs": [],
   "source": [
    "seurObj_NK <- seurObj_NK  %>%\n",
    "            FindVariableFeatures(assay='ADTdsb') %>%\n",
    "            ScaleData(assay = 'ADTdsb') %>%\n",
    "            RunPCA(assay = 'ADTdsb', npcs = 50, reduction.name = 'pca_adt_NK')"
   ]
  },
  {
   "cell_type": "code",
   "execution_count": null,
   "id": "extraordinary-glenn",
   "metadata": {
    "scrolled": true,
    "vscode": {
     "languageId": "r"
    }
   },
   "outputs": [],
   "source": [
    "MNN <- reducedMNN(seurObj_NK@reductions$pca_adt_NK@cell.embeddings,\n",
    "                 batch=seurObj_NK$sample,\n",
    "                 BPPARAM=MulticoreParam(workers=12), #parallelisation\n",
    "                 BNPARAM=HnswParam())\n",
    "seurObj_NK[[\"mnn_adt_NK\"]] <- CreateDimReducObject(embeddings=MNN$corrected,\n",
    "                                        assay=\"ADTdsb\",\n",
    "                                        key=\"mnn_\")"
   ]
  },
  {
   "cell_type": "code",
   "execution_count": null,
   "id": "restricted-preference",
   "metadata": {
    "scrolled": true,
    "vscode": {
     "languageId": "r"
    }
   },
   "outputs": [],
   "source": [
    "seurObj_NK <- seurObj_NK  %>%\n",
    "            FindVariableFeatures(assay='RNA') %>%\n",
    "            ScaleData(assay = 'RNA') %>%\n",
    "            RunPCA(assay = 'RNA', npcs = 50, reduction.name = 'pca_rna_NK')"
   ]
  },
  {
   "cell_type": "code",
   "execution_count": null,
   "id": "cathedral-scenario",
   "metadata": {
    "scrolled": true,
    "vscode": {
     "languageId": "r"
    }
   },
   "outputs": [],
   "source": [
    "MNN <- reducedMNN(seurObj_NK@reductions$pca_rna_NK@cell.embeddings,\n",
    "                 batch=seurObj_NK$sample,\n",
    "                 BPPARAM=MulticoreParam(workers=12), #parallelisation\n",
    "                 BNPARAM=HnswParam())\n",
    "seurObj_NK[[\"mnn_rna_NK\"]] <- CreateDimReducObject(embeddings=MNN$corrected,\n",
    "                                        assay=\"RNA\",\n",
    "                                        key=\"mnn_\")"
   ]
  },
  {
   "cell_type": "code",
   "execution_count": null,
   "id": "exempt-lambda",
   "metadata": {
    "vscode": {
     "languageId": "r"
    }
   },
   "outputs": [],
   "source": [
    "dim_adt <- PCcutoff(seurObj_NK@reductions$pca_adt_NK, 0.1)\n",
    "dim_adt\n",
    "\n",
    "dim_rna <- PCcutoff(seurObj_NK@reductions$pca_rna_NK, 0.1)\n",
    "dim_rna\n",
    "\n",
    "seurObj_NK <- FindMultiModalNeighbors(seurObj_NK,\n",
    "                                  reduction.list=list('mnn_adt_NK', 'mnn_rna_NK'),\n",
    "                                   dims.list=list(1:dim_adt,1:dim_rna))"
   ]
  },
  {
   "cell_type": "code",
   "execution_count": null,
   "id": "different-manor",
   "metadata": {
    "vscode": {
     "languageId": "r"
    }
   },
   "outputs": [],
   "source": [
    "seurObj_NK <- RunUMAP(seurObj_NK, nn.name = \"weighted.nn\", reduction.name = \"umap_wnn_NK\",\n",
    "                        reduction.key = \"wnnUMAP_\")"
   ]
  },
  {
   "cell_type": "code",
   "execution_count": null,
   "id": "conservative-steam",
   "metadata": {
    "vscode": {
     "languageId": "r"
    }
   },
   "outputs": [],
   "source": [
    "seurObj_NK <- RunSPCA(seurObj_NK, assay='RNA', graph='wsnn')"
   ]
  },
  {
   "cell_type": "code",
   "execution_count": null,
   "id": "compact-overall",
   "metadata": {
    "vscode": {
     "languageId": "r"
    }
   },
   "outputs": [],
   "source": [
    "ptm <- proc.time()\n",
    "\n",
    "seurObj_NK <- FindNeighbors(seurObj_NK, graph.name = 'wsnn',reduction= 'spca', dims = 1:max(c(dim_adt, dim_rna)), assay='ADTdsb')\n",
    "seurObj_NK <- FindClusters(seurObj_NK, graph.name = 'wsnn', algorithm = 4, resolution = 1, random.seed = 123,\n",
    "                               method = 'igraph', cluster.name='clusters_NK')\n",
    "\n",
    "proc.time() - ptm"
   ]
  },
  {
   "cell_type": "code",
   "execution_count": null,
   "id": "christian-payment",
   "metadata": {
    "scrolled": true,
    "vscode": {
     "languageId": "r"
    }
   },
   "outputs": [],
   "source": [
    "seurObj_NK <- RunUMAP(seurObj_NK, reduction = 'mnn_adt_NK', dims = 1:dim_adt, reduction.name = \"umap_adt_NK\",\n",
    "                        reduction.key = \"adtUMAP_\")"
   ]
  },
  {
   "cell_type": "code",
   "execution_count": null,
   "id": "about-relaxation",
   "metadata": {
    "scrolled": true,
    "vscode": {
     "languageId": "r"
    }
   },
   "outputs": [],
   "source": [
    "ptm <- proc.time()\n",
    "\n",
    "seurObj_NK <- FindNeighbors(seurObj_NK, reduction= 'mnn_adt_NK', dims=1:dim_adt, assay='ADTdsb')\n",
    "seurObj_NK <- FindClusters(seurObj_NK, algorithm = 4, resolution = 1, random.seed = 123,\n",
    "                             method = 'igraph', cluster.name='clusters_NK_adt')\n",
    "\n",
    "proc.time() - ptm"
   ]
  },
  {
   "cell_type": "code",
   "execution_count": null,
   "id": "direct-interval",
   "metadata": {
    "vscode": {
     "languageId": "r"
    }
   },
   "outputs": [],
   "source": [
    "options(repr.plot.width=8, repr.plot.height=7)\n",
    "\n",
    "DimPlot(seurObj_NK, reduction = 'umap_wnn_NK', group.by = 'clusters_NK', cols=pal12)\n",
    "\n",
    "DimPlot(seurObj_NK, reduction = 'umap_adt_NK', group.by = 'clusters_NK_adt', cols=pal12)\n",
    "\n",
    "options(repr.plot.width=10, repr.plot.height=7)\n",
    "\n",
    "DimPlot(seurObj_NK, reduction = 'umap_wnn_NK', group.by = 'anno_CITE_old', cols=pal12)\n",
    "DimPlot(seurObj_NK, reduction = 'umap_adt_NK', group.by = 'anno_CITE_old', cols=pal12)\n"
   ]
  },
  {
   "cell_type": "code",
   "execution_count": null,
   "id": "resistant-google",
   "metadata": {
    "vscode": {
     "languageId": "r"
    }
   },
   "outputs": [],
   "source": [
    "options(repr.plot.width=18, repr.plot.height=4)\n",
    "VlnPlot(seurObj_NK, features=c('CD3', 'TCRab', 'TCR-Vd2', 'CD28', 'CD4', 'CD8'), cols=pal12, group.by = 'clusters_NK', ncol=6)\n",
    "VlnPlot(seurObj_NK, features=c('CD3', 'TCRab', 'TCR-Vd2', 'CD28', 'CD4', 'CD8'), cols=pal12, group.by = 'clusters_NK_adt', ncol=6)"
   ]
  },
  {
   "cell_type": "code",
   "execution_count": null,
   "id": "perfect-salon",
   "metadata": {
    "vscode": {
     "languageId": "r"
    }
   },
   "outputs": [],
   "source": [
    "table(seurObj_NK$anno_CITE_old, seurObj_NK$clusters_NK_adt)"
   ]
  },
  {
   "cell_type": "markdown",
   "id": "whole-answer",
   "metadata": {},
   "source": [
    "adt cluster 4 are NKTdev, cl5 are 56lo16hi, cl3 are 56hi16lo, 1+2 are tissue resident."
   ]
  },
  {
   "cell_type": "code",
   "execution_count": null,
   "id": "copyrighted-crawford",
   "metadata": {
    "vscode": {
     "languageId": "r"
    }
   },
   "outputs": [],
   "source": [
    "markers_NK <- c('CD11b', 'CD11c','CD122', 'CD158b', 'CD16', 'CD103', 'CD161','CD172a', 'CD195','CD224', 'CD226', 'CD244', 'CD26', 'CD27','CD314', 'CD328', 'CD335', 'CD352', 'CD38', 'CD39', 'CD49a', 'CD56', 'CD62L', 'CD71', 'CD94', 'CX3CR1', 'GPR56', 'Integrin-B7', 'KLRG1', 'TIGIT', 'CD183', 'CD69', 'CD85j', 'CD2', 'CD57')"
   ]
  },
  {
   "cell_type": "code",
   "execution_count": null,
   "id": "narrative-rebate",
   "metadata": {
    "vscode": {
     "languageId": "r"
    }
   },
   "outputs": [],
   "source": [
    "options(repr.plot.width=18, repr.plot.height=20)\n",
    "\n",
    "VlnPlot(seurObj_NK, features=sort(markers_NK), group.by = 'clusters_NK_adt', ncol=6, cols=pal12)"
   ]
  },
  {
   "cell_type": "code",
   "execution_count": null,
   "id": "handed-israeli",
   "metadata": {
    "vscode": {
     "languageId": "r"
    }
   },
   "outputs": [],
   "source": [
    "options(repr.plot.width=20, repr.plot.height=4)\n",
    "\n",
    "FeatureScatter(seurObj_NK, feature1 = 'CD56', feature2 = 'CD16', group.by = 'anno_CITE_old', cols=pal12)+facet_wrap(~seurObj_NK$clusters_NK_adt, ncol=5)+theme_bw()\n",
    "FeatureScatter(seurObj_NK, feature1 = 'Integrin-B7', feature2 = 'CD103', group.by = 'anno_CITE_old', cols=pal12)+facet_wrap(~seurObj_NK$clusters_NK_adt, ncol=5)+theme_bw()\n",
    "FeatureScatter(seurObj_NK, feature1 = 'CD49a', feature2 = 'CD103', group.by = 'anno_CITE_old', cols=pal12)+facet_wrap(~seurObj_NK$clusters_NK_adt, ncol=5)+theme_bw()"
   ]
  },
  {
   "cell_type": "markdown",
   "id": "creative-biography",
   "metadata": {},
   "source": [
    "In the previous marker-search analysis we had identified clear subsets of CD56hi16lo and CD56loCD16hi circulating NK cells as well as integrin hi/lo tissue resident NK cells and developing NKT cells. The new analysis reproduces these findings and allows us to annotate the cells accordingly."
   ]
  },
  {
   "cell_type": "code",
   "execution_count": null,
   "id": "australian-modification",
   "metadata": {
    "vscode": {
     "languageId": "r"
    }
   },
   "outputs": [],
   "source": [
    "seurObj_NK$anno_new4 <- 'unknown'\n",
    "seurObj_NK$anno_new4 <- ifelse(colnames(seurObj_NK) %in% WhichCells(seurObj_NK, expression = (CD103 < 30 | `Integrin-B7` <15) & CD3 <4, idents = c('1', '2')), \"NK_tr_itg_lo\", seurObj_NK$anno_new4)\n",
    "seurObj_NK$anno_new4 <- ifelse(colnames(seurObj_NK) %in% WhichCells(seurObj_NK, expression = CD103 > 30 & `Integrin-B7` >15 & CD3 <4, idents = c('1', '2')), \"NK_tr_itg_hi\", seurObj_NK$anno_new4)\n",
    "seurObj_NK$anno_new4 <- ifelse(colnames(seurObj_NK) %in% WhichCells(seurObj_NK, expression = CD56 > 30 & CD16 < 40, idents = c('3')), \"NK_circ_56hi16lo\", seurObj_NK$anno_new4)\n",
    "seurObj_NK$anno_new4 <- ifelse(colnames(seurObj_NK) %in% WhichCells(seurObj_NK, expression = CD16 >40 , idents = c('5')), \"NK_circ_56lo16hi\", seurObj_NK$anno_new4)\n",
    "seurObj_NK$anno_new4 <- ifelse(colnames(seurObj_NK) %in% WhichCells(seurObj_NK, idents = c('4')), \"NKT_dev\", seurObj_NK$anno_new4)"
   ]
  },
  {
   "cell_type": "code",
   "execution_count": null,
   "id": "utility-dublin",
   "metadata": {
    "vscode": {
     "languageId": "r"
    }
   },
   "outputs": [],
   "source": [
    "options(repr.plot.width=8, repr.plot.height=7)\n",
    "\n",
    "\n",
    "DimPlot(seurObj_NK, reduction = 'umap_adt_NK', group.by = 'anno_new4', cols=pal12)"
   ]
  },
  {
   "cell_type": "code",
   "execution_count": null,
   "id": "private-warrant",
   "metadata": {
    "vscode": {
     "languageId": "r"
    }
   },
   "outputs": [],
   "source": [
    "table(seurObj_NK$anno_CITE_old, seurObj_NK$anno_new4)"
   ]
  },
  {
   "cell_type": "code",
   "execution_count": null,
   "id": "massive-theology",
   "metadata": {
    "vscode": {
     "languageId": "r"
    }
   },
   "outputs": [],
   "source": [
    "options(repr.plot.width=12, repr.plot.height=8)\n",
    "\n",
    "df <- count(seurObj_NK@meta.data, barcode, anno_CITE_old, anno_new4) %>%\n",
    "        mutate(id = row_number())%>%\n",
    "        pivot_longer(cols=2:3, names_to = 'version', values_to = 'celltype')\n",
    "\n",
    "ggplot(df, aes(x = version, y = n, \n",
    "                          stratum = celltype, fill = celltype,\n",
    "                          alluvium = id)) +\n",
    "  geom_stratum(alpha = .5) +\n",
    "  geom_flow()+\n",
    "  theme_minimal()+\n",
    "  scale_fill_manual(values = c(pal12, 'grey30'))"
   ]
  },
  {
   "cell_type": "code",
   "execution_count": null,
   "id": "interracial-audit",
   "metadata": {
    "vscode": {
     "languageId": "r"
    }
   },
   "outputs": [],
   "source": [
    "seurObj$anno_new[colnames(seurObj) %in% colnames(seurObj_NK)] <- seurObj_NK$anno_new4"
   ]
  },
  {
   "cell_type": "markdown",
   "id": "illegal-collection",
   "metadata": {},
   "source": [
    "#### CD8aa/gdT\n",
    "\n",
    "CD8aa and gdT cells are relatively similar both on RNA an surface marker level and since the gdTCR antibody does not work reliably, it is difficult to separate the subsets just based on surface marker thresholds."
   ]
  },
  {
   "cell_type": "code",
   "execution_count": null,
   "id": "bright-reliance",
   "metadata": {
    "scrolled": true,
    "vscode": {
     "languageId": "r"
    }
   },
   "outputs": [],
   "source": [
    "seurObj_aagd <- seurObj_aagd  %>%\n",
    "            FindVariableFeatures(assay='ADTdsb') %>%\n",
    "            ScaleData(assay = 'ADTdsb') %>%\n",
    "            RunPCA(assay = 'ADTdsb', npcs = 50, reduction.name = 'pca_adt_aagd')"
   ]
  },
  {
   "cell_type": "code",
   "execution_count": null,
   "id": "nervous-blink",
   "metadata": {
    "scrolled": true,
    "vscode": {
     "languageId": "r"
    }
   },
   "outputs": [],
   "source": [
    "MNN <- reducedMNN(seurObj_aagd@reductions$pca_adt_aagd@cell.embeddings,\n",
    "                 batch=seurObj_aagd$sample,\n",
    "                 BPPARAM=MulticoreParam(workers=12), #parallelisation\n",
    "                 BNPARAM=HnswParam())\n",
    "seurObj_aagd[[\"mnn_adt_aagd\"]] <- CreateDimReducObject(embeddings=MNN$corrected,\n",
    "                                        assay=\"ADTdsb\",\n",
    "                                        key=\"mnn_\")"
   ]
  },
  {
   "cell_type": "code",
   "execution_count": null,
   "id": "outstanding-prince",
   "metadata": {
    "scrolled": true,
    "vscode": {
     "languageId": "r"
    }
   },
   "outputs": [],
   "source": [
    "seurObj_aagd <- seurObj_aagd  %>%\n",
    "            FindVariableFeatures(assay='RNA') %>%\n",
    "            ScaleData(assay = 'RNA') %>%\n",
    "            RunPCA(assay = 'RNA', npcs = 50, reduction.name = 'pca_rna_aagd')"
   ]
  },
  {
   "cell_type": "code",
   "execution_count": null,
   "id": "north-afghanistan",
   "metadata": {
    "scrolled": true,
    "vscode": {
     "languageId": "r"
    }
   },
   "outputs": [],
   "source": [
    "MNN <- reducedMNN(seurObj_aagd@reductions$pca_rna_aagd@cell.embeddings,\n",
    "                 batch=seurObj_aagd$sample,\n",
    "                 BPPARAM=MulticoreParam(workers=12), #parallelisation\n",
    "                 BNPARAM=HnswParam())\n",
    "seurObj_aagd[[\"mnn_rna_aagd\"]] <- CreateDimReducObject(embeddings=MNN$corrected,\n",
    "                                        assay=\"RNA\",\n",
    "                                        key=\"mnn_\")"
   ]
  },
  {
   "cell_type": "code",
   "execution_count": null,
   "id": "reasonable-sitting",
   "metadata": {
    "vscode": {
     "languageId": "r"
    }
   },
   "outputs": [],
   "source": [
    "dim_adt <- PCcutoff(seurObj_aagd@reductions$pca_adt_aagd, 0.1)\n",
    "dim_adt\n",
    "\n",
    "dim_rna <- PCcutoff(seurObj_aagd@reductions$pca_rna_aagd, 0.1)\n",
    "dim_rna\n",
    "\n",
    "seurObj_aagd <- FindMultiModalNeighbors(seurObj_aagd,\n",
    "                                  reduction.list=list('mnn_adt_aagd', 'mnn_rna_aagd'),\n",
    "                                   dims.list=list(1:dim_adt,1:dim_rna))"
   ]
  },
  {
   "cell_type": "code",
   "execution_count": null,
   "id": "middle-accountability",
   "metadata": {
    "vscode": {
     "languageId": "r"
    }
   },
   "outputs": [],
   "source": [
    "seurObj_aagd <- RunUMAP(seurObj_aagd, nn.name = \"weighted.nn\", reduction.name = \"umap_wnn_aagd\",\n",
    "                        reduction.key = \"wnnUMAP_\")"
   ]
  },
  {
   "cell_type": "code",
   "execution_count": null,
   "id": "linear-helicopter",
   "metadata": {
    "vscode": {
     "languageId": "r"
    }
   },
   "outputs": [],
   "source": [
    "seurObj_aagd <- RunSPCA(seurObj_aagd, assay='RNA', graph='wsnn')"
   ]
  },
  {
   "cell_type": "code",
   "execution_count": null,
   "id": "united-snake",
   "metadata": {
    "vscode": {
     "languageId": "r"
    }
   },
   "outputs": [],
   "source": [
    "ptm <- proc.time()\n",
    "\n",
    "seurObj_aagd <- FindNeighbors(seurObj_aagd, graph.name = 'wsnn',reduction= 'spca', dims = 1:max(c(dim_adt, dim_rna)), assay='ADTdsb')\n",
    "seurObj_aagd <- FindClusters(seurObj_aagd, graph.name = 'wsnn', algorithm = 4, resolution = 1, random.seed = 123,\n",
    "                               method = 'igraph', cluster.name='clusters_aagd')\n",
    "\n",
    "proc.time() - ptm"
   ]
  },
  {
   "cell_type": "code",
   "execution_count": null,
   "id": "flexible-packing",
   "metadata": {
    "scrolled": true,
    "vscode": {
     "languageId": "r"
    }
   },
   "outputs": [],
   "source": [
    "seurObj_aagd <- RunUMAP(seurObj_aagd, reduction = 'mnn_adt_aagd', dims = 1:dim_adt, reduction.name = \"umap_adt_aagd\",\n",
    "                        reduction.key = \"adtUMAP_\")"
   ]
  },
  {
   "cell_type": "code",
   "execution_count": null,
   "id": "adjusted-arrival",
   "metadata": {
    "scrolled": true,
    "vscode": {
     "languageId": "r"
    }
   },
   "outputs": [],
   "source": [
    "ptm <- proc.time()\n",
    "\n",
    "seurObj_aagd <- FindNeighbors(seurObj_aagd, reduction= 'mnn_adt_aagd', dims=1:dim_adt, assay='ADTdsb')\n",
    "seurObj_aagd <- FindClusters(seurObj_aagd, algorithm = 4, resolution = 1, random.seed = 123,\n",
    "                             method = 'igraph', cluster.name='clusters_aagd_adt')\n",
    "\n",
    "proc.time() - ptm"
   ]
  },
  {
   "cell_type": "code",
   "execution_count": null,
   "id": "advised-fellowship",
   "metadata": {
    "vscode": {
     "languageId": "r"
    }
   },
   "outputs": [],
   "source": [
    "options(repr.plot.width=8, repr.plot.height=7)\n",
    "\n",
    "DimPlot(seurObj_aagd, reduction = 'umap_wnn_aagd', group.by = 'clusters_aagd', cols=pal24)\n",
    "\n",
    "DimPlot(seurObj_aagd, reduction = 'umap_adt_aagd', group.by = 'clusters_aagd_adt', cols=pal24)\n",
    "\n",
    "options(repr.plot.width=12, repr.plot.height=7)\n",
    "\n",
    "DimPlot(seurObj_aagd, reduction = 'umap_wnn_aagd', group.by = 'anno_CITE_old', cols=pal36)\n",
    "DimPlot(seurObj_aagd, reduction = 'umap_adt_aagd', group.by = 'anno_CITE_old', cols=pal36)\n"
   ]
  },
  {
   "cell_type": "code",
   "execution_count": null,
   "id": "enormous-evanescence",
   "metadata": {
    "vscode": {
     "languageId": "r"
    }
   },
   "outputs": [],
   "source": [
    "table(seurObj_aagd$anno_CITE_old, seurObj_aagd$clusters_aagd)"
   ]
  },
  {
   "cell_type": "code",
   "execution_count": null,
   "id": "matched-incidence",
   "metadata": {
    "vscode": {
     "languageId": "r"
    }
   },
   "outputs": [],
   "source": [
    "options(repr.plot.width=20, repr.plot.height=20)\n",
    "\n",
    "VlnPlot(seurObj_aagd, group.by = 'clusters_aagd', features = c('TCRgd', 'TCR-Vd2', 'CD62L', 'CD21', 'CD226', 'CD146', 'CD3', 'CD224', 'CD1a', 'CD1c', 'CD73', 'CD244', 'CD54', 'CD44', 'CD31','CD122', 'CD56','Integrin-B7', 'CD27', 'CD10', 'CD49f', 'CD11c', 'CD103', 'CD172a', 'CD4','CD8', 'CD34', 'CD24', 'TCRab'), pt.size = 0.001, ncol=5, cols=pal24)\n",
    "\n",
    "options(repr.plot.width=16, repr.plot.height=8)\n",
    "\n",
    "VlnPlot(seurObj_aagd, group.by = 'clusters_aagd', features = c('KLF2', 'S1PR1','TRDC', 'TRBC2', 'TRAC', 'TRGC1', 'TRGC2', 'RAG2', 'CD8A', 'CD8B'), pt.size = 0.001, ncol=5, cols=pal24, assay='RNA')"
   ]
  },
  {
   "cell_type": "code",
   "execution_count": null,
   "id": "metropolitan-fairy",
   "metadata": {
    "vscode": {
     "languageId": "r"
    }
   },
   "outputs": [],
   "source": [
    "options(repr.plot.width=20, repr.plot.height=10)\n",
    "\n",
    "FeatureScatter(seurObj_aagd, feature1 = 'TCRab', feature2 = 'CD3', group.by = 'anno_CITE_old', cols=pal36)+facet_wrap(~seurObj_aagd$clusters_aagd, ncol=5)+theme_bw()\n",
    "FeatureScatter(seurObj_aagd, feature1 = 'TCRgd', feature2 = 'CD8', group.by = 'anno_CITE_old', cols=pal36)+facet_wrap(~seurObj_aagd$clusters_aagd, ncol=5)+theme_bw()\n",
    "FeatureScatter(seurObj_aagd, feature1 = 'TCR-Vd2', feature2 = 'CD8', group.by = 'anno_CITE_old', cols=pal36)+facet_wrap(~seurObj_aagd$clusters_aagd, ncol=5)+theme_bw()"
   ]
  },
  {
   "cell_type": "markdown",
   "id": "realistic-portal",
   "metadata": {},
   "source": [
    "Based on the expression of CD8 and TCR we can identify clusters associated with CD8aas, gdT cells, and a Vd2/CD8memory mixed cluster."
   ]
  },
  {
   "cell_type": "code",
   "execution_count": null,
   "id": "ultimate-frost",
   "metadata": {
    "vscode": {
     "languageId": "r"
    }
   },
   "outputs": [],
   "source": [
    "seurObj_gdT <- subset(seurObj_aagd, subset= TCRab <7 & clusters_aagd %in% c('6', '9', '10'))\n",
    "seurObj_8aa <- subset(seurObj_aagd, subset= TCRgd <10 & CD8 > 5 & clusters_aagd %in% c('1', '2', '3', '4', '5', '8', '11', '12', '13'))\n",
    "                      "
   ]
  },
  {
   "cell_type": "code",
   "execution_count": null,
   "id": "happy-ownership",
   "metadata": {
    "scrolled": true,
    "vscode": {
     "languageId": "r"
    }
   },
   "outputs": [],
   "source": [
    "seurObj_gdT <- seurObj_gdT  %>%\n",
    "            FindVariableFeatures(assay='ADTdsb') %>%\n",
    "            ScaleData(assay = 'ADTdsb') %>%\n",
    "            RunPCA(assay = 'ADTdsb', npcs = 50, reduction.name = 'pca_adt_gdT')"
   ]
  },
  {
   "cell_type": "code",
   "execution_count": null,
   "id": "stupid-image",
   "metadata": {
    "scrolled": true,
    "vscode": {
     "languageId": "r"
    }
   },
   "outputs": [],
   "source": [
    "MNN <- reducedMNN(seurObj_gdT@reductions$pca_adt_gdT@cell.embeddings,\n",
    "                 batch=seurObj_gdT$sample,\n",
    "                 BPPARAM=MulticoreParam(workers=12), #parallelisation\n",
    "                 BNPARAM=HnswParam())\n",
    "seurObj_gdT[[\"mnn_adt_gdT\"]] <- CreateDimReducObject(embeddings=MNN$corrected,\n",
    "                                        assay=\"ADTdsb\",\n",
    "                                        key=\"mnn_\")"
   ]
  },
  {
   "cell_type": "code",
   "execution_count": null,
   "id": "younger-billion",
   "metadata": {
    "scrolled": true,
    "vscode": {
     "languageId": "r"
    }
   },
   "outputs": [],
   "source": [
    "seurObj_gdT <- seurObj_gdT  %>%\n",
    "            FindVariableFeatures(assay='RNA') %>%\n",
    "            ScaleData(assay = 'RNA') %>%\n",
    "            RunPCA(assay = 'RNA', npcs = 50, reduction.name = 'pca_rna_gdT')"
   ]
  },
  {
   "cell_type": "code",
   "execution_count": null,
   "id": "prescribed-funeral",
   "metadata": {
    "scrolled": true,
    "vscode": {
     "languageId": "r"
    }
   },
   "outputs": [],
   "source": [
    "MNN <- reducedMNN(seurObj_gdT@reductions$pca_rna_gdT@cell.embeddings,\n",
    "                 batch=seurObj_gdT$sample,\n",
    "                 BPPARAM=MulticoreParam(workers=12), #parallelisation\n",
    "                 BNPARAM=HnswParam())\n",
    "seurObj_gdT[[\"mnn_rna_gdT\"]] <- CreateDimReducObject(embeddings=MNN$corrected,\n",
    "                                        assay=\"RNA\",\n",
    "                                        key=\"mnn_\")"
   ]
  },
  {
   "cell_type": "code",
   "execution_count": null,
   "id": "controlling-thomas",
   "metadata": {
    "vscode": {
     "languageId": "r"
    }
   },
   "outputs": [],
   "source": [
    "dim_adt <- PCcutoff(seurObj_gdT@reductions$pca_adt_gdT, 0.1)\n",
    "dim_adt\n",
    "\n",
    "dim_rna <- PCcutoff(seurObj_gdT@reductions$pca_rna_gdT, 0.1)\n",
    "dim_rna\n",
    "\n",
    "seurObj_gdT <- FindMultiModalNeighbors(seurObj_gdT,\n",
    "                                  reduction.list=list('mnn_adt_gdT', 'mnn_rna_gdT'),\n",
    "                                   dims.list=list(1:dim_adt,1:dim_rna))"
   ]
  },
  {
   "cell_type": "code",
   "execution_count": null,
   "id": "sporting-packet",
   "metadata": {
    "vscode": {
     "languageId": "r"
    }
   },
   "outputs": [],
   "source": [
    "seurObj_gdT <- RunUMAP(seurObj_gdT, nn.name = \"weighted.nn\", reduction.name = \"umap_wnn_gdT\",\n",
    "                        reduction.key = \"wnnUMAP_\")"
   ]
  },
  {
   "cell_type": "code",
   "execution_count": null,
   "id": "solar-evanescence",
   "metadata": {
    "vscode": {
     "languageId": "r"
    }
   },
   "outputs": [],
   "source": [
    "seurObj_gdT <- RunSPCA(seurObj_gdT, assay='RNA', graph='wsnn')"
   ]
  },
  {
   "cell_type": "code",
   "execution_count": null,
   "id": "typical-decrease",
   "metadata": {
    "vscode": {
     "languageId": "r"
    }
   },
   "outputs": [],
   "source": [
    "ptm <- proc.time()\n",
    "\n",
    "seurObj_gdT <- FindNeighbors(seurObj_gdT, graph.name = 'wsnn',reduction= 'spca', dims = 1:max(c(dim_adt, dim_rna)), assay='ADTdsb')\n",
    "seurObj_gdT <- FindClusters(seurObj_gdT, graph.name = 'wsnn', algorithm = 4, resolution = 1, random.seed = 123,\n",
    "                               method = 'igraph', cluster.name='clusters_gdT')\n",
    "\n",
    "proc.time() - ptm"
   ]
  },
  {
   "cell_type": "code",
   "execution_count": null,
   "id": "abandoned-gender",
   "metadata": {
    "scrolled": true,
    "vscode": {
     "languageId": "r"
    }
   },
   "outputs": [],
   "source": [
    "seurObj_gdT <- RunUMAP(seurObj_gdT, reduction = 'mnn_adt_gdT', dims = 1:dim_adt, reduction.name = \"umap_adt_gdT\",\n",
    "                        reduction.key = \"adtUMAP_\")"
   ]
  },
  {
   "cell_type": "code",
   "execution_count": null,
   "id": "dress-semester",
   "metadata": {
    "scrolled": true,
    "vscode": {
     "languageId": "r"
    }
   },
   "outputs": [],
   "source": [
    "ptm <- proc.time()\n",
    "\n",
    "seurObj_gdT <- FindNeighbors(seurObj_gdT, reduction= 'mnn_adt_gdT', dims=1:dim_adt, assay='ADTdsb')\n",
    "seurObj_gdT <- FindClusters(seurObj_gdT, algorithm = 4, resolution = 1.5, random.seed = 123,\n",
    "                             method = 'igraph', cluster.name='clusters_gdT_adt')\n",
    "\n",
    "proc.time() - ptm"
   ]
  },
  {
   "cell_type": "code",
   "execution_count": null,
   "id": "settled-conclusion",
   "metadata": {
    "vscode": {
     "languageId": "r"
    }
   },
   "outputs": [],
   "source": [
    "options(repr.plot.width=8, repr.plot.height=7)\n",
    "\n",
    "DimPlot(seurObj_gdT, reduction = 'umap_wnn_gdT', group.by = 'clusters_gdT', cols=pal12)\n",
    "\n",
    "DimPlot(seurObj_gdT, reduction = 'umap_adt_gdT', group.by = 'clusters_gdT_adt', cols=pal12)\n",
    "\n",
    "options(repr.plot.width=10, repr.plot.height=7)\n",
    "\n",
    "DimPlot(seurObj_gdT, reduction = 'umap_wnn_gdT', group.by = 'anno_CITE_old', cols=pal24)\n",
    "DimPlot(seurObj_gdT, reduction = 'umap_adt_gdT', group.by = 'anno_CITE_old', cols=pal24)\n"
   ]
  },
  {
   "cell_type": "code",
   "execution_count": null,
   "id": "sporting-potter",
   "metadata": {
    "vscode": {
     "languageId": "r"
    }
   },
   "outputs": [],
   "source": [
    "options(repr.plot.width=16, repr.plot.height=8)\n",
    "\n",
    "FeatureScatter(seurObj_gdT, feature1 = 'CD1a', feature2 = 'CD27', cols=pal24, group.by = 'anno_CITE_old')+facet_wrap(~seurObj_gdT$clusters_gdT_adt, ncol=4)+theme_bw()"
   ]
  },
  {
   "cell_type": "code",
   "execution_count": null,
   "id": "streaming-message",
   "metadata": {
    "vscode": {
     "languageId": "r"
    }
   },
   "outputs": [],
   "source": [
    "options(repr.plot.width=16, repr.plot.height=20)\n",
    "markers_gd <- c('CD1a','CD45RA', 'CD45RO', 'CD73', 'CD3', 'CD7', 'CD44', 'CD24', 'CD27', 'rna_GNG4', 'rna_ZNF683', 'CD279', 'CD10', 'CD137', 'CD62L','TCRgd', 'CD21', 'CD226', 'CD146', 'CD224', 'CD1c', 'CD244', 'CD54', 'CD31','CD122', 'CD56', 'CD194','CD94','CD278', 'CD5', 'CD314', 'CD26', 'CD161', 'CD196', 'rna_TRGC1', 'rna_TRGC2','rna_NCR3')\n",
    "VlnPlot(seurObj_gdT, group.by = 'clusters_gdT_adt', features = sort(markers_gd), pt.size = 0.001, ncol=5, cols=pal12)"
   ]
  },
  {
   "cell_type": "code",
   "execution_count": null,
   "id": "original-western",
   "metadata": {
    "vscode": {
     "languageId": "r"
    }
   },
   "outputs": [],
   "source": [
    "table(seurObj_gdT$anno_CITE_old, seurObj_gdT$clusters_aagd)"
   ]
  },
  {
   "cell_type": "code",
   "execution_count": null,
   "id": "aggregate-roller",
   "metadata": {
    "vscode": {
     "languageId": "r"
    }
   },
   "outputs": [],
   "source": [
    "options(repr.plot.width=16, repr.plot.height=4)\n",
    "\n",
    "FeatureScatter(seurObj_gdT, feature1 = 'CD1a', feature2 = 'CD27', cols=pal24, group.by = 'anno_CITE_old')+facet_wrap(~seurObj_gdT$clusters_aagd, ncol=4)+theme_bw()"
   ]
  },
  {
   "cell_type": "markdown",
   "id": "opposite-garlic",
   "metadata": {},
   "source": [
    "Despite testing different resolutions, the gdT clustering does not yield distinct immature/mature clusters. We attempt an approximation based on CD1a levels, although this does not reproduce initial annotations very well. Marker analysis of maturing gdT cells would be needed especially to compare CD1a/CD62L/CD27/CD44 along the maturation trajectory since CD45RA cannot serve as a marker in this subset."
   ]
  },
  {
   "cell_type": "code",
   "execution_count": null,
   "id": "informal-threshold",
   "metadata": {
    "vscode": {
     "languageId": "r"
    }
   },
   "outputs": [],
   "source": [
    "Idents(seurObj_gdT) <- seurObj_gdT$clusters_aagd\n",
    "seurObj_gdT$anno_new4 <- 'unknown'\n",
    "seurObj_gdT$anno_new4 <- ifelse(colnames(seurObj_gdT) %in% WhichCells(seurObj_gdT, expression = CD1a >5, idents = c('10')), \"gdT_immature\", seurObj_gdT$anno_new4)\n",
    "seurObj_gdT$anno_new4 <- ifelse(colnames(seurObj_gdT) %in% WhichCells(seurObj_gdT, idents = c('6')), \"gdT_semimature\", seurObj_gdT$anno_new4)\n",
    "seurObj_gdT$anno_new4 <- ifelse(colnames(seurObj_gdT) %in% WhichCells(seurObj_gdT, expression = CD1a <5, idents = c('9')), \"gdT_mature\", seurObj_gdT$anno_new4)"
   ]
  },
  {
   "cell_type": "code",
   "execution_count": null,
   "id": "opposed-glucose",
   "metadata": {
    "vscode": {
     "languageId": "r"
    }
   },
   "outputs": [],
   "source": [
    "seurObj$anno_new[colnames(seurObj) %in% colnames(seurObj_gdT)] <- seurObj_gdT$anno_new4"
   ]
  },
  {
   "cell_type": "markdown",
   "id": "committed-toner",
   "metadata": {},
   "source": [
    "#### CD8aa"
   ]
  },
  {
   "cell_type": "code",
   "execution_count": null,
   "id": "lined-british",
   "metadata": {
    "scrolled": true,
    "vscode": {
     "languageId": "r"
    }
   },
   "outputs": [],
   "source": [
    "seurObj_8aa <- seurObj_8aa  %>%\n",
    "            FindVariableFeatures(assay='ADTdsb') %>%\n",
    "            ScaleData(assay = 'ADTdsb') %>%\n",
    "            RunPCA(assay = 'ADTdsb', npcs = 50, reduction.name = 'pca_adt_8aa')"
   ]
  },
  {
   "cell_type": "code",
   "execution_count": null,
   "id": "cross-retailer",
   "metadata": {
    "scrolled": true,
    "vscode": {
     "languageId": "r"
    }
   },
   "outputs": [],
   "source": [
    "MNN <- reducedMNN(seurObj_8aa@reductions$pca_adt_8aa@cell.embeddings,\n",
    "                 batch=seurObj_8aa$sample,\n",
    "                 BPPARAM=MulticoreParam(workers=12), #parallelisation\n",
    "                 BNPARAM=HnswParam())\n",
    "seurObj_8aa[[\"mnn_adt_8aa\"]] <- CreateDimReducObject(embeddings=MNN$corrected,\n",
    "                                        assay=\"ADTdsb\",\n",
    "                                        key=\"mnn_\")"
   ]
  },
  {
   "cell_type": "code",
   "execution_count": null,
   "id": "seven-enemy",
   "metadata": {
    "scrolled": true,
    "vscode": {
     "languageId": "r"
    }
   },
   "outputs": [],
   "source": [
    "seurObj_8aa <- seurObj_8aa %>%\n",
    "            FindVariableFeatures(assay='RNA') %>%\n",
    "            ScaleData(assay = 'RNA') %>%\n",
    "            RunPCA(assay = 'RNA', npcs = 50, reduction.name = 'pca_rna_8aa')"
   ]
  },
  {
   "cell_type": "code",
   "execution_count": null,
   "id": "previous-startup",
   "metadata": {
    "scrolled": true,
    "vscode": {
     "languageId": "r"
    }
   },
   "outputs": [],
   "source": [
    "MNN <- reducedMNN(seurObj_8aa@reductions$pca_rna_8aa@cell.embeddings,\n",
    "                 batch=seurObj_8aa$sample,\n",
    "                 BPPARAM=MulticoreParam(workers=12), #parallelisation\n",
    "                 BNPARAM=HnswParam())\n",
    "seurObj_8aa[[\"mnn_rna_8aa\"]] <- CreateDimReducObject(embeddings=MNN$corrected,\n",
    "                                        assay=\"RNA\",\n",
    "                                        key=\"mnn_\")"
   ]
  },
  {
   "cell_type": "code",
   "execution_count": null,
   "id": "statewide-collective",
   "metadata": {
    "vscode": {
     "languageId": "r"
    }
   },
   "outputs": [],
   "source": [
    "dim_adt <- PCcutoff(seurObj_8aa@reductions$pca_adt_8aa, 0.1)\n",
    "dim_adt\n",
    "\n",
    "dim_rna <- PCcutoff(seurObj_8aa@reductions$pca_rna_8aa, 0.1)\n",
    "dim_rna\n",
    "\n",
    "seurObj_8aa <- FindMultiModalNeighbors(seurObj_8aa,\n",
    "                                  reduction.list=list('mnn_adt_8aa', 'mnn_rna_8aa'),\n",
    "                                   dims.list=list(1:dim_adt,1:dim_rna))"
   ]
  },
  {
   "cell_type": "code",
   "execution_count": null,
   "id": "synthetic-astrology",
   "metadata": {
    "vscode": {
     "languageId": "r"
    }
   },
   "outputs": [],
   "source": [
    "seurObj_8aa <- RunUMAP(seurObj_8aa, nn.name = \"weighted.nn\", reduction.name = \"umap_wnn_8aa\",\n",
    "                        reduction.key = \"wnnUMAP_\")"
   ]
  },
  {
   "cell_type": "code",
   "execution_count": null,
   "id": "preliminary-tumor",
   "metadata": {
    "vscode": {
     "languageId": "r"
    }
   },
   "outputs": [],
   "source": [
    "seurObj_8aa <- RunSPCA(seurObj_8aa, assay='RNA', graph='wsnn')"
   ]
  },
  {
   "cell_type": "code",
   "execution_count": null,
   "id": "educational-anthropology",
   "metadata": {
    "vscode": {
     "languageId": "r"
    }
   },
   "outputs": [],
   "source": [
    "ptm <- proc.time()\n",
    "\n",
    "seurObj_8aa <- FindNeighbors(seurObj_8aa, graph.name = 'wsnn',reduction= 'spca', dims = 1:max(c(dim_adt, dim_rna)), assay='ADTdsb')\n",
    "seurObj_8aa <- FindClusters(seurObj_8aa, graph.name = 'wsnn', algorithm = 4, resolution = 1, random.seed = 123,\n",
    "                               method = 'igraph', cluster.name='clusters_8aa')\n",
    "\n",
    "proc.time() - ptm"
   ]
  },
  {
   "cell_type": "code",
   "execution_count": null,
   "id": "ancient-emergency",
   "metadata": {
    "scrolled": true,
    "vscode": {
     "languageId": "r"
    }
   },
   "outputs": [],
   "source": [
    "seurObj_8aa <- RunUMAP(seurObj_8aa, reduction = 'mnn_adt_8aa', dims = 1:dim_adt, reduction.name = \"umap_adt_8aa\",\n",
    "                        reduction.key = \"adtUMAP_\")"
   ]
  },
  {
   "cell_type": "code",
   "execution_count": null,
   "id": "chinese-inventory",
   "metadata": {
    "scrolled": true,
    "vscode": {
     "languageId": "r"
    }
   },
   "outputs": [],
   "source": [
    "ptm <- proc.time()\n",
    "\n",
    "seurObj_8aa <- FindNeighbors(seurObj_8aa, reduction= 'mnn_adt_8aa', dims=1:dim_adt, assay='ADTdsb')\n",
    "seurObj_8aa <- FindClusters(seurObj_8aa, algorithm = 4, resolution = 1.5, random.seed = 123,\n",
    "                             method = 'igraph', cluster.name='clusters_8aa_adt')\n",
    "\n",
    "proc.time() - ptm"
   ]
  },
  {
   "cell_type": "code",
   "execution_count": null,
   "id": "allied-acrobat",
   "metadata": {
    "vscode": {
     "languageId": "r"
    }
   },
   "outputs": [],
   "source": [
    "options(repr.plot.width=8, repr.plot.height=7)\n",
    "\n",
    "DimPlot(seurObj_8aa, reduction = 'umap_wnn_8aa', group.by = 'clusters_8aa', cols=pal12)\n",
    "\n",
    "DimPlot(seurObj_8aa, reduction = 'umap_adt_8aa', group.by = 'clusters_8aa_adt', cols=pal12)\n",
    "\n",
    "options(repr.plot.width=10, repr.plot.height=7)\n",
    "\n",
    "DimPlot(seurObj_8aa, reduction = 'umap_wnn_8aa', group.by = 'anno_CITE_old', cols=sample(pal36))\n",
    "DimPlot(seurObj_8aa, reduction = 'umap_adt_8aa', group.by = 'anno_CITE_old', cols=sample(pal36))\n"
   ]
  },
  {
   "cell_type": "code",
   "execution_count": null,
   "id": "inappropriate-hudson",
   "metadata": {
    "vscode": {
     "languageId": "r"
    }
   },
   "outputs": [],
   "source": [
    "table(seurObj_8aa$anno_CITE_old, seurObj_8aa$clusters_8aa_adt)"
   ]
  },
  {
   "cell_type": "code",
   "execution_count": null,
   "id": "czech-luxembourg",
   "metadata": {
    "vscode": {
     "languageId": "r"
    }
   },
   "outputs": [],
   "source": [
    "options(repr.plot.width=16, repr.plot.height=20)\n",
    "VlnPlot(seurObj_8aa, group.by = 'clusters_8aa_adt', features = sort(markers_gd), pt.size = 0, ncol=5, cols=pal12)"
   ]
  },
  {
   "cell_type": "markdown",
   "id": "appointed-efficiency",
   "metadata": {},
   "source": [
    "CD8aaI and II separate quite clearly. Within these, immature and mature clusters can be identified."
   ]
  },
  {
   "cell_type": "code",
   "execution_count": null,
   "id": "acute-underwear",
   "metadata": {
    "vscode": {
     "languageId": "r"
    }
   },
   "outputs": [],
   "source": [
    "Idents(seurObj_8aa) <- seurObj_8aa$clusters_8aa_adt\n",
    "seurObj_8aa$anno_new4 <- 'unknown'\n",
    "seurObj_8aa$anno_new4 <- ifelse(colnames(seurObj_8aa) %in% WhichCells(seurObj_8aa, idents = c('2', '4', '11')), \"CD8aaI_immature\", seurObj_8aa$anno_new4)\n",
    "seurObj_8aa$anno_new4 <- ifelse(colnames(seurObj_8aa) %in% WhichCells(seurObj_8aa, idents = c('3', '10', '1')), \"CD8aaI_mature\", seurObj_8aa$anno_new4)\n",
    "seurObj_8aa$anno_new4 <- ifelse(colnames(seurObj_8aa) %in% WhichCells(seurObj_8aa, idents = c('5', '7', '8')), \"CD8aaII_immature\", seurObj_8aa$anno_new4)\n",
    "seurObj_8aa$anno_new4 <- ifelse(colnames(seurObj_8aa) %in% WhichCells(seurObj_8aa, idents = c('6', '12', '9')), \"CD8aaII_mature\", seurObj_8aa$anno_new4)"
   ]
  },
  {
   "cell_type": "code",
   "execution_count": null,
   "id": "closing-basement",
   "metadata": {
    "vscode": {
     "languageId": "r"
    }
   },
   "outputs": [],
   "source": [
    "seurObj$anno_new[colnames(seurObj) %in% colnames(seurObj_8aa)] <- seurObj_8aa$anno_new4"
   ]
  },
  {
   "cell_type": "code",
   "execution_count": null,
   "id": "desperate-bishop",
   "metadata": {
    "vscode": {
     "languageId": "r"
    }
   },
   "outputs": [],
   "source": [
    "Idents(seurObj_aagd) <-seurObj_aagd$clusters_aagd"
   ]
  },
  {
   "cell_type": "code",
   "execution_count": null,
   "id": "theoretical-gallery",
   "metadata": {
    "vscode": {
     "languageId": "r"
    }
   },
   "outputs": [],
   "source": [
    "seurObj$anno_new[colnames(seurObj) %in% WhichCells(seurObj_aagd, idents = '7', expression = `TCR-Vd2`>20)] <- 'gdT_Vd2'"
   ]
  },
  {
   "cell_type": "code",
   "execution_count": null,
   "id": "reliable-woman",
   "metadata": {
    "vscode": {
     "languageId": "r"
    }
   },
   "outputs": [],
   "source": [
    "seurObj$anno_new[colnames(seurObj) %in% WhichCells(seurObj_aagd, idents = '7', expression = `TCR-Vd2`<20 & CD8 > 5)] <- 'SP_CD8_memory'"
   ]
  },
  {
   "cell_type": "code",
   "execution_count": null,
   "id": "enormous-barcelona",
   "metadata": {
    "vscode": {
     "languageId": "r"
    }
   },
   "outputs": [],
   "source": [
    "seurObj$anno_new <- gsub('unknown_DN', 'unknown', seurObj$anno_new)\n",
    "seurObj$anno_new <- gsub('unknown_techn', 'unknown', seurObj$anno_new)"
   ]
  },
  {
   "cell_type": "markdown",
   "id": "graduate-restaurant",
   "metadata": {},
   "source": [
    "With this the annotation is complete. Some annotations have changed but the majority of cells has robust labels."
   ]
  },
  {
   "cell_type": "code",
   "execution_count": null,
   "id": "unavailable-horse",
   "metadata": {
    "vscode": {
     "languageId": "r"
    }
   },
   "outputs": [],
   "source": [
    "options(repr.plot.width=12, repr.plot.height=8)\n",
    "\n",
    "df <- count(seurObj@meta.data, barcode, anno_CITE_old, anno_new) %>%\n",
    "        mutate(id = row_number())%>%\n",
    "        pivot_longer(cols=2:3, names_to = 'version', values_to = 'celltype')\n",
    "\n",
    "\n",
    "ggplot(df, aes(x = version, y = n, \n",
    "                          stratum = celltype, fill = celltype,\n",
    "                          alluvium = id)) +\n",
    "  geom_stratum(alpha = .5) +\n",
    "  geom_flow()+\n",
    "  theme_minimal()+\n",
    "  scale_fill_manual(values = c(pal60))"
   ]
  },
  {
   "cell_type": "code",
   "execution_count": null,
   "id": "textile-hamburg",
   "metadata": {
    "vscode": {
     "languageId": "r"
    }
   },
   "outputs": [],
   "source": [
    "celltypes2 <- names(table(seurObj$anno_new))\n",
    "names(celltypes2) <- seq_along(celltypes2)\n",
    "celltypes2"
   ]
  },
  {
   "cell_type": "code",
   "execution_count": null,
   "id": "minimal-shield",
   "metadata": {
    "vscode": {
     "languageId": "r"
    }
   },
   "outputs": [],
   "source": [
    "celltypes_ordered2 <- celltypes2[c(38, 6:9, 12, 14:16, 13, 11, 26, 28, 27, 29, 32, 30, 31, 34, 35, 36, 33, 37, 2:5, 17, 19, 18, 20, 25, 23, 24, 21, 22, 1, 10, 39)]\n",
    "celltypes_ordered2"
   ]
  },
  {
   "cell_type": "code",
   "execution_count": null,
   "id": "formal-dylan",
   "metadata": {
    "vscode": {
     "languageId": "r"
    }
   },
   "outputs": [],
   "source": [
    "names(celltypes_ordered2) <- seq_along(celltypes_ordered2)"
   ]
  },
  {
   "cell_type": "code",
   "execution_count": null,
   "id": "seeing-toolbox",
   "metadata": {
    "vscode": {
     "languageId": "r"
    }
   },
   "outputs": [],
   "source": [
    "seurObj$anno_CITE_new <- factor(seurObj$anno_new, levels=celltypes_ordered2)\n",
    "seurObj$anno_new <- NULL"
   ]
  },
  {
   "cell_type": "code",
   "execution_count": null,
   "id": "apparent-singing",
   "metadata": {
    "vscode": {
     "languageId": "r"
    }
   },
   "outputs": [],
   "source": [
    "options(repr.plot.width=12, repr.plot.height=8)\n",
    "\n",
    "DimPlot(seurObj, reduction = 'umap_wnn_mnn', group.by = 'anno_CITE_new', cols=pal40, shuffle=T, raster=F)"
   ]
  },
  {
   "cell_type": "code",
   "execution_count": null,
   "id": "reserved-characterization",
   "metadata": {
    "vscode": {
     "languageId": "r"
    }
   },
   "outputs": [],
   "source": [
    "options(repr.plot.width=12, repr.plot.height=8)\n",
    "\n",
    "DimPlot(seurObj, reduction = 'umap_wnn_mnn', group.by = 'anno_CITE_old', cols=pal40, shuffle=T, raster=F)"
   ]
  },
  {
   "cell_type": "code",
   "execution_count": null,
   "id": "grave-administrator",
   "metadata": {
    "vscode": {
     "languageId": "r"
    }
   },
   "outputs": [],
   "source": [
    "write.csv(seurObj@meta.data, './HTSA_CITE_anno.csv')"
   ]
  },
  {
   "cell_type": "code",
   "execution_count": null,
   "id": "liberal-durham",
   "metadata": {
    "vscode": {
     "languageId": "r"
    }
   },
   "outputs": [],
   "source": [
    "SaveH5Seurat(seurObj, './HTSA_CITE_anno.h5seurat', overwrite = TRUE)"
   ]
  },
  {
   "cell_type": "code",
   "execution_count": null,
   "id": "crazy-jenny",
   "metadata": {
    "vscode": {
     "languageId": "r"
    }
   },
   "outputs": [],
   "source": [
    "#seurObj <- LoadH5Seurat('./HTSA_CITE_anno.h5seurat')"
   ]
  },
  {
   "cell_type": "code",
   "execution_count": null,
   "id": "transparent-links",
   "metadata": {
    "vscode": {
     "languageId": "r"
    }
   },
   "outputs": [],
   "source": [
    "#Convert(\"HTSA_CITE_anno_test.h5seurat\", dest = \"h5ad\", assay = 'ADTdsb', overwrite = TRUE)\n",
    "#CAVE: exports scale.data slot, no way to change it"
   ]
  },
  {
   "cell_type": "code",
   "execution_count": null,
   "id": "olympic-angola",
   "metadata": {
    "vscode": {
     "languageId": "r"
    }
   },
   "outputs": [],
   "source": [
    "write.csv(seurObj@assays$ADTdsb@data, file='ADTdsb.csv')"
   ]
  }
 ],
 "metadata": {
  "kernelspec": {
   "display_name": "R",
   "language": "R",
   "name": "ir"
  },
  "language_info": {
   "codemirror_mode": "r",
   "file_extension": ".r",
   "mimetype": "text/x-r-source",
   "name": "R",
   "pygments_lexer": "r",
   "version": "4.0.4"
  }
 },
 "nbformat": 4,
 "nbformat_minor": 5
}
