{
 "cells": [
  {
   "cell_type": "markdown",
   "id": "strategic-dominant",
   "metadata": {},
   "source": [
    "# CITEseq data analysis\n",
    "\n",
    "*Author: Lena Boehme, Taghon lab, 2023*\n",
    "\n",
    "## Denoising and normalisation of ADT data with dsb\n",
    "\n",
    "ADT data is often very noisy and antibody detection and specificity can be variable. We can use denoising to correct the captured expression, which substantially improves visualisation and interpretation.\n",
    "\n",
    "For this we use the dsb package and follow the [suggested workflow](https://cran.rstudio.com/web/packages/dsb/vignettes/end_to_end_workflow.html#step1), which uses cell-free droplets to determine background levels of ambient antibody. Explanations about the approach can be found in the [vignette](https://cran.r-project.org/web/packages/dsb/vignettes/)."
   ]
  },
  {
   "cell_type": "markdown",
   "id": "congressional-budapest",
   "metadata": {},
   "source": [
    "## Setup"
   ]
  },
  {
   "cell_type": "code",
   "execution_count": null,
   "id": "indirect-circle",
   "metadata": {
    "scrolled": true,
    "vscode": {
     "languageId": "r"
    }
   },
   "outputs": [],
   "source": [
    "options(repr.plot.width=12, repr.plot.height=6)\n",
    "\n",
    "options(scipen=100) #avoid scientific notation of numbers\n",
    "\n",
    "library(SeuratDisk)\n",
    "library(Seurat)\n",
    "library(matrixStats)\n",
    "library(ggplot2)\n",
    "library(ggrastr)\n",
    "library(pheatmap)\n",
    "library(reshape2)\n",
    "library(dplyr)\n",
    "library(tidyr)\n",
    "library(viridis)\n",
    "library(stringr)\n",
    "library(RColorBrewer)\n",
    "library(ggrepel)\n",
    "library(Matrix)\n",
    "\n",
    "library(dsb)\n",
    "\n",
    "sessionInfo()"
   ]
  },
  {
   "cell_type": "code",
   "execution_count": null,
   "id": "interpreted-bowling",
   "metadata": {
    "vscode": {
     "languageId": "r"
    }
   },
   "outputs": [],
   "source": [
    "pal24 <- colorRampPalette(brewer.pal(12, \"Paired\"))(24)"
   ]
  },
  {
   "cell_type": "code",
   "execution_count": null,
   "id": "nearby-orlando",
   "metadata": {
    "vscode": {
     "languageId": "r"
    }
   },
   "outputs": [],
   "source": [
    "datadir_raw <- ''"
   ]
  },
  {
   "cell_type": "markdown",
   "id": "accepting-mumbai",
   "metadata": {},
   "source": [
    "## Reading in data\n",
    "\n",
    "To use dsb we need to analyse the unfiltered cellranger output, which still contains empty droplets. These will be used to estimate the background quantities of (unbound) antibody, which can then serve as a correction factor for unspecific staining of cells.\n",
    "\n",
    "Which cells will be included will normally be determined on RNA-based QC measures. In this instance the pre-processing and QC is done for all single cell data sets together at the Sanger Institute. We can then use the retained cell barcodes for the CITE-seq data to select high-quality cells on which to carry out the denoising."
   ]
  },
  {
   "cell_type": "markdown",
   "id": "appropriate-broadway",
   "metadata": {},
   "source": [
    "### Filtered data\n",
    "\n",
    "Mapped with STARsolo (RNA only), pre-processed at the Sanger, QCed, doublets removed, preliminary annotation based on RNA."
   ]
  },
  {
   "cell_type": "code",
   "execution_count": null,
   "id": "strong-courage",
   "metadata": {
    "vscode": {
     "languageId": "r"
    }
   },
   "outputs": [],
   "source": [
    "#First need to convert from anndata to seurat format\n",
    "#Convert(\"adata_full_rev_2_clean.h5ad\", dest = \"h5seurat\", assay = 'RNA', overwrite = TRUE)"
   ]
  },
  {
   "cell_type": "code",
   "execution_count": null,
   "id": "assisted-toner",
   "metadata": {
    "vscode": {
     "languageId": "r"
    }
   },
   "outputs": [],
   "source": [
    "seurObj_filt <- LoadH5Seurat('./adata_full_rev_2_clean.h5seurat', misc = FALSE, meta.data = FALSE) #metadata and misc need to be excluded to prevent an error"
   ]
  },
  {
   "cell_type": "code",
   "execution_count": null,
   "id": "native-fourth",
   "metadata": {
    "vscode": {
     "languageId": "r"
    }
   },
   "outputs": [],
   "source": [
    "seurObj_filt"
   ]
  },
  {
   "cell_type": "markdown",
   "id": "arbitrary-playlist",
   "metadata": {},
   "source": [
    "We have the meta data in a separate csv and can add it back to the seurat Object."
   ]
  },
  {
   "cell_type": "code",
   "execution_count": null,
   "id": "amazing-talent",
   "metadata": {
    "vscode": {
     "languageId": "r"
    }
   },
   "outputs": [],
   "source": [
    "meta <- read.csv(\"./adata_full_rev_2_clean.csv\")"
   ]
  },
  {
   "cell_type": "code",
   "execution_count": null,
   "id": "unable-destiny",
   "metadata": {
    "vscode": {
     "languageId": "r"
    }
   },
   "outputs": [],
   "source": [
    "seurObj_filt$barcode <- rownames(seurObj_filt@meta.data)\n",
    "seurObj_filt@meta.data <-  left_join(seurObj_filt@meta.data, meta, join_by('barcode'))\n",
    "rownames(seurObj_filt@meta.data) <- seurObj_filt$barcode"
   ]
  },
  {
   "cell_type": "code",
   "execution_count": null,
   "id": "administrative-turning",
   "metadata": {
    "vscode": {
     "languageId": "r"
    }
   },
   "outputs": [],
   "source": [
    "# seurObj_filt@meta.data %>% head"
   ]
  },
  {
   "cell_type": "code",
   "execution_count": null,
   "id": "flexible-exchange",
   "metadata": {
    "vscode": {
     "languageId": "r"
    }
   },
   "outputs": [],
   "source": [
    "SaveH5Seurat(seurObj_filt, 'HTSA_RNA_all.h5seurat', overwrite = TRUE)"
   ]
  },
  {
   "cell_type": "code",
   "execution_count": null,
   "id": "polar-dining",
   "metadata": {
    "vscode": {
     "languageId": "r"
    }
   },
   "outputs": [],
   "source": [
    "#seurObj_filt <- LoadH5Seurat('HTSA_RNA_all.h5seurat')"
   ]
  },
  {
   "cell_type": "markdown",
   "id": "figured-specialist",
   "metadata": {},
   "source": [
    "This object represents the entire single cell data set. We only need cells from the CITEseq data."
   ]
  },
  {
   "cell_type": "code",
   "execution_count": null,
   "id": "level-foster",
   "metadata": {
    "vscode": {
     "languageId": "r"
    }
   },
   "outputs": [],
   "source": [
    "table(seurObj_filt$study)"
   ]
  },
  {
   "cell_type": "code",
   "execution_count": null,
   "id": "pediatric-spray",
   "metadata": {
    "vscode": {
     "languageId": "r"
    }
   },
   "outputs": [],
   "source": [
    "seurObj_filt_CITE <- subset(seurObj_filt, study == 'HTSA_Ghent') #represents all CITEseq data"
   ]
  },
  {
   "cell_type": "code",
   "execution_count": null,
   "id": "decent-intensity",
   "metadata": {
    "vscode": {
     "languageId": "r"
    }
   },
   "outputs": [],
   "source": [
    "seurObj_filt_CITE"
   ]
  },
  {
   "cell_type": "code",
   "execution_count": null,
   "id": "mineral-ottawa",
   "metadata": {
    "vscode": {
     "languageId": "r"
    }
   },
   "outputs": [],
   "source": [
    "head(seurObj_filt_CITE@meta.data)"
   ]
  },
  {
   "cell_type": "code",
   "execution_count": null,
   "id": "narrative-personal",
   "metadata": {
    "scrolled": true,
    "vscode": {
     "languageId": "r"
    }
   },
   "outputs": [],
   "source": [
    "SaveH5Seurat(seurObj_filt_CITE, 'HTSA_RNA_CITE.h5seurat', overwrite=TRUE)"
   ]
  },
  {
   "cell_type": "code",
   "execution_count": null,
   "id": "breathing-genius",
   "metadata": {
    "vscode": {
     "languageId": "r"
    }
   },
   "outputs": [],
   "source": [
    "#seurObj_filt_CITE <- LoadH5Seurat('HTSA_RNA_CITE.h5seurat')"
   ]
  },
  {
   "cell_type": "markdown",
   "id": "occupational-arctic",
   "metadata": {},
   "source": [
    "### Unfiltered data\n",
    "\n",
    "Mapped with cellranger v7.0.0 (ADT+RNA), unfiltered output including debris and droplets."
   ]
  },
  {
   "cell_type": "code",
   "execution_count": null,
   "id": "enabling-covering",
   "metadata": {
    "vscode": {
     "languageId": "r"
    }
   },
   "outputs": [],
   "source": [
    "#fetch file names\n",
    "h5_raw <- list.files(path=datadir_raw,\n",
    "             pattern=\".h5\",  #return files matching this expression\n",
    "             full.names=TRUE) #get full path instead of just filename\n",
    "h5_raw"
   ]
  },
  {
   "cell_type": "markdown",
   "id": "emotional-spyware",
   "metadata": {},
   "source": [
    "The Read10X_h5 command produces a list, that contains the RNA and ADT matrices as list element 1 and 2, respectively. We separate the two modalities and instead construct two independent lists, which contain the either RNA or ADT counts for each sample. In addition we extract the sample ID from the filename, so that we can later match the meta data. This is important because the list of files can be lexicographic i.e. 10 sorted before 2.\n",
    "\n",
    "Note that the barcode prefix in the Sanger data is 'GEX', whereas in the unfiltered data it's 'TT-CITE-'. We need to rename and match those."
   ]
  },
  {
   "cell_type": "code",
   "execution_count": null,
   "id": "smooth-scotland",
   "metadata": {
    "vscode": {
     "languageId": "r"
    }
   },
   "outputs": [],
   "source": [
    "#read in files\n",
    "\n",
    "counts_RNA <- list()\n",
    "counts_ADT <- list()\n",
    "samples <- c()\n",
    "\n",
    "for(i in seq(1:length(h5_raw))){\n",
    "    counts <- Read10X_h5(h5_raw[[i]]) #produces list of two matrices, 1st is RNA, 2nd is ADT\n",
    "    counts_RNA[i] <- unlist(counts[1]) #add RNA counts as element in list\n",
    "    counts_ADT[i] <- unlist(counts[2]) \n",
    "    name <- str_split(basename(h5_raw[i]),'_')[[1]][1] #extract sample name from filename\n",
    "    samples[i] <- name #add sample name to sample vector\n",
    "    names(samples)[i] <- sub('TT-CITE-', 'GEX', name) #change prefix\n",
    "    names(counts_RNA)[i] <- names(samples)[i] #rename list elements to match sample names\n",
    "    names(counts_ADT)[i] <- names(samples)[i]\n",
    "}"
   ]
  },
  {
   "cell_type": "code",
   "execution_count": null,
   "id": "precious-engine",
   "metadata": {
    "vscode": {
     "languageId": "r"
    }
   },
   "outputs": [],
   "source": [
    "samples"
   ]
  },
  {
   "cell_type": "markdown",
   "id": "promotional-bradford",
   "metadata": {},
   "source": [
    "Before merging the cells from all samples to create a single object, we need to modify the barcodes to be able to distinguish their origin. By default they all end in '-1', but don't have a sample-specific identifier. We add a prefix corresponding to the sample and remove the '-1' suffix; that way they should match the sample barcodes in the Sanger-mapped data and allow us to extract corresponding cells from both versions of the data set. At the same time we save the sample origin for each cell into a list, which we can later use as meta data."
   ]
  },
  {
   "cell_type": "code",
   "execution_count": null,
   "id": "assisted-piano",
   "metadata": {
    "vscode": {
     "languageId": "r"
    }
   },
   "outputs": [],
   "source": [
    "samples_list <- list()\n",
    "\n",
    "for (i in seq(1:length(counts_RNA))){\n",
    "    prefix <- paste0(names(samples)[i], '-')  #retrieve new prefix\n",
    "    colnames(counts_RNA[[i]]) <- paste0(prefix, colnames(counts_RNA[[i]])) # add prefix to cell barcodes\n",
    "    colnames(counts_RNA[[i]]) <- gsub('-1','', colnames(counts_RNA[[i]])) # remove suffix from cell barcodes\n",
    "    colnames(counts_ADT[[i]]) <- paste0(prefix, colnames(counts_ADT[[i]]))\n",
    "    colnames(counts_ADT[[i]]) <- gsub('-1','', colnames(counts_ADT[[i]]))\n",
    "    samples_list[[i]] <- rep(names(samples)[i],length(colnames(counts_RNA[[i]])))\n",
    "}"
   ]
  },
  {
   "cell_type": "markdown",
   "id": "secret-consultancy",
   "metadata": {},
   "source": [
    "Note the lexicographic order: the second library is GEX10 (not GEX2)"
   ]
  },
  {
   "cell_type": "code",
   "execution_count": null,
   "id": "rotary-romance",
   "metadata": {
    "vscode": {
     "languageId": "r"
    }
   },
   "outputs": [],
   "source": [
    "colnames(counts_RNA[[2]]) %>% head()"
   ]
  },
  {
   "cell_type": "markdown",
   "id": "killing-touch",
   "metadata": {},
   "source": [
    "Merge all samples per modality into one matrix instead of a list."
   ]
  },
  {
   "cell_type": "code",
   "execution_count": null,
   "id": "chronic-lotus",
   "metadata": {
    "vscode": {
     "languageId": "r"
    }
   },
   "outputs": [],
   "source": [
    "counts_RNA_merged <- Reduce(cbind, counts_RNA)\n",
    "counts_ADT_merged <- Reduce(cbind, counts_ADT)"
   ]
  },
  {
   "cell_type": "code",
   "execution_count": null,
   "id": "ceramic-premium",
   "metadata": {
    "vscode": {
     "languageId": "r"
    }
   },
   "outputs": [],
   "source": [
    "rm(counts_RNA, counts_ADT) #cleanup"
   ]
  },
  {
   "cell_type": "markdown",
   "id": "unable-humanitarian",
   "metadata": {},
   "source": [
    "Build seurat object from the RNA matrix."
   ]
  },
  {
   "cell_type": "code",
   "execution_count": null,
   "id": "material-ladder",
   "metadata": {
    "vscode": {
     "languageId": "r"
    }
   },
   "outputs": [],
   "source": [
    "seurObj_unfilt_CITE <- CreateSeuratObject(counts_RNA_merged)"
   ]
  },
  {
   "cell_type": "markdown",
   "id": "honest-progressive",
   "metadata": {},
   "source": [
    "Some of the antibodies have been extended with a '.1' suffix for unknown reasons, which we remove."
   ]
  },
  {
   "cell_type": "code",
   "execution_count": null,
   "id": "heard-gibraltar",
   "metadata": {
    "vscode": {
     "languageId": "r"
    }
   },
   "outputs": [],
   "source": [
    "rownames(counts_ADT_merged)"
   ]
  },
  {
   "cell_type": "code",
   "execution_count": null,
   "id": "spare-structure",
   "metadata": {
    "vscode": {
     "languageId": "r"
    }
   },
   "outputs": [],
   "source": [
    "ABs <- rownames(counts_ADT_merged) %>% gsub('\\\\.1', '', .)\n",
    "ABs"
   ]
  },
  {
   "cell_type": "code",
   "execution_count": null,
   "id": "negative-investment",
   "metadata": {
    "vscode": {
     "languageId": "r"
    }
   },
   "outputs": [],
   "source": [
    "rownames(counts_ADT_merged) <- ABs"
   ]
  },
  {
   "cell_type": "markdown",
   "id": "complimentary-continuity",
   "metadata": {},
   "source": [
    "Add ADT to seurat object as separate assay."
   ]
  },
  {
   "cell_type": "code",
   "execution_count": null,
   "id": "surprised-copper",
   "metadata": {
    "vscode": {
     "languageId": "r"
    }
   },
   "outputs": [],
   "source": [
    "seurObj_unfilt_CITE[[\"ADT\"]] <- CreateAssayObject(counts = counts_ADT_merged)"
   ]
  },
  {
   "cell_type": "markdown",
   "id": "seasonal-roller",
   "metadata": {},
   "source": [
    "Add sample origin for each cell to the meta data."
   ]
  },
  {
   "cell_type": "code",
   "execution_count": null,
   "id": "bronze-reading",
   "metadata": {
    "vscode": {
     "languageId": "r"
    }
   },
   "outputs": [],
   "source": [
    "seurObj_unfilt_CITE$sample <- unlist(samples_list)"
   ]
  },
  {
   "cell_type": "code",
   "execution_count": null,
   "id": "changed-hotel",
   "metadata": {
    "vscode": {
     "languageId": "r"
    }
   },
   "outputs": [],
   "source": [
    "seurObj_unfilt_CITE@meta.data %>% tail()\n",
    "\n",
    "table(seurObj_unfilt_CITE$sample)"
   ]
  },
  {
   "cell_type": "markdown",
   "id": "identified-lawsuit",
   "metadata": {},
   "source": [
    "### Matching the data\n",
    "\n",
    "All cells in the filtered (processed) data are also present in the unfiltered data set, which additionally contains several millions of low-quality cells and droplets."
   ]
  },
  {
   "cell_type": "code",
   "execution_count": null,
   "id": "perceived-telling",
   "metadata": {
    "vscode": {
     "languageId": "r"
    }
   },
   "outputs": [],
   "source": [
    "table(colnames(seurObj_filt_CITE) %in% colnames(seurObj_unfilt_CITE))\n",
    "table(colnames(seurObj_unfilt_CITE) %in% colnames(seurObj_filt_CITE))"
   ]
  },
  {
   "cell_type": "markdown",
   "id": "dressed-scheme",
   "metadata": {},
   "source": [
    "We use the filtered object to annotate cells (vs. droplets) in the unfiltered data."
   ]
  },
  {
   "cell_type": "code",
   "execution_count": null,
   "id": "blond-conservative",
   "metadata": {
    "vscode": {
     "languageId": "r"
    }
   },
   "outputs": [],
   "source": [
    "seurObj_unfilt_CITE$cell <- colnames(seurObj_unfilt_CITE) %in% colnames(seurObj_filt_CITE)"
   ]
  },
  {
   "cell_type": "markdown",
   "id": "rental-shock",
   "metadata": {},
   "source": [
    "Sanity check: RNA reads should be much higher for cells compared to droplets."
   ]
  },
  {
   "cell_type": "code",
   "execution_count": null,
   "id": "undefined-coordinate",
   "metadata": {
    "vscode": {
     "languageId": "r"
    }
   },
   "outputs": [],
   "source": [
    "options(repr.plot.width=15, repr.plot.height=4)\n",
    "\n",
    "ggplot(seurObj_unfilt_CITE@meta.data, aes(x=sample, y=log10(nCount_RNA), fill=cell))+\n",
    "geom_boxplot()+\n",
    "theme_bw()"
   ]
  },
  {
   "cell_type": "markdown",
   "id": "statistical-understanding",
   "metadata": {},
   "source": [
    "Sanity check: Odd samples should be CD3neg, even samples CD3pos."
   ]
  },
  {
   "cell_type": "code",
   "execution_count": null,
   "id": "powered-variety",
   "metadata": {
    "vscode": {
     "languageId": "r"
    }
   },
   "outputs": [],
   "source": [
    "options(repr.plot.width=12, repr.plot.height=6)\n",
    "#cave: takes a while due to large data set\n",
    "VlnPlot(subset(seurObj_unfilt_CITE, cell==TRUE), features = 'CD3', assay = 'ADT', group.by = 'sample', pt.size = 0, log = TRUE)"
   ]
  },
  {
   "cell_type": "code",
   "execution_count": null,
   "id": "adequate-primary",
   "metadata": {
    "vscode": {
     "languageId": "r"
    }
   },
   "outputs": [],
   "source": [
    "#save unfiltered object\n",
    "SaveH5Seurat(seurObj_unfilt_CITE, \"./HTSA_CITE_preDSB.h5seurat\", overwrite=TRUE)"
   ]
  },
  {
   "cell_type": "code",
   "execution_count": null,
   "id": "international-police",
   "metadata": {
    "vscode": {
     "languageId": "r"
    }
   },
   "outputs": [],
   "source": [
    "#seurObj_unfilt_CITE <- LoadH5Seurat(\"./HTSA_CITE_preDSB.h5seurat\")"
   ]
  },
  {
   "cell_type": "markdown",
   "id": "renewable-aside",
   "metadata": {},
   "source": [
    "## Droplet QC"
   ]
  },
  {
   "cell_type": "markdown",
   "id": "later-insert",
   "metadata": {},
   "source": [
    "For cells basic QC has already been carried out; for droplets we need to select an appropriate subset. We first remove all droplets that only possess RNA or ADT reads. All cells are already pre-filtered to have both RNA and ADT information."
   ]
  },
  {
   "cell_type": "code",
   "execution_count": null,
   "id": "organized-london",
   "metadata": {
    "vscode": {
     "languageId": "r"
    }
   },
   "outputs": [],
   "source": [
    "table(seurObj_unfilt_CITE$nCount_RNA >0, seurObj_unfilt_CITE$cell)\n",
    "table(seurObj_unfilt_CITE$nCount_ADT >0, seurObj_unfilt_CITE$cell)"
   ]
  },
  {
   "cell_type": "code",
   "execution_count": null,
   "id": "active-chase",
   "metadata": {
    "vscode": {
     "languageId": "r"
    }
   },
   "outputs": [],
   "source": [
    "seurObj_unfilt_CITE2 <- subset(seurObj_unfilt_CITE, subset = nCount_RNA > 0 & nCount_ADT > 0 )"
   ]
  },
  {
   "cell_type": "code",
   "execution_count": null,
   "id": "aggregate-beginning",
   "metadata": {
    "vscode": {
     "languageId": "r"
    }
   },
   "outputs": [],
   "source": [
    "dim(seurObj_unfilt_CITE)\n",
    "dim(seurObj_unfilt_CITE2)"
   ]
  },
  {
   "cell_type": "markdown",
   "id": "studied-mitchell",
   "metadata": {},
   "source": [
    "We can also determine the percentage of mitochondrial reads, which indicates low-viability cells rather than empty droplets."
   ]
  },
  {
   "cell_type": "code",
   "execution_count": null,
   "id": "union-regulation",
   "metadata": {
    "vscode": {
     "languageId": "r"
    }
   },
   "outputs": [],
   "source": [
    "seurObj_unfilt_CITE2[[\"percent.mt\"]] <- PercentageFeatureSet(seurObj_unfilt_CITE2, pattern = \"^MT-\")"
   ]
  },
  {
   "cell_type": "markdown",
   "id": "hungry-elder",
   "metadata": {},
   "source": [
    "Next, we need to set thresholds for the background library that will be used. For this purpose we can inspect the RNA/ADT counts of droplets and cells (plotted on log scale)."
   ]
  },
  {
   "cell_type": "code",
   "execution_count": null,
   "id": "bright-eleven",
   "metadata": {
    "scrolled": true,
    "vscode": {
     "languageId": "r"
    }
   },
   "outputs": [],
   "source": [
    "start.time <- Sys.time()\n",
    "\n",
    "options(repr.plot.width=8, repr.plot.height=20)\n",
    "#CAVE: takes very long due to the size of the data set\n",
    "ggplot(seurObj_unfilt_CITE2@meta.data, aes(x=log10(nCount_ADT), y=log10(nCount_RNA), color=percent.mt))+\n",
    "geom_point_rast()+ #use ggrastr function to reduce \n",
    "facet_grid(sample~cell)+\n",
    "scale_color_viridis()+\n",
    "theme_bw()\n",
    "\n",
    "Sys.time() - start.time"
   ]
  },
  {
   "cell_type": "markdown",
   "id": "breathing-footwear",
   "metadata": {},
   "source": [
    "We can set min/max thresholds (indicated by lines) to select droplets that will be used for the downstream analyses. By visualising cell/droplet density, we can determine where most droplets fall on the gene/count spectrum."
   ]
  },
  {
   "cell_type": "code",
   "execution_count": null,
   "id": "academic-bottom",
   "metadata": {
    "vscode": {
     "languageId": "r"
    }
   },
   "outputs": [],
   "source": [
    "ADT_max <- 3.5\n",
    "ADT_min <- 1.2\n",
    "RNA_max <- 2.4"
   ]
  },
  {
   "cell_type": "code",
   "execution_count": null,
   "id": "corrected-mailman",
   "metadata": {
    "vscode": {
     "languageId": "r"
    }
   },
   "outputs": [],
   "source": [
    "options(repr.plot.width=8, repr.plot.height=20)\n",
    "\n",
    "ggplot(seurObj_unfilt_CITE2@meta.data, aes(x=log10(nCount_ADT), y=log10(nCount_RNA)))+\n",
    "geom_hex(bins=100)+ #density representation\n",
    "geom_hline(yintercept = RNA_max)+\n",
    "geom_vline(xintercept = ADT_max)+\n",
    "geom_vline(xintercept = ADT_min)+\n",
    "facet_grid(sample~cell)+\n",
    "scale_fill_viridis(limits=c(0,2000))+\n",
    "theme_bw()"
   ]
  },
  {
   "cell_type": "markdown",
   "id": "informational-mission",
   "metadata": {},
   "source": [
    "Based on the thresholds we can add an identifier in the meta data and create a reduced seurat object. We also remove 'droplets' with high mitochondrial reads, in case these are indeed partially lysed apoptotic cells, since these will not be a good representation of background antibody levels."
   ]
  },
  {
   "cell_type": "code",
   "execution_count": null,
   "id": "frank-afghanistan",
   "metadata": {
    "vscode": {
     "languageId": "r"
    }
   },
   "outputs": [],
   "source": [
    "droplets <- subset(seurObj_unfilt_CITE2@meta.data,\n",
    "                   log10(nCount_RNA) < RNA_max &\n",
    "                   log10(nCount_ADT) < ADT_max &\n",
    "                   log10(nCount_ADT) > ADT_min &\n",
    "                   percent.mt < 5 &\n",
    "                   cell==FALSE) %>% rownames()\n",
    "seurObj_unfilt_CITE2$droplet <- rownames(seurObj_unfilt_CITE2@meta.data) %in% droplets"
   ]
  },
  {
   "cell_type": "code",
   "execution_count": null,
   "id": "toxic-rocket",
   "metadata": {
    "vscode": {
     "languageId": "r"
    }
   },
   "outputs": [],
   "source": [
    "options(repr.plot.width=6, repr.plot.height=4)\n",
    "\n",
    "ggplot(seurObj_unfilt_CITE2@meta.data, aes(x=log10(nCount_ADT), y=log10(nCount_RNA), colour=droplet))+\n",
    "geom_point(alpha=0.5, pt.size=0.1)+\n",
    "geom_hline(yintercept = RNA_max)+\n",
    "geom_vline(xintercept = ADT_max)+\n",
    "geom_vline(xintercept = ADT_min)+\n",
    "facet_grid(~cell)+\n",
    "theme_bw()"
   ]
  },
  {
   "cell_type": "code",
   "execution_count": null,
   "id": "judicial-affairs",
   "metadata": {
    "vscode": {
     "languageId": "r"
    }
   },
   "outputs": [],
   "source": [
    "table(seurObj_unfilt_CITE2$droplet)"
   ]
  },
  {
   "cell_type": "markdown",
   "id": "current-forge",
   "metadata": {},
   "source": [
    "We can now remove everything that we didn't classify as cell or as droplet. This reduces the size of our data set substantially."
   ]
  },
  {
   "cell_type": "code",
   "execution_count": null,
   "id": "opponent-treat",
   "metadata": {
    "vscode": {
     "languageId": "r"
    }
   },
   "outputs": [],
   "source": [
    "seurObj_unfilt_CITE3 <- subset(seurObj_unfilt_CITE2, subset = droplet==TRUE | cell==TRUE)"
   ]
  },
  {
   "cell_type": "code",
   "execution_count": null,
   "id": "liberal-observer",
   "metadata": {
    "vscode": {
     "languageId": "r"
    }
   },
   "outputs": [],
   "source": [
    "table(seurObj_unfilt_CITE3$cell)"
   ]
  },
  {
   "cell_type": "code",
   "execution_count": null,
   "id": "accredited-shirt",
   "metadata": {
    "vscode": {
     "languageId": "r"
    }
   },
   "outputs": [],
   "source": [
    "#save QCed object\n",
    "SaveH5Seurat(seurObj_unfilt_CITE3, \"./HTSA_CITE_preDSB2.h5seurat\", overwrite=TRUE)"
   ]
  },
  {
   "cell_type": "code",
   "execution_count": null,
   "id": "spare-order",
   "metadata": {
    "vscode": {
     "languageId": "r"
    }
   },
   "outputs": [],
   "source": [
    "#seurObj_unfilt_CITE3 <- LoadH5Seurat(\"./HTSA_CITE_preDSB2.h5seurat\")"
   ]
  },
  {
   "cell_type": "markdown",
   "id": "blind-discipline",
   "metadata": {},
   "source": [
    "## Normalisation and denoising with dsb"
   ]
  },
  {
   "cell_type": "code",
   "execution_count": null,
   "id": "voluntary-skirt",
   "metadata": {
    "vscode": {
     "languageId": "r"
    }
   },
   "outputs": [],
   "source": [
    "isotype <- rownames(seurObj_unfilt_CITE3@assays$ADT@counts)[131:137]\n",
    "isotype"
   ]
  },
  {
   "cell_type": "code",
   "execution_count": null,
   "id": "apart-unemployment",
   "metadata": {
    "vscode": {
     "languageId": "r"
    }
   },
   "outputs": [],
   "source": [
    "ADT_stats <- data.frame(AB=rownames(seurObj_unfilt_CITE3@assays$ADT@counts),\n",
    "                      max= rowMaxs(as.matrix(seurObj_unfilt_CITE3@assays$ADT@counts)),\n",
    "                      min= rowMins(as.matrix(seurObj_unfilt_CITE3@assays$ADT@counts)),\n",
    "                      mean= rowMeans(as.matrix(seurObj_unfilt_CITE3@assays$ADT@counts)),\n",
    "                      median= rowMedians(as.matrix(seurObj_unfilt_CITE3@assays$ADT@counts)),\n",
    "                      isotype=rownames(as.matrix(seurObj_unfilt_CITE3@assays$ADT@counts)) %in% isotype)"
   ]
  },
  {
   "cell_type": "markdown",
   "id": "economic-malpractice",
   "metadata": {},
   "source": [
    "Isotype controls have low detection levels but so do many proteins."
   ]
  },
  {
   "cell_type": "code",
   "execution_count": null,
   "id": "dutch-screw",
   "metadata": {
    "vscode": {
     "languageId": "r"
    }
   },
   "outputs": [],
   "source": [
    "ADT_stats[order(ADT_stats$max),][1:20,]"
   ]
  },
  {
   "cell_type": "code",
   "execution_count": null,
   "id": "unsigned-interview",
   "metadata": {
    "vscode": {
     "languageId": "r"
    }
   },
   "outputs": [],
   "source": [
    "options(repr.plot.width=12, repr.plot.height=10)\n",
    "\n",
    "ggplot(ADT_stats, aes(x=log10(mean), y=log10(max), color=isotype))+\n",
    "geom_point()+\n",
    "geom_text_repel(aes(label=AB))+\n",
    "theme_bw()+\n",
    "theme(legend.position = 'none')"
   ]
  },
  {
   "cell_type": "markdown",
   "id": "minimal-kazakhstan",
   "metadata": {},
   "source": [
    "Comparison of antibody staining levels indicates that most markers are detected at higher levels compared to the Isotype controls. Importantly, many markers will not be expressed in our data set or only in a small subset of cells, which will affect the mean expression."
   ]
  },
  {
   "cell_type": "code",
   "execution_count": null,
   "id": "instrumental-democrat",
   "metadata": {
    "vscode": {
     "languageId": "r"
    }
   },
   "outputs": [],
   "source": [
    "options(repr.plot.width=12, repr.plot.height=10)\n",
    "\n",
    "ggplot(ADT_stats, aes(x=log10(mean), y=(median), color=isotype))+\n",
    "geom_point()+\n",
    "geom_text_repel(aes(label=AB))+\n",
    "theme_bw()+\n",
    "theme(legend.position = 'none')"
   ]
  },
  {
   "cell_type": "markdown",
   "id": "charming-device",
   "metadata": {},
   "source": [
    "Dsb takes raw ADT count matrices for cells and droplets. In addition, the isotype controls need to be specified. Further parameters can be adjusted, e.g. pseudocount to be used, scale factor and thresholds for quantile clipping to remove outliers. These options were tested and not found to be suitable/required for our dataset. For information on default settings and parameter options refer to the [vignette](https://cran.r-project.org/web/packages/dsb/dsb.pdf)."
   ]
  },
  {
   "cell_type": "code",
   "execution_count": null,
   "id": "extensive-scholarship",
   "metadata": {
    "vscode": {
     "languageId": "r"
    }
   },
   "outputs": [],
   "source": [
    "start.time <- Sys.time()\n",
    "\n",
    "norm <- DSBNormalizeProtein(cell_protein_matrix = subset(seurObj_unfilt_CITE3, subset=cell==TRUE)@assays$ADT@counts,\n",
    "                            empty_drop_matrix = subset(seurObj_unfilt_CITE3, subset=droplet==TRUE)@assays$ADT@counts,\n",
    "                            denoise.counts = TRUE,\n",
    "                            use.isotype.control = TRUE,\n",
    "                            isotype.control.name.vec = isotype,\n",
    "                            return.stats=TRUE,\n",
    "                            quantile.clipping = FALSE) #default if TRUE=0.001,0.9995\n",
    "end.time <- Sys.time()\n",
    "end.time - start.time"
   ]
  },
  {
   "cell_type": "markdown",
   "id": "combined-aaron",
   "metadata": {},
   "source": [
    "Dsb returns a normalised denoised matrix of protein expression for all cells (not droplets). In this matrix expression levels are corrected for background staining and cell-to-call variation is reduced. We can save this and the non-normalised ADT data to the filtered seurat Object.\n",
    "\n",
    "After normalisation the matrix may contain some cells with very negative values i.e. very low expression. These normally represent outliers but can hinder visualisation due to automatic axis limits and scaling (see [package details](https://www.rdocumentation.org/packages/dsb/versions/0.2.0)). We therefore set a minimum to 0 by changing all values below this to 0."
   ]
  },
  {
   "cell_type": "code",
   "execution_count": null,
   "id": "pleasant-hamburg",
   "metadata": {
    "vscode": {
     "languageId": "r"
    }
   },
   "outputs": [],
   "source": [
    "norm2 <- apply(norm$dsb_normalized_matrix, 2, function(x){ifelse(test = x < 0, yes = 0, no = x)}) "
   ]
  },
  {
   "cell_type": "code",
   "execution_count": null,
   "id": "differential-philippines",
   "metadata": {
    "vscode": {
     "languageId": "r"
    }
   },
   "outputs": [],
   "source": [
    "seurObj_filt_CITE[['ADT']] <- CreateAssayObject(counts=subset(seurObj_unfilt_CITE3, subset=cell==TRUE)@assays$ADT@counts)"
   ]
  },
  {
   "cell_type": "code",
   "execution_count": null,
   "id": "light-auditor",
   "metadata": {
    "vscode": {
     "languageId": "r"
    }
   },
   "outputs": [],
   "source": [
    "seurObj_filt_CITE[['ADTdsb']] <- CreateAssayObject(data=Matrix(norm2, sparse = TRUE)) #matrix is currently dense and does not automatically converted by seurat"
   ]
  },
  {
   "cell_type": "markdown",
   "id": "acquired-offense",
   "metadata": {},
   "source": [
    "We also add denoised data without removing negatives, which is helpful for flowjo visualisation."
   ]
  },
  {
   "cell_type": "code",
   "execution_count": null,
   "id": "acute-bleeding",
   "metadata": {
    "vscode": {
     "languageId": "r"
    }
   },
   "outputs": [],
   "source": [
    "seurObj_filt_CITE[['ADTdsbneg']] <- CreateAssayObject(data=Matrix(norm$dsb_normalized_matrix, sparse = TRUE)) #matrix is currently dense and does not automatically converted by seurat"
   ]
  },
  {
   "cell_type": "markdown",
   "id": "superb-integral",
   "metadata": {},
   "source": [
    "dsb provides some protein stats e.g. the amount of background detected, the mean levels before and after correction and the SD for all these measures."
   ]
  },
  {
   "cell_type": "code",
   "execution_count": null,
   "id": "stupid-vulnerability",
   "metadata": {
    "vscode": {
     "languageId": "r"
    }
   },
   "outputs": [],
   "source": [
    "stats.df <- cbind(AB=rownames(norm$protein_stats$`raw cell matrix stats`),\n",
    "                  norm$protein_stats$`raw cell matrix stats`,\n",
    "                  norm$protein_stats$`dsb normalized matrix stats`,\n",
    "                  background_mean=norm$protein_stats$background_mean,\n",
    "                  background_sd=norm$protein_stats$background_sd)"
   ]
  },
  {
   "cell_type": "code",
   "execution_count": null,
   "id": "sharp-bedroom",
   "metadata": {
    "scrolled": true,
    "vscode": {
     "languageId": "r"
    }
   },
   "outputs": [],
   "source": [
    "stats.df %>% head"
   ]
  },
  {
   "cell_type": "code",
   "execution_count": null,
   "id": "ruled-input",
   "metadata": {
    "vscode": {
     "languageId": "r"
    }
   },
   "outputs": [],
   "source": [
    "options(repr.plot.width=12, repr.plot.height=10)\n",
    "\n",
    "ggplot(stats.df, aes(x=cell_mean, y=dsb_mean, color=background_mean))+\n",
    "geom_point()+\n",
    "geom_text_repel(aes(label=AB))+\n",
    "scale_color_viridis()+\n",
    "#lims(x=c(0,15), y=c(0,15))+\n",
    "theme_bw()"
   ]
  },
  {
   "cell_type": "code",
   "execution_count": null,
   "id": "plain-cache",
   "metadata": {
    "vscode": {
     "languageId": "r"
    }
   },
   "outputs": [],
   "source": [
    "options(repr.plot.width=12, repr.plot.height=10)\n",
    "\n",
    "ggplot(stats.df, aes(x=background_sd, y=dsb_sd, color=background_sd))+ #cell sd is the same before/after dsb\n",
    "geom_point()+\n",
    "geom_text_repel(aes(label=AB))+\n",
    "scale_color_viridis()+\n",
    "#lims(x=c(0,15), y=c(0,15))+\n",
    "theme_bw()"
   ]
  },
  {
   "cell_type": "markdown",
   "id": "unable-maria",
   "metadata": {},
   "source": [
    "per-cell stats on the isotype control staining are also reported, which we can save in the meta data for later inspection as high isotype values could indicate sticky cells."
   ]
  },
  {
   "cell_type": "code",
   "execution_count": null,
   "id": "pointed-alfred",
   "metadata": {
    "vscode": {
     "languageId": "r"
    }
   },
   "outputs": [],
   "source": [
    "seurObj_filt_CITE@meta.data <- cbind(seurObj_filt_CITE@meta.data, norm$technical_stats)"
   ]
  },
  {
   "cell_type": "code",
   "execution_count": null,
   "id": "surgical-athletics",
   "metadata": {
    "vscode": {
     "languageId": "r"
    }
   },
   "outputs": [],
   "source": [
    "seurObj_filt_CITE@meta.data %>% head"
   ]
  },
  {
   "cell_type": "code",
   "execution_count": null,
   "id": "former-poland",
   "metadata": {
    "vscode": {
     "languageId": "r"
    }
   },
   "outputs": [],
   "source": [
    "stats2.df <- norm$technical_stats %>% data.frame %>% pivot_longer(cols = 1:7, names_to = 'Isotype', values_to = 'Value')"
   ]
  },
  {
   "cell_type": "code",
   "execution_count": null,
   "id": "received-oregon",
   "metadata": {
    "vscode": {
     "languageId": "r"
    }
   },
   "outputs": [],
   "source": [
    "options(repr.plot.width=8, repr.plot.height=5)\n",
    "\n",
    "ggplot(stats2.df, aes(x=Isotype, y=log(Value)))+\n",
    "geom_boxplot()+theme_bw()"
   ]
  },
  {
   "cell_type": "code",
   "execution_count": null,
   "id": "desirable-tablet",
   "metadata": {
    "vscode": {
     "languageId": "r"
    }
   },
   "outputs": [],
   "source": [
    "#save denoised object\n",
    "SaveH5Seurat(seurObj_filt_CITE, \"./HTSA_CITE_DSBdenoised.h5seurat\", overwrite=TRUE)"
   ]
  }
 ],
 "metadata": {
  "kernelspec": {
   "display_name": "R",
   "language": "R",
   "name": "ir"
  },
  "language_info": {
   "codemirror_mode": "r",
   "file_extension": ".r",
   "mimetype": "text/x-r-source",
   "name": "R",
   "pygments_lexer": "r",
   "version": "4.0.4"
  }
 },
 "nbformat": 4,
 "nbformat_minor": 5
}
