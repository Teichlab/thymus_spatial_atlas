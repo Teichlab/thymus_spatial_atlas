{
 "cells": [
  {
   "cell_type": "code",
   "execution_count": null,
   "id": "foster-enterprise",
   "metadata": {},
   "outputs": [],
   "source": [
    "# fine annotate lineage \n",
    "import scanpy as sc\n",
    "import numpy as np\n",
    "import pandas as pd\n",
    "import seaborn as sns\n",
    "import os,sys\n",
    "import anndata\n",
    "import warnings \n",
    "warnings.filterwarnings('ignore')"
   ]
  },
  {
   "cell_type": "code",
   "execution_count": null,
   "id": "impaired-miniature",
   "metadata": {},
   "outputs": [],
   "source": [
    "sc.logging.print_header()\n",
    "import matplotlib.pyplot as plt\n",
    "sc.settings.set_figure_params(dpi = 200, color_map = 'RdYlBu_r', dpi_save = 300, format = 'pdf',fontsize=5)\n",
    "plt.rcParams[\"figure.figsize\"] = [6,6]\n",
    "# sns.set_palette('colorblind')"
   ]
  },
  {
   "cell_type": "markdown",
   "id": "handed-counter",
   "metadata": {},
   "source": [
    "# integrate spatial object "
   ]
  },
  {
   "cell_type": "code",
   "execution_count": null,
   "id": "induced-england",
   "metadata": {},
   "outputs": [],
   "source": [
    "adata_paed = sc.read_h5ad('')"
   ]
  },
  {
   "cell_type": "code",
   "execution_count": null,
   "id": "atmospheric-syntax",
   "metadata": {},
   "outputs": [],
   "source": [
    "# add 5% quantile, representing confident cell abundance, 'at least this amount is present', \n",
    "# to adata.obs with nice names for plotting\n",
    "adata_paed.obs[adata_paed.uns['mod']['factor_names']] = adata_paed.obsm['q05_cell_abundance_w_sf']"
   ]
  },
  {
   "cell_type": "code",
   "execution_count": null,
   "id": "super-drove",
   "metadata": {},
   "outputs": [],
   "source": [
    "adata_paed.obs['tot_cell_abundance'] = adata_paed.uns[\"mod\"][\"post_sample_means\"][\"w_sf\"].sum(1).flatten()\n",
    "adata_paed.obs['detection_sensit']  = adata_paed.uns[\"mod\"][\"post_sample_q05\"][\"detection_y_s\"]"
   ]
  },
  {
   "cell_type": "code",
   "execution_count": null,
   "id": "powerful-criterion",
   "metadata": {},
   "outputs": [],
   "source": [
    "adata_paed_filt = adata_paed[adata_paed.obs['tot_cell_abundance']>30,:].copy()\n",
    "adata_paed_filt = adata_paed_filt[adata_paed_filt.obs['n_genes_by_counts']>1000,:].copy()"
   ]
  },
  {
   "cell_type": "code",
   "execution_count": null,
   "id": "suitable-reference",
   "metadata": {},
   "outputs": [],
   "source": [
    "## remove meduala less lobules with high confidence\n",
    "adata_paed_filt.obs['full_lobule'] = 0\n",
    "for s in adata_paed_filt.obs['SampleID'].cat.categories.tolist():\n",
    "    sample = adata_paed_filt[adata_paed_filt.obs['SampleID'].isin([s])]\n",
    "    for l in sample.obs['annotations_lobules_0'].cat.categories:\n",
    "        lobule = sample.obs['annotations_lobules_0'] == l\n",
    "        med = np.where(sample.obs['annotations_level_0'][lobule] == 'Medulla')[0]\n",
    "        cortex = np.where(sample.obs['annotations_level_0'][lobule] == 'Cortex')[0]\n",
    "        if (cortex.size>=5) & (med.size>=5):\n",
    "            adata_paed_filt.obs['full_lobule'][lobule.iloc[np.where(lobule)].index] = 1\n",
    "adata_paed_filt.obs['full_lobule'] = adata_paed_filt.obs['full_lobule'].astype('category')\n",
    "adata_paed_filt.obs['full_lobule'].value_counts()\n",
    "adata_paed_filt = adata_paed_filt[adata_paed_filt.obs['full_lobule']==1].copy()\n"
   ]
  },
  {
   "cell_type": "code",
   "execution_count": null,
   "id": "sensitive-diary",
   "metadata": {},
   "outputs": [],
   "source": [
    "celltypes = adata_paed_filt.uns['mod']['factor_names']\n",
    "cellab_paed = sc.AnnData(adata_paed_filt.obs[celltypes], \n",
    "                         obs = adata_paed_filt.obs.drop(celltypes, axis = 1),obsm = adata_paed_filt.obsm)\n",
    "sc.pp.normalize_total(cellab_paed,target_sum=100)\n",
    "cellab_paed.var_names"
   ]
  },
  {
   "cell_type": "code",
   "execution_count": null,
   "id": "sufficient-greensboro",
   "metadata": {},
   "outputs": [],
   "source": [
    "# version 3 hybrid\n",
    "import scipy \n",
    "cma_cluster_exp = {}\n",
    "cma_cluster = {}\n",
    "for c in cellab_paed.var_names:\n",
    "    # find the spots that have the highest expression of that cell\n",
    "    quantile = np.quantile(cellab_paed.X[:,np.where(cellab_paed.var_names==c)],0.99)\n",
    "    cells_above = np.where(cellab_paed.X[:,np.where(cellab_paed.var_names==c)]>quantile)[0]\n",
    "    obs_ind = np.where(cellab_paed.obs.columns == 'cma_v2')[0]\n",
    "    cell_abn = np.squeeze(cellab_paed.X[cells_above,np.where(cellab_paed.var_names==c)])                      \n",
    "    # get the cma value for these \n",
    "    cma_value =  np.squeeze(np.array(cellab_paed.obs.iloc[cells_above,obs_ind]))\n",
    "    cma_cluster[c] = np.dot(cell_abn,cma_value)/np.sum(cell_abn)\n",
    "    cma_cluster_exp[c] = np.exp2(cma_cluster[c]-0.16)-1\n",
    "  "
   ]
  },
  {
   "cell_type": "code",
   "execution_count": null,
   "id": "elementary-values",
   "metadata": {},
   "outputs": [],
   "source": [
    "plt.hist(cma_cluster.values(),bins=100)\n",
    "plt.xlim((-0.65,0.65))\n",
    "plt.show()\n",
    "\n",
    "plt.hist(cma_cluster_exp.values(),bins=100)\n",
    "plt.xlim((-0.65,0.65))\n",
    "plt.show()"
   ]
  },
  {
   "cell_type": "code",
   "execution_count": null,
   "id": "proper-translator",
   "metadata": {},
   "outputs": [],
   "source": [
    "# map clusters back to cells\n",
    "adata_paed_cells = sc.read_h5ad('')\n",
    "# adata_paed_cells"
   ]
  },
  {
   "cell_type": "code",
   "execution_count": null,
   "id": "overhead-strike",
   "metadata": {},
   "outputs": [],
   "source": [
    "adata_paed_cells.obs['mean_hyper_cma_exp'] = adata_paed_cells.obs['hyper_leiden'].map(cma_cluster_exp)\n",
    "adata_paed_cells.obs['mean_hyper_cma'] = adata_paed_cells.obs['hyper_leiden'].map(cma_cluster)\n",
    "adata_paed_cells.obs['mean_hyper_cma_exp'] = adata_paed_cells.obs['mean_hyper_cma_exp'].astype('float32')\n",
    "adata_paed_cells.obs['mean_hyper_cma'] = adata_paed_cells.obs['mean_hyper_cma'].astype('float32')\n"
   ]
  },
  {
   "cell_type": "code",
   "execution_count": null,
   "id": "hidden-estimate",
   "metadata": {},
   "outputs": [],
   "source": [
    "adata_paed_cells.obs.to_csv('/nfs/team205/ny1/ThymusSpatialAtlas/new_Figure6/cite_paed_hyper_mapping.csv')"
   ]
  }
 ],
 "metadata": {
  "kernelspec": {
   "display_name": "imagespot",
   "language": "python",
   "name": "imagespot"
  },
  "language_info": {
   "codemirror_mode": {
    "name": "ipython",
    "version": 3
   },
   "file_extension": ".py",
   "mimetype": "text/x-python",
   "name": "python",
   "nbconvert_exporter": "python",
   "pygments_lexer": "ipython3",
   "version": "3.9.13"
  }
 },
 "nbformat": 4,
 "nbformat_minor": 5
}
