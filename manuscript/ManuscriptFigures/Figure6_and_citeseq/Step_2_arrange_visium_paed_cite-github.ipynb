{
 "cells": [
  {
   "cell_type": "markdown",
   "id": "genetic-signature",
   "metadata": {},
   "source": [
    "# merging and cleaning processed paediatric Visium data based on CITEseq annotations - post cell2location deconvolution"
   ]
  },
  {
   "cell_type": "code",
   "execution_count": null,
   "id": "worst-mainland",
   "metadata": {},
   "outputs": [],
   "source": [
    "import numpy as np\n",
    "import scanpy as sc\n",
    "import pandas as pd\n",
    "import matplotlib.pyplot as plt\n",
    "from matplotlib import rcParams\n",
    "from matplotlib import colors\n",
    "import seaborn as sb\n",
    "import re\n",
    "import os\n",
    "import scipy.stats\n",
    "from numpy import asarray as ar\n",
    "from collections import Counter\n",
    "import scvi\n",
    "import anndata as ad\n",
    "from IPython.core.interactiveshell import InteractiveShell\n",
    "InteractiveShell.ast_node_interactivity = \"all\" # to show output from all the lines in a cells\n",
    "pd.set_option('display.max_column',None) # display all the columns in pandas\n",
    "pd.options.display.max_rows = 100\n",
    "\n",
    "from datetime import date\n",
    "today = str(date.today())\n",
    "sc.settings.verbosity = 1\n",
    "sc.logging.print_version_and_date()\n",
    "%load_ext autoreload\n",
    "%autoreload 2"
   ]
  },
  {
   "cell_type": "code",
   "execution_count": null,
   "id": "plastic-elder",
   "metadata": {},
   "outputs": [],
   "source": [
    "## For correct plotting of the images\n",
    "import matplotlib\n",
    "from matplotlib import rcParams\n",
    "rcParams['pdf.fonttype'] = 42\n",
    "sc.settings.set_figure_params(dpi = 150, color_map = 'RdPu', dpi_save = 150, vector_friendly = True, format = 'pdf')"
   ]
  },
  {
   "cell_type": "code",
   "execution_count": null,
   "id": "champion-taylor",
   "metadata": {},
   "outputs": [],
   "source": [
    "# output folder \n",
    "import os\n",
    "# os.getcwd()"
   ]
  },
  {
   "cell_type": "markdown",
   "id": "prescription-dividend",
   "metadata": {},
   "source": [
    "# Orgenize analysis object \n",
    "this is divided to 4 steps:\n",
    "1) load cell2loaction object \"sp\" which has only HVG genes \n",
    "2) load merged raw visium object \"adata_vis\" \n",
    "3) create a new object with all annotations and all raw genes\n",
    "4) update tissue tag annotations from to generate a final annotated object "
   ]
  },
  {
   "cell_type": "code",
   "execution_count": null,
   "id": "elect-infrastructure",
   "metadata": {},
   "outputs": [],
   "source": [
    "# load c2l object \n",
    "adata_cite = sc.read('/nfs/team205/vk8/projects/thymus_atlas/results/thymus_atlas_rev_v1_paed_cite_temp/cell2location_map/sp.h5ad')\n",
    "# adata_cite"
   ]
  },
  {
   "cell_type": "code",
   "execution_count": null,
   "id": "efficient-causing",
   "metadata": {},
   "outputs": [],
   "source": [
    "# add 5% quantile, representing confident cell abundance, 'at least this amount is present', \n",
    "# to adata.obs with nice names for plotting\n",
    "adata_cite.obs[adata_cite.uns['mod']['factor_names']] = adata_cite.obsm['q05_cell_abundance_w_sf']\n",
    "adata_cite.obs['tot_cell_abundance'] = adata_cite.uns[\"mod\"][\"post_sample_means\"][\"w_sf\"].sum(1).flatten()\n",
    "adata_cite.obs['detection_sensit']  = adata_cite.uns[\"mod\"][\"post_sample_q05\"][\"detection_y_s\"]\n",
    "# adata_cite"
   ]
  },
  {
   "cell_type": "code",
   "execution_count": null,
   "id": "hazardous-issue",
   "metadata": {},
   "outputs": [],
   "source": [
    "# recover original raw object and only recover model and annotations\n",
    "adata_vis_all = sc.read(\"/nfs/team205/ny1/ThymusSpatialAtlas/Figure_2_nat/Thymus_atlas_v2_Visium_raw_2023-08-02.h5ad\")\n",
    "adata_vis = adata_vis_all[adata_vis_all.obs['Age_group'] != 'fetal'].copy()\n",
    "del adata_vis_all\n",
    "# adata_vis"
   ]
  },
  {
   "cell_type": "code",
   "execution_count": null,
   "id": "consecutive-found",
   "metadata": {},
   "outputs": [],
   "source": [
    "adata_cite_full = ad.AnnData(X = adata_vis.X, obs=adata_cite.obs, var=adata_vis.var, uns=adata_cite.uns, obsm=adata_cite.obsm)\n",
    "del adata_vis\n",
    "del adata_cite\n",
    "# adata_cite_full"
   ]
  },
  {
   "cell_type": "markdown",
   "id": "crucial-swimming",
   "metadata": {},
   "source": [
    "# make sure  new annotations "
   ]
  },
  {
   "cell_type": "code",
   "execution_count": null,
   "id": "premier-glenn",
   "metadata": {},
   "outputs": [],
   "source": [
    "# remove outdated annotations \n",
    "annotations_to_remove = ['L2_dist_Annotation_lv_0_Artifacts', 'L2_dist_Annotation_lv_0_Background', \n",
    "                         'L2_dist_Annotation_lv_0_Cortex', 'L2_dist_Annotation_lv_0_Edge', 'L2_dist_Annotation_lv_0_Medulla', \n",
    "                         'L2_dist_log10_Annotation_lv_1_HS', 'Annotation_lv_1', 'L2_dist_log10_Annotation_lv_1_Lymph', \n",
    "                         'L2_dist_log10_Annotation_lv_1_PVS', 'L2_dist_log10_Annotation_lv_1_Unassigned', 'Annotation_lobules', \n",
    "                         'L2_dist_Annotation_lv_0_Unassigned', 'Annotation_lobules_0', \n",
    "                         'Annotation_lobules_1', 'L2_dist_log10_Annotation_lv_1_Fat', 'Leiden_0_5', \n",
    "                         'L2_dist_log10_Annotation_lv_1_Large vessel']\n",
    "\n",
    "adata_cite_full.obs.drop(columns=annotations_to_remove, errors='ignore', inplace=True)\n",
    "adata_cite_full.obs.rename(columns={'Cortico_Medullar_Axis': 'cma_v1'}, inplace=True)\n",
    "adata_cite_full.obs.rename(columns={'Annotation_lv_0': 'old_annotations_level_0'}, inplace=True)\n",
    "\n",
    "\n",
    "# adata_cite_full"
   ]
  },
  {
   "cell_type": "code",
   "execution_count": null,
   "id": "proud-teach",
   "metadata": {},
   "outputs": [],
   "source": [
    "# assign nice colors "
   ]
  },
  {
   "cell_type": "code",
   "execution_count": null,
   "id": "embedded-retreat",
   "metadata": {},
   "outputs": [],
   "source": [
    "# specify the colors for your categories\n",
    "# color mapping\n",
    "colors_dict = {'unassigned': 'gray', 'PVS': 'red', 'HS': 'green', 'vessels': 'blue', 'lymph':'orange','Cortex': 'cyan', 'Medulla': 'green', 'Edge': 'brown', 'Artifacts': 'black'}\n",
    "\n",
    "\n",
    "\n",
    "# get the categories in your data\n",
    "categories = adata_cite_full.obs['annotations_level_0'].cat.categories\n",
    "\n",
    "# map the colors to the categories\n",
    "colors = []\n",
    "for cat in categories:\n",
    "    try:\n",
    "        colors.append(colors_dict[cat])\n",
    "    except KeyError:  # cat is not found in colors_dict\n",
    "        colors.append('gray')  # use a default color\n",
    "\n",
    "# assign the colors\n",
    "adata_cite_full.uns['annotations_level_0_colors'] = colors\n",
    "\n",
    "# get the categories in your data\n",
    "categories = adata_cite_full.obs['annotations_level_1'].cat.categories\n",
    "\n",
    "# map the colors to the categories\n",
    "colors = []\n",
    "for cat in categories:\n",
    "    try:\n",
    "        colors.append(colors_dict[cat])\n",
    "    except KeyError:  # cat is not found in colors_dict\n",
    "        colors.append('gray')  # use a default color\n",
    "\n",
    "# assign the colors\n",
    "adata_cite_full.uns['annotations_level_1_colors'] = colors\n",
    "\n"
   ]
  },
  {
   "cell_type": "code",
   "execution_count": null,
   "id": "diverse-exercise",
   "metadata": {},
   "outputs": [],
   "source": [
    "# adata_cite_full"
   ]
  },
  {
   "cell_type": "code",
   "execution_count": null,
   "id": "arbitrary-flooring",
   "metadata": {},
   "outputs": [],
   "source": [
    "os.chdir('/nfs/team205/ny1/ThymusSpatialAtlas/Figure_6_nat/')\n",
    "adata_cite_full.write_h5ad('adata_cite_rev_v1.h5ad')"
   ]
  },
  {
   "cell_type": "code",
   "execution_count": null,
   "id": "thermal-drama",
   "metadata": {},
   "outputs": [],
   "source": []
  }
 ],
 "metadata": {
  "kernelspec": {
   "display_name": "scvi-env",
   "language": "python",
   "name": "scvi-env"
  },
  "language_info": {
   "codemirror_mode": {
    "name": "ipython",
    "version": 3
   },
   "file_extension": ".py",
   "mimetype": "text/x-python",
   "name": "python",
   "nbconvert_exporter": "python",
   "pygments_lexer": "ipython3",
   "version": "3.9.12"
  }
 },
 "nbformat": 4,
 "nbformat_minor": 5
}
