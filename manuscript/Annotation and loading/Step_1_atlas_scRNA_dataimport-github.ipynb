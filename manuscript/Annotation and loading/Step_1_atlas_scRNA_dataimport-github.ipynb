{
 "cells": [
  {
   "cell_type": "markdown",
   "metadata": {},
   "source": [
    "### Thymus human spatial atlas dissociated dataset loading\n",
    "### notebook to read all single cell data before integration \n",
    "### preprocessing - for all datasets, supp was removed with cellbender - see \"preprocessing\" for details\n",
    "### last edit 02/07/24\n"
   ]
  },
  {
   "cell_type": "code",
   "execution_count": null,
   "metadata": {},
   "outputs": [],
   "source": [
    "import warnings\n",
    "warnings.simplefilter(action='ignore', category=FutureWarning)\n",
    "warnings.filterwarnings('ignore')\n",
    "import scanpy as sc\n",
    "import scrublet as sl\n",
    "import matplotlib as mpl\n",
    "import numpy as np\n",
    "import pandas as pd\n",
    "import os\n",
    "import anndata as ad\n",
    "import scvi\n",
    "sc.settings.verbosity = 3  # verbosity: errors (0), warnings (1), info (2), hints (3)\n",
    "sc.settings.set_figure_params(dpi=80, facecolor='white', color_map='viridis')\n",
    "sc.logging.print_header()"
   ]
  },
  {
   "cell_type": "code",
   "execution_count": null,
   "metadata": {
    "tags": []
   },
   "outputs": [],
   "source": [
    "Path = ''\n",
    "os.chdir(Path)\n",
    "meta = pd.read_csv('')\n",
    "meta.columns = meta.columns.str.strip()\n",
    "meta"
   ]
  },
  {
   "cell_type": "markdown",
   "metadata": {
    "tags": []
   },
   "source": [
    "# Read all other data and merge with demultiplexd nuclei "
   ]
  },
  {
   "cell_type": "code",
   "execution_count": null,
   "metadata": {
    "tags": []
   },
   "outputs": [],
   "source": [
    "# read the rest of the libraries and run scrublet \n",
    "import warnings \n",
    "warnings.simplefilter(\"ignore\")"
   ]
  },
  {
   "cell_type": "code",
   "execution_count": null,
   "metadata": {
    "collapsed": true,
    "jupyter": {
     "outputs_hidden": true
    },
    "tags": []
   },
   "outputs": [],
   "source": [
    "X = pd.DataFrame(np.empty((0,0)))\n",
    "obs = pd.DataFrame(index=X.index)\n",
    "var = pd.DataFrame(index=X.columns) \n",
    "X = X.values\n",
    "\n",
    "AnnData = ad.AnnData(X=X, obs=obs, var=var)\n",
    "data = {}\n",
    "for idx,f in enumerate(meta.iloc[:,1]):\n",
    "#     if f!='sample6':\n",
    "        print(str(idx))\n",
    "        print(f)\n",
    "        results_file = meta['path_cellbender_gex'][idx]+'/'+meta['library'][idx]+'_filtered.h5'\n",
    "        print(results_file)\n",
    "        adata = sc.read_10x_h5(results_file)\n",
    "        adata.var_names_make_unique()\n",
    "        sc.pp.filter_cells(adata, min_genes=400)\n",
    "        print(meta['library'][idx])\n",
    "        # add metadata \n",
    "        adata.obs['barcode'] = adata.obs.index\n",
    "        adata.obs['sample_barcode'] = meta['sample'][idx] + '-' + adata.obs.index\n",
    "        adata.obs.index = meta['library'][idx] + '-' + adata.obs.index\n",
    "        adata.obs['batch'] = idx+meta.shape[0] # fix batch \n",
    "        adata.obs['chemistry_simple'] = meta['chemistry_simple'][idx]\n",
    "        adata.obs['age_group'] = meta['age_group'][idx]\n",
    "        adata.obs['age_numeric'] = meta['age_cont'][idx]\n",
    "        adata.obs['sampleID_TCRab'] = meta['sample_id_tcrab'][idx]\n",
    "        adata.obs['path_TCRab'] = meta['path_tcrab'][idx]\n",
    "        adata.obs['path_cellbender_gex'] = meta['path_cellbender_gex'][idx]\n",
    "        adata.obs['study'] = meta['study'][idx]\n",
    "        adata.obs['study_group'] = meta['study_group'][idx]\n",
    "        adata.obs['sample'] = meta['sample'][idx]\n",
    "        adata.obs['enrichment'] = meta['sort'][idx]\n",
    "        adata.obs['donor'] = meta['donor'][idx]\n",
    "        adata.obs['cite'] = meta['cite'][idx]\n",
    "        print(adata.shape)\n",
    "        # doublet detection     \n",
    "        sc.external.pp.scrublet(adata)\n",
    "        AnnData = ad.concat([AnnData,adata],join='outer')\n",
    "\n",
    "        print(AnnData.shape)\n",
    "AnnData.obs.index.names = ['barcode']"
   ]
  },
  {
   "cell_type": "markdown",
   "metadata": {
    "tags": []
   },
   "source": [
    "# QC MT and counts"
   ]
  },
  {
   "cell_type": "code",
   "execution_count": null,
   "metadata": {
    "tags": []
   },
   "outputs": [],
   "source": [
    "# qc\n",
    "# mitochondrial genes\n",
    "AnnData.var['mt'] = AnnData.var_names.str.startswith('MT-') \n",
    "# ribosomal genes\n",
    "AnnData.var['ribo'] = AnnData.var_names.str.startswith((\"RPS\",\"RPL\"))\n",
    "# hemoglobin genes.\n",
    "AnnData.var['hb'] = AnnData.var_names.str.contains((\"^HB[^(P)]\"))\n",
    "\n",
    "sc.pp.calculate_qc_metrics(AnnData, qc_vars=['mt','ribo','hb'], percent_top=None, log1p=False, inplace=True)\n",
    "AnnData.obs"
   ]
  },
  {
   "cell_type": "code",
   "execution_count": null,
   "metadata": {
    "tags": []
   },
   "outputs": [],
   "source": [
    "mito_genes = AnnData.var_names.str.startswith('MT-')\n",
    "# for each cell compute fraction of counts in mito genes vs. all genes\n",
    "# the `.A1` is only necessary as X is sparse (to transform to a dense array after summing)\n",
    "AnnData.obs['percent_mt2'] = np.sum(AnnData[:, mito_genes].X, axis=1).A1 / np.sum(AnnData.X, axis=1).A1\n",
    "# add the total counts per cell as observations-annotation to adata\n",
    "AnnData.obs['n_counts'] = AnnData.X.sum(axis=1).A1"
   ]
  },
  {
   "cell_type": "code",
   "execution_count": null,
   "metadata": {
    "tags": []
   },
   "outputs": [],
   "source": [
    "sc.pl.violin(AnnData, ['n_genes_by_counts', 'total_counts', 'pct_counts_mt','pct_counts_ribo', 'pct_counts_hb','doublet_score'],\n",
    "             jitter=0.1, multi_panel=True)"
   ]
  },
  {
   "cell_type": "code",
   "execution_count": null,
   "metadata": {
    "tags": []
   },
   "outputs": [],
   "source": [
    "AnnData.obs['barcode_sequence'] = AnnData.obs['barcode']"
   ]
  },
  {
   "cell_type": "code",
   "execution_count": null,
   "metadata": {
    "tags": []
   },
   "outputs": [],
   "source": [
    "AnnData.obs = AnnData.obs.drop(columns='barcode')"
   ]
  },
  {
   "cell_type": "code",
   "execution_count": null,
   "metadata": {
    "tags": []
   },
   "outputs": [],
   "source": [
    "AnnData"
   ]
  },
  {
   "cell_type": "code",
   "execution_count": null,
   "metadata": {
    "tags": []
   },
   "outputs": [],
   "source": [
    "# remove poor quality cells\n",
    "AnnData = AnnData[AnnData.obs.n_genes_by_counts < 6500, :]\n",
    "AnnData = AnnData[AnnData.obs.pct_counts_mt < 6, :]\n",
    "AnnData = AnnData[AnnData.obs.pct_counts_ribo > 5, :]\n",
    "AnnData.obs['cite'].value_counts()"
   ]
  },
  {
   "cell_type": "code",
   "execution_count": null,
   "metadata": {
    "tags": []
   },
   "outputs": [],
   "source": [
    "AnnData.var_names_make_unique()\n",
    "AnnData.obs"
   ]
  },
  {
   "cell_type": "markdown",
   "metadata": {},
   "source": [
    "# SCVI integration "
   ]
  },
  {
   "cell_type": "code",
   "execution_count": null,
   "metadata": {},
   "outputs": [],
   "source": [
    "AnnData_r = AnnData.copy()  # generate a temp AnnData \n",
    "AnnData_r.layers[\"counts\"] = AnnData_r.X.copy() # preserve counts\n",
    "AnnData_r.obs = AnnData.obs # recover counts\n",
    "AnnData_r.var = AnnData.var # recover var names \n",
    "AnnData_r"
   ]
  },
  {
   "cell_type": "markdown",
   "metadata": {},
   "source": [
    "## step 1 - remove cc and mt genes "
   ]
  },
  {
   "cell_type": "code",
   "execution_count": null,
   "metadata": {},
   "outputs": [],
   "source": [
    "genes = {'cc_genes' : ['C1orf112', 'KDM1A', 'ARHGAP33', 'CDC27', 'AC004381.6', 'DBF4', 'PRSS21', 'E2F2', 'BAZ1B', 'NCAPD2', 'ANLN', 'BRCA1', 'UBR7', 'DDX11', 'TACC3', 'POLA2', 'DEPDC1', 'NCAPH2', 'HMGB3', 'CENPQ', 'DEPDC1B', 'SPDL1', 'TDP1', 'DSG2', 'NOP16', 'RFC2', 'RAD51', 'POLQ', 'THOC3', 'MRTO4', 'C4orf27', 'POLD1', 'TM7SF3', 'MCM10', 'MTHFD2', 'YBX1', 'ASPM', 'PRR11', 'NUCKS1', 'EXOC5', 'TCOF1', 'RAD18', 'TRIP13', 'DAZAP1', 'HLTF', 'PDCD2', 'SMC1A', 'HMMR', 'MCM2', 'NUP37', 'GTSE1', 'WDR62', 'MCM6', 'MLH1', 'UNG', 'SPAG5', 'UBE2T', 'EXOSC5', 'FAM76B', 'POLD3', 'KIF22', 'PUM3', 'RBL1', 'NDC80', 'HSPB11', 'OXCT1', 'SEH1L', 'ORC1', 'RAD54L', 'NOP14', 'GMCL1', 'AURKA', 'TPX2', 'BIRC5', 'KIF4A', 'FH', 'ORC6', 'G2E3', 'WDR76', 'PHGDH', 'CLSPN', 'NUP50', 'CDC45', 'CDC6', 'CBX5', 'MSH2', 'FKBP5', 'ACOT7', 'CDC7', 'RANBP1', 'CENPM', 'HMGXB4', 'MCM5', 'RANGAP1', 'POLE2', 'CDKN3', 'ERH', 'MTHFD1', 'VRK1', 'EMC9', 'GINS1', 'MYBL2', 'CDC25B', 'PLCB4', 'FAM83D', 'CEP76', 'RBBP8', 'POLA1', 'NUP93', 'CTCF', 'CCP110', 'CEP152', 'OIP5', 'MYEF2', 'MCM4', 'KCTD9', 'RNASEH2A', 'SGTA', 'ASF1B', 'LIG1', 'H2AFV', 'GARS', 'NUDT1', 'RPA3', 'EZH2', 'RHEB', 'SMC3', 'UBE2S', 'RAD51C', 'GALK1', 'C1QBP', 'BLMH', 'TMEM97', 'GAR1', 'NEIL3', 'WHSC1', 'NCAPG', 'CCDC34', 'CCDC86', 'MAGOHB', 'FOXM1', 'GPN3', 'RAD51AP1', 'RFC5', 'NUP107', 'TIMELESS', 'GAPDH', 'CDCA3', 'ENO2', 'FBXO5', 'MCM3', 'BAG2', 'GMNN', 'TTK', 'HMGCS1', 'BRD8', 'KIF20A', 'LMNB1', 'NUP155', 'H2AFY', 'SMC4', 'ECT2', 'CENPA', 'FHL2', 'MSH6', 'DHCR24', 'LRRC42', 'WDR77', 'SRM', 'MAD2L2', 'UCHL5', 'TTF2', 'SLC2A1', 'EBNA1BP2', 'CDC20', 'STMN1', 'NEK2', 'CENPF', 'KIF14', 'CASP8AP2', 'CTNNAL1', 'WDR34', 'PHF19', 'ACYP1', 'EPCAM', 'HELLS', 'CENPL', 'ACAT2', 'MASTL', 'EXOSC8', 'TMPO', 'NFYB', 'NCAPH', 'MND1', 'KIF18A', 'GPSM2', 'GTF3A', 'MRPS2', 'CCDC18', 'CISD1', 'ZWINT', 'CIT', 'DDX39A', 'CENPK', 'CDK2', 'TUBA1B', 'STIL', 'HJURP', 'EXOSC9', 'CKS2', 'ACSL3', 'CSE1L', 'HIST1H1D', 'HIST1H1A', 'DEK', 'GOT2', 'MGME1', 'MCM8', 'HNRNPR', 'BCL2L12', 'TRAP1', 'DLGAP5', 'YEATS4', 'PKMYT1', 'SRD5A3', 'PAICS', 'HAT1', 'KNSTRN', 'DUT', 'E2F8', 'FAM64A', 'MIS18BP1', 'SGOL1', 'RPS4Y1', 'LDLR', 'TOMM40', 'ATP8B3', 'LSM4', 'DNMT1', 'GINS2', 'TUBG1', 'PSMC3IP', 'THOC6', 'TOP2A', 'ENOSF1', 'RAN', 'RPA1', 'PCNA', 'NASP', 'RFC3', 'SLF1', 'LRRCC1', 'CCNB1', 'PSRC1', 'TMEM106C', 'LDHA', 'DDB2', 'CDCA8', 'TPGS2', 'SLC43A3', 'C9orf40', 'TROAP', 'ESPL1', 'NTPCR', 'CKAP2', 'BORA', 'NUDT15', 'BRIP1', 'ACTL6A', 'TXN', 'ODF2', 'SMC2', 'CDK5RAP2', 'ANP32B', 'DSCC1', 'ARHGEF39', 'PPIL1', 'TCF19', 'NRM', 'GGH', 'BUD13', 'CTDSPL2', 'NUSAP1', 'KIF23', 'CASC5', 'CENPO', 'KIF11', 'CEP55', 'KIF20B', 'DNA2', 'BARD1', 'MNS1', 'ZGRF1', 'CENPE', 'HADH', 'SLC39A8', 'NEDD1', 'BRCA2', 'DIAPH3', 'PIF1', 'FANCI', 'TICRR', 'SAMD1', 'SAE1', 'PLK4', 'ITGB3BP', 'KIF2C', 'UCK2', 'NUF2', 'ANP32E', 'DTL', 'ILF2', 'C1orf35', 'HNRNPLL', 'CHAC2', 'POLR2D', 'CDCA7', 'FANCD2', 'CCNA2', 'SKP2', 'PRIM2', 'MMS22L', 'PM20D2', 'MTFR2', 'CDCA5', 'NCAPG2', 'PRPS1', 'GINS4', 'HAUS6', 'CEP78', 'GTF3C5', 'MKI67', 'IMMP1L', 'SSRP1', 'INCENP', 'CCDC15', 'CHEK1', 'DSN1', 'HIRIP3', 'HMGA2', 'TEX30', 'NCAPD3', 'CENPU', 'CENPJ', 'SPC25', 'SUV39H2', 'CENPH', 'CARHSP1', 'CLGN', 'CCSAP', 'BUB3', 'SLFN13', 'SKA1', 'SLC16A1', 'TMEM237', 'ADK', 'FAM122B', 'AIFM1', 'ATAD2', 'SASS6', 'BUB1B', 'CCNB2', 'PSMG3', 'FAIM', 'CDC25C', 'MIS18A', 'ATP5G1', 'IGF2BP1', 'CHAF1B', 'NAE1', 'CCDC58', 'C21orf58', 'ZNF714', 'GPATCH4', 'YDJC', 'RACGAP1', 'SPC24', 'POLR3K', 'CCNF', 'ASRGL1', 'USP1', 'KIAA1524', 'SGOL2', 'TOPBP1', 'KIF15', 'WDR43', 'RFC4', 'RPL39L', 'RNF168', 'H2AFZ', 'CDC25A', 'POC1A', 'HMGB2', 'MAD2L1', 'PTTG1', 'RAD21', 'PSIP1', 'GKAP1', 'MELK', 'SLC7A3', 'SKA3', 'LRR1', 'HPRT1', 'E2F7', 'JAM3', 'BRD7', 'CENPN', 'LEO1', 'WEE1', 'MCM7', 'CENPV', 'SAAL1', 'FAM111A', 'KIAA0101', 'PLK1', 'XRCC6BP1', 'SNRPD1', 'RRM1', 'CDT1', 'CHAF1A', 'C19orf48', 'NUDT8', 'PRDX2', 'TK1', 'SAC3D1', 'PBK', 'HIST1H1E', 'DTYMK', 'RFWD3', 'FEN1', 'ING2', 'CDKN2AIP', 'SNRNP48', 'USP39', 'CKAP2L', 'BUB1', 'ELP5', 'CDK1', 'CDCA4', 'SHCBP1', 'PGAM1', 'ESCO2', 'RHNO1', 'CTPS1', 'RRM2', 'THOP1', 'C5orf34', 'POP7', 'ZNF738', 'CKS1B', 'GMPPB', 'CNP', 'CBX2', 'C16orf91', 'EXO1', 'ZWILCH', 'ANKRD36C', 'UBE2C', 'CKAP5', 'CCNE2', 'CCDC14', 'RMI2', 'TOMM5', 'RUVBL1', 'ATAD5', 'LMNB2', 'TYMS', 'PXMP2', 'SHMT1', 'POLE', 'PAWR', 'PIDD1', 'GSG2', 'GEN1', 'RMI1', 'AURKB', 'RCC1', 'PPA1', 'HIST3H2A', 'MRPS23', 'RTKN2', 'IDH2', 'KPNA2', 'CEP97', 'GLRX5', 'SKA2', 'CEP57L1', 'PSMG1', 'SFXN4', 'ALYREF', 'TRAIP', 'LIN9', 'KMT5A', 'PGP', 'CMSS1', 'HIST2H2AC', 'HIST1H1B', 'KNTC1', 'CDCA2', 'H1FX', 'SIVA1', 'PARPBP', 'KIF18B', 'ERCC6L', 'PTMA', 'HSPA14', 'FANCA', 'ARHGAP11B', 'TUBB4B', 'CENPP', 'H2AFX', 'FAM72B', 'FAM221A', 'FAM111B', 'HN1', 'HMGB1', 'TUBB', 'IARS', 'ERI2', 'HIST1H4C', 'BLM', 'PRIM1', 'HMGN5', 'SVIP', 'TFDP1', 'TXNRD1', 'WDHD1', 'EIF1AY', 'ARHGAP11A', 'HMGN2', 'DCAF12', 'PRC1', 'CCDC167', 'CENPW', 'GPANK1', 'MZT1', 'C4orf46', 'KLHL23', 'MXD3', 'DNAJC9', 'IFRD2', 'CKLF', 'FANCG', 'DHFR', 'DLEU2', 'AP000251.3', 'KIFC1', 'CRNDE', 'C8orf88', 'PRKDC', 'BOP1', 'RP11-196G18.23', 'CTC-260E6.6', 'NCBP2-AS2', 'HIST1H3G', 'HIST1H2AH', 'UHRF1', 'RDM1', 'HIST1H2AM'],\n",
    "'T_exhaust' : 'GATA3,IKZF2,SUDS3,PDCD1,LAG3,HAVCR2,TNFRSF9,TOX,CD81,CREB3L2,SLAMF6,TNFSF14,CD28,CD160,BTLA,CD200,CD27'.split(','),\n",
    "'T_naive' : 'SELL,PECAM1,CCR7,CD27,CD28'.split(','), #45RA \n",
    "'T_centralM' : 'CCR7,CD27,CD28'.split(','), #45RO\n",
    "'T_effectorM' : 'CD27,CD28,PDCD1'.split(','), #45RO\n",
    "'T_EMRA' : 'PDCD1,B3GAT1,KLRG1'.split(','), #45RA\n",
    "'T_residentM' : 'CXCR6,CXCR3,CCR5,CCR9,CCR4,CCR8,CCR10'.split(','), #factors specific for guidance to each organ\n",
    "'MastOrILC2' : 'GATA2,IL4'.split(','),\n",
    "'eosinophil' : 'CCR3,SIGLEC8,ITGAM'.split(','),\n",
    "'mait' : 'SLC4A10,TRAV1-2'.split(','),\n",
    "'liverHepaticStellateCell' : 'LRAT'.split(','),\n",
    "'kidneyReninCells' : 'REN,NPY1R'.split(','),\n",
    "'humanB1' : 'SPN,MS4A1,CD27,IGHM,CD5'.split(','),\n",
    "'humanB1VDJ' : 'IGHV3-74,IGHV1-18,IGHV1-2,IGHJ6'.split(','),\n",
    "'mouseB1metabolism' : ['HK2','ACLY', 'ACAT1','ACACA','ACSL1','ACACB','CPT1B','PLIN3','SLC2A1','LDHA','SREBF2','HK1','PDLIM1'],\n",
    "'autoimmune' : 'TNFSF13B,IL10,IFIH1'.split(','),\n",
    "'microglia' : 'TREM2,TMEM119,GPR34'.split(','),\n",
    "'NK_CD56dim_mature' : 'FCGR3A,PRF1'.split(','),\n",
    "'NK_CD56bright_naive' : 'NCAM1,SELL,XCL1'.split(','),\n",
    "'B_naive' : 'CD37,IGHD'.split(','),\n",
    "'B_activated' : 'CD27,IGHM'.split(','),\n",
    "'Granulocyte' : 'S100A8,S100A9'.split(','),\n",
    "'macrophage_M1': 'IL1B,TNF,IL6,NOS2,CD86,CD40,FCGR3A'.split(','),\n",
    "'macrophage_M2': 'MRC1,ARG1,TREM2,CD163,IL10,IL4'.split(',')}\n"
   ]
  },
  {
   "cell_type": "code",
   "execution_count": null,
   "metadata": {
    "tags": []
   },
   "outputs": [],
   "source": [
    "cc_genes = genes['cc_genes'] # get cc genes from the list above \n",
    "# cc_genes"
   ]
  },
  {
   "cell_type": "code",
   "execution_count": null,
   "metadata": {
    "tags": []
   },
   "outputs": [],
   "source": [
    "def remove_selected_genes(adata,lst,remove_also_mt=True):\n",
    "    for g in lst:\n",
    "        adata = adata[:,~(adata.var_names==g)]\n",
    "    if remove_also_mt:\n",
    "        adata = adata[:,~(adata.var_names.str.startswith('MT-'))]\n",
    "    return adata\n",
    "\n",
    "AnnData_r = remove_selected_genes(AnnData_r,cc_genes,remove_also_mt=True)  "
   ]
  },
  {
   "cell_type": "code",
   "execution_count": null,
   "metadata": {
    "tags": []
   },
   "outputs": [],
   "source": [
    "# sanity check that there are not mt genes \n",
    "mtGenes = np.where(AnnData_r.var_names.str.startswith('MT-'))\n",
    "print(mtGenes)"
   ]
  },
  {
   "cell_type": "code",
   "execution_count": null,
   "metadata": {
    "tags": []
   },
   "outputs": [],
   "source": [
    "AnnData_r"
   ]
  },
  {
   "cell_type": "code",
   "execution_count": null,
   "metadata": {},
   "outputs": [],
   "source": [
    "del AnnData"
   ]
  },
  {
   "cell_type": "code",
   "execution_count": null,
   "metadata": {},
   "outputs": [],
   "source": [
    "AnnData_r.obs = AnnData_r.obs.astype({'batch': 'category'}) # fix categorial batch \n",
    "sc.pp.normalize_total(AnnData_r)\n",
    "sc.pp.log1p(AnnData_r)"
   ]
  },
  {
   "cell_type": "code",
   "execution_count": null,
   "metadata": {},
   "outputs": [],
   "source": [
    "sc.pp.highly_variable_genes(\n",
    "    AnnData_r,\n",
    "    n_top_genes=5000,\n",
    "    subset=True,\n",
    "    layer=\"counts\",\n",
    "    flavor=\"seurat_v3\",\n",
    "    batch_key=\"batch\",\n",
    "    span=1,\n",
    ")"
   ]
  },
  {
   "cell_type": "code",
   "execution_count": null,
   "metadata": {},
   "outputs": [],
   "source": [
    "sc.set_figure_params(figsize=[3,3])\n",
    "sc.pl.highly_variable_genes(AnnData_r)"
   ]
  },
  {
   "cell_type": "markdown",
   "metadata": {},
   "source": [
    "# Move to GPU instance for SCVI"
   ]
  },
  {
   "cell_type": "code",
   "execution_count": null,
   "metadata": {},
   "outputs": [],
   "source": [
    "warnings.resetwarnings\n",
    "scvi.model.SCVI.setup_anndata(AnnData_r, layer=\"counts\", batch_key=\"batch\", \\\n",
    "                        categorical_covariate_keys=[\"age_group\",'study','chemistry_simple','enrichment'])\n",
    "vae = scvi.model.SCVI(AnnData_r,n_layers=2, n_latent=30,)\n",
    "vae.train(max_epochs=300,batch_size=2000)"
   ]
  },
  {
   "cell_type": "code",
   "execution_count": null,
   "metadata": {},
   "outputs": [],
   "source": [
    "import matplotlib.pyplot as plt\n",
    "plt.plot(vae.history['elbo_train'][:]);\n",
    "plt.xlim(0, len(vae.history['elbo_train']));"
   ]
  },
  {
   "cell_type": "code",
   "execution_count": null,
   "metadata": {
    "tags": []
   },
   "outputs": [],
   "source": [
    "AnnData.obsm[\"X_scVI\"] = vae.get_latent_representation() # return batch corrections to original anndata\n",
    "sc.pp.neighbors(AnnData, use_rep=\"X_scVI\")"
   ]
  },
  {
   "cell_type": "code",
   "execution_count": null,
   "metadata": {},
   "outputs": [],
   "source": [
    "AnnData"
   ]
  },
  {
   "cell_type": "code",
   "execution_count": null,
   "metadata": {},
   "outputs": [],
   "source": [
    "sc.tl.umap(AnnData,min_dist=0.1)"
   ]
  },
  {
   "cell_type": "code",
   "execution_count": null,
   "metadata": {},
   "outputs": [],
   "source": [
    "sc.set_figure_params(dpi=200,fontsize=10,)\n",
    "sc.pl.umap(AnnData,color=['donor','pct_counts_mt','doublet_score','pct_counts_ribo'],size=0.5,cmap='jet',ncols=2,wspace=1)"
   ]
  },
  {
   "cell_type": "code",
   "execution_count": null,
   "metadata": {},
   "outputs": [],
   "source": [
    "sc.set_figure_params(dpi=300,fontsize=10,)\n",
    "sc.pl.umap(AnnData,color=['study','age_group','chemistry_simple','n_genes_by_counts'],size=0.1,cmap='jet',ncols=2,wspace=1)"
   ]
  },
  {
   "cell_type": "code",
   "execution_count": null,
   "metadata": {},
   "outputs": [],
   "source": [
    "sc.pl.umap(AnnData,color=['study'],groups='HTSA_Ghent',size=0.1,cmap='jet',ncols=2,wspace=1)"
   ]
  },
  {
   "cell_type": "code",
   "execution_count": null,
   "metadata": {
    "tags": []
   },
   "outputs": [],
   "source": [
    "sc.tl.louvain(AnnData, resolution=0.5, key_added=\"louvian_05\")\n",
    "sc.tl.leiden(AnnData, resolution=0.5, key_added=\"leiden_05\")\n",
    "sc.tl.leiden(AnnData, resolution=1, key_added=\"leiden_1\")\n",
    "sc.tl.leiden(AnnData, resolution=2, key_added=\"leiden_2\")"
   ]
  },
  {
   "cell_type": "code",
   "execution_count": null,
   "metadata": {
    "tags": []
   },
   "outputs": [],
   "source": [
    "sc.set_figure_params(dpi=200,fontsize=10,)\n",
    "sc.pl.umap(AnnData,color=['louvian_05','leiden_05'],size=0.5,cmap='jet',ncols=2,wspace=1)"
   ]
  },
  {
   "cell_type": "markdown",
   "metadata": {},
   "source": [
    "# Get annotations form previuos object "
   ]
  },
  {
   "cell_type": "code",
   "execution_count": null,
   "metadata": {},
   "outputs": [],
   "source": [
    "anno_to_map = ['annotation_level_4', 'park_2020_cell_type', 'panfetal_2022_cell_type', 'cell_type_level_4',\n",
    "               'cell_type_level_3', 'cell_type_level_2', 'cell_type_level_1', 'cell_type_level_0',\n",
    "                'pseudotime_nhood_vdj', 'prob_CD8+T_nhood_vdj', 'prob_CD4+T_nhood_vdj','anno_CITE_4v5']"
   ]
  },
  {
   "cell_type": "code",
   "execution_count": null,
   "metadata": {},
   "outputs": [],
   "source": [
    "# migrate annotations form old object \n",
    "for col in anno_to_map:\n",
    "    AnnData.obs[col] = AnnOld.obs[col]\n",
    "    AnnData.obs[col] = AnnData.obs[col].astype('category')\n",
    "    "
   ]
  },
  {
   "cell_type": "code",
   "execution_count": null,
   "metadata": {},
   "outputs": [],
   "source": [
    "AnnData.obs['anno_CITE_4v5'].value_counts()"
   ]
  },
  {
   "cell_type": "code",
   "execution_count": null,
   "metadata": {},
   "outputs": [],
   "source": [
    "sc.set_figure_params(dpi=200,figsize=[10,10],fontsize=6)\n",
    "sc.pl.umap(AnnData,color=['anno_CITE_4v5'],size=2,cmap='jet',ncols=2,wspace=0.5,legend_loc='on data')"
   ]
  }
 ],
 "metadata": {
  "kernelspec": {
   "display_name": "Python 3 (ipykernel)",
   "language": "python",
   "name": "python3"
  },
  "language_info": {
   "codemirror_mode": {
    "name": "ipython",
    "version": 3
   },
   "file_extension": ".py",
   "mimetype": "text/x-python",
   "name": "python",
   "nbconvert_exporter": "python",
   "pygments_lexer": "ipython3",
   "version": "3.9.7"
  }
 },
 "nbformat": 4,
 "nbformat_minor": 4
}
