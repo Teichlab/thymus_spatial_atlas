{
 "cells": [
  {
   "cell_type": "markdown",
   "id": "71db3ccb",
   "metadata": {},
   "source": [
    "### Load and plot resident cell types"
   ]
  },
  {
   "cell_type": "code",
   "execution_count": null,
   "id": "1b99b0dc",
   "metadata": {},
   "outputs": [],
   "source": [
    "import scanpy as sc\n",
    "import numpy as np\n",
    "import pandas as pd\n",
    "import scvi\n",
    "import seaborn as sns\n",
    "import os,sys\n",
    "import anndata\n",
    "import scvi\n",
    "import anndata as ad\n",
    "\n",
    "from IPython.core.interactiveshell import InteractiveShell\n",
    "InteractiveShell.ast_node_interactivity = \"all\" # to show output from all the lines in a cells\n",
    "pd.set_option('display.max_column',None) # display all the columns in pandas\n",
    "pd.options.display.max_rows = 100\n",
    "\n",
    "from datetime import date\n",
    "today = str(date.today())\n",
    "sc.logging.print_header()"
   ]
  },
  {
   "cell_type": "code",
   "execution_count": null,
   "id": "7693ffce",
   "metadata": {},
   "outputs": [],
   "source": [
    "import matplotlib.pyplot as plt\n",
    "from matplotlib import font_manager\n",
    "font_manager.fontManager.addfont(\"/nfs/team205/ny1/ThymusSpatialAtlas/software/Arial.ttf\")\n",
    "print(font_manager.findfont(\"Arial\"))\n",
    "from matplotlib import rcParams\n",
    "plt.rcParams[\"font.sans-serif\"] = [\"Arial\"]\n",
    "plt.rcParams[\"pdf.fonttype\"] = 42\n",
    "sc.settings.set_figure_params(dpi = 150, color_map = 'RdPu', dpi_save = 300, vector_friendly = True, format = 'pdf')"
   ]
  },
  {
   "cell_type": "code",
   "execution_count": null,
   "id": "b24a6ddc",
   "metadata": {},
   "outputs": [],
   "source": [
    "#model_folder = '/nfs/team205/ny1/ThymusSpatialAtlas/Figure4/scvi_models/'\n",
    "figures = '/nfs/team205/ny1/ThymusSpatialAtlas/Figure_4_nat/figures/'\n",
    "results = '/nfs/team205/ny1/ThymusSpatialAtlas/Figure_4_nat/'"
   ]
  },
  {
   "cell_type": "code",
   "execution_count": null,
   "id": "538fa6ac",
   "metadata": {},
   "outputs": [],
   "source": [
    "clean_folder = '/nfs/team205/ny1/ThymusSpatialAtlas/Figure_1_nat/clean'"
   ]
  },
  {
   "cell_type": "code",
   "execution_count": null,
   "id": "41f7cdfa",
   "metadata": {},
   "outputs": [],
   "source": [
    "major_mrkrs = ['PTPRC', 'CD3G', \n",
    "               'HOXA9', \n",
    "               'HES1', #DN\n",
    "               'RORC', #DP\n",
    "               'CCR9',\n",
    "              'PDCD1', #CD8aa\n",
    "              'CD8A', 'CD8B', \n",
    "              'CD4', 'CD40LG', \n",
    "              'CRTAM', 'ANXA1', #memory\n",
    "             'FOXP3', 'DHRS3', \n",
    "               'TRDC', #gama-delta \n",
    "              'EOMES', 'KLRD1', # NK cells\n",
    "              'TNFSF11', # ILC\n",
    "              'CD19', 'VPREB1', # pre-pro B cells\n",
    "              'IGHD', 'IGHA1', 'IGHG1', \n",
    "              'CLEC9A', 'CLEC10A', \n",
    "              'LAMP3', \n",
    "             'LILRA4','S100A9', 'C1QA', 'TPSB2', 'ITGA2B', 'GYPA', \n",
    "              'PDGFRA', 'COLEC11', 'FBN1', \n",
    "              'RGS5', 'CDH5', \n",
    "               'LYVE1', 'EPCAM', 'PSMB11', 'DLK2', 'KRT14', \n",
    "               'CCL19', 'AIRE', 'KRT1', 'POU2F3',\n",
    "               'MYOD1', 'NEUROG1']"
   ]
  },
  {
   "cell_type": "code",
   "execution_count": null,
   "id": "e371d14f",
   "metadata": {},
   "outputs": [],
   "source": [
    "def run_scvi2(adata, batch_hv=\"age_group\", batch_scvi=\"sample\", \\\n",
    "             cat_cov_scvi=[\"DonorID\", \"10X_version\", \"Sex\", \"Age_group\"], cont_cov_scvi=[\"percent_mito\"], \\\n",
    "             include_genes=[], exclude_cc_genes=True, exclude_mt_genes=True, \n",
    "             exclude_vdjgenes = True, remove_cite = False, hvg = 3000, max_epochs = 350, vae_name=\"\", **kwargs):\n",
    "    adata_scvi = sc.AnnData(X=adata.layers['counts'].copy(), obs=adata.obs.copy(), var=adata.var.copy())\n",
    "    #adata_scvi = adata_scvi[:,0:-150] # remove cite genes\n",
    "    # adata_scvi.layers[\"counts\"] = adata_scvi.X.copy()\n",
    "    # sc.pp.normalize_total(adata_scvi, target_sum=1e4)\n",
    "    # sc.pp.log1p(adata_scvi)\n",
    "    # keep full dimension safe\n",
    "    #    sc.pp.highly_variable_genes(adata_scvi, flavor=\"seurat_v3\", n_top_genes=10000, layer=\"counts\",\\\n",
    "    #                                batch_key=\"Age_group\")\n",
    "    if remove_cite:\n",
    "        print('removing CITEseq genes pre SCVI')\n",
    "        adata_scvi = adata_scvi[:,~adata_scvi.var['cite']].copy() # remove cite genes\n",
    "    gene_list = adata_scvi.var_names.tolist()\n",
    "    if exclude_cc_genes:\n",
    "        cell_cycle_genes = [x.strip() for x in open('/nfs/team205/vk8/processed_data/regev_lab_cell_cycle_genes.txt')]\n",
    "        [gene_list.remove(i) for i in cell_cycle_genes if i in gene_list]\n",
    "    if exclude_mt_genes:\n",
    "        mt_genes = adata.var_names[adata.var_names.str.startswith('MT-')]\n",
    "        [gene_list.remove(i) for i in mt_genes if i in gene_list]\n",
    "    if exclude_vdjgenes:\n",
    "        import re\n",
    "        [gene_list.remove(i) for i in gene_list if re.search('^TR[AB][VDJ]|^IG[HKL][VDJC]', i)]\n",
    "    \n",
    "    print('Removed excluded genes')\n",
    "    adata_scvi = adata_scvi[:,gene_list].copy()\n",
    "    sc.pp.highly_variable_genes(adata_scvi, flavor=\"seurat_v3\", n_top_genes=hvg, batch_key=batch_hv)\n",
    "    selected_genes = list(set(adata_scvi.var.loc[adata_scvi.var['highly_variable']].index.tolist() + include_genes))\n",
    "    adata_scvi = adata_scvi[:, selected_genes].copy()\n",
    "    print(f'Highly variable genes selected in total {adata_scvi.shape}')\n",
    "    scvi.model.SCVI.setup_anndata(adata_scvi, batch_key=batch_scvi,\n",
    "                                  categorical_covariate_keys=cat_cov_scvi,\n",
    "                                  continuous_covariate_keys=cont_cov_scvi)\n",
    "    scvi_kwargs = {k: v for k, v in kwargs.items() if k in scvi.model.SCVI.__init__.__code__.co_varnames}\n",
    "    vae = scvi.model.SCVI(adata_scvi, **scvi_kwargs)\n",
    "   # vae = scvi.model.SCVI(adata_scvi,n_layers=2, n_latent=30)\n",
    "    train_kwargs = {k: v for k, v in kwargs.items() if k in vae.train.__code__.co_varnames}\n",
    "    vae.train(**train_kwargs)\n",
    "    # adata_scvi.obsm[\"X_scVI\"] = vae.get_latent_representation()\n",
    "    #   adata_raw_scvi = adata.copy()\n",
    "    print('scvi model trained')\n",
    "    adata_scvi.obsm[\"X_scVI\"] = vae.get_latent_representation()\n",
    "    sc.pp.neighbors(adata_scvi, use_rep=\"X_scVI\")\n",
    "    sc.tl.leiden(adata_scvi, resolution = 1, key_added = \"leiden_r1.0\")\n",
    "    sc.tl.leiden(adata_scvi, resolution = 1.2, key_added = \"leiden_r1.2\")\n",
    "    sc.tl.leiden(adata_scvi, resolution = 1.4, key_added = \"leiden_r1.4\")\n",
    "    sc.tl.leiden(adata_scvi, resolution = 1.6, key_added = \"leiden_r1.6\")\n",
    "    #   sc.tl.umap(adata_scvi)\n",
    "    sc.tl.umap(adata_scvi)\n",
    "    print('DR and clustering performed')\n",
    "    adata_raw_scvi = adata.copy()\n",
    "    adata_raw_scvi.obsm['X_scVI'] = adata_scvi.obsm['X_scVI'].copy()\n",
    "    adata_raw_scvi.obsm['X_umap'] = adata_scvi.obsm['X_umap'].copy()\n",
    "    adata_raw_scvi.obsp = adata_scvi.obsp.copy()\n",
    "    adata_raw_scvi.uns = adata_scvi.uns.copy()\n",
    "    adata_raw_scvi.obs[[\"leiden_r1.0\", \"leiden_r1.2\", \"leiden_r1.4\", \"leiden_r1.6\"]] = adata_scvi.obs[[\"leiden_r1.0\", \"leiden_r1.2\", \"leiden_r1.4\", \"leiden_r1.6\"]].copy()\n",
    "    sc.pp.normalize_total(adata_raw_scvi, target_sum = 1e4)\n",
    "    sc.pp.log1p(adata_raw_scvi)\n",
    "    sc.pl.umap(\n",
    "        adata_raw_scvi,\n",
    "        color=['cell_type_level_4'], legend_loc = \"on data\", legend_fontsize = 4, frameon=False,\n",
    "        ncols=2,\n",
    "    )\n",
    "    sc.pl.umap(\n",
    "        adata_raw_scvi,\n",
    "        color=['age_group', 'sex', 'donor'], frameon = False, ncols = 2)\n",
    "    sc.pl.umap(\n",
    "        adata_raw_scvi,\n",
    "        color=['study', 'chemistry_simple', 'doublet_score'])\n",
    "    #cat_cov_str = \"-\".join(cat_cov_scvi)\n",
    "    #    vae.save(f\"/nfs/team205/vk8/scripts/scvi/Results/scvi_models/{vae_name}_scvi_batch{batch_scvi}_cat{cat_cov_str}_cont{cont_cov_scvi}_10000hvgenes_{today}\", save_anndata = True)\n",
    "    results = {}\n",
    "    results['data'] = adata_raw_scvi\n",
    "    results['vae'] = vae\n",
    "    return (results)"
   ]
  },
  {
   "cell_type": "code",
   "execution_count": null,
   "id": "38bf9009",
   "metadata": {},
   "outputs": [],
   "source": [
    "smc_mrkrs = ['ACTA2', 'PDGFRB', 'MYLK', 'LMOD1', 'RGS5', #pan mural\n",
    "             'MYH11', 'ACTG2', 'SORBS2', #smc\n",
    "             'RERGL', 'CASQ2', 'KCNAB1', #art smc\n",
    "            'DCN', 'ABCC9', 'KCNJ8', 'AGT', 'CYGB', #pericye\n",
    "             'FBLN1', 'APOD', 'CD68','CFD', # remodeling\n",
    "             'STEAP4', 'FGF7', 'NEURL1B', # ven pericyte\n",
    "            'MKI67']\n",
    "smc_mrkrs2 = ['ACTA2', 'MYH11', 'RERGL', 'CASQ2',\n",
    "'RGS5', 'PDGFRB','ABCC9', 'KCNJ8',\n",
    " 'CCL19', 'CCL21', 'COL1A1', 'ELN', \n",
    "'MKI67', 'TOP2A']"
   ]
  },
  {
   "cell_type": "code",
   "execution_count": null,
   "id": "af278bed",
   "metadata": {},
   "outputs": [],
   "source": [
    "def population_plots(adata_scvi, mrkrs_dict, save_name, figures, cat_order, anno = 'cell_type_level_4_upd', \n",
    "                     anno_cov = ['study', 'sex', 'age_group', 'chemistry_simple']):\n",
    "    adata_scvi.obs[anno] = adata_scvi.obs[anno].cat.reorder_categories(cat_order).copy()\n",
    "    if save_name: \n",
    "        sc.pl.umap(adata_scvi, color = anno, legend_loc = \"on data\", legend_fontsize = 5, \n",
    "                   frameon = False, save = f\"{save_name}_scvi_celltype.pdf\")\n",
    "        sc.pl.umap(adata_scvi, color = anno_cov, wspace = 0.3, frameon = False, \n",
    "                   save = f\"{save_name}_scvi_covariates.pdf\")\n",
    "        dp = sc.pl.dotplot(adata_scvi, groupby = anno, var_names = mrkrs_dict, \n",
    "                          standard_scale = \"var\", return_fig = True)\n",
    "        dp = dp.add_totals().style(dot_edge_color='black', dot_edge_lw=0.5, cmap = \"Reds\")\n",
    "        # Save the figure\n",
    "        dp.savefig(f\"{figures}{save_name}_HTSA_scvi_mrkrs.pdf\")\n",
    "    else:\n",
    "        sc.pl.umap(adata_scvi, color = anno, legend_loc = \"on data\", legend_fontsize = 5, \n",
    "                   frameon = False)\n",
    "        sc.pl.umap(adata_scvi, color = anno_cov, wspace = 0.3, frameon = False)\n",
    "        dp = sc.pl.dotplot(adata_scvi, groupby = anno, var_names = mrkrs_dict, \n",
    "                          standard_scale = \"var\", return_fig = True)\n",
    "        dp = dp.add_totals().style(dot_edge_color='black', dot_edge_lw=0.5, cmap = \"Reds\")\n",
    "        # Save the figure\n",
    "        dp.show()"
   ]
  },
  {
   "cell_type": "markdown",
   "id": "473a9725",
   "metadata": {},
   "source": [
    "### Analyze SMCs"
   ]
  },
  {
   "cell_type": "code",
   "execution_count": null,
   "id": "09d10089",
   "metadata": {},
   "outputs": [],
   "source": [
    "adata_all = sc.read(f\"{clean_folder}/adata_full_rev_4_clean.h5ad\")"
   ]
  },
  {
   "cell_type": "code",
   "execution_count": null,
   "id": "26db5f48",
   "metadata": {},
   "outputs": [],
   "source": [
    "smc_ordered = ['SMC', 'Pericyte', 'Pericyte_CCL19', 'Pericyte_COL1A1', 'ProlifPericyte']"
   ]
  },
  {
   "cell_type": "code",
   "execution_count": null,
   "id": "ea06f99f",
   "metadata": {},
   "outputs": [],
   "source": [
    "adata_smc = adata_all[adata_all.obs['cell_type_level_4_explore'].isin(smc_ordered),:].copy()"
   ]
  },
  {
   "cell_type": "code",
   "execution_count": null,
   "id": "86dabf65",
   "metadata": {
    "scrolled": true
   },
   "outputs": [],
   "source": [
    "adata_smc.obs['age_group'].value_counts()"
   ]
  },
  {
   "cell_type": "code",
   "execution_count": null,
   "id": "2ac91b95",
   "metadata": {
    "scrolled": true
   },
   "outputs": [],
   "source": [
    "adata_smc.obs['sex'].value_counts()"
   ]
  },
  {
   "cell_type": "code",
   "execution_count": null,
   "id": "984cccc9",
   "metadata": {},
   "outputs": [],
   "source": [
    "#adata_fbs.obs['age_group2'] = adata_fbs.obs['age_group'].apply(lambda x: 'prenatal' if x == 'fetal' else 'postnatal') \n",
    "samples = adata_smc.obs['sample'].value_counts().index[adata_smc.obs['sample'].value_counts()>5].tolist()"
   ]
  },
  {
   "cell_type": "code",
   "execution_count": null,
   "id": "a3bda40b",
   "metadata": {
    "scrolled": true
   },
   "outputs": [],
   "source": [
    "adata_smc.obs['sample'].value_counts()>5"
   ]
  },
  {
   "cell_type": "code",
   "execution_count": null,
   "id": "51f46625",
   "metadata": {},
   "outputs": [],
   "source": [
    "adata_smc.layers['counts'] = adata_smc.X.copy()"
   ]
  },
  {
   "cell_type": "markdown",
   "id": "45c17471",
   "metadata": {},
   "source": [
    "### note study is excluded from the covariates"
   ]
  },
  {
   "cell_type": "code",
   "execution_count": null,
   "id": "69be8bff",
   "metadata": {
    "scrolled": false
   },
   "outputs": [],
   "source": [
    "adata_smc_scvi_run = run_scvi2(adata_smc[adata_smc.obs['sample'].isin(samples),],  batch_hv=\"age_group\", hvg = 5000, batch_scvi='sample', \n",
    "          cat_cov_scvi=['chemistry_simple','age_group','donor', 'sex'], cont_cov_scvi = None, include_genes=[], \n",
    "          exclude_cc_genes=True, exclude_vdjgenes=True, exclude_mt_genes = True, \n",
    "          n_layers=2, n_latent=30, max_epochs=350, batch_size=2000)"
   ]
  },
  {
   "cell_type": "code",
   "execution_count": null,
   "id": "6e1bb970",
   "metadata": {},
   "outputs": [],
   "source": [
    "adata_smc_scvi = adata_smc_scvi_run['data'].copy()"
   ]
  },
  {
   "cell_type": "code",
   "execution_count": null,
   "id": "8d72500f",
   "metadata": {
    "scrolled": false
   },
   "outputs": [],
   "source": [
    "sc.pl.umap(adata_smc_scvi, color = major_mrkrs)"
   ]
  },
  {
   "cell_type": "code",
   "execution_count": null,
   "id": "fca76908",
   "metadata": {
    "scrolled": false
   },
   "outputs": [],
   "source": [
    "sc.pl.umap(adata_smc_scvi, color = smc_mrkrs)"
   ]
  },
  {
   "cell_type": "code",
   "execution_count": null,
   "id": "e5920ab5",
   "metadata": {},
   "outputs": [],
   "source": [
    "smc_mrkrs_dict = {'smc': ['ACTA2', 'MYH11', 'RERGL', 'CASQ2'],\n",
    "                  'pericyte': ['RGS5', 'PDGFRB','ABCC9', 'KCNJ8'],\n",
    "                   'cytokine subtype': ['CCL19', 'CCL21'],\n",
    "                  'large vessel': ['COL1A1', 'ELN', 'SULF1'],\n",
    "                   'prolif': ['MKI67', 'TOP2A'],\n",
    "                  }"
   ]
  },
  {
   "cell_type": "code",
   "execution_count": null,
   "id": "2d4859ab",
   "metadata": {
    "scrolled": false
   },
   "outputs": [],
   "source": [
    "population_plots(adata_smc_scvi, mrkrs_dict = smc_mrkrs_dict, save_name = None, \n",
    "                 figures = '/nfs/team205/ny1/ThymusSpatialAtlas/Figure_4_nat', \n",
    "                 cat_order = smc_ordered, anno = 'cell_type_level_4_explore', \n",
    "                     anno_cov = ['study', 'sex', 'age_group', 'chemistry_simple'])"
   ]
  },
  {
   "cell_type": "code",
   "execution_count": null,
   "id": "aa4bc645",
   "metadata": {},
   "outputs": [],
   "source": [
    "adata_smc_scvi.write(f'{clean_folder}/smc_scvi_updated_{today}.h5ad')\n",
    "\n",
    "adata_smc_scvi_run['vae'].save(f'{clean_folder}/models/smc_scvi_updated_{today}.h5ad')"
   ]
  },
  {
   "cell_type": "code",
   "execution_count": null,
   "id": "db3f5854",
   "metadata": {},
   "outputs": [],
   "source": [
    "clean_folder"
   ]
  },
  {
   "cell_type": "code",
   "execution_count": null,
   "id": "92d602d7",
   "metadata": {},
   "outputs": [],
   "source": []
  }
 ],
 "metadata": {
  "kernelspec": {
   "display_name": "Python [conda env:scvi-env3]",
   "language": "python",
   "name": "conda-env-scvi-env3-py"
  },
  "language_info": {
   "codemirror_mode": {
    "name": "ipython",
    "version": 3
   },
   "file_extension": ".py",
   "mimetype": "text/x-python",
   "name": "python",
   "nbconvert_exporter": "python",
   "pygments_lexer": "ipython3",
   "version": "3.10.0"
  }
 },
 "nbformat": 4,
 "nbformat_minor": 5
}
