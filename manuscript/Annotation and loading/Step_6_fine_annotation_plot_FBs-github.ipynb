{
 "cells": [
  {
   "cell_type": "markdown",
   "id": "71db3ccb",
   "metadata": {},
   "source": [
    "### Load and plot resident cell types"
   ]
  },
  {
   "cell_type": "code",
   "execution_count": null,
   "id": "1b99b0dc",
   "metadata": {},
   "outputs": [],
   "source": [
    "import scanpy as sc\n",
    "import numpy as np\n",
    "import pandas as pd\n",
    "import scvi\n",
    "import seaborn as sns\n",
    "import os,sys\n",
    "import anndata\n",
    "import scvi\n",
    "import anndata as ad\n",
    "\n",
    "from IPython.core.interactiveshell import InteractiveShell\n",
    "InteractiveShell.ast_node_interactivity = \"all\" # to show output from all the lines in a cells\n",
    "pd.set_option('display.max_column',None) # display all the columns in pandas\n",
    "pd.options.display.max_rows = 100\n",
    "\n",
    "from datetime import date\n",
    "today = str(date.today())\n",
    "sc.logging.print_header()\n",
    "## Add this line so the text on pdf is correctly recognised!!!\n",
    "from matplotlib import rcParams\n",
    "rcParams['pdf.fonttype'] = 42\n",
    "sc.settings.set_figure_params(dpi = 150, color_map = 'RdPu', dpi_save = 300, vector_friendly = True, format = 'pdf')"
   ]
  },
  {
   "cell_type": "code",
   "execution_count": null,
   "id": "b24a6ddc",
   "metadata": {},
   "outputs": [],
   "source": [
    "#model_folder = '/nfs/team205/ny1/ThymusSpatialAtlas/Figure4/scvi_models/'\n",
    "figures = '/nfs/team205/ny1/ThymusSpatialAtlas/Figure_4_nat/figures/'\n",
    "results = '/nfs/team205/ny1/ThymusSpatialAtlas/Figure_4_nat/'"
   ]
  },
  {
   "cell_type": "code",
   "execution_count": null,
   "id": "538fa6ac",
   "metadata": {},
   "outputs": [],
   "source": [
    "clean_folder = '/nfs/team205/ny1/ThymusSpatialAtlas/Figure_1_nat/clean'"
   ]
  },
  {
   "cell_type": "code",
   "execution_count": null,
   "id": "41f7cdfa",
   "metadata": {},
   "outputs": [],
   "source": [
    "major_mrkrs = ['PTPRC', 'CD3G', \n",
    "               'HOXA9', \n",
    "               'HES1', #DN\n",
    "               'RORC', #DP\n",
    "               'CCR9',\n",
    "              'PDCD1', #CD8aa\n",
    "              'CD8A', 'CD8B', \n",
    "              'CD4', 'CD40LG', \n",
    "              'CRTAM', 'ANXA1', #memory\n",
    "             'FOXP3', 'DHRS3', \n",
    "               'TRDC', #gama-delta \n",
    "              'EOMES', 'KLRD1', # NK cells\n",
    "              'TNFSF11', # ILC\n",
    "              'CD19', 'VPREB1', # pre-pro B cells\n",
    "              'IGHD', 'IGHA1', 'IGHG1', \n",
    "              'CLEC9A', 'CLEC10A', \n",
    "              'LAMP3', \n",
    "             'LILRA4','S100A9', 'C1QA', 'TPSB2', 'ITGA2B', 'GYPA', \n",
    "              'PDGFRA', 'COLEC11', 'FBN1', \n",
    "              'RGS5', 'CDH5', \n",
    "               'LYVE1', 'EPCAM', 'PSMB11', 'DLK2', 'KRT14', \n",
    "               'CCL19', 'AIRE', 'KRT1', 'POU2F3',\n",
    "               'MYOD1', 'NEUROG1']"
   ]
  },
  {
   "cell_type": "code",
   "execution_count": null,
   "id": "e371d14f",
   "metadata": {},
   "outputs": [],
   "source": [
    "def run_scvi2(adata, batch_hv=\"age_group\", batch_scvi=\"sample\", \\\n",
    "             cat_cov_scvi=[\"DonorID\", \"10X_version\", \"Sex\", \"Age_group\"], cont_cov_scvi=[\"percent_mito\"], \\\n",
    "             include_genes=[], exclude_cc_genes=True, exclude_mt_genes=True, \n",
    "             exclude_vdjgenes = True, remove_cite = False, hvg = 3000, max_epochs = 350, vae_name=\"\", **kwargs):\n",
    "    adata_scvi = sc.AnnData(X=adata.layers['counts'].copy(), obs=adata.obs.copy(), var=adata.var.copy())\n",
    "    #adata_scvi = adata_scvi[:,0:-150] # remove cite genes\n",
    "    # adata_scvi.layers[\"counts\"] = adata_scvi.X.copy()\n",
    "    # sc.pp.normalize_total(adata_scvi, target_sum=1e4)\n",
    "    # sc.pp.log1p(adata_scvi)\n",
    "    # keep full dimension safe\n",
    "    #    sc.pp.highly_variable_genes(adata_scvi, flavor=\"seurat_v3\", n_top_genes=10000, layer=\"counts\",\\\n",
    "    #                                batch_key=\"Age_group\")\n",
    "    if remove_cite:\n",
    "        print('removing CITEseq genes pre SCVI')\n",
    "        adata_scvi = adata_scvi[:,~adata_scvi.var['cite']].copy() # remove cite genes\n",
    "    gene_list = adata_scvi.var_names.tolist()\n",
    "    if exclude_cc_genes:\n",
    "        cell_cycle_genes = [x.strip() for x in open('/nfs/team205/vk8/processed_data/regev_lab_cell_cycle_genes.txt')]\n",
    "        [gene_list.remove(i) for i in cell_cycle_genes if i in gene_list]\n",
    "    if exclude_mt_genes:\n",
    "        mt_genes = adata.var_names[adata.var_names.str.startswith('MT-')]\n",
    "        [gene_list.remove(i) for i in mt_genes if i in gene_list]\n",
    "    if exclude_vdjgenes:\n",
    "        import re\n",
    "        [gene_list.remove(i) for i in gene_list if re.search('^TR[AB][VDJ]|^IG[HKL][VDJC]', i)]\n",
    "    \n",
    "    print('Removed excluded genes')\n",
    "    adata_scvi = adata_scvi[:,gene_list].copy()\n",
    "    sc.pp.highly_variable_genes(adata_scvi, flavor=\"seurat_v3\", n_top_genes=hvg, batch_key=batch_hv)\n",
    "    selected_genes = list(set(adata_scvi.var.loc[adata_scvi.var['highly_variable']].index.tolist() + include_genes))\n",
    "    adata_scvi = adata_scvi[:, selected_genes].copy()\n",
    "    print(f'Highly variable genes selected in total {adata_scvi.shape}')\n",
    "    scvi.model.SCVI.setup_anndata(adata_scvi, batch_key=batch_scvi,\n",
    "                                  categorical_covariate_keys=cat_cov_scvi,\n",
    "                                  continuous_covariate_keys=cont_cov_scvi)\n",
    "    scvi_kwargs = {k: v for k, v in kwargs.items() if k in scvi.model.SCVI.__init__.__code__.co_varnames}\n",
    "    vae = scvi.model.SCVI(adata_scvi, **scvi_kwargs)\n",
    "   # vae = scvi.model.SCVI(adata_scvi,n_layers=2, n_latent=30)\n",
    "    train_kwargs = {k: v for k, v in kwargs.items() if k in vae.train.__code__.co_varnames}\n",
    "    vae.train(**train_kwargs)\n",
    "    # adata_scvi.obsm[\"X_scVI\"] = vae.get_latent_representation()\n",
    "    #   adata_raw_scvi = adata.copy()\n",
    "    print('scvi model trained')\n",
    "    adata_scvi.obsm[\"X_scVI\"] = vae.get_latent_representation()\n",
    "    sc.pp.neighbors(adata_scvi, use_rep=\"X_scVI\")\n",
    "    sc.tl.leiden(adata_scvi, resolution = 1, key_added = \"leiden_r1.0\")\n",
    "    sc.tl.leiden(adata_scvi, resolution = 1.2, key_added = \"leiden_r1.2\")\n",
    "    sc.tl.leiden(adata_scvi, resolution = 1.4, key_added = \"leiden_r1.4\")\n",
    "    sc.tl.leiden(adata_scvi, resolution = 1.6, key_added = \"leiden_r1.6\")\n",
    "    #   sc.tl.umap(adata_scvi)\n",
    "    sc.tl.umap(adata_scvi)\n",
    "    print('DR and clustering performed')\n",
    "    adata_raw_scvi = adata.copy()\n",
    "    adata_raw_scvi.obsm['X_scVI'] = adata_scvi.obsm['X_scVI'].copy()\n",
    "    adata_raw_scvi.obsm['X_umap'] = adata_scvi.obsm['X_umap'].copy()\n",
    "    adata_raw_scvi.obsp = adata_scvi.obsp.copy()\n",
    "    adata_raw_scvi.uns = adata_scvi.uns.copy()\n",
    "    adata_raw_scvi.obs[[\"leiden_r1.0\", \"leiden_r1.2\", \"leiden_r1.4\", \"leiden_r1.6\"]] = adata_scvi.obs[[\"leiden_r1.0\", \"leiden_r1.2\", \"leiden_r1.4\", \"leiden_r1.6\"]].copy()\n",
    "    sc.pp.normalize_total(adata_raw_scvi, target_sum = 1e4)\n",
    "    sc.pp.log1p(adata_raw_scvi)\n",
    "    sc.pl.umap(\n",
    "        adata_raw_scvi,\n",
    "        color=['cell_type_level_4'], legend_loc = \"on data\", legend_fontsize = 4, frameon=False,\n",
    "        ncols=2,\n",
    "    )\n",
    "    sc.pl.umap(\n",
    "        adata_raw_scvi,\n",
    "        color=['age_group', 'sex', 'donor'], frameon = False, ncols = 2)\n",
    "    sc.pl.umap(\n",
    "        adata_raw_scvi,\n",
    "        color=['study', 'chemistry_simple', 'doublet_score'])\n",
    "    #cat_cov_str = \"-\".join(cat_cov_scvi)\n",
    "    #    vae.save(f\"/nfs/team205/vk8/scripts/scvi/Results/scvi_models/{vae_name}_scvi_batch{batch_scvi}_cat{cat_cov_str}_cont{cont_cov_scvi}_10000hvgenes_{today}\", save_anndata = True)\n",
    "    results = {}\n",
    "    results['data'] = adata_raw_scvi\n",
    "    results['vae'] = vae\n",
    "    return (results)"
   ]
  },
  {
   "cell_type": "code",
   "execution_count": null,
   "id": "38bf9009",
   "metadata": {},
   "outputs": [],
   "source": [
    "markers_fb2 = ['PDGFRA','PDGFRB', \"VIM\",\n",
    "              'COLEC11', 'ALDH1A2', 'GDF10', 'MKI67', # Perilobular fibroblasts (or Parenhcymal)\n",
    "               'FBN1', 'PI16', 'MFAP5', 'SEMA3C', #'SEMA3D','DPP4',  # Capsular fibroblasts (or Interlobular, vasc associated)\n",
    "              'COL9A3', 'COL13A1', 'WIF1', 'DHRS3', # Fetal-specific perilobular firboblasts\n",
    "              'CCL19','IL33','TNFSF10', 'CXCL9', 'CXCL10', 'RGS5', #putative medullary fibroblasts\n",
    "               'HLA-DRA', 'SBSPON', 'HEY1', 'LTBP1', # MHCIIhigh medullary firboblasts\n",
    "             'CCL21', 'FDCSP', 'CXCL13', #fetal specific fibro (med)\n",
    "             'TNNT1', 'NKX2-5', 'KRT8',  #fetal specific fibro (cardiac?TEC?)\n",
    "              'CES1', 'RSPO2' #fetal specific fibro (mesenchyme? unclear?)\n",
    "              ]"
   ]
  },
  {
   "cell_type": "code",
   "execution_count": null,
   "id": "962444fd",
   "metadata": {},
   "outputs": [],
   "source": [
    "markers_dict = {}"
   ]
  },
  {
   "cell_type": "markdown",
   "id": "19a5dce6",
   "metadata": {},
   "source": [
    "## Load Fibros"
   ]
  },
  {
   "cell_type": "code",
   "execution_count": null,
   "id": "1509fb04",
   "metadata": {},
   "outputs": [],
   "source": [
    "adata_all = sc.read(f\"{clean_folder}/adata_full_rev_4_clean.h5ad\")"
   ]
  },
  {
   "cell_type": "code",
   "execution_count": null,
   "id": "64d5445a",
   "metadata": {},
   "outputs": [],
   "source": []
  },
  {
   "cell_type": "code",
   "execution_count": null,
   "id": "ce9459a6",
   "metadata": {},
   "outputs": [],
   "source": [
    "fbs = [i for i in adata_all.obs['cell_type_level_4_explore'].cat.categories if 'FB' in i or 'Fb' in i]"
   ]
  },
  {
   "cell_type": "code",
   "execution_count": null,
   "id": "e26896dd",
   "metadata": {},
   "outputs": [],
   "source": [
    "adata_fbs = adata_all[adata_all.obs['cell_type_level_4_explore'].isin(fbs),:].copy()"
   ]
  },
  {
   "cell_type": "code",
   "execution_count": null,
   "id": "18123031",
   "metadata": {
    "scrolled": true
   },
   "outputs": [],
   "source": [
    "adata_fbs.obs['age_group'].value_counts()"
   ]
  },
  {
   "cell_type": "code",
   "execution_count": null,
   "id": "1823611b",
   "metadata": {
    "scrolled": true
   },
   "outputs": [],
   "source": [
    "adata_fbs.obs['sex'].value_counts()"
   ]
  },
  {
   "cell_type": "code",
   "execution_count": null,
   "id": "11c8694d",
   "metadata": {},
   "outputs": [],
   "source": [
    "#adata_fbs.obs['age_group2'] = adata_fbs.obs['age_group'].apply(lambda x: 'prenatal' if x == 'fetal' else 'postnatal') \n",
    "samples = adata_fbs.obs['sample'].value_counts().index[adata_fbs.obs['sample'].value_counts()>5].tolist()"
   ]
  },
  {
   "cell_type": "code",
   "execution_count": null,
   "id": "c62963d4",
   "metadata": {},
   "outputs": [],
   "source": [
    "adata_fbs.obs['sample'].value_counts()>5"
   ]
  },
  {
   "cell_type": "code",
   "execution_count": null,
   "id": "697492cc",
   "metadata": {},
   "outputs": [],
   "source": [
    "adata_fbs.layers['counts'] = adata_fbs.X.copy()"
   ]
  },
  {
   "cell_type": "markdown",
   "id": "925da9e7",
   "metadata": {},
   "source": [
    "### note study is excluded from the covariates as some studies had enriched for particular fbs subtypes"
   ]
  },
  {
   "cell_type": "code",
   "execution_count": null,
   "id": "f511bb5c",
   "metadata": {
    "scrolled": false
   },
   "outputs": [],
   "source": [
    "adata_fbs_scvi = run_scvi2(adata_fbs,  batch_hv=\"age_group\", hvg = 5000, batch_scvi='sample', \n",
    "          cat_cov_scvi=['chemistry_simple','age_group','donor', 'sex'], cont_cov_scvi = None, include_genes=[], \n",
    "          exclude_cc_genes=True, exclude_vdjgenes=True, exclude_mt_genes = True, \n",
    "          n_layers=2, n_latent=30, max_epochs=350, batch_size=2000)"
   ]
  },
  {
   "cell_type": "code",
   "execution_count": null,
   "id": "42feb359",
   "metadata": {},
   "outputs": [],
   "source": [
    "adata_scvi = adata_fbs_scvi['data'].copy()"
   ]
  },
  {
   "cell_type": "code",
   "execution_count": null,
   "id": "25049783",
   "metadata": {},
   "outputs": [],
   "source": [
    "sc.pl.umap(adata_scvi, color = [\"leiden_r1.0\", \"leiden_r1.2\", \"leiden_r1.4\", \"leiden_r1.6\"], \n",
    "           legend_loc = \"on data\", legend_fontsize = 5, frameon = False)"
   ]
  },
  {
   "cell_type": "code",
   "execution_count": null,
   "id": "7d02ebd7",
   "metadata": {
    "scrolled": false
   },
   "outputs": [],
   "source": [
    "sc.pl.umap(adata_scvi, color = major_mrkrs)"
   ]
  },
  {
   "cell_type": "code",
   "execution_count": null,
   "id": "2098d6c7",
   "metadata": {
    "scrolled": false
   },
   "outputs": [],
   "source": [
    "sc.pl.umap(adata_scvi, color = ['PDGFRA','PDGFRB', \"VIM\",\n",
    "              'COLEC11', 'ALDH1A2', 'GDF10', 'MKI67', # Perilobular fibroblasts (or Parenhcymal)\n",
    "               'FBN1', 'PI16', 'MFAP5', 'SEMA3C', #'SEMA3D','DPP4',  # Capsular fibroblasts (or Interlobular, vasc associated)\n",
    "              'COL9A3', 'COL13A1', 'WIF1', 'DHRS3', # Fetal-specific perilobular firboblasts\n",
    "              'CCL19','IL33','TNFSF10', 'CXCL9', 'CXCL10', 'RGS5', #putative medullary fibroblasts\n",
    "               'HLA-DRA', 'SBSPON', 'HEY1', 'LTBP1', # MHCIIhigh medullary firboblasts\n",
    "             'CCL21', 'FDCSP', 'CXCL13', #fetal specific fibro (med)\n",
    "             'TNNT1', 'NKX2-5', 'KRT8',  #fetal specific fibro (cardiac?TEC?)\n",
    "              'CES1', 'RSPO2' #fetal specific fibro (mesenchyme? unclear?)\n",
    "              ])"
   ]
  },
  {
   "cell_type": "code",
   "execution_count": null,
   "id": "cf467c4c",
   "metadata": {},
   "outputs": [],
   "source": [
    "fbs_mrkrs = {'General': ['PDGFRA','PDGFRB', \"VIM\"],\n",
    "             'PeriLobular': ['COLEC11', 'ALDH1A2', 'GDF10', 'MKI67'],\n",
    "             'InterLobular': ['FBN1', 'PI16', 'MFAP5', 'SEMA3C'],  #'SEMA3D','DPP4',\n",
    "             'Fetal(subcapsular)': ['COL9A3', 'COL13A1', 'WIF1', 'DHRS3'], \n",
    "             'Medullary': ['CCL19','IL33','TNFSF10', 'CXCL9', 'CXCL10', 'RGS5'],\n",
    "             'Medullary APC': ['HLA-DRA', 'SBSPON', 'HEY1', 'LTBP1'],\n",
    "             'Fetal(lymphoid org)': ['CCL21', 'FDCSP', 'CXCL13'], \n",
    "             'Fetal(muscle)': ['TNNT1', 'PAX7', 'MYF5'],\n",
    "             'Fetal(RSPO2)': ['CES1', 'RSPO2']\n",
    "             }"
   ]
  },
  {
   "cell_type": "code",
   "execution_count": null,
   "id": "2fa904d1",
   "metadata": {},
   "outputs": [],
   "source": [
    "mhc1 = ['HLA-A', 'HLA-B', 'HLA-C', 'HLA-E', 'HLA-F', 'HLA-G']\n",
    "mhc2 = ['HLA-DMA', 'HLA-DMB', 'HLA-DOA', 'HLA-DOB', 'HLA-DPA1','HLA-DPB1',  'HLA-DQA1', 'HLA-DQA2',\n",
    " 'HLA-DQB1', 'HLA-DQB1-AS1','HLA-DQB2', 'HLA-DRA', 'HLA-DRB1', 'HLA-DRB5', ]"
   ]
  },
  {
   "cell_type": "code",
   "execution_count": null,
   "id": "701801c2",
   "metadata": {},
   "outputs": [],
   "source": [
    "sc.pl.umap(adata_scvi, color = mhc1)\n",
    "sc.pl.umap(adata_scvi, color = mhc2)"
   ]
  },
  {
   "cell_type": "code",
   "execution_count": null,
   "id": "b0e0fae6",
   "metadata": {},
   "outputs": [],
   "source": [
    "fbs_subtypes = ['PeriloFb', 'PeriloFb-Prolif', 'InterloFb', 'InterloFb-COL9A3', 'medFB-MHCIIh', 'medFb',\n",
    "       'medFb-RGS5', 'fetFB-CCL21', 'fetFB-NKX2-5', 'fetFB-RSPO2']"
   ]
  },
  {
   "cell_type": "code",
   "execution_count": null,
   "id": "af278bed",
   "metadata": {},
   "outputs": [],
   "source": [
    "def population_plots(adata_scvi, mrkrs_dict, save_name, figures, cat_order, anno = 'cell_type_level_4_upd', \n",
    "                     anno_cov = ['study', 'sex', 'age_group', 'chemistry_simple']):\n",
    "    adata_scvi.obs[anno] = adata_scvi.obs[anno].cat.reorder_categories(cat_order).copy()\n",
    "    sc.pl.umap(adata_scvi, color = anno, legend_loc = \"on data\", legend_fontsize = 5, \n",
    "               frameon = False, save = f\"{save_name}_scvi_celltype.pdf\")\n",
    "    sc.pl.umap(adata_scvi, color = anno_cov, wspace = 0.3, frameon = False, \n",
    "               save = f\"{save_name}_scvi_covariates.pdf\")\n",
    "    dp = sc.pl.dotplot(adata_scvi, groupby = anno, var_names = mrkrs_dict, \n",
    "                      standard_scale = \"var\", return_fig = True)\n",
    "    dp = dp.add_totals().style(dot_edge_color='black', dot_edge_lw=0.5, cmap = \"Reds\")\n",
    "    # Save the figure\n",
    "    dp.savefig(f\"{figures}{save_name}_HTSA_scvi_mrkrs.pdf\")"
   ]
  },
  {
   "cell_type": "code",
   "execution_count": null,
   "id": "f7a3052f",
   "metadata": {},
   "outputs": [],
   "source": [
    "population_plots(adata_scvi, mrkrs_dict = fbs_mrkrs, save_name = \"FB\", \n",
    "                 figures = '/nfs/team205/ny1/ThymusSpatialAtlas/Figure_4_nat/figures/', \n",
    "                 cat_order = ['PeriloFb', 'PeriloFb-Prolif', 'InterloFb', 'InterloFb-COL9A3','medFb',\n",
    "                              'medFb-RGS5', 'medFB-MHCIIh', 'fetFB-CCL21', 'fetFB-NKX2-5', 'fetFB-RSPO2'],\n",
    "                 anno = 'cell_type_level_4_explore', anno_cov = ['study', 'sex', 'age_group', 'chemistry_simple'])"
   ]
  },
  {
   "cell_type": "code",
   "execution_count": null,
   "id": "f532e8e4",
   "metadata": {},
   "outputs": [],
   "source": [
    "adata_scvi.write(f'{clean_folder}/fbs_scvi_updated_{today}.h5ad')\n",
    "\n",
    "adata_fbs_scvi['vae'].save(f'{clean_folder}/models/fbs_scvi_updated_{today}.h5ad')"
   ]
  },
  {
   "cell_type": "code",
   "execution_count": null,
   "id": "e5920ab5",
   "metadata": {},
   "outputs": [],
   "source": []
  }
 ],
 "metadata": {
  "kernelspec": {
   "display_name": "Python [conda env:miniconda-scvi-env]",
   "language": "python",
   "name": "conda-env-miniconda-scvi-env-py"
  },
  "language_info": {
   "codemirror_mode": {
    "name": "ipython",
    "version": 3
   },
   "file_extension": ".py",
   "mimetype": "text/x-python",
   "name": "python",
   "nbconvert_exporter": "python",
   "pygments_lexer": "ipython3",
   "version": "3.7.12"
  }
 },
 "nbformat": 4,
 "nbformat_minor": 5
}
