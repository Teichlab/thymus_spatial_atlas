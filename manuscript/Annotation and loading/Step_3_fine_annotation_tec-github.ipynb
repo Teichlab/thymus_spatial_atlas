{
 "cells": [
  {
   "cell_type": "markdown",
   "id": "placed-favor",
   "metadata": {},
   "source": [
    "Notebook for processing and doublet removal of the TEC Lineage \n"
   ]
  },
  {
   "cell_type": "code",
   "execution_count": null,
   "id": "threaded-paintball",
   "metadata": {},
   "outputs": [],
   "source": [
    "# fine annotate lineage \n",
    "import scanpy as sc\n",
    "import numpy as np\n",
    "import pandas as pd\n",
    "import scvi\n",
    "import seaborn as sns\n",
    "import os,sys\n",
    "#import mudata\n",
    "import anndata\n",
    "## Add this line so the text on pdf is correctly recognised!!!\n",
    "from matplotlib import rcParams\n",
    "rcParams['pdf.fonttype'] = 42\n",
    "import scvi\n",
    "import scvi_wrapper as sv\n",
    "\n",
    "#import multi_view_atlas as mva\n",
    "sc.logging.print_header()\n",
    "sc.settings.set_figure_params(dpi = 150, color_map = 'RdPu', dpi_save = 300, vector_friendly = True, format = 'pdf')"
   ]
  },
  {
   "cell_type": "markdown",
   "id": "after-oklahoma",
   "metadata": {},
   "source": [
    "# Load large object"
   ]
  },
  {
   "cell_type": "code",
   "execution_count": null,
   "id": "confidential-courtesy",
   "metadata": {
    "tags": []
   },
   "outputs": [],
   "source": [
    "adata = sc.read_h5ad('...adata_full_rev_2.h5ad')\n",
    "adata"
   ]
  },
  {
   "cell_type": "code",
   "execution_count": null,
   "id": "gorgeous-tobacco",
   "metadata": {},
   "outputs": [],
   "source": [
    "sc.set_figure_params(fontsize=10,figsize=[10,10],dpi=100)\n",
    "sc.pl.umap(adata,\n",
    "           color=['leiden_2','cell_type_level_0'], \n",
    "           frameon=False,\n",
    "           s=1,\n",
    "           # groups=['10'],\n",
    "           legend_loc='on data',\n",
    "           legend_fontoutline=1,\n",
    "           outline_color='white',\n",
    "          )"
   ]
  },
  {
   "cell_type": "code",
   "execution_count": null,
   "id": "outer-spiritual",
   "metadata": {},
   "outputs": [],
   "source": [
    "# isolate only sp clusters and some associated\n",
    "adata_tec = adata[adata.obs['leiden_2'].isin(['27','25','16','20'])]\n",
    "sc.set_figure_params(fontsize=10,figsize=[10,10],dpi=100)\n",
    "sc.pl.umap(adata_tec,\n",
    "           color='leiden_2', \n",
    "           frameon=False,\n",
    "           s=1,\n",
    "           # groups=['10'],\n",
    "           legend_loc='on data',\n",
    "           legend_fontoutline=1,\n",
    "           outline_color='white',\n",
    "          )"
   ]
  },
  {
   "cell_type": "code",
   "execution_count": null,
   "id": "offensive-genealogy",
   "metadata": {},
   "outputs": [],
   "source": [
    "a = adata_tec.obs['sample'].value_counts(dropna=False)>5\n",
    "b = list(a[np.where(list(a))[0]].keys())\n",
    "adata_tec = adata_tec[adata_tec.obs['sample'].isin(b)]\n",
    "adata_tec"
   ]
  },
  {
   "cell_type": "code",
   "execution_count": null,
   "id": "loaded-arbor",
   "metadata": {
    "tags": []
   },
   "outputs": [],
   "source": [
    "adata_tec = sv.scvi_wrapper_basic(\n",
    "    adata_tec,\n",
    "    max_epochs=350,\n",
    "    remove_vdjgenes=True,\n",
    "    hvg=3500,\n",
    "    batch_key='sample',\n",
    "    categorical_covariate_keys=['chemistry_simple','age_group','study','sex','donor'],\n",
    "    continuous_covariate_keys = None,\n",
    "    cluster_leiden=False,\n",
    "    layer_use=None,\n",
    "    remove_cite=False,\n",
    ") \n",
    "sc.tl.leiden(adata_tec, resolution=1, key_added=\"leiden_1\")\n",
    "sc.tl.leiden(adata_tec, resolution=2, key_added=\"leiden_2\")\n",
    "sc.tl.leiden(adata_tec, resolution=3, key_added=\"leiden_3\")\n",
    "sc.tl.leiden(adata_tec, resolution=4, key_added=\"leiden_4\")"
   ]
  },
  {
   "cell_type": "code",
   "execution_count": null,
   "id": "dedicated-pricing",
   "metadata": {},
   "outputs": [],
   "source": [
    "sc.set_figure_params(fontsize=10,figsize=[10,10],dpi=100)\n",
    "sc.pl.umap(adata_tec,\n",
    "           color=['leiden_2','donor','cell_type_level_4','doublet_score','study','leiden_3','leiden_4'],\n",
    "           frameon=False,\n",
    "           ncols=2,\n",
    "           s=5,\n",
    "           legend_loc='on data',\n",
    "           legend_fontoutline=1,\n",
    "           outline_color='white',\n",
    "          )"
   ]
  },
  {
   "cell_type": "code",
   "execution_count": null,
   "id": "framed-awareness",
   "metadata": {},
   "outputs": [],
   "source": [
    "sc.pl.umap(adata_tec,\n",
    "           color=['leiden_2'],\n",
    "           frameon=False,\n",
    "           ncols=2,\n",
    "           s=5,\n",
    "           groups='26',\n",
    "           legend_loc='on data',\n",
    "           legend_fontoutline=1,\n",
    "           outline_color='white',\n",
    "          )"
   ]
  },
  {
   "cell_type": "code",
   "execution_count": null,
   "id": "tutorial-tours",
   "metadata": {},
   "outputs": [],
   "source": [
    "adata_tec.obs['cell_type_level_0'].value_counts(dropna=False)"
   ]
  },
  {
   "cell_type": "code",
   "execution_count": null,
   "id": "every-million",
   "metadata": {},
   "outputs": [],
   "source": [
    "sc.pl.dotplot(adata_tec,var_names=['doublet_score'],groupby='leiden_2',swap_axes=True)"
   ]
  },
  {
   "cell_type": "code",
   "execution_count": null,
   "id": "frequent-mills",
   "metadata": {},
   "outputs": [],
   "source": [
    "os.chdir('...')\n",
    "adata_tec.write_h5ad('adata_tec_rev_1.h5ad')"
   ]
  },
  {
   "cell_type": "code",
   "execution_count": null,
   "id": "subject-politics",
   "metadata": {},
   "outputs": [],
   "source": [
    "os.chdir('...')\n",
    "adata_tec = sc.read_h5ad('adata_tec_rev_1.h5ad')"
   ]
  },
  {
   "cell_type": "code",
   "execution_count": null,
   "id": "bacterial-gossip",
   "metadata": {},
   "outputs": [],
   "source": [
    "adata_tec.obs['unannotated'] = adata_tec.obs['cell_type_level_3'].isna().astype('str')\n",
    "adata_tec.obs['unannotated'].value_counts()\n",
    "sc.set_figure_params(fontsize=10,figsize=[15,15])\n",
    "sc.pl.umap(adata_tec,\n",
    "           color=['unannotated'], \n",
    "           ncols=3,\n",
    "           # legend_loc='on data',\n",
    "           groups='True',\n",
    "           wspace=0.5,\n",
    "           frameon=False,\n",
    "           s=5,\n",
    "           cmap='gist_rainbow',\n",
    "          )"
   ]
  },
  {
   "cell_type": "code",
   "execution_count": null,
   "id": "dried-volunteer",
   "metadata": {},
   "outputs": [],
   "source": [
    "adata_tec = adata_tec[~adata_tec.obs['leiden_2'].isin(['26','29'])]\n",
    "\n",
    "a = adata_tec.obs['sample'].value_counts(dropna=False)>5\n",
    "b = list(a[np.where(list(a))[0]].keys())\n",
    "adata_tec = adata_tec[adata_tec.obs['sample'].isin(b)]\n",
    "adata_tec\n",
    "# b"
   ]
  },
  {
   "cell_type": "code",
   "execution_count": null,
   "id": "qualified-profession",
   "metadata": {},
   "outputs": [],
   "source": [
    "adata_tec = sv.scvi_wrapper_basic(\n",
    "    adata_tec,\n",
    "    max_epochs=350,\n",
    "    remove_vdjgenes=True,\n",
    "    hvg=5000,\n",
    "    batch_key='sample',\n",
    "    categorical_covariate_keys=['chemistry_simple','age_group','study','sex','donor'],\n",
    "    continuous_covariate_keys = None,\n",
    "    cluster_leiden=False,\n",
    "    layer_use=None,\n",
    "    remove_cite=False,\n",
    ") "
   ]
  },
  {
   "cell_type": "code",
   "execution_count": null,
   "id": "corporate-orange",
   "metadata": {},
   "outputs": [],
   "source": [
    "adata_tec.obs['cell_type_level_0'].value_counts(dropna=False)"
   ]
  },
  {
   "cell_type": "code",
   "execution_count": null,
   "id": "bored-depression",
   "metadata": {},
   "outputs": [],
   "source": [
    "sc.set_figure_params(fontsize=10,figsize=[10,10],dpi=100)\n",
    "sc.pl.umap(adata_tec,\n",
    "           color=['cell_type_level_4','age_group','PCNA'],\n",
    "           frameon=False,\n",
    "           ncols=2,\n",
    "           s=5,\n",
    "           legend_loc='on data',\n",
    "           legend_fontoutline=1,\n",
    "           outline_color='white',\n",
    "          )"
   ]
  },
  {
   "cell_type": "code",
   "execution_count": null,
   "id": "provincial-showcase",
   "metadata": {},
   "outputs": [],
   "source": [
    "adata_tec.obs['unannotated'] = adata_tec.obs['cell_type_level_3'].isna().astype('str')\n",
    "adata_tec.obs['unannotated'].value_counts()\n",
    "sc.set_figure_params(fontsize=10,figsize=[15,15])\n",
    "sc.pl.umap(adata_tec,\n",
    "           color=['unannotated'], \n",
    "           ncols=3,\n",
    "           # legend_loc='on data',\n",
    "           groups='True',\n",
    "           wspace=0.5,\n",
    "           frameon=False,\n",
    "           s=5,\n",
    "           cmap='gist_rainbow',\n",
    "          )"
   ]
  },
  {
   "cell_type": "markdown",
   "id": "prerequisite-survival",
   "metadata": {},
   "source": [
    "## KNN-prediction"
   ]
  },
  {
   "cell_type": "code",
   "execution_count": null,
   "id": "surprising-vacuum",
   "metadata": {},
   "outputs": [],
   "source": [
    "# migrate annotations. taken from - https://github.com/LungCellAtlas/mapping_data_to_the_HLCA/blob/main/scripts/scarches_label_transfer.py\n",
    "\n",
    "from collections import Counter\n",
    "\n",
    "import numpy as np\n",
    "import pandas as pd\n",
    "from sklearn.neighbors import KNeighborsTransformer\n",
    "\n",
    "def weighted_knn_trainer(train_adata, train_adata_emb, n_neighbors=50):\n",
    "    \"\"\"Trains a weighted KNN classifier on ``train_adata``.\n",
    "    Parameters\n",
    "    ----------\n",
    "    train_adata: :class:`~anndata.AnnData`\n",
    "        Annotated dataset to be used to train KNN classifier with ``label_key`` as the target variable.\n",
    "    train_adata_emb: str\n",
    "        Name of the obsm layer to be used for calculation of neighbors. If set to \"X\", anndata.X will be\n",
    "        used\n",
    "    n_neighbors: int\n",
    "        Number of nearest neighbors in KNN classifier.\n",
    "    \"\"\"\n",
    "    print(\n",
    "        f\"Weighted KNN with n_neighbors = {n_neighbors} ... \",\n",
    "        end=\"\",\n",
    "    )\n",
    "    k_neighbors_transformer = KNeighborsTransformer(\n",
    "        n_neighbors=n_neighbors,\n",
    "        mode=\"distance\",\n",
    "        algorithm=\"brute\",\n",
    "        metric=\"euclidean\",\n",
    "        n_jobs=-1,\n",
    "    )\n",
    "    if train_adata_emb == \"X\":\n",
    "        train_emb = train_adata.X\n",
    "    elif train_adata_emb in train_adata.obsm.keys():\n",
    "        train_emb = train_adata.obsm[train_adata_emb]\n",
    "    else:\n",
    "        raise ValueError(\n",
    "            \"train_adata_emb should be set to either 'X' or the name of the obsm layer to be used!\"\n",
    "        )\n",
    "    k_neighbors_transformer.fit(train_emb)\n",
    "    return k_neighbors_transformer\n",
    "\n",
    "\n",
    "def weighted_knn_transfer(\n",
    "    query_adata,\n",
    "    query_adata_emb,\n",
    "    ref_adata_obs,\n",
    "    label_keys,\n",
    "    knn_model,\n",
    "    threshold=1,\n",
    "    pred_unknown=False,\n",
    "    mode=\"package\",\n",
    "):\n",
    "    \"\"\"Annotates ``query_adata`` cells with an input trained weighted KNN classifier.\n",
    "    Parameters\n",
    "    ----------\n",
    "    query_adata: :class:`~anndata.AnnData`\n",
    "        Annotated dataset to be used to queryate KNN classifier. Embedding to be used\n",
    "    query_adata_emb: str\n",
    "        Name of the obsm layer to be used for label transfer. If set to \"X\",\n",
    "        query_adata.X will be used\n",
    "    ref_adata_obs: :class:`pd.DataFrame`\n",
    "        obs of ref Anndata\n",
    "    label_keys: str\n",
    "        Names of the columns to be used as target variables (e.g. cell_type) in ``query_adata``.\n",
    "    knn_model: :class:`~sklearn.neighbors._graph.KNeighborsTransformer`\n",
    "        knn model trained on reference adata with weighted_knn_trainer function\n",
    "    threshold: float\n",
    "        Threshold of uncertainty used to annotating cells as \"Unknown\". cells with\n",
    "        uncertainties higher than this value will be annotated as \"Unknown\".\n",
    "        Set to 1 to keep all predictions. This enables one to later on play\n",
    "        with thresholds.\n",
    "    pred_unknown: bool\n",
    "        ``False`` by default. Whether to annotate any cell as \"unknown\" or not.\n",
    "        If `False`, ``threshold`` will not be used and each cell will be annotated\n",
    "        with the label which is the most common in its ``n_neighbors`` nearest cells.\n",
    "    mode: str\n",
    "        Has to be one of \"paper\" or \"package\". If mode is set to \"package\",\n",
    "        uncertainties will be 1 - P(pred_label), otherwise it will be 1 - P(true_label).\n",
    "    \"\"\"\n",
    "    if not type(knn_model) == KNeighborsTransformer:\n",
    "        raise ValueError(\n",
    "            \"knn_model should be of type sklearn.neighbors._graph.KNeighborsTransformer!\"\n",
    "        )\n",
    "\n",
    "    if query_adata_emb == \"X\":\n",
    "        query_emb = query_adata.X\n",
    "    elif query_adata_emb in query_adata.obsm.keys():\n",
    "        query_emb = query_adata.obsm[query_adata_emb]\n",
    "    else:\n",
    "        raise ValueError(\n",
    "            \"query_adata_emb should be set to either 'X' or the name of the obsm layer to be used!\"\n",
    "        )\n",
    "    top_k_distances, top_k_indices = knn_model.kneighbors(X=query_emb)\n",
    "\n",
    "    stds = np.std(top_k_distances, axis=1)\n",
    "    stds = (2.0 / stds) ** 2\n",
    "    stds = stds.reshape(-1, 1)\n",
    "\n",
    "    top_k_distances_tilda = np.exp(-np.true_divide(top_k_distances, stds))\n",
    "\n",
    "    weights = top_k_distances_tilda / np.sum(\n",
    "        top_k_distances_tilda, axis=1, keepdims=True\n",
    "    )\n",
    "    cols = ref_adata_obs.columns[ref_adata_obs.columns.str.startswith(label_keys)]\n",
    "    uncertainties = pd.DataFrame(columns=cols, index=query_adata.obs_names)\n",
    "    pred_labels = pd.DataFrame(columns=cols, index=query_adata.obs_names)\n",
    "    for i in range(len(weights)):\n",
    "        for j in cols:\n",
    "            y_train_labels = ref_adata_obs[j].values\n",
    "            unique_labels = np.unique(y_train_labels[top_k_indices[i]])\n",
    "            best_label, best_prob = None, 0.0\n",
    "            for candidate_label in unique_labels:\n",
    "                candidate_prob = weights[\n",
    "                    i, y_train_labels[top_k_indices[i]] == candidate_label\n",
    "                ].sum()\n",
    "                if best_prob < candidate_prob:\n",
    "                    best_prob = candidate_prob\n",
    "                    best_label = candidate_label\n",
    "\n",
    "            if pred_unknown:\n",
    "                if best_prob >= threshold:\n",
    "                    pred_label = best_label\n",
    "                else:\n",
    "                    pred_label = \"Unknown\"\n",
    "            else:\n",
    "                pred_label = best_label\n",
    "\n",
    "            if mode == \"package\":\n",
    "                uncertainties.iloc[i][j] = (max(1 - best_prob, 0))\n",
    "\n",
    "            else:\n",
    "                raise Exception(\"Inquery Mode!\")\n",
    "\n",
    "            pred_labels.iloc[i][j] = (pred_label)\n",
    "\n",
    "    print(\"finished!\")\n",
    "\n",
    "    return pred_labels, uncertainties"
   ]
  },
  {
   "cell_type": "code",
   "execution_count": null,
   "id": "reserved-quarterly",
   "metadata": {},
   "outputs": [],
   "source": [
    "train_adata = adata_tec[adata_tec.obs['unannotated']=='False']\n",
    "k_neighbors_transformer = weighted_knn_trainer(train_adata, 'X_scVI', n_neighbors=20)\n",
    "train_adata"
   ]
  },
  {
   "cell_type": "code",
   "execution_count": null,
   "id": "uniform-plane",
   "metadata": {},
   "outputs": [],
   "source": [
    "target_adata = adata_tec[adata_tec.obs['unannotated']=='True']\n",
    "target_adata"
   ]
  },
  {
   "cell_type": "code",
   "execution_count": null,
   "id": "opponent-fitting",
   "metadata": {
    "tags": []
   },
   "outputs": [],
   "source": [
    "# cell_type_level_4"
   ]
  },
  {
   "cell_type": "code",
   "execution_count": null,
   "id": "expressed-louisville",
   "metadata": {},
   "outputs": [],
   "source": [
    "pred_labels, uncertainties = weighted_knn_transfer(\n",
    "    query_adata=target_adata,\n",
    "    query_adata_emb='X_scVI',\n",
    "    ref_adata_obs=train_adata.obs,\n",
    "    label_keys='cell_type_level_4',\n",
    "    knn_model=k_neighbors_transformer,\n",
    "    threshold=1,\n",
    "    pred_unknown=False,\n",
    "    mode=\"package\",\n",
    ")"
   ]
  },
  {
   "cell_type": "code",
   "execution_count": null,
   "id": "drawn-costume",
   "metadata": {},
   "outputs": [],
   "source": [
    "uncertainties.cell_type_level_4.hist()"
   ]
  },
  {
   "cell_type": "code",
   "execution_count": null,
   "id": "starting-carol",
   "metadata": {},
   "outputs": [],
   "source": [
    "adata_tec.obs['pred_cell_type_level_4'] = adata_tec.obs['cell_type_level_4']\n",
    "adata_tec.obs['pred_cell_type_level_4_uncertainties'] = 0\n",
    "adata_tec.obs.loc[pred_labels.index,'pred_cell_type_level_4'] = pred_labels['cell_type_level_4']\n",
    "adata_tec.obs.loc[pred_labels.index,'pred_cell_type_level_4_uncertainties'] = uncertainties['cell_type_level_4']\n",
    "adata_tec.obs['pred_cell_type_level_4'].value_counts(dropna=False)\n",
    "sc.set_figure_params(dpi=200)\n",
    "sc.pl.umap(adata_tec[adata_tec.obs['unannotated']!='False'], color=['pred_cell_type_level_4','pred_cell_type_level_4_uncertainties'],s=10)"
   ]
  },
  {
   "cell_type": "code",
   "execution_count": null,
   "id": "normal-spoke",
   "metadata": {},
   "outputs": [],
   "source": [
    "sc.pl.violin(adata_tec, keys=['pct_counts_ribo','pct_counts_mt','n_genes_by_counts'],groupby='unannotated',s=1,log=True)"
   ]
  },
  {
   "cell_type": "code",
   "execution_count": null,
   "id": "super-tuition",
   "metadata": {
    "tags": []
   },
   "outputs": [],
   "source": [
    "adata_tec.obs['pred_cell_type_level_4_uncertainties'] = adata_tec.obs['pred_cell_type_level_4_uncertainties'].astype('float32')"
   ]
  },
  {
   "cell_type": "code",
   "execution_count": null,
   "id": "fresh-lexington",
   "metadata": {},
   "outputs": [],
   "source": [
    "os.chdir('...')\n",
    "adata_tec.write_h5ad('adata_tec_rev_1_clean.h5ad')"
   ]
  }
 ],
 "metadata": {
  "kernelspec": {
   "display_name": "scvi-env",
   "language": "python",
   "name": "scvi-env"
  },
  "language_info": {
   "codemirror_mode": {
    "name": "ipython",
    "version": 3
   },
   "file_extension": ".py",
   "mimetype": "text/x-python",
   "name": "python",
   "nbconvert_exporter": "python",
   "pygments_lexer": "ipython3",
   "version": "3.9.12"
  }
 },
 "nbformat": 4,
 "nbformat_minor": 5
}
