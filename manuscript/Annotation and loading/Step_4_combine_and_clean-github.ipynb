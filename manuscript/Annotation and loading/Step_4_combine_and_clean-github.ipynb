{
 "cells": [
  {
   "cell_type": "markdown",
   "id": "saved-aircraft",
   "metadata": {},
   "source": [
    "Merge object posty cleanup\n"
   ]
  },
  {
   "cell_type": "code",
   "execution_count": null,
   "id": "desirable-majority",
   "metadata": {},
   "outputs": [],
   "source": [
    "# fine annotate lineage \n",
    "import scanpy as sc\n",
    "import numpy as np\n",
    "import pandas as pd\n",
    "import scvi\n",
    "import seaborn as sns\n",
    "import os,sys\n",
    "#import mudata\n",
    "import anndata\n",
    "## Add this line so the text on pdf is correctly recognised!!!\n",
    "from matplotlib import rcParams\n",
    "rcParams['pdf.fonttype'] = 42\n",
    "import scvi\n",
    "import scvi_wrapper as sv\n",
    "import anndata as ad\n",
    "\n",
    "#import multi_view_atlas as mva\n",
    "sc.logging.print_header()\n",
    "sc.settings.set_figure_params(dpi = 150, color_map = 'RdPu', dpi_save = 300, vector_friendly = True, format = 'pdf')"
   ]
  },
  {
   "cell_type": "markdown",
   "id": "level-state",
   "metadata": {},
   "source": [
    "# Load large object pre final cleanup "
   ]
  },
  {
   "cell_type": "code",
   "execution_count": null,
   "id": "distinct-bhutan",
   "metadata": {
    "tags": []
   },
   "outputs": [],
   "source": [
    "adata = sc.read_h5ad('...adata_full_rev_2.h5ad')\n",
    "adata"
   ]
  },
  {
   "cell_type": "code",
   "execution_count": null,
   "id": "complimentary-supervision",
   "metadata": {},
   "outputs": [],
   "source": [
    "sc.set_figure_params(fontsize=10,figsize=[10,10],dpi=100)\n",
    "sc.pl.umap(adata,\n",
    "           color=['leiden_2','cell_type_level_0'], \n",
    "           frameon=False,\n",
    "           s=1,\n",
    "           # groups=['10'],\n",
    "           legend_loc='on data',\n",
    "           legend_fontoutline=1,\n",
    "           outline_color='white',\n",
    "          )"
   ]
  },
  {
   "cell_type": "code",
   "execution_count": null,
   "id": "conceptual-piano",
   "metadata": {},
   "outputs": [],
   "source": [
    "# combine all cleaned object "
   ]
  },
  {
   "cell_type": "code",
   "execution_count": null,
   "id": "compound-handle",
   "metadata": {},
   "outputs": [],
   "source": [
    "adata_dn = sc.read_h5ad('...clean/adata_dn_rev_1_clean.h5ad')\n",
    "adata_dn"
   ]
  },
  {
   "cell_type": "code",
   "execution_count": null,
   "id": "vulnerable-fellow",
   "metadata": {},
   "outputs": [],
   "source": [
    "adata_dp = sc.read_h5ad('...clean/adata_dp_rev_1_clean.h5ad')\n",
    "adata_dp"
   ]
  },
  {
   "cell_type": "code",
   "execution_count": null,
   "id": "quality-compression",
   "metadata": {},
   "outputs": [],
   "source": [
    "adata_mye = sc.read_h5ad('...clean/adata_mye_rev_1_clean.h5ad')\n",
    "adata_mye"
   ]
  },
  {
   "cell_type": "code",
   "execution_count": null,
   "id": "russian-hawaii",
   "metadata": {},
   "outputs": [],
   "source": [
    "adata_str = sc.read_h5ad('...clean/adata_str_rev_1_clean.h5ad')\n",
    "adata_str"
   ]
  },
  {
   "cell_type": "code",
   "execution_count": null,
   "id": "attached-economics",
   "metadata": {},
   "outputs": [],
   "source": [
    "adata_sp = sc.read_h5ad('...clean/adata_t_sp_rev_1_clean.h5ad')\n",
    "adata_sp"
   ]
  },
  {
   "cell_type": "code",
   "execution_count": null,
   "id": "authorized-evolution",
   "metadata": {},
   "outputs": [],
   "source": [
    "adata_tec = sc.read_h5ad('...clean/adata_tec_rev_1_clean.h5ad')\n",
    "adata_tec"
   ]
  },
  {
   "cell_type": "code",
   "execution_count": null,
   "id": "higher-demand",
   "metadata": {},
   "outputs": [],
   "source": [
    "adata_vas = sc.read_h5ad('...clean/adata_vas_rev_1_clean.h5ad')\n",
    "adata_vas"
   ]
  },
  {
   "cell_type": "code",
   "execution_count": null,
   "id": "rental-plumbing",
   "metadata": {},
   "outputs": [],
   "source": [
    "adata_new = ad.concat([adata_dn,adata_dp,adata_mye,adata_str,adata_sp,adata_tec,adata_vas],join='outer')\n",
    "adata_new"
   ]
  },
  {
   "cell_type": "code",
   "execution_count": null,
   "id": "legendary-roller",
   "metadata": {
    "tags": []
   },
   "outputs": [],
   "source": [
    "adata_new = sv.scvi_wrapper_basic(\n",
    "    adata_new,\n",
    "    max_epochs=350,\n",
    "    remove_vdjgenes=True,\n",
    "    hvg=5000,\n",
    "    batch_key='sample',\n",
    "    categorical_covariate_keys=['chemistry_simple','age_group','study','sex','donor'],\n",
    "    continuous_covariate_keys = None,\n",
    "    cluster_leiden=False,\n",
    "    layer_use=None,\n",
    "    remove_cite=False,\n",
    ") \n",
    "sc.tl.leiden(adata_new, resolution=1, key_added=\"leiden_1\")\n",
    "sc.tl.leiden(adata_new, resolution=2, key_added=\"leiden_2\")\n",
    "sc.tl.leiden(adata_new, resolution=3, key_added=\"leiden_3\")\n",
    "sc.tl.leiden(adata_new, resolution=4, key_added=\"leiden_4\")"
   ]
  },
  {
   "cell_type": "code",
   "execution_count": null,
   "id": "finnish-consolidation",
   "metadata": {},
   "outputs": [],
   "source": [
    "sc.set_figure_params(fontsize=10,figsize=[10,10],dpi=100)\n",
    "sc.pl.umap(adata_new,\n",
    "           color=['leiden_2','donor','doublet_score','study','leiden_3','leiden_4'],\n",
    "           frameon=False,\n",
    "           ncols=2,\n",
    "           s=5,\n",
    "           legend_loc='on data',\n",
    "           legend_fontoutline=1,\n",
    "           outline_color='white',\n",
    "          )"
   ]
  },
  {
   "cell_type": "code",
   "execution_count": null,
   "id": "economic-video",
   "metadata": {},
   "outputs": [],
   "source": [
    "os.chdir('...clean/')\n",
    "adata_new.write_h5ad('adata_full_rev_2_clean.h5ad')"
   ]
  },
  {
   "cell_type": "code",
   "execution_count": null,
   "id": "alternative-stack",
   "metadata": {},
   "outputs": [],
   "source": [
    "adata_new.obs.to_csv('adata_full_rev_2_clean.csv')"
   ]
  }
 ],
 "metadata": {
  "kernelspec": {
   "display_name": "scvi-env",
   "language": "python",
   "name": "scvi-env"
  },
  "language_info": {
   "codemirror_mode": {
    "name": "ipython",
    "version": 3
   },
   "file_extension": ".py",
   "mimetype": "text/x-python",
   "name": "python",
   "nbconvert_exporter": "python",
   "pygments_lexer": "ipython3",
   "version": "3.9.12"
  }
 },
 "nbformat": 4,
 "nbformat_minor": 5
}
