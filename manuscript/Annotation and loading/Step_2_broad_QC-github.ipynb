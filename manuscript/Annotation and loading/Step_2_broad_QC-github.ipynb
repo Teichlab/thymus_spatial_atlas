{
 "cells": [
  {
   "cell_type": "markdown",
   "id": "extensive-executive",
   "metadata": {},
   "source": [
    "Notebook for processing and doublet removal accumulated low quality cells from subobjects and past libraries,\n",
    "Nadav Yayon \n"
   ]
  },
  {
   "cell_type": "code",
   "execution_count": null,
   "id": "civic-longer",
   "metadata": {},
   "outputs": [],
   "source": [
    "# fine annotate lineage \n",
    "import scanpy as sc\n",
    "import numpy as np\n",
    "import pandas as pd\n",
    "import scvi\n",
    "import seaborn as sns\n",
    "import os,sys\n",
    "#import mudata\n",
    "import anndata\n",
    "## Add this line so the text on pdf is correctly recognised!!!\n",
    "from matplotlib import rcParams\n",
    "rcParams['pdf.fonttype'] = 42\n",
    "import scvi\n",
    "\n",
    "#import multi_view_atlas as mva\n",
    "sc.logging.print_header()\n",
    "os.chdir('')\n",
    "sc.settings.set_figure_params(dpi = 150, color_map = 'RdPu', dpi_save = 300, vector_friendly = True, format = 'pdf')"
   ]
  },
  {
   "cell_type": "markdown",
   "id": "tough-myrtle",
   "metadata": {},
   "source": [
    "# Load large object"
   ]
  },
  {
   "cell_type": "code",
   "execution_count": null,
   "id": "controversial-radar",
   "metadata": {
    "tags": []
   },
   "outputs": [],
   "source": [
    "adata"
   ]
  },
  {
   "cell_type": "code",
   "execution_count": null,
   "id": "steady-skill",
   "metadata": {},
   "outputs": [],
   "source": [
    "sc.pl.umap(adata,\n",
    "           color='louvian_05', \n",
    "           # legend_loc='on data',\n",
    "           # palette=sns.color_palette('colorblind', n_colors=len(adata_T.obs['cell_type_level_4'].cat.categories)),\n",
    "           frameon=False,\n",
    "           # save='_Tlineage_figure_3_v2.pdf',\n",
    "           s=1,\n",
    "           # groups=['10'],\n",
    "           legend_loc='on data',\n",
    "          )"
   ]
  },
  {
   "cell_type": "code",
   "execution_count": null,
   "id": "unusual-daniel",
   "metadata": {},
   "outputs": [],
   "source": [
    "sc.pl.umap(adata_old, color=['louvian_05','study','cell_type_level_0'],frameon=False, s=1, legend_loc='on data')"
   ]
  },
  {
   "cell_type": "code",
   "execution_count": null,
   "id": "irish-census",
   "metadata": {},
   "outputs": [],
   "source": [
    "# remove bad cell from before \"FailQC\""
   ]
  },
  {
   "cell_type": "code",
   "execution_count": null,
   "id": "distributed-buying",
   "metadata": {},
   "outputs": [],
   "source": [
    "adata.obs['cell_type_level_0_old'] = adata_old.obs['cell_type_level_0']\n",
    "adata = adata[adata.obs['cell_type_level_0_old']!='FailQC']\n",
    "adata"
   ]
  },
  {
   "cell_type": "code",
   "execution_count": null,
   "id": "serious-preservation",
   "metadata": {},
   "outputs": [],
   "source": [
    "os.chdir('/nfs/team205/ny1/ThymusSpatialAtlas/software/ImageSpot/')\n",
    "import scvi_wrapper as sv\n"
   ]
  },
  {
   "cell_type": "code",
   "execution_count": null,
   "id": "subsequent-attitude",
   "metadata": {
    "tags": []
   },
   "outputs": [],
   "source": [
    "adata = sv.scvi_wrapper_basic(\n",
    "    adata,\n",
    "    max_epochs=350,\n",
    "    remove_vdjgenes=True,\n",
    "    hvg=5000,\n",
    "    batch_key='sample',\n",
    "    categorical_covariate_keys=['chemistry_simple','age_group','study','sex','donor'],\n",
    "    continuous_covariate_keys = None,\n",
    "    cluster_leiden=False,\n",
    "    layer_use=None,\n",
    "    remove_cite=False,\n",
    ") "
   ]
  },
  {
   "cell_type": "code",
   "execution_count": null,
   "id": "laughing-forward",
   "metadata": {},
   "outputs": [],
   "source": [
    "adata"
   ]
  },
  {
   "cell_type": "code",
   "execution_count": null,
   "id": "practical-emerald",
   "metadata": {},
   "outputs": [],
   "source": [
    "sc.set_figure_params(figsize=[10,10])\n",
    "sc.pl.umap(adata,\n",
    "           color=['louvian_05','doublet_score','n_genes_by_counts','cell_type_level_3'],\n",
    "           ncols=2,\n",
    "           frameon=False,\n",
    "           s=1,\n",
    "           legend_loc='on data',\n",
    "          )"
   ]
  }
 ],
 "metadata": {
  "kernelspec": {
   "display_name": "Python 3 (ipykernel)",
   "language": "python",
   "name": "python3"
  },
  "language_info": {
   "codemirror_mode": {
    "name": "ipython",
    "version": 3
   },
   "file_extension": ".py",
   "mimetype": "text/x-python",
   "name": "python",
   "nbconvert_exporter": "python",
   "pygments_lexer": "ipython3",
   "version": "3.9.7"
  }
 },
 "nbformat": 4,
 "nbformat_minor": 5
}
