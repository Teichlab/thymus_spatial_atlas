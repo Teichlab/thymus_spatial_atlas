{
 "cells": [
  {
   "cell_type": "markdown",
   "id": "71db3ccb",
   "metadata": {},
   "source": [
    "### Load and plot resident cell types"
   ]
  },
  {
   "cell_type": "code",
   "execution_count": null,
   "id": "1b99b0dc",
   "metadata": {},
   "outputs": [],
   "source": [
    "import scanpy as sc\n",
    "import numpy as np\n",
    "import pandas as pd\n",
    "import scvi\n",
    "import seaborn as sns\n",
    "import os,sys\n",
    "import anndata\n",
    "import scvi\n",
    "os.chdir('/nfs/team205/ny1/ThymusSpatialAtlas/software/ImageSpot/')\n",
    "import scvi_wrapper as sv\n",
    "import anndata as ad\n",
    "\n",
    "from IPython.core.interactiveshell import InteractiveShell\n",
    "InteractiveShell.ast_node_interactivity = \"all\" # to show output from all the lines in a cells\n",
    "pd.set_option('display.max_column',None) # display all the columns in pandas\n",
    "pd.options.display.max_rows = 100\n",
    "\n",
    "from datetime import date\n",
    "today = str(date.today())\n",
    "sc.logging.print_header()\n",
    "## Add this line so the text on pdf is correctly recognised!!!\n",
    "import matplotlib.pyplot as plt \n",
    "from matplotlib import font_manager \n",
    "font_manager.fontManager.addfont(\"/nfs/team205/ny1/ThymusSpatialAtlas/software/Arial.ttf\") \n",
    "print(font_manager.findfont(\"Arial\")) \n",
    "plt.rcParams[\"font.sans-serif\"] = [\"Arial\"] \n",
    "plt.rcParams[\"pdf.fonttype\"] = 42\n",
    "sc.settings.set_figure_params(dpi = 150, color_map = 'RdPu', dpi_save = 300, vector_friendly = True, format = 'pdf')"
   ]
  },
  {
   "cell_type": "code",
   "execution_count": null,
   "id": "bb7d71c2",
   "metadata": {},
   "outputs": [],
   "source": [
    "%cd /nfs/team205/vk8/projects/thymus_atlas/ThymusSpatialAtlas"
   ]
  },
  {
   "cell_type": "code",
   "execution_count": null,
   "id": "b24a6ddc",
   "metadata": {},
   "outputs": [],
   "source": [
    "#model_folder = '/nfs/team205/ny1/ThymusSpatialAtlas/Figure4/scvi_models/'\n",
    "figures = '/nfs/team205/ny1/ThymusSpatialAtlas/Figure_4_nat/figures/'\n",
    "results = '/nfs/team205/ny1/ThymusSpatialAtlas/Figure_4_nat/'"
   ]
  },
  {
   "cell_type": "code",
   "execution_count": null,
   "id": "538fa6ac",
   "metadata": {},
   "outputs": [],
   "source": [
    "clean_folder = '/nfs/team205/ny1/ThymusSpatialAtlas/Figure_1_nat/clean'"
   ]
  },
  {
   "cell_type": "code",
   "execution_count": null,
   "id": "831736c9",
   "metadata": {},
   "outputs": [],
   "source": [
    "tec_mrkrs = ['FOXN1', 'ENPEP', 'LY75', # surface markers\n",
    " 'CXCL12', 'CCL25', # homing\n",
    " 'DLL4', 'IL7', 'KITLG', # commitment, proliferation and survival\n",
    "'PSMB11', 'PRSS16', 'CD83', # processing machinery\n",
    "'PAX9', 'SIX1', 'HLA-DQB1', 'KRT8', 'KRT18',   # cTEC markers\n",
    "'DLK2', 'PDPN', 'ZBED2', 'IGFBP5', 'IGFBP6', 'MAOA', 'KRT5', 'KRT8',  'KRT15', 'CCL2',  #'CTGF', #mcTEC markers \n",
    "'EPCAM', \n",
    "'ASCL1', 'CCL21', 'KRT5', 'KRT14',\n",
    "'AIRE', 'FEZF2', 'CDKN2A', 'AIRE', 'SLPI', 'CRIP1',\n",
    "'SLPI', 'IVL', 'KRT1', 'KRT7',  'KRT10',  'CDKN2A', 'SPINK5',  \\\n",
    "'FOXI1',  'ASCL3', 'CFTR', 'CLCNKB', #ionocytes\n",
    "'SOX9', 'POU2F3', 'DCLK1', 'IL25', # thymic tuft cells\n",
    "'PLCB2', 'TRPM5', 'GNB3', 'GNG13', # thymic tuft cells, taste signalling pathway\n",
    "'BEX1', 'NEUROD1', #neuro TEC all\n",
    "'OLIG1', 'OLIG2', 'NEUROG1', 'NEUROD4', \n",
    "'PCP4', 'FOXJ1',  # cilliated cells\n",
    "'CHRNA1', 'MYOG', 'TTN']"
   ]
  },
  {
   "cell_type": "code",
   "execution_count": null,
   "id": "41f7cdfa",
   "metadata": {},
   "outputs": [],
   "source": [
    "major_mrkrs = ['PTPRC', 'CD3G', \n",
    "               'HOXA9', \n",
    "               'HES1', #DN\n",
    "               'RORC', #DP\n",
    "               'CCR9',\n",
    "              'PDCD1', #CD8aa\n",
    "              'CD8A', 'CD8B', \n",
    "              'CD4', 'CD40LG', \n",
    "              'CRTAM', 'ANXA1', #memory\n",
    "             'FOXP3', 'DHRS3', \n",
    "               'TRDC', #gama-delta \n",
    "              'EOMES', 'KLRD1', # NK cells\n",
    "              'TNFSF11', # ILC\n",
    "              'CD19', 'VPREB1', # pre-pro B cells\n",
    "              'IGHD', 'IGHA1', 'IGHG1', \n",
    "              'CLEC9A', 'CLEC10A', \n",
    "              'LAMP3', \n",
    "             'LILRA4','S100A9', 'C1QA', 'TPSB2', 'ITGA2B', 'GYPA', \n",
    "              'PDGFRA', 'COLEC11', 'FBN1', \n",
    "              'RGS5', 'CDH5', \n",
    "               'LYVE1', 'EPCAM', 'PSMB11', 'DLK2', 'KRT14', \n",
    "               'CCL19', 'AIRE', 'KRT1', 'POU2F3',\n",
    "               'MYOD1', 'NEUROG1']"
   ]
  },
  {
   "cell_type": "code",
   "execution_count": null,
   "id": "e371d14f",
   "metadata": {},
   "outputs": [],
   "source": [
    "def run_scvi2(adata, batch_hv=\"age_group\", batch_scvi=\"sample\", \\\n",
    "             cat_cov_scvi=[\"DonorID\", \"10X_version\", \"Sex\", \"Age_group\"], cont_cov_scvi=[\"percent_mito\"], \\\n",
    "             include_genes=[], exclude_cc_genes=True, exclude_mt_genes=True, \n",
    "             exclude_vdjgenes = True, remove_cite = False, hvg = 3000, max_epochs = 350, vae_name=\"\", **kwargs):\n",
    "    adata_scvi = sc.AnnData(X=adata.layers['counts'].copy(), obs=adata.obs.copy(), var=adata.var.copy())\n",
    "    #adata_scvi = adata_scvi[:,0:-150] # remove cite genes\n",
    "    # adata_scvi.layers[\"counts\"] = adata_scvi.X.copy()\n",
    "    # sc.pp.normalize_total(adata_scvi, target_sum=1e4)\n",
    "    # sc.pp.log1p(adata_scvi)\n",
    "    # keep full dimension safe\n",
    "    #    sc.pp.highly_variable_genes(adata_scvi, flavor=\"seurat_v3\", n_top_genes=10000, layer=\"counts\",\\\n",
    "    #                                batch_key=\"Age_group\")\n",
    "    if remove_cite:\n",
    "        print('removing CITEseq genes pre SCVI')\n",
    "        adata_scvi = adata_scvi[:,~adata_scvi.var['cite']].copy() # remove cite genes\n",
    "    gene_list = adata_scvi.var_names.tolist()\n",
    "    if exclude_cc_genes:\n",
    "        cell_cycle_genes = [x.strip() for x in open('/nfs/team205/vk8/processed_data/regev_lab_cell_cycle_genes.txt')]\n",
    "        [gene_list.remove(i) for i in cell_cycle_genes if i in gene_list]\n",
    "    if exclude_mt_genes:\n",
    "        mt_genes = adata.var_names[adata.var_names.str.startswith('MT-')]\n",
    "        [gene_list.remove(i) for i in mt_genes if i in gene_list]\n",
    "    if exclude_vdjgenes:\n",
    "        import re\n",
    "        [gene_list.remove(i) for i in gene_list if re.search('^TR[AB][VDJ]|^IG[HKL][VDJC]', i)]\n",
    "    \n",
    "    print('Removed excluded genes')\n",
    "    adata_scvi = adata_scvi[:,gene_list].copy()\n",
    "    sc.pp.highly_variable_genes(adata_scvi, flavor=\"seurat_v3\", n_top_genes=hvg, batch_key=batch_hv)\n",
    "    selected_genes = list(set(adata_scvi.var.loc[adata_scvi.var['highly_variable']].index.tolist() + include_genes))\n",
    "    adata_scvi = adata_scvi[:, selected_genes].copy()\n",
    "    print(f'Highly variable genes selected in total {adata_scvi.shape}')\n",
    "    scvi.model.SCVI.setup_anndata(adata_scvi, batch_key=batch_scvi,\n",
    "                                  categorical_covariate_keys=cat_cov_scvi,\n",
    "                                  continuous_covariate_keys=cont_cov_scvi)\n",
    "    scvi_kwargs = {k: v for k, v in kwargs.items() if k in scvi.model.SCVI.__init__.__code__.co_varnames}\n",
    "    vae = scvi.model.SCVI(adata_scvi, **scvi_kwargs)\n",
    "   # vae = scvi.model.SCVI(adata_scvi,n_layers=2, n_latent=30)\n",
    "    train_kwargs = {k: v for k, v in kwargs.items() if k in vae.train.__code__.co_varnames}\n",
    "    vae.train(**train_kwargs)\n",
    "    # adata_scvi.obsm[\"X_scVI\"] = vae.get_latent_representation()\n",
    "    #   adata_raw_scvi = adata.copy()\n",
    "    print('scvi model trained')\n",
    "    adata_scvi.obsm[\"X_scVI\"] = vae.get_latent_representation()\n",
    "    sc.pp.neighbors(adata_scvi, use_rep=\"X_scVI\")\n",
    "    sc.tl.leiden(adata_scvi, resolution = 1, key_added = \"leiden_r1.0\")\n",
    "    sc.tl.leiden(adata_scvi, resolution = 1.2, key_added = \"leiden_r1.2\")\n",
    "    sc.tl.leiden(adata_scvi, resolution = 1.4, key_added = \"leiden_r1.4\")\n",
    "    sc.tl.leiden(adata_scvi, resolution = 1.6, key_added = \"leiden_r1.6\")\n",
    "    #   sc.tl.umap(adata_scvi)\n",
    "    sc.tl.umap(adata_scvi)\n",
    "    print('DR and clustering performed')\n",
    "    adata_raw_scvi = adata.copy()\n",
    "    adata_raw_scvi.obsm['X_scVI'] = adata_scvi.obsm['X_scVI'].copy()\n",
    "    adata_raw_scvi.obsm['X_umap'] = adata_scvi.obsm['X_umap'].copy()\n",
    "    adata_raw_scvi.obsp = adata_scvi.obsp.copy()\n",
    "    adata_raw_scvi.uns = adata_scvi.uns.copy()\n",
    "    adata_raw_scvi.obs[[\"leiden_r1.0\", \"leiden_r1.2\", \"leiden_r1.4\", \"leiden_r1.6\"]] = adata_scvi.obs[[\"leiden_r1.0\", \"leiden_r1.2\", \"leiden_r1.4\", \"leiden_r1.6\"]].copy()\n",
    "    sc.pp.normalize_total(adata_raw_scvi, target_sum = 1e4)\n",
    "    sc.pp.log1p(adata_raw_scvi)\n",
    "    sc.pl.umap(\n",
    "        adata_raw_scvi,\n",
    "        color=['cell_type_level_4'], legend_loc = \"on data\", legend_fontsize = 4, frameon=False,\n",
    "        ncols=2,\n",
    "    )\n",
    "    sc.pl.umap(\n",
    "        adata_raw_scvi,\n",
    "        color=['age_group', 'sex', 'donor'], frameon = False, ncols = 2)\n",
    "    sc.pl.umap(\n",
    "        adata_raw_scvi,\n",
    "        color=['study', 'chemistry_simple', 'doublet_score'])\n",
    "    #cat_cov_str = \"-\".join(cat_cov_scvi)\n",
    "    #    vae.save(f\"/nfs/team205/vk8/scripts/scvi/Results/scvi_models/{vae_name}_scvi_batch{batch_scvi}_cat{cat_cov_str}_cont{cont_cov_scvi}_10000hvgenes_{today}\", save_anndata = True)\n",
    "    results = {}\n",
    "    results['data'] = adata_raw_scvi\n",
    "    results['vae'] = vae\n",
    "    return (results)"
   ]
  },
  {
   "cell_type": "markdown",
   "id": "19a5dce6",
   "metadata": {},
   "source": [
    "## Load TECs "
   ]
  },
  {
   "cell_type": "code",
   "execution_count": null,
   "id": "1509fb04",
   "metadata": {},
   "outputs": [],
   "source": [
    "adata_all = sc.read(\"Figure_1_nat/clean/adata_full_rev_4_clean.h5ad\")"
   ]
  },
  {
   "cell_type": "code",
   "execution_count": null,
   "id": "e26896dd",
   "metadata": {},
   "outputs": [],
   "source": [
    "adata_tec = adata_all[(adata_all.obs['cell_type_level_0'] == 'Epithelial') |\n",
    "                      (adata_all.obs['cell_type_level_4_explore'] == 'TEC-tuft'),:].copy()"
   ]
  },
  {
   "cell_type": "code",
   "execution_count": null,
   "id": "18123031",
   "metadata": {
    "scrolled": true
   },
   "outputs": [],
   "source": [
    "adata_tec.obs['age_group'].value_counts()"
   ]
  },
  {
   "cell_type": "code",
   "execution_count": null,
   "id": "1823611b",
   "metadata": {
    "scrolled": true
   },
   "outputs": [],
   "source": [
    "adata_tec.obs['sex'].value_counts()"
   ]
  },
  {
   "cell_type": "code",
   "execution_count": null,
   "id": "11c8694d",
   "metadata": {},
   "outputs": [],
   "source": [
    "#adata_tec.obs['age_group2'] = adata_tec.obs['age_group'].apply(lambda x: 'prenatal' if x == 'fetal' else 'postnatal') \n",
    "samples = adata_tec.obs['sample'].value_counts().index[adata_tec.obs['sample'].value_counts()>5].tolist()"
   ]
  },
  {
   "cell_type": "code",
   "execution_count": null,
   "id": "697492cc",
   "metadata": {},
   "outputs": [],
   "source": [
    "adata_tec.layers['counts'] = adata_tec.X.copy()"
   ]
  },
  {
   "cell_type": "markdown",
   "id": "925da9e7",
   "metadata": {},
   "source": [
    "### note study is excluded from the covariates as some studies had enriched for particular TEC subtypes"
   ]
  },
  {
   "cell_type": "code",
   "execution_count": null,
   "id": "f511bb5c",
   "metadata": {
    "scrolled": false
   },
   "outputs": [],
   "source": [
    "adata_tec_scvi = run_scvi2(adata_tec,  batch_hv=\"age_group\", hvg = 5000, batch_scvi='sample', \n",
    "          cat_cov_scvi=['chemistry_simple','age_group','donor', 'sex'], cont_cov_scvi = None, include_genes=[], \n",
    "          exclude_cc_genes=True, exclude_vdjgenes=True, exclude_mt_genes = True, \n",
    "          n_layers=2, n_latent=30, max_epochs=350, batch_size=2000)"
   ]
  },
  {
   "cell_type": "code",
   "execution_count": null,
   "id": "42feb359",
   "metadata": {},
   "outputs": [],
   "source": [
    "adata_scvi = adata_tec_scvi['data'].copy()"
   ]
  },
  {
   "cell_type": "code",
   "execution_count": null,
   "id": "25049783",
   "metadata": {},
   "outputs": [],
   "source": [
    "sc.pl.umap(adata_scvi, color = [\"leiden_r1.0\", \"leiden_r1.2\", \"leiden_r1.4\", \"leiden_r1.6\"], \n",
    "           legend_loc = \"on data\", legend_fontsize = 5, frameon = False)"
   ]
  },
  {
   "cell_type": "code",
   "execution_count": null,
   "id": "dc12e7bb",
   "metadata": {},
   "outputs": [],
   "source": [
    "sc.tl.leiden(adata_scvi, resolution = 0.4, restrict_to=['leiden_r1.0', ['9']], key_added = \"leiden_r1.0R\")\n",
    "\n",
    "sc.tl.leiden(adata_scvi, resolution = 0.4, restrict_to=['leiden_r1.2', ['7']], key_added = \"leiden_r1.2R\")"
   ]
  },
  {
   "cell_type": "code",
   "execution_count": null,
   "id": "7c7a5788",
   "metadata": {},
   "outputs": [],
   "source": [
    "sc.tl.leiden(adata_scvi, resolution = 0.3, restrict_to=['leiden_r1.2R', ['7,4']], key_added = \"leiden_r1.2R\")"
   ]
  },
  {
   "cell_type": "code",
   "execution_count": null,
   "id": "7bc3267a",
   "metadata": {},
   "outputs": [],
   "source": [
    "adata_scvi.obs[\"leiden_r1.0R\"].value_counts()"
   ]
  },
  {
   "cell_type": "code",
   "execution_count": null,
   "id": "c3845546",
   "metadata": {},
   "outputs": [],
   "source": [
    "adata_scvi.obs[\"leiden_r1.2R\"].value_counts()"
   ]
  },
  {
   "cell_type": "code",
   "execution_count": null,
   "id": "f4ff6969",
   "metadata": {},
   "outputs": [],
   "source": [
    "sc.pl.umap(adata_scvi, color = [\"leiden_r1.0R\",\"leiden_r1.2R\", \"PTPRC\", \"CD3G\", \"CD4\", \"CD8A\", 'MKI67'], \n",
    "           legend_loc = \"on data\", legend_fontsize = 5, frameon = False)"
   ]
  },
  {
   "cell_type": "code",
   "execution_count": null,
   "id": "5ab83e7d",
   "metadata": {},
   "outputs": [],
   "source": [
    "#T cell doublet\n",
    "sc.pl.dotplot(adata_scvi, var_names = ['PTPRC', 'CD3E', 'CD3G', 'C1QA', 'CD4'], groupby = \"leiden_r1.0R\", swap_axes = True)"
   ]
  },
  {
   "cell_type": "code",
   "execution_count": null,
   "id": "65e5c31c",
   "metadata": {},
   "outputs": [],
   "source": [
    "#cTEC-mTEC doublet?\n",
    "sc.pl.dotplot(adata_scvi, var_names = ['EPCAM', 'AIRE', 'CCL25', 'PRSS12', 'PSMB11', 'LY75'], groupby = \"leiden_r1.0R\", swap_axes = True)"
   ]
  },
  {
   "cell_type": "code",
   "execution_count": null,
   "id": "aec5d342",
   "metadata": {},
   "outputs": [],
   "source": [
    "sc.pl.umap(adata_scvi, color = [\"leiden_r1.2R\"], groups = ['7,4,0', '7,4,1'],\n",
    "           legend_loc = \"on data\", legend_fontsize = 5, frameon = False)"
   ]
  },
  {
   "cell_type": "code",
   "execution_count": null,
   "id": "6fc75e18",
   "metadata": {
    "scrolled": true
   },
   "outputs": [],
   "source": [
    "sc.pl.dotplot(adata_scvi, var_names = ['MKI67'], groupby = \"leiden_r1.2R\", swap_axes = True)"
   ]
  },
  {
   "cell_type": "code",
   "execution_count": null,
   "id": "f5648bd0",
   "metadata": {
    "scrolled": false
   },
   "outputs": [],
   "source": [
    "sc.pl.dotplot(adata_scvi, var_names = ['FOXI1',  'ASCL3', 'CFTR', 'CLCNKB', #ionocytes\n",
    "'SOX9', 'POU2F3', 'DCLK1', 'IL25', # thymic tuft cells\n",
    "'PLCB2', 'TRPM5', 'GNB3', 'GNG13'], groupby = \"leiden_r1.2R\", swap_axes = True)"
   ]
  },
  {
   "cell_type": "code",
   "execution_count": null,
   "id": "653c722c",
   "metadata": {},
   "outputs": [],
   "source": [
    "sc.pl.umap(adata_scvi, color = [\"leiden_r1.2R\", \"MKI67\"], groups = ['7,1'], legend_loc = \"on data\", legend_fontsize = 5, frameon = False)"
   ]
  },
  {
   "cell_type": "code",
   "execution_count": null,
   "id": "e6cda5b4",
   "metadata": {},
   "outputs": [],
   "source": [
    "sc.pl.umap(adata_scvi, color = [\"leiden_r1.2R\", \"MKI67\"], groups = ['7,2'], legend_loc = \"on data\", legend_fontsize = 5, frameon = False)"
   ]
  },
  {
   "cell_type": "code",
   "execution_count": null,
   "id": "9843c9c1",
   "metadata": {},
   "outputs": [],
   "source": [
    "sc.pl.umap(adata_scvi, color = ['FOXI1',  'ASCL3', 'CFTR', 'CLCNKB', #ionocytes\n",
    "'SOX9', 'POU2F3', 'DCLK1', 'IL25', # thymic tuft cells\n",
    "'PLCB2', 'TRPM5', 'GNB3', 'GNG13'],  legend_loc = \"on data\", legend_fontsize = 5, frameon = False)"
   ]
  },
  {
   "cell_type": "code",
   "execution_count": null,
   "id": "4bffa597",
   "metadata": {},
   "outputs": [],
   "source": [
    "adata_scvi.obs[\"leiden_r1.0R\"].value_counts()"
   ]
  },
  {
   "cell_type": "code",
   "execution_count": null,
   "id": "62de0271",
   "metadata": {},
   "outputs": [],
   "source": [
    "sum(adata_scvi.obs[\"leiden_r1.0R\"]==\"9.4\")"
   ]
  },
  {
   "cell_type": "code",
   "execution_count": null,
   "id": "6c885485",
   "metadata": {},
   "outputs": [],
   "source": [
    "adata_scvi_dbrm = adata_scvi[~adata_scvi.obs[\"leiden_r1.0R\"].isin([\"9,4\", \"9,5\"]),:].copy()"
   ]
  },
  {
   "cell_type": "code",
   "execution_count": null,
   "id": "9d15940f",
   "metadata": {},
   "outputs": [],
   "source": [
    "adata_scvi_dbrm.obs['cell_type_level_4_upd'] = adata_scvi_dbrm.obs.apply(lambda x: 'TEC-ionocytes' if x[\"leiden_r1.2R\"] in ['7,4,0', '7,4,1'] else\n",
    "'TEC-tuft' if x[\"leiden_r1.2R\"] == '7,4,2' else\n",
    "'mTECI-Prolif' if x[\"leiden_r1.2R\"]== '7,2' else \n",
    "'mTECI-trans' if x['cell_type_level_4'] == 'see_lv4_explore' else \n",
    "x['cell_type_level_4'], axis = 1)"
   ]
  },
  {
   "cell_type": "code",
   "execution_count": null,
   "id": "f532e8e4",
   "metadata": {},
   "outputs": [],
   "source": [
    "adata_scvi_dbrm.write(f'{clean_folder}/TEC_scvi_dbrm_updated_{today}.h5ad')"
   ]
  },
  {
   "cell_type": "markdown",
   "id": "3df96697",
   "metadata": {},
   "source": [
    "## Re-load and save with new annos"
   ]
  },
  {
   "cell_type": "code",
   "execution_count": null,
   "id": "2ea95c40",
   "metadata": {},
   "outputs": [],
   "source": [
    "adata_tec_scvi = sc.read('/nfs/team205/ny1/ThymusSpatialAtlas/Figure_1_nat/clean/TEC_scvi_dbrm_updated_2024-01-06.h5ad')"
   ]
  },
  {
   "cell_type": "code",
   "execution_count": null,
   "id": "9621c2f2",
   "metadata": {
    "scrolled": false
   },
   "outputs": [],
   "source": [
    "sc.pl.umap(adata_tec_scvi, color = ['cell_type_level_4_explore', 'cell_type_level_4_upd'], legend_loc = \"on data\",\n",
    "           legend_fontsize = 6)"
   ]
  },
  {
   "cell_type": "code",
   "execution_count": null,
   "id": "c3eb878f",
   "metadata": {},
   "outputs": [],
   "source": [
    "tec_mrkrs = {'pan-cTEC':['PSMB11', 'LY75', 'CCL25', 'HLA-DRA'],\n",
    "        'cTEC\\nsubtypes':['TBATA', 'TP53AIP1', 'DLL4'],\n",
    "        'mcTEC':['DLK2','IGFBP5', 'IGFBP6','CCN2', 'CCL2',\n",
    "              'KRT15', 'ITGA6', 'MKI67'],\n",
    "        'pan-mTEC': ['EPCAM'],\n",
    "        'mTECI': ['ASCL1','CCL21'],\n",
    "        'mTECII': ['AIRE', 'FEZF2','CRIP1'], \n",
    "        'mTECIII':['SLPI', 'IVL', 'KRT10','CDKN2A'],\n",
    "        'pan-neuro TEC': ['BEX1', 'NEUROD1'],\n",
    "        'neuroTEC': ['NEUROG1', 'NEUROD4'], \n",
    "        'cilliated TEC': ['PCP4', 'FOXJ1'], \n",
    "        'myoTEC':['CHRNA1', 'MYOG', 'TTN'],\n",
    "        'ionocytes/tuft':['FOXI1', 'CFTR', 'POU2F3','PLCB2']}"
   ]
  },
  {
   "cell_type": "code",
   "execution_count": null,
   "id": "a3e68d13",
   "metadata": {},
   "outputs": [],
   "source": [
    "def population_plots(adata_scvi, mrkrs_dict, save_name, figures, cat_order, anno = 'cell_type_level_4_upd', \n",
    "                     anno_cov = ['study', 'sex', 'age_group', 'chemistry_simple']):\n",
    "    adata_scvi.obs[anno] = adata_scvi.obs[anno].cat.reorder_categories(cat_order).copy()\n",
    "    sc.pl.umap(adata_scvi, color = anno, legend_loc = \"on data\", legend_fontsize = 8, \n",
    "               frameon = False, save = f\"{save_name}_scvi_celltype.pdf\", title = \"\")\n",
    "    sc.pl.umap(adata_scvi, color = anno_cov, wspace = 0.3, frameon = False, \n",
    "               save = f\"{save_name}_scvi_covariates.pdf\")\n",
    "    dp = sc.pl.dotplot(adata_scvi, groupby = anno, var_names = mrkrs_dict, \n",
    "                      standard_scale = \"var\", return_fig = True)\n",
    "    dp = dp.add_totals().style(dot_edge_color='black', dot_edge_lw=0.5, cmap = \"Reds\")\n",
    "    # Save the figure\n",
    "    dp.savefig(f\"{figures}{save_name}_HTSA_scvi_mrkrs.pdf\")"
   ]
  },
  {
   "cell_type": "code",
   "execution_count": null,
   "id": "cb949a68",
   "metadata": {},
   "outputs": [],
   "source": [
    "tec_cells = ['cTECIII', 'cTECII', 'cTECI', 'mcTEC', 'mcTEC-Prolif', 'mTECI','mTECII',\n",
    "             'mTECIII', 'mTECI-trans','TEC-neuro','TEC-cilliated','TEC-myo', 'TEC-tuft']"
   ]
  },
  {
   "cell_type": "code",
   "execution_count": null,
   "id": "bcd71cc2",
   "metadata": {},
   "outputs": [],
   "source": [
    "population_plots(adata_scvi = adata_tec_scvi, mrkrs_dict = tec_mrkrs, save_name = \"TEC\", \n",
    "                 figures = '/nfs/team205/ny1/ThymusSpatialAtlas/Figure_4_nat/figures_vk8/', \n",
    "                 cat_order = tec_cells,\n",
    "                 anno = 'cell_type_level_4_explore', anno_cov = ['study', 'sex', 'age_group', 'chemistry_simple'])"
   ]
  },
  {
   "cell_type": "code",
   "execution_count": null,
   "id": "a742d969",
   "metadata": {},
   "outputs": [],
   "source": []
  }
 ],
 "metadata": {
  "kernelspec": {
   "display_name": "Python [conda env:miniconda-scvi-env]",
   "language": "python",
   "name": "conda-env-miniconda-scvi-env-py"
  },
  "language_info": {
   "codemirror_mode": {
    "name": "ipython",
    "version": 3
   },
   "file_extension": ".py",
   "mimetype": "text/x-python",
   "name": "python",
   "nbconvert_exporter": "python",
   "pygments_lexer": "ipython3",
   "version": "3.7.12"
  }
 },
 "nbformat": 4,
 "nbformat_minor": 5
}
