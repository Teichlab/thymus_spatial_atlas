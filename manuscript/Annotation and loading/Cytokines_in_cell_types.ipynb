{
 "cells": [
  {
   "cell_type": "code",
   "execution_count": null,
   "id": "genetic-mapping",
   "metadata": {},
   "outputs": [],
   "source": []
  },
  {
   "cell_type": "markdown",
   "id": "interpreted-sleeve",
   "metadata": {},
   "source": [
    "# cytokines in cell types"
   ]
  },
  {
   "cell_type": "code",
   "execution_count": null,
   "id": "solar-candle",
   "metadata": {},
   "outputs": [],
   "source": [
    "import matplotlib.pyplot as plt\n",
    "import pandas as pd\n",
    "import scanpy as sc\n",
    "import os\n",
    "from matplotlib import rcParams\n",
    "from matplotlib import font_manager\n",
    "import matplotlib.pyplot as plt\n",
    "rcParams['pdf.fonttype'] = 42\n",
    "sc.settings.set_figure_params(dpi = 150, color_map = 'RdPu', dpi_save = 150, vector_friendly = True, format = 'pdf')\n",
    "font_manager.fontManager.addfont(\"...software/Arial.ttf\")\n",
    "print(font_manager.findfont(\"Arial\"))\n",
    "plt.rcParams[\"font.sans-serif\"] = [\"Arial\"]\n",
    "sc.settings.set_figure_params(dpi = 150, color_map = 'RdPu', dpi_save = 300, vector_friendly = True, format = 'pdf')"
   ]
  },
  {
   "cell_type": "code",
   "execution_count": null,
   "id": "atomic-buddy",
   "metadata": {},
   "outputs": [],
   "source": [
    "os.chdir('.../clean/')\n",
    "adata = sc.read_h5ad(filename='adata_full_rev_4_clean_scvi.h5ad')"
   ]
  },
  {
   "cell_type": "code",
   "execution_count": null,
   "id": "alternative-study",
   "metadata": {},
   "outputs": [],
   "source": [
    "adata"
   ]
  },
  {
   "cell_type": "code",
   "execution_count": null,
   "id": "hungarian-latitude",
   "metadata": {},
   "outputs": [],
   "source": [
    "cells = list(np.unique(adata.obs['cell_type_level_0']))\n",
    "cells"
   ]
  },
  {
   "cell_type": "code",
   "execution_count": null,
   "id": "fifteen-audience",
   "metadata": {},
   "outputs": [],
   "source": [
    "adata[adata.obs['cell_type_level_0'].isin(['T_DN','T_DP','T_SP'])].obs['age_group'].value_counts()"
   ]
  },
  {
   "cell_type": "code",
   "execution_count": null,
   "id": "expected-psychiatry",
   "metadata": {},
   "outputs": [],
   "source": [
    "adata[adata.obs['cell_type_level_0'].isin(['B',\n",
    " 'Epithelial',\n",
    " 'Myeloid',\n",
    " 'RBC',\n",
    " 'Schwann',\n",
    " 'Stroma',])].obs['study_group'].value_counts()"
   ]
  },
  {
   "cell_type": "code",
   "execution_count": null,
   "id": "corporate-transaction",
   "metadata": {},
   "outputs": [],
   "source": [
    "sc.pp.normalize_total(adata)\n",
    "sc.pp.log1p(adata)"
   ]
  },
  {
   "cell_type": "code",
   "execution_count": null,
   "id": "sought-handling",
   "metadata": {},
   "outputs": [],
   "source": [
    "os.chdir('...Figure_3_nat/')\n",
    "anova_results = pd.read_csv('...Figure_3_nat/anova_model_results.csv')"
   ]
  },
  {
   "cell_type": "code",
   "execution_count": null,
   "id": "labeled-semester",
   "metadata": {},
   "outputs": [],
   "source": [
    "# subset genes to these that have low cosine similarity or these that were significantly differnt (bonferonni FDR<0.05) in the anova interaction test \n",
    "diff_genes = pd.concat([\n",
    "    anova_results['Gene'], \n",
    "    (anova_results['Cosine Similarity'] < 0.5).rename('low_cos_similarity'), \n",
    "    (anova_results['Interaction_rejected']).rename('interaction_H0_rejected')], axis=1)\n",
    "diff_genes = diff_genes[(diff_genes['low_cos_similarity']) | (diff_genes['interaction_H0_rejected'])]\n",
    "diff_genes"
   ]
  },
  {
   "cell_type": "code",
   "execution_count": null,
   "id": "cloudy-syndrome",
   "metadata": {},
   "outputs": [],
   "source": [
    "diff_genes.to_csv('...Figure_3_nat/diff_genes.csv')"
   ]
  },
  {
   "cell_type": "code",
   "execution_count": null,
   "id": "informal-scanning",
   "metadata": {},
   "outputs": [],
   "source": [
    "# plot  \n",
    "# del adata_tmp\n",
    "import numpy as np\n",
    "anno = 'cell_type_level_1'\n",
    "cells = ['B', 'DC', 'EC', 'Fb', 'Macrophage', 'Mast', 'Mesothelium', 'Mono',\n",
    "       'Myeloid_progenitor', 'Schwann', 'TEC',\n",
    "       'TEC-mimetic', 'T_CD4', 'T_CD8', 'T_DN', 'T_DN(early)', 'T_DP',\n",
    "       'T_NK', 'T_Treg', 'T_innate', 'T_αβT(entry)', 'Vascular',]\n",
    "\n",
    "genes = diff_genes['Gene']\n",
    "adata_tmp = adata.copy()\n",
    "\n",
    "# subset to cells and generate new category for plotting \n",
    "adata_tmp.obs[anno] = pd.Categorical(adata_tmp.obs[anno], categories=cells, ordered=True)\n",
    "adata_tmp = adata_tmp[~adata_tmp.obs[anno].isna()]\n",
    "groupby = [anno,'age_group']       \n",
    "adata_tmp.obs['groupby_combined'] = adata_tmp.obs[groupby].astype(str).apply('_'.join, axis=1)\n",
    "\n",
    "# Filter for groups with at least 50 cells\n",
    "group_sizes = adata_tmp.obs.groupby('groupby_combined').size()\n",
    "groups_to_keep = group_sizes[group_sizes >= 50].index\n",
    "adata_tmp = adata_tmp[adata_tmp.obs['groupby_combined'].isin(groups_to_keep)]\n",
    "\n",
    "# plotting \n",
    "fig = sc.pl.dotplot(adata_tmp,\n",
    "                    var_names=genes,\n",
    "#                     swap_axes=True,\n",
    "                    groupby='groupby_combined',\n",
    "                    standard_scale='var',\n",
    "                    return_fig=True,)"
   ]
  },
  {
   "cell_type": "code",
   "execution_count": null,
   "id": "constant-rating",
   "metadata": {},
   "outputs": [],
   "source": [
    "fig.add_totals().style(dot_edge_color='black', dot_edge_lw=0.5, cmap=\"Reds\")\n",
    "# plt.show()\n",
    "\n",
    "fig.savefig('figures/Diff_cyt.pdf')"
   ]
  },
  {
   "cell_type": "code",
   "execution_count": null,
   "id": "outstanding-microphone",
   "metadata": {},
   "outputs": [],
   "source": [
    "# plot for figure 6 "
   ]
  },
  {
   "cell_type": "code",
   "execution_count": null,
   "id": "portable-straight",
   "metadata": {},
   "outputs": [],
   "source": [
    "sc.pp.normalize_total(adata)\n",
    "sc.pp.log1p(adata)"
   ]
  },
  {
   "cell_type": "code",
   "execution_count": null,
   "id": "sought-stockholm",
   "metadata": {},
   "outputs": [],
   "source": [
    "genes = ['CCL25','CXCL12','CCL19','CCL21','CCL17','CCL22','CXCL9','CXCL10','CXCL11']"
   ]
  },
  {
   "cell_type": "code",
   "execution_count": null,
   "id": "tough-purple",
   "metadata": {},
   "outputs": [],
   "source": [
    "# plot  \n",
    "# del adata_tmp\n",
    "import numpy as np\n",
    "anno = 'cell_type_level_4'\n",
    "bdata = adata[adata.obs['age_group']!='fetal'] # subset to paed\n",
    "# subset by cell count\n",
    "value_counts = bdata.obs[anno].value_counts()\n",
    "filtered_value_counts = value_counts[value_counts > 50]\n",
    "filtered_cell_types = list(filtered_value_counts.index)\n",
    "bdata = bdata[bdata.obs[anno].isin(filtered_cell_types)]\n",
    "# # subset by relative expression \n",
    "data_subset  = bdata[:, genes].to_df()\n",
    "data_subset[anno] = bdata.obs[anno]\n",
    "mean_expression_per_cell_type = data_subset.groupby(anno).mean()\n",
    "scaled_expression = mean_expression_per_cell_type.div(mean_expression_per_cell_type.max())\n",
    "filtered_scaled_expression = scaled_expression[scaled_expression.apply(lambda x: (x > 0.2).any(), axis=1)] # remove cells that don't have at least on gene that is expressed over 0.2 in the group\n",
    "bdata = bdata[bdata.obs[anno].isin(filtered_scaled_expression.index.tolist())]"
   ]
  },
  {
   "cell_type": "code",
   "execution_count": null,
   "id": "constitutional-admission",
   "metadata": {},
   "outputs": [],
   "source": [
    "ordered_categories_list = [\n",
    " 'cTECIII',\n",
    " 'cTECII',\n",
    " 'cTECI',\n",
    " 'mcTEC',\n",
    " 'mcTEC-Prolif',\n",
    " 'mTECI',\n",
    " 'mTECII',\n",
    " 'mTECIII',\n",
    " 'mTECI-trans',\n",
    " 'medFb',\n",
    " 'medFB-MHCIIh',\n",
    " 'medFb-RGS5',\n",
    " 'EC-Art',\n",
    " 'EC-Art-ELN',\n",
    " 'EC-Ven',\n",
    " 'EC-Cap',\n",
    " 'EC-Lymphatic',\n",
    " 'InterloFb',\n",
    " 'PeriloFb',\n",
    " 'Pericyte_CCL19',\n",
    " 'Pericyte_COL1A1',   \n",
    " 'B-Prolif',\n",
    " 'B-memory',\n",
    " 'Macrophage-APOC2',\n",
    " 'DC1',\n",
    " 'DC2',\n",
    " 'DC2-Prolif',\n",
    " 'aDC1',\n",
    " 'aDC2',\n",
    " 'aDC3',\n",
    " ]\n",
    "print(\"see we didn't drop anything\")\n",
    "len(np.unique(ordered_categories_list))\n",
    "len(filtered_scaled_expression.index.tolist())\n",
    "bdata.obs[anno] = pd.Categorical(bdata.obs[anno], categories=ordered_categories_list, ordered=True)\n"
   ]
  },
  {
   "cell_type": "code",
   "execution_count": null,
   "id": "western-observation",
   "metadata": {},
   "outputs": [],
   "source": [
    "# plotting \n",
    "fig = sc.pl.dotplot(bdata,\n",
    "                    var_names=genes,\n",
    "#                     swap_axes=True,\n",
    "                    groupby=anno,\n",
    "                    standard_scale='var',\n",
    "                    return_fig=True,)\n",
    "fig.add_totals().style(dot_edge_color='black', dot_edge_lw=0.5, cmap=\"Reds\")\n",
    "# plt.show()\n",
    "os.chdir('...Figure_6_nat/')\n",
    "fig.savefig('figures/cytokines_cells_paed_count_over_50_expression_over_02.pdf')"
   ]
  },
  {
   "cell_type": "code",
   "execution_count": null,
   "id": "coral-explosion",
   "metadata": {},
   "outputs": [],
   "source": []
  }
 ],
 "metadata": {
  "kernelspec": {
   "display_name": "imagespot_cpu",
   "language": "python",
   "name": "imagespot_cpu"
  },
  "language_info": {
   "codemirror_mode": {
    "name": "ipython",
    "version": 3
   },
   "file_extension": ".py",
   "mimetype": "text/x-python",
   "name": "python",
   "nbconvert_exporter": "python",
   "pygments_lexer": "ipython3",
   "version": "3.9.15"
  }
 },
 "nbformat": 4,
 "nbformat_minor": 5
}
