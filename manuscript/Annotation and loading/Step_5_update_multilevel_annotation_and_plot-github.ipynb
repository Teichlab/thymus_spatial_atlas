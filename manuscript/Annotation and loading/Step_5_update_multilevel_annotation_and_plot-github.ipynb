{
 "cells": [
  {
   "cell_type": "markdown",
   "id": "proved-williams",
   "metadata": {},
   "source": [
    "# Thymus human spatial atlas\n",
    "# Multi resolution annotation from high resolution annotation  "
   ]
  },
  {
   "cell_type": "code",
   "execution_count": null,
   "id": "consecutive-butterfly",
   "metadata": {
    "tags": []
   },
   "outputs": [],
   "source": [
    "import sys\n",
    "import matplotlib.pyplot as plt\n",
    "import seaborn as sns\n",
    "import numpy as np\n",
    "import pandas as pd\n",
    "import scanpy as sc\n",
    "import scvi\n",
    "from IPython.core.interactiveshell import InteractiveShell\n",
    "InteractiveShell.ast_node_interactivity = \"all\" # to show output from all the lines in a cells\n",
    "pd.set_option('display.max_column',None) # display all the columns in pandas\n",
    "pd.options.display.max_rows = 100\n",
    "import os\n",
    "from datetime import date \n",
    "today = str(date.today())\n",
    "\n",
    "from matplotlib import rcParams\n",
    "from matplotlib import font_manager\n",
    "import matplotlib.pyplot as plt\n",
    "rcParams['pdf.fonttype'] = 42\n",
    "sc.settings.set_figure_params(dpi = 150, color_map = 'RdPu', dpi_save = 150, vector_friendly = True, format = 'pdf')\n",
    "font_manager.fontManager.addfont(\"...software/Arial.ttf\")\n",
    "print(font_manager.findfont(\"Arial\"))\n",
    "plt.rcParams[\"font.sans-serif\"] = [\"Arial\"]\n",
    "sc.settings.set_figure_params(dpi = 150, color_map = 'RdPu', dpi_save = 300, vector_friendly = True, format = 'pdf')"
   ]
  },
  {
   "cell_type": "markdown",
   "id": "reliable-romance",
   "metadata": {
    "jp-MarkdownHeadingCollapsed": true,
    "tags": []
   },
   "source": [
    "## Load full thymus dataset"
   ]
  },
  {
   "cell_type": "code",
   "execution_count": null,
   "id": "smaller-puppy",
   "metadata": {},
   "outputs": [],
   "source": [
    "os.chdir('.../clean/')\n",
    "adata = sc.read_h5ad(filename='adata_full_rev_2_clean.h5ad')"
   ]
  },
  {
   "cell_type": "code",
   "execution_count": null,
   "id": "sonic-executive",
   "metadata": {},
   "outputs": [],
   "source": [
    "list[adata.obs['pred_cell_type_level_4'].cat.categories]"
   ]
  },
  {
   "cell_type": "markdown",
   "id": "dress-gross",
   "metadata": {
    "tags": []
   },
   "source": [
    "## Load Lena's annotation"
   ]
  },
  {
   "cell_type": "code",
   "execution_count": null,
   "id": "dimensional-marks",
   "metadata": {},
   "outputs": [],
   "source": [
    "df_obs_cite = pd.read_csv('.../clean/HTSA_CITE_anno.csv',index_col = 0)"
   ]
  },
  {
   "cell_type": "code",
   "execution_count": null,
   "id": "owned-projector",
   "metadata": {},
   "outputs": [],
   "source": [
    "df_obs_cite.columns"
   ]
  },
  {
   "cell_type": "code",
   "execution_count": null,
   "id": "honey-programmer",
   "metadata": {},
   "outputs": [],
   "source": [
    "new_anno =      {'RNA.weight':float, 'ADTdsb.weight':float, 'low_ADT':str,'spt_CD4':float, 'spt_CD8':float, 'anno_CITE_new':str}\n",
    "for a in new_anno.items():\n",
    "    adata.obs[a[0]] = df_obs_cite[a[0]]\n",
    "    adata.obs[a[0]] = adata.obs[a[0]].astype(a[1])"
   ]
  },
  {
   "cell_type": "code",
   "execution_count": null,
   "id": "handy-nothing",
   "metadata": {},
   "outputs": [],
   "source": [
    "sc.pl.umap(adata, color=['RNA.weight','ADTdsb.weight','low_ADT','spt_CD4','spt_CD8','anno_CITE_new'], legend_loc='on data',legend_fontsize = 3)"
   ]
  },
  {
   "cell_type": "code",
   "execution_count": null,
   "id": "guided-tobago",
   "metadata": {},
   "outputs": [],
   "source": [
    "granular_ctype_dict = {}\n",
    "for i in adata.obs['pred_cell_type_level_4'].cat.categories:\n",
    "    granular_ctype_dict[i] = {i}\n",
    "granular_ctype_dict"
   ]
  },
  {
   "cell_type": "code",
   "execution_count": null,
   "id": "checked-horizon",
   "metadata": {},
   "outputs": [],
   "source": [
    "adata.obs['cell_type_level_4_explore'] = adata.obs['pred_cell_type_level_4']"
   ]
  },
  {
   "cell_type": "markdown",
   "id": "crucial-seven",
   "metadata": {
    "tags": []
   },
   "source": [
    "## multilevel annotations\n",
    "\n"
   ]
  },
  {
   "cell_type": "code",
   "execution_count": null,
   "id": "under-syria",
   "metadata": {},
   "outputs": [],
   "source": [
    "# generate highres but clean annotations\n",
    "dict_anno_v4_clean = {\n",
    "     'B-Prolif': {'B-Prolif'},\n",
    "     'B-memory': {'B-memory'},\n",
    "     'B-naive': {'B-naive'},\n",
    "     'B-plasma': {'B-plasma'},\n",
    "     'B_pre_pro': {'B_pro_pre'},\n",
    "     'CMP': {'CMP'},\n",
    "     'DC1': {'DC1'},\n",
    "     'DC1-Prolif': {'DC1-Prolif'},\n",
    "     'DC2': {'DC2'},\n",
    "     'DC2-Prolif': {'DC2-Prolif'},\n",
    "     'EC-Art': {'EC-Art'},\n",
    "     'EC-Art-ELN': {'EC-Art-ELN'},\n",
    "     'EC-Cap': {'EC-Cap'},\n",
    "     'EC-Cap-Prolif': {'EC-Cap-Prolif'},\n",
    "     'EC-Lymphatic': {'EC-Lymphatic'},\n",
    "     'EC-Ven': {'EC-Ven'},\n",
    "     'EC-Ven-ELN': {'EC-Ven-ELN'},\n",
    "     'GMP': {'GMP'},\n",
    "     'InterloFb': {'InterloFb'},\n",
    "     'InterloFb-COL9A3': {'InterloFb-COL9A3'},\n",
    "     'Macrophage-APOC2': {'Macrophage-APOC2'},\n",
    "     'Macrophage-LYVE1': {'Macrophage-LYVE1'},\n",
    "     'Macrophage-SPIC1': {'Macrophage-SPIC1'},\n",
    "     'Mast': {'Mast'},\n",
    "     'Mesothelium': {'Mesothelium'},\n",
    "     'Monocyte_CCR2': {'Monocyte_CCR2'},\n",
    "     'Monocyte_IL1B': {'Monocyte_IL1B'},\n",
    "     'Myelocyte': {'Myelocyte'},\n",
    "     'Neutrophil': {'Neutrophil'},\n",
    "     'Pericyte_general': {'Pericyte'},\n",
    "     'Pericyte_CCL19': {'Pericyte_CCL19'},\n",
    "     'Pericyte_COL1A1': {'Pericyte_COL1A1'},\n",
    "     'PeriloFb': {'PeriloFb'},\n",
    "     'PeriloFb-Prolif': {'PeriloFb-Prolif'},\n",
    "     'ProlifPericyte': {'ProlifPericyte'},\n",
    "     'Promonocyte': {'Promonocyte'},\n",
    "     'RBC': {'RBC'},\n",
    "     'SMC': {'SMC'},\n",
    "     'Schwann': {'Schwann'},\n",
    "     'TEC-cilliated': {'TEC-cilliated'},\n",
    "     'TEC-myo': {'TEC-myo'},\n",
    "     'TEC-neuro': {'TEC-neuro'},\n",
    "     'see_lv4_explore': {'TEC-tuft'},\n",
    "     'T_CD4': {'T_CD4'},\n",
    "     'T_CD8': {'T_CD8'},\n",
    "     'see_lv4_explore': {'T_CD8-Prolif'},\n",
    "     'T_CD8_memory': {'T_CD8_memory'},\n",
    "     'T_CD8αα(I)': {'T_CD8αα(I)'},\n",
    "     'T_CD8αα(II)': {'T_CD8αα(II)'},\n",
    "     'T_CD8αα(entry)': {'T_CD8αα(entry)'},\n",
    "     'T_DN(P)': {'T_DN(P)'},\n",
    "     'T_DN(Q)': {'T_DN(Q)'},\n",
    "     'see_lv4_explore': {'T_DN(Q)-intermediate'},\n",
    "     'see_lv4_explore': {'T_DN(Q)-stress_1'},\n",
    "     'see_lv4_explore': {'T_DN(Q)-stress_2'},\n",
    "     'T_DN(early)': {'T_DN(early)'},\n",
    "     'T_DP(P)': {'T_DP(P)'},\n",
    "     'T_DP(Q)': {'T_DP(Q)'},\n",
    "     'see_lv4_explore': {'T_DP(Q)-CD99'},\n",
    "     'see_lv4_explore': {'T_DP(Q)-HSPH1'},\n",
    "     'T_DP(Q)-early': {'T_DP(Q)-early'},\n",
    "     'see_lv4_explore': {'T_DP(Q)-late_vdj'},\n",
    "     'T_ETP': {'T_ETP'},\n",
    "     'T_NK': {'T_NK'},\n",
    "     'see_lv4_explore': {'T_NK_dev'},\n",
    "     'see_lv4_explore': {'T_NK_fetal'}, # NK-fetal was later changed to ambiguous and moved to \"explore\" as these are not NK cells\n",
    "     'see_lv4_explore': {'T_SP8or4'},\n",
    "     'see_lv4_explore': {'T_SP-HSP'},\n",
    "     'T_Treg(agonist)': {'T_Treg(agonist)'},\n",
    "     'T_Treg-diff_1': {'T_Treg-diff_1'},\n",
    "     'T_Treg-diff_2': {'T_Treg-diff_2'},\n",
    "     'T_Treg-intermediate': {'T_Treg-intermediate'},\n",
    "     'T_Treg_CD8': {'T_Treg_CD8'},\n",
    "     'T_Treg_mature': {'T_Treg_mature'},\n",
    "     'T_Treg_recirc': {'T_Treg_recirc'},\n",
    "     'see_lv4_explore': {'T_cycling'},\n",
    "     'see_lv4_explore': {'T_innate_type_1'},\n",
    "     'see_lv4_explore': {'T_innate_type_3'},\n",
    "     'T_αβT(entry)': {'T_αβT(entry)'},\n",
    "     'T_γδT': {'T_γδT'},\n",
    "     'aDC1': {'aDC1'},\n",
    "     'aDC2': {'aDC2'},\n",
    "     'aDC3': {'aDC3'},\n",
    "     'cTECI': {'cTECI'},\n",
    "     'cTECII': {'cTECII'},\n",
    "     'cTECIII': {'cTECIII'},\n",
    "     'see_lv4_explore': {'fetFB-CCL21'},\n",
    "     'see_lv4_explore': {'fetFB-NKX2-5'},\n",
    "     'see_lv4_explore': {'fetFB-RSPO2'},\n",
    "     'large_pre_B': {'large_pre_B'},\n",
    "     'late_pro_B': {'late_pro_B'},\n",
    "     'mTECI': {'mTECI'},\n",
    "     'mTECI-trans': {'mTECI-trans'},\n",
    "     'mTECII': {'mTECII'},\n",
    "     'mTECIII': {'mTECIII'},\n",
    "     'mcTEC': {'mcTEC'},\n",
    "     'mcTEC-Prolif': {'mcTEC-Prolif'},\n",
    "     'medFB-MHCIIh': {'medFB-MHCIIh'},\n",
    "     'medFb': {'medFb'},\n",
    "     'medFb-RGS5': {'medFb-RGS5'},\n",
    "     'nmSchwann': {'nmSchwann'},\n",
    "     'pDC': {'pDC'},\n",
    "     'pDC-Prolif': {'pDC-Prolif'},\n",
    "     'pro_B': {'pro_B'},\n",
    "     'small_pre_B': {'small_pre_B'},\n",
    "}\n",
    "\n",
    "adata.obs['cell_type_level_4'] = 'see_lv4_explore' # generate a new lv4 annotation \n",
    "adata.obs['pred_cell_type_level_4'] = adata.obs['pred_cell_type_level_4'].astype('object')    \n",
    "for key, values in dict_anno_v4_clean.items():\n",
    "    adata.obs.loc[adata.obs['pred_cell_type_level_4'].isin(values), 'cell_type_level_4'] = key\n",
    "adata.obs['cell_type_level_4'] = adata.obs['cell_type_level_4'].astype('category')    \n",
    "sc.set_figure_params(figsize=[10,10])\n",
    "sc.pl.umap(adata, color=['cell_type_level_4'], legend_loc='on data',legend_fontsize = 10)\n",
    "adata.obs['cell_type_level_4'].value_counts(dropna=False)"
   ]
  },
  {
   "cell_type": "code",
   "execution_count": null,
   "id": "motivated-deposit",
   "metadata": {},
   "outputs": [],
   "source": [
    "# lv 4 \n",
    "granular_ctype_dict = {}\n",
    "for i in adata.obs['cell_type_level_4'].cat.categories:\n",
    "    granular_ctype_dict[i] = {i}\n",
    "\n",
    "    "
   ]
  },
  {
   "cell_type": "code",
   "execution_count": null,
   "id": "handy-navigation",
   "metadata": {},
   "outputs": [],
   "source": [
    "# map level 3\n",
    "dict_anno_v3 = {\n",
    "             'see_lv4_explore':{'see_lv4_explore'},\n",
    "    \n",
    "             'T_DN(early)':{'T_DN(early)','T_ETP'},\n",
    "             'T_DN(Q)':{'T_DN(Q)'},\n",
    "             'T_DN(P)':{'T_DN(P)'},\n",
    "\n",
    "             'T_DP(Q)':{'T_DP(Q)', 'T_DP(Q)-early'},\n",
    "             'T_DP(P)':{'T_DP(P)'},\n",
    "             'T_CD4': {'T_CD4'},\n",
    "             'T_CD8': {'T_CD8','T_CD8_memory'},\n",
    "             'T_CD8αα': {'T_CD8αα(I)','T_CD8αα(II)','T_CD8αα(entry)'},\n",
    "        \n",
    "             'T_NK': {'T_NK','T_NK_fetal'}, # NK-fetal was later changed to ambiguous and moved to \"explore\" as these are not NK cells\n",
    "     \n",
    "             'T_Treg(agonist)': {'T_Treg(agonist)','T_Treg-diff_1','T_Treg-diff_2','T_Treg-intermediate'},\n",
    "             'T_Treg_CD8': {'T_Treg_CD8'},\n",
    "             'T_Treg_mature': {'T_Treg_mature'},\n",
    "             'T_Treg_recirc': {'T_Treg_recirc'},\n",
    "             'T_γδT':{'T_γδT'},\n",
    "             'T_αβT(entry)': {'T_αβT(entry)'},\n",
    "    \n",
    "             'RBC': {'RBC'},\n",
    "    \n",
    "             'B_dev': {'B_pre_pro','pro_B', 'late_pro_B', 'large_pre_B', 'small_pre_B'},\n",
    "             'B_mature':{'B-naive', 'B-memory', 'B-Prolif'},\n",
    "             'B-plasma': {'B-plasma'},\n",
    "    \n",
    "             'Myeloid_progenitor':{'CMP','GMP'},\n",
    "\n",
    "             'Mono':{'Promonocyte', 'Monocyte_CCR2', 'Monocyte_IL1B'},\n",
    "    \n",
    "             'Neut':{'Myelocyte','Neutrophil'},\n",
    "    \n",
    "             'Mast': {'Mast'},\n",
    "\n",
    "    \n",
    "             'DC1': {'DC1', 'DC1-Prolif'},\n",
    "             'aDC1': {'aDC1'},\n",
    "             'DC2': {'DC2', 'DC2-Prolif'},\n",
    "             'aDC2': {'aDC2'},\n",
    "             'aDC3': {'aDC3'},\n",
    "    \n",
    "             'pDC': {'pDC', 'pDC-Prolif'},\n",
    "             \n",
    "             'Macrophage-APOC2':{'Macrophage-APOC2'},\n",
    "             'Macrophage-LYVE1':{'Macrophage-LYVE1'}, \n",
    "             'Macrophage-SPIC1':{'Macrophage-SPIC1'},\n",
    "    \n",
    "             'cTECI': {'cTECI'},\n",
    "             'cTECII': {'cTECII'},\n",
    "             'cTECIII': {'cTECIII'},\n",
    "             'mTECI': {'mTECI'},\n",
    "             'mTECI-trans': {'mTECI-trans'},\n",
    "             'mTECII': {'mTECII'},\n",
    "             'mTECIII': {'mTECIII'},\n",
    "    \n",
    "             'mcTEC': {'mcTEC','mcTEC-Prolif'},\n",
    "             'TEC-cilliated': {'TEC-cilliated'},\n",
    "             'TEC-myo': {'TEC-myo'},\n",
    "             'TEC-neuro': {'TEC-neuro'},\n",
    "\n",
    "            'EC-Art': {'EC-Art', 'EC-Art-ELN'},\n",
    "            'EC-Cap':{'EC-Cap', 'EC-Cap-Prolif'},\n",
    "            'EC-Ven':{'EC-Ven', 'EC-Ven-ELN'},\n",
    "            'EC-Lymphatic':{'EC-Lymphatic'},\n",
    "            'SMC':{'SMC'},\n",
    "    \n",
    "            'Pericyte': {'Pericyte_general', 'Pericyte_CCL19', 'Pericyte_COL1A1', 'ProlifPericyte'},\n",
    "    \n",
    "            'PeriloFb': {'PeriloFb','PeriloFb-Prolif'},\n",
    "            'InterloFb': {'InterloFb', 'InterloFb-COL9A3'},\n",
    "            'medFB-MHCIIh': {'medFB-MHCIIh'},\n",
    "            'medFb': {'medFb', 'medFb-RGS5'},\n",
    "            'fetFB_special': {'fetFB-CCL21','fetFB-NKX2-5','fetFB-RSPO2'},\n",
    "    \n",
    "            'Mesothelium':{'Mesothelium'},\n",
    "            'Schwann': {'Schwann','nmSchwann'},\n",
    "    \n",
    "            'T_innate': {'T_innate_type_1','T_innate_type_3'},\n",
    "            }\n",
    "\n",
    "adata.obs['cell_type_level_3'] = 'unassigned'\n",
    "for key, values in dict_anno_v3.items():\n",
    "    adata.obs.loc[adata.obs['cell_type_level_4'].isin(values), 'cell_type_level_3'] = key\n",
    "adata.obs['cell_type_level_3'] = adata.obs['cell_type_level_3'].astype('category')    \n",
    " \n",
    "sc.set_figure_params(figsize=[10,10])\n",
    "sc.pl.umap(adata, color=['cell_type_level_3'], legend_loc='on data',legend_fontsize = 10)\n",
    "adata.obs['cell_type_level_3'].value_counts(dropna=False)"
   ]
  },
  {
   "cell_type": "code",
   "execution_count": null,
   "id": "electronic-agent",
   "metadata": {
    "tags": []
   },
   "outputs": [],
   "source": [
    "# map level 2\n",
    "dict_anno_v2 = {\n",
    "             'see_lv4_explore':{'see_lv4_explore'},\n",
    "    \n",
    "             'T_DN(early)':{'T_DN(early)','T_ETP'},\n",
    "             'T_DN(Q)':{'T_DN(Q)'},\n",
    "             'T_DN(P)':{'T_DN(P)'},\n",
    "\n",
    "             'T_DP(Q)':{'T_DP(Q)', 'T_DP(Q)-early'},\n",
    "             'T_DP(P)':{'T_DP(P)'},\n",
    "             'T_CD4': {'T_CD4'},\n",
    "             'T_CD8': {'T_CD8','T_CD8_memory'},\n",
    "             'T_αβT(entry)': {'T_αβT(entry)'},\n",
    "\n",
    "             'T_CD8αα': {'T_CD8αα(I)','T_CD8αα(II)','T_CD8αα(entry)'},\n",
    "        \n",
    "             'T_NK': {'T_NK','T_NK_fetal'},\n",
    "     \n",
    "             'T_Treg(agonist)': {'T_Treg(agonist)','T_Treg-diff_1','T_Treg-diff_2','T_Treg-intermediate'},\n",
    "             'T_Treg': {'T_Treg_mature','T_Treg_recirc','T_Treg_CD8'},\n",
    "             'T_γδT':{'T_γδT'},\n",
    "    \n",
    "             'B_dev': {'B_pre_pro','pro_B', 'late_pro_B', 'large_pre_B', 'small_pre_B'},\n",
    "             'B_mature':{'B-naive', 'B-memory', 'B-Prolif'},\n",
    "             'B-plasma': {'B-plasma'},\n",
    "             \n",
    "             'RBC': {'RBC'},\n",
    "    \n",
    "             'Myeloid_progenitor':{'CMP','GMP'},\n",
    "\n",
    "             'Mono':{'Promonocyte', 'Monocyte_CCR2', 'Monocyte_IL1B'},\n",
    "             'Neut':{'Myelocyte','Neutrophil'},\n",
    "             'Mast': {'Mast'},\n",
    "\n",
    "             'DC': {'DC1', 'DC1-Prolif','DC2', 'DC2-Prolif'},\n",
    "             'aDC': {'aDC1','aDC2','aDC3'},            \n",
    "             'pDC': {'pDC', 'pDC-Prolif'},\n",
    "             \n",
    "             'Macrophage':{'Macrophage-APOC2','Macrophage-LYVE1','Macrophage-SPIC1'},\n",
    "    \n",
    "             'cTEC': {'cTECI','cTECII','cTECIII'},\n",
    "             'mTEC': {'mTECI','mTECI-trans','mTECII','mTECIII'},\n",
    "    \n",
    "             'mcTEC': {'mcTEC','mcTEC-Prolif'},\n",
    "             'mTEC-mimetic': {'TEC-cilliated','TEC-myo','TEC-neuro'},\n",
    "\n",
    "            'EC-Art': {'EC-Art', 'EC-Art-ELN'},\n",
    "            'EC-Cap':{'EC-Cap', 'EC-Cap-Prolif'},\n",
    "            'EC-Ven':{'EC-Ven', 'EC-Ven-ELN'},\n",
    "            'EC-Lymphatic':{'EC-Lymphatic'},\n",
    "            'SMC':{'SMC'},\n",
    "    \n",
    "            'Pericyte': {'Pericyte_general', 'Pericyte_CCL19', 'Pericyte_COL1A1', 'ProlifPericyte'},\n",
    "    \n",
    "            'PeriloFb': {'PeriloFb','PeriloFb-Prolif'},\n",
    "            'InterloFb': {'InterloFb', 'InterloFb-COL9A3'},\n",
    "            'medFb': {'medFb', 'medFb-RGS5','medFB-MHCIIh'},\n",
    "            'fetFB_special': {'fetFB-CCL21','fetFB-NKX2-5','fetFB-RSPO2'},\n",
    "    \n",
    "            'Mesothelium':{'Mesothelium'},\n",
    "            'Schwann': {'Schwann','nmSchwann'},\n",
    "    \n",
    "            'T_innate': {'T_innate_type_1','T_innate_type_3'},\n",
    "            }\n",
    "\n",
    "adata.obs['cell_type_level_2'] = 'unassigned'\n",
    "for key, values in dict_anno_v2.items():\n",
    "    adata.obs.loc[adata.obs['cell_type_level_4'].isin(values), 'cell_type_level_2'] = key\n",
    "adata.obs['cell_type_level_2'] = adata.obs['cell_type_level_2'].astype('category')    \n",
    " \n",
    "sc.set_figure_params(figsize=[10,10])\n",
    "sc.pl.umap(adata, color=['cell_type_level_2'], legend_loc='on data',legend_fontsize = 10)\n",
    "adata.obs['cell_type_level_2'].value_counts(dropna=False)"
   ]
  },
  {
   "cell_type": "code",
   "execution_count": null,
   "id": "overall-affairs",
   "metadata": {
    "tags": []
   },
   "outputs": [],
   "source": [
    "# map level 1\n",
    "dict_anno_v1 = {\n",
    "             'see_lv4_explore':{'see_lv4_explore'},\n",
    "    \n",
    "             'T_DN(early)':{'T_DN(early)','T_ETP'},\n",
    "             'T_DN':{'T_DN(Q)','T_DN(P)'},\n",
    "\n",
    "             'T_DP':{'T_DP(Q)','T_DP(P)' ,'T_DP(Q)-early'},\n",
    "             'T_CD4': {'T_CD4'},\n",
    "             'T_CD8': {'T_CD8','T_CD8_memory'},\n",
    "             'T_αβT(entry)': {'T_αβT(entry)'},\n",
    "        \n",
    "             'T_NK': {'T_NK','T_NK_fetal'},\n",
    "     \n",
    "             'T_Treg': {'T_Treg(agonist)','T_Treg-diff_1','T_Treg-diff_2','T_Treg-intermediate','T_Treg_mature','T_Treg_recirc','T_Treg_CD8'},\n",
    "    \n",
    "             'B': {'B_pre_pro','pro_B', 'late_pro_B', 'large_pre_B', 'small_pre_B','B-naive', 'B-memory', 'B-Prolif','B-plasma'},\n",
    "    \n",
    "            'RBC': {'RBC'},\n",
    "    \n",
    "             'Myeloid_progenitor':{'CMP','GMP'},\n",
    "\n",
    "             'Mono':{'Promonocyte', 'Monocyte_CCR2', 'Monocyte_IL1B'},\n",
    "             'Neut':{'Myelocyte','Neutrophil'},\n",
    "             'Mast': {'Mast'},\n",
    "\n",
    "             'DC': {'DC1', 'DC1-Prolif','DC2', 'DC2-Prolif','aDC1','aDC2','aDC3','pDC', 'pDC-Prolif'},\n",
    "             \n",
    "             'Macrophage':{'Macrophage-APOC2','Macrophage-LYVE1','Macrophage-SPIC1'},\n",
    "    \n",
    "             'TEC': {'cTECI','cTECII','cTECIII','mTECI','mTECI-trans','mTECII','mTECIII','mcTEC','mcTEC-Prolif'},\n",
    "             'TEC-mimetic': {'TEC-cilliated','TEC-myo','TEC-neuro'},\n",
    "\n",
    "            'EC': {'EC-Art', 'EC-Art-ELN','EC-Cap', 'EC-Cap-Prolif','EC-Ven', 'EC-Ven-ELN','EC-Lymphatic'},\n",
    "    \n",
    "            'Vascular': {'Pericyte_general', 'Pericyte_CCL19', 'Pericyte_COL1A1', 'ProlifPericyte','SMC'},\n",
    "    \n",
    "            'Fb': {'PeriloFb','PeriloFb-Prolif','InterloFb', 'InterloFb-COL9A3','medFb', 'medFb-RGS5','medFB-MHCIIh','fetFB-CCL21','fetFB-NKX2-5','fetFB-RSPO2'},\n",
    "    \n",
    "            'Mesothelium':{'Mesothelium'},\n",
    "            'Schwann': {'Schwann','nmSchwann'},\n",
    "    \n",
    "            'T_innate': {'T_innate_type_1','T_innate_type_3','T_γδT','T_CD8αα(I)','T_CD8αα(II)','T_CD8αα(entry)'},\n",
    "            }\n",
    "\n",
    "adata.obs['cell_type_level_1'] = 'unassigned'\n",
    "for key, values in dict_anno_v1.items():\n",
    "    adata.obs.loc[adata.obs['cell_type_level_4'].isin(values), 'cell_type_level_1'] = key\n",
    "adata.obs['cell_type_level_1'] = adata.obs['cell_type_level_1'].astype('category')    \n",
    " \n",
    "sc.set_figure_params(figsize=[10,10])\n",
    "sc.pl.umap(adata, color=['cell_type_level_1'], legend_loc='on data',legend_fontsize = 10)\n",
    "adata.obs['cell_type_level_1'].value_counts(dropna=False)"
   ]
  },
  {
   "cell_type": "code",
   "execution_count": null,
   "id": "compound-shipping",
   "metadata": {},
   "outputs": [],
   "source": [
    "# map level 0\n",
    "dict_anno_v0 = {\n",
    "             'see_lv4_explore':{'see_lv4_explore'},\n",
    "    \n",
    "             'T_DN':{'T_DN(Q)','T_DN(P)','T_DN(early)','T_ETP'},\n",
    "             'T_DP':{'T_DP(Q)','T_DP(P)' ,'T_DP(Q)-early'},\n",
    "             'T_SP': {'T_CD4','T_CD8','T_CD8_memory','T_αβT(entry)',\n",
    "                      'T_Treg(agonist)','T_Treg-diff_1','T_Treg-diff_2','T_Treg-intermediate','T_Treg_mature','T_Treg_recirc','T_Treg_CD8',\n",
    "                      'T_NK','T_NK_fetal','T_innate_type_1','T_innate_type_3','T_γδT','T_CD8αα(I)','T_CD8αα(II)','T_CD8αα(entry)'},\n",
    "\n",
    "             'B': {'B_pre_pro','pro_B', 'late_pro_B', 'large_pre_B', 'small_pre_B','B-naive', 'B-memory', 'B-Prolif','B-plasma'},\n",
    "             'RBC': {'RBC'},\n",
    "    \n",
    "             'Myeloid':{'CMP','GMP','Promonocyte', 'Monocyte_CCR2', 'Monocyte_IL1B','Myelocyte','Neutrophil',\n",
    "                       'Mast','DC1', 'DC1-Prolif','DC2', 'DC2-Prolif','aDC1','aDC2','aDC3','pDC', 'pDC-Prolif',\n",
    "                       'Macrophage-APOC2','Macrophage-LYVE1','Macrophage-SPIC1'},\n",
    "\n",
    "    \n",
    "             'Epithelial': {'cTECI','cTECII','cTECIII','mTECI','mTECI-trans','mTECII','mTECIII','mcTEC','mcTEC-Prolif','TEC-cilliated','TEC-myo','TEC-neuro'},\n",
    "\n",
    "             'Stroma': {'EC-Art', 'EC-Art-ELN','EC-Cap', 'EC-Cap-Prolif','EC-Ven', 'EC-Ven-ELN','EC-Lymphatic','Pericyte_general', 'Pericyte_CCL19', 'Pericyte_COL1A1', 'ProlifPericyte','SMC',\n",
    "                       'PeriloFb','PeriloFb-Prolif','InterloFb', 'InterloFb-COL9A3','medFb', 'medFb-RGS5','medFB-MHCIIh','fetFB-CCL21','fetFB-NKX2-5','fetFB-RSPO2','Mesothelium'\n",
    "                      },\n",
    "    \n",
    "            'Schwann': {'Schwann','nmSchwann'},\n",
    "    \n",
    "            }\n",
    "\n",
    "adata.obs['cell_type_level_0'] = 'unassigned'\n",
    "for key, values in dict_anno_v0.items():\n",
    "    adata.obs.loc[adata.obs['cell_type_level_4'].isin(values), 'cell_type_level_0'] = key\n",
    "adata.obs['cell_type_level_0'] = adata.obs['cell_type_level_0'].astype('category')    \n",
    " \n",
    "sc.set_figure_params(figsize=[10,10])\n",
    "sc.pl.umap(adata, color=['cell_type_level_0'], legend_loc='on data',legend_fontsize = 10)\n",
    "adata.obs['cell_type_level_0'].value_counts(dropna=False)"
   ]
  },
  {
   "cell_type": "code",
   "execution_count": null,
   "id": "operational-mounting",
   "metadata": {},
   "outputs": [],
   "source": [
    "# further cleanup"
   ]
  },
  {
   "cell_type": "code",
   "execution_count": null,
   "id": "african-coral",
   "metadata": {},
   "outputs": [],
   "source": [
    "adata.obs['anno_CITE'] = adata.obs['anno_CITE_new']"
   ]
  },
  {
   "cell_type": "code",
   "execution_count": null,
   "id": "female-association",
   "metadata": {},
   "outputs": [],
   "source": [
    "del adata.obs['anno_CITE_new'] \n",
    "del adata.obs['anno_CITE_4v5'] \n",
    "del adata.obs['cell_type_level_0_old'] \n",
    "del adata.obs['annotation_level_4']"
   ]
  },
  {
   "cell_type": "code",
   "execution_count": null,
   "id": "artistic-harvest",
   "metadata": {},
   "outputs": [],
   "source": [
    "adata"
   ]
  },
  {
   "cell_type": "code",
   "execution_count": null,
   "id": "blank-bulgarian",
   "metadata": {},
   "outputs": [],
   "source": [
    "os.chdir('.../clean/')\n",
    "adata.write_h5ad(filename='adata_full_rev_3_clean.h5ad')"
   ]
  },
  {
   "cell_type": "code",
   "execution_count": null,
   "id": "blessed-single",
   "metadata": {},
   "outputs": [],
   "source": [
    "os.chdir('.../clean/')\n",
    "adata = sc.read_h5ad(filename='adata_full_rev_3_clean.h5ad')\n",
    "adata"
   ]
  },
  {
   "cell_type": "code",
   "execution_count": null,
   "id": "speaking-wireless",
   "metadata": {},
   "outputs": [],
   "source": [
    "adata.obs['cell_type_level_4_explore'] = adata.obs['pred_cell_type_level_4']\n",
    "adata"
   ]
  },
  {
   "cell_type": "code",
   "execution_count": null,
   "id": "female-parent",
   "metadata": {},
   "outputs": [],
   "source": [
    "sc.set_figure_params(figsize=[10,10])\n",
    "sc.pl.umap(adata, color=['cell_type_level_4_explore'], legend_loc='on data',legend_fontsize = 10)\n",
    "adata.obs['cell_type_level_0'].value_counts(dropna=False)"
   ]
  },
  {
   "cell_type": "code",
   "execution_count": null,
   "id": "severe-thomson",
   "metadata": {},
   "outputs": [],
   "source": [
    "os.chdir('.../clean/')\n",
    "adata.write_h5ad(filename='adata_full_rev_3_clean.h5ad')"
   ]
  },
  {
   "cell_type": "markdown",
   "id": "hungarian-hollywood",
   "metadata": {
    "jp-MarkdownHeadingCollapsed": true,
    "tags": []
   },
   "source": [
    "# add CITEseq protein data"
   ]
  },
  {
   "cell_type": "code",
   "execution_count": null,
   "id": "optional-twins",
   "metadata": {},
   "outputs": [],
   "source": [
    "os.chdir('.../clean/')\n",
    "adata = sc.read_h5ad(filename='')\n",
    "adata"
   ]
  },
  {
   "cell_type": "code",
   "execution_count": null,
   "id": "plain-canon",
   "metadata": {},
   "outputs": [],
   "source": [
    "adata_cite = sc.read_h5ad(filename='.../HTSA_CITE_anno.h5ad')\n",
    "adata_cite"
   ]
  },
  {
   "cell_type": "code",
   "execution_count": null,
   "id": "inner-dakota",
   "metadata": {},
   "outputs": [],
   "source": [
    "# Step 1: Rename variables in CITE-seq object\n",
    "adata_cite.var.index = \"cite_\" + adata_cite.var.index\n",
    "\n",
    "# Step 2: Identify common cells\n",
    "common_cells = adata.obs_names.intersection(adata_cite.obs_names)\n",
    "print('found ',len(common_cells),' common cells')"
   ]
  },
  {
   "cell_type": "code",
   "execution_count": null,
   "id": "boolean-butler",
   "metadata": {},
   "outputs": [],
   "source": [
    "# Step 3: Create a placeholder for protein data\n",
    "# Initialize with zeros or NaNs\n",
    "protein_data_placeholder = pd.DataFrame(np.nan, \n",
    "                                        index=adata.obs_names, \n",
    "                                        columns=adata_cite.var_names)\n",
    "\n",
    "# Step 4: Transfer protein data for common cells\n",
    "protein_data_placeholder.loc[common_cells] = adata_cite[common_cells].to_df()\n",
    "\n",
    "# Update adata's obsm with the protein data\n",
    "adata.obsm[\"protein_expression\"] = protein_data_placeholder"
   ]
  },
  {
   "cell_type": "code",
   "execution_count": null,
   "id": "bound-ferry",
   "metadata": {},
   "outputs": [],
   "source": [
    "adata.obsm[\"protein_expression\"][adata.obs['study']=='HTSA_Ghent']"
   ]
  },
  {
   "cell_type": "code",
   "execution_count": null,
   "id": "rocky-bulgaria",
   "metadata": {},
   "outputs": [],
   "source": [
    "adata"
   ]
  },
  {
   "cell_type": "code",
   "execution_count": null,
   "id": "separate-afternoon",
   "metadata": {},
   "outputs": [],
   "source": [
    "os.chdir('.../clean/')\n",
    "adata.write_h5ad(filename='adata_full_rev_4_clean.h5ad')"
   ]
  },
  {
   "cell_type": "markdown",
   "id": "usual-belly",
   "metadata": {
    "tags": []
   },
   "source": [
    "# show proportions"
   ]
  },
  {
   "cell_type": "code",
   "execution_count": null,
   "id": "suited-leone",
   "metadata": {},
   "outputs": [],
   "source": [
    "import os\n",
    "import scanpy as sc\n",
    "os.chdir('.../clean/')\n",
    "adata = sc.read_h5ad(filename='adata_full_rev_4_clean.h5ad')"
   ]
  },
  {
   "cell_type": "code",
   "execution_count": null,
   "id": "micro-april",
   "metadata": {},
   "outputs": [],
   "source": [
    "adata"
   ]
  },
  {
   "cell_type": "code",
   "execution_count": null,
   "id": "greater-designation",
   "metadata": {
    "tags": []
   },
   "outputs": [],
   "source": [
    "import scanpy as sc\n",
    "import matplotlib.pyplot as plt\n",
    "import seaborn as sns\n",
    "\n",
    "def get_cluster_proportions(adata,\n",
    "                            cluster_key=\"cluster_final\",\n",
    "                            sample_key=\"replicate\",\n",
    "                            drop_values=None):\n",
    "    \"\"\"\n",
    "    Input\n",
    "    =====\n",
    "    adata : AnnData object\n",
    "    cluster_key : key of `adata.obs` storing cluster info\n",
    "    sample_key : key of `adata.obs` storing sample/replicate info\n",
    "    drop_values : list/iterable of possible values of `sample_key` that you don't want\n",
    "    \n",
    "    Returns\n",
    "    =======\n",
    "    pd.DataFrame with samples as the index and clusters as the columns and 0-100 floats\n",
    "    as values\n",
    "    \"\"\"\n",
    "    \n",
    "    adata_tmp = adata.copy()\n",
    "    sizes = adata_tmp.obs.groupby([cluster_key, sample_key]).size()\n",
    "    props = sizes.groupby(level=1).apply(lambda x: 100 * x / x.sum()).reset_index() \n",
    "    props = props.pivot(columns=sample_key, index=cluster_key).T\n",
    "    props.index = props.index.droplevel(0)\n",
    "    props.fillna(0, inplace=True)\n",
    "    \n",
    "    if drop_values is not None:\n",
    "        for drop_value in drop_values:\n",
    "            props.drop(drop_value, axis=0, inplace=True)\n",
    "    return props"
   ]
  },
  {
   "cell_type": "code",
   "execution_count": null,
   "id": "psychological-linux",
   "metadata": {},
   "outputs": [],
   "source": [
    "sc.set_figure_params(figsize=[7,3],fontsize=10,dpi=100)\n",
    "\n",
    "def plot_cluster_proportions(cluster_props, \n",
    "                             cluster_palette='colorblind',\n",
    "                             xlabel_rotation=0): \n",
    "    fig, ax = plt.subplots(dpi=300)\n",
    "    fig.patch.set_facecolor(\"white\")\n",
    "    \n",
    "    cmap = None\n",
    "    if cluster_palette is not None:\n",
    "        cmap = sns.palettes.blend_palette(\n",
    "            cluster_palette, \n",
    "            n_colors=len(cluster_palette), \n",
    "            as_cmap=True)\n",
    "   \n",
    "    cluster_props.plot(\n",
    "        kind=\"bar\", \n",
    "        stacked=True, \n",
    "        ax=ax, \n",
    "        legend=None, \n",
    "        colormap=cmap\n",
    "    )\n",
    "    \n",
    "    ax.legend(bbox_to_anchor=(1.01, 1), frameon=False, title=\"Cluster\")\n",
    "    sns.despine(fig, ax)\n",
    "    # ax.tick_params(axis=\"x\", rotation=xlabel_rotation)\n",
    "    ax.set_xlabel(cluster_props.index.name.capitalize())\n",
    "    ax.set_ylabel(\"Proportion\")\n",
    "    fig.tight_layout()\n",
    "    ax.grid(False)\n",
    "    return fig\n",
    "    "
   ]
  },
  {
   "cell_type": "code",
   "execution_count": null,
   "id": "varied-tournament",
   "metadata": {},
   "outputs": [],
   "source": [
    "props = get_cluster_proportions(adata,\n",
    "                            cluster_key=\"study_group\",\n",
    "                            sample_key=\"cell_type_level_0\",\n",
    "                            drop_values=None)"
   ]
  },
  {
   "cell_type": "code",
   "execution_count": null,
   "id": "headed-tactics",
   "metadata": {
    "tags": []
   },
   "outputs": [],
   "source": [
    "sc.set_figure_params(figsize=[20,8],fontsize=20,dpi=50)\n",
    "\n",
    "fig = plot_cluster_proportions(props, \n",
    "                             cluster_palette=None,\n",
    "                             xlabel_rotation=0)\n",
    "os.chdir('.../')\n",
    "fig.savefig('figures/study_groups_cell_type_level_0.pdf')"
   ]
  },
  {
   "cell_type": "code",
   "execution_count": null,
   "id": "useful-airplane",
   "metadata": {},
   "outputs": [],
   "source": [
    "# import matplotlib.pyplot as plt\n",
    "os.chdir('.../')\n",
    "\n",
    "sc.set_figure_params(figsize=[10,4],fontsize=5,dpi=50)\n",
    "anno = 'cell_type_level_4'\n",
    "cell_type_counts = adata.obs[anno].value_counts()\n",
    "# Plotting the bar chart\n",
    "cell_type_counts.plot.bar()\n",
    "plt.grid(which='both', linestyle='--', linewidth=0.5)\n",
    "\n",
    "# Setting the y-axis to a log scale\n",
    "plt.yscale('log')\n",
    "# Adding labels and title for clarity (optional but recommended)\n",
    "plt.xlabel(f'{anno.replace(\"_\", \" \")}')\n",
    "plt.ylabel('Counts (log scale)')\n",
    "plt.title('Counts of Cell Types (Log Scale)')\n",
    "plt.savefig(f'figures/{anno}_counts.pdf')\n",
    "# Display the plot\n",
    "plt.show()\n",
    "               \n",
    "    "
   ]
  },
  {
   "cell_type": "code",
   "execution_count": null,
   "id": "arctic-habitat",
   "metadata": {},
   "outputs": [],
   "source": [
    "import os\n",
    "import seaborn as sns\n",
    "import matplotlib.pyplot as plt\n",
    "\n",
    "# Change directory as required\n",
    "os.chdir('.../')\n",
    "\n",
    "# Assuming 'adata' is your AnnData object and is already defined\n",
    "anno = 'cell_type_level_0'\n",
    "# Getting value counts and converting to DataFrame\n",
    "cell_type_counts = adata.obs[anno].value_counts().reset_index()\n",
    "cell_type_counts.columns = [anno, 'counts']\n",
    "\n",
    "# Sort categories by counts in descending order\n",
    "cell_type_counts.sort_values('counts', ascending=False, inplace=True)\n",
    "\n",
    "# Determine the figure width based on the number of categories\n",
    "num_categories = len(cell_type_counts)\n",
    "bar_width = 0.2  # The desired width of each bar\n",
    "space_between_bars = 0.01# The space between each bar\n",
    "desired_plot_width_per_category = bar_width + space_between_bars  # Total space for each category\n",
    "\n",
    "# Calculate total plot width needed\n",
    "total_plot_width = num_categories * desired_plot_width_per_category\n",
    "\n",
    "# Make sure there is a minimum width for the plot\n",
    "min_width = 0  # Adjust this as needed\n",
    "figure_width = max(total_plot_width, min_width)\n",
    "\n",
    "# Set the Seaborn figure parameters\n",
    "sns.set_theme(style=\"whitegrid\")\n",
    "plt.figure(figsize=[figure_width, 6])  # Dynamic width based on the number of categories\n",
    "\n",
    "plt.rcParams['pdf.fonttype'] = 42\n",
    "plt.rcParams['ps.fonttype'] = 42\n",
    "\n",
    "# Creating the bar plot\n",
    "ax = sns.barplot(x=anno, y='counts', data=cell_type_counts, order=cell_type_counts[anno], rasterized=True)\n",
    "\n",
    "\n",
    "\n",
    "# Setting the y-axis to a log scale\n",
    "plt.yscale('log')\n",
    "\n",
    "# Customizing the plot\n",
    "ax.set_xlabel(f'{anno.replace(\"_\", \" \")}')\n",
    "ax.set_ylabel('Counts (log scale)')\n",
    "ax.set_title('Counts of Cell Types (Log Scale)')\n",
    "\n",
    "# Rotating x-axis labels for better readability and adjusting font size if needed\n",
    "plt.xticks(rotation=90, ha='center')  # Rotation set to 90 for vertical labels\n",
    "\n",
    "# Adding grid\n",
    "plt.grid(which='both', linestyle='--', linewidth=0.5)\n",
    "\n",
    "# Save the plot as a PDF, SVG, or PNG file\n",
    "plt.savefig(f'figures/{anno}_counts.pdf', bbox_inches='tight')\n",
    "\n",
    "\n",
    "# Display the plot\n",
    "plt.show()"
   ]
  },
  {
   "cell_type": "code",
   "execution_count": null,
   "id": "functioning-headquarters",
   "metadata": {},
   "outputs": [],
   "source": [
    "# check proportion of each annotation for fetal vs infant and paed \n",
    "# cehch bunddance \n",
    "sc.set_figure_params(figsize=[2,3],dpi=100,fontsize=5)\n",
    "\n",
    "\n",
    "props = get_cluster_proportions(adata,\n",
    "                            cluster_key=\"donor\",\n",
    "                            sample_key=\"age_group\",\n",
    "                            drop_values=None)\n",
    "\n",
    "fig = plot_cluster_proportions(props, \n",
    "                             cluster_palette=None,\n",
    "                             xlabel_rotation=0)\n",
    "plt.savefig(f'figures/age_group_donor.pdf')\n"
   ]
  },
  {
   "cell_type": "markdown",
   "id": "increasing-african",
   "metadata": {},
   "source": [
    "# generate final umap "
   ]
  },
  {
   "cell_type": "code",
   "execution_count": null,
   "id": "exposed-trustee",
   "metadata": {},
   "outputs": [],
   "source": [
    "os.chdir('.../clean/')\n",
    "adata = sc.read_h5ad(filename='adata_full_rev_4_clean.h5ad')"
   ]
  },
  {
   "cell_type": "code",
   "execution_count": null,
   "id": "educated-transcript",
   "metadata": {},
   "outputs": [],
   "source": [
    "os.chdir('...software/ImageSpot/')\n",
    "import scvi_wrapper as sv\n",
    "adata_new = sv.scvi_wrapper_basic(\n",
    "    adata,\n",
    "    max_epochs=400,\n",
    "    remove_vdjgenes=True,\n",
    "    hvg=5000,\n",
    "    batch_key='sample',\n",
    "    categorical_covariate_keys=['chemistry_simple','age_group','sex','donor'],\n",
    "    continuous_covariate_keys = None,\n",
    "    cluster_leiden=False,\n",
    "    layer_use=None,\n",
    "    remove_cite=False,\n",
    ") "
   ]
  },
  {
   "cell_type": "code",
   "execution_count": null,
   "id": "generous-alcohol",
   "metadata": {},
   "outputs": [],
   "source": [
    "os.chdir('.../clean/')\n",
    "# adata_new.write_h5ad(filename='adata_full_rev_4_clean_scvi.h5ad')\n",
    "adata_new = sc.read_h5ad(filename='adata_full_rev_4_clean_scvi.h5ad')"
   ]
  },
  {
   "cell_type": "code",
   "execution_count": null,
   "id": "nasty-mistress",
   "metadata": {},
   "outputs": [],
   "source": [
    "sc.set_figure_params(figsize=[10,10])\n",
    "np.unique(adata_new.obs['cell_type_level_4'])"
   ]
  },
  {
   "cell_type": "code",
   "execution_count": null,
   "id": "closing-sending",
   "metadata": {},
   "outputs": [],
   "source": [
    "sc.pl.umap(adata_new, color=['cell_type_level_0'], legend_loc='on data',legend_fontsize = 10,palette='tab10')\n",
    "# adata.obs[''].value_counts(dropna=False)"
   ]
  },
  {
   "cell_type": "code",
   "execution_count": null,
   "id": "useful-expense",
   "metadata": {},
   "outputs": [],
   "source": [
    "import scanpy as sc\n",
    "\n",
    "# Assuming `adata` is your preprocessed AnnData object\n",
    "\n",
    "# Define ranges for the parameters you want to test\n",
    "n_neighbors_list = [30]  # Different values for the neighborhood size\n",
    "min_dist_list = [0.1, 0.2, 0.3]  # Different values for the min_dist parameter in UMAP\n",
    "\n",
    "# Loop over the parameters\n",
    "for n_neighbors in n_neighbors_list:\n",
    "    for min_dist in min_dist_list:\n",
    "                    \n",
    "            # Compute the neighborhood graph\n",
    "            sc.pp.neighbors(adata_new, n_neighbors=n_neighbors, use_rep=\"X_scVI\")\n",
    "            \n",
    "            # Run UMAP with the current set of parameters\n",
    "            sc.tl.umap(adata_new, min_dist=min_dist)\n",
    "            \n",
    "            # Plot the UMAP\n",
    "            sc.pl.umap(adata_new, color='cell_type_level_1', \n",
    "                       title=f'UMAP: n_neighbors={n_neighbors}, min_dist={min_dist}')\n",
    "            \n",
    "        "
   ]
  },
  {
   "cell_type": "code",
   "execution_count": null,
   "id": "unlike-blues",
   "metadata": {},
   "outputs": [],
   "source": []
  }
 ],
 "metadata": {
  "environment": {
   "name": "common-cu110.m80",
   "type": "gcloud",
   "uri": "gcr.io/deeplearning-platform-release/base-cu110:m80"
  },
  "kernelspec": {
   "display_name": "scvi-env",
   "language": "python",
   "name": "scvi-env"
  },
  "language_info": {
   "codemirror_mode": {
    "name": "ipython",
    "version": 3
   },
   "file_extension": ".py",
   "mimetype": "text/x-python",
   "name": "python",
   "nbconvert_exporter": "python",
   "pygments_lexer": "ipython3",
   "version": "3.9.12"
  }
 },
 "nbformat": 4,
 "nbformat_minor": 5
}
