{
 "cells": [
  {
   "cell_type": "markdown",
   "id": "german-hamilton",
   "metadata": {},
   "source": [
    "### Load and plot resident cell types"
   ]
  },
  {
   "cell_type": "code",
   "execution_count": null,
   "id": "fabulous-corrections",
   "metadata": {},
   "outputs": [],
   "source": [
    "import scanpy as sc\n",
    "import numpy as np\n",
    "import pandas as pd\n",
    "import scvi\n",
    "import seaborn as sns\n",
    "import os,sys\n",
    "import anndata\n",
    "import scvi\n",
    "import anndata as ad\n",
    "\n",
    "from IPython.core.interactiveshell import InteractiveShell\n",
    "InteractiveShell.ast_node_interactivity = \"all\" # to show output from all the lines in a cells\n",
    "pd.set_option('display.max_column',None) # display all the columns in pandas\n",
    "pd.options.display.max_rows = 100\n",
    "\n",
    "from datetime import date\n",
    "today = str(date.today())\n",
    "sc.logging.print_header()\n",
    "## Add this line so the text on pdf is correctly recognised!!!\n",
    "import matplotlib.pyplot as plt \n",
    "from matplotlib import font_manager \n",
    "font_manager.fontManager.addfont(\"...Arial.ttf\") \n",
    "print(font_manager.findfont(\"Arial\")) \n",
    "plt.rcParams[\"font.sans-serif\"] = [\"Arial\"] \n",
    "plt.rcParams[\"pdf.fonttype\"] = 42\n",
    "from matplotlib import rcParams\n",
    "sc.settings.set_figure_params(dpi = 150, color_map = 'RdPu', dpi_save = 300, vector_friendly = True, format = 'pdf')"
   ]
  },
  {
   "cell_type": "code",
   "execution_count": null,
   "id": "worth-husband",
   "metadata": {},
   "outputs": [],
   "source": [
    "#model_folder = '/nfs/team205/ny1/ThymusSpatialAtlas/Figure4/scvi_models/'\n",
    "figures = '...figures/'\n",
    "results = '...'"
   ]
  },
  {
   "cell_type": "code",
   "execution_count": null,
   "id": "architectural-ceiling",
   "metadata": {},
   "outputs": [],
   "source": [
    "clean_folder = '...'"
   ]
  },
  {
   "cell_type": "code",
   "execution_count": null,
   "id": "finite-separate",
   "metadata": {},
   "outputs": [],
   "source": [
    "major_mrkrs = ['PTPRC', 'CD3G', \n",
    "               'HOXA9', \n",
    "               'HES1', #DN\n",
    "               'RORC', #DP\n",
    "               'CCR9',\n",
    "              'PDCD1', #CD8aa\n",
    "              'CD8A', 'CD8B', \n",
    "              'CD4', 'CD40LG', \n",
    "              'CRTAM', 'ANXA1', #memory\n",
    "             'FOXP3', 'DHRS3', \n",
    "               'TRDC', #gama-delta \n",
    "              'EOMES', 'KLRD1', # NK cells\n",
    "              'TNFSF11', # ILC\n",
    "              'CD19', 'VPREB1', # pre-pro B cells\n",
    "              'IGHD', 'IGHA1', 'IGHG1', \n",
    "              'CLEC9A', 'CLEC10A', \n",
    "              'LAMP3', \n",
    "             'LILRA4','S100A9', 'C1QA', 'TPSB2', 'ITGA2B', 'GYPA', \n",
    "              'PDGFRA', 'COLEC11', 'FBN1', \n",
    "              'RGS5', 'CDH5', \n",
    "               'LYVE1', 'EPCAM', 'PSMB11', 'DLK2', 'KRT14', \n",
    "               'CCL19', 'AIRE', 'KRT1', 'POU2F3',\n",
    "               'MYOD1', 'NEUROG1']"
   ]
  },
  {
   "cell_type": "code",
   "execution_count": null,
   "id": "certified-pizza",
   "metadata": {},
   "outputs": [],
   "source": [
    "def run_scvi2(adata, batch_hv=\"age_group\", batch_scvi=\"sample\", \\\n",
    "             cat_cov_scvi=[\"DonorID\", \"10X_version\", \"Sex\", \"Age_group\"], cont_cov_scvi=[\"percent_mito\"], \\\n",
    "             include_genes=[], exclude_cc_genes=True, exclude_mt_genes=True, \n",
    "             exclude_vdjgenes = True, remove_cite = False, hvg = 3000, max_epochs = 350, vae_name=\"\", **kwargs):\n",
    "    adata_scvi = sc.AnnData(X=adata.layers['counts'].copy(), obs=adata.obs.copy(), var=adata.var.copy())\n",
    "    #adata_scvi = adata_scvi[:,0:-150] # remove cite genes\n",
    "    # adata_scvi.layers[\"counts\"] = adata_scvi.X.copy()\n",
    "    # sc.pp.normalize_total(adata_scvi, target_sum=1e4)\n",
    "    # sc.pp.log1p(adata_scvi)\n",
    "    # keep full dimension safe\n",
    "    #    sc.pp.highly_variable_genes(adata_scvi, flavor=\"seurat_v3\", n_top_genes=10000, layer=\"counts\",\\\n",
    "    #                                batch_key=\"Age_group\")\n",
    "    if remove_cite:\n",
    "        print('removing CITEseq genes pre SCVI')\n",
    "        adata_scvi = adata_scvi[:,~adata_scvi.var['cite']].copy() # remove cite genes\n",
    "    gene_list = adata_scvi.var_names.tolist()\n",
    "    if exclude_cc_genes:\n",
    "        cell_cycle_genes = [x.strip() for x in open('/nfs/team205/vk8/processed_data/regev_lab_cell_cycle_genes.txt')]\n",
    "        [gene_list.remove(i) for i in cell_cycle_genes if i in gene_list]\n",
    "    if exclude_mt_genes:\n",
    "        mt_genes = adata.var_names[adata.var_names.str.startswith('MT-')]\n",
    "        [gene_list.remove(i) for i in mt_genes if i in gene_list]\n",
    "    if exclude_vdjgenes:\n",
    "        import re\n",
    "        [gene_list.remove(i) for i in gene_list if re.search('^TR[AB][VDJ]|^IG[HKL][VDJC]', i)]\n",
    "    \n",
    "    print('Removed excluded genes')\n",
    "    adata_scvi = adata_scvi[:,gene_list].copy()\n",
    "    sc.pp.highly_variable_genes(adata_scvi, flavor=\"seurat_v3\", n_top_genes=hvg, batch_key=batch_hv)\n",
    "    selected_genes = list(set(adata_scvi.var.loc[adata_scvi.var['highly_variable']].index.tolist() + include_genes))\n",
    "    adata_scvi = adata_scvi[:, selected_genes].copy()\n",
    "    print(f'Highly variable genes selected in total {adata_scvi.shape}')\n",
    "    scvi.model.SCVI.setup_anndata(adata_scvi, batch_key=batch_scvi,\n",
    "                                  categorical_covariate_keys=cat_cov_scvi,\n",
    "                                  continuous_covariate_keys=cont_cov_scvi)\n",
    "    scvi_kwargs = {k: v for k, v in kwargs.items() if k in scvi.model.SCVI.__init__.__code__.co_varnames}\n",
    "    vae = scvi.model.SCVI(adata_scvi, **scvi_kwargs)\n",
    "   # vae = scvi.model.SCVI(adata_scvi,n_layers=2, n_latent=30)\n",
    "    train_kwargs = {k: v for k, v in kwargs.items() if k in vae.train.__code__.co_varnames}\n",
    "    vae.train(**train_kwargs)\n",
    "    # adata_scvi.obsm[\"X_scVI\"] = vae.get_latent_representation()\n",
    "    #   adata_raw_scvi = adata.copy()\n",
    "    print('scvi model trained')\n",
    "    adata_scvi.obsm[\"X_scVI\"] = vae.get_latent_representation()\n",
    "    sc.pp.neighbors(adata_scvi, use_rep=\"X_scVI\")\n",
    "    sc.tl.leiden(adata_scvi, resolution = 1, key_added = \"leiden_r1.0\")\n",
    "    sc.tl.leiden(adata_scvi, resolution = 1.2, key_added = \"leiden_r1.2\")\n",
    "    sc.tl.leiden(adata_scvi, resolution = 1.4, key_added = \"leiden_r1.4\")\n",
    "    sc.tl.leiden(adata_scvi, resolution = 1.6, key_added = \"leiden_r1.6\")\n",
    "    #   sc.tl.umap(adata_scvi)\n",
    "    sc.tl.umap(adata_scvi)\n",
    "    print('DR and clustering performed')\n",
    "    adata_raw_scvi = adata.copy()\n",
    "    adata_raw_scvi.obsm['X_scVI'] = adata_scvi.obsm['X_scVI'].copy()\n",
    "    adata_raw_scvi.obsm['X_umap'] = adata_scvi.obsm['X_umap'].copy()\n",
    "    adata_raw_scvi.obsp = adata_scvi.obsp.copy()\n",
    "    adata_raw_scvi.uns = adata_scvi.uns.copy()\n",
    "    adata_raw_scvi.obs[[\"leiden_r1.0\", \"leiden_r1.2\", \"leiden_r1.4\", \"leiden_r1.6\"]] = adata_scvi.obs[[\"leiden_r1.0\", \"leiden_r1.2\", \"leiden_r1.4\", \"leiden_r1.6\"]].copy()\n",
    "    sc.pp.normalize_total(adata_raw_scvi, target_sum = 1e4)\n",
    "    sc.pp.log1p(adata_raw_scvi)\n",
    "    sc.pl.umap(\n",
    "        adata_raw_scvi,\n",
    "        color=['cell_type_level_4'], legend_loc = \"on data\", legend_fontsize = 4, frameon=False,\n",
    "        ncols=2,\n",
    "    )\n",
    "    sc.pl.umap(\n",
    "        adata_raw_scvi,\n",
    "        color=['age_group', 'sex', 'donor'], frameon = False, ncols = 2)\n",
    "    sc.pl.umap(\n",
    "        adata_raw_scvi,\n",
    "        color=['study', 'chemistry_simple', 'doublet_score'])\n",
    "    #cat_cov_str = \"-\".join(cat_cov_scvi)\n",
    "    #    vae.save(f\"/nfs/team205/vk8/scripts/scvi/Results/scvi_models/{vae_name}_scvi_batch{batch_scvi}_cat{cat_cov_str}_cont{cont_cov_scvi}_10000hvgenes_{today}\", save_anndata = True)\n",
    "    results = {}\n",
    "    results['data'] = adata_raw_scvi\n",
    "    results['vae'] = vae\n",
    "    return (results)"
   ]
  },
  {
   "cell_type": "code",
   "execution_count": null,
   "id": "manual-worthy",
   "metadata": {},
   "outputs": [],
   "source": [
    "B_mrkrs_dict = {'B':['CD79A'],\n",
    "    'pro_B': ['CD19', 'VPREB1', 'MME', 'CDC45', 'MKI67'], \n",
    " 'late_pro_B': ['CD27', 'RAG1', 'DNTT'],\n",
    " 'pro->pre': ['CD24', 'TNFRSF17'],\n",
    " 'pre->mature' :['MME', 'IDH2', 'SPIB'],\n",
    " 'B_naive': ['IGHM', 'IGHD', 'MS4A1', 'TCL1A'],\n",
    " 'B_memory':[\"IGHG1\", \"TNFRSF13B\", \"FCRL4\", \"CLECL1\"],\n",
    " 'B_plasma':[\"XBP1\", \"PRDM1\", \"JCHAIN\"],\n",
    " 'Prolif': ['MKI67']\n",
    "}"
   ]
  },
  {
   "cell_type": "markdown",
   "id": "speaking-integral",
   "metadata": {},
   "source": [
    "## Load B cells"
   ]
  },
  {
   "cell_type": "code",
   "execution_count": null,
   "id": "acoustic-large",
   "metadata": {},
   "outputs": [],
   "source": [
    "adata_all = sc.read(f\"{clean_folder}/adata_full_rev_4_clean.h5ad\")"
   ]
  },
  {
   "cell_type": "code",
   "execution_count": null,
   "id": "psychological-feedback",
   "metadata": {
    "scrolled": true
   },
   "outputs": [],
   "source": [
    "adata_all.obs['cell_type_level_4_explore'].cat.categories.tolist()"
   ]
  },
  {
   "cell_type": "code",
   "execution_count": null,
   "id": "dying-liabilities",
   "metadata": {},
   "outputs": [],
   "source": [
    "Bcells = [i for i in adata_all.obs['cell_type_level_4_explore'].cat.categories if '_B' in i or 'B-' in i]"
   ]
  },
  {
   "cell_type": "code",
   "execution_count": null,
   "id": "valuable-jerusalem",
   "metadata": {},
   "outputs": [],
   "source": [
    "Bcells = ['pro_B', 'late_pro_B', 'large_pre_B', 'small_pre_B','B-naive', 'B-memory', 'B-Prolif','B-plasma']"
   ]
  },
  {
   "cell_type": "code",
   "execution_count": null,
   "id": "molecular-planner",
   "metadata": {},
   "outputs": [],
   "source": [
    "adata_Bcells = adata_all[adata_all.obs['cell_type_level_4_explore'].isin(Bcells),:].copy()"
   ]
  },
  {
   "cell_type": "code",
   "execution_count": null,
   "id": "neither-choir",
   "metadata": {
    "scrolled": true
   },
   "outputs": [],
   "source": [
    "adata_Bcells.obs['age_group'].value_counts()"
   ]
  },
  {
   "cell_type": "code",
   "execution_count": null,
   "id": "collectible-leone",
   "metadata": {
    "scrolled": true
   },
   "outputs": [],
   "source": [
    "adata_Bcells.obs['sex'].value_counts()"
   ]
  },
  {
   "cell_type": "code",
   "execution_count": null,
   "id": "comfortable-delay",
   "metadata": {},
   "outputs": [],
   "source": [
    "#adata_Bcells.obs['age_group2'] = adata_Bcells.obs['age_group'].apply(lambda x: 'prenatal' if x == 'fetal' else 'postnatal') \n",
    "samples = adata_Bcells.obs['sample'].value_counts().index[adata_Bcells.obs['sample'].value_counts()>5].tolist()"
   ]
  },
  {
   "cell_type": "code",
   "execution_count": null,
   "id": "painted-recipient",
   "metadata": {},
   "outputs": [],
   "source": [
    "adata_Bcells.obs['sample'].value_counts()>5"
   ]
  },
  {
   "cell_type": "code",
   "execution_count": null,
   "id": "metric-playlist",
   "metadata": {},
   "outputs": [],
   "source": [
    "adata_Bcells.layers['counts'] = adata_Bcells.X.copy()"
   ]
  },
  {
   "cell_type": "markdown",
   "id": "optimum-turner",
   "metadata": {},
   "source": [
    "### note study is excluded from the covariates as some studies had enriched for particular Bcells subtypes"
   ]
  },
  {
   "cell_type": "code",
   "execution_count": null,
   "id": "subtle-grill",
   "metadata": {},
   "outputs": [],
   "source": [
    "adata_Bcells_scvi = run_scvi2(adata_Bcells,  batch_hv=\"age_group\", hvg = 5000, batch_scvi='sample', \n",
    "          cat_cov_scvi=['chemistry_simple','age_group','donor', 'sex'], cont_cov_scvi = None, include_genes=[], \n",
    "          exclude_cc_genes=True, exclude_vdjgenes=True, exclude_mt_genes = True, \n",
    "          n_layers=2, n_latent=30, max_epochs=350, batch_size=2000)"
   ]
  },
  {
   "cell_type": "code",
   "execution_count": null,
   "id": "actual-armenia",
   "metadata": {},
   "outputs": [],
   "source": [
    "adata_scvi = adata_Bcells_scvi['data'].copy()"
   ]
  },
  {
   "cell_type": "code",
   "execution_count": null,
   "id": "manufactured-malawi",
   "metadata": {},
   "outputs": [],
   "source": [
    "sc.pl.umap(adata_scvi, color = [\"leiden_r1.0\", \"leiden_r1.2\", \"leiden_r1.4\", \"leiden_r1.6\"], \n",
    "           legend_loc = \"on data\", legend_fontsize = 5, frameon = False)"
   ]
  },
  {
   "cell_type": "code",
   "execution_count": null,
   "id": "suburban-expansion",
   "metadata": {},
   "outputs": [],
   "source": [
    "sc.pl.umap(adata_scvi, color = major_mrkrs)"
   ]
  },
  {
   "cell_type": "code",
   "execution_count": null,
   "id": "mighty-incident",
   "metadata": {},
   "outputs": [],
   "source": [
    "B_mrks = []\n",
    "[B_mrks.extend(B_mrkrs_dict[key]) for key in B_mrkrs_dict.keys()]"
   ]
  },
  {
   "cell_type": "code",
   "execution_count": null,
   "id": "dramatic-blues",
   "metadata": {},
   "outputs": [],
   "source": [
    "sc.pl.umap(adata_scvi, color = B_mrks)"
   ]
  },
  {
   "cell_type": "code",
   "execution_count": null,
   "id": "flying-photograph",
   "metadata": {},
   "outputs": [],
   "source": [
    "sc.pl.umap(adata_scvi, color = ['cell_type_level_4_explore', 'unannotated', 'pred_cell_type_level_4_uncertainties'], legend_loc = \"on data\", legend_fontsize = 8)"
   ]
  },
  {
   "cell_type": "code",
   "execution_count": null,
   "id": "protected-alpha",
   "metadata": {},
   "outputs": [],
   "source": [
    "sc.pl.umap(adata_scvi, color = ['cell_type_level_4_explore'], legend_loc = \"on data\", legend_fontsize = 8)"
   ]
  },
  {
   "cell_type": "markdown",
   "id": "binding-negative",
   "metadata": {},
   "source": [
    "## Plotting the markers"
   ]
  },
  {
   "cell_type": "code",
   "execution_count": null,
   "id": "advance-paintball",
   "metadata": {},
   "outputs": [],
   "source": [
    "import celltypist\n",
    "from celltypist import models\n",
    "models.download_models(force_update = True)\n",
    "models.models_description()"
   ]
  },
  {
   "cell_type": "code",
   "execution_count": null,
   "id": "direct-gasoline",
   "metadata": {},
   "outputs": [],
   "source": [
    "# Alternatively, just specify the model name (recommended as this ensures the model is intact every time it is loaded).\n",
    "predictions_panfet = celltypist.annotate(adata_scvi, model = 'Pan_Fetal_Human.pkl', majority_voting = True, mode = 'best match')"
   ]
  },
  {
   "cell_type": "code",
   "execution_count": null,
   "id": "obvious-retirement",
   "metadata": {},
   "outputs": [],
   "source": [
    "adata_scvi = predictions_panfet.to_adata(prefix = \"panfetal_\")\n"
   ]
  },
  {
   "cell_type": "code",
   "execution_count": null,
   "id": "amber-owner",
   "metadata": {},
   "outputs": [],
   "source": [
    "sc.pl.umap(adata_scvi, color = [\"panfetal_majority_voting\", \"cell_type_level_4_explore\", \"age_group\"], \n",
    "           legend_loc = \"on data\", legend_fontsize = 5, frameon = False)"
   ]
  },
  {
   "cell_type": "code",
   "execution_count": null,
   "id": "spare-lounge",
   "metadata": {},
   "outputs": [],
   "source": [
    "sc.pl.umap(adata_scvi[adata_scvi.obs['age_group'] == \"fetal\"], color = [\"cell_type_level_4_explore\"], \n",
    "           legend_loc = \"on data\", legend_fontsize = 5, frameon = False)"
   ]
  },
  {
   "cell_type": "code",
   "execution_count": null,
   "id": "needed-medium",
   "metadata": {},
   "outputs": [],
   "source": [
    "def population_plots(adata_scvi, mrkrs_dict, save_name, figures, cat_order, anno = 'cell_type_level_4_upd', \n",
    "                     anno_cov = ['study', 'sex', 'age_group', 'chemistry_simple']):\n",
    "    adata_scvi.obs[anno] = adata_scvi.obs[anno].cat.reorder_categories(cat_order).copy()\n",
    "    sc.pl.umap(adata_scvi, color = anno, legend_loc = \"on data\", legend_fontsize = 8, \n",
    "               frameon = False, save = f\"{save_name}_scvi_celltype.pdf\")\n",
    "    sc.pl.umap(adata_scvi, color = anno_cov, wspace = 0.3, frameon = False, \n",
    "               save = f\"{save_name}_scvi_covariates.pdf\")\n",
    "    dp = sc.pl.dotplot(adata_scvi, groupby = anno, var_names = mrkrs_dict, \n",
    "                      standard_scale = \"var\", return_fig = True)\n",
    "    dp = dp.add_totals().style(dot_edge_color='black', dot_edge_lw=0.5, cmap = \"Reds\")\n",
    "    # Save the figure\n",
    "    dp.savefig(f\"{figures}{save_name}_HTSA_scvi_mrkrs.pdf\")"
   ]
  },
  {
   "cell_type": "code",
   "execution_count": null,
   "id": "blond-passing",
   "metadata": {},
   "outputs": [],
   "source": [
    "population_plots(adata_scvi, mrkrs_dict = B_mrkrs_dict, save_name = \"Bcells\", \n",
    "                 figures = '...figures/', \n",
    "                 cat_order = Bcells,\n",
    "                 anno = 'cell_type_level_4_explore', anno_cov = ['study', 'sex', 'age_group', 'chemistry_simple'])"
   ]
  },
  {
   "cell_type": "code",
   "execution_count": null,
   "id": "sapphire-faith",
   "metadata": {},
   "outputs": [],
   "source": [
    "adata_scvi.write(f'{clean_folder}/Bcells_scvi_updated_{today}.h5ad')\n",
    "\n",
    "adata_Bcells_scvi['vae'].save(f'{clean_folder}/models/Bcells_scvi_updated_{today}.h5ad')"
   ]
  },
  {
   "cell_type": "code",
   "execution_count": null,
   "id": "saving-disclosure",
   "metadata": {},
   "outputs": [],
   "source": []
  }
 ],
 "metadata": {
  "kernelspec": {
   "display_name": "Python [conda env:miniconda-scvi-env]",
   "language": "python",
   "name": "conda-env-miniconda-scvi-env-py"
  },
  "language_info": {
   "codemirror_mode": {
    "name": "ipython",
    "version": 3
   },
   "file_extension": ".py",
   "mimetype": "text/x-python",
   "name": "python",
   "nbconvert_exporter": "python",
   "pygments_lexer": "ipython3",
   "version": "3.7.12"
  }
 },
 "nbformat": 4,
 "nbformat_minor": 5
}
