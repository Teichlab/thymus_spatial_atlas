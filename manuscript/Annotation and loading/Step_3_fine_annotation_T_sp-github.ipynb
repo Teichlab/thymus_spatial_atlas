{
 "cells": [
  {
   "cell_type": "markdown",
   "id": "forbidden-avenue",
   "metadata": {},
   "source": [
    "Notebook for processing and doublet removal of the T cell Lineage, Single positive cells\n"
   ]
  },
  {
   "cell_type": "code",
   "execution_count": null,
   "id": "experimental-ballot",
   "metadata": {},
   "outputs": [],
   "source": [
    "# fine annotate lineage \n",
    "import scanpy as sc\n",
    "import numpy as np\n",
    "import pandas as pd\n",
    "import scvi\n",
    "import seaborn as sns\n",
    "import os,sys\n",
    "#import mudata\n",
    "import anndata\n",
    "from matplotlib import rcParams\n",
    "rcParams['pdf.fonttype'] = 42\n",
    "import scvi\n",
    "import scvi_wrapper as sv\n",
    "\n",
    "#import multi_view_atlas as mva\n",
    "sc.logging.print_header()\n",
    "sc.settings.set_figure_params(dpi = 150, color_map = 'RdPu', dpi_save = 300, vector_friendly = True, format = 'pdf')"
   ]
  },
  {
   "cell_type": "markdown",
   "id": "competent-explanation",
   "metadata": {},
   "source": [
    "# Load large object"
   ]
  },
  {
   "cell_type": "code",
   "execution_count": null,
   "id": "indonesian-luxury",
   "metadata": {
    "tags": []
   },
   "outputs": [],
   "source": [
    "adata = sc.read_h5ad('...adata_full_rev_2.h5ad')\n",
    "adata"
   ]
  },
  {
   "cell_type": "code",
   "execution_count": null,
   "id": "stylish-fifty",
   "metadata": {},
   "outputs": [],
   "source": [
    "sc.set_figure_params(fontsize=10,figsize=[10,10],dpi=100)\n",
    "sc.pl.umap(adata,\n",
    "           color='leiden_2', \n",
    "           frameon=False,\n",
    "           s=1,\n",
    "           # groups=['10'],\n",
    "           legend_loc='on data',\n",
    "           legend_fontoutline=1,\n",
    "           outline_color='white',\n",
    "          )"
   ]
  },
  {
   "cell_type": "code",
   "execution_count": null,
   "id": "different-values",
   "metadata": {},
   "outputs": [],
   "source": [
    "# isolate only sp clusters and some associated\n",
    "adata_t = adata[adata.obs['leiden_2'].isin(['34','33','8','22','1','21','5','15','9'])]\n",
    "sc.set_figure_params(fontsize=10,figsize=[10,10],dpi=100)\n",
    "sc.pl.umap(adata_t,\n",
    "           color='leiden_2', \n",
    "           frameon=False,\n",
    "           s=1,\n",
    "           # groups=['10'],\n",
    "           legend_loc='on data',\n",
    "           legend_fontoutline=1,\n",
    "           outline_color='white',\n",
    "          )"
   ]
  },
  {
   "cell_type": "code",
   "execution_count": null,
   "id": "marine-headquarters",
   "metadata": {
    "tags": []
   },
   "outputs": [],
   "source": [
    "adata_t = sv.scvi_wrapper_basic(\n",
    "    adata_t,\n",
    "    max_epochs=350,\n",
    "    remove_vdjgenes=True,\n",
    "    hvg=3500,\n",
    "    batch_key='sample',\n",
    "    categorical_covariate_keys=['chemistry_simple','age_group','study','sex','donor'],\n",
    "    continuous_covariate_keys = None,\n",
    "    cluster_leiden=False,\n",
    "    layer_use=None,\n",
    "    remove_cite=False,\n",
    ") \n",
    "sc.tl.leiden(adata_t, resolution=1, key_added=\"leiden_1\")\n",
    "sc.tl.leiden(adata_t, resolution=2, key_added=\"leiden_2\")\n",
    "sc.tl.leiden(adata_t, resolution=3, key_added=\"leiden_3\")\n",
    "sc.tl.leiden(adata_t, resolution=4, key_added=\"leiden_4\")"
   ]
  },
  {
   "cell_type": "code",
   "execution_count": null,
   "id": "controlling-disposition",
   "metadata": {},
   "outputs": [],
   "source": [
    "sc.set_figure_params(fontsize=10,figsize=[10,10],dpi=100)\n",
    "sc.pl.umap(adata_t,\n",
    "           color=['leiden_2','donor','cell_type_level_3','doublet_score','study','leiden_3','leiden_4'],\n",
    "           frameon=False,\n",
    "           ncols=2,\n",
    "           s=5,\n",
    "           legend_loc='on data',\n",
    "           legend_fontoutline=1,\n",
    "           outline_color='white',\n",
    "          )"
   ]
  },
  {
   "cell_type": "code",
   "execution_count": null,
   "id": "worst-mention",
   "metadata": {},
   "outputs": [],
   "source": [
    "adata_t.obs['cell_type_level_0'].value_counts(dropna=False)"
   ]
  },
  {
   "cell_type": "code",
   "execution_count": null,
   "id": "sustainable-norway",
   "metadata": {},
   "outputs": [],
   "source": [
    "# isolate only sp clusters and some associated\n",
    "adata_t = adata_t[~adata_t.obs['leiden_4'].isin(['32','48'])]\n",
    "adata_t = adata_t[~adata_t.obs['cell_type_level_0'].isin(['Vasculature','TEC','B','Myeloid','Stroma & Schwann'])]\n",
    "\n",
    "sc.set_figure_params(fontsize=10,figsize=[10,10],dpi=100)\n",
    "sc.pl.umap(adata_t,\n",
    "           color='leiden_2', \n",
    "           frameon=False,\n",
    "           s=1,\n",
    "           # groups=['10'],\n",
    "           legend_loc='on data',\n",
    "           legend_fontoutline=1,\n",
    "           outline_color='white',\n",
    "          )\n",
    "adata_t.obs['cell_type_level_0'].value_counts(dropna=False)"
   ]
  },
  {
   "cell_type": "code",
   "execution_count": null,
   "id": "signal-wells",
   "metadata": {},
   "outputs": [],
   "source": [
    "os.chdir('...')\n",
    "adata_t.write_h5ad('adata_t_rev_1.h5ad')"
   ]
  },
  {
   "cell_type": "code",
   "execution_count": null,
   "id": "constant-compilation",
   "metadata": {},
   "outputs": [],
   "source": [
    "adata_t = sc.read_h5ad('adata_t_rev_1.h5ad')\n",
    "adata_t.obs['cell_type_level_0'].value_counts(dropna=False)"
   ]
  },
  {
   "cell_type": "code",
   "execution_count": null,
   "id": "further-lucas",
   "metadata": {},
   "outputs": [],
   "source": [
    "adata_t = sv.scvi_wrapper_basic(\n",
    "    adata_t,\n",
    "    max_epochs=350,\n",
    "    remove_vdjgenes=True,\n",
    "    hvg=3500,\n",
    "    batch_key='sample',\n",
    "    categorical_covariate_keys=['chemistry_simple','age_group','study','sex','donor'],\n",
    "    continuous_covariate_keys = None,\n",
    "    cluster_leiden=False,\n",
    "    layer_use=None,\n",
    "    remove_cite=False,\n",
    ") "
   ]
  },
  {
   "cell_type": "code",
   "execution_count": null,
   "id": "classified-inclusion",
   "metadata": {},
   "outputs": [],
   "source": [
    "sc.set_figure_params(fontsize=10,figsize=[10,10],dpi=100)\n",
    "sc.pl.umap(adata_t,\n",
    "           color=['donor','cell_type_level_3','doublet_score','study'],\n",
    "           frameon=False,\n",
    "           ncols=2,\n",
    "           s=10,\n",
    "           legend_loc='on data',\n",
    "           legend_fontoutline=1,\n",
    "           outline_color='white',\n",
    "          )"
   ]
  },
  {
   "cell_type": "code",
   "execution_count": null,
   "id": "corrected-denmark",
   "metadata": {},
   "outputs": [],
   "source": [
    "adata_t.obs['cell_type_level_0'].value_counts(dropna=False)"
   ]
  },
  {
   "cell_type": "markdown",
   "id": "honey-spouse",
   "metadata": {},
   "source": [
    "## KNN-prediction"
   ]
  },
  {
   "cell_type": "code",
   "execution_count": null,
   "id": "modified-continuity",
   "metadata": {},
   "outputs": [],
   "source": [
    "# migrate annotations. taken from - https://github.com/LungCellAtlas/mapping_data_to_the_HLCA/blob/main/scripts/scarches_label_transfer.py\n",
    "\n",
    "from collections import Counter\n",
    "\n",
    "import numpy as np\n",
    "import pandas as pd\n",
    "from sklearn.neighbors import KNeighborsTransformer\n",
    "\n",
    "def weighted_knn_trainer(train_adata, train_adata_emb, n_neighbors=50):\n",
    "    \"\"\"Trains a weighted KNN classifier on ``train_adata``.\n",
    "    Parameters\n",
    "    ----------\n",
    "    train_adata: :class:`~anndata.AnnData`\n",
    "        Annotated dataset to be used to train KNN classifier with ``label_key`` as the target variable.\n",
    "    train_adata_emb: str\n",
    "        Name of the obsm layer to be used for calculation of neighbors. If set to \"X\", anndata.X will be\n",
    "        used\n",
    "    n_neighbors: int\n",
    "        Number of nearest neighbors in KNN classifier.\n",
    "    \"\"\"\n",
    "    print(\n",
    "        f\"Weighted KNN with n_neighbors = {n_neighbors} ... \",\n",
    "        end=\"\",\n",
    "    )\n",
    "    k_neighbors_transformer = KNeighborsTransformer(\n",
    "        n_neighbors=n_neighbors,\n",
    "        mode=\"distance\",\n",
    "        algorithm=\"brute\",\n",
    "        metric=\"euclidean\",\n",
    "        n_jobs=-1,\n",
    "    )\n",
    "    if train_adata_emb == \"X\":\n",
    "        train_emb = train_adata.X\n",
    "    elif train_adata_emb in train_adata.obsm.keys():\n",
    "        train_emb = train_adata.obsm[train_adata_emb]\n",
    "    else:\n",
    "        raise ValueError(\n",
    "            \"train_adata_emb should be set to either 'X' or the name of the obsm layer to be used!\"\n",
    "        )\n",
    "    k_neighbors_transformer.fit(train_emb)\n",
    "    return k_neighbors_transformer\n",
    "\n",
    "\n",
    "def weighted_knn_transfer(\n",
    "    query_adata,\n",
    "    query_adata_emb,\n",
    "    ref_adata_obs,\n",
    "    label_keys,\n",
    "    knn_model,\n",
    "    threshold=1,\n",
    "    pred_unknown=False,\n",
    "    mode=\"package\",\n",
    "):\n",
    "    \"\"\"Annotates ``query_adata`` cells with an input trained weighted KNN classifier.\n",
    "    Parameters\n",
    "    ----------\n",
    "    query_adata: :class:`~anndata.AnnData`\n",
    "        Annotated dataset to be used to queryate KNN classifier. Embedding to be used\n",
    "    query_adata_emb: str\n",
    "        Name of the obsm layer to be used for label transfer. If set to \"X\",\n",
    "        query_adata.X will be used\n",
    "    ref_adata_obs: :class:`pd.DataFrame`\n",
    "        obs of ref Anndata\n",
    "    label_keys: str\n",
    "        Names of the columns to be used as target variables (e.g. cell_type) in ``query_adata``.\n",
    "    knn_model: :class:`~sklearn.neighbors._graph.KNeighborsTransformer`\n",
    "        knn model trained on reference adata with weighted_knn_trainer function\n",
    "    threshold: float\n",
    "        Threshold of uncertainty used to annotating cells as \"Unknown\". cells with\n",
    "        uncertainties higher than this value will be annotated as \"Unknown\".\n",
    "        Set to 1 to keep all predictions. This enables one to later on play\n",
    "        with thresholds.\n",
    "    pred_unknown: bool\n",
    "        ``False`` by default. Whether to annotate any cell as \"unknown\" or not.\n",
    "        If `False`, ``threshold`` will not be used and each cell will be annotated\n",
    "        with the label which is the most common in its ``n_neighbors`` nearest cells.\n",
    "    mode: str\n",
    "        Has to be one of \"paper\" or \"package\". If mode is set to \"package\",\n",
    "        uncertainties will be 1 - P(pred_label), otherwise it will be 1 - P(true_label).\n",
    "    \"\"\"\n",
    "    if not type(knn_model) == KNeighborsTransformer:\n",
    "        raise ValueError(\n",
    "            \"knn_model should be of type sklearn.neighbors._graph.KNeighborsTransformer!\"\n",
    "        )\n",
    "\n",
    "    if query_adata_emb == \"X\":\n",
    "        query_emb = query_adata.X\n",
    "    elif query_adata_emb in query_adata.obsm.keys():\n",
    "        query_emb = query_adata.obsm[query_adata_emb]\n",
    "    else:\n",
    "        raise ValueError(\n",
    "            \"query_adata_emb should be set to either 'X' or the name of the obsm layer to be used!\"\n",
    "        )\n",
    "    top_k_distances, top_k_indices = knn_model.kneighbors(X=query_emb)\n",
    "\n",
    "    stds = np.std(top_k_distances, axis=1)\n",
    "    stds = (2.0 / stds) ** 2\n",
    "    stds = stds.reshape(-1, 1)\n",
    "\n",
    "    top_k_distances_tilda = np.exp(-np.true_divide(top_k_distances, stds))\n",
    "\n",
    "    weights = top_k_distances_tilda / np.sum(\n",
    "        top_k_distances_tilda, axis=1, keepdims=True\n",
    "    )\n",
    "    cols = ref_adata_obs.columns[ref_adata_obs.columns.str.startswith(label_keys)]\n",
    "    uncertainties = pd.DataFrame(columns=cols, index=query_adata.obs_names)\n",
    "    pred_labels = pd.DataFrame(columns=cols, index=query_adata.obs_names)\n",
    "    for i in range(len(weights)):\n",
    "        for j in cols:\n",
    "            y_train_labels = ref_adata_obs[j].values\n",
    "            unique_labels = np.unique(y_train_labels[top_k_indices[i]])\n",
    "            best_label, best_prob = None, 0.0\n",
    "            for candidate_label in unique_labels:\n",
    "                candidate_prob = weights[\n",
    "                    i, y_train_labels[top_k_indices[i]] == candidate_label\n",
    "                ].sum()\n",
    "                if best_prob < candidate_prob:\n",
    "                    best_prob = candidate_prob\n",
    "                    best_label = candidate_label\n",
    "\n",
    "            if pred_unknown:\n",
    "                if best_prob >= threshold:\n",
    "                    pred_label = best_label\n",
    "                else:\n",
    "                    pred_label = \"Unknown\"\n",
    "            else:\n",
    "                pred_label = best_label\n",
    "\n",
    "            if mode == \"package\":\n",
    "                uncertainties.iloc[i][j] = (max(1 - best_prob, 0))\n",
    "\n",
    "            else:\n",
    "                raise Exception(\"Inquery Mode!\")\n",
    "\n",
    "            pred_labels.iloc[i][j] = (pred_label)\n",
    "\n",
    "    print(\"finished!\")\n",
    "\n",
    "    return pred_labels, uncertainties"
   ]
  },
  {
   "cell_type": "code",
   "execution_count": null,
   "id": "regulation-bicycle",
   "metadata": {},
   "outputs": [],
   "source": [
    "adata_t.obs['unannotated'] = adata_t.obs['cell_type_level_3'].isna().astype('str')\n",
    "train_adata = adata_t[adata_t.obs['unannotated']=='False']\n",
    "k_neighbors_transformer = weighted_knn_trainer(train_adata, 'X_scVI', n_neighbors=20)\n",
    "train_adata"
   ]
  },
  {
   "cell_type": "code",
   "execution_count": null,
   "id": "italian-style",
   "metadata": {},
   "outputs": [],
   "source": [
    "target_adata = adata_t[adata_t.obs['unannotated']=='True']\n",
    "target_adata"
   ]
  },
  {
   "cell_type": "code",
   "execution_count": null,
   "id": "prostate-fifty",
   "metadata": {
    "tags": []
   },
   "outputs": [],
   "source": [
    "# cell_type_level_4"
   ]
  },
  {
   "cell_type": "code",
   "execution_count": null,
   "id": "adjusted-darwin",
   "metadata": {},
   "outputs": [],
   "source": [
    "pred_labels, uncertainties = weighted_knn_transfer(\n",
    "    query_adata=target_adata,\n",
    "    query_adata_emb='X_scVI',\n",
    "    ref_adata_obs=train_adata.obs,\n",
    "    label_keys='cell_type_level_4',\n",
    "    knn_model=k_neighbors_transformer,\n",
    "    threshold=1,\n",
    "    pred_unknown=False,\n",
    "    mode=\"package\",\n",
    ")"
   ]
  },
  {
   "cell_type": "code",
   "execution_count": null,
   "id": "pending-headquarters",
   "metadata": {},
   "outputs": [],
   "source": [
    "uncertainties.cell_type_level_4.hist()"
   ]
  },
  {
   "cell_type": "code",
   "execution_count": null,
   "id": "addressed-viewer",
   "metadata": {},
   "outputs": [],
   "source": [
    "adata_t.obs['pred_cell_type_level_4'] = adata_t.obs['cell_type_level_4']\n",
    "adata_t.obs['pred_cell_type_level_4_uncertainties'] = 0\n",
    "adata_t.obs.loc[pred_labels.index,'pred_cell_type_level_4'] = pred_labels['cell_type_level_4']\n",
    "adata_t.obs.loc[pred_labels.index,'pred_cell_type_level_4_uncertainties'] = uncertainties['cell_type_level_4']\n",
    "adata_t.obs['pred_cell_type_level_4'].value_counts(dropna=False)\n",
    "sc.set_figure_params(dpi=200)\n",
    "sc.pl.umap(adata_t[adata_t.obs['unannotated']!='False'], color=['pred_cell_type_level_4','pred_cell_type_level_4_uncertainties'],s=10)"
   ]
  },
  {
   "cell_type": "code",
   "execution_count": null,
   "id": "false-nowhere",
   "metadata": {},
   "outputs": [],
   "source": [
    "sc.pl.violin(adata_t[adata_t.obs['unannotated']!='False'], keys=['pct_counts_ribo','pct_counts_mt','n_genes_by_counts'],s=1,log=True)\n",
    "sc.pl.violin(adata_t[adata_t.obs['unannotated']=='False'], keys=['pct_counts_ribo','pct_counts_mt','n_genes_by_counts'],s=1,log=True)"
   ]
  },
  {
   "cell_type": "code",
   "execution_count": null,
   "id": "annoying-conditioning",
   "metadata": {
    "tags": []
   },
   "outputs": [],
   "source": [
    "adata_t.obs['pred_cell_type_level_4_uncertainties'] = adata_t.obs['pred_cell_type_level_4_uncertainties'].astype('float32')"
   ]
  },
  {
   "cell_type": "code",
   "execution_count": null,
   "id": "religious-buffalo",
   "metadata": {},
   "outputs": [],
   "source": [
    "os.chdir('...')\n",
    "adata_t.write_h5ad('adata_t_sp_rev_1_clean.h5ad')"
   ]
  }
 ],
 "metadata": {
  "kernelspec": {
   "display_name": "scvi-env",
   "language": "python",
   "name": "scvi-env"
  },
  "language_info": {
   "codemirror_mode": {
    "name": "ipython",
    "version": 3
   },
   "file_extension": ".py",
   "mimetype": "text/x-python",
   "name": "python",
   "nbconvert_exporter": "python",
   "pygments_lexer": "ipython3",
   "version": "3.9.12"
  }
 },
 "nbformat": 4,
 "nbformat_minor": 5
}
