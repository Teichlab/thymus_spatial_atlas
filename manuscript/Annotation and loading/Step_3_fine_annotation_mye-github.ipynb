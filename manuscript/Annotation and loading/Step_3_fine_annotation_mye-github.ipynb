{
 "cells": [
  {
   "cell_type": "markdown",
   "id": "391c856f-2177-4c68-a19a-807fba5610a5",
   "metadata": {},
   "source": [
    "Notebook for processing and doublet removal of the myeloid \n"
   ]
  },
  {
   "cell_type": "code",
   "execution_count": null,
   "id": "conservative-ozone",
   "metadata": {},
   "outputs": [],
   "source": [
    "# fine annotate lineage \n",
    "import scanpy as sc\n",
    "import numpy as np\n",
    "import pandas as pd\n",
    "import scvi\n",
    "import seaborn as sns\n",
    "import os,sys\n",
    "#import mudata\n",
    "import anndata\n",
    "## Add this line so the text on pdf is correctly recognised!!!\n",
    "from matplotlib import rcParams\n",
    "rcParams['pdf.fonttype'] = 42\n",
    "import scvi\n",
    "import scvi_wrapper as sv\n",
    "\n",
    "#import multi_view_atlas as mva\n",
    "sc.logging.print_header()\n",
    "sc.settings.set_figure_params(dpi = 150, color_map = 'RdPu', dpi_save = 300, vector_friendly = True, format = 'pdf')"
   ]
  },
  {
   "cell_type": "markdown",
   "id": "sunrise-possession",
   "metadata": {},
   "source": [
    "# Load large object"
   ]
  },
  {
   "cell_type": "code",
   "execution_count": null,
   "id": "parental-chick",
   "metadata": {
    "tags": []
   },
   "outputs": [],
   "source": [
    "adata"
   ]
  },
  {
   "cell_type": "code",
   "execution_count": null,
   "id": "42e08bd7-c2a2-432a-a6c1-99925c52ad7c",
   "metadata": {},
   "outputs": [],
   "source": [
    "sc.set_figure_params(fontsize=10,figsize=[10,10],dpi=100)\n",
    "sc.pl.umap(adata,\n",
    "           color=['leiden_2','cell_type_level_0'], \n",
    "           frameon=False,\n",
    "           s=1,\n",
    "           # groups=['10'],\n",
    "           legend_loc='on data',\n",
    "           legend_fontoutline=1,\n",
    "           outline_color='white',\n",
    "          )"
   ]
  },
  {
   "cell_type": "code",
   "execution_count": null,
   "id": "pursuant-stadium",
   "metadata": {},
   "outputs": [],
   "source": [
    "# isolate only sp clusters and some associated\n",
    "adata_mye = adata[adata.obs['leiden_2'].isin(['30','31','32','37','26','38','36'])]\n",
    "sc.set_figure_params(fontsize=10,figsize=[10,10],dpi=100)\n",
    "sc.pl.umap(adata_mye,\n",
    "           color='leiden_2', \n",
    "           frameon=False,\n",
    "           s=1,\n",
    "           # groups=['10'],\n",
    "           legend_loc='on data',\n",
    "           legend_fontoutline=1,\n",
    "           outline_color='white',\n",
    "          )"
   ]
  },
  {
   "cell_type": "code",
   "execution_count": null,
   "id": "10879963-7800-449b-a31e-7dfcb6569490",
   "metadata": {},
   "outputs": [],
   "source": [
    "a = adata_mye.obs['sample'].value_counts(dropna=False)>5\n",
    "b = list(a[np.where(list(a))[0]].keys())\n",
    "adata_mye = adata_mye[adata_mye.obs['sample'].isin(b)]\n",
    "adata_mye"
   ]
  },
  {
   "cell_type": "code",
   "execution_count": null,
   "id": "forward-ethernet",
   "metadata": {
    "tags": []
   },
   "outputs": [],
   "source": [
    "adata_mye = sv.scvi_wrapper_basic(\n",
    "    adata_mye,\n",
    "    max_epochs=350,\n",
    "    remove_vdjgenes=True,\n",
    "    hvg=3500,\n",
    "    batch_key='sample',\n",
    "    categorical_covariate_keys=['chemistry_simple','age_group','study','sex','donor'],\n",
    "    continuous_covariate_keys = None,\n",
    "    cluster_leiden=False,\n",
    "    layer_use=None,\n",
    "    remove_cite=False,\n",
    ") \n",
    "sc.tl.leiden(adata_mye, resolution=1, key_added=\"leiden_1\")\n",
    "sc.tl.leiden(adata_mye, resolution=2, key_added=\"leiden_2\")\n",
    "sc.tl.leiden(adata_mye, resolution=3, key_added=\"leiden_3\")\n",
    "sc.tl.leiden(adata_mye, resolution=4, key_added=\"leiden_4\")"
   ]
  },
  {
   "cell_type": "code",
   "execution_count": null,
   "id": "053d624f-cc1e-42cf-b443-3c260f8d6f92",
   "metadata": {},
   "outputs": [],
   "source": [
    "sc.set_figure_params(fontsize=10,figsize=[10,10],dpi=100)\n",
    "sc.pl.umap(adata_mye,\n",
    "           color=['leiden_2','donor','cell_type_level_4','doublet_score','study','leiden_3','leiden_4'],\n",
    "           frameon=False,\n",
    "           ncols=2,\n",
    "           s=5,\n",
    "           legend_loc='on data',\n",
    "           legend_fontoutline=1,\n",
    "           outline_color='white',\n",
    "          )"
   ]
  },
  {
   "cell_type": "code",
   "execution_count": null,
   "id": "993cedf0-2d03-42f8-80bf-689a90754d34",
   "metadata": {},
   "outputs": [],
   "source": [
    "adata_mye.obs['cell_type_level_0'].value_counts(dropna=False)"
   ]
  },
  {
   "cell_type": "code",
   "execution_count": null,
   "id": "38156b73-eecf-4720-98c0-52defbb54215",
   "metadata": {},
   "outputs": [],
   "source": [
    "sc.pl.dotplot(adata_mye,var_names=['doublet_score'],groupby='leiden_4',swap_axes=True)"
   ]
  },
  {
   "cell_type": "code",
   "execution_count": null,
   "id": "66c6b9a5-2a65-4517-ba62-59f6e7d4a78f",
   "metadata": {},
   "outputs": [],
   "source": [
    "adata_mye.obs['unannotated'] = adata_mye.obs['cell_type_level_3'].isna().astype('str')\n",
    "adata_mye.obs['unannotated'].value_counts()\n",
    "sc.set_figure_params(fontsize=10,figsize=[15,15])\n",
    "sc.pl.umap(adata_mye,\n",
    "           color=['unannotated'], \n",
    "           ncols=3,\n",
    "           # legend_loc='on data',\n",
    "           groups='True',\n",
    "           wspace=0.5,\n",
    "           frameon=False,\n",
    "           s=5,\n",
    "           cmap='gist_rainbow',\n",
    "          )"
   ]
  },
  {
   "cell_type": "code",
   "execution_count": null,
   "id": "56b01749-35af-40ff-b142-91be260ef75f",
   "metadata": {},
   "outputs": [],
   "source": [
    "adata_mye = adata_mye[~adata_mye.obs['leiden_4'].isin(['42'])]\n",
    "\n",
    "a = adata_mye.obs['sample'].value_counts(dropna=False)>5\n",
    "b = list(a[np.where(list(a))[0]].keys())\n",
    "adata_mye = adata_mye[adata_mye.obs['sample'].isin(b)]\n",
    "adata_mye\n",
    "# b"
   ]
  },
  {
   "cell_type": "code",
   "execution_count": null,
   "id": "a29811bf-5db6-4e8b-920d-685d2c0e3462",
   "metadata": {},
   "outputs": [],
   "source": [
    "adata_mye = sv.scvi_wrapper_basic(\n",
    "    adata_mye,\n",
    "    max_epochs=350,\n",
    "    remove_vdjgenes=True,\n",
    "    hvg=3500,\n",
    "    batch_key='sample',\n",
    "    categorical_covariate_keys=['chemistry_simple','age_group','study','sex','donor'],\n",
    "    continuous_covariate_keys = None,\n",
    "    cluster_leiden=False,\n",
    "    layer_use=None,\n",
    "    remove_cite=False,\n",
    ") "
   ]
  },
  {
   "cell_type": "code",
   "execution_count": null,
   "id": "26601392-76f0-46b6-a917-86a5a57b30f5",
   "metadata": {},
   "outputs": [],
   "source": [
    "adata_mye.obs['cell_type_level_0'].value_counts(dropna=False)"
   ]
  },
  {
   "cell_type": "markdown",
   "id": "68a24dd1-c967-40e2-8e4a-94e0ecd71794",
   "metadata": {},
   "source": [
    "## KNN-prediction"
   ]
  },
  {
   "cell_type": "code",
   "execution_count": null,
   "id": "1e582477-6e3f-407c-a282-a3181ec8c5b1",
   "metadata": {},
   "outputs": [],
   "source": [
    "# migrate annotations. taken from - https://github.com/LungCellAtlas/mapping_data_to_the_HLCA/blob/main/scripts/scarches_label_transfer.py\n",
    "\n",
    "from collections import Counter\n",
    "\n",
    "import numpy as np\n",
    "import pandas as pd\n",
    "from sklearn.neighbors import KNeighborsTransformer\n",
    "\n",
    "def weighted_knn_trainer(train_adata, train_adata_emb, n_neighbors=50):\n",
    "    \"\"\"Trains a weighted KNN classifier on ``train_adata``.\n",
    "    Parameters\n",
    "    ----------\n",
    "    train_adata: :class:`~anndata.AnnData`\n",
    "        Annotated dataset to be used to train KNN classifier with ``label_key`` as the target variable.\n",
    "    train_adata_emb: str\n",
    "        Name of the obsm layer to be used for calculation of neighbors. If set to \"X\", anndata.X will be\n",
    "        used\n",
    "    n_neighbors: int\n",
    "        Number of nearest neighbors in KNN classifier.\n",
    "    \"\"\"\n",
    "    print(\n",
    "        f\"Weighted KNN with n_neighbors = {n_neighbors} ... \",\n",
    "        end=\"\",\n",
    "    )\n",
    "    k_neighbors_transformer = KNeighborsTransformer(\n",
    "        n_neighbors=n_neighbors,\n",
    "        mode=\"distance\",\n",
    "        algorithm=\"brute\",\n",
    "        metric=\"euclidean\",\n",
    "        n_jobs=-1,\n",
    "    )\n",
    "    if train_adata_emb == \"X\":\n",
    "        train_emb = train_adata.X\n",
    "    elif train_adata_emb in train_adata.obsm.keys():\n",
    "        train_emb = train_adata.obsm[train_adata_emb]\n",
    "    else:\n",
    "        raise ValueError(\n",
    "            \"train_adata_emb should be set to either 'X' or the name of the obsm layer to be used!\"\n",
    "        )\n",
    "    k_neighbors_transformer.fit(train_emb)\n",
    "    return k_neighbors_transformer\n",
    "\n",
    "\n",
    "def weighted_knn_transfer(\n",
    "    query_adata,\n",
    "    query_adata_emb,\n",
    "    ref_adata_obs,\n",
    "    label_keys,\n",
    "    knn_model,\n",
    "    threshold=1,\n",
    "    pred_unknown=False,\n",
    "    mode=\"package\",\n",
    "):\n",
    "    \"\"\"Annotates ``query_adata`` cells with an input trained weighted KNN classifier.\n",
    "    Parameters\n",
    "    ----------\n",
    "    query_adata: :class:`~anndata.AnnData`\n",
    "        Annotated dataset to be used to queryate KNN classifier. Embedding to be used\n",
    "    query_adata_emb: str\n",
    "        Name of the obsm layer to be used for label transfer. If set to \"X\",\n",
    "        query_adata.X will be used\n",
    "    ref_adata_obs: :class:`pd.DataFrame`\n",
    "        obs of ref Anndata\n",
    "    label_keys: str\n",
    "        Names of the columns to be used as target variables (e.g. cell_type) in ``query_adata``.\n",
    "    knn_model: :class:`~sklearn.neighbors._graph.KNeighborsTransformer`\n",
    "        knn model trained on reference adata with weighted_knn_trainer function\n",
    "    threshold: float\n",
    "        Threshold of uncertainty used to annotating cells as \"Unknown\". cells with\n",
    "        uncertainties higher than this value will be annotated as \"Unknown\".\n",
    "        Set to 1 to keep all predictions. This enables one to later on play\n",
    "        with thresholds.\n",
    "    pred_unknown: bool\n",
    "        ``False`` by default. Whether to annotate any cell as \"unknown\" or not.\n",
    "        If `False`, ``threshold`` will not be used and each cell will be annotated\n",
    "        with the label which is the most common in its ``n_neighbors`` nearest cells.\n",
    "    mode: str\n",
    "        Has to be one of \"paper\" or \"package\". If mode is set to \"package\",\n",
    "        uncertainties will be 1 - P(pred_label), otherwise it will be 1 - P(true_label).\n",
    "    \"\"\"\n",
    "    if not type(knn_model) == KNeighborsTransformer:\n",
    "        raise ValueError(\n",
    "            \"knn_model should be of type sklearn.neighbors._graph.KNeighborsTransformer!\"\n",
    "        )\n",
    "\n",
    "    if query_adata_emb == \"X\":\n",
    "        query_emb = query_adata.X\n",
    "    elif query_adata_emb in query_adata.obsm.keys():\n",
    "        query_emb = query_adata.obsm[query_adata_emb]\n",
    "    else:\n",
    "        raise ValueError(\n",
    "            \"query_adata_emb should be set to either 'X' or the name of the obsm layer to be used!\"\n",
    "        )\n",
    "    top_k_distances, top_k_indices = knn_model.kneighbors(X=query_emb)\n",
    "\n",
    "    stds = np.std(top_k_distances, axis=1)\n",
    "    stds = (2.0 / stds) ** 2\n",
    "    stds = stds.reshape(-1, 1)\n",
    "\n",
    "    top_k_distances_tilda = np.exp(-np.true_divide(top_k_distances, stds))\n",
    "\n",
    "    weights = top_k_distances_tilda / np.sum(\n",
    "        top_k_distances_tilda, axis=1, keepdims=True\n",
    "    )\n",
    "    cols = ref_adata_obs.columns[ref_adata_obs.columns.str.startswith(label_keys)]\n",
    "    uncertainties = pd.DataFrame(columns=cols, index=query_adata.obs_names)\n",
    "    pred_labels = pd.DataFrame(columns=cols, index=query_adata.obs_names)\n",
    "    for i in range(len(weights)):\n",
    "        for j in cols:\n",
    "            y_train_labels = ref_adata_obs[j].values\n",
    "            unique_labels = np.unique(y_train_labels[top_k_indices[i]])\n",
    "            best_label, best_prob = None, 0.0\n",
    "            for candidate_label in unique_labels:\n",
    "                candidate_prob = weights[\n",
    "                    i, y_train_labels[top_k_indices[i]] == candidate_label\n",
    "                ].sum()\n",
    "                if best_prob < candidate_prob:\n",
    "                    best_prob = candidate_prob\n",
    "                    best_label = candidate_label\n",
    "\n",
    "            if pred_unknown:\n",
    "                if best_prob >= threshold:\n",
    "                    pred_label = best_label\n",
    "                else:\n",
    "                    pred_label = \"Unknown\"\n",
    "            else:\n",
    "                pred_label = best_label\n",
    "\n",
    "            if mode == \"package\":\n",
    "                uncertainties.iloc[i][j] = (max(1 - best_prob, 0))\n",
    "\n",
    "            else:\n",
    "                raise Exception(\"Inquery Mode!\")\n",
    "\n",
    "            pred_labels.iloc[i][j] = (pred_label)\n",
    "\n",
    "    print(\"finished!\")\n",
    "\n",
    "    return pred_labels, uncertainties"
   ]
  },
  {
   "cell_type": "code",
   "execution_count": null,
   "id": "2b4c12b7-2eb1-4014-a5e2-118df98446f0",
   "metadata": {},
   "outputs": [],
   "source": [
    "train_adata = adata_mye[adata_mye.obs['unannotated']=='False']\n",
    "k_neighbors_transformer = weighted_knn_trainer(train_adata, 'X_scVI', n_neighbors=20)\n",
    "train_adata"
   ]
  },
  {
   "cell_type": "code",
   "execution_count": null,
   "id": "c46adcf8-c627-4ec7-aa94-578d139fd034",
   "metadata": {},
   "outputs": [],
   "source": [
    "target_adata = adata_mye[adata_mye.obs['unannotated']=='True']\n",
    "target_adata"
   ]
  },
  {
   "cell_type": "code",
   "execution_count": null,
   "id": "ae7ddb1d-bb42-458d-9e0f-5cd332ee5f1e",
   "metadata": {
    "tags": []
   },
   "outputs": [],
   "source": [
    "# cell_type_level_4"
   ]
  },
  {
   "cell_type": "code",
   "execution_count": null,
   "id": "bc55e8c4-8004-4af0-989d-0d8cafaa48d2",
   "metadata": {},
   "outputs": [],
   "source": [
    "pred_labels, uncertainties = weighted_knn_transfer(\n",
    "    query_adata=target_adata,\n",
    "    query_adata_emb='X_scVI',\n",
    "    ref_adata_obs=train_adata.obs,\n",
    "    label_keys='cell_type_level_4',\n",
    "    knn_model=k_neighbors_transformer,\n",
    "    threshold=1,\n",
    "    pred_unknown=False,\n",
    "    mode=\"package\",\n",
    ")"
   ]
  },
  {
   "cell_type": "code",
   "execution_count": null,
   "id": "73019d61-d6cb-428d-8286-e77ccef85cb6",
   "metadata": {},
   "outputs": [],
   "source": [
    "uncertainties.cell_type_level_4.hist()\n",
    "# uncertainties"
   ]
  },
  {
   "cell_type": "code",
   "execution_count": null,
   "id": "894cb8c3-4e70-4d59-aa19-0f2c159ddd8b",
   "metadata": {},
   "outputs": [],
   "source": [
    "adata_mye.obs['pred_cell_type_level_4'] = adata_mye.obs['cell_type_level_4']\n",
    "adata_mye.obs['pred_cell_type_level_4_uncertainties'] = 0\n",
    "adata_mye.obs.loc[pred_labels.index,'pred_cell_type_level_4'] = pred_labels['cell_type_level_4']\n",
    "adata_mye.obs.loc[pred_labels.index,'pred_cell_type_level_4_uncertainties'] = uncertainties['cell_type_level_4']\n",
    "adata_mye.obs['pred_cell_type_level_4'].value_counts(dropna=False)\n",
    "sc.set_figure_params(dpi=200)\n",
    "sc.pl.umap(adata_mye[adata_mye.obs['unannotated']!='False'], color=['pred_cell_type_level_4','pred_cell_type_level_4_uncertainties'],s=10)"
   ]
  },
  {
   "cell_type": "code",
   "execution_count": null,
   "id": "5e3e49f4-a3f6-4d8f-b51e-58834af28640",
   "metadata": {},
   "outputs": [],
   "source": [
    "sc.pl.violin(adata_mye, keys=['pct_counts_ribo','pct_counts_mt','n_genes_by_counts'],groupby='unannotated',s=1,log=True)\n"
   ]
  },
  {
   "cell_type": "code",
   "execution_count": null,
   "id": "205dbfbc-358d-42f4-a714-76023bf5a35f",
   "metadata": {
    "tags": []
   },
   "outputs": [],
   "source": [
    "adata_mye.obs['pred_cell_type_level_4_uncertainties'] = adata_mye.obs['pred_cell_type_level_4_uncertainties'].astype('float32')"
   ]
  }
 ],
 "metadata": {
  "kernelspec": {
   "display_name": "scvi-env",
   "language": "python",
   "name": "scvi-env"
  },
  "language_info": {
   "codemirror_mode": {
    "name": "ipython",
    "version": 3
   },
   "file_extension": ".py",
   "mimetype": "text/x-python",
   "name": "python",
   "nbconvert_exporter": "python",
   "pygments_lexer": "ipython3",
   "version": "3.9.12"
  }
 },
 "nbformat": 4,
 "nbformat_minor": 5
}
