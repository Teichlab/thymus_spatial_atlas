{
 "cells": [
  {
   "cell_type": "markdown",
   "id": "proprietary-banner",
   "metadata": {},
   "source": [
    "### Load and plot resident cell types"
   ]
  },
  {
   "cell_type": "code",
   "execution_count": null,
   "id": "banner-ozone",
   "metadata": {},
   "outputs": [],
   "source": [
    "import scanpy as sc\n",
    "import numpy as np\n",
    "import pandas as pd\n",
    "import scvi\n",
    "import seaborn as sns\n",
    "import os,sys\n",
    "import anndata\n",
    "import scvi\n",
    "import anndata as ad\n",
    "\n",
    "from IPython.core.interactiveshell import InteractiveShell\n",
    "InteractiveShell.ast_node_interactivity = \"all\" # to show output from all the lines in a cells\n",
    "pd.set_option('display.max_column',None) # display all the columns in pandas\n",
    "pd.options.display.max_rows = 100\n",
    "\n",
    "from datetime import date\n",
    "today = str(date.today())\n",
    "sc.logging.print_header()"
   ]
  },
  {
   "cell_type": "code",
   "execution_count": null,
   "id": "dense-craft",
   "metadata": {},
   "outputs": [],
   "source": [
    "import matplotlib.pyplot as plt\n",
    "from matplotlib import font_manager\n",
    "font_manager.fontManager.addfont(\"...software/Arial.ttf\")\n",
    "print(font_manager.findfont(\"Arial\"))\n",
    "from matplotlib import rcParams\n",
    "plt.rcParams[\"font.sans-serif\"] = [\"Arial\"]\n",
    "plt.rcParams[\"pdf.fonttype\"] = 42\n",
    "sc.settings.set_figure_params(dpi = 150, color_map = 'RdPu', dpi_save = 300, vector_friendly = True, format = 'pdf')"
   ]
  },
  {
   "cell_type": "code",
   "execution_count": null,
   "id": "skilled-double",
   "metadata": {},
   "outputs": [],
   "source": [
    "model_folder = '...Figure4/scvi_models/'\n",
    "figures = '...Figure_4_nat/figures/'\n",
    "results = '...Figure_4_nat/'"
   ]
  },
  {
   "cell_type": "code",
   "execution_count": null,
   "id": "earlier-boutique",
   "metadata": {},
   "outputs": [],
   "source": [
    "clean_folder = '...Figure_1_nat/clean'"
   ]
  },
  {
   "cell_type": "code",
   "execution_count": null,
   "id": "crucial-repository",
   "metadata": {},
   "outputs": [],
   "source": [
    "major_mrkrs = ['PTPRC', 'CD3G', \n",
    "               'HOXA9', \n",
    "               'HES1', #DN\n",
    "               'RORC', #DP\n",
    "               'CCR9',\n",
    "              'PDCD1', #CD8aa\n",
    "              'CD8A', 'CD8B', \n",
    "              'CD4', 'CD40LG', \n",
    "              'CRTAM', 'ANXA1', #memory\n",
    "             'FOXP3', 'DHRS3', \n",
    "               'TRDC', #gama-delta \n",
    "              'EOMES', 'KLRD1', # NK cells\n",
    "              'TNFSF11', # ILC\n",
    "              'CD19', 'VPREB1', # pre-pro B cells\n",
    "              'IGHD', 'IGHA1', 'IGHG1', \n",
    "              'CLEC9A', 'CLEC10A', \n",
    "              'LAMP3', \n",
    "             'LILRA4','S100A9', 'C1QA', 'TPSB2', 'ITGA2B', 'GYPA', \n",
    "              'PDGFRA', 'COLEC11', 'FBN1', \n",
    "              'RGS5', 'CDH5', \n",
    "               'LYVE1', 'EPCAM', 'PSMB11', 'DLK2', 'KRT14', \n",
    "               'CCL19', 'AIRE', 'KRT1', 'POU2F3',\n",
    "               'MYOD1', 'NEUROG1']"
   ]
  },
  {
   "cell_type": "code",
   "execution_count": null,
   "id": "proof-bargain",
   "metadata": {},
   "outputs": [],
   "source": [
    "def run_scvi2(adata, batch_hv=\"age_group\", batch_scvi=\"sample\", \\\n",
    "             cat_cov_scvi=[\"DonorID\", \"10X_version\", \"Sex\", \"Age_group\"], cont_cov_scvi=[\"percent_mito\"], \\\n",
    "             include_genes=[], exclude_cc_genes=True, exclude_mt_genes=True, \n",
    "             exclude_vdjgenes = True, remove_cite = False, hvg = 3000, max_epochs = 350, vae_name=\"\", **kwargs):\n",
    "    adata_scvi = sc.AnnData(X=adata.layers['counts'].copy(), obs=adata.obs.copy(), var=adata.var.copy())\n",
    "    #adata_scvi = adata_scvi[:,0:-150] # remove cite genes\n",
    "    # adata_scvi.layers[\"counts\"] = adata_scvi.X.copy()\n",
    "    # sc.pp.normalize_total(adata_scvi, target_sum=1e4)\n",
    "    # sc.pp.log1p(adata_scvi)\n",
    "    # keep full dimension safe\n",
    "    #    sc.pp.highly_variable_genes(adata_scvi, flavor=\"seurat_v3\", n_top_genes=10000, layer=\"counts\",\\\n",
    "    #                                batch_key=\"Age_group\")\n",
    "    if remove_cite:\n",
    "        print('removing CITEseq genes pre SCVI')\n",
    "        adata_scvi = adata_scvi[:,~adata_scvi.var['cite']].copy() # remove cite genes\n",
    "    gene_list = adata_scvi.var_names.tolist()\n",
    "    if exclude_cc_genes:\n",
    "        cell_cycle_genes = [x.strip() for x in open('/nfs/team205/vk8/processed_data/regev_lab_cell_cycle_genes.txt')]\n",
    "        [gene_list.remove(i) for i in cell_cycle_genes if i in gene_list]\n",
    "    if exclude_mt_genes:\n",
    "        mt_genes = adata.var_names[adata.var_names.str.startswith('MT-')]\n",
    "        [gene_list.remove(i) for i in mt_genes if i in gene_list]\n",
    "    if exclude_vdjgenes:\n",
    "        import re\n",
    "        [gene_list.remove(i) for i in gene_list if re.search('^TR[AB][VDJ]|^IG[HKL][VDJC]', i)]\n",
    "    \n",
    "    print('Removed excluded genes')\n",
    "    adata_scvi = adata_scvi[:,gene_list].copy()\n",
    "    sc.pp.highly_variable_genes(adata_scvi, flavor=\"seurat_v3\", n_top_genes=hvg, batch_key=batch_hv)\n",
    "    selected_genes = list(set(adata_scvi.var.loc[adata_scvi.var['highly_variable']].index.tolist() + include_genes))\n",
    "    adata_scvi = adata_scvi[:, selected_genes].copy()\n",
    "    print(f'Highly variable genes selected in total {adata_scvi.shape}')\n",
    "    scvi.model.SCVI.setup_anndata(adata_scvi, batch_key=batch_scvi,\n",
    "                                  categorical_covariate_keys=cat_cov_scvi,\n",
    "                                  continuous_covariate_keys=cont_cov_scvi)\n",
    "    scvi_kwargs = {k: v for k, v in kwargs.items() if k in scvi.model.SCVI.__init__.__code__.co_varnames}\n",
    "    vae = scvi.model.SCVI(adata_scvi, **scvi_kwargs)\n",
    "   # vae = scvi.model.SCVI(adata_scvi,n_layers=2, n_latent=30)\n",
    "    train_kwargs = {k: v for k, v in kwargs.items() if k in vae.train.__code__.co_varnames}\n",
    "    vae.train(**train_kwargs)\n",
    "    # adata_scvi.obsm[\"X_scVI\"] = vae.get_latent_representation()\n",
    "    #   adata_raw_scvi = adata.copy()\n",
    "    print('scvi model trained')\n",
    "    adata_scvi.obsm[\"X_scVI\"] = vae.get_latent_representation()\n",
    "    sc.pp.neighbors(adata_scvi, use_rep=\"X_scVI\")\n",
    "    sc.tl.leiden(adata_scvi, resolution = 1, key_added = \"leiden_r1.0\")\n",
    "    sc.tl.leiden(adata_scvi, resolution = 1.2, key_added = \"leiden_r1.2\")\n",
    "    sc.tl.leiden(adata_scvi, resolution = 1.4, key_added = \"leiden_r1.4\")\n",
    "    sc.tl.leiden(adata_scvi, resolution = 1.6, key_added = \"leiden_r1.6\")\n",
    "    #   sc.tl.umap(adata_scvi)\n",
    "    sc.tl.umap(adata_scvi)\n",
    "    print('DR and clustering performed')\n",
    "    adata_raw_scvi = adata.copy()\n",
    "    adata_raw_scvi.obsm['X_scVI'] = adata_scvi.obsm['X_scVI'].copy()\n",
    "    adata_raw_scvi.obsm['X_umap'] = adata_scvi.obsm['X_umap'].copy()\n",
    "    adata_raw_scvi.obsp = adata_scvi.obsp.copy()\n",
    "    adata_raw_scvi.uns = adata_scvi.uns.copy()\n",
    "    adata_raw_scvi.obs[[\"leiden_r1.0\", \"leiden_r1.2\", \"leiden_r1.4\", \"leiden_r1.6\"]] = adata_scvi.obs[[\"leiden_r1.0\", \"leiden_r1.2\", \"leiden_r1.4\", \"leiden_r1.6\"]].copy()\n",
    "    sc.pp.normalize_total(adata_raw_scvi, target_sum = 1e4)\n",
    "    sc.pp.log1p(adata_raw_scvi)\n",
    "    sc.pl.umap(\n",
    "        adata_raw_scvi,\n",
    "        color=['cell_type_level_4'], legend_loc = \"on data\", legend_fontsize = 4, frameon=False,\n",
    "        ncols=2,\n",
    "    )\n",
    "    sc.pl.umap(\n",
    "        adata_raw_scvi,\n",
    "        color=['age_group', 'sex', 'donor'], frameon = False, ncols = 2)\n",
    "    sc.pl.umap(\n",
    "        adata_raw_scvi,\n",
    "        color=['study', 'chemistry_simple', 'doublet_score'])\n",
    "    #cat_cov_str = \"-\".join(cat_cov_scvi)\n",
    "    #    vae.save(f\"/nfs/team205/vk8/scripts/scvi/Results/scvi_models/{vae_name}_scvi_batch{batch_scvi}_cat{cat_cov_str}_cont{cont_cov_scvi}_10000hvgenes_{today}\", save_anndata = True)\n",
    "    results = {}\n",
    "    results['data'] = adata_raw_scvi\n",
    "    results['vae'] = vae\n",
    "    return (results)"
   ]
  },
  {
   "cell_type": "code",
   "execution_count": null,
   "id": "electrical-lesbian",
   "metadata": {},
   "outputs": [],
   "source": [
    "vasc_mrkrs = ['PECAM1', 'CLDN5', 'VWF', 'CLU', # pan-endothelial\n",
    "                    'IGFBP3', 'HEY1', 'SEMA3G', 'MGP', 'GJA5', #arterial\n",
    "                    'RGCC', 'FABP4', 'LGALS1', 'CD36', 'CA4', 'LPL', # capillary\n",
    "                    'ACKR1', 'PLVAP', 'CCL14', 'ICAM1', 'SELE', 'RND1', 'RAMP3', # venous\n",
    "                     'CCL2', 'GADD45B', 'SLC2A3', 'IRF1', 'ATF3', 'CDKN1A', # response\n",
    "                    'CD8A', 'LYVE1', # lymphatic ec\n",
    "                    'ACTA2', 'TAGLN', 'TPM2', 'MYH11', 'PLN', 'SORBS2', 'LBH', 'ATF3', 'IGFBP6', 'CNN1', 'RERGL', #\n",
    "                    'CLU',  'RAMP1', # smc\n",
    "                    'RGS5', 'APOD', 'ABCC9', 'STEAP4']"
   ]
  },
  {
   "cell_type": "code",
   "execution_count": null,
   "id": "smart-boating",
   "metadata": {},
   "outputs": [],
   "source": [
    "def population_plots(adata_scvi, mrkrs_dict, save_name, figures, cat_order, anno = 'cell_type_level_4_upd', \n",
    "                     anno_cov = ['study', 'sex', 'age_group', 'chemistry_simple']):\n",
    "    adata_scvi.obs[anno] = adata_scvi.obs[anno].cat.reorder_categories(cat_order).copy()\n",
    "    if save_name: \n",
    "        sc.pl.umap(adata_scvi, color = anno, legend_loc = \"on data\", legend_fontsize = 5, \n",
    "                   frameon = False, save = f\"{save_name}_scvi_celltype.pdf\")\n",
    "        sc.pl.umap(adata_scvi, color = anno_cov, wspace = 0.3, frameon = False, \n",
    "                   save = f\"{save_name}_scvi_covariates.pdf\")\n",
    "        dp = sc.pl.dotplot(adata_scvi, groupby = anno, var_names = mrkrs_dict, \n",
    "                          standard_scale = \"var\", return_fig = True)\n",
    "        dp = dp.add_totals().style(dot_edge_color='black', dot_edge_lw=0.5, cmap = \"Reds\")\n",
    "        # Save the figure\n",
    "        dp.savefig(f\"{figures}{save_name}_HTSA_scvi_mrkrs.pdf\")\n",
    "    else:\n",
    "        sc.pl.umap(adata_scvi, color = anno, legend_loc = \"on data\", legend_fontsize = 5, \n",
    "                   frameon = False)\n",
    "        sc.pl.umap(adata_scvi, color = anno_cov, wspace = 0.3, frameon = False)\n",
    "        dp = sc.pl.dotplot(adata_scvi, groupby = anno, var_names = mrkrs_dict, \n",
    "                          standard_scale = \"var\", return_fig = True)\n",
    "        dp = dp.add_totals().style(dot_edge_color='black', dot_edge_lw=0.5, cmap = \"Reds\")\n",
    "        # Save the figure\n",
    "        dp.show()"
   ]
  },
  {
   "cell_type": "markdown",
   "id": "moral-communist",
   "metadata": {},
   "source": [
    "### Analyze ECs"
   ]
  },
  {
   "cell_type": "code",
   "execution_count": null,
   "id": "quick-bristol",
   "metadata": {},
   "outputs": [],
   "source": [
    "ecs_ordered = ['EC-Art', 'EC-Art-ELN', 'EC-Cap', 'EC-Cap-Prolif', 'EC-Ven', 'EC-Ven-ELN', 'EC-Lymphatic']"
   ]
  },
  {
   "cell_type": "code",
   "execution_count": null,
   "id": "egyptian-frequency",
   "metadata": {},
   "outputs": [],
   "source": [
    "adata_all = sc.read(f\"{clean_folder}/adata_full_rev_4_clean.h5ad\")"
   ]
  },
  {
   "cell_type": "code",
   "execution_count": null,
   "id": "excellent-loading",
   "metadata": {},
   "outputs": [],
   "source": [
    "adata_vasc = adata_all[adata_all.obs['cell_type_level_4_explore'].isin(ecs_ordered),:].copy()"
   ]
  },
  {
   "cell_type": "code",
   "execution_count": null,
   "id": "integral-richardson",
   "metadata": {
    "scrolled": true
   },
   "outputs": [],
   "source": [
    "adata_vasc.obs['age_group'].value_counts()"
   ]
  },
  {
   "cell_type": "code",
   "execution_count": null,
   "id": "spread-wiring",
   "metadata": {
    "scrolled": true
   },
   "outputs": [],
   "source": [
    "adata_vasc.obs['sex'].value_counts()"
   ]
  },
  {
   "cell_type": "code",
   "execution_count": null,
   "id": "iraqi-heritage",
   "metadata": {},
   "outputs": [],
   "source": [
    "#adata_fbs.obs['age_group2'] = adata_fbs.obs['age_group'].apply(lambda x: 'prenatal' if x == 'fetal' else 'postnatal') \n",
    "samples = adata_vasc.obs['sample'].value_counts().index[adata_vasc.obs['sample'].value_counts()>5].tolist()"
   ]
  },
  {
   "cell_type": "code",
   "execution_count": null,
   "id": "criminal-textbook",
   "metadata": {
    "scrolled": true
   },
   "outputs": [],
   "source": [
    "adata_vasc.obs['sample'].value_counts()>5"
   ]
  },
  {
   "cell_type": "code",
   "execution_count": null,
   "id": "protective-discount",
   "metadata": {},
   "outputs": [],
   "source": [
    "adata_vasc.layers['counts'] = adata_vasc.X.copy()"
   ]
  },
  {
   "cell_type": "markdown",
   "id": "several-letter",
   "metadata": {},
   "source": [
    "### note study is excluded from the covariates"
   ]
  },
  {
   "cell_type": "code",
   "execution_count": null,
   "id": "independent-bunny",
   "metadata": {},
   "outputs": [],
   "source": [
    "adata_vasc_scvi_run = run_scvi2(adata_vasc[adata_vasc.obs['sample'].isin(samples),],  batch_hv=\"age_group\", hvg = 5000, batch_scvi='sample', \n",
    "          cat_cov_scvi=['chemistry_simple','age_group','donor', 'sex'], cont_cov_scvi = None, include_genes=[], \n",
    "          exclude_cc_genes=True, exclude_vdjgenes=True, exclude_mt_genes = True, \n",
    "          n_layers=2, n_latent=30, max_epochs=350, batch_size=2000)"
   ]
  },
  {
   "cell_type": "code",
   "execution_count": null,
   "id": "thermal-calculator",
   "metadata": {},
   "outputs": [],
   "source": [
    "adata_vasc_scvi = adata_vasc_scvi_run['data'].copy()"
   ]
  },
  {
   "cell_type": "code",
   "execution_count": null,
   "id": "metallic-assumption",
   "metadata": {},
   "outputs": [],
   "source": [
    "sc.pl.umap(adata_vasc_scvi, color = major_mrkrs)"
   ]
  },
  {
   "cell_type": "code",
   "execution_count": null,
   "id": "chinese-upper",
   "metadata": {},
   "outputs": [],
   "source": [
    "sc.pl.umap(adata_vasc_scvi, color = vasc_mrkrs)"
   ]
  },
  {
   "cell_type": "code",
   "execution_count": null,
   "id": "medical-tower",
   "metadata": {},
   "outputs": [],
   "source": [
    "vasc_mrkrs_dict = {'pan-vasc': ['PECAM1', 'CDH5','VWF'],\n",
    "                  'arteria': ['CXCL12', 'SEMA3G', 'HEY1'],\n",
    "                   'large vassels': ['SULF1', 'ELN'],\n",
    "                  'capillary': ['RGCC', 'PLVAP'],\n",
    "                   'prolif': ['MKI67'],\n",
    "                   'venous': ['ACKR1', 'ICAM1', 'CCL2', 'SELE'],\n",
    "                   'lymphatic': ['PROX1', 'TFF3', 'CCL21']\n",
    "                  }"
   ]
  },
  {
   "cell_type": "code",
   "execution_count": null,
   "id": "aggressive-there",
   "metadata": {},
   "outputs": [],
   "source": [
    "population_plots(adata_vasc_scvi, mrkrs_dict = vasc_mrkrs_dict, save_name = None, \n",
    "                 figures = '...Figure_4_nat/figures/', \n",
    "                 cat_order = ecs_ordered, anno = 'cell_type_level_4_explore', \n",
    "                     anno_cov = ['study', 'sex', 'age_group', 'chemistry_simple'])"
   ]
  },
  {
   "cell_type": "code",
   "execution_count": null,
   "id": "loose-spectacular",
   "metadata": {},
   "outputs": [],
   "source": [
    "adata_vasc_scvi.write(f'{clean_folder}/vasc_scvi_updated_{today}.h5ad')\n",
    "\n",
    "adata_vasc_scvi_run['vae'].save(f'{clean_folder}/models/vasc_scvi_updated_{today}.h5ad')"
   ]
  },
  {
   "cell_type": "code",
   "execution_count": null,
   "id": "peripheral-court",
   "metadata": {},
   "outputs": [],
   "source": []
  }
 ],
 "metadata": {
  "kernelspec": {
   "display_name": "Python [conda env:scvi-env3]",
   "language": "python",
   "name": "conda-env-scvi-env3-py"
  },
  "language_info": {
   "codemirror_mode": {
    "name": "ipython",
    "version": 3
   },
   "file_extension": ".py",
   "mimetype": "text/x-python",
   "name": "python",
   "nbconvert_exporter": "python",
   "pygments_lexer": "ipython3",
   "version": "3.10.0"
  }
 },
 "nbformat": 4,
 "nbformat_minor": 5
}
