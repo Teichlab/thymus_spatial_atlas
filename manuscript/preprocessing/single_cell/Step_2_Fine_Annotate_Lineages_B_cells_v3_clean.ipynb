{
 "cells": [
  {
   "cell_type": "markdown",
   "id": "5bc6bd10-561b-4710-b93a-8471bf1a26ae",
   "metadata": {},
   "source": [
    "# Thymus human spatial atlas, fine annotation B cells\n"
   ]
  },
  {
   "cell_type": "code",
   "execution_count": 1,
   "id": "1e56f383-02b2-493a-b882-c932362dacd6",
   "metadata": {},
   "outputs": [],
   "source": [
    "import sys\n",
    "\n",
    "import matplotlib.pyplot as plt\n",
    "import seaborn as sns\n",
    "import numpy as np\n",
    "import pandas as pd\n",
    "\n",
    "import scanpy as sc\n",
    "import scvi\n",
    "\n",
    "from IPython.core.interactiveshell import InteractiveShell\n",
    "InteractiveShell.ast_node_interactivity = \"all\" # to show output from all the lines in a cells\n",
    "pd.set_option('display.max_column',None) # display all the columns in pandas\n",
    "pd.options.display.max_rows = 100\n",
    "\n",
    "from datetime import date\n",
    "today = str(date.today())\n",
    "\n",
    "import matplotlib\n",
    "from matplotlib import rcParams\n",
    "rcParams['pdf.fonttype'] = 42\n",
    "sc.settings.set_figure_params(dpi = 150, color_map = 'RdPu', dpi_save = 300, vector_friendly = True, format = 'pdf')"
   ]
  },
  {
   "cell_type": "code",
   "execution_count": 3,
   "id": "d22171be",
   "metadata": {},
   "outputs": [],
   "source": [
    "model_folder = '/nfs/team205/ny1/ThymusSpatialAtlas/Figure1/scvi_models/'\n",
    "figures = '/nfs/team205/ny1/ThymusSpatialAtlas/Figure1/figures/'\n",
    "results = '/nfs/team205/ny1/ThymusSpatialAtlas/Figure1/annotation_done/'"
   ]
  },
  {
   "cell_type": "code",
   "execution_count": 4,
   "id": "f62c3d9c",
   "metadata": {},
   "outputs": [],
   "source": [
    "major_mrkrs = ['PTPRC', 'CD3G', \n",
    "               'HOXA9', \n",
    "               'HES1', #DN\n",
    "               'RORC', #DP\n",
    "               'CCR9',\n",
    "              'PDCD1', #CD8aa\n",
    "              'CD8A', 'CD8B', \n",
    "              'CD4', 'CD40LG', \n",
    "              'CRTAM', 'ANXA1', #memory\n",
    "             'FOXP3', 'DHRS3', \n",
    "               'TRDC', #gama-delta \n",
    "              'EOMES', 'KLRD1', # NK cells\n",
    "              'TNFSF11', # ILC\n",
    "              'CD19', 'VPREB1', # pre-pro B cells\n",
    "              'IGHD', 'IGHA1', 'IGHG1', \n",
    "              'CLEC9A', 'CLEC10A', \n",
    "              'LAMP3', \n",
    "             'LILRA4','S100A9', 'C1QA', 'TPSB2', 'ITGA2B', 'GYPA', \n",
    "              'PDGFRA', 'COLEC11', 'FBN1', \n",
    "              'RGS5', 'CDH5', \n",
    "               'LYVE1', 'EPCAM', 'PSMB11', 'DLK2', 'KRT14', \n",
    "               'CCL19', 'AIRE', 'KRT1', 'POU2F3',\n",
    "               'MYOD1', 'NEUROG1']"
   ]
  },
  {
   "cell_type": "code",
   "execution_count": 13,
   "id": "ac20cbc3",
   "metadata": {},
   "outputs": [],
   "source": [
    "ig_genes = [\"IGHM\",\"IGHD\", \"IGHG1\", \"IGHG2\", \"IGHG3\", \"IGHG4\",\n",
    "                                  \"IGHA1\", \"IGHA2\",\"IGHE\"]"
   ]
  },
  {
   "cell_type": "code",
   "execution_count": 14,
   "id": "d58cb9e0",
   "metadata": {},
   "outputs": [],
   "source": [
    "B_mrkrs = {'B_cells': [\"CD79A\", \"TCL1A\"],\n",
    "'B_IFN': [\"MX1\",\"IFI44L\", \"STAT1\"], \n",
    "'B_naive': [\"FCER2\", \"BANK1\", \"FCMR\"], \n",
    "'B_activated': ['CD69','FOS','FOSB','DUSP1','CD83'], \n",
    "'B_preGC': [\"MIR155HG\", \"HIVEP3\", \"PARVB\"],\n",
    "'B_GC': [\"GMDS\", \"LMO2\", \"LPP\", \"BCL6\", \"SUGCT\", \"AICDA\", \"H2AFZ\", \"MKI67\"], \n",
    "'B_prePB': [\"FRZB\", \"BTNL9\", \"HOPX\"], \n",
    "'B_plasma': [\"XBP1\", \"PRDM1\", \"FKBP11\"], \n",
    "'B_mem': [\"TNFRSF13B\", \"FCRL4\", \"CLECL1\"]}"
   ]
  },
  {
   "cell_type": "markdown",
   "id": "25e28895-136d-42c5-9c79-013d4dd4d4bb",
   "metadata": {},
   "source": [
    "# fine annotate every lineage"
   ]
  },
  {
   "cell_type": "code",
   "execution_count": 5,
   "id": "7c946967-94f7-40b7-9b66-62c3ae518a97",
   "metadata": {
    "tags": []
   },
   "outputs": [],
   "source": [
    "h5ad_file = '/nfs/team205/ny1/ThymusSpatialAtlas/Figure1/annotation_done/HTSA_v17.h5ad'\n",
    "adata_full = sc.read_h5ad(h5ad_file)\n",
    "# adata_full.write_h5ad(h5ad_file)"
   ]
  },
  {
   "cell_type": "code",
   "execution_count": 15,
   "id": "bb9031d3",
   "metadata": {},
   "outputs": [],
   "source": [
    "Bcells = ['B(P)', 'B(Q)', 'B-pro/pre', 'B-stimulated', 'plasma-cells']"
   ]
  },
  {
   "cell_type": "code",
   "execution_count": 16,
   "id": "fcfad467",
   "metadata": {},
   "outputs": [],
   "source": [
    "adata_full.obs['annotation_level_3'].cat.categories"
   ]
  },
  {
   "cell_type": "code",
   "execution_count": 17,
   "id": "6381eab8",
   "metadata": {},
   "outputs": [],
   "source": [
    "adata = adata_full[adata_full.obs['annotation_level_3'].isin(Bcells),:].copy()"
   ]
  },
  {
   "cell_type": "code",
   "execution_count": 18,
   "id": "984b6e5f-a0a6-4d05-9fc2-b3e04c3cd324",
   "metadata": {},
   "outputs": [],
   "source": [
    "adata.obsm[\"X_scVI_broad\"] = adata.obsm[\"X_scVI\"].copy()\n",
    "sc.pp.neighbors(adata, use_rep=\"X_scVI_broad\")\n",
    "sc.tl.umap(adata)\n",
    "sc.pl.umap(adata, color = ['annotation_level_2', 'annotation_level_3', 'doublet_score'], legend_loc = \"on data\", legend_fontsize = 5)\n",
    "sc.pl.umap(adata, color = ['age_group','study', 'chemistry_simple', 'donor',], legend_loc = \"on data\", legend_fontsize = 5)"
   ]
  },
  {
   "cell_type": "code",
   "execution_count": 19,
   "id": "a2de0e9b",
   "metadata": {},
   "outputs": [],
   "source": [
    "def get_cluster_proportions(adata,\n",
    "                            cluster_key=\"cluster_final\",\n",
    "                            sample_key=\"replicate\",\n",
    "                            drop_values=None):\n",
    "    \"\"\"\n",
    "    Input\n",
    "    =====\n",
    "    adata : AnnData object\n",
    "    cluster_key : key of `adata.obs` storing cluster info\n",
    "    sample_key : key of `adata.obs` storing sample/replicate info\n",
    "    drop_values : list/iterable of possible values of `sample_key` that you don't want\n",
    "    \n",
    "    Returns\n",
    "    =======\n",
    "    pd.DataFrame with samples as the index and clusters as the columns and 0-100 floats\n",
    "    as values\n",
    "    \"\"\"\n",
    "    \n",
    "    adata_tmp = adata.copy()\n",
    "    sizes = adata_tmp.obs.groupby([cluster_key, sample_key]).size()\n",
    "    props = sizes.groupby(level=1).apply(lambda x: 100 * x / x.sum()).reset_index() \n",
    "    props = props.pivot(columns=sample_key, index=cluster_key).T\n",
    "    props.index = props.index.droplevel(0)\n",
    "    props.fillna(0, inplace=True)\n",
    "    \n",
    "    if drop_values is not None:\n",
    "        for drop_value in drop_values:\n",
    "            props.drop(drop_value, axis=0, inplace=True)\n",
    "    return props\n",
    "\n",
    "\n",
    "def plot_cluster_proportions(cluster_props, \n",
    "                             cluster_palette=None,\n",
    "                             xlabel_rotation=1): \n",
    "    fig, ax = plt.subplots(dpi=300)\n",
    "    fig.patch.set_facecolor(\"white\")\n",
    "    \n",
    "    cmap = None\n",
    "    if cluster_palette is not None:\n",
    "        cmap = sns.palettes.blend_palette(\n",
    "            cluster_palette, \n",
    "            n_colors=len(cluster_palette), \n",
    "            as_cmap=True)\n",
    "   \n",
    "    cluster_props.plot(\n",
    "        kind=\"bar\", \n",
    "        stacked=True, \n",
    "        ax=ax, \n",
    "        legend=None, \n",
    "        colormap=cmap,\n",
    "        grid=False\n",
    "    )\n",
    "    \n",
    "    ax.legend(bbox_to_anchor=(1.01, 1), frameon=False, title=\"Cluster\")\n",
    "    # sns.despine(fig, ax)\n",
    "    # ax.tick_params(axis=\"x\", rotation=xlabel_rotation)\n",
    "    # ax.set_xlabel(cluster_props.index.name.capitalize())\n",
    "    ax.set_ylabel(\"Proportion\")\n",
    "    # fig.tight_layout()\n",
    "    \n",
    "    return fig"
   ]
  },
  {
   "cell_type": "code",
   "execution_count": 20,
   "id": "dd668e16",
   "metadata": {},
   "outputs": [],
   "source": [
    "norm_prop = pd.DataFrame(adata.obs['study'].value_counts()/adata.obs['study'].value_counts().sum()).T"
   ]
  },
  {
   "cell_type": "code",
   "execution_count": 21,
   "id": "6569982f",
   "metadata": {},
   "outputs": [],
   "source": [
    "counts = adata.obs['study'].value_counts()"
   ]
  },
  {
   "cell_type": "code",
   "execution_count": 22,
   "id": "79fb3b81",
   "metadata": {},
   "outputs": [],
   "source": [
    "plt.figure(figsize=(5, 1.5))\n",
    "counts.plot( kind=\"barh\", \n",
    "        stacked=True) \n",
    "for i, v in enumerate(counts):\n",
    "    plt.text(v, i, \" \"+str(v), color='black', va='center')\n"
   ]
  },
  {
   "cell_type": "code",
   "execution_count": 23,
   "id": "893ad583",
   "metadata": {},
   "outputs": [],
   "source": [
    "plt.figure(figsize=(1,4))\n",
    "\n",
    "bottom = 0\n",
    "for item, count in counts.items():\n",
    "    plt.bar('Bcells cells', count, bottom=bottom, label=item)\n",
    "    bottom += count\n",
    "plt.grid(False)\n",
    "plt.ylabel('Studies')\n",
    "plt.legend(loc = \"lower right\", fancybox = False)"
   ]
  },
  {
   "cell_type": "code",
   "execution_count": 24,
   "id": "bb2477e1",
   "metadata": {},
   "outputs": [],
   "source": [
    "adata.obs['age_group2'] = adata.obs['age_group'].apply(lambda x: 'prenatal' if x == 'fetal' else\n",
    "                                                      'postnatal')\n",
    "len(adata.obs['sample'].value_counts().index)\n",
    "sum(adata.obs['sample'].value_counts()>5)\n",
    "\n",
    "filt_samples = adata.obs['sample'].value_counts().index[adata.obs['sample'].value_counts()>5]\n",
    "\n",
    "adata.shape\n",
    "adata = adata[adata.obs['sample'].isin(filt_samples),:].copy()\n",
    "adata.shape"
   ]
  },
  {
   "cell_type": "code",
   "execution_count": 25,
   "id": "81dc7d0a-706a-449e-99d6-504370070162",
   "metadata": {},
   "outputs": [],
   "source": [
    "def run_scvi2(adata, batch_hv=\"age_group\", batch_scvi=\"sample\", \\\n",
    "             cat_cov_scvi=[\"DonorID\", \"10X_version\", \"Sex\", \"Age_group\"], cont_cov_scvi=[\"percent_mito\"], \\\n",
    "             include_genes=[], exclude_cc_genes=True, exclude_mt_genes=True, \n",
    "             exclude_vdjgenes = True, max_epochs = 350, vae_name=\"\", **kwargs):\n",
    "    adata_scvi = sc.AnnData(X=adata.layers['counts'].copy(), obs=adata.obs.copy(), var=adata.var.copy())\n",
    "    adata_scvi = adata_scvi[:,0:-150] # remove cite genes\n",
    "    # adata_scvi.layers[\"counts\"] = adata_scvi.X.copy()\n",
    "    # sc.pp.normalize_total(adata_scvi, target_sum=1e4)\n",
    "    # sc.pp.log1p(adata_scvi)\n",
    "    # keep full dimension safe\n",
    "    #    sc.pp.highly_variable_genes(adata_scvi, flavor=\"seurat_v3\", n_top_genes=10000, layer=\"counts\",\\\n",
    "    #                                batch_key=\"Age_group\")\n",
    "    sc.pp.highly_variable_genes(adata_scvi, flavor=\"seurat_v3\", n_top_genes=3000, batch_key=batch_hv)\n",
    "    selected_genes = list(set(adata_scvi.var.loc[adata_scvi.var['highly_variable']].index.tolist() + include_genes))\n",
    "    print(len(selected_genes))\n",
    "    if exclude_cc_genes:\n",
    "        cell_cycle_genes = [x.strip() for x in open('/nfs/team205/vk8/processed_data/regev_lab_cell_cycle_genes.txt')]\n",
    "        [selected_genes.remove(i) for i in cell_cycle_genes if i in selected_genes]\n",
    "    if exclude_mt_genes:\n",
    "        mt_genes = adata.var_names[adata.var_names.str.startswith('MT-')]\n",
    "        [selected_genes.remove(i) for i in mt_genes if i in selected_genes]\n",
    "    if exclude_vdjgenes:\n",
    "        import re\n",
    "        [selected_genes.remove(i) for i in selected_genes if re.search('^TR[AB][VDJ]|^IG[HKL][VDJC]', i)]\n",
    "    \n",
    "    adata_scvi = adata_scvi[:, selected_genes].copy()\n",
    "    print(adata_scvi.shape)\n",
    "    scvi.model.SCVI.setup_anndata(adata_scvi, batch_key=batch_scvi,\n",
    "                                  categorical_covariate_keys=cat_cov_scvi,\n",
    "                                  continuous_covariate_keys=cont_cov_scvi)\n",
    "    scvi_kwargs = {k: v for k, v in kwargs.items() if k in scvi.model.SCVI.__init__.__code__.co_varnames}\n",
    "    vae = scvi.model.SCVI(adata_scvi, **scvi_kwargs)\n",
    "   # vae = scvi.model.SCVI(adata_scvi,n_layers=2, n_latent=30)\n",
    "    train_kwargs = {k: v for k, v in kwargs.items() if k in vae.train.__code__.co_varnames}\n",
    "    vae.train(**train_kwargs)\n",
    "    # adata_scvi.obsm[\"X_scVI\"] = vae.get_latent_representation()\n",
    "    #   adata_raw_scvi = adata.copy()\n",
    "    adata_scvi.obsm[\"X_scVI\"] = vae.get_latent_representation()\n",
    "    sc.pp.neighbors(adata_scvi, use_rep=\"X_scVI\")\n",
    "    sc.tl.leiden(adata_scvi)\n",
    "    #   sc.tl.umap(adata_scvi)\n",
    "    sc.tl.umap(adata_scvi)\n",
    "\n",
    "    adata_raw_scvi = adata.copy()\n",
    "    adata_raw_scvi.obsm['X_scVI'] = adata_scvi.obsm['X_scVI'].copy()\n",
    "    adata_raw_scvi.obsm['X_umap'] = adata_scvi.obsm['X_umap'].copy()\n",
    "    adata_raw_scvi.obsp = adata_scvi.obsp.copy()\n",
    "    adata_raw_scvi.uns = adata_scvi.uns.copy()\n",
    "    adata_raw_scvi.obs['leiden'] = adata_scvi.obs['leiden'].copy()\n",
    "\n",
    "    sc.pl.umap(\n",
    "        adata_raw_scvi,\n",
    "        color=['annotation_level_2', 'annotation_level_3', 'doublet_score'],\n",
    "        frameon=False,\n",
    "        ncols=2,\n",
    "    )\n",
    "    sc.pl.umap(\n",
    "        adata_raw_scvi,\n",
    "        color=['age_group','study', 'chemistry_simple', 'donor'])\n",
    "    cat_cov_str = \"-\".join(cat_cov_scvi)\n",
    "    #    vae.save(f\"/nfs/team205/vk8/scripts/scvi/Results/scvi_models/{vae_name}_scvi_batch{batch_scvi}_cat{cat_cov_str}_cont{cont_cov_scvi}_10000hvgenes_{today}\", save_anndata = True)\n",
    "    results = {}\n",
    "    results['data'] = adata_raw_scvi\n",
    "    results['vae'] = vae\n",
    "    return (results)"
   ]
  },
  {
   "cell_type": "code",
   "execution_count": 26,
   "id": "0d3c0143",
   "metadata": {},
   "outputs": [],
   "source": [
    "adata_Bcells_scvi_run = run_scvi2(adata,  batch_hv=\"age_group2\", batch_scvi=\"donor\", \n",
    "          cat_cov_scvi=['chemistry_simple','age_group2','study'], cont_cov_scvi = None, include_genes=[], \n",
    "          exclude_cc_genes=True, exclude_vdjgenes=True, exclude_mt_genes = True, \n",
    "          n_layers=2, n_latent=30, max_epochs=350, batch_size=2000)"
   ]
  },
  {
   "cell_type": "code",
   "execution_count": 27,
   "id": "12186db0",
   "metadata": {},
   "outputs": [],
   "source": [
    "adata_scvi = adata_Bcells_scvi_run['data'].copy()"
   ]
  },
  {
   "cell_type": "code",
   "execution_count": 28,
   "id": "6f373321",
   "metadata": {},
   "outputs": [],
   "source": [
    "sc.tl.leiden(adata_scvi, resolution = 1.4, key_added = \"leiden_r1.4\")\n",
    "\n",
    "sc.tl.leiden(adata_scvi, resolution = 1.8, key_added = \"leiden_r1.8\")\n",
    "\n",
    "sc.tl.leiden(adata_scvi, resolution = 2.2, key_added = \"leiden_r2.2\")"
   ]
  },
  {
   "cell_type": "code",
   "execution_count": null,
   "id": "eca8d7ab",
   "metadata": {},
   "outputs": [],
   "source": []
  },
  {
   "cell_type": "code",
   "execution_count": 29,
   "id": "9451fb8f",
   "metadata": {},
   "outputs": [],
   "source": [
    "sc.pl.umap(adata_scvi, color = ['doublet_score', 'leiden',\"leiden_r1.4\", \"leiden_r1.8\", \"leiden_r2.2\", 'annotation_level_3'], \n",
    "          legend_loc = \"on data\", legend_fontsize = 6)"
   ]
  },
  {
   "cell_type": "code",
   "execution_count": 35,
   "id": "729b95ad",
   "metadata": {},
   "outputs": [],
   "source": [
    "B_mrkrs"
   ]
  },
  {
   "cell_type": "code",
   "execution_count": 36,
   "id": "bccee340",
   "metadata": {},
   "outputs": [],
   "source": [
    "sc.pl.umap(adata_scvi, color = ['CD79A', 'TCL1A','TNFRSF13B', 'FCRL4', 'CLECL1', \n",
    "                                'CD69', 'FOS', 'FOSB', 'DUSP1', 'CD83',\n",
    "                               'XBP1', 'PRDM1', 'FKBP11'])"
   ]
  },
  {
   "cell_type": "code",
   "execution_count": 37,
   "id": "09fb701e",
   "metadata": {},
   "outputs": [],
   "source": [
    "sc.pl.umap(adata_scvi, color = ig_genes)"
   ]
  },
  {
   "cell_type": "code",
   "execution_count": 38,
   "id": "2a1fe279",
   "metadata": {},
   "outputs": [],
   "source": [
    "sc.pl.umap(adata_scvi, color = major_mrkrs, \n",
    "          legend_loc = \"on data\", legend_fontsize = 6)"
   ]
  },
  {
   "cell_type": "code",
   "execution_count": 39,
   "id": "bd217f89",
   "metadata": {},
   "outputs": [],
   "source": [
    "sc.pl.umap(adata_scvi, color = [\"leiden_r1.8\", \"annotation_level_3\", \"doublet_score\", \"MKI67\", \"CD3E\", \"CD3G\", \"CD8A\"], \n",
    "          legend_loc = \"on data\", legend_fontsize = 6, frameon = False)"
   ]
  },
  {
   "cell_type": "code",
   "execution_count": 49,
   "id": "1a08d8fa",
   "metadata": {},
   "outputs": [],
   "source": [
    "adata_scvi_dbrm1 = adata_scvi[~adata_scvi.obs[\"leiden_r1.8\"].isin(['20', '21']),:].copy()"
   ]
  },
  {
   "cell_type": "code",
   "execution_count": 42,
   "id": "f59e144d",
   "metadata": {},
   "outputs": [],
   "source": [
    "adata_scvi.shape\n",
    "adata_scvi_dbrm1.shape"
   ]
  },
  {
   "cell_type": "code",
   "execution_count": 48,
   "id": "9f506bbb",
   "metadata": {},
   "outputs": [],
   "source": [
    "sc.pl.dotplot(adata_scvi, var_names = [\"CD3E\", \"CD3G\", \"CD8A\"], groupby = \"leiden_r1.8\")"
   ]
  },
  {
   "cell_type": "code",
   "execution_count": 50,
   "id": "4ef90c8e",
   "metadata": {},
   "outputs": [],
   "source": [
    "sc.pl.umap(adata_scvi_dbrm1, color = [\"leiden_r1.8\", \"annotation_level_3\", \"doublet_score\", \"MKI67\", \"CD3E\", \"CD3G\", \"CD8A\"], \n",
    "          legend_loc = \"on data\", legend_fontsize = 6, frameon = False)"
   ]
  },
  {
   "cell_type": "code",
   "execution_count": 51,
   "id": "c7d095f1",
   "metadata": {},
   "outputs": [],
   "source": [
    "adata_Bcells_scvi_dbrm = run_scvi2(adata_scvi_dbrm1,  batch_hv=\"age_group2\", batch_scvi=\"donor\", \n",
    "          cat_cov_scvi=['chemistry_simple','age_group2','study'], cont_cov_scvi = None, include_genes=[], \n",
    "          exclude_cc_genes=True, exclude_vdjgenes=True, exclude_mt_genes = True, \n",
    "          n_layers=2, n_latent=30, max_epochs=350, batch_size=2000)"
   ]
  },
  {
   "cell_type": "code",
   "execution_count": 52,
   "id": "2595d11e",
   "metadata": {},
   "outputs": [],
   "source": [
    "adata_scvi_dbrm = adata_Bcells_scvi_dbrm['data'].copy()"
   ]
  },
  {
   "cell_type": "code",
   "execution_count": 53,
   "id": "6f092807",
   "metadata": {},
   "outputs": [],
   "source": [
    "sc.pl.umap(adata_scvi_dbrm, color = [\"leiden\", \"leiden_r1.8\", \"annotation_level_3\", \"doublet_score\", \"MKI67\", \"CD3E\", \"CD3G\", \"CD8A\"], \n",
    "          legend_loc = \"on data\", legend_fontsize = 6, frameon = False)"
   ]
  },
  {
   "cell_type": "code",
   "execution_count": 57,
   "id": "b65921e7",
   "metadata": {},
   "outputs": [],
   "source": [
    "sc.pl.umap(adata_scvi_dbrm, color = [\"leiden_r1.8\", \"annotation_level_3\", \"MKI67\"], \n",
    "          legend_loc = \"on data\", legend_fontsize = 6, frameon = False)"
   ]
  },
  {
   "cell_type": "code",
   "execution_count": 58,
   "id": "10986d34",
   "metadata": {},
   "outputs": [],
   "source": [
    "sc.pl.umap(adata_scvi_dbrm, color = [\"VPREB3\", \"CD79A\", \"CD27\", \"TCL1A\", 'CD69', \\\n",
    "                                \"XBP1\", \"PRDM1\", \"FKBP11\",  \"TNFRSF13B\", \"FCRL4\", \"CLECL1\", \"MKI67\"])"
   ]
  },
  {
   "cell_type": "code",
   "execution_count": 59,
   "id": "fb188b67",
   "metadata": {},
   "outputs": [],
   "source": [
    "sc.pl.umap(adata_scvi_dbrm, color = ig_genes)"
   ]
  },
  {
   "cell_type": "code",
   "execution_count": 70,
   "id": "b2722191",
   "metadata": {},
   "outputs": [],
   "source": [
    "sc.tl.leiden(adata_scvi_dbrm, resolution = 0.8, key_added = \"leiden_res0.8\")\n",
    "sc.tl.leiden(adata_scvi_dbrm, resolution = 1.8, key_added = \"leiden_res1.8\")\n",
    "sc.tl.leiden(adata_scvi_dbrm, resolution = 1.4, key_added = \"leiden_res1.4\")"
   ]
  },
  {
   "cell_type": "code",
   "execution_count": 73,
   "id": "73ffc553",
   "metadata": {},
   "outputs": [],
   "source": [
    "sc.tl.leiden(adata_scvi_dbrm, resolution = 0.4, restrict_to=[\"leiden_res0.8\", ['6']],  key_added = \"leiden_res0.8R\")"
   ]
  },
  {
   "cell_type": "code",
   "execution_count": 74,
   "id": "ef296e86",
   "metadata": {},
   "outputs": [],
   "source": [
    "sc.pl.umap(adata_scvi_dbrm, color = [\"annotation_level_3\", \"leiden\", \"leiden_res0.8\", \"leiden_res0.8R\", \"leiden_res1.4\", \"leiden_res1.8\"], legend_loc = \"on data\", ncols = 2, frameon = False)"
   ]
  },
  {
   "cell_type": "code",
   "execution_count": 75,
   "id": "677e10cc",
   "metadata": {},
   "outputs": [],
   "source": [
    "import celltypist\n",
    "from celltypist import models"
   ]
  },
  {
   "cell_type": "code",
   "execution_count": 76,
   "id": "3dc7081f",
   "metadata": {},
   "outputs": [],
   "source": [
    "models.download_models(force_update = True)"
   ]
  },
  {
   "cell_type": "code",
   "execution_count": 77,
   "id": "bfac3df8",
   "metadata": {},
   "outputs": [],
   "source": [
    "model = models.Model.load(model = 'Pan_Fetal_Human.pkl')"
   ]
  },
  {
   "cell_type": "code",
   "execution_count": 92,
   "id": "a91421d4",
   "metadata": {},
   "outputs": [],
   "source": [
    "adata_scvi_dbrm_citerm = adata_scvi_dbrm[:, adata_scvi_dbrm.var['cite'] == False].copy()"
   ]
  },
  {
   "cell_type": "code",
   "execution_count": 102,
   "id": "e3501645",
   "metadata": {},
   "outputs": [],
   "source": [
    "adata_scvi_dbrm"
   ]
  },
  {
   "cell_type": "code",
   "execution_count": 117,
   "id": "d77215cf",
   "metadata": {},
   "outputs": [],
   "source": [
    "adata_scvi_dbrm_citerm = sc.AnnData(X=adata_scvi_dbrm.layers['counts'].copy(), obs=adata_scvi_dbrm.obs.copy(), var=adata_scvi_dbrm.var.copy(),\n",
    "                                   obsm = adata_scvi_dbrm.obsm, obsp = adata_scvi_dbrm.obsp, uns = adata_scvi_dbrm.uns)\n",
    "adata_scvi_dbrm_citerm = adata_scvi_dbrm_citerm[:,0:-150]"
   ]
  },
  {
   "cell_type": "code",
   "execution_count": 121,
   "id": "0efd877f",
   "metadata": {},
   "outputs": [],
   "source": [
    "adata_scvi_dbrm_citerm.X.sum(1)"
   ]
  },
  {
   "cell_type": "code",
   "execution_count": 122,
   "id": "215d5d80",
   "metadata": {},
   "outputs": [],
   "source": [
    "sc.pp.normalize_total(adata_scvi_dbrm_citerm, target_sum = 1e4)"
   ]
  },
  {
   "cell_type": "code",
   "execution_count": 110,
   "id": "7f16beb1",
   "metadata": {},
   "outputs": [],
   "source": [
    "adata_scvi_dbrm_citerm.X.sum(1)\n",
    "adata_scvi_dbrm.X.sum(1)"
   ]
  },
  {
   "cell_type": "code",
   "execution_count": 111,
   "id": "2d8da852",
   "metadata": {},
   "outputs": [],
   "source": [
    "# Not run; predict cell identities using this loaded model.\n",
    "#predictions = celltypist.annotate(adata_2000, model = model, majority_voting = True)\n",
    "# Alternatively, just specify the model name (recommended as this ensures the model is intact every time it is loaded).\n",
    "predictions = celltypist.annotate(adata_scvi_dbrm_citerm, model = 'Pan_Fetal_Human.pkl', majority_voting = True)"
   ]
  },
  {
   "cell_type": "code",
   "execution_count": 149,
   "id": "38371d53",
   "metadata": {},
   "outputs": [],
   "source": [
    "# Not run; predict cell identities using this loaded model.\n",
    "#predictions = celltypist.annotate(adata_2000, model = model, majority_voting = True)\n",
    "# Alternatively, just specify the model name (recommended as this ensures the model is intact every time it is loaded).\n",
    "predictions2 = celltypist.annotate(adata_scvi_dbrm_citerm, model = 'Developing_Human_Thymus.pkl', majority_voting = True)"
   ]
  },
  {
   "cell_type": "code",
   "execution_count": 152,
   "id": "7adafd4f",
   "metadata": {},
   "outputs": [],
   "source": [
    "# Not run; predict cell identities using this loaded model.\n",
    "#predictions = celltypist.annotate(adata_2000, model = model, majority_voting = True)\n",
    "# Alternatively, just specify the model name (recommended as this ensures the model is intact every time it is loaded).\n",
    "predictions3 = celltypist.annotate(adata_scvi_dbrm_citerm, model = 'Immune_All_High.pkl', majority_voting = True)"
   ]
  },
  {
   "cell_type": "code",
   "execution_count": 141,
   "id": "13322836",
   "metadata": {},
   "outputs": [],
   "source": [
    "adata_scvi_dbrm_citerm = predictions.to_adata(prefix = \"pan-fetal\")"
   ]
  },
  {
   "cell_type": "code",
   "execution_count": 150,
   "id": "c1669229",
   "metadata": {},
   "outputs": [],
   "source": [
    "adata_scvi_dbrm_citerm = predictions2.to_adata(prefix = \"fet-thymus-\")"
   ]
  },
  {
   "cell_type": "code",
   "execution_count": 153,
   "id": "eb2e8422",
   "metadata": {},
   "outputs": [],
   "source": [
    "adata_scvi_dbrm_citerm = predictions3.to_adata(prefix = \"pip-\")"
   ]
  },
  {
   "cell_type": "code",
   "execution_count": 139,
   "id": "353664a9",
   "metadata": {},
   "outputs": [],
   "source": [
    "adata_scvi_dbrm.obs[['predicted_labels', 'over_clustering', 'majority_voting']] = predictions.predicted_labels"
   ]
  },
  {
   "cell_type": "code",
   "execution_count": 144,
   "id": "67b73df4",
   "metadata": {},
   "outputs": [],
   "source": [
    "adata_scvi_dbrm_citerm.obs.columns"
   ]
  },
  {
   "cell_type": "code",
   "execution_count": 154,
   "id": "c1ed2091",
   "metadata": {},
   "outputs": [],
   "source": [
    "sc.pl.umap(adata_scvi_dbrm_citerm, color = ['pan-fetalmajority_voting', 'pan-fetalconf_score',\n",
    "                                           'fet-thymus-majority_voting', 'fet-thymus-conf_score',\n",
    "                                           'pip-majority_voting', 'pip-conf_score'],  \n",
    "           legend_loc = \"on data\", legend_fontsize = 5, cmap = \"jet\", ncols = 2)"
   ]
  },
  {
   "cell_type": "code",
   "execution_count": 157,
   "id": "02a77295",
   "metadata": {},
   "outputs": [],
   "source": [
    "sc.pl.umap(adata_scvi_dbrm, color = ['annotation_level_3',\"leiden_res0.8R\", 'majority_voting'], frameon = False, legend_loc = \"on data\", \n",
    "          legend_fontsize = 7)"
   ]
  },
  {
   "cell_type": "code",
   "execution_count": 158,
   "id": "1ff18372",
   "metadata": {},
   "outputs": [],
   "source": [
    "adata_scvi_dbrm.obs['majority_voting'].cat.categories"
   ]
  },
  {
   "cell_type": "code",
   "execution_count": 161,
   "id": "d6a9a29c",
   "metadata": {},
   "outputs": [],
   "source": [
    "adata_scvi_dbrm.obs['annotation_level_3_new'] = adata_scvi_dbrm.obs.apply(lambda x:\n",
    "                                                'pro_B' if x['majority_voting'] == 'PRO_B' else\n",
    "                                                 'late_pro_B' if x['majority_voting'] == 'LATE_PRO_B' else\n",
    "                                                'large_pre_B' if x['majority_voting'] == 'LARGE_PRE_B' else\n",
    "                                                'small_pre_B' if x['majority_voting'] == 'SMALL_PRE_B' else\n",
    "                                                'B-Prolif' if x['majority_voting'] ==  'CYCLING_B' else\n",
    "                                                'B-naive' if x[\"leiden_res0.8R\"] in ['2','4', '5', '9'] else\n",
    "                                                'B-memory' if x[\"leiden_res0.8R\"] in ['0', '1', '3', '7'] else\n",
    "                                                'B-plasma' if x[\"leiden_res0.8R\"]  == '10' else 'B-naive', axis = 1\n",
    "                                                 )"
   ]
  },
  {
   "cell_type": "code",
   "execution_count": 181,
   "id": "c59a9db5",
   "metadata": {},
   "outputs": [],
   "source": [
    "adata_scvi_dbrm.obs['annotation_level_3_new'] = adata_scvi_dbrm.obs['annotation_level_3_new'].cat.reorder_categories(\n",
    "['pro_B', 'late_pro_B', 'large_pre_B', 'small_pre_B', \n",
    "'B-naive', 'B-memory', 'B-Prolif','B-plasma']).copy()"
   ]
  },
  {
   "cell_type": "code",
   "execution_count": 169,
   "id": "936c6e0f",
   "metadata": {},
   "outputs": [],
   "source": [
    "adata_scvi_dbrm"
   ]
  },
  {
   "cell_type": "code",
   "execution_count": 182,
   "id": "bc3bd49b",
   "metadata": {
    "collapsed": true,
    "jupyter": {
     "outputs_hidden": true
    },
    "tags": []
   },
   "outputs": [],
   "source": [
    "sc.pl.umap(adata_scvi_dbrm, color = 'annotation_level_3_new', legend_loc = \"on data\", \n",
    "          legend_fontsize = 6)"
   ]
  },
  {
   "cell_type": "code",
   "execution_count": 189,
   "id": "3643bc89",
   "metadata": {},
   "outputs": [],
   "source": [
    "B_mrkrs = {'B':['CD79A'],\n",
    "    'pro_B': ['CD19', 'VPREB1', 'MME', 'CDC45', 'MKI67'], \n",
    " 'late_pro_B': ['CD27', 'RAG1', 'DNTT'],\n",
    " 'pro->pre': ['CD24', 'TNFRSF17'],\n",
    " 'pre->mature' :['MME', 'IDH2', 'SPIB'],\n",
    " 'B_naive': ['IGHM', 'IGHD', 'MS4A1', 'TCL1A'],\n",
    " 'B_memory':[\"IGHG1\", \"TNFRSF13B\", \"FCRL4\", \"CLECL1\"],\n",
    " 'B_plasma':[\"XBP1\", \"PRDM1\", \"JCHAIN\"],\n",
    " 'Prolif': ['MKI67']\n",
    "}"
   ]
  },
  {
   "cell_type": "code",
   "execution_count": 194,
   "id": "1fd737b5",
   "metadata": {},
   "outputs": [],
   "source": [
    "dp_Bcells = sc.pl.dotplot(adata_scvi_dbrm, groupby = 'annotation_level_3_new', var_names = B_mrkrs, \n",
    "                      standard_scale = \"var\", return_fig = True)\n",
    "dp_Bcells = dp_Bcells.add_totals().style(dot_edge_color='black', dot_edge_lw=0.5, cmap = \"Reds\")\n",
    "dp_Bcells.savefig(f\"{figures}Bcells_spatlas_scvi_dbrm_mrkrs.pdf\")"
   ]
  },
  {
   "cell_type": "code",
   "execution_count": 191,
   "id": "bfcc7b5b",
   "metadata": {},
   "outputs": [],
   "source": [
    "adata_Bcells_scvi_dbrm['vae'].save(f'{model_folder}Bcells_spatlas_scvi_dbrm_{today}', save_anndata=True)\n",
    "\n",
    "adata_scvi_dbrm.write(f'{results}Bcells_spatlas_scvi_dbrm_{today}.h5ad')"
   ]
  },
  {
   "cell_type": "code",
   "execution_count": 192,
   "id": "1eedf59c",
   "metadata": {},
   "outputs": [],
   "source": [
    "umap_ctype = sc.pl.umap(adata_scvi_dbrm, color = ['annotation_level_3_new'], legend_loc = \"on data\",\n",
    "          legend_fontsize = 7, frameon = False, title = '', return_fig=True)\n",
    "umap_ctype.savefig(f\"{figures}Bcells_spatlas_scvi_dbrm_umap.pdf\", bbox_inches='tight')"
   ]
  },
  {
   "cell_type": "code",
   "execution_count": 193,
   "id": "9f662c73",
   "metadata": {},
   "outputs": [],
   "source": [
    "umap_cov = sc.pl.umap(adata_scvi_dbrm, color = ['age_group2', 'study', 'chemistry_simple', 'donor'], \n",
    "                      frameon = False, title = ['', '', '', ''], ncols = 2, return_fig=True)\n",
    "umap_cov.savefig(f\"{figures}Bcells_spatlas_scvi_dbrm_umap_covariates.pdf\", bbox_inches='tight')"
   ]
  },
  {
   "cell_type": "code",
   "execution_count": null,
   "id": "7f0a3afd",
   "metadata": {},
   "outputs": [],
   "source": []
  }
 ],
 "metadata": {
  "kernelspec": {
   "display_name": "cellpose",
   "language": "python",
   "name": "cellpose"
  },
  "language_info": {
   "codemirror_mode": {
    "name": "ipython",
    "version": 3
   },
   "file_extension": ".py",
   "mimetype": "text/x-python",
   "name": "python",
   "nbconvert_exporter": "python",
   "pygments_lexer": "ipython3",
   "version": "3.9.12"
  }
 },
 "nbformat": 4,
 "nbformat_minor": 5
}
