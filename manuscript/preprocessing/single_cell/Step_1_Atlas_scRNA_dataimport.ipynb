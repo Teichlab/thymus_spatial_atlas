{
 "cells": [
  {
   "cell_type": "markdown",
   "metadata": {},
   "source": [
    "### Thymus human spatial atlas Step 1 - dissociated dataset curation\n",
    "This notebook is used to read all disssociated data before integration and perform basic QC.  \n",
    "*all datasets were subjected to \"supp removal\" with cellbender\n",
    "\n",
    "Authour - Nadav Yayon, 2023"
   ]
  },
  {
   "cell_type": "code",
   "execution_count": 33,
   "metadata": {},
   "outputs": [
    {
     "name": "stdout",
     "output_type": "stream",
     "text": [
      "scanpy==1.9.1 anndata==0.8.0 umap==0.5.3 numpy==1.21.6 scipy==1.9.1 pandas==1.4.2 scikit-learn==1.1.1 statsmodels==0.13.2 python-igraph==0.9.11 louvain==0.7.1 pynndescent==0.5.7\n"
     ]
    }
   ],
   "source": [
    "import warnings\n",
    "warnings.simplefilter(action='ignore', category=FutureWarning)\n",
    "warnings.filterwarnings('ignore')\n",
    "import scanpy as sc\n",
    "import scrublet as sl\n",
    "import matplotlib as mpl\n",
    "import numpy as np\n",
    "import pandas as pd\n",
    "import os\n",
    "import anndata as ad\n",
    "import scvi\n",
    "sc.settings.verbosity = 3  # verbosity: errors (0), warnings (1), info (2), hints (3)\n",
    "sc.settings.set_figure_params(dpi=80, facecolor='white', color_map='viridis')\n",
    "sc.logging.print_header()"
   ]
  },
  {
   "cell_type": "code",
   "execution_count": 34,
   "metadata": {
    "tags": []
   },
   "outputs": [],
   "source": [
    "Path = '' # Removed the actual path, as it is irrelevant\n",
    "os.chdir(Path)\n",
    "meta = pd.read_csv('') # Removed the actual path, as it is irrelevant\n",
    "meta.columns = meta.columns.str.strip()"
   ]
  },
  {
   "cell_type": "markdown",
   "metadata": {
    "tags": []
   },
   "source": [
    "# Nuclei data demultiplexing "
   ]
  },
  {
   "cell_type": "code",
   "execution_count": null,
   "metadata": {
    "tags": []
   },
   "outputs": [],
   "source": [
    "# take nuclei demultiplex samples metadata from Souporcell\n",
    "os.chdir('') # Removed the actual path, as it is irrelevant\n",
    "nuclei = meta['type']=='nuclei'\n",
    "metaPlex = meta.iloc[np.where(nuclei)[0],:].reset_index()\n",
    "metaPlex['library']"
   ]
  },
  {
   "cell_type": "code",
   "execution_count": 5,
   "metadata": {
    "tags": []
   },
   "outputs": [
    {
     "data": {
      "text/html": [
       "<div>\n",
       "<style scoped>\n",
       "    .dataframe tbody tr th:only-of-type {\n",
       "        vertical-align: middle;\n",
       "    }\n",
       "\n",
       "    .dataframe tbody tr th {\n",
       "        vertical-align: top;\n",
       "    }\n",
       "\n",
       "    .dataframe thead th {\n",
       "        text-align: right;\n",
       "    }\n",
       "</style>\n",
       "<table border=\"1\" class=\"dataframe\">\n",
       "  <thead>\n",
       "    <tr style=\"text-align: right;\">\n",
       "      <th></th>\n",
       "      <th>index</th>\n",
       "      <th>library</th>\n",
       "      <th>sample</th>\n",
       "      <th>path_GEX</th>\n",
       "      <th>donor</th>\n",
       "      <th>SangerID</th>\n",
       "      <th>Age1</th>\n",
       "      <th>Age_group2</th>\n",
       "      <th>Sex</th>\n",
       "      <th>sort</th>\n",
       "      <th>...</th>\n",
       "      <th>Age2</th>\n",
       "      <th>SampleID_TCRab</th>\n",
       "      <th>path_TCRab</th>\n",
       "      <th>mapped_with</th>\n",
       "      <th>SampleID_TCRgd</th>\n",
       "      <th>path_TCRgd</th>\n",
       "      <th>SampleID_BCR</th>\n",
       "      <th>path_BCR</th>\n",
       "      <th>CITE_library</th>\n",
       "      <th>CITE_Path</th>\n",
       "    </tr>\n",
       "  </thead>\n",
       "  <tbody>\n",
       "    <tr>\n",
       "      <th>0</th>\n",
       "      <td>0</td>\n",
       "      <td>F23_TH_45P</td>\n",
       "      <td>FCAImmP7198634</td>\n",
       "      <td>/nfs/team205/vk8/irods_data/09_thymus/cellbend...</td>\n",
       "      <td>F23</td>\n",
       "      <td>NaN</td>\n",
       "      <td>-29</td>\n",
       "      <td>fetal</td>\n",
       "      <td>M</td>\n",
       "      <td>45P</td>\n",
       "      <td>...</td>\n",
       "      <td>11w</td>\n",
       "      <td>NaN</td>\n",
       "      <td>NaN</td>\n",
       "      <td>NaN</td>\n",
       "      <td>NaN</td>\n",
       "      <td>NaN</td>\n",
       "      <td>NaN</td>\n",
       "      <td>NaN</td>\n",
       "      <td>NaN</td>\n",
       "      <td>NaN</td>\n",
       "    </tr>\n",
       "    <tr>\n",
       "      <th>1</th>\n",
       "      <td>1</td>\n",
       "      <td>F23_TH_45N</td>\n",
       "      <td>FCAImmP7198635</td>\n",
       "      <td>/nfs/team205/vk8/irods_data/09_thymus/cellbend...</td>\n",
       "      <td>F23</td>\n",
       "      <td>NaN</td>\n",
       "      <td>-29</td>\n",
       "      <td>fetal</td>\n",
       "      <td>M</td>\n",
       "      <td>45N</td>\n",
       "      <td>...</td>\n",
       "      <td>11w</td>\n",
       "      <td>NaN</td>\n",
       "      <td>NaN</td>\n",
       "      <td>NaN</td>\n",
       "      <td>NaN</td>\n",
       "      <td>NaN</td>\n",
       "      <td>NaN</td>\n",
       "      <td>NaN</td>\n",
       "      <td>NaN</td>\n",
       "      <td>NaN</td>\n",
       "    </tr>\n",
       "    <tr>\n",
       "      <th>2</th>\n",
       "      <td>2</td>\n",
       "      <td>F64_TH_TOT_5GEX_1</td>\n",
       "      <td>FCAImmP7851890</td>\n",
       "      <td>/nfs/team205/vk8/irods_data/09_thymus/cellbend...</td>\n",
       "      <td>F64</td>\n",
       "      <td>NaN</td>\n",
       "      <td>-29</td>\n",
       "      <td>fetal</td>\n",
       "      <td>M</td>\n",
       "      <td>TOT</td>\n",
       "      <td>...</td>\n",
       "      <td>11w</td>\n",
       "      <td>FCAImmP7851882</td>\n",
       "      <td>warehouse/cellgeni/tic-1144/E-MTAB-8581/VDJ/F6...</td>\n",
       "      <td>CellRanger</td>\n",
       "      <td>NaN</td>\n",
       "      <td>NaN</td>\n",
       "      <td>NaN</td>\n",
       "      <td>NaN</td>\n",
       "      <td>NaN</td>\n",
       "      <td>NaN</td>\n",
       "    </tr>\n",
       "    <tr>\n",
       "      <th>3</th>\n",
       "      <td>3</td>\n",
       "      <td>F64_TH_TOT_5GEX_2</td>\n",
       "      <td>FCAImmP7851891</td>\n",
       "      <td>/nfs/team205/vk8/irods_data/09_thymus/cellbend...</td>\n",
       "      <td>F64</td>\n",
       "      <td>NaN</td>\n",
       "      <td>-29</td>\n",
       "      <td>fetal</td>\n",
       "      <td>M</td>\n",
       "      <td>TOT</td>\n",
       "      <td>...</td>\n",
       "      <td>11w</td>\n",
       "      <td>FCAImmP7851883</td>\n",
       "      <td>warehouse/cellgeni/tic-1144/E-MTAB-8581/VDJ/F6...</td>\n",
       "      <td>CellRanger</td>\n",
       "      <td>NaN</td>\n",
       "      <td>NaN</td>\n",
       "      <td>NaN</td>\n",
       "      <td>NaN</td>\n",
       "      <td>NaN</td>\n",
       "      <td>NaN</td>\n",
       "    </tr>\n",
       "    <tr>\n",
       "      <th>4</th>\n",
       "      <td>4</td>\n",
       "      <td>F45_TH_45P</td>\n",
       "      <td>FCAImmP7579218</td>\n",
       "      <td>/nfs/team205/vk8/irods_data/09_thymus/cellbend...</td>\n",
       "      <td>F45</td>\n",
       "      <td>NaN</td>\n",
       "      <td>-28</td>\n",
       "      <td>fetal</td>\n",
       "      <td>NaN</td>\n",
       "      <td>45P</td>\n",
       "      <td>...</td>\n",
       "      <td>12w</td>\n",
       "      <td>NaN</td>\n",
       "      <td>NaN</td>\n",
       "      <td>NaN</td>\n",
       "      <td>NaN</td>\n",
       "      <td>NaN</td>\n",
       "      <td>NaN</td>\n",
       "      <td>NaN</td>\n",
       "      <td>NaN</td>\n",
       "      <td>NaN</td>\n",
       "    </tr>\n",
       "    <tr>\n",
       "      <th>...</th>\n",
       "      <td>...</td>\n",
       "      <td>...</td>\n",
       "      <td>...</td>\n",
       "      <td>...</td>\n",
       "      <td>...</td>\n",
       "      <td>...</td>\n",
       "      <td>...</td>\n",
       "      <td>...</td>\n",
       "      <td>...</td>\n",
       "      <td>...</td>\n",
       "      <td>...</td>\n",
       "      <td>...</td>\n",
       "      <td>...</td>\n",
       "      <td>...</td>\n",
       "      <td>...</td>\n",
       "      <td>...</td>\n",
       "      <td>...</td>\n",
       "      <td>...</td>\n",
       "      <td>...</td>\n",
       "      <td>...</td>\n",
       "      <td>...</td>\n",
       "    </tr>\n",
       "    <tr>\n",
       "      <th>73</th>\n",
       "      <td>78</td>\n",
       "      <td>GEX12</td>\n",
       "      <td>sample12</td>\n",
       "      <td>/nfs/team205/ny1/CITE_Seq/Large_Data/RNA_part/...</td>\n",
       "      <td>TSC-CT10</td>\n",
       "      <td>NaN</td>\n",
       "      <td>3</td>\n",
       "      <td>infant</td>\n",
       "      <td>m</td>\n",
       "      <td>CD3P</td>\n",
       "      <td>...</td>\n",
       "      <td>3m</td>\n",
       "      <td>NaN</td>\n",
       "      <td>NaN</td>\n",
       "      <td>NaN</td>\n",
       "      <td>NaN</td>\n",
       "      <td>NaN</td>\n",
       "      <td>NaN</td>\n",
       "      <td>NaN</td>\n",
       "      <td>NaN</td>\n",
       "      <td>NaN</td>\n",
       "    </tr>\n",
       "    <tr>\n",
       "      <th>74</th>\n",
       "      <td>79</td>\n",
       "      <td>TA13072429</td>\n",
       "      <td>U48-THY-0-SC-EPCP-2_5GEX</td>\n",
       "      <td>/nfs/team205/vk8/irods_data/09_thymus/starsolo...</td>\n",
       "      <td>U48</td>\n",
       "      <td>U48-THY-0-SC-1</td>\n",
       "      <td>6</td>\n",
       "      <td>infant</td>\n",
       "      <td>m</td>\n",
       "      <td>MACS</td>\n",
       "      <td>...</td>\n",
       "      <td>6m</td>\n",
       "      <td>TA13072432</td>\n",
       "      <td>lustre/scratch126/cellgen/cellgeni/tickets/tic...</td>\n",
       "      <td>NaN</td>\n",
       "      <td>NaN</td>\n",
       "      <td>NaN</td>\n",
       "      <td>NaN</td>\n",
       "      <td>NaN</td>\n",
       "      <td>NaN</td>\n",
       "      <td>NaN</td>\n",
       "    </tr>\n",
       "    <tr>\n",
       "      <th>75</th>\n",
       "      <td>80</td>\n",
       "      <td>TA13072428</td>\n",
       "      <td>U48-THY-0-SC-EPCP-1_5GEX</td>\n",
       "      <td>/nfs/team205/vk8/irods_data/09_thymus/starsolo...</td>\n",
       "      <td>U48</td>\n",
       "      <td>U48-THY-0-SC-1</td>\n",
       "      <td>6</td>\n",
       "      <td>infant</td>\n",
       "      <td>m</td>\n",
       "      <td>MACS</td>\n",
       "      <td>...</td>\n",
       "      <td>6m</td>\n",
       "      <td>TA13072431</td>\n",
       "      <td>lustre/scratch126/cellgen/cellgeni/tickets/tic...</td>\n",
       "      <td>NaN</td>\n",
       "      <td>NaN</td>\n",
       "      <td>NaN</td>\n",
       "      <td>NaN</td>\n",
       "      <td>NaN</td>\n",
       "      <td>NaN</td>\n",
       "      <td>NaN</td>\n",
       "    </tr>\n",
       "    <tr>\n",
       "      <th>76</th>\n",
       "      <td>81</td>\n",
       "      <td>TA13072427</td>\n",
       "      <td>U48-THY-0-SC-1_5GEX</td>\n",
       "      <td>/nfs/team205/vk8/irods_data/09_thymus/starsolo...</td>\n",
       "      <td>U48</td>\n",
       "      <td>U48-THY-0-SC-1</td>\n",
       "      <td>6</td>\n",
       "      <td>infant</td>\n",
       "      <td>m</td>\n",
       "      <td>TOT</td>\n",
       "      <td>...</td>\n",
       "      <td>6m</td>\n",
       "      <td>TA13072430</td>\n",
       "      <td>lustre/scratch126/cellgen/cellgeni/tickets/tic...</td>\n",
       "      <td>NaN</td>\n",
       "      <td>NaN</td>\n",
       "      <td>NaN</td>\n",
       "      <td>NaN</td>\n",
       "      <td>NaN</td>\n",
       "      <td>NaN</td>\n",
       "      <td>NaN</td>\n",
       "    </tr>\n",
       "    <tr>\n",
       "      <th>77</th>\n",
       "      <td>82</td>\n",
       "      <td>TA12571163</td>\n",
       "      <td>U40-THY-0-SC-1</td>\n",
       "      <td>/nfs/team205/vk8/irods_data/09_thymus/starsolo...</td>\n",
       "      <td>U40</td>\n",
       "      <td>U40-THY-0-SC-1</td>\n",
       "      <td>1</td>\n",
       "      <td>infant</td>\n",
       "      <td>F</td>\n",
       "      <td>None</td>\n",
       "      <td>...</td>\n",
       "      <td>7d</td>\n",
       "      <td>TA12571163</td>\n",
       "      <td>lustre/scratch126/cellgen/cellgeni/tickets/tic...</td>\n",
       "      <td>NaN</td>\n",
       "      <td>NaN</td>\n",
       "      <td>NaN</td>\n",
       "      <td>NaN</td>\n",
       "      <td>NaN</td>\n",
       "      <td>NaN</td>\n",
       "      <td>NaN</td>\n",
       "    </tr>\n",
       "  </tbody>\n",
       "</table>\n",
       "<p>78 rows × 32 columns</p>\n",
       "</div>"
      ],
      "text/plain": [
       "    index            library                    sample  \\\n",
       "0       0         F23_TH_45P            FCAImmP7198634   \n",
       "1       1         F23_TH_45N            FCAImmP7198635   \n",
       "2       2  F64_TH_TOT_5GEX_1            FCAImmP7851890   \n",
       "3       3  F64_TH_TOT_5GEX_2            FCAImmP7851891   \n",
       "4       4         F45_TH_45P            FCAImmP7579218   \n",
       "..    ...                ...                       ...   \n",
       "73     78              GEX12                  sample12   \n",
       "74     79         TA13072429  U48-THY-0-SC-EPCP-2_5GEX   \n",
       "75     80         TA13072428  U48-THY-0-SC-EPCP-1_5GEX   \n",
       "76     81         TA13072427       U48-THY-0-SC-1_5GEX   \n",
       "77     82         TA12571163            U40-THY-0-SC-1   \n",
       "\n",
       "                                             path_GEX     donor  \\\n",
       "0   /nfs/team205/vk8/irods_data/09_thymus/cellbend...       F23   \n",
       "1   /nfs/team205/vk8/irods_data/09_thymus/cellbend...       F23   \n",
       "2   /nfs/team205/vk8/irods_data/09_thymus/cellbend...       F64   \n",
       "3   /nfs/team205/vk8/irods_data/09_thymus/cellbend...       F64   \n",
       "4   /nfs/team205/vk8/irods_data/09_thymus/cellbend...       F45   \n",
       "..                                                ...       ...   \n",
       "73  /nfs/team205/ny1/CITE_Seq/Large_Data/RNA_part/...  TSC-CT10   \n",
       "74  /nfs/team205/vk8/irods_data/09_thymus/starsolo...       U48   \n",
       "75  /nfs/team205/vk8/irods_data/09_thymus/starsolo...       U48   \n",
       "76  /nfs/team205/vk8/irods_data/09_thymus/starsolo...       U48   \n",
       "77  /nfs/team205/vk8/irods_data/09_thymus/starsolo...       U40   \n",
       "\n",
       "          SangerID Age1 Age_group2  Sex  sort  ... Age2  SampleID_TCRab  \\\n",
       "0              NaN  -29      fetal    M   45P  ...  11w             NaN   \n",
       "1              NaN  -29      fetal    M   45N  ...  11w             NaN   \n",
       "2              NaN  -29      fetal    M   TOT  ...  11w  FCAImmP7851882   \n",
       "3              NaN  -29      fetal    M   TOT  ...  11w  FCAImmP7851883   \n",
       "4              NaN  -28      fetal  NaN   45P  ...  12w             NaN   \n",
       "..             ...  ...        ...  ...   ...  ...  ...             ...   \n",
       "73             NaN    3     infant    m  CD3P  ...   3m             NaN   \n",
       "74  U48-THY-0-SC-1    6     infant    m  MACS  ...   6m      TA13072432   \n",
       "75  U48-THY-0-SC-1    6     infant    m  MACS  ...   6m      TA13072431   \n",
       "76  U48-THY-0-SC-1    6     infant    m   TOT  ...   6m      TA13072430   \n",
       "77  U40-THY-0-SC-1    1     infant    F  None  ...   7d      TA12571163   \n",
       "\n",
       "                                           path_TCRab mapped_with  \\\n",
       "0                                                 NaN         NaN   \n",
       "1                                                 NaN         NaN   \n",
       "2   warehouse/cellgeni/tic-1144/E-MTAB-8581/VDJ/F6...  CellRanger   \n",
       "3   warehouse/cellgeni/tic-1144/E-MTAB-8581/VDJ/F6...  CellRanger   \n",
       "4                                                 NaN         NaN   \n",
       "..                                                ...         ...   \n",
       "73                                                NaN         NaN   \n",
       "74  lustre/scratch126/cellgen/cellgeni/tickets/tic...         NaN   \n",
       "75  lustre/scratch126/cellgen/cellgeni/tickets/tic...         NaN   \n",
       "76  lustre/scratch126/cellgen/cellgeni/tickets/tic...         NaN   \n",
       "77  lustre/scratch126/cellgen/cellgeni/tickets/tic...         NaN   \n",
       "\n",
       "    SampleID_TCRgd  path_TCRgd SampleID_BCR path_BCR CITE_library  CITE_Path  \n",
       "0              NaN         NaN          NaN      NaN          NaN        NaN  \n",
       "1              NaN         NaN          NaN      NaN          NaN        NaN  \n",
       "2              NaN         NaN          NaN      NaN          NaN        NaN  \n",
       "3              NaN         NaN          NaN      NaN          NaN        NaN  \n",
       "4              NaN         NaN          NaN      NaN          NaN        NaN  \n",
       "..             ...         ...          ...      ...          ...        ...  \n",
       "73             NaN         NaN          NaN      NaN          NaN        NaN  \n",
       "74             NaN         NaN          NaN      NaN          NaN        NaN  \n",
       "75             NaN         NaN          NaN      NaN          NaN        NaN  \n",
       "76             NaN         NaN          NaN      NaN          NaN        NaN  \n",
       "77             NaN         NaN          NaN      NaN          NaN        NaN  \n",
       "\n",
       "[78 rows x 32 columns]"
      ]
     },
     "execution_count": 5,
     "metadata": {},
     "output_type": "execute_result"
    }
   ],
   "source": [
    "# remove multiplexed libraries from original meta\n",
    "meta = meta.iloc[np.where(nuclei==False)[0],:]\n",
    "meta = meta.reset_index()\n",
    "meta"
   ]
  },
  {
   "cell_type": "markdown",
   "metadata": {
    "tags": []
   },
   "source": [
    "## This Part is about nuceli de multiplexing (libraries were demultiplexed by Souporcell)"
   ]
  },
  {
   "cell_type": "code",
   "execution_count": 7,
   "metadata": {
    "tags": []
   },
   "outputs": [],
   "source": [
    "# read multiplexed and run scrublet \n",
    "X = pd.DataFrame(np.empty((0,0)))\n",
    "obs = pd.DataFrame(index=X.index)\n",
    "var = pd.DataFrame(index=X.columns) \n",
    "X = X.values\n",
    "\n",
    "AnnPlex = ad.AnnData(X=X, obs=obs, var=var)\n",
    "for idx,f in enumerate(metaPlex.iloc[:,1]):\n",
    "    results_file = metaPlex['path_GEX'][idx]+'/'+metaPlex['library'][idx]+'_filtered.h5'\n",
    "    print(results_file)\n",
    "    adata = sc.read_10x_h5(results_file)\n",
    "    adata.var_names_make_unique()\n",
    "    sc.pp.filter_cells(adata, min_genes=400)\n",
    "    print(metaPlex['library'][idx])\n",
    "    print(adata.shape)\n",
    "    # add metadata \n",
    "    adata.obs['barcode'] = adata.obs.index\n",
    "    adata.obs['sample_barcode'] = metaPlex['sample'][idx] + '-' + adata.obs.index\n",
    "    adata.obs.index = metaPlex['library'][idx] + '-' + adata.obs.index\n",
    "    adata.obs['batch'] = idx+meta.shape[0] # fix batch \n",
    "    adata.obs['chemistry'] = metaPlex['method'][idx]\n",
    "    adata.obs['age_group'] = metaPlex['Age_group2'][idx]\n",
    "    adata.obs['age_numeric'] = metaPlex['Age1'][idx]\n",
    "    adata.obs['sampleID_TCRab'] = metaPlex['SampleID_TCRab'][idx]\n",
    "    adata.obs['path_TCRab'] = metaPlex['path_TCRab'][idx]\n",
    "    adata.obs['type'] = metaPlex['type'][idx]\n",
    "    adata.obs['study'] = metaPlex['Study'][idx]\n",
    "    adata.obs['sample'] = metaPlex['sample'][idx]\n",
    "    adata.obs['enrichment'] = metaPlex['sort'][idx]\n",
    "    adata.obs['donor'] = metaPlex['donor'][idx]\n",
    "        \n",
    "\n",
    "\n",
    "    # doublet detection     \n",
    "    sc.external.pp.scrublet(adata)\n",
    "    # adata = adata[adata.obs.doublet_score < 0.3, :]\n",
    "    AnnPlex = ad.concat([AnnPlex,adata],join='outer')\n",
    "    \n",
    "    print(AnnPlex)\n",
    "AnnPlex.obs.index.names = ['barcode']"
   ]
  },
  {
   "cell_type": "code",
   "execution_count": 8,
   "metadata": {
    "tags": []
   },
   "outputs": [],
   "source": [
    "# qc \n",
    "AnnPlex.var['mt'] = AnnPlex.var_names.str.startswith('MT-')  # annotate the group of mitochondrial genes as 'mt'\n",
    "sc.pp.calculate_qc_metrics(AnnPlex, qc_vars=['mt'], percent_top=None, log1p=True, inplace=True)\n",
    "AnnPlex.obs\n",
    "sc.pl.violin(AnnPlex, ['n_genes_by_counts', 'total_counts', 'pct_counts_mt'],\n",
    "             jitter=0.1, multi_panel=True)"
   ]
  },
  {
   "cell_type": "code",
   "execution_count": 9,
   "metadata": {
    "tags": []
   },
   "outputs": [],
   "source": [
    "AnnPlex.var_names_make_unique()\n",
    "supercell = pd.read_csv(\"/lustre/scratch117/cellgen/team205/sharedData/ny1/22-05-24-5sample-souporcell-nuclei-cellbender/combined/clusters.tsv\", delimiter = '\\t')\n",
    "supercell.set_index(['barcode'],drop=True,inplace=True)\n",
    "supercell.head()"
   ]
  },
  {
   "cell_type": "code",
   "execution_count": 10,
   "metadata": {
    "tags": []
   },
   "outputs": [],
   "source": [
    "AnnPlex.obs = AnnPlex.obs.merge(supercell, left_index=True, right_index=True)\n",
    "AnnPlex.obs.head()"
   ]
  },
  {
   "cell_type": "code",
   "execution_count": 11,
   "metadata": {
    "tags": []
   },
   "outputs": [
    {
     "data": {
      "text/plain": [
       "barcode\n",
       "TA12303448-GACGCTGCACACGGTC    0\n",
       "TA12303448-AGGTCTAAGGCACTCC    0\n",
       "TA12303448-GTGCACGGTCGAGCAA    0\n",
       "TA12303448-GCACATATCCTGGGAC    0\n",
       "TA12303448-GTTGAACAGTTCATGC    0\n",
       "                              ..\n",
       "TA12303451-TCTCCGAAGATGAAGG    1\n",
       "TA12303451-TTCAGGATCTAGTGTG    1\n",
       "TA12303451-CGAAGGAGTCCTCATC    0\n",
       "TA12303451-TACCCGTGTGGCTGAA    1\n",
       "TA12303451-GTGCACGGTTAGAGAT    1\n",
       "Name: assignment, Length: 50551, dtype: object"
      ]
     },
     "execution_count": 11,
     "metadata": {},
     "output_type": "execute_result"
    }
   ],
   "source": [
    "# cells that are assigned to both donors are probably doublets so remove\n",
    "AnnPlex = AnnPlex[AnnPlex.obs.assignment != '2/0', :]\n",
    "AnnPlex = AnnPlex[AnnPlex.obs.assignment != '2/1', :]\n",
    "AnnPlex = AnnPlex[AnnPlex.obs.assignment != '0/1', :]\n",
    "AnnPlex = AnnPlex[AnnPlex.obs.assignment != '0/2', :]\n",
    "AnnPlex = AnnPlex[AnnPlex.obs.assignment != '1/2', :]\n",
    "AnnPlex = AnnPlex[AnnPlex.obs.assignment != '1/0', :]\n",
    "\n",
    "AnnPlex.obs.assignment"
   ]
  },
  {
   "cell_type": "code",
   "execution_count": 13,
   "metadata": {
    "tags": []
   },
   "outputs": [
    {
     "data": {
      "text/plain": [
       "barcode\n",
       "TA12303448-GACGCTGCACACGGTC    5\n",
       "TA12303448-AGGTCTAAGGCACTCC    5\n",
       "TA12303448-GTGCACGGTCGAGCAA    5\n",
       "TA12303448-GCACATATCCTGGGAC    5\n",
       "TA12303448-GTTGAACAGTTCATGC    5\n",
       "                              ..\n",
       "TA12303451-TCTCCGAAGATGAAGG    6\n",
       "TA12303451-TTCAGGATCTAGTGTG    6\n",
       "TA12303451-CGAAGGAGTCCTCATC    5\n",
       "TA12303451-TACCCGTGTGGCTGAA    6\n",
       "TA12303451-GTGCACGGTTAGAGAT    6\n",
       "Name: age_numeric, Length: 50551, dtype: category\n",
       "Categories (3, object): ['5', '6', '30']"
      ]
     },
     "execution_count": 13,
     "metadata": {},
     "output_type": "execute_result"
    }
   ],
   "source": [
    "# deplex libraries \n",
    "AnnDepPlex = AnnPlex.copy()\n",
    "normlib = ['TA12303447','TA12303448','TA12303449']\n",
    "donors = ['U09_n', 'U11', 'Z6']\n",
    "\n",
    "assign0 = AnnPlex[AnnPlex.obs['donor'] == donors[0]].obs.assignment.value_counts().idxmax()\n",
    "assign1 = AnnPlex[AnnPlex.obs['donor'] == donors[1]].obs.assignment.value_counts().idxmax()\n",
    "assign2 = AnnPlex[AnnPlex.obs['donor'] == donors[2]].obs.assignment.value_counts().idxmax()\n",
    "assign = [assign0, assign1, assign2]\n",
    "\n",
    "Age0 = AnnPlex[AnnPlex.obs['donor'] == donors[0]].obs.age_numeric.value_counts().idxmax()\n",
    "Age1 = AnnPlex[AnnPlex.obs['donor'] == donors[1]].obs.age_numeric.value_counts().idxmax()\n",
    "Age2 = AnnPlex[AnnPlex.obs['donor'] == donors[2]].obs.age_numeric.value_counts().idxmax()\n",
    "\n",
    "AnnDepPlex.obs['donor'] = AnnDepPlex.obs['assignment'].astype(\"category\")\n",
    "AnnDepPlex.obs['donor'] = AnnDepPlex.obs['donor'].map({assign[0]:donors[0],assign[1]:donors[1],assign[2]:donors[2],})\n",
    "AnnDepPlex.obs['age_numeric'] = AnnDepPlex.obs['assignment'].astype(\"category\")\n",
    "AnnDepPlex.obs['age_numeric'] = AnnDepPlex.obs['age_numeric'].map({assign[0]:Age0,assign[1]:Age1,assign[2]:Age2,})\n",
    "AnnDepPlex.obs['age_numeric']"
   ]
  },
  {
   "cell_type": "code",
   "execution_count": 14,
   "metadata": {
    "tags": []
   },
   "outputs": [],
   "source": [
    "del AnnPlex"
   ]
  },
  {
   "cell_type": "code",
   "execution_count": 15,
   "metadata": {
    "tags": []
   },
   "outputs": [],
   "source": [
    "# qc\n",
    "# mitochondrial genes\n",
    "AnnDepPlex.var['mt'] = AnnDepPlex.var_names.str.startswith('MT-') \n",
    "# ribosomal genes\n",
    "AnnDepPlex.var['ribo'] = AnnDepPlex.var_names.str.startswith((\"RPS\",\"RPL\"))\n",
    "# hemoglobin genes.\n",
    "AnnDepPlex.var['hb'] = AnnDepPlex.var_names.str.contains((\"^HB[^(P)]\"))\n",
    "\n",
    "sc.pp.calculate_qc_metrics(AnnDepPlex, qc_vars=['mt','ribo','hb'], percent_top=None, log1p=False, inplace=True)\n",
    "AnnDepPlex.obs"
   ]
  },
  {
   "cell_type": "code",
   "execution_count": 16,
   "metadata": {
    "tags": []
   },
   "outputs": [],
   "source": [
    "mito_genes = AnnDepPlex.var_names.str.startswith('MT-')\n",
    "# for each cell compute fraction of counts in mito genes vs. all genes\n",
    "# the `.A1` is only necessary as X is sparse (to transform to a dense array after summing)\n",
    "AnnDepPlex.obs['percent_mt2'] = np.sum(\n",
    "    AnnDepPlex[:, mito_genes].X, axis=1).A1 / np.sum(AnnDepPlex.X, axis=1).A1\n",
    "# add the total counts per cell as observations-annotation to adata\n",
    "AnnDepPlex.obs['n_counts'] = AnnDepPlex.X.sum(axis=1).A1"
   ]
  },
  {
   "cell_type": "code",
   "execution_count": 21,
   "metadata": {
    "tags": []
   },
   "outputs": [],
   "source": [
    "sc.pl.violin(AnnDepPlex, ['n_genes_by_counts', 'total_counts', 'pct_counts_mt','pct_counts_ribo', 'pct_counts_hb'],\n",
    "             jitter=0.01, multi_panel=True)"
   ]
  },
  {
   "cell_type": "markdown",
   "metadata": {
    "tags": []
   },
   "source": [
    "# Read all other single cell data and merge with demultiplexd nuclei "
   ]
  },
  {
   "cell_type": "code",
   "execution_count": 23,
   "metadata": {
    "tags": []
   },
   "outputs": [],
   "source": [
    "# read the rest of the libraries and run scrublet \n",
    "import warnings \n",
    "warnings.simplefilter(\"ignore\")"
   ]
  },
  {
   "cell_type": "code",
   "execution_count": 26,
   "metadata": {
    "tags": []
   },
   "outputs": [],
   "source": [
    "X = pd.DataFrame(np.empty((0,0)))\n",
    "obs = pd.DataFrame(index=X.index)\n",
    "var = pd.DataFrame(index=X.columns) \n",
    "X = X.values\n",
    "\n",
    "AnnData = ad.AnnData(X=X, obs=obs, var=var)\n",
    "data = {}\n",
    "for idx,f in enumerate(meta.iloc[:,1]):\n",
    "        results_file = meta['path_GEX'][idx]+'/'+meta['library'][idx]+'_filtered.h5'\n",
    "        print(results_file)\n",
    "        adata = sc.read_10x_h5(results_file)\n",
    "        adata.var_names_make_unique()\n",
    "        sc.pp.filter_cells(adata, min_genes=400)\n",
    "        # print(meta['library'][idx])\n",
    "        # add metadata \n",
    "        adata.obs['barcode'] = adata.obs.index\n",
    "        adata.obs['sample_barcode'] = meta['sample'][idx] + '-' + adata.obs.index\n",
    "        adata.obs.index = meta['library'][idx] + '-' + adata.obs.index\n",
    "        adata.obs['batch'] = idx+meta.shape[0] # fix batch \n",
    "        adata.obs['chemistry'] = meta['method'][idx]\n",
    "        adata.obs['age_group'] = meta['Age_group2'][idx]\n",
    "        adata.obs['age_numeric'] = meta['Age1'][idx]\n",
    "        adata.obs['sampleID_TCRab'] = meta['SampleID_TCRab'][idx]\n",
    "        adata.obs['path_TCRab'] = meta['path_TCRab'][idx]\n",
    "        adata.obs['type'] = meta['type'][idx]\n",
    "        adata.obs['study'] = meta['Study'][idx]\n",
    "        adata.obs['sample'] = meta['sample'][idx]\n",
    "        adata.obs['enrichment'] = meta['sort'][idx]\n",
    "        adata.obs['donor'] = meta['donor'][idx]\n",
    "\n",
    "        # doublet detection     \n",
    "        sc.external.pp.scrublet(adata)\n",
    "        # adata = adata[adata.obs.predicted_doublet == False, :]\n",
    "        AnnData = ad.concat([AnnData,adata],join='outer')\n",
    "\n",
    "        print(AnnData.shape)\n",
    "AnnData.obs.index.names = ['barcode']"
   ]
  },
  {
   "cell_type": "markdown",
   "metadata": {
    "tags": []
   },
   "source": [
    "# QC MT and counts"
   ]
  },
  {
   "cell_type": "code",
   "execution_count": 27,
   "metadata": {
    "tags": []
   },
   "outputs": [],
   "source": [
    "# qc\n",
    "# mitochondrial genes\n",
    "AnnData.var['mt'] = AnnData.var_names.str.startswith('MT-') \n",
    "# ribosomal genes\n",
    "AnnData.var['ribo'] = AnnData.var_names.str.startswith((\"RPS\",\"RPL\"))\n",
    "# hemoglobin genes.\n",
    "AnnData.var['hb'] = AnnData.var_names.str.contains((\"^HB[^(P)]\"))\n",
    "\n",
    "sc.pp.calculate_qc_metrics(AnnData, qc_vars=['mt','ribo','hb'], percent_top=None, log1p=False, inplace=True)\n",
    "AnnData.obs"
   ]
  },
  {
   "cell_type": "code",
   "execution_count": 28,
   "metadata": {
    "tags": []
   },
   "outputs": [],
   "source": [
    "mito_genes = AnnData.var_names.str.startswith('MT-')\n",
    "# for each cell compute fraction of counts in mito genes vs. all genes\n",
    "# the `.A1` is only necessary as X is sparse (to transform to a dense array after summing)\n",
    "AnnData.obs['percent_mt2'] = np.sum(AnnData[:, mito_genes].X, axis=1).A1 / np.sum(AnnData.X, axis=1).A1\n",
    "# add the total counts per cell as observations-annotation to adata\n",
    "AnnData.obs['n_counts'] = AnnData.X.sum(axis=1).A1"
   ]
  },
  {
   "cell_type": "code",
   "execution_count": 29,
   "metadata": {
    "tags": []
   },
   "outputs": [],
   "source": [
    "sc.pl.violin(AnnData, ['n_genes_by_counts', 'total_counts', 'pct_counts_mt','pct_counts_ribo', 'pct_counts_hb','doublet_score'],\n",
    "             jitter=0.1, multi_panel=True)"
   ]
  },
  {
   "cell_type": "code",
   "execution_count": 30,
   "metadata": {
    "tags": []
   },
   "outputs": [],
   "source": [
    "AnnData.obs['barcode_sequence'] = AnnData.obs['barcode']"
   ]
  },
  {
   "cell_type": "code",
   "execution_count": 31,
   "metadata": {
    "tags": []
   },
   "outputs": [],
   "source": [
    "AnnData.obs = AnnData.obs.drop(columns='barcode')"
   ]
  },
  {
   "cell_type": "markdown",
   "metadata": {
    "tags": []
   },
   "source": [
    "# reading combined raw data "
   ]
  },
  {
   "cell_type": "code",
   "execution_count": 33,
   "metadata": {
    "tags": []
   },
   "outputs": [],
   "source": [
    "AnnData = ad.concat([AnnData,AnnDepPlex],join='outer')"
   ]
  },
  {
   "cell_type": "code",
   "execution_count": 36,
   "metadata": {
    "tags": []
   },
   "outputs": [
    {
     "data": {
      "text/plain": [
       "AnnData object with n_obs × n_vars = 811093 × 36601\n",
       "    obs: 'n_genes', 'sample_barcode', 'batch', 'chemistry', 'age_group', 'age_numeric', 'sampleID_TCRab', 'path_TCRab', 'type', 'study', 'sample', 'enrichment', 'donor', 'doublet_score', 'predicted_doublet', 'n_genes_by_counts', 'total_counts', 'total_counts_mt', 'pct_counts_mt', 'total_counts_ribo', 'pct_counts_ribo', 'total_counts_hb', 'pct_counts_hb', 'percent_mt2', 'n_counts', 'barcode_sequence', 'log1p_n_genes_by_counts', 'log1p_total_counts', 'log1p_total_counts_mt', 'status', 'assignment', 'log_prob_singleton', 'log_prob_doublet', 'cluster0', 'cluster1', 'cluster2'"
      ]
     },
     "execution_count": 36,
     "metadata": {},
     "output_type": "execute_result"
    }
   ],
   "source": [
    "AnnData"
   ]
  },
  {
   "cell_type": "code",
   "execution_count": 16,
   "metadata": {
    "tags": []
   },
   "outputs": [
    {
     "data": {
      "text/plain": [
       "cells     605762\n",
       "nuclei     49950\n",
       "Name: type, dtype: int64"
      ]
     },
     "execution_count": 16,
     "metadata": {},
     "output_type": "execute_result"
    }
   ],
   "source": [
    "# remove poor quality cells\n",
    "AnnData = AnnData[AnnData.obs.n_genes_by_counts < 6500, :]\n",
    "AnnData = AnnData[AnnData.obs.pct_counts_mt < 6, :]\n",
    "AnnData = AnnData[(AnnData.obs['type'] == 'nuclei') | (AnnData.obs.pct_counts_ribo > 5), :]\n",
    "AnnData.obs['type'].value_counts()"
   ]
  },
  {
   "cell_type": "code",
   "execution_count": 5,
   "metadata": {},
   "outputs": [],
   "source": [
    "AnnData.layers[\"counts\"] = AnnData.X.copy() # preserve counts"
   ]
  },
  {
   "cell_type": "code",
   "execution_count": 25,
   "metadata": {},
   "outputs": [
    {
     "name": "stdout",
     "output_type": "stream",
     "text": [
      "normalizing counts per cell\n",
      "    finished (0:00:04)\n"
     ]
    }
   ],
   "source": [
    "sc.pp.normalize_total(AnnData, target_sum=1e4)\n",
    "sc.pp.log1p(AnnData)"
   ]
  },
  {
   "cell_type": "markdown",
   "metadata": {},
   "source": [
    "# SCVI integration "
   ]
  },
  {
   "cell_type": "code",
   "execution_count": 6,
   "metadata": {},
   "outputs": [
    {
     "data": {
      "text/plain": [
       "AnnData object with n_obs × n_vars = 655712 × 36601\n",
       "    obs: 'n_genes', 'sample_barcode', 'batch', 'chemistry', 'age_group', 'age_numeric', 'sampleID_TCRab', 'path_TCRab', 'type', 'study', 'sample', 'enrichment', 'donor', 'doublet_score', 'predicted_doublet', 'n_genes_by_counts', 'total_counts', 'total_counts_mt', 'pct_counts_mt', 'total_counts_ribo', 'pct_counts_ribo', 'total_counts_hb', 'pct_counts_hb', 'percent_mt2', 'n_counts', 'barcode_sequence', 'log1p_n_genes_by_counts', 'log1p_total_counts', 'log1p_total_counts_mt', 'status', 'assignment', 'log_prob_singleton', 'log_prob_doublet', 'cluster0', 'cluster1', 'cluster2'\n",
       "    layers: 'counts'"
      ]
     },
     "execution_count": 6,
     "metadata": {},
     "output_type": "execute_result"
    }
   ],
   "source": [
    "AnnData_r = ad.AnnData(AnnData.layers[\"counts\"])  # generate a temp AnnData \n",
    "AnnData_r.layers[\"counts\"] = AnnData_r.X.copy() # preserve counts\n",
    "AnnData_r.obs = AnnData.obs # recover counts\n",
    "AnnData_r.var = AnnData.var # recover var names \n",
    "AnnData_r"
   ]
  },
  {
   "cell_type": "markdown",
   "metadata": {},
   "source": [
    "## step 1 - remove cc and mt genes "
   ]
  },
  {
   "cell_type": "code",
   "execution_count": 7,
   "metadata": {},
   "outputs": [],
   "source": [
    "genes = {'cc_genes' : ['C1orf112', 'KDM1A', 'ARHGAP33', 'CDC27', 'AC004381.6', 'DBF4', 'PRSS21', 'E2F2', 'BAZ1B', 'NCAPD2', 'ANLN', 'BRCA1', 'UBR7', 'DDX11', 'TACC3', 'POLA2', 'DEPDC1', 'NCAPH2', 'HMGB3', 'CENPQ', 'DEPDC1B', 'SPDL1', 'TDP1', 'DSG2', 'NOP16', 'RFC2', 'RAD51', 'POLQ', 'THOC3', 'MRTO4', 'C4orf27', 'POLD1', 'TM7SF3', 'MCM10', 'MTHFD2', 'YBX1', 'ASPM', 'PRR11', 'NUCKS1', 'EXOC5', 'TCOF1', 'RAD18', 'TRIP13', 'DAZAP1', 'HLTF', 'PDCD2', 'SMC1A', 'HMMR', 'MCM2', 'NUP37', 'GTSE1', 'WDR62', 'MCM6', 'MLH1', 'UNG', 'SPAG5', 'UBE2T', 'EXOSC5', 'FAM76B', 'POLD3', 'KIF22', 'PUM3', 'RBL1', 'NDC80', 'HSPB11', 'OXCT1', 'SEH1L', 'ORC1', 'RAD54L', 'NOP14', 'GMCL1', 'AURKA', 'TPX2', 'BIRC5', 'KIF4A', 'FH', 'ORC6', 'G2E3', 'WDR76', 'PHGDH', 'CLSPN', 'NUP50', 'CDC45', 'CDC6', 'CBX5', 'MSH2', 'FKBP5', 'ACOT7', 'CDC7', 'RANBP1', 'CENPM', 'HMGXB4', 'MCM5', 'RANGAP1', 'POLE2', 'CDKN3', 'ERH', 'MTHFD1', 'VRK1', 'EMC9', 'GINS1', 'MYBL2', 'CDC25B', 'PLCB4', 'FAM83D', 'CEP76', 'RBBP8', 'POLA1', 'NUP93', 'CTCF', 'CCP110', 'CEP152', 'OIP5', 'MYEF2', 'MCM4', 'KCTD9', 'RNASEH2A', 'SGTA', 'ASF1B', 'LIG1', 'H2AFV', 'GARS', 'NUDT1', 'RPA3', 'EZH2', 'RHEB', 'SMC3', 'UBE2S', 'RAD51C', 'GALK1', 'C1QBP', 'BLMH', 'TMEM97', 'GAR1', 'NEIL3', 'WHSC1', 'NCAPG', 'CCDC34', 'CCDC86', 'MAGOHB', 'FOXM1', 'GPN3', 'RAD51AP1', 'RFC5', 'NUP107', 'TIMELESS', 'GAPDH', 'CDCA3', 'ENO2', 'FBXO5', 'MCM3', 'BAG2', 'GMNN', 'TTK', 'HMGCS1', 'BRD8', 'KIF20A', 'LMNB1', 'NUP155', 'H2AFY', 'SMC4', 'ECT2', 'CENPA', 'FHL2', 'MSH6', 'DHCR24', 'LRRC42', 'WDR77', 'SRM', 'MAD2L2', 'UCHL5', 'TTF2', 'SLC2A1', 'EBNA1BP2', 'CDC20', 'STMN1', 'NEK2', 'CENPF', 'KIF14', 'CASP8AP2', 'CTNNAL1', 'WDR34', 'PHF19', 'ACYP1', 'EPCAM', 'HELLS', 'CENPL', 'ACAT2', 'MASTL', 'EXOSC8', 'TMPO', 'NFYB', 'NCAPH', 'MND1', 'KIF18A', 'GPSM2', 'GTF3A', 'MRPS2', 'CCDC18', 'CISD1', 'ZWINT', 'CIT', 'DDX39A', 'CENPK', 'CDK2', 'TUBA1B', 'STIL', 'HJURP', 'EXOSC9', 'CKS2', 'ACSL3', 'CSE1L', 'HIST1H1D', 'HIST1H1A', 'DEK', 'GOT2', 'MGME1', 'MCM8', 'HNRNPR', 'BCL2L12', 'TRAP1', 'DLGAP5', 'YEATS4', 'PKMYT1', 'SRD5A3', 'PAICS', 'HAT1', 'KNSTRN', 'DUT', 'E2F8', 'FAM64A', 'MIS18BP1', 'SGOL1', 'RPS4Y1', 'LDLR', 'TOMM40', 'ATP8B3', 'LSM4', 'DNMT1', 'GINS2', 'TUBG1', 'PSMC3IP', 'THOC6', 'TOP2A', 'ENOSF1', 'RAN', 'RPA1', 'PCNA', 'NASP', 'RFC3', 'SLF1', 'LRRCC1', 'CCNB1', 'PSRC1', 'TMEM106C', 'LDHA', 'DDB2', 'CDCA8', 'TPGS2', 'SLC43A3', 'C9orf40', 'TROAP', 'ESPL1', 'NTPCR', 'CKAP2', 'BORA', 'NUDT15', 'BRIP1', 'ACTL6A', 'TXN', 'ODF2', 'SMC2', 'CDK5RAP2', 'ANP32B', 'DSCC1', 'ARHGEF39', 'PPIL1', 'TCF19', 'NRM', 'GGH', 'BUD13', 'CTDSPL2', 'NUSAP1', 'KIF23', 'CASC5', 'CENPO', 'KIF11', 'CEP55', 'KIF20B', 'DNA2', 'BARD1', 'MNS1', 'ZGRF1', 'CENPE', 'HADH', 'SLC39A8', 'NEDD1', 'BRCA2', 'DIAPH3', 'PIF1', 'FANCI', 'TICRR', 'SAMD1', 'SAE1', 'PLK4', 'ITGB3BP', 'KIF2C', 'UCK2', 'NUF2', 'ANP32E', 'DTL', 'ILF2', 'C1orf35', 'HNRNPLL', 'CHAC2', 'POLR2D', 'CDCA7', 'FANCD2', 'CCNA2', 'SKP2', 'PRIM2', 'MMS22L', 'PM20D2', 'MTFR2', 'CDCA5', 'NCAPG2', 'PRPS1', 'GINS4', 'HAUS6', 'CEP78', 'GTF3C5', 'MKI67', 'IMMP1L', 'SSRP1', 'INCENP', 'CCDC15', 'CHEK1', 'DSN1', 'HIRIP3', 'HMGA2', 'TEX30', 'NCAPD3', 'CENPU', 'CENPJ', 'SPC25', 'SUV39H2', 'CENPH', 'CARHSP1', 'CLGN', 'CCSAP', 'BUB3', 'SLFN13', 'SKA1', 'SLC16A1', 'TMEM237', 'ADK', 'FAM122B', 'AIFM1', 'ATAD2', 'SASS6', 'BUB1B', 'CCNB2', 'PSMG3', 'FAIM', 'CDC25C', 'MIS18A', 'ATP5G1', 'IGF2BP1', 'CHAF1B', 'NAE1', 'CCDC58', 'C21orf58', 'ZNF714', 'GPATCH4', 'YDJC', 'RACGAP1', 'SPC24', 'POLR3K', 'CCNF', 'ASRGL1', 'USP1', 'KIAA1524', 'SGOL2', 'TOPBP1', 'KIF15', 'WDR43', 'RFC4', 'RPL39L', 'RNF168', 'H2AFZ', 'CDC25A', 'POC1A', 'HMGB2', 'MAD2L1', 'PTTG1', 'RAD21', 'PSIP1', 'GKAP1', 'MELK', 'SLC7A3', 'SKA3', 'LRR1', 'HPRT1', 'E2F7', 'JAM3', 'BRD7', 'CENPN', 'LEO1', 'WEE1', 'MCM7', 'CENPV', 'SAAL1', 'FAM111A', 'KIAA0101', 'PLK1', 'XRCC6BP1', 'SNRPD1', 'RRM1', 'CDT1', 'CHAF1A', 'C19orf48', 'NUDT8', 'PRDX2', 'TK1', 'SAC3D1', 'PBK', 'HIST1H1E', 'DTYMK', 'RFWD3', 'FEN1', 'ING2', 'CDKN2AIP', 'SNRNP48', 'USP39', 'CKAP2L', 'BUB1', 'ELP5', 'CDK1', 'CDCA4', 'SHCBP1', 'PGAM1', 'ESCO2', 'RHNO1', 'CTPS1', 'RRM2', 'THOP1', 'C5orf34', 'POP7', 'ZNF738', 'CKS1B', 'GMPPB', 'CNP', 'CBX2', 'C16orf91', 'EXO1', 'ZWILCH', 'ANKRD36C', 'UBE2C', 'CKAP5', 'CCNE2', 'CCDC14', 'RMI2', 'TOMM5', 'RUVBL1', 'ATAD5', 'LMNB2', 'TYMS', 'PXMP2', 'SHMT1', 'POLE', 'PAWR', 'PIDD1', 'GSG2', 'GEN1', 'RMI1', 'AURKB', 'RCC1', 'PPA1', 'HIST3H2A', 'MRPS23', 'RTKN2', 'IDH2', 'KPNA2', 'CEP97', 'GLRX5', 'SKA2', 'CEP57L1', 'PSMG1', 'SFXN4', 'ALYREF', 'TRAIP', 'LIN9', 'KMT5A', 'PGP', 'CMSS1', 'HIST2H2AC', 'HIST1H1B', 'KNTC1', 'CDCA2', 'H1FX', 'SIVA1', 'PARPBP', 'KIF18B', 'ERCC6L', 'PTMA', 'HSPA14', 'FANCA', 'ARHGAP11B', 'TUBB4B', 'CENPP', 'H2AFX', 'FAM72B', 'FAM221A', 'FAM111B', 'HN1', 'HMGB1', 'TUBB', 'IARS', 'ERI2', 'HIST1H4C', 'BLM', 'PRIM1', 'HMGN5', 'SVIP', 'TFDP1', 'TXNRD1', 'WDHD1', 'EIF1AY', 'ARHGAP11A', 'HMGN2', 'DCAF12', 'PRC1', 'CCDC167', 'CENPW', 'GPANK1', 'MZT1', 'C4orf46', 'KLHL23', 'MXD3', 'DNAJC9', 'IFRD2', 'CKLF', 'FANCG', 'DHFR', 'DLEU2', 'AP000251.3', 'KIFC1', 'CRNDE', 'C8orf88', 'PRKDC', 'BOP1', 'RP11-196G18.23', 'CTC-260E6.6', 'NCBP2-AS2', 'HIST1H3G', 'HIST1H2AH', 'UHRF1', 'RDM1', 'HIST1H2AM'],\n",
    "'T_exhaust' : 'GATA3,IKZF2,SUDS3,PDCD1,LAG3,HAVCR2,TNFRSF9,TOX,CD81,CREB3L2,SLAMF6,TNFSF14,CD28,CD160,BTLA,CD200,CD27'.split(','),\n",
    "'T_naive' : 'SELL,PECAM1,CCR7,CD27,CD28'.split(','), #45RA \n",
    "'T_centralM' : 'CCR7,CD27,CD28'.split(','), #45RO\n",
    "'T_effectorM' : 'CD27,CD28,PDCD1'.split(','), #45RO\n",
    "'T_EMRA' : 'PDCD1,B3GAT1,KLRG1'.split(','), #45RA\n",
    "'T_residentM' : 'CXCR6,CXCR3,CCR5,CCR9,CCR4,CCR8,CCR10'.split(','), #factors specific for guidance to each organ\n",
    "'MastOrILC2' : 'GATA2,IL4'.split(','),\n",
    "'eosinophil' : 'CCR3,SIGLEC8,ITGAM'.split(','),\n",
    "'mait' : 'SLC4A10,TRAV1-2'.split(','),\n",
    "'liverHepaticStellateCell' : 'LRAT'.split(','),\n",
    "'kidneyReninCells' : 'REN,NPY1R'.split(','),\n",
    "'humanB1' : 'SPN,MS4A1,CD27,IGHM,CD5'.split(','),\n",
    "'humanB1VDJ' : 'IGHV3-74,IGHV1-18,IGHV1-2,IGHJ6'.split(','),\n",
    "'mouseB1metabolism' : ['HK2','ACLY', 'ACAT1','ACACA','ACSL1','ACACB','CPT1B','PLIN3','SLC2A1','LDHA','SREBF2','HK1','PDLIM1'],\n",
    "'autoimmune' : 'TNFSF13B,IL10,IFIH1'.split(','),\n",
    "'microglia' : 'TREM2,TMEM119,GPR34'.split(','),\n",
    "'NK_CD56dim_mature' : 'FCGR3A,PRF1'.split(','),\n",
    "'NK_CD56bright_naive' : 'NCAM1,SELL,XCL1'.split(','),\n",
    "'B_naive' : 'CD37,IGHD'.split(','),\n",
    "'B_activated' : 'CD27,IGHM'.split(','),\n",
    "'Granulocyte' : 'S100A8,S100A9'.split(','),\n",
    "'macrophage_M1': 'IL1B,TNF,IL6,NOS2,CD86,CD40,FCGR3A'.split(','),\n",
    "'macrophage_M2': 'MRC1,ARG1,TREM2,CD163,IL10,IL4'.split(',')}\n"
   ]
  },
  {
   "cell_type": "code",
   "execution_count": 8,
   "metadata": {
    "tags": []
   },
   "outputs": [],
   "source": [
    "cc_genes = genes['cc_genes'] # get cc genes from the list above \n",
    "# cc_genes"
   ]
  },
  {
   "cell_type": "code",
   "execution_count": 9,
   "metadata": {
    "tags": []
   },
   "outputs": [],
   "source": [
    "def remove_selected_genes(adata,lst,remove_also_mt=True):\n",
    "    for g in lst:\n",
    "        adata = adata[:,~(adata.var_names==g)]\n",
    "    if remove_also_mt:\n",
    "        adata = adata[:,~(adata.var_names.str.startswith('MT-'))]\n",
    "    return adata\n",
    "\n",
    "AnnData_r = remove_selected_genes(AnnData_r,cc_genes,remove_also_mt=True)  "
   ]
  },
  {
   "cell_type": "code",
   "execution_count": 10,
   "metadata": {
    "tags": []
   },
   "outputs": [
    {
     "name": "stdout",
     "output_type": "stream",
     "text": [
      "(array([], dtype=int64),)\n"
     ]
    }
   ],
   "source": [
    "# sanity check that there are not mt genes \n",
    "mtGenes = np.where(AnnData_r.var_names.str.startswith('MT-'))\n",
    "print(mtGenes)"
   ]
  },
  {
   "cell_type": "code",
   "execution_count": 11,
   "metadata": {
    "tags": []
   },
   "outputs": [
    {
     "data": {
      "text/plain": [
       "View of AnnData object with n_obs × n_vars = 655712 × 36046\n",
       "    obs: 'n_genes', 'sample_barcode', 'batch', 'chemistry', 'age_group', 'age_numeric', 'sampleID_TCRab', 'path_TCRab', 'type', 'study', 'sample', 'enrichment', 'donor', 'doublet_score', 'predicted_doublet', 'n_genes_by_counts', 'total_counts', 'total_counts_mt', 'pct_counts_mt', 'total_counts_ribo', 'pct_counts_ribo', 'total_counts_hb', 'pct_counts_hb', 'percent_mt2', 'n_counts', 'barcode_sequence', 'log1p_n_genes_by_counts', 'log1p_total_counts', 'log1p_total_counts_mt', 'status', 'assignment', 'log_prob_singleton', 'log_prob_doublet', 'cluster0', 'cluster1', 'cluster2'\n",
       "    layers: 'counts'"
      ]
     },
     "execution_count": 11,
     "metadata": {},
     "output_type": "execute_result"
    }
   ],
   "source": [
    "AnnData_r"
   ]
  },
  {
   "cell_type": "code",
   "execution_count": 12,
   "metadata": {},
   "outputs": [],
   "source": [
    "del AnnData"
   ]
  },
  {
   "cell_type": "code",
   "execution_count": 13,
   "metadata": {},
   "outputs": [
    {
     "name": "stdout",
     "output_type": "stream",
     "text": [
      "normalizing counts per cell\n",
      "    finished (0:00:03)\n"
     ]
    }
   ],
   "source": [
    "AnnData_r.obs = AnnData_r.obs.astype({'batch': 'category'}) # fix categorial batch \n",
    "sc.pp.normalize_total(AnnData_r)\n",
    "sc.pp.log1p(AnnData_r)"
   ]
  },
  {
   "cell_type": "code",
   "execution_count": 14,
   "metadata": {},
   "outputs": [
    {
     "name": "stdout",
     "output_type": "stream",
     "text": [
      "If you pass `n_top_genes`, all cutoffs are ignored.\n",
      "extracting highly variable genes\n",
      "--> added\n",
      "    'highly_variable', boolean vector (adata.var)\n",
      "    'highly_variable_rank', float vector (adata.var)\n",
      "    'means', float vector (adata.var)\n",
      "    'variances', float vector (adata.var)\n",
      "    'variances_norm', float vector (adata.var)\n"
     ]
    }
   ],
   "source": [
    "sc.pp.highly_variable_genes(\n",
    "    AnnData_r,\n",
    "    n_top_genes=5000,\n",
    "    subset=True,\n",
    "    layer=\"counts\",\n",
    "    flavor=\"seurat_v3\",\n",
    "    batch_key=\"batch\",\n",
    "    span=1,\n",
    ")"
   ]
  },
  {
   "cell_type": "code",
   "execution_count": 15,
   "metadata": {},
   "outputs": [
    {
     "data": {
      "image/png": "[encoded data removed]",
      "text/plain": [
       "<Figure size 480x240 with 2 Axes>"
      ]
     },
     "metadata": {
      "image/png": {
       "height": 296,
       "width": 462
      }
     },
     "output_type": "display_data"
    }
   ],
   "source": [
    "sc.set_figure_params(figsize=[3,3])\n",
    "sc.pl.highly_variable_genes(AnnData_r)"
   ]
  },
  {
   "cell_type": "markdown",
   "metadata": {},
   "source": [
    "# Move to GPU instance for SCVI"
   ]
  },
  {
   "cell_type": "code",
   "execution_count": 16,
   "metadata": {},
   "outputs": [
    {
     "name": "stderr",
     "output_type": "stream",
     "text": [
      "GPU available: True (cuda), used: True\n",
      "TPU available: False, using: 0 TPU cores\n",
      "IPU available: False, using: 0 IPUs\n",
      "HPU available: False, using: 0 HPUs\n",
      "LOCAL_RANK: 0 - CUDA_VISIBLE_DEVICES: [0]\n"
     ]
    },
    {
     "name": "stdout",
     "output_type": "stream",
     "text": [
      "Epoch 300/300: 100%|██████████████████████| 300/300 [2:04:52<00:00, 25.88s/it, loss=1.02e+03, v_num=1]"
     ]
    },
    {
     "name": "stderr",
     "output_type": "stream",
     "text": [
      "`Trainer.fit` stopped: `max_epochs=300` reached.\n"
     ]
    },
    {
     "name": "stdout",
     "output_type": "stream",
     "text": [
      "Epoch 300/300: 100%|██████████████████████| 300/300 [2:04:52<00:00, 24.98s/it, loss=1.02e+03, v_num=1]\n"
     ]
    }
   ],
   "source": [
    "warnings.resetwarnings\n",
    "scvi.model.SCVI.setup_anndata(AnnData_r, layer=\"counts\", batch_key=\"batch\", \\\n",
    "                        categorical_covariate_keys=[\"age_group\",'study','chemistry','enrichment'])\n",
    "vae = scvi.model.SCVI(AnnData_r,n_layers=2, n_latent=30,)\n",
    "vae.train(max_epochs=300,batch_size=2000)"
   ]
  },
  {
   "cell_type": "code",
   "execution_count": 17,
   "metadata": {},
   "outputs": [
    {
     "data": {
      "image/png": "[encoded data removed]",
      "text/plain": [
       "<Figure size 240x240 with 1 Axes>"
      ]
     },
     "metadata": {
      "image/png": {
       "height": 221,
       "width": 265
      }
     },
     "output_type": "display_data"
    }
   ],
   "source": [
    "import matplotlib.pyplot as plt\n",
    "plt.plot(vae.history['elbo_train'][:]);\n",
    "plt.xlim(0, len(vae.history['elbo_train']));"
   ]
  },
  {
   "cell_type": "code",
   "execution_count": 34,
   "metadata": {
    "tags": []
   },
   "outputs": [
    {
     "data": {
      "text/plain": [
       "AnnData object with n_obs × n_vars = 655712 × 36601\n",
       "    obs: 'n_genes', 'sample_barcode', 'batch', 'chemistry', 'age_group', 'age_numeric', 'sampleID_TCRab', 'path_TCRab', 'type', 'study', 'sample', 'enrichment', 'donor', 'doublet_score', 'predicted_doublet', 'n_genes_by_counts', 'total_counts', 'total_counts_mt', 'pct_counts_mt', 'total_counts_ribo', 'pct_counts_ribo', 'total_counts_hb', 'pct_counts_hb', 'percent_mt2', 'n_counts', 'barcode_sequence', 'log1p_n_genes_by_counts', 'log1p_total_counts', 'log1p_total_counts_mt', 'status', 'assignment', 'log_prob_singleton', 'log_prob_doublet', 'cluster0', 'cluster1', 'cluster2'"
      ]
     },
     "execution_count": 34,
     "metadata": {},
     "output_type": "execute_result"
    }
   ],
   "source": [
    "AnnData.obsm[\"X_scVI\"] = vae.get_latent_representation() # return batch corrections to original anndata\n",
    "sc.pp.neighbors(AnnData, use_rep=\"X_scVI\")"
   ]
  },
  {
   "cell_type": "code",
   "execution_count": 45,
   "metadata": {},
   "outputs": [],
   "source": [
    "AnnData.obs['backup_barcode'] = AnnData_new.obs.index\n",
    "AnnData.obs.set_index('backup_barcode',inplace=True)\n",
    "AnnData.obs.index.rename('barcode',inplace=True)"
   ]
  },
  {
   "cell_type": "code",
   "execution_count": 60,
   "metadata": {},
   "outputs": [
    {
     "data": {
      "text/plain": [
       "Index(['F23_TH_45P-TACTTACCAAGGTGTG', 'F23_TH_45P-GTGCAGCTCACCGGGT',\n",
       "       'F23_TH_45P-GAATAAGTCCTCGCAT', 'F23_TH_45P-CAACCAAAGTGAAGTT',\n",
       "       'F23_TH_45P-ATTATCCAGAGTCTGG', 'F23_TH_45P-TCGTAGAAGGAATGGA',\n",
       "       'F23_TH_45P-CCTTCGAAGCGATATA', 'F23_TH_45P-GGCTCGACACCTATCC',\n",
       "       'F23_TH_45P-CAACTAGTCAACACCA', 'F23_TH_45P-ATCGAGTTCCGCATAA',\n",
       "       ...\n",
       "       'TA12303451-TAACCAGGTGAGAGGG', 'TA12303451-CATAAGCTCTTTGCGC',\n",
       "       'TA12303451-GTATTTCAGAAGTCTA', 'TA12303451-TACACCCGTGTAACGG',\n",
       "       'TA12303451-TTGGTTTGTCCAGTTA', 'TA12303451-TCTCCGAAGATGAAGG',\n",
       "       'TA12303451-TTCAGGATCTAGTGTG', 'TA12303451-CGAAGGAGTCCTCATC',\n",
       "       'TA12303451-TACCCGTGTGGCTGAA', 'TA12303451-GTGCACGGTTAGAGAT'],\n",
       "      dtype='object', name='barcode', length=655712)"
      ]
     },
     "execution_count": 60,
     "metadata": {},
     "output_type": "execute_result"
    }
   ],
   "source": [
    "# AnnData.obs_names_make_unique()\n",
    "AnnData.obs.index"
   ]
  },
  {
   "cell_type": "code",
   "execution_count": 47,
   "metadata": {},
   "outputs": [],
   "source": [
    "AnnData.obs['sample_barcode'] = AnnData.obs['sample_barcode'].astype('object')\n",
    "# AnnData.obs['sample_barcode'][AnnData.obs['type'] == 'nuclei'] = AnnData.obs.index[AnnData.obs['type'] == 'nuclei']\n",
    "AnnData.obs['sample_barcode'] = AnnData.obs['sample_barcode'].astype('category')\n"
   ]
  },
  {
   "cell_type": "code",
   "execution_count": 19,
   "metadata": {},
   "outputs": [
    {
     "name": "stdout",
     "output_type": "stream",
     "text": [
      "computing UMAP\n",
      "    finished: added\n",
      "    'X_umap', UMAP coordinates (adata.obsm) (0:14:13)\n"
     ]
    }
   ],
   "source": [
    "# sc.pp.pca(AnnData,n_comps=30)\n",
    "sc.tl.umap(AnnData,min_dist=0.1)"
   ]
  },
  {
   "cell_type": "code",
   "execution_count": 21,
   "metadata": {},
   "outputs": [],
   "source": [
    "sc.set_figure_params(dpi=200,fontsize=10,)\n",
    "sc.pl.umap(AnnData,color=['donor','pct_counts_mt','doublet_score','pct_counts_ribo'],size=0.5,cmap='jet',ncols=2,wspace=1)"
   ]
  },
  {
   "cell_type": "code",
   "execution_count": 27,
   "metadata": {
    "tags": []
   },
   "outputs": [],
   "source": [
    "sc.set_figure_params(dpi=200,fontsize=10,)\n",
    "sc.pl.umap(AnnData,color=['louvian_05'],size=0.5,cmap='jet',ncols=2,wspace=1)"
   ]
  },
  {
   "cell_type": "code",
   "execution_count": 36,
   "metadata": {},
   "outputs": [],
   "source": [
    "sc.set_figure_params(dpi=200,figsize=[10,10])\n",
    "# sc.pl.umap(AnnData,color=['louvain_10'],size=0.5,cmap='jet',ncols=2,wspace=1)"
   ]
  },
  {
   "cell_type": "markdown",
   "metadata": {},
   "source": [
    "# Get annotations form old object "
   ]
  },
  {
   "cell_type": "code",
   "execution_count": 28,
   "metadata": {},
   "outputs": [],
   "source": [
    "AnnAtlas = sc.read_h5ad('')"
   ]
  },
  {
   "cell_type": "code",
   "execution_count": 30,
   "metadata": {},
   "outputs": [
    {
     "data": {
      "text/plain": [
       "AnnData object with n_obs × n_vars = 386836 × 36601\n",
       "    obs: 'latent_cell_probability', 'latent_RT_efficiency', 'SampleID', 'barcode', 'n_counts', 'log1p_n_counts', 'n_genes', 'log1p_n_genes', 'percent_mito', 'n_counts_mito', 'percent_ribo', 'n_counts_ribo', 'percent_hb', 'n_counts_hb', 'percent_top50', 'n_counts_raw', 'log1p_n_counts_raw', 'n_genes_raw', 'log1p_n_genes_raw', 'percent_mito_raw', 'n_counts_mito_raw', 'percent_ribo_raw', 'n_counts_ribo_raw', 'percent_hb_raw', 'n_counts_hb_raw', 'percent_top50_raw', 'n_counts_spliced', 'log1p_n_counts_spliced', 'n_genes_spliced', 'log1p_n_genes_spliced', 'percent_mito_spliced', 'n_counts_mito_spliced', 'percent_ribo_spliced', 'n_counts_ribo_spliced', 'percent_hb_spliced', 'n_counts_hb_spliced', 'percent_top50_spliced', 'n_counts_unspliced', 'log1p_n_counts_unspliced', 'n_genes_unspliced', 'log1p_n_genes_unspliced', 'percent_mito_unspliced', 'n_counts_mito_unspliced', 'percent_ribo_unspliced', 'n_counts_ribo_unspliced', 'percent_hb_unspliced', 'n_counts_hb_unspliced', 'percent_top50_unspliced', 'percent_soup', 'percent_spliced', 'scrublet_score', 'scrublet_score_z', 'cluster_scrublet_score', 'bh_pval', 'scrublet_done', 'ctp_pred', 'ctp_pred_prob', 'ctp_pred_uncertain', 'qc_cluster', 'pass_auto_filter_mito20', 'good_qc_cluster_mito20', 'pass_default', 'mapping_anno_v2', '10X_version', '10X_version_gran', 'Age', 'Age_group', 'DonorID', 'Enzyme', 'Med_nFeature', 'Sample', 'SampleID_BCR', 'SampleID_TCRab', 'SampleID_TCRgd', 'Sex', 'Source', 'log1p_n_genes_by_counts', 'log1p_total_counts', 'pct_counts_mt', 'pct_counts_ribo', 'percent_mt2', 'predicted_doublet', 'sample', 'sort', 'sub_clusters', 'total_counts', 'total_counts_hb', 'total_counts_mt', 'total_counts_ribo', 'Study', 'Type', 'mapping_anno_v3', 'mapping_anno_v4', 'batch'\n",
       "    var: 'ribo', 'hb-CITE-GEX', 'feature_types-CITE-GEX', 'mt-CITE-GEX', 'n_cells_by_counts-CITE-GEX', 'mean_counts-CITE-GEX', 'pct_dropout_by_counts-CITE-GEX', 'total_counts-CITE-GEX', 'ENSEMBL-GEX', 'feature_type-GEX', 'SYMBOL-GEX', 'mito-GEX', 'hb-GEX'"
      ]
     },
     "execution_count": 30,
     "metadata": {},
     "output_type": "execute_result"
    }
   ],
   "source": [
    "AnnAtlas"
   ]
  },
  {
   "cell_type": "code",
   "execution_count": 31,
   "metadata": {},
   "outputs": [],
   "source": [
    "# migrate annotations form old object \n",
    "for col in AnnAtlas.obs:\n",
    "    if col not in AnnData.obs:\n",
    "        AnnData.obs[col] = AnnAtlas.obs[col]\n"
   ]
  },
  {
   "cell_type": "code",
   "execution_count": 71,
   "metadata": {},
   "outputs": [],
   "source": [
    "sc.set_figure_params(figsize=[10,10],fontsize=6)\n",
    "sc.pl.umap(AnnData,color=['mapping_anno_v3','louvian_05','annotation_level_0'],size=2,cmap='jet',ncols=2,wspace=0.5,legend_loc='on data')"
   ]
  },
  {
   "cell_type": "code",
   "execution_count": 84,
   "metadata": {},
   "outputs": [],
   "source": [
    "AnnData.write_h5ad('')"
   ]
  }
 ],
 "metadata": {
  "kernelspec": {
   "display_name": "scvi-env",
   "language": "python",
   "name": "scvi-env"
  },
  "language_info": {
   "codemirror_mode": {
    "name": "ipython",
    "version": 3
   },
   "file_extension": ".py",
   "mimetype": "text/x-python",
   "name": "python",
   "nbconvert_exporter": "python",
   "pygments_lexer": "ipython3",
   "version": "3.9.12"
  }
 },
 "nbformat": 4,
 "nbformat_minor": 4
}
