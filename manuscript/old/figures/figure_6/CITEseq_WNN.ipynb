{
 "cells": [
  {
   "cell_type": "markdown",
   "metadata": {},
   "source": [
    "# CITEseq data analysis\n",
    "\n",
    "*Author: Lena Boehme, Taghon lab, 2023*\n",
    "\n",
    "## Integrated RNA/protein analysis\n",
    "\n",
    "We use weighted nearest neighbour analysis to generate a UMAP that takes into account both RNA and ADT."
   ]
  },
  {
   "cell_type": "markdown",
   "metadata": {},
   "source": [
    "### Setup"
   ]
  },
  {
   "cell_type": "code",
   "execution_count": null,
   "metadata": {},
   "outputs": [],
   "source": [
    "setwd(\"/home/lenab/Documents/scSeq_analyses/B_TotalThymus_CITEseq/2022_TotalThymus_CITEseq_HTA/objects\")"
   ]
  },
  {
   "cell_type": "code",
   "execution_count": null,
   "metadata": {},
   "outputs": [],
   "source": [
    "#default plotting settings\n",
    "\n",
    "options(repr.plot.width=12, repr.plot.height=6)\n",
    "\n",
    "options(scipen=100) #avoid scientific notation of numbers"
   ]
  },
  {
   "cell_type": "code",
   "execution_count": null,
   "metadata": {
    "scrolled": true
   },
   "outputs": [],
   "source": [
    "library(SeuratDisk)\n",
    "library(Seurat)\n",
    "library(matrixStats)\n",
    "library(ggplot2)\n",
    "library(pheatmap)\n",
    "library(reshape2)\n",
    "library(dplyr)\n",
    "library(tidyr)\n",
    "library(viridis)\n",
    "library(RColorBrewer)\n",
    "library(stringr)\n",
    "library(batchelor)\n",
    "library(BiocParallel)\n",
    "library(BiocNeighbors)"
   ]
  },
  {
   "cell_type": "code",
   "execution_count": null,
   "metadata": {
    "scrolled": true
   },
   "outputs": [],
   "source": [
    "sessionInfo()"
   ]
  },
  {
   "cell_type": "code",
   "execution_count": null,
   "metadata": {},
   "outputs": [],
   "source": [
    "pal12 <- colorRampPalette(brewer.pal(12, \"Paired\"))(12)\n",
    "pal24 <- colorRampPalette(brewer.pal(12, \"Paired\"))(24)\n",
    "pal36 <- colorRampPalette(brewer.pal(12, \"Paired\"))(36)"
   ]
  },
  {
   "cell_type": "markdown",
   "metadata": {},
   "source": [
    "### Importing data"
   ]
  },
  {
   "cell_type": "markdown",
   "metadata": {},
   "source": [
    "We have denoised protein data in a seurat object, which we can load in."
   ]
  },
  {
   "cell_type": "code",
   "execution_count": null,
   "metadata": {
    "scrolled": true
   },
   "outputs": [],
   "source": [
    "seurObj_dsb <- LoadH5Seurat(\"./HTA2_v10_dsb_denoised.h5seurat\")"
   ]
  },
  {
   "cell_type": "code",
   "execution_count": null,
   "metadata": {},
   "outputs": [],
   "source": [
    "seurObj_dsb@assays"
   ]
  },
  {
   "cell_type": "markdown",
   "metadata": {},
   "source": [
    "In the meantime scRNA-seq analyses have flagged around 3000 problematic cells in the data set. We therefore remove these from the CITE-seq data for consistency and quality ensurance."
   ]
  },
  {
   "cell_type": "code",
   "execution_count": null,
   "metadata": {},
   "outputs": [],
   "source": [
    "#subset to only CITE-seq cells\n",
    "seurObj_CITE <- subset(seurObj, subset = cite_w_protein == 1)"
   ]
  },
  {
   "cell_type": "code",
   "execution_count": null,
   "metadata": {},
   "outputs": [],
   "source": [
    "rm(seurObj)"
   ]
  },
  {
   "cell_type": "code",
   "execution_count": null,
   "metadata": {},
   "outputs": [],
   "source": [
    "table(colnames(seurObj_dsb) %in% colnames(seurObj_CITE))"
   ]
  },
  {
   "cell_type": "markdown",
   "metadata": {},
   "source": [
    "Instead of subsetting the denoised object, we selectively transfer ADT and denoised ADT data for just the cells that are already in the new CITEseq-only object. This way the total scRNA-seq UMAP, annotations etc. are preserved in the object."
   ]
  },
  {
   "cell_type": "code",
   "execution_count": null,
   "metadata": {},
   "outputs": [],
   "source": [
    "seurObj_CITE[['ADT']] <- CreateAssayObject(counts=seurObj_dsb@assays$ADT@counts[,colnames(seurObj_CITE)])\n",
    "seurObj_CITE[['ADTdsb']] <- CreateAssayObject(data=seurObj_dsb@assays$ADTdsb@data[,colnames(seurObj_CITE)])"
   ]
  },
  {
   "cell_type": "code",
   "execution_count": null,
   "metadata": {},
   "outputs": [],
   "source": [
    "seurObj_CITE <- LoadH5Seurat('./HTA2_v16_CITEonly.h5seurat')"
   ]
  },
  {
   "cell_type": "markdown",
   "metadata": {},
   "source": [
    "### Integrated analysis "
   ]
  },
  {
   "cell_type": "markdown",
   "metadata": {},
   "source": [
    "#### DimRed RNA"
   ]
  },
  {
   "cell_type": "markdown",
   "metadata": {},
   "source": [
    "Data was previously integrated with scVI, so no PCA for the RNA is available. We first normalise and scale the data, then run a PCA."
   ]
  },
  {
   "cell_type": "code",
   "execution_count": null,
   "metadata": {},
   "outputs": [],
   "source": [
    "seurObj_CITE <- seurObj_CITE  %>%\n",
    "            NormalizeData(assay = 'RNA') %>%\n",
    "            FindVariableFeatures(assay = 'RNA') %>%\n",
    "            ScaleData(assay = 'RNA') %>%\n",
    "            RunPCA(assay = 'RNA', npcs = 50, reduction.name = 'pca_rna_CITE')"
   ]
  },
  {
   "cell_type": "code",
   "execution_count": null,
   "metadata": {
    "scrolled": false
   },
   "outputs": [],
   "source": [
    "ElbowPlot(seurObj_CITE, reduction = 'pca_rna_CITE', ndims = 50)+labs(title = 'Elbowplot for RNA PCA')\n",
    "\n",
    "#determining PC cutoff: threshold corresponds to the point where the difference in the SD between two subsequent PCs in <0.1\n",
    "var_pc <- seurObj_CITE@reductions$pca_rna_CITE@stdev/sum(seurObj_CITE@reductions$pca_rna_CITE@stdev)*100\n",
    "diffvar_pc <- var_pc[1:length(var_pc)-1] - var_pc[2:length(var_pc)]\n",
    "sort(which(diffvar_pc >0.1), decreasing=TRUE)[1]+1"
   ]
  },
  {
   "cell_type": "markdown",
   "metadata": {},
   "source": [
    "The data set contains data from several donors and experimental batches, so batch correction is required for the RNA. We use [fastMNN](https://rdrr.io/github/LTLA/batchelor/man/reducedMNN.html) from the batchelor package for this purpose, which works on the previously generated PCA. We specify indicidual libraries as batches, but don't specify the merging order."
   ]
  },
  {
   "cell_type": "code",
   "execution_count": null,
   "metadata": {},
   "outputs": [],
   "source": [
    "ptm <- proc.time()\n",
    "\n",
    "MNN_rna_CITE <- reducedMNN(seurObj_CITE@reductions$pca_rna_CITE@cell.embeddings,\n",
    "                 batch=seurObj_CITE$sample, #specify batches\n",
    "                 #merge.order= unique(seurObj$batch), #batch order can be specified\n",
    "                 BPPARAM=MulticoreParam(workers=12), #parallelisation\n",
    "                 BNPARAM=HnswParam())\n",
    "\n",
    "proc.time() - ptm"
   ]
  },
  {
   "cell_type": "code",
   "execution_count": null,
   "metadata": {},
   "outputs": [],
   "source": [
    "#save corrected PCA in DimRed slot\n",
    "seurObj_CITE[[\"mnn_rna_CITE\"]] <- CreateDimReducObject(embeddings=MNN_rna_CITE$corrected,\n",
    "                                        assay=\"RNA\",\n",
    "                                        key=\"mnnrnacite_\")"
   ]
  },
  {
   "cell_type": "code",
   "execution_count": null,
   "metadata": {
    "scrolled": true
   },
   "outputs": [],
   "source": [
    "seurObj_CITE <- RunUMAP(seurObj_CITE, reduction = 'mnn_rna_CITE', assay='RNA', reduction.name = 'umap_rna_mnn_CITE', dims = 1:15)"
   ]
  },
  {
   "cell_type": "code",
   "execution_count": null,
   "metadata": {
    "scrolled": false
   },
   "outputs": [],
   "source": [
    "options(repr.plot.width=7, repr.plot.height=6)\n",
    "\n",
    "DimPlot(seurObj_CITE, reduction = 'umap_rna_mnn_CITE', group.by = 'sample', cols = pal12)+labs(title='batch-corrected RNA UMAP (by sample)')\n",
    "\n",
    "DimPlot(seurObj_CITE, reduction = 'umap_rna_mnn_CITE', group.by = 'donor', cols = pal12)+labs(title='batch-corrected RNA UMAP (by donor)')\n",
    "\n",
    "DimPlot(seurObj_CITE, reduction = 'umap_rna_mnn_CITE', group.by = 'donor', cols = pal12)+labs(title='batch-corrected RNA UMAP (by donor)')"
   ]
  },
  {
   "cell_type": "markdown",
   "metadata": {},
   "source": [
    "Note that even and odd samples correspond to different cell subsets and are thus separate in the UMAP."
   ]
  },
  {
   "cell_type": "markdown",
   "metadata": {},
   "source": [
    "#### DimRed ADT"
   ]
  },
  {
   "cell_type": "markdown",
   "metadata": {},
   "source": [
    "We also carry out scaling and PCA for the ADT data. Note that normalisation was already carried out with dsb and should not be performed again. We use all markers as HVGs (excluding isotype controls). Batch correction was tested and found to be not needed/suited for the ADT data - dsb should already have removed inter-cell/sample variance."
   ]
  },
  {
   "cell_type": "code",
   "execution_count": null,
   "metadata": {},
   "outputs": [],
   "source": [
    "VariableFeatures(seurObj_CITE, assay = 'ADTdsb') <- rownames(seurObj_CITE@assays$ADTdsb@data)[c(1:130,138:150)]"
   ]
  },
  {
   "cell_type": "code",
   "execution_count": null,
   "metadata": {},
   "outputs": [],
   "source": [
    "seurObj_CITE <- seurObj_CITE  %>%\n",
    "            ScaleData(assay = 'ADTdsb') %>%\n",
    "            RunPCA(assay = 'ADTdsb', npcs = 50, reduction.name = 'pca_adt_CITE')"
   ]
  },
  {
   "cell_type": "code",
   "execution_count": null,
   "metadata": {
    "scrolled": false
   },
   "outputs": [],
   "source": [
    "ElbowPlot(seurObj_CITE, reduction = 'pca_adt_CITE', ndims = 50)+labs(title = 'Elbowplot for ADT PCA')\n",
    "\n",
    "var_pc <- seurObj_CITE@reductions$pca_adt_CITE@stdev/sum(seurObj_CITE@reductions$pca_adt_CITE@stdev)*100\n",
    "diffvar_pc <- var_pc[1:length(var_pc)-1] - var_pc[2:length(var_pc)]\n",
    "#determine last point where difference is >0.1\n",
    "sort(which(diffvar_pc >0.1), decreasing=TRUE)[1]+1"
   ]
  },
  {
   "cell_type": "markdown",
   "metadata": {},
   "source": [
    "#### DimRed WNN\n",
    "We use the [Seurat approach](https://satijalab.org/seurat/reference/findmultimodalneighbors) to find neighbours accross the modalities and then generate a UMAP based on the nn graph."
   ]
  },
  {
   "cell_type": "code",
   "execution_count": null,
   "metadata": {},
   "outputs": [],
   "source": [
    "seurObj_CITE <- FindMultiModalNeighbors(seurObj_CITE,\n",
    "                                  reduction.list=list('mnn_rna_CITE', 'pca_adt_CITE'),\n",
    "                                   dims.list=list(1:15,1:14)) #use PC cut-offs determine previously"
   ]
  },
  {
   "cell_type": "code",
   "execution_count": null,
   "metadata": {},
   "outputs": [],
   "source": [
    "seurObj_CITE <- RunUMAP(seurObj_CITE, nn.name = \"weighted.nn\", reduction.name = \"umap_wnn\",\n",
    "                        reduction.key = \"wnnUMAP_\")"
   ]
  },
  {
   "cell_type": "code",
   "execution_count": null,
   "metadata": {
    "scrolled": false
   },
   "outputs": [],
   "source": [
    "options(repr.plot.width=7, repr.plot.height=6)\n",
    "\n",
    "DimPlot(seurObj_CITE, reduction = 'umap_wnn', group.by = 'sample', cols = pal12)+labs(title='WNN UMAP')\n",
    "\n",
    "DimPlot(seurObj_CITE, reduction = 'umap_wnn', group.by = 'donor', cols = pal12)+labs(title='WNN UMAP')"
   ]
  },
  {
   "cell_type": "code",
   "execution_count": null,
   "metadata": {
    "scrolled": false
   },
   "outputs": [],
   "source": [
    "options(repr.plot.width=12, repr.plot.height=6)\n",
    "\n",
    "FeaturePlot(seurObj_CITE, reduction = 'umap_wnn', features = c('RNA.weight', 'ADTdsb.weight'), cols = viridis(100), order=T)"
   ]
  },
  {
   "cell_type": "markdown",
   "metadata": {},
   "source": [
    "We additionally carry out a [supervised PCA (sPCA)](https://www.sciencedirect.com/science/article/pii/S0092867421005833?via%3Dihub) on the WNN graph. This yields an RNA-based PCA that incorporates the maximum variance described by the WNN graph and therefore allows weighted RNA and protein quantification."
   ]
  },
  {
   "cell_type": "code",
   "execution_count": null,
   "metadata": {},
   "outputs": [],
   "source": [
    "seurObj_CITE <- RunSPCA(seurObj_CITE, assay='RNA', graph='wsnn')"
   ]
  },
  {
   "cell_type": "code",
   "execution_count": null,
   "metadata": {},
   "outputs": [],
   "source": [
    "SaveH5Seurat(seurObj_CITE, './HTA2_v16_raw.h5seurat', overwrite = TRUE)"
   ]
  }
 ],
 "metadata": {
  "kernelspec": {
   "display_name": "R",
   "language": "R",
   "name": "ir"
  },
  "language_info": {
   "codemirror_mode": "r",
   "file_extension": ".r",
   "mimetype": "text/x-r-source",
   "name": "R",
   "pygments_lexer": "r",
   "version": "4.2.3"
  }
 },
 "nbformat": 4,
 "nbformat_minor": 4
}
