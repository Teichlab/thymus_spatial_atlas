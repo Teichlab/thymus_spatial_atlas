{
 "cells": [
  {
   "cell_type": "markdown",
   "id": "dominant-teddy",
   "metadata": {},
   "source": [
    "# merging and cleaning processed paediatric Visium data based on CITEseq annotations - post cell2location deconvolution"
   ]
  },
  {
   "cell_type": "code",
   "execution_count": 1,
   "id": "novel-preserve",
   "metadata": {},
   "outputs": [
    {
     "name": "stderr",
     "output_type": "stream",
     "text": [
      "Global seed set to 0\n"
     ]
    },
    {
     "name": "stdout",
     "output_type": "stream",
     "text": [
      "Running Scanpy 1.9.1, on 2023-08-16 17:46.\n"
     ]
    }
   ],
   "source": [
    "import numpy as np\n",
    "import scanpy as sc\n",
    "import pandas as pd\n",
    "import matplotlib.pyplot as plt\n",
    "from matplotlib import rcParams\n",
    "from matplotlib import colors\n",
    "import seaborn as sb\n",
    "import re\n",
    "import os\n",
    "import scipy.stats\n",
    "from numpy import asarray as ar\n",
    "from collections import Counter\n",
    "import scvi\n",
    "import anndata as ad\n",
    "from IPython.core.interactiveshell import InteractiveShell\n",
    "InteractiveShell.ast_node_interactivity = \"all\" # to show output from all the lines in a cells\n",
    "pd.set_option('display.max_column',None) # display all the columns in pandas\n",
    "pd.options.display.max_rows = 100\n",
    "\n",
    "from datetime import date\n",
    "today = str(date.today())\n",
    "sc.settings.verbosity = 1\n",
    "sc.logging.print_version_and_date()\n",
    "%load_ext autoreload\n",
    "%autoreload 2"
   ]
  },
  {
   "cell_type": "code",
   "execution_count": 2,
   "id": "minimal-facility",
   "metadata": {},
   "outputs": [],
   "source": [
    "## For correct plotting of the images\n",
    "import matplotlib\n",
    "from matplotlib import rcParams\n",
    "rcParams['pdf.fonttype'] = 42\n",
    "sc.settings.set_figure_params(dpi = 150, color_map = 'RdPu', dpi_save = 150, vector_friendly = True, format = 'pdf')"
   ]
  },
  {
   "cell_type": "code",
   "execution_count": 3,
   "id": "medium-function",
   "metadata": {},
   "outputs": [
    {
     "data": {
      "text/plain": [
       "'/nfs/team205/ny1/ThymusSpatialAtlas/new_Figure6'"
      ]
     },
     "execution_count": 3,
     "metadata": {},
     "output_type": "execute_result"
    }
   ],
   "source": [
    "# output folder \n",
    "import os\n",
    "os.getcwd()"
   ]
  },
  {
   "cell_type": "markdown",
   "id": "relevant-tonight",
   "metadata": {},
   "source": [
    "# Orgenize analysis object \n",
    "this is divided to 4 steps:\n",
    "1) load cell2loaction object \"sp\" which has only HVG genes \n",
    "2) load merged raw visium object \"adata_vis\" \n",
    "3) create a new object with all annotations and all raw genes\n",
    "4) update tissue tag annotations from to generate a final annotated object "
   ]
  },
  {
   "cell_type": "code",
   "execution_count": 5,
   "id": "outstanding-pathology",
   "metadata": {},
   "outputs": [
    {
     "data": {
      "text/plain": [
       "AnnData object with n_obs × n_vars = 38245 × 11774\n",
       "    obs: 'Sample', 'Sample_hr', 'SampleID', 'SlideID', 'Position', 'in_tissue', 'array_row', 'array_col', 'x', 'y', 'n_genes_by_counts', 'log1p_n_genes_by_counts', 'total_counts', 'log1p_total_counts', 'percent_mito', 'annotations_level_0', 'annotations_level_0_number', 'annotations_level_1', 'annotations_level_1_number', 'annotations_lobules_0', 'annotations_lobules_0_number', 'L2_dist_annotations_level_0_Artifacts', 'L2_dist_annotations_level_0_Cortex', 'L2_dist_annotations_level_0_Edge', 'L2_dist_annotations_level_0_Medulla', 'L2_dist_annotations_level_1_HS', 'L2_dist_annotations_level_1_PVS', 'L2_dist_annotations_level_1_fat', 'L2_dist_annotations_level_1_vessels', 'L2_dist_annotations_level_0_lymph', 'L2_dist_annotations_level_1_unassigned', 'cm', 'cc', 'cma_v2', 'manual_bin_cma_v2', 'manual_bin_cma_v2_int', 'Image_name', 'Image_jpg', 'section_thickness (um)', 'permebialisation(min)', 'RIN/DV200', 'Visium_type', 'Funding', 'Sequencer', 'DonorID', 'Donor_type', 'Age_group', 'Age(misc)', 'Age(numeric)', 'Source', 'Study', 'Study name ', 'Study ID', 'Research_no', 'Deposited before ', 'Sex', 'QC', 'Batch', 'Spaceranger', 'old_sample_name', 'annotation version', 'path', 'updated pipeline', 'L1_knn1', 'L0_KNN10', 'for mapping ', 'batch', 'cma_v1', '_indices', '_scvi_batch', '_scvi_labels'\n",
       "    var: 'ENSEMBL', 'feature_types', 'genome', 'SYMBOL', 'mt', 'MT_gene'\n",
       "    uns: '_scvi_manager_uuid', '_scvi_uuid', 'hires_grid', 'hires_grid_diam', 'hires_grid_ppm', 'mod', 'spatial', 'visium_ppm'\n",
       "    obsm: 'MT', '_scvi_extra_categorical_covs', '_scvi_extra_continuous_covs', 'means_cell_abundance_w_sf', 'q05_cell_abundance_w_sf', 'q95_cell_abundance_w_sf', 'spatial', 'stds_cell_abundance_w_sf'"
      ]
     },
     "execution_count": 5,
     "metadata": {},
     "output_type": "execute_result"
    }
   ],
   "source": [
    "# load c2l object \n",
    "adata_cite = sc.read('/nfs/team205/vk8/projects/thymus_atlas/results/thymus_atlas_v2_anno_v11_paed_CITE_v19/cell2location_map/sp.h5ad')\n",
    "\n",
    "\n",
    "adata_cite"
   ]
  },
  {
   "cell_type": "code",
   "execution_count": 6,
   "id": "yellow-listing",
   "metadata": {},
   "outputs": [
    {
     "data": {
      "text/plain": [
       "AnnData object with n_obs × n_vars = 38245 × 11774\n",
       "    obs: 'Sample', 'Sample_hr', 'SampleID', 'SlideID', 'Position', 'in_tissue', 'array_row', 'array_col', 'x', 'y', 'n_genes_by_counts', 'log1p_n_genes_by_counts', 'total_counts', 'log1p_total_counts', 'percent_mito', 'annotations_level_0', 'annotations_level_0_number', 'annotations_level_1', 'annotations_level_1_number', 'annotations_lobules_0', 'annotations_lobules_0_number', 'L2_dist_annotations_level_0_Artifacts', 'L2_dist_annotations_level_0_Cortex', 'L2_dist_annotations_level_0_Edge', 'L2_dist_annotations_level_0_Medulla', 'L2_dist_annotations_level_1_HS', 'L2_dist_annotations_level_1_PVS', 'L2_dist_annotations_level_1_fat', 'L2_dist_annotations_level_1_vessels', 'L2_dist_annotations_level_0_lymph', 'L2_dist_annotations_level_1_unassigned', 'cm', 'cc', 'cma_v2', 'manual_bin_cma_v2', 'manual_bin_cma_v2_int', 'Image_name', 'Image_jpg', 'section_thickness (um)', 'permebialisation(min)', 'RIN/DV200', 'Visium_type', 'Funding', 'Sequencer', 'DonorID', 'Donor_type', 'Age_group', 'Age(misc)', 'Age(numeric)', 'Source', 'Study', 'Study name ', 'Study ID', 'Research_no', 'Deposited before ', 'Sex', 'QC', 'Batch', 'Spaceranger', 'old_sample_name', 'annotation version', 'path', 'updated pipeline', 'L1_knn1', 'L0_KNN10', 'for mapping ', 'batch', 'cma_v1', '_indices', '_scvi_batch', '_scvi_labels', 'B-memory', 'B-naive', 'B-plasma', 'CD8aaII_immature', 'CD8aaII_mature', 'CD8aaI_immature', 'CD8aaI_mature', 'DC1', 'DC2', 'DP(P)_early', 'DP(P)_late', 'DP(Q)_CD199', 'DP(Q)_CD99_CD31hi', 'DP(Q)_CD99_CD31lo', 'DP(Q)_HSPH1', 'DP(Q)_Th2', 'DP(Q)_early', 'DP(Q)_rearr', 'DP_4hi8lo', 'DP_early_CD31', 'DP_pos_sel', 'EC-Art', 'EC-Art-ELN', 'EC-Cap', 'EC-Lymphatic', 'EC-Ven', 'InterloFb', 'Macrophage-APOC2', 'Macrophage-SPIC1', 'Monocyte_IL1B', 'Myelocyte', 'NKT_dev', 'NK_circ_56hi16lo', 'NK_tr_itg_hi', 'NK_tr_itg_lo', 'Neutrophil', 'Pericyte', 'Pericyte_CCL19', 'Pericyte_COL1A1', 'PeriloFb', 'SMC', 'SP_CD4_immature', 'SP_CD4_mature', 'SP_CD4_semimature', 'SP_CD8_immature', 'SP_CD8_mature', 'SP_CD8_memory', 'SP_CD8_semimature', 'SP_Treg_CD8', 'SP_Treg_PD1', 'SP_Treg_immature', 'SP_Treg_mature', 'SP_Treg_recirc', 'TEC-cilliated', 'TEC-myo', 'TEC-neuro', 'aDC1', 'aDC2', 'aDC3', 'cTECI', 'cTECII', 'cTECIII', 'committed_CD4neg', 'committed_CD4neg(P)', 'committed_CD4pos', 'committed_CD4pos(P)', 'gdT_Vd2', 'gdT_immature', 'gdT_mature', 'gdT_semimature', 'mTECI', 'mTECI-trans', 'mTECII', 'mTECIII', 'mcTEC', 'medFB-MHCIIh', 'medFb', 'medFb-RGS5', 'pDC', 'uncommitted', 'tot_cell_abundance', 'detection_sensit'\n",
       "    var: 'ENSEMBL', 'feature_types', 'genome', 'SYMBOL', 'mt', 'MT_gene'\n",
       "    uns: '_scvi_manager_uuid', '_scvi_uuid', 'hires_grid', 'hires_grid_diam', 'hires_grid_ppm', 'mod', 'spatial', 'visium_ppm'\n",
       "    obsm: 'MT', '_scvi_extra_categorical_covs', '_scvi_extra_continuous_covs', 'means_cell_abundance_w_sf', 'q05_cell_abundance_w_sf', 'q95_cell_abundance_w_sf', 'spatial', 'stds_cell_abundance_w_sf'"
      ]
     },
     "execution_count": 6,
     "metadata": {},
     "output_type": "execute_result"
    }
   ],
   "source": [
    "# add 5% quantile, representing confident cell abundance, 'at least this amount is present', \n",
    "# to adata.obs with nice names for plotting\n",
    "adata_cite.obs[adata_cite.uns['mod']['factor_names']] = adata_cite.obsm['q05_cell_abundance_w_sf']\n",
    "adata_cite.obs['tot_cell_abundance'] = adata_cite.uns[\"mod\"][\"post_sample_means\"][\"w_sf\"].sum(1).flatten()\n",
    "adata_cite.obs['detection_sensit']  = adata_cite.uns[\"mod\"][\"post_sample_q05\"][\"detection_y_s\"]\n",
    "adata_cite"
   ]
  },
  {
   "cell_type": "code",
   "execution_count": 7,
   "id": "synthetic-wrist",
   "metadata": {},
   "outputs": [
    {
     "data": {
      "text/plain": [
       "AnnData object with n_obs × n_vars = 38245 × 36601\n",
       "    obs: 'Sample', 'Sample_hr', 'SampleID', 'SlideID', 'Position', 'in_tissue', 'array_row', 'array_col', 'x', 'y', 'n_genes_by_counts', 'log1p_n_genes_by_counts', 'total_counts', 'log1p_total_counts', 'percent_mito', 'annotations_level_0', 'annotations_level_0_number', 'annotations_level_1', 'annotations_level_1_number', 'annotations_lobules_0', 'annotations_lobules_0_number', 'L2_dist_annotations_level_0_Artifacts', 'L2_dist_annotations_level_0_Cortex', 'L2_dist_annotations_level_0_Edge', 'L2_dist_annotations_level_0_Medulla', 'L2_dist_annotations_level_1_HS', 'L2_dist_annotations_level_1_PVS', 'L2_dist_annotations_level_1_fat', 'L2_dist_annotations_level_1_vessels', 'L2_dist_annotations_level_0_lymph', 'L2_dist_annotations_level_1_unassigned', 'cm', 'cc', 'cma_v2', 'manual_bin_cma_v2', 'manual_bin_cma_v2_int', 'Image_name', 'Image_jpg', 'section_thickness (um)', 'permebialisation(min)', 'RIN/DV200', 'Visium_type', 'Funding', 'Sequencer', 'DonorID', 'Donor_type', 'Age_group', 'Age(misc)', 'Age(numeric)', 'Source', 'Study', 'Study name ', 'Study ID', 'Research_no', 'Deposited before ', 'Sex', 'QC', 'Batch', 'Spaceranger', 'old_sample_name', 'annotation version', 'path', 'updated pipeline', 'L1_knn1', 'L0_KNN10', 'for mapping ', 'batch', 'cma_v1'\n",
       "    var: 'ENSEMBL', 'feature_types', 'genome', 'SYMBOL', 'mt'\n",
       "    uns: 'hires_grid', 'hires_grid_diam', 'hires_grid_ppm', 'spatial', 'visium_ppm'\n",
       "    obsm: 'spatial'"
      ]
     },
     "execution_count": 7,
     "metadata": {},
     "output_type": "execute_result"
    }
   ],
   "source": [
    "# recover original raw object and only recover model and annotations\n",
    "adata_vis_all = sc.read(\"/nfs/team205/ny1/ThymusSpatialAtlas/Figure2/data/Thymus_atlas_v2_Visium_raw_2023-08-02.h5ad\")\n",
    "adata_vis = adata_vis_all[adata_vis_all.obs['Age_group'] != 'fetal'].copy()\n",
    "del adata_vis_all\n",
    "adata_vis"
   ]
  },
  {
   "cell_type": "code",
   "execution_count": 8,
   "id": "ceramic-education",
   "metadata": {},
   "outputs": [
    {
     "data": {
      "text/plain": [
       "AnnData object with n_obs × n_vars = 38245 × 36601\n",
       "    obs: 'Sample', 'Sample_hr', 'SampleID', 'SlideID', 'Position', 'in_tissue', 'array_row', 'array_col', 'x', 'y', 'n_genes_by_counts', 'log1p_n_genes_by_counts', 'total_counts', 'log1p_total_counts', 'percent_mito', 'annotations_level_0', 'annotations_level_0_number', 'annotations_level_1', 'annotations_level_1_number', 'annotations_lobules_0', 'annotations_lobules_0_number', 'L2_dist_annotations_level_0_Artifacts', 'L2_dist_annotations_level_0_Cortex', 'L2_dist_annotations_level_0_Edge', 'L2_dist_annotations_level_0_Medulla', 'L2_dist_annotations_level_1_HS', 'L2_dist_annotations_level_1_PVS', 'L2_dist_annotations_level_1_fat', 'L2_dist_annotations_level_1_vessels', 'L2_dist_annotations_level_0_lymph', 'L2_dist_annotations_level_1_unassigned', 'cm', 'cc', 'cma_v2', 'manual_bin_cma_v2', 'manual_bin_cma_v2_int', 'Image_name', 'Image_jpg', 'section_thickness (um)', 'permebialisation(min)', 'RIN/DV200', 'Visium_type', 'Funding', 'Sequencer', 'DonorID', 'Donor_type', 'Age_group', 'Age(misc)', 'Age(numeric)', 'Source', 'Study', 'Study name ', 'Study ID', 'Research_no', 'Deposited before ', 'Sex', 'QC', 'Batch', 'Spaceranger', 'old_sample_name', 'annotation version', 'path', 'updated pipeline', 'L1_knn1', 'L0_KNN10', 'for mapping ', 'batch', 'cma_v1', '_indices', '_scvi_batch', '_scvi_labels', 'B-memory', 'B-naive', 'B-plasma', 'CD8aaII_immature', 'CD8aaII_mature', 'CD8aaI_immature', 'CD8aaI_mature', 'DC1', 'DC2', 'DP(P)_early', 'DP(P)_late', 'DP(Q)_CD199', 'DP(Q)_CD99_CD31hi', 'DP(Q)_CD99_CD31lo', 'DP(Q)_HSPH1', 'DP(Q)_Th2', 'DP(Q)_early', 'DP(Q)_rearr', 'DP_4hi8lo', 'DP_early_CD31', 'DP_pos_sel', 'EC-Art', 'EC-Art-ELN', 'EC-Cap', 'EC-Lymphatic', 'EC-Ven', 'InterloFb', 'Macrophage-APOC2', 'Macrophage-SPIC1', 'Monocyte_IL1B', 'Myelocyte', 'NKT_dev', 'NK_circ_56hi16lo', 'NK_tr_itg_hi', 'NK_tr_itg_lo', 'Neutrophil', 'Pericyte', 'Pericyte_CCL19', 'Pericyte_COL1A1', 'PeriloFb', 'SMC', 'SP_CD4_immature', 'SP_CD4_mature', 'SP_CD4_semimature', 'SP_CD8_immature', 'SP_CD8_mature', 'SP_CD8_memory', 'SP_CD8_semimature', 'SP_Treg_CD8', 'SP_Treg_PD1', 'SP_Treg_immature', 'SP_Treg_mature', 'SP_Treg_recirc', 'TEC-cilliated', 'TEC-myo', 'TEC-neuro', 'aDC1', 'aDC2', 'aDC3', 'cTECI', 'cTECII', 'cTECIII', 'committed_CD4neg', 'committed_CD4neg(P)', 'committed_CD4pos', 'committed_CD4pos(P)', 'gdT_Vd2', 'gdT_immature', 'gdT_mature', 'gdT_semimature', 'mTECI', 'mTECI-trans', 'mTECII', 'mTECIII', 'mcTEC', 'medFB-MHCIIh', 'medFb', 'medFb-RGS5', 'pDC', 'uncommitted', 'tot_cell_abundance', 'detection_sensit'\n",
       "    var: 'ENSEMBL', 'feature_types', 'genome', 'SYMBOL', 'mt'\n",
       "    uns: '_scvi_manager_uuid', '_scvi_uuid', 'hires_grid', 'hires_grid_diam', 'hires_grid_ppm', 'mod', 'spatial', 'visium_ppm'\n",
       "    obsm: 'MT', '_scvi_extra_categorical_covs', '_scvi_extra_continuous_covs', 'means_cell_abundance_w_sf', 'q05_cell_abundance_w_sf', 'q95_cell_abundance_w_sf', 'spatial', 'stds_cell_abundance_w_sf'"
      ]
     },
     "execution_count": 8,
     "metadata": {},
     "output_type": "execute_result"
    }
   ],
   "source": [
    "adata_cite_full = ad.AnnData(X = adata_vis.X, obs=adata_cite.obs, var=adata_vis.var, uns=adata_cite.uns, obsm=adata_cite.obsm)\n",
    "del adata_vis\n",
    "del adata_cite\n",
    "adata_cite_full"
   ]
  },
  {
   "cell_type": "markdown",
   "id": "robust-notice",
   "metadata": {},
   "source": [
    "# make sure  new annotations "
   ]
  },
  {
   "cell_type": "code",
   "execution_count": 9,
   "id": "exposed-programming",
   "metadata": {},
   "outputs": [
    {
     "data": {
      "text/plain": [
       "AnnData object with n_obs × n_vars = 38245 × 36601\n",
       "    obs: 'Sample', 'Sample_hr', 'SampleID', 'SlideID', 'Position', 'in_tissue', 'array_row', 'array_col', 'x', 'y', 'n_genes_by_counts', 'log1p_n_genes_by_counts', 'total_counts', 'log1p_total_counts', 'percent_mito', 'annotations_level_0', 'annotations_level_0_number', 'annotations_level_1', 'annotations_level_1_number', 'annotations_lobules_0', 'annotations_lobules_0_number', 'L2_dist_annotations_level_0_Artifacts', 'L2_dist_annotations_level_0_Cortex', 'L2_dist_annotations_level_0_Edge', 'L2_dist_annotations_level_0_Medulla', 'L2_dist_annotations_level_1_HS', 'L2_dist_annotations_level_1_PVS', 'L2_dist_annotations_level_1_fat', 'L2_dist_annotations_level_1_vessels', 'L2_dist_annotations_level_0_lymph', 'L2_dist_annotations_level_1_unassigned', 'cm', 'cc', 'cma_v2', 'manual_bin_cma_v2', 'manual_bin_cma_v2_int', 'Image_name', 'Image_jpg', 'section_thickness (um)', 'permebialisation(min)', 'RIN/DV200', 'Visium_type', 'Funding', 'Sequencer', 'DonorID', 'Donor_type', 'Age_group', 'Age(misc)', 'Age(numeric)', 'Source', 'Study', 'Study name ', 'Study ID', 'Research_no', 'Deposited before ', 'Sex', 'QC', 'Batch', 'Spaceranger', 'old_sample_name', 'annotation version', 'path', 'updated pipeline', 'L1_knn1', 'L0_KNN10', 'for mapping ', 'batch', 'cma_v1', '_indices', '_scvi_batch', '_scvi_labels', 'B-memory', 'B-naive', 'B-plasma', 'CD8aaII_immature', 'CD8aaII_mature', 'CD8aaI_immature', 'CD8aaI_mature', 'DC1', 'DC2', 'DP(P)_early', 'DP(P)_late', 'DP(Q)_CD199', 'DP(Q)_CD99_CD31hi', 'DP(Q)_CD99_CD31lo', 'DP(Q)_HSPH1', 'DP(Q)_Th2', 'DP(Q)_early', 'DP(Q)_rearr', 'DP_4hi8lo', 'DP_early_CD31', 'DP_pos_sel', 'EC-Art', 'EC-Art-ELN', 'EC-Cap', 'EC-Lymphatic', 'EC-Ven', 'InterloFb', 'Macrophage-APOC2', 'Macrophage-SPIC1', 'Monocyte_IL1B', 'Myelocyte', 'NKT_dev', 'NK_circ_56hi16lo', 'NK_tr_itg_hi', 'NK_tr_itg_lo', 'Neutrophil', 'Pericyte', 'Pericyte_CCL19', 'Pericyte_COL1A1', 'PeriloFb', 'SMC', 'SP_CD4_immature', 'SP_CD4_mature', 'SP_CD4_semimature', 'SP_CD8_immature', 'SP_CD8_mature', 'SP_CD8_memory', 'SP_CD8_semimature', 'SP_Treg_CD8', 'SP_Treg_PD1', 'SP_Treg_immature', 'SP_Treg_mature', 'SP_Treg_recirc', 'TEC-cilliated', 'TEC-myo', 'TEC-neuro', 'aDC1', 'aDC2', 'aDC3', 'cTECI', 'cTECII', 'cTECIII', 'committed_CD4neg', 'committed_CD4neg(P)', 'committed_CD4pos', 'committed_CD4pos(P)', 'gdT_Vd2', 'gdT_immature', 'gdT_mature', 'gdT_semimature', 'mTECI', 'mTECI-trans', 'mTECII', 'mTECIII', 'mcTEC', 'medFB-MHCIIh', 'medFb', 'medFb-RGS5', 'pDC', 'uncommitted', 'tot_cell_abundance', 'detection_sensit'\n",
       "    var: 'ENSEMBL', 'feature_types', 'genome', 'SYMBOL', 'mt'\n",
       "    uns: '_scvi_manager_uuid', '_scvi_uuid', 'hires_grid', 'hires_grid_diam', 'hires_grid_ppm', 'mod', 'spatial', 'visium_ppm'\n",
       "    obsm: 'MT', '_scvi_extra_categorical_covs', '_scvi_extra_continuous_covs', 'means_cell_abundance_w_sf', 'q05_cell_abundance_w_sf', 'q95_cell_abundance_w_sf', 'spatial', 'stds_cell_abundance_w_sf'"
      ]
     },
     "execution_count": 9,
     "metadata": {},
     "output_type": "execute_result"
    }
   ],
   "source": [
    "# remove outdated annotations \n",
    "annotations_to_remove = ['L2_dist_Annotation_lv_0_Artifacts', 'L2_dist_Annotation_lv_0_Background', \n",
    "                         'L2_dist_Annotation_lv_0_Cortex', 'L2_dist_Annotation_lv_0_Edge', 'L2_dist_Annotation_lv_0_Medulla', \n",
    "                         'L2_dist_log10_Annotation_lv_1_HS', 'Annotation_lv_1', 'L2_dist_log10_Annotation_lv_1_Lymph', \n",
    "                         'L2_dist_log10_Annotation_lv_1_PVS', 'L2_dist_log10_Annotation_lv_1_Unassigned', 'Annotation_lobules', \n",
    "                         'L2_dist_Annotation_lv_0_Unassigned', 'Annotation_lobules_0', \n",
    "                         'Annotation_lobules_1', 'L2_dist_log10_Annotation_lv_1_Fat', 'Leiden_0_5', \n",
    "                         'L2_dist_log10_Annotation_lv_1_Large vessel']\n",
    "\n",
    "adata_cite_full.obs.drop(columns=annotations_to_remove, errors='ignore', inplace=True)\n",
    "adata_cite_full.obs.rename(columns={'Cortico_Medullar_Axis': 'cma_v1'}, inplace=True)\n",
    "adata_cite_full.obs.rename(columns={'Annotation_lv_0': 'old_annotations_level_0'}, inplace=True)\n",
    "\n",
    "\n",
    "adata_cite_full"
   ]
  },
  {
   "cell_type": "code",
   "execution_count": 10,
   "id": "enabling-advertising",
   "metadata": {},
   "outputs": [],
   "source": [
    "# assign nice colors "
   ]
  },
  {
   "cell_type": "code",
   "execution_count": 11,
   "id": "everyday-eleven",
   "metadata": {},
   "outputs": [],
   "source": [
    "# specify the colors for your categories\n",
    "# color mapping\n",
    "colors_dict = {'unassigned': 'gray', 'PVS': 'red', 'HS': 'green', 'vessels': 'blue', 'lymph':'red','Cortex': 'cyan', 'Medulla': 'green', 'Edge': 'brown', 'Artifacts': 'black'}\n",
    "\n",
    "\n",
    "\n",
    "# get the categories in your data\n",
    "categories = adata_cite_full.obs['annotations_level_0'].cat.categories\n",
    "\n",
    "# map the colors to the categories\n",
    "colors = []\n",
    "for cat in categories:\n",
    "    try:\n",
    "        colors.append(colors_dict[cat])\n",
    "    except KeyError:  # cat is not found in colors_dict\n",
    "        colors.append('gray')  # use a default color\n",
    "\n",
    "# assign the colors\n",
    "adata_cite_full.uns['annotations_level_0_colors'] = colors\n",
    "\n",
    "# get the categories in your data\n",
    "categories = adata_cite_full.obs['annotations_level_1'].cat.categories\n",
    "\n",
    "# map the colors to the categories\n",
    "colors = []\n",
    "for cat in categories:\n",
    "    try:\n",
    "        colors.append(colors_dict[cat])\n",
    "    except KeyError:  # cat is not found in colors_dict\n",
    "        colors.append('gray')  # use a default color\n",
    "\n",
    "# assign the colors\n",
    "adata_cite_full.uns['annotations_level_1_colors'] = colors\n",
    "\n"
   ]
  },
  {
   "cell_type": "code",
   "execution_count": 12,
   "id": "designed-problem",
   "metadata": {},
   "outputs": [
    {
     "data": {
      "text/plain": [
       "AnnData object with n_obs × n_vars = 38245 × 36601\n",
       "    obs: 'Sample', 'Sample_hr', 'SampleID', 'SlideID', 'Position', 'in_tissue', 'array_row', 'array_col', 'x', 'y', 'n_genes_by_counts', 'log1p_n_genes_by_counts', 'total_counts', 'log1p_total_counts', 'percent_mito', 'annotations_level_0', 'annotations_level_0_number', 'annotations_level_1', 'annotations_level_1_number', 'annotations_lobules_0', 'annotations_lobules_0_number', 'L2_dist_annotations_level_0_Artifacts', 'L2_dist_annotations_level_0_Cortex', 'L2_dist_annotations_level_0_Edge', 'L2_dist_annotations_level_0_Medulla', 'L2_dist_annotations_level_1_HS', 'L2_dist_annotations_level_1_PVS', 'L2_dist_annotations_level_1_fat', 'L2_dist_annotations_level_1_vessels', 'L2_dist_annotations_level_0_lymph', 'L2_dist_annotations_level_1_unassigned', 'cm', 'cc', 'cma_v2', 'manual_bin_cma_v2', 'manual_bin_cma_v2_int', 'Image_name', 'Image_jpg', 'section_thickness (um)', 'permebialisation(min)', 'RIN/DV200', 'Visium_type', 'Funding', 'Sequencer', 'DonorID', 'Donor_type', 'Age_group', 'Age(misc)', 'Age(numeric)', 'Source', 'Study', 'Study name ', 'Study ID', 'Research_no', 'Deposited before ', 'Sex', 'QC', 'Batch', 'Spaceranger', 'old_sample_name', 'annotation version', 'path', 'updated pipeline', 'L1_knn1', 'L0_KNN10', 'for mapping ', 'batch', 'cma_v1', '_indices', '_scvi_batch', '_scvi_labels', 'B-memory', 'B-naive', 'B-plasma', 'CD8aaII_immature', 'CD8aaII_mature', 'CD8aaI_immature', 'CD8aaI_mature', 'DC1', 'DC2', 'DP(P)_early', 'DP(P)_late', 'DP(Q)_CD199', 'DP(Q)_CD99_CD31hi', 'DP(Q)_CD99_CD31lo', 'DP(Q)_HSPH1', 'DP(Q)_Th2', 'DP(Q)_early', 'DP(Q)_rearr', 'DP_4hi8lo', 'DP_early_CD31', 'DP_pos_sel', 'EC-Art', 'EC-Art-ELN', 'EC-Cap', 'EC-Lymphatic', 'EC-Ven', 'InterloFb', 'Macrophage-APOC2', 'Macrophage-SPIC1', 'Monocyte_IL1B', 'Myelocyte', 'NKT_dev', 'NK_circ_56hi16lo', 'NK_tr_itg_hi', 'NK_tr_itg_lo', 'Neutrophil', 'Pericyte', 'Pericyte_CCL19', 'Pericyte_COL1A1', 'PeriloFb', 'SMC', 'SP_CD4_immature', 'SP_CD4_mature', 'SP_CD4_semimature', 'SP_CD8_immature', 'SP_CD8_mature', 'SP_CD8_memory', 'SP_CD8_semimature', 'SP_Treg_CD8', 'SP_Treg_PD1', 'SP_Treg_immature', 'SP_Treg_mature', 'SP_Treg_recirc', 'TEC-cilliated', 'TEC-myo', 'TEC-neuro', 'aDC1', 'aDC2', 'aDC3', 'cTECI', 'cTECII', 'cTECIII', 'committed_CD4neg', 'committed_CD4neg(P)', 'committed_CD4pos', 'committed_CD4pos(P)', 'gdT_Vd2', 'gdT_immature', 'gdT_mature', 'gdT_semimature', 'mTECI', 'mTECI-trans', 'mTECII', 'mTECIII', 'mcTEC', 'medFB-MHCIIh', 'medFb', 'medFb-RGS5', 'pDC', 'uncommitted', 'tot_cell_abundance', 'detection_sensit'\n",
       "    var: 'ENSEMBL', 'feature_types', 'genome', 'SYMBOL', 'mt'\n",
       "    uns: '_scvi_manager_uuid', '_scvi_uuid', 'hires_grid', 'hires_grid_diam', 'hires_grid_ppm', 'mod', 'spatial', 'visium_ppm', 'annotations_level_0_colors', 'annotations_level_1_colors'\n",
       "    obsm: 'MT', '_scvi_extra_categorical_covs', '_scvi_extra_continuous_covs', 'means_cell_abundance_w_sf', 'q05_cell_abundance_w_sf', 'q95_cell_abundance_w_sf', 'spatial', 'stds_cell_abundance_w_sf'"
      ]
     },
     "execution_count": 12,
     "metadata": {},
     "output_type": "execute_result"
    }
   ],
   "source": [
    "adata_cite_full"
   ]
  },
  {
   "cell_type": "code",
   "execution_count": 14,
   "id": "sudden-times",
   "metadata": {},
   "outputs": [],
   "source": [
    "os.chdir('/nfs/team205/ny1/ThymusSpatialAtlas/new_Figure6/')\n",
    "adata_cite_full.write_h5ad('adata_cite_full_v11.h5ad')"
   ]
  },
  {
   "cell_type": "code",
   "execution_count": null,
   "id": "located-invention",
   "metadata": {},
   "outputs": [],
   "source": []
  }
 ],
 "metadata": {
  "kernelspec": {
   "display_name": "scvi-env",
   "language": "python",
   "name": "scvi-env"
  },
  "language_info": {
   "codemirror_mode": {
    "name": "ipython",
    "version": 3
   },
   "file_extension": ".py",
   "mimetype": "text/x-python",
   "name": "python",
   "nbconvert_exporter": "python",
   "pygments_lexer": "ipython3",
   "version": "3.9.12"
  }
 },
 "nbformat": 4,
 "nbformat_minor": 5
}
