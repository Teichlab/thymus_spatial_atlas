{
 "cells": [
  {
   "cell_type": "markdown",
   "id": "cbfc06f5",
   "metadata": {},
   "source": [
    "# CITEseq data analysis\n",
    "\n",
    "*Author: Lena Boehme, Taghon lab, 2023*\n",
    "\n",
    "## Pseudotime analysis of the CD4 vs. CD8 lineage\n",
    "\n",
    "We carry out trajectory analysis on the abT cell lineages using slingshot. This allows us to track gene/protein expression patterns over time.\n",
    "\n",
    "### Setup"
   ]
  },
  {
   "cell_type": "code",
   "execution_count": null,
   "id": "bd6a49ac",
   "metadata": {},
   "outputs": [],
   "source": [
    "setwd(\"/home/lenab/Documents/scSeq_analyses/B_TotalThymus_CITEseq/2022_TotalThymus_CITEseq_HTA/objects\")"
   ]
  },
  {
   "cell_type": "code",
   "execution_count": null,
   "id": "6619675d",
   "metadata": {},
   "outputs": [],
   "source": [
    "#default plotting settings\n",
    "\n",
    "options(repr.plot.width=12, repr.plot.height=6)\n",
    "\n",
    "options(scipen=100) #avoid scientific notation of numbers"
   ]
  },
  {
   "cell_type": "code",
   "execution_count": null,
   "id": "084b3074",
   "metadata": {
    "scrolled": true
   },
   "outputs": [],
   "source": [
    "library(SeuratDisk)\n",
    "library(Seurat)\n",
    "library(matrixStats)\n",
    "library(ggplot2)\n",
    "library(pheatmap)\n",
    "library(reshape2)\n",
    "library(dplyr)\n",
    "library(tidyr)\n",
    "library(viridis)\n",
    "library(RColorBrewer)\n",
    "library(stringr)\n",
    "library(batchelor)\n",
    "library(BiocParallel)\n",
    "library(BiocNeighbors)\n",
    "library(slingshot)\n",
    "library(tradeSeq)\n",
    "library(SingleCellExperiment)\n",
    "library(scater)\n",
    "library(destiny)\n",
    "library(pals)"
   ]
  },
  {
   "cell_type": "code",
   "execution_count": null,
   "id": "27017700",
   "metadata": {},
   "outputs": [],
   "source": [
    "sessionInfo()"
   ]
  },
  {
   "cell_type": "code",
   "execution_count": null,
   "id": "b72d9fd6",
   "metadata": {},
   "outputs": [],
   "source": [
    "pal38 <- colorRampPalette(brewer.pal(12, \"Paired\"))(38)\n",
    "pal16 <- brewer.paired(16)\n",
    "pal8 <- brewer.paired(8)"
   ]
  },
  {
   "cell_type": "code",
   "execution_count": null,
   "id": "2656f721",
   "metadata": {
    "scrolled": true
   },
   "outputs": [],
   "source": [
    "seurObj_CITE <- LoadH5Seurat('./HTA2_v17_annonew2.h5seurat')"
   ]
  },
  {
   "cell_type": "markdown",
   "id": "5ac67fee",
   "metadata": {},
   "source": [
    "#### Trajectory analysis on post-positive selection T cells\n",
    "\n",
    "Conventional ab T cells as well as Tregs and CD8aa IELs develop from DP thymocytes, so cells from all of these lineages are included in the analysis (in contrast to gdT cells, which arise earlier in thymocyte development)."
   ]
  },
  {
   "cell_type": "code",
   "execution_count": null,
   "id": "58035092",
   "metadata": {
    "scrolled": false
   },
   "outputs": [],
   "source": [
    "table(seurObj_CITE$anno_CITE_4v3)"
   ]
  },
  {
   "cell_type": "code",
   "execution_count": null,
   "id": "50d22ea5",
   "metadata": {},
   "outputs": [],
   "source": [
    "seurObj_CITE_SP <- subset(seurObj_CITE, subset=anno_CITE_4v3 %in% c('DP_4hi8lo', 'DP_pos_sel','SP_CD4_immature', 'SP_CD4_mature', 'SP_CD4_semimature', 'SP_CD8_immature', 'SP_CD8_mature', 'SP_CD8_semimature', 'SP_Treg_CD8', 'SP_Treg_immature', 'SP_Treg_mature', 'SP_Treg_PD1', 'CD8aaI_immature', 'CD8aaI_mature', 'CD8aaII_immature', 'CD8aaII_mature'))"
   ]
  },
  {
   "cell_type": "code",
   "execution_count": null,
   "id": "f183ef31",
   "metadata": {},
   "outputs": [],
   "source": [
    "seurObj_CITE_SP"
   ]
  },
  {
   "cell_type": "code",
   "execution_count": null,
   "id": "0e168f70",
   "metadata": {},
   "outputs": [],
   "source": [
    "seurObj_CITE_SP <- seurObj_CITE_SP  %>%\n",
    "            FindVariableFeatures(assay='ADTdsb') %>%\n",
    "            ScaleData(assay = 'ADTdsb') %>%\n",
    "            RunPCA(assay = 'ADTdsb', npcs = 50, reduction.name = 'pca_adt_SP')"
   ]
  },
  {
   "cell_type": "code",
   "execution_count": null,
   "id": "4b2b0c3d",
   "metadata": {},
   "outputs": [],
   "source": [
    "MNN <- reducedMNN(seurObj_CITE_SP@reductions$pca_adt_SP@cell.embeddings,\n",
    "                 batch=seurObj_CITE_SP$sample,\n",
    "                 BPPARAM=MulticoreParam(workers=12), #parallelisation\n",
    "                 BNPARAM=HnswParam())\n",
    "seurObj_CITE_SP[[\"mnn_adt_SP\"]] <- CreateDimReducObject(embeddings=MNN$corrected,\n",
    "                                        assay=\"ADTdsb\",\n",
    "                                        key=\"mnn_\")"
   ]
  },
  {
   "cell_type": "code",
   "execution_count": null,
   "id": "1fc95f42",
   "metadata": {},
   "outputs": [],
   "source": [
    "seurObj_CITE_SP <- seurObj_CITE_SP  %>%\n",
    "            FindVariableFeatures(assay='RNA') %>%\n",
    "            ScaleData(assay = 'RNA') %>%\n",
    "            RunPCA(assay = 'RNA', npcs = 50, reduction.name = 'pca_rna_SP')"
   ]
  },
  {
   "cell_type": "code",
   "execution_count": null,
   "id": "1157a275",
   "metadata": {},
   "outputs": [],
   "source": [
    "MNN <- reducedMNN(seurObj_CITE_SP@reductions$pca_rna_SP@cell.embeddings,\n",
    "                 batch=seurObj_CITE_SP$sample,\n",
    "                 BPPARAM=MulticoreParam(workers=12), #parallelisation\n",
    "                 BNPARAM=HnswParam())\n",
    "seurObj_CITE_SP[[\"mnn_rna_SP\"]] <- CreateDimReducObject(embeddings=MNN$corrected,\n",
    "                                        assay=\"RNA\",\n",
    "                                        key=\"mnn_\")"
   ]
  },
  {
   "cell_type": "code",
   "execution_count": null,
   "id": "0dfe4be1",
   "metadata": {},
   "outputs": [],
   "source": [
    "var_pc <- seurObj_CITE_SP@reductions$pca_adt_SP@stdev/sum(seurObj_CITE_SP@reductions$pca_adt_SP@stdev)*100\n",
    "diffvar_pc <- var_pc[1:length(var_pc)-1] - var_pc[2:length(var_pc)]\n",
    "dim_adt_SP <- sort(which(diffvar_pc >0.1), decreasing=TRUE)[1]+1\n",
    "dim_adt_SP\n",
    "\n",
    "var_pc <- seurObj_CITE_SP@reductions$pca_rna_SP@stdev/sum(seurObj_CITE_SP@reductions$pca_rna_SP@stdev)*100\n",
    "diffvar_pc <- var_pc[1:length(var_pc)-1] - var_pc[2:length(var_pc)]\n",
    "dim_rna_SP <- sort(which(diffvar_pc >0.1), decreasing=TRUE)[1]+1\n",
    "dim_rna_SP\n",
    "\n",
    "seurObj_CITE_SP <- FindMultiModalNeighbors(seurObj_CITE_SP,\n",
    "                                  reduction.list=list('mnn_adt_SP', 'mnn_rna_SP'),\n",
    "                                   dims.list=list(1:dim_adt_SP,1:dim_rna_SP))"
   ]
  },
  {
   "cell_type": "code",
   "execution_count": null,
   "id": "c68f78b9",
   "metadata": {
    "scrolled": false
   },
   "outputs": [],
   "source": [
    "seurObj_CITE_SP <- RunUMAP(seurObj_CITE_SP, nn.name = \"weighted.nn\", seed.use = 123, reduction.name = \"umap_wnn_SP\",\n",
    "                        reduction.key = \"wnnUMAP_\")"
   ]
  },
  {
   "cell_type": "code",
   "execution_count": null,
   "id": "621a7a6e",
   "metadata": {},
   "outputs": [],
   "source": [
    "options(repr.plot.width=9, repr.plot.height=7)\n",
    "\n",
    "DimPlot(seurObj_CITE_SP, reduction = 'umap_wnn_SP', group.by = 'anno_CITE_4v2', shuffle=T, pt.size = 0.5, cols=pal16)"
   ]
  },
  {
   "cell_type": "code",
   "execution_count": null,
   "id": "536f20d8",
   "metadata": {},
   "outputs": [],
   "source": [
    "SCE_SP <- as.SingleCellExperiment(seurObj_CITE_SP)"
   ]
  },
  {
   "cell_type": "code",
   "execution_count": null,
   "id": "b1c917cc",
   "metadata": {},
   "outputs": [],
   "source": [
    "reducedDim(SCE_SP, type='UMAP_WNN') <- seurObj_CITE_SP@reductions$umap_wnn@cell.embeddings\n",
    "reducedDim(SCE_SP, type='UMAP_WNN_SP') <- seurObj_CITE_SP@reductions$umap_wnn_SP@cell.embeddings"
   ]
  },
  {
   "cell_type": "code",
   "execution_count": null,
   "id": "58818ba9",
   "metadata": {},
   "outputs": [],
   "source": [
    "lineages_SP_StEnd_mnn2 <- getLineages(reducedDims(SCE_SP)$UMAP_WNN_SP, dist.method='mnn', clusterLabels=seurObj_CITE_SP$anno_CITE_4v2, start.clus='DP_pos_sel', end.clus=c('SP_CD4_mature', 'SP_CD8_mature', 'SP_Treg_mature', 'CD8aaII_mature'))\n"
   ]
  },
  {
   "cell_type": "code",
   "execution_count": null,
   "id": "3b687655",
   "metadata": {},
   "outputs": [],
   "source": [
    "curves_SP_mnn2 <-getCurves(lineages_SP_StEnd_mnn2, extend=\"n\", stretch=0)\n"
   ]
  },
  {
   "cell_type": "code",
   "execution_count": null,
   "id": "26839bd8",
   "metadata": {},
   "outputs": [],
   "source": [
    "options(repr.plot.width=8, repr.plot.height=8)\n",
    "\n",
    "plot(reducedDims(SCE_SP)$UMAP_WNN_SP, col = pal16[as.numeric(clusters_SP[as.character(seurObj_CITE_SP$anno_CITE_4v2)])],\n",
    "    pch = 16, cex=0.5, main=\"Start + Ends - mnn\")\n",
    "lines(SlingshotDataSet(lineages_SP_StEnd_mnn2), col = 'black', show.constraints = TRUE)\n",
    "lines(SlingshotDataSet(curves_SP_mnn2), col = 'blue', show.constraints = TRUE)"
   ]
  },
  {
   "cell_type": "code",
   "execution_count": null,
   "id": "75f45e14",
   "metadata": {},
   "outputs": [],
   "source": [
    "slingLineages(curves_SP_mnn2)"
   ]
  },
  {
   "cell_type": "code",
   "execution_count": null,
   "id": "64659af7",
   "metadata": {},
   "outputs": [],
   "source": [
    "par(mfrow = c(3, 2))\n",
    "options(repr.plot.width=10, repr.plot.height=15)\n",
    "\n",
    "pseudotime_SP <- slingPseudotime(curves_SP_mnn2)\n",
    "names_lineages_SP <- colnames(pseudotime_SP)\n",
    "\n",
    "for (i in names_lineages_SP) {\n",
    "plotcol <- colors_pseudotime[cut(pseudotime_SP[,i], breaks=100)]\n",
    "    plot(reducedDims(SCE_SP)$UMAP_WNN_SP, col = plotcol,\n",
    "     pch = 16, cex=0.5, main=paste(i, '-', tail(slingLineages(curves_SP_mnn2)[[i]],1)))\n",
    "    lines(slingCurves(curves_SP_mnn2)[[i]], col = 'black') #plots only the relevant curve\n",
    "    lines(SlingshotDataSet(lineages_SP_StEnd_mnn2), col = 'grey30', show.constraints = TRUE, type = \"l\", lty = \"dashed\")\n",
    "}"
   ]
  },
  {
   "cell_type": "code",
   "execution_count": null,
   "id": "caff0c0d",
   "metadata": {
    "scrolled": true
   },
   "outputs": [],
   "source": [
    "pseudotime_SP.df <- data.frame(pseudotime_SP)\n",
    "pseudotime_SP.df$anno <- seurObj_CITE_SP$anno_CITE_4v2[rownames(pseudotime_SP.df)]\n",
    "\n",
    "pseudotime_SP.df %>% head"
   ]
  },
  {
   "cell_type": "code",
   "execution_count": null,
   "id": "2e315b77",
   "metadata": {
    "scrolled": false
   },
   "outputs": [],
   "source": [
    "options(repr.plot.width=10, repr.plot.height=8)\n",
    "\n",
    "for (i in 1:length(names_lineages_SP)){\n",
    "print(\n",
    "    ggplot(pseudotime_SP.df, aes(x = pseudotime_SP.df[,i], y = anno, colour = anno)) +\n",
    "    geom_jitter(size=1) +\n",
    "    theme_classic() +\n",
    "    xlab(\"Pseudotime\") + ylab(\"Celltype\") +\n",
    "    scale_color_manual(values = pal16)+\n",
    "    ggtitle(paste(\"Cells of\", colnames(pseudotime_SP.df)[i], \"ordered by pseudotime\", sep=' '))\n",
    "    )\n",
    "}"
   ]
  },
  {
   "cell_type": "markdown",
   "id": "227dca28",
   "metadata": {},
   "source": [
    "Add pseudotimes to main object:"
   ]
  },
  {
   "cell_type": "code",
   "execution_count": null,
   "id": "8424703b",
   "metadata": {},
   "outputs": [],
   "source": [
    "seurObj_CITE$spt_spca_SP_Treg <- 'NA'\n",
    "seurObj_CITE$spt_spca_SP_CD8aa <- 'NA'\n",
    "seurObj_CITE$spt_spca_SP_CD4 <- 'NA'\n",
    "seurObj_CITE$spt_spca_SP_CD8 <- 'NA'\n",
    "seurObj_CITE$spt_spca_SP_TregCD8 <- 'NA'\n",
    "\n",
    "seurObj_CITE@meta.data[rownames(pseudotime_SP.df),'spt_spca_SP_Treg'] <- pseudotime_SP.df$Lineage1\n",
    "seurObj_CITE@meta.data[rownames(pseudotime_SP.df),'spt_spca_SP_CD8aa'] <- pseudotime_SP.df$Lineage2\n",
    "seurObj_CITE@meta.data[rownames(pseudotime_SP.df),'spt_spca_SP_CD4'] <- pseudotime_SP.df$Lineage3\n",
    "seurObj_CITE@meta.data[rownames(pseudotime_SP.df),'spt_spca_SP_CD8'] <- pseudotime_SP.df$Lineage4\n",
    "seurObj_CITE@meta.data[rownames(pseudotime_SP.df),'spt_spca_SP_TregCD8'] <- pseudotime_SP.df$Lineage5"
   ]
  },
  {
   "cell_type": "code",
   "execution_count": null,
   "id": "30b41951",
   "metadata": {},
   "outputs": [],
   "source": [
    "for (i in 230:242){\n",
    "seurObj_CITE@meta.data[,i] <- as.numeric(seurObj_CITE@meta.data[,i])\n",
    "    }"
   ]
  },
  {
   "cell_type": "markdown",
   "id": "12bcbc87",
   "metadata": {},
   "source": [
    "#### Reassessing lineage annotations\n",
    "\n",
    "According to the the binned CMA mapping CD4hi8lo and CD8 immature cells map to the cortex but CD4 immature cells already to the medulla. This suggests that either CD4 and CD8 lineage cells behave differently after the commitment or the CD4hi8lo annotation contains CD4-committed cells."
   ]
  },
  {
   "cell_type": "code",
   "execution_count": null,
   "id": "660f2191",
   "metadata": {},
   "outputs": [],
   "source": [
    "seurObj_CITE_4vs8 <- subset(seurObj_CITE, subset = anno_CITE_4v2 %in% c('DP_pos_sel','DP_4hi8lo','SP_CD4_immature', 'SP_CD4_semimature', 'SP_CD4_mature', 'SP_CD8_immature', 'SP_CD8_semimature', 'SP_CD8_mature'))"
   ]
  },
  {
   "cell_type": "code",
   "execution_count": null,
   "id": "c21bb46d",
   "metadata": {},
   "outputs": [],
   "source": [
    "seurObj_CITE_4vs8 <- seurObj_CITE_4vs8  %>%\n",
    "            FindVariableFeatures(assay='ADTdsb') %>%\n",
    "            ScaleData(assay = 'ADTdsb') %>%\n",
    "            RunPCA(assay = 'ADTdsb', npcs = 50, reduction.name = 'pca_adt_4vs8')"
   ]
  },
  {
   "cell_type": "code",
   "execution_count": null,
   "id": "782761b5",
   "metadata": {},
   "outputs": [],
   "source": [
    "MNN <- reducedMNN(seurObj_CITE_4vs8@reductions$pca_adt_4vs8@cell.embeddings,\n",
    "                 batch=seurObj_CITE_4vs8$sample,\n",
    "                 BPPARAM=MulticoreParam(workers=12), #parallelisation\n",
    "                 BNPARAM=HnswParam())\n",
    "seurObj_CITE_4vs8[[\"mnn_adt_4vs8\"]] <- CreateDimReducObject(embeddings=MNN$corrected,\n",
    "                                        assay=\"ADTdsb\",\n",
    "                                        key=\"mnn_\")"
   ]
  },
  {
   "cell_type": "code",
   "execution_count": null,
   "id": "9cfb94ec",
   "metadata": {},
   "outputs": [],
   "source": [
    "seurObj_CITE_4vs8 <- seurObj_CITE_4vs8  %>%\n",
    "            FindVariableFeatures(assay='RNA') %>%\n",
    "            ScaleData(assay = 'RNA') %>%\n",
    "            RunPCA(assay = 'RNA', npcs = 50, reduction.name = 'pca_rna_4vs8')"
   ]
  },
  {
   "cell_type": "code",
   "execution_count": null,
   "id": "9ea7ef62",
   "metadata": {},
   "outputs": [],
   "source": [
    "MNN <- reducedMNN(seurObj_CITE_4vs8@reductions$pca_rna_4vs8@cell.embeddings,\n",
    "                 batch=seurObj_CITE_4vs8$sample,\n",
    "                 BPPARAM=MulticoreParam(workers=12), #parallelisation\n",
    "                 BNPARAM=HnswParam())\n",
    "seurObj_CITE_4vs8[[\"mnn_rna_4vs8\"]] <- CreateDimReducObject(embeddings=MNN$corrected,\n",
    "                                        assay=\"RNA\",\n",
    "                                        key=\"mnn_\")"
   ]
  },
  {
   "cell_type": "code",
   "execution_count": null,
   "id": "5ab85b4f",
   "metadata": {},
   "outputs": [],
   "source": [
    "var_pc <- seurObj_CITE_4vs8@reductions$pca_adt_4vs8@stdev/sum(seurObj_CITE_4vs8@reductions$pca_adt_4vs8@stdev)*100\n",
    "diffvar_pc <- var_pc[1:length(var_pc)-1] - var_pc[2:length(var_pc)]\n",
    "dim_adt_4vs8 <- sort(which(diffvar_pc >0.1), decreasing=TRUE)[1]+1\n",
    "dim_adt_4vs8\n",
    "\n",
    "var_pc <- seurObj_CITE_4vs8@reductions$pca_rna_4vs8@stdev/sum(seurObj_CITE_4vs8@reductions$pca_rna_4vs8@stdev)*100\n",
    "diffvar_pc <- var_pc[1:length(var_pc)-1] - var_pc[2:length(var_pc)]\n",
    "dim_rna_4vs8 <- sort(which(diffvar_pc >0.1), decreasing=TRUE)[1]+1\n",
    "dim_rna_4vs8\n",
    "\n",
    "seurObj_CITE_4vs8 <- FindMultiModalNeighbors(seurObj_CITE_4vs8,\n",
    "                                  reduction.list=list('mnn_adt_4vs8', 'mnn_rna_4vs8'),\n",
    "                                   dims.list=list(1:dim_adt_4vs8,1:dim_rna_4vs8))"
   ]
  },
  {
   "cell_type": "code",
   "execution_count": null,
   "id": "94e8468f",
   "metadata": {},
   "outputs": [],
   "source": [
    "seurObj_CITE_4vs8 <- RunUMAP(seurObj_CITE_4vs8, nn.name = \"weighted.nn\", seed.use = 123, reduction.name = \"umap_wnn_4vs8\",\n",
    "                        reduction.key = \"wnnUMAP_\")"
   ]
  },
  {
   "cell_type": "code",
   "execution_count": null,
   "id": "a0f3cf45",
   "metadata": {},
   "outputs": [],
   "source": [
    "seurObj_CITE_4vs8 <- RunSPCA(seurObj_CITE_4vs8, graph='wsnn')"
   ]
  },
  {
   "cell_type": "code",
   "execution_count": null,
   "id": "1f689a39",
   "metadata": {},
   "outputs": [],
   "source": [
    "options(repr.plot.width=9, repr.plot.height=7)\n",
    "\n",
    "DimPlot(seurObj_CITE_4vs8, reduction = 'umap_wnn_4vs8', group.by = 'anno_CITE_4v2', shuffle=T, pt.size = 0.5, cols=pal8)"
   ]
  },
  {
   "cell_type": "code",
   "execution_count": null,
   "id": "394c004e",
   "metadata": {},
   "outputs": [],
   "source": [
    "options(repr.plot.width=16, repr.plot.height=7)\n",
    "\n",
    "FeaturePlot(seurObj_CITE_4vs8, reduction = 'umap_wnn_4vs8', features = c('spt_spca_SP_CD4', 'spt_spca_SP_CD8'),pt.size = 0.5, cols=viridis(100))"
   ]
  },
  {
   "cell_type": "code",
   "execution_count": null,
   "id": "a7bb1558",
   "metadata": {},
   "outputs": [],
   "source": [
    "options(repr.plot.width=8, repr.plot.height=5)\n",
    "\n",
    "ggplot(seurObj_CITE_4vs8@meta.data, aes(x = as.numeric(spt_spca_SP_CD8), y = anno_CITE_4v2, colour = !is.na(as.numeric(spt_spca_SP_CD4)))) +\n",
    "geom_jitter(size=0.3, alpha=0.5) +\n",
    "theme_classic() +\n",
    "labs(x=\"Pseudotime\", y=\"Celltype\", title='Cells ordered according to CD8 developmental pseudotime', colour='Also included in \\nCD4 pseudotime')"
   ]
  },
  {
   "cell_type": "markdown",
   "id": "bf2086fb",
   "metadata": {},
   "source": [
    "Pseudotime analysis and comparison with annotations shows that several cells annotated as CD4 lineage are included in the CD8 lineage pseudotime and vice versa. On the other hand there are cells in the DP_4hilo subset that have no lineage pseudotime or only for one of the lineages. We can distinguish these cells and check if the annotations are indeed appropriate.\n",
    "\n",
    "DP_4hi8lo subsets:\n",
    "\n",
    "1: early pseudotime for both lineages\n",
    "\n",
    "2: late pseudotime for both lineages\n",
    "\n",
    "3: pseudotime CD8 >> CD4\n",
    "\n",
    "4: only CD4 pseudotime\n",
    "\n",
    "5: only CD8 pseudotime\n",
    "\n",
    "6: no pseudotime"
   ]
  },
  {
   "cell_type": "code",
   "execution_count": null,
   "id": "852a41b5",
   "metadata": {},
   "outputs": [],
   "source": [
    "seurObj_CITE_4vs8$anno_CITE_4v4 <- as.character(seurObj_CITE_4vs8$anno_CITE_4v2)\n",
    "\n",
    "seurObj_CITE_4vs8$anno_CITE_4v4 <- ifelse(seurObj_CITE_4vs8$anno_CITE_4v2 == 'DP_4hi8lo' & !is.na(seurObj_CITE_4vs8$spt_spca_SP_CD8) & !is.na(seurObj_CITE_4vs8$spt_spca_SP_CD4), 'DP_4hi8lo_2', seurObj_CITE_4vs8$anno_CITE_4v4)\n",
    "seurObj_CITE_4vs8$anno_CITE_4v4 <- ifelse(seurObj_CITE_4vs8$anno_CITE_4v4 == 'DP_4hi8lo_2' & seurObj_CITE_4vs8$spt_spca_SP_CD8 > 4 & seurObj_CITE_4vs8$spt_spca_SP_CD4 < 3, 'DP_4hi8lo_3', seurObj_CITE_4vs8$anno_CITE_4v4)\n",
    "seurObj_CITE_4vs8$anno_CITE_4v4 <- ifelse(seurObj_CITE_4vs8$anno_CITE_4v4 == 'DP_4hi8lo_2' & seurObj_CITE_4vs8$spt_spca_SP_CD8 < 3.5 & seurObj_CITE_4vs8$spt_spca_SP_CD4 < 3.5, 'DP_4hi8lo_1', seurObj_CITE_4vs8$anno_CITE_4v4)\n",
    "seurObj_CITE_4vs8$anno_CITE_4v4 <- ifelse(seurObj_CITE_4vs8$anno_CITE_4v4 == 'DP_4hi8lo' & is.na(seurObj_CITE_4vs8$spt_spca_SP_CD8) & !is.na(seurObj_CITE_4vs8$spt_spca_SP_CD4), 'DP_4hi8lo_4', seurObj_CITE_4vs8$anno_CITE_4v4)\n",
    "seurObj_CITE_4vs8$anno_CITE_4v4 <- ifelse(seurObj_CITE_4vs8$anno_CITE_4v4 == 'DP_4hi8lo' & !is.na(seurObj_CITE_4vs8$spt_spca_SP_CD8) & is.na(seurObj_CITE_4vs8$spt_spca_SP_CD4), 'DP_4hi8lo_5', seurObj_CITE_4vs8$anno_CITE_4v4)\n",
    "seurObj_CITE_4vs8$anno_CITE_4v4 <- ifelse(seurObj_CITE_4vs8$anno_CITE_4v4 == 'DP_4hi8lo' & is.na(seurObj_CITE_4vs8$spt_spca_SP_CD8) & is.na(seurObj_CITE_4vs8$spt_spca_SP_CD4), 'DP_4hi8lo_6', seurObj_CITE_4vs8$anno_CITE_4v4)"
   ]
  },
  {
   "cell_type": "code",
   "execution_count": null,
   "id": "099a88db",
   "metadata": {},
   "outputs": [],
   "source": [
    "table(seurObj_CITE_4vs8$anno_CITE_4v4)"
   ]
  },
  {
   "cell_type": "code",
   "execution_count": null,
   "id": "63fedace",
   "metadata": {},
   "outputs": [],
   "source": [
    "options(repr.plot.width=9, repr.plot.height=7)\n",
    "\n",
    "DimPlot(seurObj_CITE_4vs8, reduction = 'umap_wnn_4vs8', group.by = 'anno_CITE_4v2', shuffle=T, pt.size = 0.5, cols=pal8)"
   ]
  },
  {
   "cell_type": "code",
   "execution_count": null,
   "id": "679405e9",
   "metadata": {},
   "outputs": [],
   "source": [
    "options(repr.plot.width=9, repr.plot.height=7)\n",
    "\n",
    "DimPlot(seurObj_CITE_4vs8, reduction = 'umap_wnn_4vs8', group.by = 'anno_CITE_4v4', shuffle=T, pt.size = 0.5, cols=brewer.paired(13))"
   ]
  },
  {
   "cell_type": "code",
   "execution_count": null,
   "id": "379ea760",
   "metadata": {},
   "outputs": [],
   "source": [
    "options(repr.plot.width=8, repr.plot.height=5)\n",
    "\n",
    "ggplot(seurObj_CITE_4vs8@meta.data, aes(x = as.numeric(spt_spca_SP_CD4), y = anno_CITE_4v4, colour = !is.na(as.numeric(spt_spca_SP_CD8)))) +\n",
    "geom_jitter(size=0.3, alpha=0.5) +\n",
    "theme_classic() +\n",
    "labs(x=\"Pseudotime\", y=\"Celltype\", title='Cells ordered according to CD4 developmental pseudotime', colour='Also included in \\nCD8 pseudotime')"
   ]
  },
  {
   "cell_type": "code",
   "execution_count": null,
   "id": "bb212cf7",
   "metadata": {},
   "outputs": [],
   "source": [
    "options(repr.plot.width=8, repr.plot.height=5)\n",
    "\n",
    "ggplot(seurObj_CITE_4vs8@meta.data, aes(x = as.numeric(spt_spca_SP_CD8), y = anno_CITE_4v4, colour = !is.na(as.numeric(spt_spca_SP_CD4)))) +\n",
    "geom_jitter(size=0.3, alpha=0.5) +\n",
    "theme_classic() +\n",
    "labs(x=\"Pseudotime\", y=\"Celltype\", title='Cells ordered according to CD8 developmental pseudotime', colour='Also included in \\nCD4 pseudotime')"
   ]
  },
  {
   "cell_type": "markdown",
   "id": "8ddfa708",
   "metadata": {},
   "source": [
    "We label cells that are annotated as one lineage but have been included in the pseudotime of the other as 'ambiguous'."
   ]
  },
  {
   "cell_type": "code",
   "execution_count": null,
   "id": "d63638ce",
   "metadata": {},
   "outputs": [],
   "source": [
    "seurObj_CITE_4vs8$anno_CITE_4v4 <- ifelse(seurObj_CITE_4vs8$anno_CITE_4v4 %in% c('SP_CD4_immature', 'SP_CD4_semimature', 'SP_CD4_mature') & !is.na(seurObj_CITE_4vs8$spt_spca_SP_CD8), 'SP_CD4_ambig', seurObj_CITE_4vs8$anno_CITE_4v4)\n",
    "seurObj_CITE_4vs8$anno_CITE_4v4 <- ifelse(seurObj_CITE_4vs8$anno_CITE_4v4 %in% c('SP_CD8_immature', 'SP_CD8_semimature', 'SP_CD8_mature') & !is.na(seurObj_CITE_4vs8$spt_spca_SP_CD4), 'SP_CD8_ambig', seurObj_CITE_4vs8$anno_CITE_4v4)\n"
   ]
  },
  {
   "cell_type": "code",
   "execution_count": null,
   "id": "aa3fc91a",
   "metadata": {},
   "outputs": [],
   "source": [
    "seurObj_CITE_4vs8$anno_CITE_4v4 <- as.factor(seurObj_CITE_4vs8$anno_CITE_4v4)\n",
    "levs <- levels(seurObj_CITE_4vs8$anno_CITE_4v4)\n",
    "seurObj_CITE_4vs8$anno_CITE_4v4 <- factor(seurObj_CITE_4vs8$anno_CITE_4v4, levels=levs[c(7,1:6,9,11,10,13,15,14,8,12)])"
   ]
  },
  {
   "cell_type": "code",
   "execution_count": null,
   "id": "708be679",
   "metadata": {},
   "outputs": [],
   "source": [
    "options(repr.plot.width=9, repr.plot.height=7)\n",
    "\n",
    "DimPlot(seurObj_CITE_4vs8, reduction = 'umap_wnn_4vs8', group.by = 'anno_CITE_4v4', shuffle=T, pt.size = 0.5, cols=brewer.paired(15))"
   ]
  },
  {
   "cell_type": "markdown",
   "id": "f0b2b286",
   "metadata": {},
   "source": [
    "We can carry out DGE analyses to determine if the CD4hiCD8lo subsets already show distinct gene expression patterns that would identify as CD4- or CD8 lineage cells."
   ]
  },
  {
   "cell_type": "code",
   "execution_count": null,
   "id": "206e5ed3",
   "metadata": {},
   "outputs": [],
   "source": [
    "Idents(seurObj_CITE_4vs8) <- seurObj_CITE_4vs8$anno_CITE_4v4\n",
    "DefaultAssay(seurObj_CITE_4vs8) <- 'RNA' #DGE on RNA level"
   ]
  },
  {
   "cell_type": "code",
   "execution_count": null,
   "id": "e9950594",
   "metadata": {},
   "outputs": [],
   "source": [
    "DPpossel_DP4hi8lo_1 <- FindMarkers(seurObj_CITE_4vs8, `ident.2` = 'DP_pos_sel', `ident.1` = 'DP_4hi8lo_1', test.use = 'roc') %>% filter(abs(avg_log2FC) > 0.8) %>% .[order(.$avg_log2FC),]\n",
    "DPpossel_DP4hi8lo_1"
   ]
  },
  {
   "cell_type": "code",
   "execution_count": null,
   "id": "de96a4ed",
   "metadata": {},
   "outputs": [],
   "source": [
    "options(repr.plot.width=22, repr.plot.height=7)\n",
    "\n",
    "DotPlot(seurObj_CITE_4vs8, features = rownames(DPpossel_DP4hi8lo_1), group.by = 'anno_CITE_4v4', scale = F)+\n",
    "theme(axis.text.x = element_text(angle=45, hjust=1))+\n",
    "scale_color_distiller(palette = 'Spectral')+\n",
    "labs(title = 'Significantly DE genes between DP_pos_sel and DP_4hi8lo_1')"
   ]
  },
  {
   "cell_type": "code",
   "execution_count": null,
   "id": "7800bebc",
   "metadata": {},
   "outputs": [],
   "source": [
    "DP4hi8lo_1_2 <- FindMarkers(seurObj_CITE_4vs8, `ident.2` = 'DP_4hi8lo_1', `ident.1` = 'DP_4hi8lo_2', test.use = 'roc') %>% filter(abs(avg_log2FC) > 0.8) %>% .[order(.$avg_log2FC),]\n",
    "DP4hi8lo_1_2"
   ]
  },
  {
   "cell_type": "code",
   "execution_count": null,
   "id": "cbbb072f",
   "metadata": {},
   "outputs": [],
   "source": [
    "options(repr.plot.width=6, repr.plot.height=7)\n",
    "\n",
    "DotPlot(seurObj_CITE_4vs8, features = rownames(DP4hi8lo_1_2), group.by = 'anno_CITE_4v4', scale = F)+\n",
    "theme(axis.text.x = element_text(angle=45, hjust=1))+\n",
    "scale_color_distiller(palette = 'Spectral')+\n",
    "labs(title = 'Significantly DE genes between \\nDP_4hi8lo_1 and DP_4hi8lo_2')"
   ]
  },
  {
   "cell_type": "code",
   "execution_count": null,
   "id": "d9f12733",
   "metadata": {},
   "outputs": [],
   "source": [
    "DP4hi8lo_2_3 <- FindMarkers(seurObj_CITE_4vs8, `ident.2` = 'DP_4hi8lo_2', `ident.1` = 'DP_4hi8lo_3', test.use = 'roc') %>% filter(abs(avg_log2FC) > 0.8) %>% .[order(.$avg_log2FC),]\n",
    "DP4hi8lo_2_3"
   ]
  },
  {
   "cell_type": "code",
   "execution_count": null,
   "id": "e7e69dea",
   "metadata": {},
   "outputs": [],
   "source": [
    "options(repr.plot.width=8, repr.plot.height=7)\n",
    "\n",
    "DotPlot(seurObj_CITE_4vs8, features = rownames(DP4hi8lo_2_3), group.by = 'anno_CITE_4v4', scale = F)+\n",
    "theme(axis.text.x = element_text(angle=45, hjust=1))+\n",
    "scale_color_distiller(palette = 'Spectral')+\n",
    "labs(title = 'Significantly DE genes between \\nDP_4hi8lo_2 and DP_4hi8lo_3')"
   ]
  },
  {
   "cell_type": "code",
   "execution_count": null,
   "id": "e6ef7bf5",
   "metadata": {},
   "outputs": [],
   "source": [
    "DP4hi8lo_1_3 <- FindMarkers(seurObj_CITE_4vs8, `ident.2` = 'DP_4hi8lo_1', `ident.1` = 'DP_4hi8lo_3', test.use = 'roc') %>% filter(abs(avg_log2FC) > 0.8) %>% .[order(.$avg_log2FC),]\n",
    "DP4hi8lo_1_3"
   ]
  },
  {
   "cell_type": "code",
   "execution_count": null,
   "id": "fbba1995",
   "metadata": {},
   "outputs": [],
   "source": [
    "DP4hi8lo_2_4 <- FindMarkers(seurObj_CITE_4vs8, `ident.1` = 'DP_4hi8lo_4', `ident.2` = 'DP_4hi8lo_2', test.use = 'roc') %>% filter(abs(avg_log2FC) > 0.8) %>% .[order(.$avg_log2FC),]\n",
    "DP4hi8lo_2_4"
   ]
  },
  {
   "cell_type": "code",
   "execution_count": null,
   "id": "449cf9eb",
   "metadata": {},
   "outputs": [],
   "source": [
    "options(repr.plot.width=6, repr.plot.height=7)\n",
    "\n",
    "DotPlot(seurObj_CITE_4vs8, features = rownames(DP4hi8lo_2_4), group.by = 'anno_CITE_4v4', scale = F)+\n",
    "theme(axis.text.x = element_text(angle=45, hjust=1))+\n",
    "scale_color_distiller(palette = 'Spectral')+\n",
    "labs(title = 'Significantly DE genes between \\nDP_4hi8lo_2 and DP_4hi8lo_4')"
   ]
  },
  {
   "cell_type": "code",
   "execution_count": null,
   "id": "ca14f9f4",
   "metadata": {},
   "outputs": [],
   "source": [
    "DP4hi8lo_2_5 <- FindMarkers(seurObj_CITE_4vs8, `ident.1` = 'DP_4hi8lo_5', `ident.2` = 'DP_4hi8lo_2', test.use = 'roc') %>% filter(abs(avg_log2FC) > 0.8) %>% .[order(.$avg_log2FC),]\n",
    "DP4hi8lo_2_5"
   ]
  },
  {
   "cell_type": "code",
   "execution_count": null,
   "id": "86cd8326",
   "metadata": {},
   "outputs": [],
   "source": [
    "options(repr.plot.width=6, repr.plot.height=7)\n",
    "\n",
    "DotPlot(seurObj_CITE_4vs8, features = rownames(DP4hi8lo_2_5), group.by = 'anno_CITE_4v4', scale = F)+\n",
    "theme(axis.text.x = element_text(angle=45, hjust=1))+\n",
    "scale_color_distiller(palette = 'Spectral')+\n",
    "labs(title = 'Significantly DE genes between \\nDP_4hi8lo_2 and DP_4hi8lo_5')"
   ]
  },
  {
   "cell_type": "code",
   "execution_count": null,
   "id": "82ae54fd",
   "metadata": {},
   "outputs": [],
   "source": [
    "DP4hi8lo_1_2_4 <- FindMarkers(seurObj_CITE_4vs8, `ident.1` = 'DP_4hi8lo_4', `ident.2` = c('DP_4hi8lo_1', 'DP_4hi8lo_2'), test.use = 'roc') %>% filter(abs(avg_log2FC) > 0.8) %>% .[order(.$avg_log2FC),]\n",
    "DP4hi8lo_1_2_4"
   ]
  },
  {
   "cell_type": "code",
   "execution_count": null,
   "id": "dc545a28",
   "metadata": {},
   "outputs": [],
   "source": [
    "options(repr.plot.width=10, repr.plot.height=7)\n",
    "\n",
    "DotPlot(seurObj_CITE_4vs8, features = rownames(DP4hi8lo_1_2_4), group.by = 'anno_CITE_4v4', scale = F)+\n",
    "theme(axis.text.x = element_text(angle=45, hjust=1))+\n",
    "scale_color_distiller(palette = 'Spectral')+\n",
    "labs(title = 'Significantly DE genes between DP_4hi8lo_1+2 and DP_4hi8lo_4')"
   ]
  },
  {
   "cell_type": "code",
   "execution_count": null,
   "id": "451a2aec",
   "metadata": {},
   "outputs": [],
   "source": [
    "DP4hi8lo_1_2_5 <- FindMarkers(seurObj_CITE_4vs8, `ident.1` = 'DP_4hi8lo_5', `ident.2` = c('DP_4hi8lo_1', 'DP_4hi8lo_2'), test.use = 'roc') %>% filter(abs(avg_log2FC) > 0.8) %>% .[order(.$avg_log2FC),]\n",
    "DP4hi8lo_1_2_5"
   ]
  },
  {
   "cell_type": "code",
   "execution_count": null,
   "id": "570217fc",
   "metadata": {},
   "outputs": [],
   "source": [
    "DP4hi8lo_4_SP4im <- FindMarkers(seurObj_CITE_4vs8, `ident.2` = 'DP_4hi8lo_4', `ident.1` = 'SP_CD4_immature', test.use = 'roc') %>% filter(abs(avg_log2FC) > 0.8) %>% .[order(.$avg_log2FC),]\n",
    "DP4hi8lo_4_SP4im"
   ]
  },
  {
   "cell_type": "code",
   "execution_count": null,
   "id": "38517985",
   "metadata": {},
   "outputs": [],
   "source": [
    "options(repr.plot.width=6, repr.plot.height=7)\n",
    "\n",
    "DotPlot(seurObj_CITE_4vs8, features = rownames(DP4hi8lo_4_SP4im), group.by = 'anno_CITE_4v4', scale = F)+\n",
    "theme(axis.text.x = element_text(angle=45, hjust=1))+\n",
    "scale_color_distiller(palette = 'Spectral')+\n",
    "labs(title = 'Significantly DE genes between \\nDP_4hi8lo_4 and SP_CD4_immature')"
   ]
  },
  {
   "cell_type": "code",
   "execution_count": null,
   "id": "cb2f3165",
   "metadata": {},
   "outputs": [],
   "source": [
    "DP4hi8lo_5_SP8im <- FindMarkers(seurObj_CITE_4vs8, `ident.2` = 'DP_4hi8lo_5', `ident.1` = 'SP_CD8_immature', test.use = 'roc') %>% filter(abs(avg_log2FC) > 0.8) %>% .[order(.$avg_log2FC),]\n",
    "DP4hi8lo_5_SP8im"
   ]
  },
  {
   "cell_type": "code",
   "execution_count": null,
   "id": "0b823ef5",
   "metadata": {},
   "outputs": [],
   "source": [
    "options(repr.plot.width=8, repr.plot.height=7)\n",
    "\n",
    "DotPlot(seurObj_CITE_4vs8, features = rownames(DP4hi8lo_5_SP8im), group.by = 'anno_CITE_4v4', scale = F)+\n",
    "theme(axis.text.x = element_text(angle=45, hjust=1))+\n",
    "scale_color_distiller(palette = 'Spectral')+\n",
    "labs(title = 'Significantly DE genes between \\nDP_4hi8lo_5 and SP_CD8_immature')"
   ]
  },
  {
   "cell_type": "code",
   "execution_count": null,
   "id": "06807d6f",
   "metadata": {},
   "outputs": [],
   "source": [
    "DP4hi8lo_4_5 <- FindMarkers(seurObj_CITE_4vs8, `ident.2` = 'DP_4hi8lo_5', `ident.1` = 'DP_4hi8lo_4', test.use = 'roc') %>% filter(abs(avg_log2FC) > 0.8) %>% .[order(.$avg_log2FC),]\n",
    "DP4hi8lo_4_5"
   ]
  },
  {
   "cell_type": "code",
   "execution_count": null,
   "id": "621bcbbc",
   "metadata": {},
   "outputs": [],
   "source": [
    "options(repr.plot.width=8, repr.plot.height=7)\n",
    "\n",
    "DotPlot(seurObj_CITE_4vs8, features = rownames(DP4hi8lo_4_5), group.by = 'anno_CITE_4v4', scale = F)+\n",
    "theme(axis.text.x = element_text(angle=45, hjust=1))+\n",
    "scale_color_distiller(palette = 'Spectral')+\n",
    "labs(title = 'Significantly DE genes between \\nDP_4hi8lo_4 and nDP_4hi8lo_5')"
   ]
  },
  {
   "cell_type": "code",
   "execution_count": null,
   "id": "6c411cc7",
   "metadata": {},
   "outputs": [],
   "source": [
    "DEgenes <- c(rownames(DPpossel_DP4hi8lo_1),\n",
    "             rownames(DP4hi8lo_1_2),\n",
    "             rownames(DP4hi8lo_2_3),\n",
    "             rownames(DP4hi8lo_2_4),\n",
    "             rownames(DP4hi8lo_2_5),\n",
    "             rownames(DP4hi8lo_1_2_4),\n",
    "             rownames(DP4hi8lo_4_SP4im),\n",
    "             rownames(DP4hi8lo_5_SP8im),\n",
    "             rownames(DP4hi8lo_4_5)) %>% unique"
   ]
  },
  {
   "cell_type": "code",
   "execution_count": null,
   "id": "099bab47",
   "metadata": {},
   "outputs": [],
   "source": [
    "DefaultAssay(seurObj_CITE_4vs8) <- 'ADTdsb' #DE analysis on protein level"
   ]
  },
  {
   "cell_type": "code",
   "execution_count": null,
   "id": "83951537",
   "metadata": {},
   "outputs": [],
   "source": [
    "DPpossel_DP4hi8lo_1 <- FindMarkers(seurObj_CITE_4vs8, `ident.2` = 'DP_pos_sel', `ident.1` = 'DP_4hi8lo_1', test.use = 'roc') %>% filter(abs(avg_log2FC) > 0.8) %>% .[order(.$avg_log2FC),]\n",
    "DPpossel_DP4hi8lo_1"
   ]
  },
  {
   "cell_type": "code",
   "execution_count": null,
   "id": "d1588d48",
   "metadata": {},
   "outputs": [],
   "source": [
    "options(repr.plot.width=5, repr.plot.height=7)\n",
    "\n",
    "DotPlot(seurObj_CITE_4vs8, features = rownames(DPpossel_DP4hi8lo_1), group.by = 'anno_CITE_4v4', scale = F)+\n",
    "theme(axis.text.x = element_text(angle=45, hjust=1))+\n",
    "scale_color_distiller(palette = 'Spectral')+\n",
    "labs(title = 'Significantly DE genes between DP_pos_sel and DP_4hi8lo_1')"
   ]
  },
  {
   "cell_type": "code",
   "execution_count": null,
   "id": "b25dd870",
   "metadata": {},
   "outputs": [],
   "source": [
    "DP4hi8lo_1_2 <- FindMarkers(seurObj_CITE_4vs8, `ident.2` = 'DP_4hi8lo_1', `ident.1` = 'DP_4hi8lo_2', test.use = 'roc') %>% filter(abs(avg_log2FC) > 0.8) %>% .[order(.$avg_log2FC),]\n",
    "DP4hi8lo_1_2"
   ]
  },
  {
   "cell_type": "code",
   "execution_count": null,
   "id": "d343f19b",
   "metadata": {},
   "outputs": [],
   "source": [
    "options(repr.plot.width=5, repr.plot.height=7)\n",
    "\n",
    "DotPlot(seurObj_CITE_4vs8, features = rownames(DP4hi8lo_1_2), group.by = 'anno_CITE_4v4', scale = F)+\n",
    "theme(axis.text.x = element_text(angle=45, hjust=1))+\n",
    "scale_color_distiller(palette = 'Spectral')+\n",
    "labs(title = 'Significantly DE genes between \\nDP_4hi8lo_1 and DP_4hi8lo_2')"
   ]
  },
  {
   "cell_type": "code",
   "execution_count": null,
   "id": "4e33f32f",
   "metadata": {},
   "outputs": [],
   "source": [
    "DP4hi8lo_2_3 <- FindMarkers(seurObj_CITE_4vs8, `ident.2` = 'DP_4hi8lo_2', `ident.1` = 'DP_4hi8lo_3', test.use = 'roc') %>% filter(abs(avg_log2FC) > 0.8) %>% .[order(.$avg_log2FC),]\n",
    "DP4hi8lo_2_3"
   ]
  },
  {
   "cell_type": "code",
   "execution_count": null,
   "id": "fa65217a",
   "metadata": {},
   "outputs": [],
   "source": [
    "options(repr.plot.width=5, repr.plot.height=7)\n",
    "\n",
    "DotPlot(seurObj_CITE_4vs8, features = rownames(DP4hi8lo_2_3), group.by = 'anno_CITE_4v4', scale = F)+\n",
    "theme(axis.text.x = element_text(angle=45, hjust=1))+\n",
    "scale_color_distiller(palette = 'Spectral')+\n",
    "labs(title = 'Significantly DE genes between \\nDP_4hi8lo_2 and DP_4hi8lo_3')"
   ]
  },
  {
   "cell_type": "code",
   "execution_count": null,
   "id": "0420aeba",
   "metadata": {},
   "outputs": [],
   "source": [
    "DP4hi8lo_1_3 <- FindMarkers(seurObj_CITE_4vs8, `ident.2` = 'DP_4hi8lo_1', `ident.1` = 'DP_4hi8lo_3', test.use = 'roc') %>% filter(abs(avg_log2FC) > 0.8) %>% .[order(.$avg_log2FC),]\n",
    "DP4hi8lo_1_3"
   ]
  },
  {
   "cell_type": "code",
   "execution_count": null,
   "id": "8c91ec2f",
   "metadata": {},
   "outputs": [],
   "source": [
    "DP4hi8lo_2_4 <- FindMarkers(seurObj_CITE_4vs8, `ident.1` = 'DP_4hi8lo_4', `ident.2` = 'DP_4hi8lo_2', test.use = 'roc') %>% filter(abs(avg_log2FC) > 0.8) %>% .[order(.$avg_log2FC),]\n",
    "DP4hi8lo_2_4"
   ]
  },
  {
   "cell_type": "code",
   "execution_count": null,
   "id": "7edf28c8",
   "metadata": {},
   "outputs": [],
   "source": [
    "options(repr.plot.width=5, repr.plot.height=7)\n",
    "\n",
    "DotPlot(seurObj_CITE_4vs8, features = rownames(DP4hi8lo_2_4), group.by = 'anno_CITE_4v4', scale = F)+\n",
    "theme(axis.text.x = element_text(angle=45, hjust=1))+\n",
    "scale_color_distiller(palette = 'Spectral')+\n",
    "labs(title = 'Significantly DE genes between \\nDP_4hi8lo_2 and DP_4hi8lo_4')"
   ]
  },
  {
   "cell_type": "code",
   "execution_count": null,
   "id": "e3e8dd69",
   "metadata": {},
   "outputs": [],
   "source": [
    "DP4hi8lo_2_5 <- FindMarkers(seurObj_CITE_4vs8, `ident.1` = 'DP_4hi8lo_5', `ident.2` = 'DP_4hi8lo_2', test.use = 'roc') %>% filter(abs(avg_log2FC) > 0.8) %>% .[order(.$avg_log2FC),]\n",
    "DP4hi8lo_2_5"
   ]
  },
  {
   "cell_type": "code",
   "execution_count": null,
   "id": "4d5e1cbd",
   "metadata": {},
   "outputs": [],
   "source": [
    "DP4hi8lo_1_2_4 <- FindMarkers(seurObj_CITE_4vs8, `ident.1` = 'DP_4hi8lo_4', `ident.2` = c('DP_4hi8lo_1', 'DP_4hi8lo_2'), test.use = 'roc') %>% filter(abs(avg_log2FC) > 0.8) %>% .[order(.$avg_log2FC),]\n",
    "DP4hi8lo_1_2_4"
   ]
  },
  {
   "cell_type": "code",
   "execution_count": null,
   "id": "37de9710",
   "metadata": {},
   "outputs": [],
   "source": [
    "options(repr.plot.width=6, repr.plot.height=7)\n",
    "\n",
    "DotPlot(seurObj_CITE_4vs8, features = rownames(DP4hi8lo_1_2_4), group.by = 'anno_CITE_4v4', scale = F)+\n",
    "theme(axis.text.x = element_text(angle=45, hjust=1))+\n",
    "scale_color_distiller(palette = 'Spectral')+\n",
    "labs(title = 'Significantly DE genes between DP_4hi8lo_1+2 and DP_4hi8lo_4')"
   ]
  },
  {
   "cell_type": "code",
   "execution_count": null,
   "id": "de6fbc0a",
   "metadata": {},
   "outputs": [],
   "source": [
    "DP4hi8lo_1_2_5 <- FindMarkers(seurObj_CITE_4vs8, `ident.1` = 'DP_4hi8lo_5', `ident.2` = c('DP_4hi8lo_1', 'DP_4hi8lo_2'), test.use = 'roc') %>% filter(abs(avg_log2FC) > 0.8) %>% .[order(.$avg_log2FC),]\n",
    "DP4hi8lo_1_2_5"
   ]
  },
  {
   "cell_type": "code",
   "execution_count": null,
   "id": "0aa48430",
   "metadata": {},
   "outputs": [],
   "source": [
    "DP4hi8lo_4_SP4im <- FindMarkers(seurObj_CITE_4vs8, `ident.2` = 'DP_4hi8lo_4', `ident.1` = 'SP_CD4_immature', test.use = 'roc') %>% filter(abs(avg_log2FC) > 0.8) %>% .[order(.$avg_log2FC),]\n",
    "DP4hi8lo_4_SP4im"
   ]
  },
  {
   "cell_type": "code",
   "execution_count": null,
   "id": "d77a1f10",
   "metadata": {},
   "outputs": [],
   "source": [
    "DP4hi8lo_5_SP8im <- FindMarkers(seurObj_CITE_4vs8, `ident.2` = 'DP_4hi8lo_5', `ident.1` = 'SP_CD8_immature', test.use = 'roc') %>% filter(abs(avg_log2FC) > 0.8) %>% .[order(.$avg_log2FC),]\n",
    "DP4hi8lo_5_SP8im"
   ]
  },
  {
   "cell_type": "code",
   "execution_count": null,
   "id": "f5caac6b",
   "metadata": {},
   "outputs": [],
   "source": [
    "options(repr.plot.width=6, repr.plot.height=7)\n",
    "\n",
    "DotPlot(seurObj_CITE_4vs8, features = rownames(DP4hi8lo_5_SP8im), group.by = 'anno_CITE_4v4', scale = F)+\n",
    "theme(axis.text.x = element_text(angle=45, hjust=1))+\n",
    "scale_color_distiller(palette = 'Spectral')+\n",
    "labs(title = 'Significantly DE genes between \\nDP_4hi8lo_5 and SP_CD8_immature')"
   ]
  },
  {
   "cell_type": "code",
   "execution_count": null,
   "id": "6bca084f",
   "metadata": {},
   "outputs": [],
   "source": [
    "DP4hi8lo_4_5 <- FindMarkers(seurObj_CITE_4vs8, `ident.2` = 'DP_4hi8lo_5', `ident.1` = 'DP_4hi8lo_4', test.use = 'roc') %>% filter(abs(avg_log2FC) > 0.8) %>% .[order(.$avg_log2FC),]\n",
    "DP4hi8lo_4_5"
   ]
  },
  {
   "cell_type": "code",
   "execution_count": null,
   "id": "afe61d1e",
   "metadata": {},
   "outputs": [],
   "source": [
    "options(repr.plot.width=8, repr.plot.height=7)\n",
    "\n",
    "DotPlot(seurObj_CITE_4vs8, features = rownames(DP4hi8lo_4_5), group.by = 'anno_CITE_4v4', scale = F)+\n",
    "theme(axis.text.x = element_text(angle=45, hjust=1))+\n",
    "scale_color_viridis()+\n",
    "labs(title = 'Significantly DE genes between \\nDP_4hi8lo_4 and nDP_4hi8lo_5')"
   ]
  },
  {
   "cell_type": "code",
   "execution_count": null,
   "id": "dae26110",
   "metadata": {},
   "outputs": [],
   "source": [
    "options(repr.plot.width=18, repr.plot.height=8)\n",
    "\n",
    "VlnPlot(seurObj_CITE_4vs8, features = c('CD1a', 'CD4', 'CD8', 'CD27', 'HLA.ABC', 'CD127', 'CD3'), pt.size = 0, ncol=4)"
   ]
  },
  {
   "cell_type": "markdown",
   "id": "2d6db21e",
   "metadata": {},
   "source": [
    "It seems that the 4hi8lo subgroup 4 is already CD4 immature, so to avoid heterogeneity in the 4hi8lo it's best to adjust the annotations."
   ]
  },
  {
   "cell_type": "code",
   "execution_count": null,
   "id": "2dafaf07",
   "metadata": {},
   "outputs": [],
   "source": [
    "seurObj_CITE$anno_CITE_4v5 <- as.character(seurObj_CITE$anno_CITE_4v2)\n",
    "seurObj_CITE$anno_CITE_4v5[WhichCells(seurObj_CITE_4vs8, idents = 'DP_4hi8lo_4')] <- 'SP_CD4_immature'\n",
    "seurObj_CITE$anno_CITE_4v5 <- factor(seurObj_CITE$anno_CITE_4v5, levels=levels_new)"
   ]
  },
  {
   "cell_type": "code",
   "execution_count": null,
   "id": "ea0b4f56",
   "metadata": {},
   "outputs": [],
   "source": [
    "table(seurObj_CITE$anno_CITE_4v5)"
   ]
  }
 ],
 "metadata": {
  "kernelspec": {
   "display_name": "R",
   "language": "R",
   "name": "ir"
  },
  "language_info": {
   "codemirror_mode": "r",
   "file_extension": ".r",
   "mimetype": "text/x-r-source",
   "name": "R",
   "pygments_lexer": "r",
   "version": "4.2.3"
  }
 },
 "nbformat": 4,
 "nbformat_minor": 5
}
