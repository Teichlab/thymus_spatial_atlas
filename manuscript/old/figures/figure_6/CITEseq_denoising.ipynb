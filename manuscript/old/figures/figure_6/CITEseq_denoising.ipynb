{
 "cells": [
  {
   "cell_type": "markdown",
   "id": "80bdb9da",
   "metadata": {},
   "source": [
    "# CITEseq data analysis\n",
    "\n",
    "*Author: Lena Boehme, Taghon lab, 2023*\n",
    "\n",
    "## Denoising and normalisation of ADT data\n",
    "\n",
    "ADT data is often very noisy and antibody detection can be variable. Antibody properties and concentration determine background staining. For proper interpretation and analysis it is advisable to correct protein measurements.\n",
    "\n",
    "For this we use the dsb package by [Mule et al.](https://pubmed.ncbi.nlm.nih.gov/35440536/) and follow the [suggested workflow](https://cran.rstudio.com/web/packages/dsb/vignettes/end_to_end_workflow.html#step1), which uses cell-free droplets to determine background levels of ambient antibody and carries out normalisation based on isotype controls. Explanations about the approach can be found [here](https://cran.r-project.org/web/packages/dsb/vignettes/understanding_dsb.html) and in the [general package documentation](https://www.rdocumentation.org/packages/dsb/versions/1.0.3)."
   ]
  },
  {
   "cell_type": "markdown",
   "id": "63c86697",
   "metadata": {},
   "source": [
    "### Setup"
   ]
  },
  {
   "cell_type": "code",
   "execution_count": null,
   "id": "4ad4ddd0",
   "metadata": {},
   "outputs": [],
   "source": [
    "#directories\n",
    "setwd(\"/home/lenab/Documents/scSeq_analyses/B_TotalThymus_CITEseq/2022_TotalThymus_CITEseq_HTA/objects\")\n",
    "\n",
    "datadir_raw <- '/home/lenab/Documents/scSeq_files/TotalThymus_CITEseq_HTA2/h5_raw'\n",
    "datadir_filtered <- '/home/lenab/Documents/scSeq_files/TotalThymus_CITEseq_HTA2/h5'"
   ]
  },
  {
   "cell_type": "code",
   "execution_count": null,
   "id": "629956cc",
   "metadata": {},
   "outputs": [],
   "source": [
    "#default plotting settings\n",
    "\n",
    "options(repr.plot.width=12, repr.plot.height=6)\n",
    "\n",
    "options(scipen=100) #avoid scientific notation of numbers"
   ]
  },
  {
   "cell_type": "code",
   "execution_count": null,
   "id": "fd4611e9",
   "metadata": {
    "scrolled": true
   },
   "outputs": [],
   "source": [
    "#load packages\n",
    "\n",
    "library(SeuratDisk)\n",
    "library(Seurat)\n",
    "library(matrixStats)\n",
    "library(ggplot2)\n",
    "library(pheatmap)\n",
    "library(reshape2)\n",
    "library(dplyr)\n",
    "library(tidyr)\n",
    "library(viridis)\n",
    "library(stringr)\n",
    "library(dsb)\n",
    "library(RColorBrewer)\n",
    "library(ggrepel)\n",
    "library(Matrix)"
   ]
  },
  {
   "cell_type": "code",
   "execution_count": null,
   "id": "f5dc487f",
   "metadata": {},
   "outputs": [],
   "source": [
    "sessionInfo()"
   ]
  },
  {
   "cell_type": "code",
   "execution_count": null,
   "id": "1f862c84",
   "metadata": {},
   "outputs": [],
   "source": [
    "#make large palettes for plotting\n",
    "pal24 <- colorRampPalette(brewer.pal(12, \"Paired\"))(24)"
   ]
  },
  {
   "cell_type": "markdown",
   "id": "8f39e86b",
   "metadata": {},
   "source": [
    "### Data import"
   ]
  },
  {
   "cell_type": "markdown",
   "id": "bbc4a400",
   "metadata": {},
   "source": [
    "To use dsb we need to analyse the unfiltered cellranger output, which still contains empty droplets. These will be used to estimate the background quantities of (unbound) antibody, which can then be serve as a correction factor for background staining of cells."
   ]
  },
  {
   "cell_type": "code",
   "execution_count": null,
   "id": "86e8644f",
   "metadata": {},
   "outputs": [],
   "source": [
    "#Fetch all the file names for the unfiltered h5 files:\n",
    "\n",
    "h5_raw <- list.files(path=datadir_raw,\n",
    "             pattern=\".h5\",  #return files matching this expression\n",
    "             full.names=TRUE) #get full path instead of just filename"
   ]
  },
  {
   "cell_type": "code",
   "execution_count": null,
   "id": "76c541cb",
   "metadata": {},
   "outputs": [],
   "source": [
    "h5_raw"
   ]
  },
  {
   "cell_type": "markdown",
   "id": "e3989d2f",
   "metadata": {},
   "source": [
    "The Read10X_h5 command produces a list, that contains the RNA and ADT matrices as list element 1 and 2, respectively. We separate the two modalities and instead construct two independent lists, which contain the either RNA or ADT counts for each sample. In addition we extract the sample ID from the filename, so that we can later match the meta data. This is important because the list of file can be lexicographic i.e. 10 sorted before 2."
   ]
  },
  {
   "cell_type": "code",
   "execution_count": null,
   "id": "daa090e8",
   "metadata": {
    "scrolled": true
   },
   "outputs": [],
   "source": [
    "counts_RNA <- list()\n",
    "counts_ADT <- list()\n",
    "samples <- c()\n",
    "\n",
    "for(i in seq(1:length(h5_raw))){\n",
    "    counts <- Read10X_h5(h5_raw[[i]])\n",
    "    counts_RNA[i] <- unlist(counts[1])\n",
    "    counts_ADT[i] <- unlist(counts[2])\n",
    "    name <- str_split(basename(h5_raw[i]),'_')[[1]][1]\n",
    "    samples[i] <- name\n",
    "    names(samples)[i] <- sub('CITE', 'GEX', name)\n",
    "    names(counts_RNA)[i] <- names(samples)[i]\n",
    "    names(counts_ADT)[i] <- names(samples)[i]\n",
    "}"
   ]
  },
  {
   "cell_type": "code",
   "execution_count": null,
   "id": "a7bad55d",
   "metadata": {},
   "outputs": [],
   "source": [
    "samples"
   ]
  },
  {
   "cell_type": "markdown",
   "id": "dea9f5c6",
   "metadata": {},
   "source": [
    "Note that there is no sample7, since this was lost to a wetting failure during the experiment."
   ]
  },
  {
   "cell_type": "markdown",
   "id": "ed1580d1",
   "metadata": {},
   "source": [
    "Before merging the cells from all different samples, the barcodes need to be modified with a sample-specific identifier to be able to distinguish their origin. We add a prefix corresponding to the sample and remove the '-1' suffix to match the naming convention in the full scRNA-seq data seq. At the same time we save the sample origin for each cell into a list, which we can later use as meta data."
   ]
  },
  {
   "cell_type": "code",
   "execution_count": null,
   "id": "38557c2f",
   "metadata": {},
   "outputs": [],
   "source": [
    "samples_list <- list()\n",
    "\n",
    "for (i in seq(1:length(counts_RNA))){\n",
    "    prefix <- paste0(names(samples)[i], '-')  #retrieve new prefix\n",
    "    colnames(counts_RNA[[i]]) <- paste0(prefix, colnames(counts_RNA[[i]])) # add prefix to cell barcodes\n",
    "    colnames(counts_RNA[[i]]) <- gsub('-1','', colnames(counts_RNA[[i]])) # remove suffix from cell barcodes\n",
    "    colnames(counts_ADT[[i]]) <- paste0(prefix, colnames(counts_ADT[[i]]))\n",
    "    colnames(counts_ADT[[i]]) <- gsub('-1','', colnames(counts_ADT[[i]]))\n",
    "    samples_list[[i]] <- rep(names(samples)[i],length(colnames(counts_RNA[[i]])))\n",
    "}"
   ]
  },
  {
   "cell_type": "markdown",
   "id": "2a8e9f32",
   "metadata": {},
   "source": [
    "Note the lexicographic order: the second library is GEX10 (not GEX2)"
   ]
  },
  {
   "cell_type": "code",
   "execution_count": null,
   "id": "b397aa97",
   "metadata": {
    "scrolled": false
   },
   "outputs": [],
   "source": [
    "colnames(counts_RNA[[2]]) %>% head()"
   ]
  },
  {
   "cell_type": "markdown",
   "id": "c4ef52ac",
   "metadata": {},
   "source": [
    "Merge all samples per modality into one matrix instead of a list."
   ]
  },
  {
   "cell_type": "code",
   "execution_count": null,
   "id": "ccce6661",
   "metadata": {},
   "outputs": [],
   "source": [
    "counts_RNA_merged <- Reduce(cbind, counts_RNA)"
   ]
  },
  {
   "cell_type": "code",
   "execution_count": null,
   "id": "227a9d13",
   "metadata": {},
   "outputs": [],
   "source": [
    "counts_ADT_merged <- Reduce(cbind, counts_ADT)"
   ]
  },
  {
   "cell_type": "markdown",
   "id": "863520d0",
   "metadata": {},
   "source": [
    "Build seurat object from the RNA matrix."
   ]
  },
  {
   "cell_type": "code",
   "execution_count": null,
   "id": "4015bc52",
   "metadata": {},
   "outputs": [],
   "source": [
    "seurObj <- CreateSeuratObject(counts_RNA_merged)"
   ]
  },
  {
   "cell_type": "code",
   "execution_count": null,
   "id": "9325e823",
   "metadata": {},
   "outputs": [],
   "source": [
    "rownames(counts_ADT_merged)"
   ]
  },
  {
   "cell_type": "markdown",
   "id": "b489118d",
   "metadata": {},
   "source": [
    "Some of the antibodies have been extended with a '.1' suffix for unknown reasons. We remove that and then add the ADT assay."
   ]
  },
  {
   "cell_type": "code",
   "execution_count": null,
   "id": "b8b5c3ee",
   "metadata": {},
   "outputs": [],
   "source": [
    "rownames(counts_ADT_merged) <- str_replace_all(rownames(counts_ADT_merged), '\\\\.1', '')"
   ]
  },
  {
   "cell_type": "code",
   "execution_count": null,
   "id": "35a8fc5c",
   "metadata": {},
   "outputs": [],
   "source": [
    "seurObj[[\"ADT\"]] <- CreateAssayObject(counts = counts_ADT_merged)"
   ]
  },
  {
   "cell_type": "markdown",
   "id": "b00f0bef",
   "metadata": {},
   "source": [
    "Add sample origin for each cell to the meta data."
   ]
  },
  {
   "cell_type": "code",
   "execution_count": null,
   "id": "8e225be1",
   "metadata": {},
   "outputs": [],
   "source": [
    "seurObj$sample <- unlist(samples_list)"
   ]
  },
  {
   "cell_type": "code",
   "execution_count": null,
   "id": "a0a37233",
   "metadata": {
    "scrolled": true
   },
   "outputs": [],
   "source": [
    "seurObj@meta.data %>% tail()"
   ]
  },
  {
   "cell_type": "markdown",
   "id": "929c6f68",
   "metadata": {},
   "source": [
    "This data set contains cells and droplets, for both of which RNA and ADT are measured. Normally, to distinguish cells from droplets we can used the filtered files from cell ranger and extract the barcodes. These will correspond to real cells (according to cellranger), whereas the rest is considered background.\n",
    "In this instance, the filtered data has already been integrated with other RNA libraries and undergone QC. We therefore use the high-quality cells."
   ]
  },
  {
   "cell_type": "code",
   "execution_count": null,
   "id": "25d6187b",
   "metadata": {},
   "outputs": [],
   "source": [
    "#read in QC-ed object\n",
    "seurObj_clean <- LoadH5Seurat('./HTA2_v10_CITEonly.h5seurat')"
   ]
  },
  {
   "cell_type": "markdown",
   "id": "76003cd6",
   "metadata": {},
   "source": [
    "Around 136k 'events' in the unfiltered data match the barcodes in the QC-ed data and can thus be labelled as cells."
   ]
  },
  {
   "cell_type": "code",
   "execution_count": null,
   "id": "10c18215",
   "metadata": {},
   "outputs": [],
   "source": [
    "table(colnames(seurObj) %in% colnames(seurObj_clean))"
   ]
  },
  {
   "cell_type": "code",
   "execution_count": null,
   "id": "e2b84823",
   "metadata": {},
   "outputs": [],
   "source": [
    "seurObj$cell <- colnames(seurObj) %in% colnames(seurObj_clean)"
   ]
  },
  {
   "cell_type": "markdown",
   "id": "9e0fa816",
   "metadata": {},
   "source": [
    "The 'cells' according to this approach will already be filtered for doublets and low-quality cells. These will instead now be classified as 'non-cells' along with the droplets. We therefore need to carry out QC on the droplets to ensure that these are not contaminated with cells."
   ]
  },
  {
   "cell_type": "markdown",
   "id": "0078e4e3",
   "metadata": {},
   "source": [
    "### QC of droplets"
   ]
  },
  {
   "cell_type": "markdown",
   "id": "4a4e174b",
   "metadata": {},
   "source": [
    "For both droplets and cells we need to ensure certain quality standards before we can move on to background correction. First, we remove all droplets that have only captured RNA or ADT. For all cells this step has already happened during the cellranger filtering/QC."
   ]
  },
  {
   "cell_type": "code",
   "execution_count": null,
   "id": "9077ac5b",
   "metadata": {},
   "outputs": [],
   "source": [
    "seurObj2 <- subset(seurObj, subset = nCount_RNA > 0 & nCount_ADT > 0 )"
   ]
  },
  {
   "cell_type": "markdown",
   "id": "44494a93",
   "metadata": {},
   "source": [
    "We can also determine the percentage of mitochondrial reads, which serves as a measure of sub-par viability."
   ]
  },
  {
   "cell_type": "code",
   "execution_count": null,
   "id": "deccd32e",
   "metadata": {},
   "outputs": [],
   "source": [
    "seurObj2[[\"percent.mt\"]] <- PercentageFeatureSet(seurObj2, pattern = \"^MT-\")"
   ]
  },
  {
   "cell_type": "markdown",
   "id": "0e3e9eb1",
   "metadata": {},
   "source": [
    "We can set min/max thresholds to select droplets that will be used for the downstream analyses. By visualising cell/droplet density, we can determine where most droplets fall on the gene/count spectrum."
   ]
  },
  {
   "cell_type": "code",
   "execution_count": null,
   "id": "1344bb00",
   "metadata": {},
   "outputs": [],
   "source": [
    "ADT_max <- 3.5\n",
    "ADT_min <- 1.2\n",
    "RNA_max <- 2.4"
   ]
  },
  {
   "cell_type": "code",
   "execution_count": null,
   "id": "a84115bf",
   "metadata": {},
   "outputs": [],
   "source": [
    "options(repr.plot.width=8, repr.plot.height=23)\n",
    "\n",
    "ggplot(seurObj2@meta.data, aes(x=log10(nCount_ADT), y=log10(nCount_RNA)))+\n",
    "geom_hex(bins=100)+\n",
    "geom_hline(yintercept = RNA_max)+\n",
    "geom_vline(xintercept = ADT_max)+\n",
    "geom_vline(xintercept = ADT_min)+\n",
    "facet_grid(sample~cell)+\n",
    "scale_fill_viridis(limits=c(0,2000))+\n",
    "theme_bw()"
   ]
  },
  {
   "cell_type": "markdown",
   "id": "a8d7a82d",
   "metadata": {},
   "source": [
    "Based on the thresholds we can add an identifier in the meta data and create a reduced seurat object. We also remove 'droplets' with high mitochondrial reads, in case these are indeed partially lysed apoptotic cells, since these will not be a good represenation of background antibody levels."
   ]
  },
  {
   "cell_type": "code",
   "execution_count": null,
   "id": "736d9aa7",
   "metadata": {},
   "outputs": [],
   "source": [
    "droplets <- subset(seurObj2@meta.data,\n",
    "                   log10(nCount_RNA) < RNA_max &\n",
    "                   log10(nCount_ADT) < ADT_max &\n",
    "                   log10(nCount_ADT) > ADT_min &\n",
    "                   percent.mt < 5 &\n",
    "                   cell==FALSE) %>% rownames()"
   ]
  },
  {
   "cell_type": "code",
   "execution_count": null,
   "id": "c86950ef",
   "metadata": {},
   "outputs": [],
   "source": [
    "seurObj2$droplet <- rownames(seurObj2@meta.data) %in% droplets"
   ]
  },
  {
   "cell_type": "code",
   "execution_count": null,
   "id": "e73e062c",
   "metadata": {},
   "outputs": [],
   "source": [
    "#CAVE: many data points, memory requirements may kill kernel\n",
    "options(repr.plot.width=8, repr.plot.height=4)\n",
    "\n",
    "ggplot(seurObj2@meta.data, aes(x=log10(nCount_ADT), y=log10(nCount_RNA), colour=droplet))+\n",
    "geom_point()+\n",
    "geom_hline(yintercept = RNA_max)+\n",
    "geom_vline(xintercept = ADT_max)+\n",
    "geom_vline(xintercept = ADT_min)+\n",
    "facet_grid(~cell)+\n",
    "theme_bw()"
   ]
  },
  {
   "cell_type": "code",
   "execution_count": null,
   "id": "e5176080",
   "metadata": {},
   "outputs": [],
   "source": [
    "table(seurObj2$droplet)"
   ]
  },
  {
   "cell_type": "markdown",
   "id": "fd6a9aeb",
   "metadata": {},
   "source": [
    "We can now remove everything that we didn't classify as cell or as droplet. This reduces the size of our data set substantially."
   ]
  },
  {
   "cell_type": "code",
   "execution_count": null,
   "id": "a470fea8",
   "metadata": {},
   "outputs": [],
   "source": [
    "seurObj3 <- subset(seurObj2, subset = droplet==TRUE | cell==TRUE)"
   ]
  },
  {
   "cell_type": "code",
   "execution_count": null,
   "id": "00ad2287",
   "metadata": {},
   "outputs": [],
   "source": [
    "options(repr.plot.width=8, repr.plot.height=4)\n",
    "\n",
    "ggplot(seurObj3@meta.data, aes(x=log10(nCount_ADT), y=log10(nCount_RNA), colour=droplet))+\n",
    "geom_point()+\n",
    "geom_hline(yintercept = RNA_max)+\n",
    "geom_vline(xintercept = ADT_max)+\n",
    "geom_vline(xintercept = ADT_min)+\n",
    "facet_grid(~cell)+\n",
    "theme_bw()"
   ]
  },
  {
   "cell_type": "markdown",
   "id": "23b6c924",
   "metadata": {},
   "source": [
    "Usually at this step QC on cells would be performed e.g. removal of cells with high/low counts etc. In our case this has already been done."
   ]
  },
  {
   "cell_type": "code",
   "execution_count": null,
   "id": "689ea44a",
   "metadata": {},
   "outputs": [],
   "source": [
    "rm(seurObj, seurObj2, seurObj_clean) #remove old objects to free up space"
   ]
  },
  {
   "cell_type": "markdown",
   "id": "626e19e0",
   "metadata": {},
   "source": [
    "## Normalisation with Dsb"
   ]
  },
  {
   "cell_type": "code",
   "execution_count": null,
   "id": "0885b927",
   "metadata": {},
   "outputs": [],
   "source": [
    "isotype <- rownames(as.matrix(seurObj3@assays$ADT@counts))[131:137]\n",
    "isotype"
   ]
  },
  {
   "cell_type": "code",
   "execution_count": null,
   "id": "d1300210",
   "metadata": {},
   "outputs": [],
   "source": [
    "ADT_max <- data.frame(AB=rownames(seurObj3@assays$ADT@counts),\n",
    "                      max= rowMaxs(as.matrix(seurObj3@assays$ADT@counts)),\n",
    "                      min= rowMins(as.matrix(seurObj3@assays$ADT@counts)),\n",
    "                      mean= rowMeans(as.matrix(seurObj3@assays$ADT@counts)),\n",
    "                      isotype=rownames(as.matrix(seurObj3@assays$ADT@counts)) %in% isotype)"
   ]
  },
  {
   "cell_type": "code",
   "execution_count": null,
   "id": "e00c2937",
   "metadata": {},
   "outputs": [],
   "source": [
    "ADT_max[order(ADT_max$max),]"
   ]
  },
  {
   "cell_type": "code",
   "execution_count": null,
   "id": "e7c03148",
   "metadata": {
    "scrolled": false
   },
   "outputs": [],
   "source": [
    "options(repr.plot.width=12, repr.plot.height=10)\n",
    "\n",
    "ggplot(ADT_max, aes(x=log10(mean), y=log10(max), color=isotype))+\n",
    "geom_point()+\n",
    "geom_text_repel(aes(label=AB))+\n",
    "theme_bw()+\n",
    "theme(legend.position = 'none')"
   ]
  },
  {
   "cell_type": "markdown",
   "id": "5aaca837",
   "metadata": {},
   "source": [
    "Comparison of antibody staining levels indicates that most markers are detected at higher levels compared to the Isotype controls. Note that CD14 is expressed at very low levels only, suggesting that it won't serve as a good marker even for cells in which it is expressed. Importantly, many markers will not be expressed in our data set or only in a small subset of cells, which will affect the mean expression."
   ]
  },
  {
   "cell_type": "markdown",
   "id": "13dd82e0",
   "metadata": {},
   "source": [
    "Dsb takes raw ADT count matrices for cells and droplets. In addition, the isotype controls need to be specified. Further parameters can be adjusted, e.g. pseudocount to be used, scale factor and thresholds for quantile clipping to remove outliers. These options were tested and not found to be suitable/required for our dataset. For information on default settings and parameter options refer to the [vignette](https://cran.r-project.org/web/packages/dsb/dsb.pdf)."
   ]
  },
  {
   "cell_type": "code",
   "execution_count": null,
   "id": "1f84de32",
   "metadata": {},
   "outputs": [],
   "source": [
    "matrix_ADT_cells <- subset(seurObj3, subset=cell==TRUE)@assays$ADT@counts\n",
    "matrix_ADT_backgr <- subset(seurObj3, subset=droplet==TRUE)@assays$ADT@counts"
   ]
  },
  {
   "cell_type": "code",
   "execution_count": null,
   "id": "9f3c8ccd",
   "metadata": {},
   "outputs": [],
   "source": [
    "ptm <- proc.time() #measure elapsed time as reference\n",
    "\n",
    "dsb_norm <- DSBNormalizeProtein(cell_protein_matrix = matrix_ADT_cells,\n",
    "                            empty_drop_matrix = matrix_ADT_backgr,\n",
    "                            denoise.counts = TRUE,\n",
    "                            use.isotype.control = TRUE,\n",
    "                            isotype.control.name.vec = isotype,\n",
    "                           #define.pseudocount = TRUE,\n",
    "                           #pseudocount.use = 1,\n",
    "                           #scale.factor = 'mean_subtract',\n",
    "                           #quantile.clipping = TRUE,\n",
    "                           #quantile.clip = c(0.01, 0.99),\n",
    "                            return.stats=TRUE)\n",
    "\n",
    "proc.time() - ptm"
   ]
  },
  {
   "cell_type": "markdown",
   "id": "13ccd6f6",
   "metadata": {},
   "source": [
    "Dsb returns a normalised denoised matrix of protein expression for all cells (not droplets). If return.stats was set to TRUE, technical and protein stats are also reported and saved in a list."
   ]
  },
  {
   "cell_type": "code",
   "execution_count": null,
   "id": "5f250292",
   "metadata": {},
   "outputs": [],
   "source": [
    "dsb_norm %>% str"
   ]
  },
  {
   "cell_type": "markdown",
   "id": "0c50d480",
   "metadata": {},
   "source": [
    "In the expression matrix protein levels are corrected for background staining and cell-to-call variation is reduced. This can be saved in the seurat object. Importantly, raw and normalised data cannot be added in the same assay (overwrite each other!) so we create a new assay for the dsb-processed data.\n",
    "For markers that are expressed on very few cells, the normalisation matrix may contain some cells with very negative values i.e. very low expression (see [package details](https://www.rdocumentation.org/packages/dsb/versions/0.2.0)). These normally represent outliers but can hinder visualisation due to automatic axis limits and scaling. We therefore set the minimum to 0 by changing all values below this to 0."
   ]
  },
  {
   "cell_type": "code",
   "execution_count": null,
   "id": "3248ef66",
   "metadata": {},
   "outputs": [],
   "source": [
    "dsb_norm2 <- apply(dsb_norm$dsb_normalized_matrix, 2, function(x){ifelse(test = x < 0, yes = 0, no = x)}) "
   ]
  },
  {
   "cell_type": "code",
   "execution_count": null,
   "id": "5b932377",
   "metadata": {},
   "outputs": [],
   "source": [
    "seurObj_clean[['ADTdsb']] <- CreateAssayObject(data=Matrix(dsb_norm2, sparse = TRUE)) #matrix is currently dense and does not automatically converted by seurat"
   ]
  },
  {
   "cell_type": "code",
   "execution_count": null,
   "id": "cb292d99",
   "metadata": {},
   "outputs": [],
   "source": [
    "seurObj_clean[['ADT']] <- CreateAssayObject(counts=matrix_ADT_cells)"
   ]
  },
  {
   "cell_type": "code",
   "execution_count": null,
   "id": "039b7c0f",
   "metadata": {},
   "outputs": [],
   "source": [
    "SaveH5Seurat(seurObj_clean, \"./HTA2_v10_dsb_denoised.h5seurat\", overwrite=TRUE)"
   ]
  }
 ],
 "metadata": {
  "kernelspec": {
   "display_name": "R",
   "language": "R",
   "name": "ir"
  },
  "language_info": {
   "codemirror_mode": "r",
   "file_extension": ".r",
   "mimetype": "text/x-r-source",
   "name": "R",
   "pygments_lexer": "r",
   "version": "4.2.3"
  }
 },
 "nbformat": 4,
 "nbformat_minor": 5
}
