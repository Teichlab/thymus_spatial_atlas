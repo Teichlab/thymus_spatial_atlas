{
 "cells": [
  {
   "cell_type": "markdown",
   "id": "committed-differential",
   "metadata": {},
   "source": [
    "# Combine Visium data post Tissue Tag processing"
   ]
  },
  {
   "cell_type": "code",
   "execution_count": 1,
   "id": "abstract-pleasure",
   "metadata": {},
   "outputs": [
    {
     "name": "stderr",
     "output_type": "stream",
     "text": [
      "Global seed set to 0\n"
     ]
    },
    {
     "name": "stdout",
     "output_type": "stream",
     "text": [
      "Running Scanpy 1.9.1, on 2023-08-02 00:46.\n"
     ]
    },
    {
     "name": "stderr",
     "output_type": "stream",
     "text": [
      "/nfs/team205/vk8/miniconda/envs/cell2loc_new/lib/python3.9/site-packages/pytorch_lightning/utilities/warnings.py:53: LightningDeprecationWarning: pytorch_lightning.utilities.warnings.rank_zero_deprecation has been deprecated in v1.6 and will be removed in v1.8. Use the equivalent function from the pytorch_lightning.utilities.rank_zero module instead.\n",
      "  new_rank_zero_deprecation(\n",
      "/nfs/team205/vk8/miniconda/envs/cell2loc_new/lib/python3.9/site-packages/pytorch_lightning/utilities/warnings.py:58: LightningDeprecationWarning: The `pytorch_lightning.loggers.base.rank_zero_experiment` is deprecated in v1.7 and will be removed in v1.9. Please use `pytorch_lightning.loggers.logger.rank_zero_experiment` instead.\n",
      "  return new_rank_zero_deprecation(*args, **kwargs)\n"
     ]
    }
   ],
   "source": [
    "import numpy as np\n",
    "import scanpy as sc\n",
    "import pandas as pd\n",
    "import matplotlib.pyplot as plt\n",
    "from matplotlib import rcParams\n",
    "from matplotlib import colors\n",
    "import seaborn as sb\n",
    "import re\n",
    "import os\n",
    "import scipy.stats\n",
    "from numpy import asarray as ar\n",
    "from collections import Counter\n",
    "import scvi\n",
    "import anndata as ad\n",
    "from IPython.core.interactiveshell import InteractiveShell\n",
    "InteractiveShell.ast_node_interactivity = \"all\" # to show output from all the lines in a cells\n",
    "pd.set_option('display.max_column',None) # display all the columns in pandas\n",
    "pd.options.display.max_rows = 100\n",
    "\n",
    "from datetime import date\n",
    "today = str(date.today())\n",
    "sc.settings.verbosity = 1\n",
    "sc.logging.print_version_and_date()\n",
    "%load_ext autoreload\n",
    "%autoreload 2"
   ]
  },
  {
   "cell_type": "code",
   "execution_count": 2,
   "id": "vertical-seeking",
   "metadata": {},
   "outputs": [],
   "source": [
    "## For correct plotting of the images\n",
    "import matplotlib\n",
    "from matplotlib import rcParams\n",
    "rcParams['pdf.fonttype'] = 42\n",
    "sc.settings.set_figure_params(dpi = 150, color_map = 'RdPu', dpi_save = 150, vector_friendly = True, format = 'pdf')"
   ]
  },
  {
   "cell_type": "code",
   "execution_count": 3,
   "id": "upper-paragraph",
   "metadata": {},
   "outputs": [
    {
     "data": {
      "text/plain": [
       "'/nfs/team205/ny1/ThymusSpatialAtlas/Figure2'"
      ]
     },
     "execution_count": 3,
     "metadata": {},
     "output_type": "execute_result"
    }
   ],
   "source": [
    "# output folder \n",
    "import os\n",
    "os.getcwd()"
   ]
  },
  {
   "cell_type": "code",
   "execution_count": 4,
   "id": "f331c99d",
   "metadata": {},
   "outputs": [],
   "source": [
    "def select_slide(adata, s, s_col='SampleID'):\n",
    "    r\"\"\" This function selects the data for one slide from the spatial anndata object.\n",
    "\n",
    "    :param adata: Anndata object with multiple spatial experiments\n",
    "    :param s: name of selected experiment\n",
    "    :param s_col: column in adata.obs listing experiment name for each location\n",
    "    \"\"\"\n",
    "\n",
    "    slide = adata[adata.obs[s_col].isin([s]), :]\n",
    "    s_keys = list(slide.uns['spatial'].keys())\n",
    "    s_spatial = np.array(s_keys)[[s in k for k in s_keys]][0]\n",
    "\n",
    "    slide.uns['spatial'] = {s_spatial: slide.uns['spatial'][s_spatial]}\n",
    "\n",
    "    return slide"
   ]
  },
  {
   "cell_type": "markdown",
   "id": "proud-purpose",
   "metadata": {},
   "source": [
    "# Orgenize analysis object \n",
    "this is divided to 4 steps:\n",
    "1) load cell2loaction object \"sp\" which has only HVG genes \n",
    "2) load merged raw visium object \"adata_vis\" \n",
    "3) create a new object with all annotations and all raw genes\n",
    "4) update tissue tag annotations from to generate a final annotated object "
   ]
  },
  {
   "cell_type": "code",
   "execution_count": 5,
   "id": "50466ab5",
   "metadata": {},
   "outputs": [],
   "source": [
    "# load the CSV file into a dataframe\n",
    "meta_df = pd.read_csv('/nfs/team205/ny1/ThymusSpatialAtlas/Figure2/HTSA_All_Spatial_Data_v4-visium.csv')"
   ]
  },
  {
   "cell_type": "code",
   "execution_count": 6,
   "id": "a44d8ac9",
   "metadata": {
    "scrolled": false
   },
   "outputs": [
    {
     "name": "stderr",
     "output_type": "stream",
     "text": [
      "/nfs/team205/vk8/miniconda/envs/cell2loc_new/lib/python3.9/site-packages/anndata/_core/anndata.py:1830: UserWarning: Variable names are not unique. To make them unique, call `.var_names_make_unique`.\n",
      "  utils.warn_names_duplicates(\"var\")\n"
     ]
    },
    {
     "name": "stdout",
     "output_type": "stream",
     "text": [
      "/nfs/team205/vk8/irods_data/09_thymus/visium/all_thymus_visium/raw_data2/Align_and_detect_output/hsta/TA11486161 has been read\n"
     ]
    },
    {
     "name": "stderr",
     "output_type": "stream",
     "text": [
      "/nfs/team205/vk8/miniconda/envs/cell2loc_new/lib/python3.9/site-packages/anndata/_core/anndata.py:1830: UserWarning: Variable names are not unique. To make them unique, call `.var_names_make_unique`.\n",
      "  utils.warn_names_duplicates(\"var\")\n"
     ]
    },
    {
     "name": "stdout",
     "output_type": "stream",
     "text": [
      "/nfs/team205/vk8/irods_data/09_thymus/visium/all_thymus_visium/raw_data2/Align_and_detect_output/hsta/TA11486162 has been read\n"
     ]
    },
    {
     "name": "stderr",
     "output_type": "stream",
     "text": [
      "/nfs/team205/vk8/miniconda/envs/cell2loc_new/lib/python3.9/site-packages/anndata/_core/anndata.py:1830: UserWarning: Variable names are not unique. To make them unique, call `.var_names_make_unique`.\n",
      "  utils.warn_names_duplicates(\"var\")\n"
     ]
    },
    {
     "name": "stdout",
     "output_type": "stream",
     "text": [
      "/nfs/team205/vk8/irods_data/09_thymus/visium/all_thymus_visium/raw_data2/Align_and_detect_output/hsta/TA11486163 has been read\n"
     ]
    },
    {
     "name": "stderr",
     "output_type": "stream",
     "text": [
      "/nfs/team205/vk8/miniconda/envs/cell2loc_new/lib/python3.9/site-packages/anndata/_core/anndata.py:1830: UserWarning: Variable names are not unique. To make them unique, call `.var_names_make_unique`.\n",
      "  utils.warn_names_duplicates(\"var\")\n"
     ]
    },
    {
     "name": "stdout",
     "output_type": "stream",
     "text": [
      "/nfs/team205/vk8/irods_data/09_thymus/visium/all_thymus_visium/raw_data2/Align_and_detect_output/hsta/TA11486164 has been read\n"
     ]
    },
    {
     "name": "stderr",
     "output_type": "stream",
     "text": [
      "/nfs/team205/vk8/miniconda/envs/cell2loc_new/lib/python3.9/site-packages/anndata/_core/anndata.py:1830: UserWarning: Variable names are not unique. To make them unique, call `.var_names_make_unique`.\n",
      "  utils.warn_names_duplicates(\"var\")\n"
     ]
    },
    {
     "name": "stdout",
     "output_type": "stream",
     "text": [
      "/nfs/team205/vk8/irods_data/09_thymus/visium/all_thymus_visium/raw_data2/Align_and_detect_output/hsta/TA11556492 has been read\n"
     ]
    },
    {
     "name": "stderr",
     "output_type": "stream",
     "text": [
      "/nfs/team205/vk8/miniconda/envs/cell2loc_new/lib/python3.9/site-packages/anndata/_core/anndata.py:1830: UserWarning: Variable names are not unique. To make them unique, call `.var_names_make_unique`.\n",
      "  utils.warn_names_duplicates(\"var\")\n"
     ]
    },
    {
     "name": "stdout",
     "output_type": "stream",
     "text": [
      "/nfs/team205/vk8/irods_data/09_thymus/visium/all_thymus_visium/raw_data2/Align_and_detect_output/hsta/TA11556493 has been read\n"
     ]
    },
    {
     "name": "stderr",
     "output_type": "stream",
     "text": [
      "/nfs/team205/vk8/miniconda/envs/cell2loc_new/lib/python3.9/site-packages/anndata/_core/anndata.py:1830: UserWarning: Variable names are not unique. To make them unique, call `.var_names_make_unique`.\n",
      "  utils.warn_names_duplicates(\"var\")\n"
     ]
    },
    {
     "name": "stdout",
     "output_type": "stream",
     "text": [
      "/nfs/team205/vk8/irods_data/09_thymus/visium/all_thymus_visium/raw_data2/Align_and_detect_output/hsta/TA11556494 has been read\n"
     ]
    },
    {
     "name": "stderr",
     "output_type": "stream",
     "text": [
      "/nfs/team205/vk8/miniconda/envs/cell2loc_new/lib/python3.9/site-packages/anndata/_core/anndata.py:1830: UserWarning: Variable names are not unique. To make them unique, call `.var_names_make_unique`.\n",
      "  utils.warn_names_duplicates(\"var\")\n"
     ]
    },
    {
     "name": "stdout",
     "output_type": "stream",
     "text": [
      "/nfs/team205/vk8/irods_data/09_thymus/visium/all_thymus_visium/raw_data2/Align_and_detect_output/hsta/TA11556495 has been read\n"
     ]
    },
    {
     "name": "stderr",
     "output_type": "stream",
     "text": [
      "/nfs/team205/vk8/miniconda/envs/cell2loc_new/lib/python3.9/site-packages/anndata/_core/anndata.py:1830: UserWarning: Variable names are not unique. To make them unique, call `.var_names_make_unique`.\n",
      "  utils.warn_names_duplicates(\"var\")\n"
     ]
    },
    {
     "name": "stdout",
     "output_type": "stream",
     "text": [
      "/nfs/team205/vk8/irods_data/09_thymus/visium/all_thymus_visium/raw_data2/Align_and_detect_output/hsta/TA11556496 has been read\n"
     ]
    },
    {
     "name": "stderr",
     "output_type": "stream",
     "text": [
      "/nfs/team205/vk8/miniconda/envs/cell2loc_new/lib/python3.9/site-packages/anndata/_core/anndata.py:1830: UserWarning: Variable names are not unique. To make them unique, call `.var_names_make_unique`.\n",
      "  utils.warn_names_duplicates(\"var\")\n"
     ]
    },
    {
     "name": "stdout",
     "output_type": "stream",
     "text": [
      "/nfs/team205/vk8/irods_data/09_thymus/visium/all_thymus_visium/raw_data2/Align_and_detect_output/hsta/WSSS_F_IMMsp10864183 has been read\n"
     ]
    },
    {
     "name": "stderr",
     "output_type": "stream",
     "text": [
      "/nfs/team205/vk8/miniconda/envs/cell2loc_new/lib/python3.9/site-packages/anndata/_core/anndata.py:1830: UserWarning: Variable names are not unique. To make them unique, call `.var_names_make_unique`.\n",
      "  utils.warn_names_duplicates(\"var\")\n"
     ]
    },
    {
     "name": "stdout",
     "output_type": "stream",
     "text": [
      "/nfs/team205/vk8/irods_data/09_thymus/visium/all_thymus_visium/raw_data2/Align_and_detect_output/hsta/WSSS_F_IMMsp11604685 has been read\n"
     ]
    },
    {
     "name": "stderr",
     "output_type": "stream",
     "text": [
      "/nfs/team205/vk8/miniconda/envs/cell2loc_new/lib/python3.9/site-packages/anndata/_core/anndata.py:1830: UserWarning: Variable names are not unique. To make them unique, call `.var_names_make_unique`.\n",
      "  utils.warn_names_duplicates(\"var\")\n"
     ]
    },
    {
     "name": "stdout",
     "output_type": "stream",
     "text": [
      "/nfs/team205/vk8/irods_data/09_thymus/visium/all_thymus_visium/raw_data2/Align_and_detect_output/hsta/WSSS_F_IMMsp11604686 has been read\n"
     ]
    },
    {
     "name": "stderr",
     "output_type": "stream",
     "text": [
      "/nfs/team205/vk8/miniconda/envs/cell2loc_new/lib/python3.9/site-packages/anndata/_core/anndata.py:1830: UserWarning: Variable names are not unique. To make them unique, call `.var_names_make_unique`.\n",
      "  utils.warn_names_duplicates(\"var\")\n"
     ]
    },
    {
     "name": "stdout",
     "output_type": "stream",
     "text": [
      "/nfs/team205/vk8/irods_data/09_thymus/visium/all_thymus_visium/raw_data2/Align_and_detect_output/hsta/WSSS_F_IMMsp11604687 has been read\n"
     ]
    },
    {
     "name": "stderr",
     "output_type": "stream",
     "text": [
      "/nfs/team205/vk8/miniconda/envs/cell2loc_new/lib/python3.9/site-packages/anndata/_core/anndata.py:1830: UserWarning: Variable names are not unique. To make them unique, call `.var_names_make_unique`.\n",
      "  utils.warn_names_duplicates(\"var\")\n"
     ]
    },
    {
     "name": "stdout",
     "output_type": "stream",
     "text": [
      "/nfs/team205/vk8/irods_data/09_thymus/visium/all_thymus_visium/raw_data2/Align_and_detect_output/hsta/WSSS_F_IMMsp11604688 has been read\n"
     ]
    },
    {
     "name": "stderr",
     "output_type": "stream",
     "text": [
      "/nfs/team205/vk8/miniconda/envs/cell2loc_new/lib/python3.9/site-packages/anndata/_core/anndata.py:1830: UserWarning: Variable names are not unique. To make them unique, call `.var_names_make_unique`.\n",
      "  utils.warn_names_duplicates(\"var\")\n"
     ]
    },
    {
     "name": "stdout",
     "output_type": "stream",
     "text": [
      "/nfs/team205/vk8/irods_data/09_thymus/visium/all_thymus_visium/raw_data2/Align_and_detect_output/hsta/WSSS_F_IMMsp11604689 has been read\n"
     ]
    },
    {
     "name": "stderr",
     "output_type": "stream",
     "text": [
      "/nfs/team205/vk8/miniconda/envs/cell2loc_new/lib/python3.9/site-packages/anndata/_core/anndata.py:1830: UserWarning: Variable names are not unique. To make them unique, call `.var_names_make_unique`.\n",
      "  utils.warn_names_duplicates(\"var\")\n"
     ]
    },
    {
     "name": "stdout",
     "output_type": "stream",
     "text": [
      "/nfs/team205/vk8/irods_data/09_thymus/visium/all_thymus_visium/raw_data2/Align_and_detect_output/hsta/WSSS_F_IMMsp11604690 has been read\n"
     ]
    },
    {
     "name": "stderr",
     "output_type": "stream",
     "text": [
      "/nfs/team205/vk8/miniconda/envs/cell2loc_new/lib/python3.9/site-packages/anndata/_core/anndata.py:1830: UserWarning: Variable names are not unique. To make them unique, call `.var_names_make_unique`.\n",
      "  utils.warn_names_duplicates(\"var\")\n"
     ]
    },
    {
     "name": "stdout",
     "output_type": "stream",
     "text": [
      "/nfs/team205/vk8/irods_data/09_thymus/visium/all_thymus_visium/raw_data2/Align_and_detect_output/hsta/WSSS_F_IMMsp11765867 has been read\n"
     ]
    },
    {
     "name": "stderr",
     "output_type": "stream",
     "text": [
      "/nfs/team205/vk8/miniconda/envs/cell2loc_new/lib/python3.9/site-packages/anndata/_core/anndata.py:1830: UserWarning: Variable names are not unique. To make them unique, call `.var_names_make_unique`.\n",
      "  utils.warn_names_duplicates(\"var\")\n"
     ]
    },
    {
     "name": "stdout",
     "output_type": "stream",
     "text": [
      "/nfs/team205/vk8/irods_data/09_thymus/visium/all_thymus_visium/raw_data2/Align_and_detect_output/hsta/WSSS_F_IMMsp11765868 has been read\n"
     ]
    },
    {
     "name": "stderr",
     "output_type": "stream",
     "text": [
      "/nfs/team205/vk8/miniconda/envs/cell2loc_new/lib/python3.9/site-packages/anndata/_core/anndata.py:1830: UserWarning: Variable names are not unique. To make them unique, call `.var_names_make_unique`.\n",
      "  utils.warn_names_duplicates(\"var\")\n"
     ]
    },
    {
     "name": "stdout",
     "output_type": "stream",
     "text": [
      "/nfs/team205/vk8/irods_data/09_thymus/visium/all_thymus_visium/raw_data2/Align_and_detect_output/hsta/WSSS_F_IMMsp11765870 has been read\n"
     ]
    },
    {
     "name": "stderr",
     "output_type": "stream",
     "text": [
      "/nfs/team205/vk8/miniconda/envs/cell2loc_new/lib/python3.9/site-packages/anndata/_core/anndata.py:1830: UserWarning: Variable names are not unique. To make them unique, call `.var_names_make_unique`.\n",
      "  utils.warn_names_duplicates(\"var\")\n"
     ]
    },
    {
     "name": "stdout",
     "output_type": "stream",
     "text": [
      "/nfs/team205/vk8/irods_data/09_thymus/visium/all_thymus_visium/raw_data2/Align_and_detect_output/hsta/WSSS_F_IMMsp9838711 has been read\n"
     ]
    },
    {
     "name": "stderr",
     "output_type": "stream",
     "text": [
      "/nfs/team205/vk8/miniconda/envs/cell2loc_new/lib/python3.9/site-packages/anndata/_core/anndata.py:1830: UserWarning: Variable names are not unique. To make them unique, call `.var_names_make_unique`.\n",
      "  utils.warn_names_duplicates(\"var\")\n"
     ]
    },
    {
     "name": "stdout",
     "output_type": "stream",
     "text": [
      "/nfs/team205/vk8/irods_data/09_thymus/visium/all_thymus_visium/raw_data2/Align_and_detect_output/hsta/WSSS_F_IMMsp9838716 has been read\n"
     ]
    },
    {
     "name": "stderr",
     "output_type": "stream",
     "text": [
      "/nfs/team205/vk8/miniconda/envs/cell2loc_new/lib/python3.9/site-packages/anndata/_core/anndata.py:1830: UserWarning: Variable names are not unique. To make them unique, call `.var_names_make_unique`.\n",
      "  utils.warn_names_duplicates(\"var\")\n"
     ]
    },
    {
     "name": "stdout",
     "output_type": "stream",
     "text": [
      "/nfs/team205/vk8/irods_data/09_thymus/visium/all_thymus_visium/raw_data2/Align_and_detect_output/hsta/WSSS_THYst9142086 has been read\n"
     ]
    },
    {
     "name": "stderr",
     "output_type": "stream",
     "text": [
      "/nfs/team205/vk8/miniconda/envs/cell2loc_new/lib/python3.9/site-packages/anndata/_core/anndata.py:1830: UserWarning: Variable names are not unique. To make them unique, call `.var_names_make_unique`.\n",
      "  utils.warn_names_duplicates(\"var\")\n"
     ]
    },
    {
     "name": "stdout",
     "output_type": "stream",
     "text": [
      "/nfs/team205/vk8/irods_data/09_thymus/visium/all_thymus_visium/raw_data2/Align_and_detect_output/hsta/WSSS_THYst9142087 has been read\n"
     ]
    },
    {
     "name": "stderr",
     "output_type": "stream",
     "text": [
      "/nfs/team205/vk8/miniconda/envs/cell2loc_new/lib/python3.9/site-packages/anndata/_core/anndata.py:1830: UserWarning: Variable names are not unique. To make them unique, call `.var_names_make_unique`.\n",
      "  utils.warn_names_duplicates(\"var\")\n"
     ]
    },
    {
     "name": "stdout",
     "output_type": "stream",
     "text": [
      "/nfs/team205/vk8/irods_data/09_thymus/visium/all_thymus_visium/raw_data2/Align_and_detect_output/hsta/WSSS_THYst9142088 has been read\n"
     ]
    },
    {
     "name": "stderr",
     "output_type": "stream",
     "text": [
      "/nfs/team205/vk8/miniconda/envs/cell2loc_new/lib/python3.9/site-packages/anndata/_core/anndata.py:1830: UserWarning: Variable names are not unique. To make them unique, call `.var_names_make_unique`.\n",
      "  utils.warn_names_duplicates(\"var\")\n"
     ]
    },
    {
     "name": "stdout",
     "output_type": "stream",
     "text": [
      "/nfs/team205/vk8/irods_data/09_thymus/visium/all_thymus_visium/raw_data2/Align_and_detect_output/hsta/WSSS_THYst9142089 has been read\n"
     ]
    },
    {
     "name": "stderr",
     "output_type": "stream",
     "text": [
      "/nfs/team205/vk8/miniconda/envs/cell2loc_new/lib/python3.9/site-packages/anndata/_core/anndata.py:1830: UserWarning: Variable names are not unique. To make them unique, call `.var_names_make_unique`.\n",
      "  utils.warn_names_duplicates(\"var\")\n"
     ]
    },
    {
     "name": "stdout",
     "output_type": "stream",
     "text": [
      "/nfs/team205/vk8/irods_data/09_thymus/visium/all_thymus_visium/raw_data2/Align_and_detect_output/hsta/WSSS_THYst9518030 has been read\n"
     ]
    },
    {
     "name": "stderr",
     "output_type": "stream",
     "text": [
      "/nfs/team205/vk8/miniconda/envs/cell2loc_new/lib/python3.9/site-packages/anndata/_core/anndata.py:1830: UserWarning: Variable names are not unique. To make them unique, call `.var_names_make_unique`.\n",
      "  utils.warn_names_duplicates(\"var\")\n"
     ]
    },
    {
     "name": "stdout",
     "output_type": "stream",
     "text": [
      "/nfs/team205/vk8/irods_data/09_thymus/visium/all_thymus_visium/raw_data2/Align_and_detect_output/hsta/WSSS_THYst9518032 has been read\n",
      "/nfs/team205/vk8/irods_data/09_thymus/visium/all_thymus_visium/raw_data2/Align_and_detect_output/hsta/WSSS_THYst9518033 has been read\n"
     ]
    },
    {
     "name": "stderr",
     "output_type": "stream",
     "text": [
      "/nfs/team205/vk8/miniconda/envs/cell2loc_new/lib/python3.9/site-packages/anndata/_core/anndata.py:1830: UserWarning: Variable names are not unique. To make them unique, call `.var_names_make_unique`.\n",
      "  utils.warn_names_duplicates(\"var\")\n"
     ]
    }
   ],
   "source": [
    "# load the raw slides\n",
    "slides = []\n",
    "# iterate over the dataframe rows\n",
    "for path in meta_df['path'].tolist():\n",
    "    # load the anndata object from the path\n",
    "    adata = sc.read_h5ad(f'{path}/adata_cma_v2.h5ad')\n",
    "    adata.obs['SampleID'] = meta_df.loc[meta_df['path'] == path, 'SampleID'].values[0]\n",
    "    adata.var['SYMBOL'] = adata.var_names\n",
    "    adata.var.rename(columns={'gene_ids': 'ENSEMBL'}, inplace=True)\n",
    "    adata.var_names_make_unique()\n",
    "    sc.pp.calculate_qc_metrics(adata, percent_top = None, inplace=True)\n",
    "    adata.var['mt'] = [gene.startswith('MT-') for gene in adata.var['SYMBOL']]\n",
    "    adata.obs['percent_mito'] = adata[:, adata.var['mt'].tolist()].X.sum(1).A.squeeze()/adata.obs['total_counts']\n",
    "\n",
    "    # add sample name to obs names\n",
    "    adata.obs_names = adata.obs[\"SampleID\"] + '-' + adata.obs_names\n",
    "    adata.obs.index.name = 'spot_id'\n",
    "    print(f'{path} has been read')\n",
    "    slides.append(adata)"
   ]
  },
  {
   "cell_type": "code",
   "execution_count": 7,
   "id": "occupied-elizabeth",
   "metadata": {},
   "outputs": [
    {
     "name": "stderr",
     "output_type": "stream",
     "text": [
      "/nfs/team205/vk8/miniconda/envs/cell2loc_new/lib/python3.9/site-packages/anndata/_core/anndata.py:1785: FutureWarning: X.dtype being converted to np.float32 from float64. In the next version of anndata (0.9) conversion will not be automatic. Pass dtype explicitly to avoid this warning. Pass `AnnData(X, dtype=X.dtype, ...)` to get the future behavour.\n",
      "  [AnnData(sparse.csr_matrix(a.shape), obs=a.obs) for a in all_adatas],\n"
     ]
    }
   ],
   "source": [
    "adata_full = slides[0].concatenate(\n",
    "        slides[1:],\n",
    "        uns_merge=\"unique\",\n",
    "        index_unique=None\n",
    "    )"
   ]
  },
  {
   "cell_type": "code",
   "execution_count": 8,
   "id": "0052b9eb",
   "metadata": {},
   "outputs": [
    {
     "data": {
      "text/plain": [
       "Index(['in_tissue', 'array_row', 'array_col', 'y', 'x', 'annotations_level_0',\n",
       "       'annotations_level_0_number', 'annotations_level_1',\n",
       "       'annotations_level_1_number', 'annotations_lobules_0',\n",
       "       'annotations_lobules_0_number', 'L2_dist_annotations_level_0_Artifacts',\n",
       "       'L2_dist_annotations_level_0_Cortex',\n",
       "       'L2_dist_annotations_level_0_Edge',\n",
       "       'L2_dist_annotations_level_0_Medulla', 'L2_dist_annotations_level_1_HS',\n",
       "       'L2_dist_annotations_level_1_PVS', 'L2_dist_annotations_level_1_fat',\n",
       "       'L2_dist_annotations_level_1_unassigned',\n",
       "       'L2_dist_annotations_level_1_vessels', 'cma_v2', 'manual_bin_cma_v2',\n",
       "       'manual_bin_cma_v2_int', 'SampleID', 'n_genes_by_counts',\n",
       "       'log1p_n_genes_by_counts', 'total_counts', 'log1p_total_counts',\n",
       "       'percent_mito', 'L2_dist_annotations_level_0_lymph', 'cm', 'cc',\n",
       "       'batch'],\n",
       "      dtype='object')"
      ]
     },
     "execution_count": 8,
     "metadata": {},
     "output_type": "execute_result"
    }
   ],
   "source": [
    "adata_full.obs.columns"
   ]
  },
  {
   "cell_type": "code",
   "execution_count": 9,
   "id": "123d1390",
   "metadata": {},
   "outputs": [],
   "source": [
    "obs_merged = pd.merge(adata_full.obs, meta_df, how = \"left\", left_on = 'SampleID', right_on = 'SampleID')"
   ]
  },
  {
   "cell_type": "code",
   "execution_count": 10,
   "id": "2693b4ab",
   "metadata": {},
   "outputs": [],
   "source": [
    "obs_merged.index = adata_full.obs_names"
   ]
  },
  {
   "cell_type": "code",
   "execution_count": 11,
   "id": "d87efa28",
   "metadata": {},
   "outputs": [],
   "source": [
    "obs_merged.columns = ['in_tissue', 'array_row', 'array_col', 'y', 'x', 'annotations_level_0',\n",
    "       'annotations_level_0_number', 'annotations_level_1',\n",
    "       'annotations_level_1_number', 'annotations_lobules_0',\n",
    "       'annotations_lobules_0_number', 'L2_dist_annotations_level_0_Artifacts',\n",
    "       'L2_dist_annotations_level_0_Cortex',\n",
    "       'L2_dist_annotations_level_0_Edge',\n",
    "       'L2_dist_annotations_level_0_Medulla', 'L2_dist_annotations_level_1_HS',\n",
    "       'L2_dist_annotations_level_1_PVS', 'L2_dist_annotations_level_1_fat',\n",
    "       'L2_dist_annotations_level_1_unassigned',\n",
    "       'L2_dist_annotations_level_1_vessels', 'cma_v2', 'manual_bin_cma_v2',\n",
    "       'manual_bin_cma_v2_int', 'SampleID', 'n_genes_by_counts',\n",
    "       'log1p_n_genes_by_counts', 'total_counts', 'log1p_total_counts',\n",
    "       'percent_mito', 'L2_dist_annotations_level_0_lymph', 'cm', 'cc',\n",
    "       'batch', 'Sample', 'Sample_hr', 'Funding', 'Sequencer', 'SlideID',\n",
    "       'Position', 'Image_name', 'Image_jpg', 'section_thickness (um)',\n",
    "       'permebialisation(min)', 'RIN/DV200', 'Visium_type', 'DonorID',\n",
    "       'Donor_type', 'Age_group', 'Age(misc)', 'Age(numeric)', 'Source',\n",
    "       'Study', 'Study name ', 'Study ID', 'Research_no', 'Deposited before ',\n",
    "       'Sex', 'QC', 'Batch', 'Spaceranger', 'old_sample_name',\n",
    "       'annotation version', 'path', 'updated pipeline', 'L1_knn1', 'L0_KNN10',\n",
    "       'for mapping ']"
   ]
  },
  {
   "cell_type": "code",
   "execution_count": 12,
   "id": "0444202f",
   "metadata": {},
   "outputs": [],
   "source": [
    "adata_full.obs = obs_merged.copy()"
   ]
  },
  {
   "cell_type": "code",
   "execution_count": 13,
   "id": "c67bd238",
   "metadata": {},
   "outputs": [
    {
     "data": {
      "text/plain": [
       "{'Funding',\n",
       " 'L0_KNN10',\n",
       " 'L2_dist_annotations_level_0_Artifacts',\n",
       " 'Sequencer',\n",
       " 'for mapping '}"
      ]
     },
     "execution_count": 13,
     "metadata": {},
     "output_type": "execute_result"
    }
   ],
   "source": [
    "set(adata_full.obs.columns).difference(set(['Sample','Sample_hr','SampleID', 'SlideID', 'Position','in_tissue', 'array_row', 'array_col', 'x', 'y','n_genes_by_counts', 'log1p_n_genes_by_counts', 'total_counts',\n",
    "       'log1p_total_counts', 'percent_mito', 'annotations_level_0',\n",
    "       'annotations_level_0_number', 'annotations_level_1',\n",
    "       'annotations_level_1_number', 'annotations_lobules_0',\n",
    "       'annotations_lobules_0_number', 'L2_dist_annotations_level_0_Cortex',\n",
    "       'L2_dist_annotations_level_0_Edge',\n",
    "       'L2_dist_annotations_level_0_Medulla', 'L2_dist_annotations_level_1_HS',\n",
    "       'L2_dist_annotations_level_1_PVS', 'L2_dist_annotations_level_1_fat',\n",
    "       'L2_dist_annotations_level_1_vessels', 'L2_dist_annotations_level_0_lymph',\n",
    "       'L2_dist_annotations_level_1_unassigned', 'cm', 'cc', 'cma_v2',\n",
    "       'manual_bin_cma_v2', 'manual_bin_cma_v2_int','Image_name', 'Image_jpg', 'section_thickness (um)',\n",
    "       'permebialisation(min)', 'RIN/DV200', 'Visium_type', 'DonorID',\n",
    "       'Donor_type', 'Age_group', 'Age(misc)', 'Age(numeric)', 'Source',\n",
    "       'Study', 'Study name ', 'Study ID', 'Research_no', 'Deposited before ',\n",
    "       'Sex', 'QC', 'Batch', 'Spaceranger', 'old_sample_name',\n",
    "       'annotation version', 'path', 'updated pipeline', 'L1_knn1', 'batch']))"
   ]
  },
  {
   "cell_type": "code",
   "execution_count": 14,
   "id": "9c4ebead",
   "metadata": {},
   "outputs": [],
   "source": [
    "adata_full.obs = adata_full.obs[['Sample','Sample_hr','SampleID', 'SlideID', 'Position','in_tissue', 'array_row', 'array_col', 'x', 'y','n_genes_by_counts', 'log1p_n_genes_by_counts', 'total_counts',\n",
    "       'log1p_total_counts', 'percent_mito', 'annotations_level_0',\n",
    "       'annotations_level_0_number', 'annotations_level_1',\n",
    "       'annotations_level_1_number', 'annotations_lobules_0',\n",
    "       'annotations_lobules_0_number', 'L2_dist_annotations_level_0_Artifacts',\n",
    "                                 'L2_dist_annotations_level_0_Cortex',\n",
    "       'L2_dist_annotations_level_0_Edge',\n",
    "       'L2_dist_annotations_level_0_Medulla', 'L2_dist_annotations_level_1_HS',\n",
    "       'L2_dist_annotations_level_1_PVS', 'L2_dist_annotations_level_1_fat',\n",
    "       'L2_dist_annotations_level_1_vessels', 'L2_dist_annotations_level_0_lymph',\n",
    "       'L2_dist_annotations_level_1_unassigned', 'cm', 'cc', 'cma_v2',\n",
    "       'manual_bin_cma_v2', 'manual_bin_cma_v2_int','Image_name', 'Image_jpg', 'section_thickness (um)',\n",
    "       'permebialisation(min)', 'RIN/DV200', 'Visium_type', 'Funding', 'Sequencer', 'DonorID',\n",
    "       'Donor_type', 'Age_group', 'Age(misc)', 'Age(numeric)', 'Source',\n",
    "       'Study', 'Study name ', 'Study ID', 'Research_no', 'Deposited before ',\n",
    "       'Sex', 'QC', 'Batch', 'Spaceranger', 'old_sample_name',\n",
    "       'annotation version', 'path', 'updated pipeline', 'L1_knn1', 'L0_KNN10', 'for mapping ','batch']].copy()"
   ]
  },
  {
   "cell_type": "code",
   "execution_count": 15,
   "id": "1632b1b7",
   "metadata": {},
   "outputs": [
    {
     "data": {
      "text/html": [
       "<div>\n",
       "<style scoped>\n",
       "    .dataframe tbody tr th:only-of-type {\n",
       "        vertical-align: middle;\n",
       "    }\n",
       "\n",
       "    .dataframe tbody tr th {\n",
       "        vertical-align: top;\n",
       "    }\n",
       "\n",
       "    .dataframe thead th {\n",
       "        text-align: right;\n",
       "    }\n",
       "</style>\n",
       "<table border=\"1\" class=\"dataframe\">\n",
       "  <thead>\n",
       "    <tr style=\"text-align: right;\">\n",
       "      <th></th>\n",
       "      <th>ENSEMBL</th>\n",
       "      <th>feature_types</th>\n",
       "      <th>genome</th>\n",
       "      <th>SYMBOL</th>\n",
       "      <th>mt</th>\n",
       "    </tr>\n",
       "  </thead>\n",
       "  <tbody>\n",
       "    <tr>\n",
       "      <th>MIR1302-2HG</th>\n",
       "      <td>ENSG00000243485</td>\n",
       "      <td>Gene Expression</td>\n",
       "      <td>GRCh38</td>\n",
       "      <td>MIR1302-2HG</td>\n",
       "      <td>False</td>\n",
       "    </tr>\n",
       "    <tr>\n",
       "      <th>FAM138A</th>\n",
       "      <td>ENSG00000237613</td>\n",
       "      <td>Gene Expression</td>\n",
       "      <td>GRCh38</td>\n",
       "      <td>FAM138A</td>\n",
       "      <td>False</td>\n",
       "    </tr>\n",
       "    <tr>\n",
       "      <th>OR4F5</th>\n",
       "      <td>ENSG00000186092</td>\n",
       "      <td>Gene Expression</td>\n",
       "      <td>GRCh38</td>\n",
       "      <td>OR4F5</td>\n",
       "      <td>False</td>\n",
       "    </tr>\n",
       "    <tr>\n",
       "      <th>AL627309.1</th>\n",
       "      <td>ENSG00000238009</td>\n",
       "      <td>Gene Expression</td>\n",
       "      <td>GRCh38</td>\n",
       "      <td>AL627309.1</td>\n",
       "      <td>False</td>\n",
       "    </tr>\n",
       "    <tr>\n",
       "      <th>AL627309.3</th>\n",
       "      <td>ENSG00000239945</td>\n",
       "      <td>Gene Expression</td>\n",
       "      <td>GRCh38</td>\n",
       "      <td>AL627309.3</td>\n",
       "      <td>False</td>\n",
       "    </tr>\n",
       "    <tr>\n",
       "      <th>...</th>\n",
       "      <td>...</td>\n",
       "      <td>...</td>\n",
       "      <td>...</td>\n",
       "      <td>...</td>\n",
       "      <td>...</td>\n",
       "    </tr>\n",
       "    <tr>\n",
       "      <th>AC141272.1</th>\n",
       "      <td>ENSG00000277836</td>\n",
       "      <td>Gene Expression</td>\n",
       "      <td>GRCh38</td>\n",
       "      <td>AC141272.1</td>\n",
       "      <td>False</td>\n",
       "    </tr>\n",
       "    <tr>\n",
       "      <th>AC023491.2</th>\n",
       "      <td>ENSG00000278633</td>\n",
       "      <td>Gene Expression</td>\n",
       "      <td>GRCh38</td>\n",
       "      <td>AC023491.2</td>\n",
       "      <td>False</td>\n",
       "    </tr>\n",
       "    <tr>\n",
       "      <th>AC007325.1</th>\n",
       "      <td>ENSG00000276017</td>\n",
       "      <td>Gene Expression</td>\n",
       "      <td>GRCh38</td>\n",
       "      <td>AC007325.1</td>\n",
       "      <td>False</td>\n",
       "    </tr>\n",
       "    <tr>\n",
       "      <th>AC007325.4</th>\n",
       "      <td>ENSG00000278817</td>\n",
       "      <td>Gene Expression</td>\n",
       "      <td>GRCh38</td>\n",
       "      <td>AC007325.4</td>\n",
       "      <td>False</td>\n",
       "    </tr>\n",
       "    <tr>\n",
       "      <th>AC007325.2</th>\n",
       "      <td>ENSG00000277196</td>\n",
       "      <td>Gene Expression</td>\n",
       "      <td>GRCh38</td>\n",
       "      <td>AC007325.2</td>\n",
       "      <td>False</td>\n",
       "    </tr>\n",
       "  </tbody>\n",
       "</table>\n",
       "<p>36601 rows × 5 columns</p>\n",
       "</div>"
      ],
      "text/plain": [
       "                     ENSEMBL    feature_types  genome       SYMBOL     mt\n",
       "MIR1302-2HG  ENSG00000243485  Gene Expression  GRCh38  MIR1302-2HG  False\n",
       "FAM138A      ENSG00000237613  Gene Expression  GRCh38      FAM138A  False\n",
       "OR4F5        ENSG00000186092  Gene Expression  GRCh38        OR4F5  False\n",
       "AL627309.1   ENSG00000238009  Gene Expression  GRCh38   AL627309.1  False\n",
       "AL627309.3   ENSG00000239945  Gene Expression  GRCh38   AL627309.3  False\n",
       "...                      ...              ...     ...          ...    ...\n",
       "AC141272.1   ENSG00000277836  Gene Expression  GRCh38   AC141272.1  False\n",
       "AC023491.2   ENSG00000278633  Gene Expression  GRCh38   AC023491.2  False\n",
       "AC007325.1   ENSG00000276017  Gene Expression  GRCh38   AC007325.1  False\n",
       "AC007325.4   ENSG00000278817  Gene Expression  GRCh38   AC007325.4  False\n",
       "AC007325.2   ENSG00000277196  Gene Expression  GRCh38   AC007325.2  False\n",
       "\n",
       "[36601 rows x 5 columns]"
      ]
     },
     "execution_count": 15,
     "metadata": {},
     "output_type": "execute_result"
    }
   ],
   "source": [
    "adata_full.var[['ENSEMBL', 'feature_types', 'genome', 'SYMBOL', 'mt']]"
   ]
  },
  {
   "cell_type": "code",
   "execution_count": 16,
   "id": "252c486d",
   "metadata": {},
   "outputs": [],
   "source": [
    "adata_full.var = adata_full.var[['ENSEMBL', 'feature_types', 'genome', 'SYMBOL', 'mt']].copy()"
   ]
  },
  {
   "cell_type": "code",
   "execution_count": 17,
   "id": "1a9b37fa",
   "metadata": {},
   "outputs": [],
   "source": [
    "adata_full = adata_full[adata_full.obs['in_tissue']==1].copy()"
   ]
  },
  {
   "cell_type": "code",
   "execution_count": 18,
   "id": "241daf98",
   "metadata": {},
   "outputs": [],
   "source": [
    "adata_full_old = sc.read(\"/nfs/team205/vk8/projects/thymus_atlas/results/Thymus_atlas_v2_Visium_raw_2022-09-07.h5ad\")"
   ]
  },
  {
   "cell_type": "code",
   "execution_count": 19,
   "id": "2ac493a6",
   "metadata": {},
   "outputs": [],
   "source": [
    "dif1 = set(adata_full.obs_names).difference(set(adata_full_old.obs_names))\n",
    "dif2 = set(adata_full_old.obs_names).difference(set(adata_full.obs_names))"
   ]
  },
  {
   "cell_type": "code",
   "execution_count": 20,
   "id": "c2374a2b",
   "metadata": {},
   "outputs": [
    {
     "data": {
      "text/plain": [
       "2481"
      ]
     },
     "execution_count": 20,
     "metadata": {},
     "output_type": "execute_result"
    },
    {
     "data": {
      "text/plain": [
       "0"
      ]
     },
     "execution_count": 20,
     "metadata": {},
     "output_type": "execute_result"
    }
   ],
   "source": [
    "len(dif1)\n",
    "len(dif2)"
   ]
  },
  {
   "cell_type": "code",
   "execution_count": 21,
   "id": "a89a6da6",
   "metadata": {},
   "outputs": [],
   "source": [
    "adata_full.obs['cma_v1'] = adata_full_old.obs.reindex(adata_full.obs_names)['Cortico_Medullar_Axis']"
   ]
  },
  {
   "cell_type": "code",
   "execution_count": 22,
   "id": "6bad0fad",
   "metadata": {},
   "outputs": [
    {
     "data": {
      "text/plain": [
       "(55653, 36601)"
      ]
     },
     "execution_count": 22,
     "metadata": {},
     "output_type": "execute_result"
    },
    {
     "data": {
      "text/plain": [
       "(53172, 36601)"
      ]
     },
     "execution_count": 22,
     "metadata": {},
     "output_type": "execute_result"
    }
   ],
   "source": [
    "adata_full.shape\n",
    "adata_full_old.shape"
   ]
  },
  {
   "cell_type": "code",
   "execution_count": 24,
   "id": "74b3edd4",
   "metadata": {},
   "outputs": [
    {
     "data": {
      "text/plain": [
       "dict_keys(['hires', 'hires5K', 'lowres'])"
      ]
     },
     "execution_count": 24,
     "metadata": {},
     "output_type": "execute_result"
    }
   ],
   "source": [
    "adata_full.uns['spatial']['spaceranger130_count_42337_TA11486161_GRCh38-2020-A']['images'].keys()"
   ]
  },
  {
   "cell_type": "code",
   "execution_count": 25,
   "id": "7f0759b2",
   "metadata": {},
   "outputs": [],
   "source": [
    "adata_full.write(f'/nfs/team205/ny1/ThymusSpatialAtlas/Figure2/data/Thymus_atlas_v2_Visium_raw_{today}.h5ad')"
   ]
  },
  {
   "cell_type": "code",
   "execution_count": 26,
   "id": "c02b2203",
   "metadata": {
    "scrolled": true
   },
   "outputs": [
    {
     "data": {
      "text/plain": [
       "(55653, 36601)"
      ]
     },
     "execution_count": 26,
     "metadata": {},
     "output_type": "execute_result"
    },
    {
     "data": {
      "text/plain": [
       "(53172, 36601)"
      ]
     },
     "execution_count": 26,
     "metadata": {},
     "output_type": "execute_result"
    }
   ],
   "source": [
    "adata_full.shape\n",
    "adata_full_old.shape"
   ]
  },
  {
   "cell_type": "code",
   "execution_count": 27,
   "id": "717aaae3",
   "metadata": {},
   "outputs": [
    {
     "data": {
      "text/plain": [
       "28"
      ]
     },
     "execution_count": 27,
     "metadata": {},
     "output_type": "execute_result"
    }
   ],
   "source": [
    "len(adata_full.obs['SampleID'].unique())"
   ]
  },
  {
   "cell_type": "code",
   "execution_count": 28,
   "id": "ae4e61fc",
   "metadata": {},
   "outputs": [
    {
     "data": {
      "text/plain": [
       "16"
      ]
     },
     "execution_count": 28,
     "metadata": {},
     "output_type": "execute_result"
    }
   ],
   "source": [
    "len(adata_full.obs.loc[adata_full.obs['Age_group']!='fetal', 'SampleID'].unique())"
   ]
  },
  {
   "cell_type": "code",
   "execution_count": null,
   "id": "textile-execution",
   "metadata": {},
   "outputs": [],
   "source": []
  }
 ],
 "metadata": {
  "kernelspec": {
   "display_name": "Python [conda env:miniconda-cell2loc_new]",
   "language": "python",
   "name": "conda-env-miniconda-cell2loc_new-py"
  },
  "language_info": {
   "codemirror_mode": {
    "name": "ipython",
    "version": 3
   },
   "file_extension": ".py",
   "mimetype": "text/x-python",
   "name": "python",
   "nbconvert_exporter": "python",
   "pygments_lexer": "ipython3",
   "version": "3.9.12"
  }
 },
 "nbformat": 4,
 "nbformat_minor": 5
}
