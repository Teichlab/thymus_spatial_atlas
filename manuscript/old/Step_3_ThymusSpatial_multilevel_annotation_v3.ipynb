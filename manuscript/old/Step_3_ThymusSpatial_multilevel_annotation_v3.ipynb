{
 "cells": [
  {
   "cell_type": "code",
   "execution_count": null,
   "id": "structural-platform",
   "metadata": {},
   "outputs": [],
   "source": []
  },
  {
   "cell_type": "markdown",
   "id": "smaller-values",
   "metadata": {},
   "source": [
    "# Thymus human spatial atlas\n",
    "# Multi resolution annotation from high resolution annotation  \n",
    "# last edit 310723"
   ]
  },
  {
   "cell_type": "code",
   "execution_count": 1,
   "id": "quantitative-container",
   "metadata": {
    "tags": []
   },
   "outputs": [],
   "source": [
    "import sys\n",
    "\n",
    "import matplotlib.pyplot as plt\n",
    "import seaborn as sns\n",
    "import numpy as np\n",
    "import pandas as pd\n",
    "\n",
    "import scanpy as sc\n",
    "\n",
    "from IPython.core.interactiveshell import InteractiveShell\n",
    "InteractiveShell.ast_node_interactivity = \"all\" # to show output from all the lines in a cells\n",
    "pd.set_option('display.max_column',None) # display all the columns in pandas\n",
    "pd.options.display.max_rows = 100\n",
    "\n",
    "from datetime import date\n",
    "today = str(date.today())\n",
    "\n",
    "import matplotlib\n",
    "from matplotlib import rcParams\n",
    "rcParams['pdf.fonttype'] = 42\n",
    "sc.settings.set_figure_params(dpi = 150, color_map = 'RdPu', dpi_save = 300, vector_friendly = True, format = 'pdf')"
   ]
  },
  {
   "cell_type": "code",
   "execution_count": null,
   "id": "coordinate-point",
   "metadata": {},
   "outputs": [
    {
     "name": "stdout",
     "output_type": "stream",
     "text": [
      "/nfs/team205/ny1/ThymusSpatialAtlas\n"
     ]
    }
   ],
   "source": [
    "%cd /nfs/team205/vk8/projects/thymus_atlas/ThymusSpatialAtlas"
   ]
  },
  {
   "cell_type": "code",
   "execution_count": 3,
   "id": "trained-priority",
   "metadata": {},
   "outputs": [],
   "source": [
    "results = ''"
   ]
  },
  {
   "cell_type": "markdown",
   "id": "intellectual-exploration",
   "metadata": {},
   "source": [
    "## Load full thymus dataset"
   ]
  },
  {
   "cell_type": "code",
   "execution_count": 4,
   "id": "frozen-vancouver",
   "metadata": {
    "tags": []
   },
   "outputs": [],
   "source": [
    "h5ad_file = '/Thymus_Atlas_v13_w_past.h5ad'\n",
    "\n",
    "adata_full = sc.read_h5ad(h5ad_file)\n",
    "# adata_full.write_h5ad(h5ad_file)"
   ]
  },
  {
   "cell_type": "markdown",
   "id": "beneficial-table",
   "metadata": {},
   "source": [
    "## Load individual datasets"
   ]
  },
  {
   "cell_type": "code",
   "execution_count": 5,
   "id": "european-carpet",
   "metadata": {},
   "outputs": [],
   "source": [
    "objects = ['Blood_cells_spatlas_scvi_dbrm_2023-07-31.h5ad', 'Bcells_spatlas_scvi_dbrm_2023-07-29.h5ad',\n",
    "          'Myeloid_spatlas_scvi_dbrm_2023-07-28.h5ad', 'TEC_spatlas_scvi_dbrm_2023-07-19.h5ad', 'Endo_spatlas_scvi_2023-07-18.h5ad',\n",
    "          'SMC_spatlas_scvi_dbrm_2023-07-17.h5ad', 'FB_spatlas_scvi_dbrm_2023-06-28.h5ad', 'Schwann_cells_spatlas_2023-07-31.h5ad']"
   ]
  },
  {
   "cell_type": "code",
   "execution_count": 6,
   "id": "broadband-editor",
   "metadata": {
    "scrolled": true,
    "tags": []
   },
   "outputs": [
    {
     "name": "stdout",
     "output_type": "stream",
     "text": [
      "Blood_cells_spatlas_scvi_dbrm_2023-07-31.h5ad, cell anno changed\n",
      "Bcells_spatlas_scvi_dbrm_2023-07-29.h5ad, cell anno changed\n",
      "Myeloid_spatlas_scvi_dbrm_2023-07-28.h5ad, cell anno changed\n",
      "TEC_spatlas_scvi_dbrm_2023-07-19.h5ad, cell anno kept the same\n",
      "Endo_spatlas_scvi_2023-07-18.h5ad, cell anno changed\n",
      "SMC_spatlas_scvi_dbrm_2023-07-17.h5ad, cell anno kept the same\n",
      "FB_spatlas_scvi_dbrm_2023-06-28.h5ad, cell anno changed\n",
      "Schwann_cells_spatlas_2023-07-31.h5ad, cell anno kept the same\n"
     ]
    }
   ],
   "source": [
    "combined_obs = pd.DataFrame()\n",
    "for adata in objects:\n",
    "    adata_input = sc.read(f'{results}{adata}')\n",
    "    if 'annotation_level_3_new' in adata_input.obs.columns:\n",
    "        print(f\"{adata}, cell anno changed\")\n",
    "        combined_obs = pd.concat([combined_obs, adata_input.obs[['annotation_level_3', 'annotation_level_3_new']]])\n",
    "    else:\n",
    "        print(f\"{adata}, cell anno kept the same\")\n",
    "        combined_obs = pd.concat([combined_obs, adata_input.obs[['annotation_level_3']]])"
   ]
  },
  {
   "cell_type": "markdown",
   "id": "corrected-drain",
   "metadata": {
    "tags": []
   },
   "source": [
    "## Load Nadav's annotation"
   ]
  },
  {
   "cell_type": "code",
   "execution_count": null,
   "id": "wound-stockholm",
   "metadata": {},
   "outputs": [
    {
     "name": "stderr",
     "output_type": "stream",
     "text": [
      "/tmp/ipykernel_4530/3950186459.py:3: DtypeWarning: Columns (2,3) have mixed types. Specify dtype option on import or set low_memory=False.\n",
      "  dp_obs = pd.read_csv('/nfs/team205/ny1/ThymusSpatialAtlas/Figure1/annotation_done/htsa_DP_anno_310723.csv', index_col = 0)\n",
      "/tmp/ipykernel_4530/3950186459.py:4: DtypeWarning: Columns (2,3) have mixed types. Specify dtype option on import or set low_memory=False.\n",
      "  sp_obs = pd.read_csv('/nfs/team205/ny1/ThymusSpatialAtlas/Figure1/annotation_done/htsa_SP_anno_310723.csv', index_col = 0)\n"
     ]
    }
   ],
   "source": [
    "dn_obs_ped = pd.read_csv('/htsa_DN_paed_anno_310723.csv',index_col = 0)\n",
    "dn_obs_fet = pd.read_csv('/htsa_DN_fetal_anno_310723.csv',index_col = 0)\n",
    "dp_obs = pd.read_csv('/htsa_DP_anno_310723.csv', index_col = 0)\n",
    "sp_obs = pd.read_csv('/htsa_SP_anno_310723.csv', index_col = 0)\n",
    "Treg_obs = pd.read_csv('/htsa_Treg_anno_310723.csv', index_col = 0)"
   ]
  },
  {
   "cell_type": "code",
   "execution_count": 9,
   "id": "subjective-jason",
   "metadata": {},
   "outputs": [
    {
     "data": {
      "text/plain": [
       "'cell_type_level_3'"
      ]
     },
     "execution_count": 9,
     "metadata": {},
     "output_type": "execute_result"
    }
   ],
   "source": [
    "dn_obs_ped.columns[0]"
   ]
  },
  {
   "cell_type": "code",
   "execution_count": 10,
   "id": "severe-thanksgiving",
   "metadata": {},
   "outputs": [],
   "source": [
    "\n",
    "for dt in [dn_obs_ped, dn_obs_fet, dp_obs, Treg_obs, sp_obs]:\n",
    "    dt.rename(columns = {'cell_type_level_3':'annotation_level_3_new'}, inplace = True)\n",
    "    combined_obs = pd.concat([combined_obs, dt[['annotation_level_3', 'annotation_level_3_new']]])\n",
    "combined_obs = combined_obs[~combined_obs.index.duplicated(keep='first')]"
   ]
  },
  {
   "cell_type": "code",
   "execution_count": 11,
   "id": "fitting-parks",
   "metadata": {},
   "outputs": [],
   "source": [
    "adata_prev = sc.read('/nfs/team205/ny1/ThymusSpatialAtlas/Figure1/annotation_done/HTSA_v17.h5ad')"
   ]
  },
  {
   "cell_type": "markdown",
   "id": "dated-monkey",
   "metadata": {},
   "source": [
    "### These are the cells that missing atm... Mural and VSMC are doublets"
   ]
  },
  {
   "cell_type": "code",
   "execution_count": 12,
   "id": "distant-closure",
   "metadata": {},
   "outputs": [],
   "source": [
    "combined_obs = pd.concat([combined_obs, adata_prev.obs.loc[adata_prev.obs['annotation_level_3'].isin(['Mast', 'Mesothelium']), ['annotation_level_3']]])"
   ]
  },
  {
   "cell_type": "code",
   "execution_count": 13,
   "id": "subtle-board",
   "metadata": {
    "scrolled": true
   },
   "outputs": [
    {
     "data": {
      "text/plain": [
       "{'Mural', 'VSMC', 'VSMC_like'}"
      ]
     },
     "execution_count": 13,
     "metadata": {},
     "output_type": "execute_result"
    }
   ],
   "source": [
    "set(adata_prev.obs['annotation_level_3']).difference(set(combined_obs['annotation_level_3']))"
   ]
  },
  {
   "cell_type": "code",
   "execution_count": 14,
   "id": "transsexual-tragedy",
   "metadata": {},
   "outputs": [],
   "source": [
    "combined_obs['cell_type_level_4'] = combined_obs['annotation_level_3_new'].copy()\n",
    "\n",
    "combined_obs.loc[pd.isna(combined_obs[\"annotation_level_3_new\"]), 'cell_type_level_4'] = combined_obs.loc[pd.isna(combined_obs[\"annotation_level_3_new\"]), 'annotation_level_3'].copy()"
   ]
  },
  {
   "cell_type": "code",
   "execution_count": 15,
   "id": "electoral-supervisor",
   "metadata": {},
   "outputs": [
    {
     "data": {
      "text/plain": [
       "[]"
      ]
     },
     "execution_count": 15,
     "metadata": {},
     "output_type": "execute_result"
    }
   ],
   "source": [
    "[i for i in combined_obs.index if i not in adata_full.obs_names]"
   ]
  },
  {
   "cell_type": "code",
   "execution_count": 16,
   "id": "decreased-tackle",
   "metadata": {},
   "outputs": [
    {
     "data": {
      "text/plain": [
       "157694"
      ]
     },
     "execution_count": 16,
     "metadata": {},
     "output_type": "execute_result"
    }
   ],
   "source": [
    "len([i for i in adata_full.obs_names if i not in combined_obs.index])"
   ]
  },
  {
   "cell_type": "code",
   "execution_count": 17,
   "id": "aerial-cosmetic",
   "metadata": {},
   "outputs": [],
   "source": [
    "adata_full.obs['cell_type_level_4'] = combined_obs.reindex(adata_full.obs_names)['cell_type_level_4']"
   ]
  },
  {
   "cell_type": "code",
   "execution_count": 18,
   "id": "satellite-links",
   "metadata": {},
   "outputs": [],
   "source": [
    "adata_full.obs.loc[pd.isnull(adata_full.obs['cell_type_level_4']), 'cell_type_level_4'] = 'FailQC'"
   ]
  },
  {
   "cell_type": "code",
   "execution_count": 23,
   "id": "030f1619-8357-424d-a103-4d872a3e1485",
   "metadata": {},
   "outputs": [],
   "source": [
    "# obs['validated_doublet'].astype('category')\n",
    "# obs['annotation_level_4'].astype('category')\n",
    "# adata_full.obs = obs\n",
    "sc.set_figure_params(figsize=[15,15],fontsize=20)\n",
    "# sc.pl.umap(adata_full, color=['annotation_level_1'],groups='blood', legend_loc='on data',s=2)\n",
    "# sc.set_figure_params(figsize=[10,10])\n",
    "sc.pl.umap(adata_full, color=['cell_type_level_4'], legend_loc='on data',legend_fontsize = 10)"
   ]
  },
  {
   "cell_type": "code",
   "execution_count": 26,
   "id": "prerequisite-meter",
   "metadata": {},
   "outputs": [],
   "source": [
    "granular_ctype_dict = {}\n",
    "for i in adata_full.obs['cell_type_level_4'].cat.categories:\n",
    "    granular_ctype_dict[i] = {i}\n",
    "    "
   ]
  },
  {
   "cell_type": "code",
   "execution_count": 27,
   "id": "modern-helena",
   "metadata": {},
   "outputs": [
    {
     "data": {
      "text/plain": [
       "{'B-Prolif': {'B-Prolif'},\n",
       " 'B-memory': {'B-memory'},\n",
       " 'B-naive': {'B-naive'},\n",
       " 'B-plasma': {'B-plasma'},\n",
       " 'B_pro_pre': {'B_pro_pre'},\n",
       " 'CMP': {'CMP'},\n",
       " 'DC1': {'DC1'},\n",
       " 'DC1-Prolif': {'DC1-Prolif'},\n",
       " 'DC2': {'DC2'},\n",
       " 'DC2-Prolif': {'DC2-Prolif'},\n",
       " 'EC-Art': {'EC-Art'},\n",
       " 'EC-Art-ELN': {'EC-Art-ELN'},\n",
       " 'EC-Cap': {'EC-Cap'},\n",
       " 'EC-Cap-Prolif': {'EC-Cap-Prolif'},\n",
       " 'EC-Lymphatic': {'EC-Lymphatic'},\n",
       " 'EC-Ven': {'EC-Ven'},\n",
       " 'EC-Ven-ELN': {'EC-Ven-ELN'},\n",
       " 'FailQC': {'FailQC'},\n",
       " 'GMP': {'GMP'},\n",
       " 'InterloFb': {'InterloFb'},\n",
       " 'InterloFb-COL9A3': {'InterloFb-COL9A3'},\n",
       " 'Macrophage-APOC2': {'Macrophage-APOC2'},\n",
       " 'Macrophage-LYVE1': {'Macrophage-LYVE1'},\n",
       " 'Macrophage-SPIC1': {'Macrophage-SPIC1'},\n",
       " 'Mast': {'Mast'},\n",
       " 'Mesothelium': {'Mesothelium'},\n",
       " 'Monocyte_CCR2': {'Monocyte_CCR2'},\n",
       " 'Monocyte_IL1B': {'Monocyte_IL1B'},\n",
       " 'Myelocyte': {'Myelocyte'},\n",
       " 'Neutrophil': {'Neutrophil'},\n",
       " 'Pericyte': {'Pericyte'},\n",
       " 'Pericyte_CCL19': {'Pericyte_CCL19'},\n",
       " 'Pericyte_COL1A1': {'Pericyte_COL1A1'},\n",
       " 'PeriloFb': {'PeriloFb'},\n",
       " 'PeriloFb-Prolif': {'PeriloFb-Prolif'},\n",
       " 'ProlifPericyte': {'ProlifPericyte'},\n",
       " 'Promonocyte': {'Promonocyte'},\n",
       " 'RBC': {'RBC'},\n",
       " 'SMC': {'SMC'},\n",
       " 'Schwann': {'Schwann'},\n",
       " 'TEC-cilliated': {'TEC-cilliated'},\n",
       " 'TEC-myo': {'TEC-myo'},\n",
       " 'TEC-neuro': {'TEC-neuro'},\n",
       " 'TEC-tuft': {'TEC-tuft'},\n",
       " 'T_CD4': {'T_CD4'},\n",
       " 'T_CD8': {'T_CD8'},\n",
       " 'T_CD8-Prolif': {'T_CD8-Prolif'},\n",
       " 'T_CD8_memory': {'T_CD8_memory'},\n",
       " 'T_CD8αα(I)': {'T_CD8αα(I)'},\n",
       " 'T_CD8αα(II)': {'T_CD8αα(II)'},\n",
       " 'T_CD8αα(entry)': {'T_CD8αα(entry)'},\n",
       " 'T_DN(P)': {'T_DN(P)'},\n",
       " 'T_DN(Q)': {'T_DN(Q)'},\n",
       " 'T_DN(Q)-CD99': {'T_DN(Q)-CD99'},\n",
       " 'T_DN(Q)-HSPH1': {'T_DN(Q)-HSPH1'},\n",
       " 'T_DN(Q)-early': {'T_DN(Q)-early'},\n",
       " 'T_DN(early)': {'T_DN(early)'},\n",
       " 'T_DP(P)': {'T_DP(P)'},\n",
       " 'T_DP(Q)': {'T_DP(Q)'},\n",
       " 'T_DP(Q)-CD99': {'T_DP(Q)-CD99'},\n",
       " 'T_DP(Q)-HSPH1': {'T_DP(Q)-HSPH1'},\n",
       " 'T_DP(Q)-early': {'T_DP(Q)-early'},\n",
       " 'T_DP(Q)-late_vdj': {'T_DP(Q)-late_vdj'},\n",
       " 'T_ISP': {'T_ISP'},\n",
       " 'T_NK': {'T_NK'},\n",
       " 'T_NK_dev': {'T_NK_dev'},\n",
       " 'T_NK_fetal': {'T_NK_fetal'},\n",
       " 'T_SP8or4': {'T_SP8or4'},\n",
       " 'T_SP-HSP': {'T_SP-HSP'},\n",
       " 'T_Treg_CD8': {'T_Treg_CD8'},\n",
       " 'T_Treg_mature': {'T_Treg_mature'},\n",
       " 'T_Treg_recirc': {'T_Treg_recirc'},\n",
       " 'T_abT(entry)': {'T_abT(entry)'},\n",
       " 'T_cycling': {'T_cycling'},\n",
       " 'T_innate_type_1': {'T_innate_type_1'},\n",
       " 'T_innate_type_3': {'T_innate_type_3'},\n",
       " 'T_reg': {'T_reg'},\n",
       " 'T_reg(agonist)': {'T_reg(agonist)'},\n",
       " 'T_reg(diff)-FOXP3Lo': {'T_reg(diff)-FOXP3Lo'},\n",
       " 'T_reg(diff)-FOXP3hi': {'T_reg(diff)-FOXP3hi'},\n",
       " 'T_αβT(entry)': {'T_αβT(entry)'},\n",
       " 'T_γδT': {'T_γδT'},\n",
       " 'aDC1': {'aDC1'},\n",
       " 'aDC2': {'aDC2'},\n",
       " 'aDC3': {'aDC3'},\n",
       " 'cTECI': {'cTECI'},\n",
       " 'cTECII': {'cTECII'},\n",
       " 'cTECIII': {'cTECIII'},\n",
       " 'fetFB-CCL21': {'fetFB-CCL21'},\n",
       " 'fetFB-NKX2-5': {'fetFB-NKX2-5'},\n",
       " 'fetFB-RSPO2': {'fetFB-RSPO2'},\n",
       " 'large_pre_B': {'large_pre_B'},\n",
       " 'late_pro_B': {'late_pro_B'},\n",
       " 'mTECI': {'mTECI'},\n",
       " 'mTECI-trans': {'mTECI-trans'},\n",
       " 'mTECII': {'mTECII'},\n",
       " 'mTECIII': {'mTECIII'},\n",
       " 'mcTEC': {'mcTEC'},\n",
       " 'mcTEC-Prolif': {'mcTEC-Prolif'},\n",
       " 'medFB-MHCIIh': {'medFB-MHCIIh'},\n",
       " 'medFb': {'medFb'},\n",
       " 'medFb-RGS5': {'medFb-RGS5'},\n",
       " 'nmSchwann': {'nmSchwann'},\n",
       " 'pDC': {'pDC'},\n",
       " 'pDC-Prolif': {'pDC-Prolif'},\n",
       " 'pro_B': {'pro_B'},\n",
       " 'small_pre_B': {'small_pre_B'}}"
      ]
     },
     "execution_count": 27,
     "metadata": {},
     "output_type": "execute_result"
    }
   ],
   "source": [
    "granular_ctype_dict"
   ]
  },
  {
   "cell_type": "code",
   "execution_count": null,
   "id": "charming-vault",
   "metadata": {},
   "outputs": [],
   "source": [
    "prolif_cells = ['DC1-Prolif', 'DC2-Prolif', 'PeriloFb-Prolif', 'ProlifPericyte', 'pDC-Prolif', 'mcTEC-Prolif']"
   ]
  },
  {
   "cell_type": "markdown",
   "id": "hawaiian-state",
   "metadata": {},
   "source": [
    "## multilevel annotations\n",
    "\n"
   ]
  },
  {
   "cell_type": "code",
   "execution_count": 51,
   "id": "dutch-hometown",
   "metadata": {
    "scrolled": true,
    "tags": []
   },
   "outputs": [],
   "source": [
    "# lv 3 (level for fine spatial mapping)\n",
    "dict_anno_v3 = {\n",
    "             'FailQC':{'FailQC'},\n",
    "                \n",
    "    \n",
    "             'T_CD4': {'T_CD4','T_cycling'},\n",
    "             'T_CD8': {'T_CD8','T_CD8-Prolif','T_CD8_memory'},\n",
    "             'T_CD8αα': {'T_CD8αα(I)','T_CD8αα(II)','T_CD8αα(entry)'},\n",
    "             'T_DN(P)': {'T_DN(P)'},\n",
    "             'T_DN(Q)': {'T_DN(Q)','T_DN(Q)-CD99','T_DN(Q)-HSPH1','T_DN(Q)-early'},\n",
    "             'T_DN(early)': {'T_DN(early)','T_ISP'},\n",
    "             'T_DP(P)': {'T_DP(P)'},\n",
    "             'T_DP(Q)': {'T_DP(Q)','T_DP(Q)-CD99','T_DP(Q)-HSPH1','T_DP(Q)-early','T_DP(Q)-late_vdj'},\n",
    "             'T_NK': {'T_NK_dev','T_NK','T_NK_fetal'},\n",
    "             'T_SP_general' : {'T_SP8or4','T_SP-HSP'},\n",
    "             'T_Treg': {'T_Treg_CD8','T_Treg_mature','T_Treg_recirc','T_reg'},\n",
    "             'T_innate': {'T_innate_type_1','T_innate_type_3'},\n",
    "             'T_reg(diff)': {'T_reg(diff)-FOXP3Lo','T_reg(agonist)','T_reg(diff)-FOXP3hi'},\n",
    "             'T_αβT(entry)': {'T_αβT(entry)','T_abT(entry)'},\n",
    "             'T_γδT': {'T_γδT'},\n",
    "             \n",
    "             'pre_proB': {'pro_B', 'late_pro_B', 'large_pre_B', 'small_pre_B','B_pro_pre'},\n",
    "             'B':{'B-naive', 'B-memory', 'B-Prolif'},\n",
    "             'B-plasma': {'B-plasma'},\n",
    "             'Progenitors':{'CMP','GMP'},\n",
    "             'Mono':{'Promonocyte', 'Monocyte_CCR2', 'Monocyte_IL1B'},\n",
    "             'Neut':{'Myelocyte','Neutrophil'},\n",
    "             'Mast': {'Mast'},\n",
    "             'RBC':{'RBC'},\n",
    "             'DC1': {'DC1', 'DC1-Prolif'},\n",
    "             'DC2': {'DC2', 'DC2-Prolif'},\n",
    "             'pDC': {'pDC', 'pDC-Prolif'},\n",
    "             'aDC1': {'aDC1'},\n",
    "             'aDC2': {'aDC2'},\n",
    "             'aDC3': {'aDC3'},\n",
    "             'Macrophage-APOC2':{'Macrophage-APOC2'},\n",
    "             'Macrophage-LYVE1':{'Macrophage-LYVE1'}, \n",
    "             'Macrophage-SPIC1':{'Macrophage-SPIC1'},\n",
    "             'cTECI': {'cTECI'},\n",
    "             'cTECII': {'cTECII'},\n",
    "             'cTECIII': {'cTECIII'},\n",
    "             'mTECI': {'mTECI'},\n",
    "             'mTECI-trans': {'mTECI-trans'},\n",
    "             'mTECII': {'mTECII'},\n",
    "             'mTECIII': {'mTECIII'},\n",
    "             'mcTEC': {'mcTEC','mcTEC-Prolif'},\n",
    "             'TEC-cilliated': {'TEC-cilliated'},\n",
    "             'TEC-myo': {'TEC-myo'},\n",
    "             'TEC-neuro': {'TEC-neuro'},\n",
    "             'TEC-tuft': {'TEC-tuft'},\n",
    "            'EC-Art': {'EC-Art', 'EC-Art-ELN'},\n",
    "            'EC-Cap':{'EC-Cap', 'EC-Cap-Prolif'},\n",
    "            'EC-Ven':{'EC-Ven', 'EC-Ven-ELN'},\n",
    "            'EC-Lymph':{'EC-Lymphatic'},\n",
    "            'SMC':{'SMC'},\n",
    "            'Pericyte': {'Pericyte', 'Pericyte_CCL19', 'Pericyte_COL1A1', 'ProlifPericyte'},\n",
    "            'PeriloFb': {'PeriloFb','PeriloFb-Prolif'},\n",
    "            'InterloFb': {'InterloFb', 'InterloFb-COL9A3'},\n",
    "            'medFB-MHCIIh': {'medFB-MHCIIh'},\n",
    "            'medFb': {'medFb', 'medFb-RGS5'},\n",
    "            'fetFB-CCL21': {'fetFB-CCL21'},\n",
    "             'fetFB-NKX2-5': {'fetFB-NKX2-5'},\n",
    "             'fetFB-RSPO2': {'fetFB-RSPO2'},\n",
    "            'Mesothelium':{'Mesothelium'},\n",
    "            'Schwann': {'Schwann'},\n",
    "            'nmSchwann': {'nmSchwann'}\n",
    "            }\n",
    "\n",
    "adata_full.obs['cell_type_level_3'] = 'unassigned'\n",
    "for key, values in dict_anno_v3.items():\n",
    "    adata_full.obs.loc[adata_full.obs['cell_type_level_4'].isin(values), 'cell_type_level_3'] = key\n",
    "adata_full.obs['cell_type_level_3'] = adata_full.obs['cell_type_level_3'].astype('category')    \n"
   ]
  },
  {
   "cell_type": "code",
   "execution_count": 52,
   "id": "varied-athens",
   "metadata": {},
   "outputs": [
    {
     "data": {
      "text/plain": [
       "Index(['B', 'B-plasma', 'DC1', 'DC2', 'EC-Art', 'EC-Cap', 'EC-Lymph', 'EC-Ven',\n",
       "       'FailQC', 'InterloFb', 'Macrophage-APOC2', 'Macrophage-LYVE1',\n",
       "       'Macrophage-SPIC1', 'Mast', 'Mesothelium', 'Mono', 'Neut', 'Pericyte',\n",
       "       'PeriloFb', 'Progenitors', 'RBC', 'SMC', 'Schwann', 'TEC-cilliated',\n",
       "       'TEC-myo', 'TEC-neuro', 'TEC-tuft', 'T_CD4', 'T_CD8', 'T_CD8αα',\n",
       "       'T_DN(P)', 'T_DN(Q)', 'T_DN(early)', 'T_DP(P)', 'T_DP(Q)', 'T_NK',\n",
       "       'T_SP_general', 'T_Treg', 'T_innate', 'T_reg(diff)', 'T_αβT(entry)',\n",
       "       'T_γδT', 'aDC1', 'aDC2', 'aDC3', 'cTECI', 'cTECII', 'cTECIII',\n",
       "       'fetFB-CCL21', 'fetFB-NKX2-5', 'fetFB-RSPO2', 'mTECI', 'mTECI-trans',\n",
       "       'mTECII', 'mTECIII', 'mcTEC', 'medFB-MHCIIh', 'medFb', 'nmSchwann',\n",
       "       'pDC', 'pre_proB'],\n",
       "      dtype='object')"
      ]
     },
     "execution_count": 52,
     "metadata": {},
     "output_type": "execute_result"
    }
   ],
   "source": [
    "adata_full.obs['cell_type_level_3'].cat.categories"
   ]
  },
  {
   "cell_type": "code",
   "execution_count": 53,
   "id": "requested-accountability",
   "metadata": {
    "scrolled": true,
    "tags": []
   },
   "outputs": [],
   "source": [
    "# lv 2 (level for coarse spatial mapping)\n",
    "dict_anno_v2 = {\n",
    "             'FailQC':{'FailQC'},\n",
    "\n",
    "              \n",
    "             'T_CD4': {'T_CD4','T_cycling'},\n",
    "             'T_CD8': {'T_CD8','T_CD8-Prolif','T_CD8_memory'},\n",
    "             'T_CD8αα': {'T_CD8αα(I)','T_CD8αα(II)','T_CD8αα(entry)'},\n",
    "             'T_DN': {'T_DN(P)','T_DN(Q)','T_DN(Q)-CD99','T_DN(Q)-HSPH1','T_DN(Q)-early'},\n",
    "             'T_DN(early)': {'T_DN(early)','T_ISP'},\n",
    "             'T_DP': {'T_DP(Q)','T_DP(Q)-CD99','T_DP(Q)-HSPH1','T_DP(Q)-early','T_DP(Q)-late_vdj','T_DP(P)'},\n",
    "             'T_NK': {'T_NK_dev','T_NK','T_NK_fetal'},\n",
    "             'T_SP_general' : {'T_SP8or4','T_SP-HSP'},\n",
    "             'T_Treg': {'T_Treg_CD8','T_Treg_mature','T_Treg_recirc','T_reg','T_reg(diff)-FOXP3Lo','T_reg(agonist)','T_reg(diff)-FOXP3hi'},\n",
    "             'T_innate': {'T_innate_type_1','T_innate_type_3'},\n",
    "             'T_αβT(entry)': {'T_αβT(entry)','T_abT(entry)'},\n",
    "             'T_γδT': {'T_γδT'},\n",
    "    \n",
    "             'pre_proB': {'pro_B', 'late_pro_B', 'large_pre_B', 'small_pre_B','B_pro_pre'},\n",
    "             'B':{'B-naive', 'B-memory', 'B-Prolif'},\n",
    "             'B-plasma': {'B-plasma'},\n",
    "             'Progenitors':{'CMP','GMP'},\n",
    "             'Mono':{'Promonocyte', 'Monocyte_CCR2', 'Monocyte_IL1B'},\n",
    "             'Neut':{'Myelocyte','Neutrophil'},\n",
    "             'Mast': {'Mast'},\n",
    "             'RBC':{'RBC'},\n",
    "             'DC': {'DC1', 'DC1-Prolif', 'DC2', 'DC2-Prolif'},\n",
    "             'pDC': {'pDC', 'pDC-Prolif'},\n",
    "             'aDC': {'aDC1','aDC2','aDC3'},\n",
    "             'Macro':{'Macrophage-APOC2', 'Macrophage-LYVE1','Macrophage-SPIC1'},\n",
    "             'cTEC': {'cTECI', 'cTECII', 'cTECIII'},\n",
    "             'mTEC': {'mTECI', 'mTECI-trans'},\n",
    "             'mTEC-mimetic': {'mTECII', 'mTECIII', 'TEC-cilliated', 'TEC-myo', 'TEC-neuro',\n",
    "                             'TEC-tuft'},\n",
    "             'mcTEC': {'mcTEC','mcTEC-Prolif'},\n",
    "            'EC-Art': {'EC-Art', 'EC-Art-ELN'},\n",
    "            'EC-Cap':{'EC-Cap', 'EC-Cap-Prolif'},\n",
    "            'EC-Ven':{'EC-Ven', 'EC-Ven-ELN'},\n",
    "            'EC-Lymph':{'EC-Lymphatic'},\n",
    "            'SMC':{'SMC'},\n",
    "            'Pericyte': {'Pericyte', 'Pericyte_CCL19', 'Pericyte_COL1A1', 'ProlifPericyte'},\n",
    "            'PeriloFb': {'PeriloFb','PeriloFb-Prolif'},\n",
    "            'InterloFb': {'InterloFb', 'InterloFb-COL9A3'},\n",
    "            'medFb': {'medFb', 'medFb-RGS5', 'medFB-MHCIIh'},\n",
    "            'fetFB-CCL21': {'fetFB-CCL21'},\n",
    "             'fetFB-NKX2-5': {'fetFB-NKX2-5'},\n",
    "             'fetFB-RSPO2': {'fetFB-RSPO2'},\n",
    "            'Mesothelium':{'Mesothelium'},\n",
    "            'Schwann': {'Schwann'},\n",
    "            'nmSchwann': {'nmSchwann'}\n",
    "            }\n",
    "\n",
    "adata_full.obs['cell_type_level_2'] = 'unassigned'\n",
    "adata_full.obs['cell_type_level_2'] = adata_full.obs['cell_type_level_2'].astype('object')\n",
    "for key, values in dict_anno_v2.items():\n",
    "    adata_full.obs.loc[adata_full.obs['cell_type_level_4'].isin(values), 'cell_type_level_2'] = key\n",
    "adata_full.obs['cell_type_level_2'] = adata_full.obs['cell_type_level_2'].astype('category')   "
   ]
  },
  {
   "cell_type": "code",
   "execution_count": 54,
   "id": "virgin-excitement",
   "metadata": {
    "scrolled": true,
    "tags": []
   },
   "outputs": [],
   "source": [
    "# lv 1 (level for fine spatial mapping)\n",
    "dict_anno_v1 = {\n",
    "             'FailQC':{'FailQC'},\n",
    "         \n",
    "             'T_SP': {'T_CD4','T_cycling','T_CD8','T_CD8-Prolif','T_CD8_memory','T_αβT(entry)','T_abT(entry)'},\n",
    "             'T_special': {'T_CD8αα(I)','T_CD8αα(II)','T_CD8αα(entry)','T_innate_type_1','T_innate_type_3','T_γδT'},\n",
    "             'T_DN': {'T_DN(P)','T_DN(Q)','T_DN(Q)-CD99','T_DN(Q)-HSPH1','T_DN(Q)-early','T_DN(early)','T_ISP'},\n",
    "             'T_DP': {'T_DP(Q)','T_DP(Q)-CD99','T_DP(Q)-HSPH1','T_DP(Q)-early','T_DP(Q)-late_vdj','T_DP(P)'},\n",
    "             'T_NK': {'T_NK_dev','T_NK','T_NK_fetal'},\n",
    "             'T_SP_general' : {'T_SP8or4','T_SP-HSP'},\n",
    "             'T_Treg': {'T_Treg_CD8','T_Treg_mature','T_Treg_recirc','T_reg','T_reg(diff)-FOXP3Lo','T_reg(agonist)','T_reg(diff)-FOXP3hi'},\n",
    "         \n",
    "    \n",
    "             'B':{'B-naive', 'B-memory', 'B-Prolif', 'B-plasma', 'pro_B', 'late_pro_B', 'large_pre_B', 'small_pre_B','B_pro_pre'},\n",
    "             'Progenitors':{'CMP','GMP'},\n",
    "             'Myeloid':{'Promonocyte', 'Monocyte_CCR2', 'Monocyte_IL1B', 'Myelocyte','Neutrophil', 'Mast', 'RBC'},\n",
    "             'DC': {'DC1', 'DC1-Prolif', 'DC2', 'DC2-Prolif', 'pDC', 'pDC-Prolif', 'aDC1','aDC2','aDC3'},\n",
    "             'Macro':{'Macrophage-APOC2', 'Macrophage-LYVE1','Macrophage-SPIC1'},\n",
    "             'cTEC': {'cTECI', 'cTECII', 'cTECIII'},\n",
    "             'mTEC': {'mTECI', 'mTECI-trans', 'mTECII', 'mTECIII', 'mcTEC','mcTEC-Prolif', 'TEC-cilliated',\n",
    "                       'TEC-myo','TEC-neuro', 'TEC-tuft'},\n",
    "            'EC': {'EC-Art', 'EC-Art-ELN', 'EC-Cap', 'EC-Cap-Prolif','EC-Ven',\n",
    "                       'EC-Ven-ELN'},\n",
    "            'Lymph':{'EC-Lymphatic'},\n",
    "            'SMC':{'SMC'},\n",
    "            'Pericyte': {'Pericyte', 'Pericyte_CCL19', 'Pericyte_COL1A1', 'ProlifPericyte'},\n",
    "            'Fb': {'PeriloFb','PeriloFb-Prolif', 'InterloFb', 'InterloFb-COL9A3'},\n",
    "            'medFb': {'medFb', 'medFb-RGS5', 'medFB-MHCIIh'},\n",
    "            'fetFB': {'fetFB-CCL21', 'fetFB-NKX2-5', 'fetFB-RSPO2'},\n",
    "            'Mesothelium':{'Mesothelium'},\n",
    "            'Schwann': {'Schwann','nmSchwann'}\n",
    "            }\n",
    "\n",
    "adata_full.obs['cell_type_level_1'] = 'unassigned'\n",
    "adata_full.obs['cell_type_level_1'] = adata_full.obs['cell_type_level_1'].astype('object')\n",
    "for key, values in dict_anno_v1.items():\n",
    "    adata_full.obs.loc[adata_full.obs['cell_type_level_4'].isin(values), 'cell_type_level_1'] = key\n",
    "adata_full.obs['cell_type_level_1'] = adata_full.obs['cell_type_level_1'].astype('category')   "
   ]
  },
  {
   "cell_type": "code",
   "execution_count": 55,
   "id": "tropical-chicago",
   "metadata": {
    "scrolled": true,
    "tags": []
   },
   "outputs": [],
   "source": [
    "# lv 1 (level for fine spatial mapping)\n",
    "dict_anno_v0 = {\n",
    "        'FailQC':{'FailQC'},\n",
    "        'T': {'T_CD4','T_cycling','T_CD8','T_CD8-Prolif','T_CD8_memory','T_αβT(entry)','T_abT(entry)',\n",
    "                'T_Treg_CD8','T_Treg_mature','T_Treg_recirc','T_reg','T_reg(diff)-FOXP3Lo','T_reg(agonist)','T_reg(diff)-FOXP3hi',\n",
    "                'T_CD8αα(I)','T_CD8αα(II)','T_CD8αα(entry)','T_innate_type_1','T_innate_type_3','T_γδT','T_SP8or4','T_SP-HSP',\n",
    "                'T_DN(P)','T_DN(Q)','T_DN(Q)-CD99','T_DN(Q)-HSPH1','T_DN(Q)-early','T_DN(early)','T_ISP','T_NK_dev','T_NK','T_NK_fetal',\n",
    "                'T_DP(Q)','T_DP(Q)-CD99','T_DP(Q)-HSPH1','T_DP(Q)-early','T_DP(Q)-late_vdj','T_DP(P)'},\n",
    "    \n",
    "        'B':{'B-naive', 'B-memory', 'B-Prolif', 'B-plasma', 'pro_B', 'late_pro_B', 'large_pre_B', 'small_pre_B','B_pro_pre'},\n",
    "            \n",
    "        'Myeloid':{'CMP','GMP', 'Promonocyte', 'Monocyte_CCR2', 'Monocyte_IL1B', 'Myelocyte','Neutrophil', \n",
    "                'Mast', 'RBC','DC1', 'DC1-Prolif', 'DC2', 'DC2-Prolif', 'pDC', 'pDC-Prolif', 'aDC1',\n",
    "                'aDC2','aDC3', 'Macrophage-APOC2', 'Macrophage-LYVE1','Macrophage-SPIC1'},\n",
    "            \n",
    "        'TEC': {'cTECI', 'cTECII', 'cTECIII', 'mTECI', 'mTECI-trans', 'mTECII', 'mTECIII', 'mcTEC','mcTEC-Prolif', 'TEC-cilliated',\n",
    "                'TEC-myo','TEC-neuro', 'TEC-tuft'},\n",
    "            \n",
    "        'Vasculature': {'EC-Art', 'EC-Art-ELN', 'EC-Cap', 'EC-Cap-Prolif','EC-Ven','EC-Ven-ELN', \n",
    "                'EC-Lymphatic','SMC', 'Pericyte', 'Pericyte_CCL19', 'Pericyte_COL1A1', 'ProlifPericyte'},\n",
    "            \n",
    "        'Stroma & Schwann': {'PeriloFb','PeriloFb-Prolif', 'InterloFb', 'InterloFb-COL9A3', 'medFb', \n",
    "                       'medFb-RGS5', 'medFB-MHCIIh', 'fetFB-CCL21', 'fetFB-NKX2-5', 'fetFB-RSPO2', 'Mesothelium','Schwann','nmSchwann'}\n",
    "            }\n",
    "\n",
    "adata_full.obs['cell_type_level_0'] = 'unassigned'\n",
    "adata_full.obs['cell_type_level_0'] = adata_full.obs['cell_type_level_0'].astype('object')\n",
    "for key, values in dict_anno_v0.items():\n",
    "    adata_full.obs.loc[adata_full.obs['cell_type_level_4'].isin(values), 'cell_type_level_0'] = key\n",
    "adata_full.obs['cell_type_level_0'] = adata_full.obs['cell_type_level_0'].astype('category')   "
   ]
  },
  {
   "cell_type": "code",
   "execution_count": 56,
   "id": "sound-steering",
   "metadata": {},
   "outputs": [],
   "source": [
    "### didn't change after this line"
   ]
  },
  {
   "cell_type": "code",
   "execution_count": 57,
   "id": "differential-harmony",
   "metadata": {},
   "outputs": [
    {
     "data": {
      "text/plain": [
       "2    14004\n",
       "0        0\n",
       "1        0\n",
       "Name: assignment, dtype: int64"
      ]
     },
     "execution_count": 57,
     "metadata": {},
     "output_type": "execute_result"
    }
   ],
   "source": [
    "adata_full.obs['assignment'][adata_full.obs['donor']== 'Z6'].value_counts()"
   ]
  },
  {
   "cell_type": "code",
   "execution_count": 58,
   "id": "thousand-control",
   "metadata": {},
   "outputs": [
    {
     "data": {
      "text/plain": [
       "array(['F21', 'F23', 'F29', 'F30', 'F38', 'F41', 'F45', 'F64', 'F67',\n",
       "       'F83', 'P1', 'P3', 'T03', 'T06', 'T07', 'TSC-CT10', 'TSC-CT12',\n",
       "       'TSC-CT13', 'TSC-CT8', 'TSC-CT9', 'U09', 'U11', 'U40', 'U48',\n",
       "       'Z11', 'Z6', 'baut1', 'baut2', 'baut3', 'baut4', 'baut5', 'baut6',\n",
       "       'camp1'], dtype='<U8')"
      ]
     },
     "execution_count": 58,
     "metadata": {},
     "output_type": "execute_result"
    }
   ],
   "source": [
    "np.unique(adata_full.obs['donor'].tolist())"
   ]
  },
  {
   "cell_type": "code",
   "execution_count": 59,
   "id": "palestinian-output",
   "metadata": {},
   "outputs": [
    {
     "data": {
      "image/png": "[encoded data removed]",
      "text/plain": [
       "<Figure size 2202.64x160 with 1 Axes>"
      ]
     },
     "metadata": {
      "image/png": {
       "height": 164,
       "width": 1678
      },
      "needs_background": "light"
     },
     "output_type": "display_data"
    }
   ],
   "source": [
    "sc.set_figure_params(figsize=[20,2],fontsize=7)\n",
    "sc.pl.violin(adata_full,keys=['XIST'],groupby='donor')"
   ]
  },
  {
   "cell_type": "code",
   "execution_count": 4,
   "id": "prescribed-slave",
   "metadata": {},
   "outputs": [],
   "source": [
    "h5ad_file = ''\n",
    "\n",
    "adata_full = sc.read_h5ad(h5ad_file)\n",
    "# adata_full.write_h5ad(h5ad_file)\n"
   ]
  },
  {
   "cell_type": "code",
   "execution_count": 7,
   "id": "accompanied-nepal",
   "metadata": {},
   "outputs": [
    {
     "name": "stdout",
     "output_type": "stream",
     "text": [
      "changed: T_ISP to: T_ETP\n",
      "changed: T_DN(early) to: T_DN(early)\n",
      "changed: T_DN(P) to: T_DN(P)\n",
      "changed: T_DN(Q)-early to: T_DN(Q)-intermediate\n",
      "changed: T_DN(Q) to: T_DN(Q)\n",
      "changed: T_DN(Q)-CD99 to: T_DN(Q)-stress_1\n",
      "changed: T_DN(Q)-HSPH1 to: T_DN(Q)-stress_2\n",
      "changed: T_reg(agonist) to: T_Treg(agonist)\n",
      "changed: T_reg(diff)-FOXP3hi to: T_Treg-diff_2\n",
      "changed: T_Treg_recirc to: T_Treg_recirc\n",
      "changed: T_reg(diff)-FOXP3Lo to: T_Treg-diff_1\n",
      "changed: T_Treg_mature to: T_Treg_mature\n",
      "changed: T_Treg_CD8 to: T_Treg_CD8\n",
      "changed: T_reg to: T_Treg-intermediate\n",
      "changed: T_abT(entry) to: T_αβT(entry)\n"
     ]
    }
   ],
   "source": [
    "import pandas as pd\n",
    "\n",
    "mapping_dict = {\n",
    "    'T_ISP':'T_ETP',\n",
    "    'T_DN(early)': 'T_DN(early)',\n",
    "    'T_DN(P)':'T_DN(P)',\n",
    "    'T_DN(Q)-early': 'T_DN(Q)-intermediate',\n",
    "    'T_DN(Q)':'T_DN(Q)',\n",
    "    'T_DN(Q)-CD99':'T_DN(Q)-stress_1',\n",
    "    'T_DN(Q)-HSPH1': 'T_DN(Q)-stress_2',\n",
    "    'T_reg(agonist)':'T_Treg(agonist)',         \n",
    "    'T_reg(diff)-FOXP3hi':'T_Treg-diff_2',\n",
    "    'T_Treg_recirc':'T_Treg_recirc',          \n",
    "    'T_reg(diff)-FOXP3Lo':'T_Treg-diff_1',  \n",
    "    'T_Treg_mature':'T_Treg_mature' ,\n",
    "    'T_Treg_CD8':'T_Treg_CD8',              \n",
    "    'T_reg':'T_Treg-intermediate',     \n",
    "    'T_abT(entry)':'T_αβT(entry)'\n",
    "}\n",
    "\n",
    "anno_column = 'cell_type_level_4'\n",
    "\n",
    "adata_full.obs[anno_column] = adata_full.obs[anno_column].astype('object')\n",
    "\n",
    "for original, new in mapping_dict.items():\n",
    "    print(f'changed: {original} to: {new}')\n",
    "    adata_full.obs.loc[adata_full.obs[anno_column] == original, anno_column] = new\n",
    "\n",
    "adata_full.obs[anno_column] = adata_full.obs[anno_column].astype('category')\n",
    "\n",
    "original_categories = adata_full.obs[anno_column].cat.categories\n",
    "new_categories = [mapping_dict[cat] if cat in mapping_dict else cat for cat in original_categories]\n",
    "\n",
    "for cat in mapping_dict.values():\n",
    "    if cat not in new_categories:\n",
    "        new_categories.append(cat)\n",
    "\n",
    "adata_full.obs[anno_column] = pd.Categorical(adata_full.obs[anno_column], categories=new_categories)\n",
    "adata_full.obs[anno_column] = adata_full.obs[anno_column].cat.reorder_categories(new_categories)"
   ]
  },
  {
   "cell_type": "code",
   "execution_count": 8,
   "id": "earlier-hundred",
   "metadata": {},
   "outputs": [],
   "source": [
    "adata_full.write_h5ad(h5ad_file)"
   ]
  },
  {
   "cell_type": "code",
   "execution_count": 61,
   "id": "consolidated-vulnerability",
   "metadata": {},
   "outputs": [
    {
     "data": {
      "text/plain": [
       "View of AnnData object with n_obs × n_vars = 498018 × 36751\n",
       "    obs: 'n_genes', 'sample_barcode', 'batch', 'chemistry', 'age_group', 'age_numeric', 'sampleID_TCRab', 'path_TCRab', 'type', 'study', 'sample', 'enrichment', 'doublet_score', 'predicted_doublet', 'n_genes_by_counts', 'total_counts', 'total_counts_mt', 'pct_counts_mt', 'total_counts_ribo', 'pct_counts_ribo', 'total_counts_hb', 'pct_counts_hb', 'percent_mt2', 'n_counts', 'barcode_sequence', 'log1p_n_genes_by_counts', 'log1p_total_counts', 'log1p_total_counts_mt', 'status', 'assignment', 'log_prob_singleton', 'log_prob_doublet', 'louvian_1', 'louvian_05', 'latent_cell_probability', 'latent_RT_efficiency', 'log1p_n_counts', 'log1p_n_genes', 'percent_mito', 'n_counts_mito', 'percent_ribo', 'n_counts_ribo', 'percent_hb', 'n_counts_hb', 'percent_top50', 'n_counts_raw', 'log1p_n_counts_raw', 'n_genes_raw', 'log1p_n_genes_raw', 'percent_mito_raw', 'n_counts_mito_raw', 'percent_ribo_raw', 'n_counts_ribo_raw', 'percent_hb_raw', 'n_counts_hb_raw', 'percent_top50_raw', 'n_counts_spliced', 'log1p_n_counts_spliced', 'n_genes_spliced', 'log1p_n_genes_spliced', 'percent_mito_spliced', 'n_counts_mito_spliced', 'percent_ribo_spliced', 'n_counts_ribo_spliced', 'percent_hb_spliced', 'n_counts_hb_spliced', 'percent_top50_spliced', 'n_counts_unspliced', 'log1p_n_counts_unspliced', 'n_genes_unspliced', 'log1p_n_genes_unspliced', 'percent_mito_unspliced', 'n_counts_mito_unspliced', 'percent_ribo_unspliced', 'n_counts_ribo_unspliced', 'percent_hb_unspliced', 'n_counts_hb_unspliced', 'percent_top50_unspliced', 'percent_soup', 'percent_spliced', 'scrublet_score', 'scrublet_score_z', 'cluster_scrublet_score', 'bh_pval', 'scrublet_done', 'ctp_pred', 'ctp_pred_prob', 'ctp_pred_uncertain', 'qc_cluster', 'pass_auto_filter_mito20', 'good_qc_cluster_mito20', 'pass_default', 'mapping_anno_v2', 'Enzyme', 'Med_nFeature', 'Sample', 'SampleID_BCR', 'SampleID_TCRab', 'SampleID_TCRgd', 'sub_clusters', 'mapping_anno_v3', 'mapping_anno_v4', 'annotation_level_0', 'chemistry_simple', 'level_CD25', 'level_CD45RA', 'level_FOXP3', 'level_CD39', 'level_CD69', 'CITE_anno_v1', 'louvain_6', 'louvain_10', 'pct_counts_ribo-1', 'mapping_anno_v3_clean', 'louvain_20', 'Study_group', 'louvain_1', 'louvain_03', 'keep_0', 'has_contig', 'clone_id', 'clone_id_by_size', 'locus_VDJ', 'locus_VJ', 'productive_VDJ', 'productive_VJ', 'v_call_VDJ', 'd_call_VDJ', 'j_call_VDJ', 'v_call_VJ', 'j_call_VJ', 'c_call_VDJ', 'c_call_VJ', 'junction_VDJ', 'junction_VJ', 'junction_aa_VDJ', 'junction_aa_VJ', 'v_call_abT_VDJ', 'd_call_abT_VDJ', 'j_call_abT_VDJ', 'v_call_abT_VJ', 'j_call_abT_VJ', 'c_call_abT_VDJ', 'c_call_abT_VJ', 'productive_abT_VDJ', 'productive_abT_VJ', 'duplicate_count_abT_VDJ', 'duplicate_count_abT_VJ', 'v_call_VDJ_main', 'v_call_VJ_main', 'd_call_VDJ_main', 'j_call_VDJ_main', 'j_call_VJ_main', 'c_call_VDJ_main', 'c_call_VJ_main', 'v_call_abT_VDJ_main', 'd_call_abT_VDJ_main', 'j_call_abT_VDJ_main', 'v_call_abT_VJ_main', 'j_call_abT_VJ_main', 'isotype', 'isotype_status', 'locus_status', 'chain_status', 'rearrangement_status_VDJ', 'rearrangement_status_VJ', 'nhood_ixs_random', 'nhood_ixs_refined', 'nhood_kth_distance', 'pseudotime_nhood_vdj', 'prob_CD8+T_nhood_vdj', 'prob_CD4+T_nhood_vdj', 'backup_barcode', 'nCount_ADT', 'nFeature_ADT', 'orig.ident', 'nCount_RNA', 'nFeature_RNA', 'samples', 'ID', 'DOB', 'age_days', 'age_months', 'sex', 'percent.mt', 'percent.rb', 'T_Lineage_level_1', 'donor', 'validated_doublet', 'annotation_level_4', 'annotation_level_1', 'annotation_level_2', 'annotation_level_3', 'pred_pseudotime_nhood_vdj', 'pred_prob_T_CD4_nhood_vdj', 'pred_prob_T_CD8_nhood_vdj', 'park_2020_cell_type', 'panfetal_2022_cell_type', 'anno_CITE_4v5', 'cell_type_level_4', 'cell_type_level_3', 'cell_type_level_2', 'cell_type_level_1', 'cell_type_level_0'\n",
       "    var: 'cite'\n",
       "    uns: 'DonorID_colors', 'T_Lineage_level_1_colors', 'anno_CITE_4v5_colors', 'annotation_level_5_colors', 'chain_status_colors', 'donor_colors', 'louvain', 'louvian_05_colors', 'louvian_1_colors', 'mapping_anno_v3_colors', 'neighbors', 'panfetal_2022_cell_type_colors', 'park_2020_cell_type_colors', 'pred_pseudotime_nhood_vdj_colors', 'umap', 'validated_doublet_colors', 'cell_type_level_4_colors'\n",
       "    obsm: 'X_scVI', 'X_umap'\n",
       "    obsp: 'connectivities', 'distances'"
      ]
     },
     "execution_count": 61,
     "metadata": {},
     "output_type": "execute_result"
    }
   ],
   "source": [
    "adata_post_QC = adata_full[adata_full.obs['cell_type_level_0']!='FailQC']\n",
    "adata_post_QC"
   ]
  },
  {
   "cell_type": "code",
   "execution_count": 63,
   "id": "infectious-quality",
   "metadata": {
    "tags": []
   },
   "outputs": [],
   "source": [
    "h5ad_file = ''\n",
    "# adata_full = sc.read_h5ad(h5ad_file)\n",
    "adata_post_QC.write_h5ad(h5ad_file)"
   ]
  },
  {
   "cell_type": "code",
   "execution_count": 4,
   "id": "complimentary-transportation",
   "metadata": {},
   "outputs": [],
   "source": [
    "h5ad_file = ''\n",
    "adata_post_QC = sc.read_h5ad(h5ad_file)\n",
    "# adata_post_QC.write_h5ad(h5ad_file)"
   ]
  },
  {
   "cell_type": "code",
   "execution_count": 6,
   "id": "721f0b71-86c7-4fe9-ab22-3e9bc2655cec",
   "metadata": {},
   "outputs": [],
   "source": [
    "import pandas as pd\n",
    "\n",
    "mapping_dict = {\n",
    "    'T_ISP':'T_ETP',\n",
    "    'T_DN(early)': 'T_DN(early)',\n",
    "    'T_DN(P)':'T_DN(P)',\n",
    "    'T_DN(Q)-early': 'T_DN(Q)-intermediate',\n",
    "    'T_DN(Q)':'T_DN(Q)',\n",
    "    'T_DN(Q)-CD99':'T_DN(Q)-stress_1',\n",
    "    'T_DN(Q)-HSPH1': 'T_DN(Q)-stress_2',\n",
    "    'T_reg(agonist)':'T_Treg(agonist)',         \n",
    "    'T_reg(diff)-FOXP3hi':'T_Treg-diff_2',\n",
    "    'T_Treg_recirc':'T_Treg_recirc',          \n",
    "    'T_reg(diff)-FOXP3Lo':'T_Treg-diff_1',  \n",
    "    'T_Treg_mature':'T_Treg_mature' ,\n",
    "    'T_Treg_CD8':'T_Treg_CD8',              \n",
    "    'T_reg':'T_Treg-intermediate',     \n",
    "    'T_abT(entry)':'T_αβT(entry)'\n",
    "}\n",
    "\n",
    "anno_column = 'cell_type_level_4'\n",
    "\n",
    "adata_post_QC.obs[anno_column] = adata_post_QC.obs[anno_column].astype('object')\n",
    "\n",
    "for original, new in mapping_dict.items():\n",
    "    print(f'changed: {original} to: {new}')\n",
    "    adata_post_QC.obs.loc[adata_post_QC.obs[anno_column] == original, anno_column] = new\n",
    "\n",
    "adata_post_QC.obs[anno_column] = adata_post_QC.obs[anno_column].astype('category')\n",
    "\n",
    "original_categories = adata_post_QC.obs[anno_column].cat.categories\n",
    "new_categories = [mapping_dict[cat] if cat in mapping_dict else cat for cat in original_categories]\n",
    "\n",
    "for cat in mapping_dict.values():\n",
    "    if cat not in new_categories:\n",
    "        new_categories.append(cat)\n",
    "\n",
    "adata_post_QC.obs[anno_column] = pd.Categorical(adata_post_QC.obs[anno_column], categories=new_categories)\n",
    "adata_post_QC.obs[anno_column] = adata_post_QC.obs[anno_column].cat.reorder_categories(new_categories)"
   ]
  },
  {
   "cell_type": "code",
   "execution_count": 6,
   "id": "30b19cb3-d482-4668-8c6c-27ed579165f6",
   "metadata": {},
   "outputs": [
    {
     "name": "stdout",
     "output_type": "stream",
     "text": [
      "changed: T_abT(entry) to: T_αβT(entry)\n"
     ]
    }
   ],
   "source": [
    "adata_post_QC.write_h5ad('')"
   ]
  }
 ],
 "metadata": {
  "environment": {
   "name": "common-cu110.m80",
   "type": "gcloud",
   "uri": "gcr.io/deeplearning-platform-release/base-cu110:m80"
  },
  "kernelspec": {
   "display_name": "imagespot",
   "language": "python",
   "name": "imagespot"
  },
  "language_info": {
   "codemirror_mode": {
    "name": "ipython",
    "version": 3
   },
   "file_extension": ".py",
   "mimetype": "text/x-python",
   "name": "python",
   "nbconvert_exporter": "python",
   "pygments_lexer": "ipython3",
   "version": "3.9.12"
  }
 },
 "nbformat": 4,
 "nbformat_minor": 5
}
